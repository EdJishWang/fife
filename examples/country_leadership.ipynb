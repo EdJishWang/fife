{
 "cells": [
  {
   "cell_type": "markdown",
   "metadata": {},
   "source": [
    "This notebook demonstrates the Finite-Interval Forecasting Engine (FIFE).\n",
    "\n",
    "FIFE is a Python package developed by the Institute for Defense Analyses in a research partnership with the U.S. Office of the Undersecretary of Defense for Personnel and Readiness.\n",
    "\n",
    "FIFE applies state-of-the-art forecasting methods to [panel data](https://en.wikipedia.org/wiki/Panel_data). A panel dataset contains periodic observations of subjects. In a given period, subjects may enter or exit the panel; subjects that do not exit survive to be observed in later periods. FIFE can forecast subject-specific probabilities of survival, future states of survival, and circumstances of exit for each future period up to a given or inferred maximum time horizon.\n",
    "\n",
    "In this example we forecast when each leader of the world's countries will lose power. To skip past how FIFE works to what FIFE can produce, see the [Forecasts section](#Forecasts).\n",
    "\n",
    "There are many aspects of FIFE that this example does not cover; you can read about those aspects in [FIFE's documentation](https://fife.readthedocs.io/en/latest/).\n",
    "\n",
    "We start by importing the objects we'll be using."
   ]
  },
  {
   "cell_type": "code",
   "execution_count": 1,
   "metadata": {
    "scrolled": true
   },
   "outputs": [],
   "source": [
    "from fife.lgb_modelers import LGBSurvivalModeler\n",
    "from fife.processors import PanelDataProcessor\n",
    "from fife.utils import make_results_reproducible\n",
    "from pandas import concat, date_range, read_csv, to_datetime"
   ]
  },
  {
   "cell_type": "markdown",
   "metadata": {},
   "source": [
    "The following makes sure we get the same results each time we execute this code from top to bottom."
   ]
  },
  {
   "cell_type": "code",
   "execution_count": 2,
   "metadata": {
    "scrolled": true
   },
   "outputs": [],
   "source": [
    "SEED = 9999\n",
    "make_results_reproducible(SEED)"
   ]
  },
  {
   "cell_type": "markdown",
   "metadata": {},
   "source": [
    "We use the July 2020 edition of the [Rulers, Elections, and Irregular Governance dataset (REIGN)](https://oefdatascience.github.io/REIGN.github.io/), a monthly panel of national leaders and political conditions since January 1950. We load the REIGN data directly from its online archive. If you plan to execute this notebook repeatedly, please avoid spamming the REIGN archive with requests by saving the data locally, then changing the file path in the cell below to your local path."
   ]
  },
  {
   "cell_type": "code",
   "execution_count": 3,
   "metadata": {},
   "outputs": [
    {
     "data": {
      "text/html": [
       "<div>\n",
       "<style scoped>\n",
       "    .dataframe tbody tr th:only-of-type {\n",
       "        vertical-align: middle;\n",
       "    }\n",
       "\n",
       "    .dataframe tbody tr th {\n",
       "        vertical-align: top;\n",
       "    }\n",
       "\n",
       "    .dataframe thead th {\n",
       "        text-align: right;\n",
       "    }\n",
       "</style>\n",
       "<table border=\"1\" class=\"dataframe\">\n",
       "  <thead>\n",
       "    <tr style=\"text-align: right;\">\n",
       "      <th></th>\n",
       "      <th>ccode</th>\n",
       "      <th>country</th>\n",
       "      <th>leader</th>\n",
       "      <th>year</th>\n",
       "      <th>month</th>\n",
       "      <th>elected</th>\n",
       "      <th>age</th>\n",
       "      <th>male</th>\n",
       "      <th>militarycareer</th>\n",
       "      <th>tenure_months</th>\n",
       "      <th>...</th>\n",
       "      <th>delayed</th>\n",
       "      <th>lastelection</th>\n",
       "      <th>loss</th>\n",
       "      <th>irregular</th>\n",
       "      <th>prev_conflict</th>\n",
       "      <th>pt_suc</th>\n",
       "      <th>pt_attempt</th>\n",
       "      <th>precip</th>\n",
       "      <th>couprisk</th>\n",
       "      <th>pctile_risk</th>\n",
       "    </tr>\n",
       "  </thead>\n",
       "  <tbody>\n",
       "    <tr>\n",
       "      <th>0</th>\n",
       "      <td>2.0</td>\n",
       "      <td>USA</td>\n",
       "      <td>Truman</td>\n",
       "      <td>1950.0</td>\n",
       "      <td>1.0</td>\n",
       "      <td>1.0</td>\n",
       "      <td>66.0</td>\n",
       "      <td>1</td>\n",
       "      <td>0.0</td>\n",
       "      <td>58.0</td>\n",
       "      <td>...</td>\n",
       "      <td>0.0</td>\n",
       "      <td>2.639057</td>\n",
       "      <td>5.327876</td>\n",
       "      <td>7.565793</td>\n",
       "      <td>0.0</td>\n",
       "      <td>0.0</td>\n",
       "      <td>0.0</td>\n",
       "      <td>-0.069058</td>\n",
       "      <td>NaN</td>\n",
       "      <td>NaN</td>\n",
       "    </tr>\n",
       "    <tr>\n",
       "      <th>1</th>\n",
       "      <td>2.0</td>\n",
       "      <td>USA</td>\n",
       "      <td>Truman</td>\n",
       "      <td>1950.0</td>\n",
       "      <td>2.0</td>\n",
       "      <td>1.0</td>\n",
       "      <td>66.0</td>\n",
       "      <td>1</td>\n",
       "      <td>0.0</td>\n",
       "      <td>59.0</td>\n",
       "      <td>...</td>\n",
       "      <td>0.0</td>\n",
       "      <td>2.708050</td>\n",
       "      <td>5.332719</td>\n",
       "      <td>7.566311</td>\n",
       "      <td>0.0</td>\n",
       "      <td>0.0</td>\n",
       "      <td>0.0</td>\n",
       "      <td>-0.113721</td>\n",
       "      <td>NaN</td>\n",
       "      <td>NaN</td>\n",
       "    </tr>\n",
       "    <tr>\n",
       "      <th>2</th>\n",
       "      <td>2.0</td>\n",
       "      <td>USA</td>\n",
       "      <td>Truman</td>\n",
       "      <td>1950.0</td>\n",
       "      <td>3.0</td>\n",
       "      <td>1.0</td>\n",
       "      <td>66.0</td>\n",
       "      <td>1</td>\n",
       "      <td>0.0</td>\n",
       "      <td>60.0</td>\n",
       "      <td>...</td>\n",
       "      <td>0.0</td>\n",
       "      <td>2.772589</td>\n",
       "      <td>5.337538</td>\n",
       "      <td>7.566829</td>\n",
       "      <td>0.0</td>\n",
       "      <td>0.0</td>\n",
       "      <td>0.0</td>\n",
       "      <td>-0.108042</td>\n",
       "      <td>NaN</td>\n",
       "      <td>NaN</td>\n",
       "    </tr>\n",
       "    <tr>\n",
       "      <th>3</th>\n",
       "      <td>2.0</td>\n",
       "      <td>USA</td>\n",
       "      <td>Truman</td>\n",
       "      <td>1950.0</td>\n",
       "      <td>4.0</td>\n",
       "      <td>1.0</td>\n",
       "      <td>66.0</td>\n",
       "      <td>1</td>\n",
       "      <td>0.0</td>\n",
       "      <td>61.0</td>\n",
       "      <td>...</td>\n",
       "      <td>0.0</td>\n",
       "      <td>2.833213</td>\n",
       "      <td>5.342334</td>\n",
       "      <td>7.567346</td>\n",
       "      <td>0.0</td>\n",
       "      <td>0.0</td>\n",
       "      <td>0.0</td>\n",
       "      <td>-0.041600</td>\n",
       "      <td>NaN</td>\n",
       "      <td>NaN</td>\n",
       "    </tr>\n",
       "    <tr>\n",
       "      <th>4</th>\n",
       "      <td>2.0</td>\n",
       "      <td>USA</td>\n",
       "      <td>Truman</td>\n",
       "      <td>1950.0</td>\n",
       "      <td>5.0</td>\n",
       "      <td>1.0</td>\n",
       "      <td>66.0</td>\n",
       "      <td>1</td>\n",
       "      <td>0.0</td>\n",
       "      <td>62.0</td>\n",
       "      <td>...</td>\n",
       "      <td>0.0</td>\n",
       "      <td>2.890372</td>\n",
       "      <td>5.347107</td>\n",
       "      <td>7.567863</td>\n",
       "      <td>0.0</td>\n",
       "      <td>0.0</td>\n",
       "      <td>0.0</td>\n",
       "      <td>-0.129703</td>\n",
       "      <td>NaN</td>\n",
       "      <td>NaN</td>\n",
       "    </tr>\n",
       "  </tbody>\n",
       "</table>\n",
       "<p>5 rows × 38 columns</p>\n",
       "</div>"
      ],
      "text/plain": [
       "   ccode country  leader    year  month  elected   age  male  militarycareer  \\\n",
       "0    2.0     USA  Truman  1950.0    1.0      1.0  66.0     1             0.0   \n",
       "1    2.0     USA  Truman  1950.0    2.0      1.0  66.0     1             0.0   \n",
       "2    2.0     USA  Truman  1950.0    3.0      1.0  66.0     1             0.0   \n",
       "3    2.0     USA  Truman  1950.0    4.0      1.0  66.0     1             0.0   \n",
       "4    2.0     USA  Truman  1950.0    5.0      1.0  66.0     1             0.0   \n",
       "\n",
       "   tenure_months  ... delayed  lastelection      loss  irregular  \\\n",
       "0           58.0  ...     0.0      2.639057  5.327876   7.565793   \n",
       "1           59.0  ...     0.0      2.708050  5.332719   7.566311   \n",
       "2           60.0  ...     0.0      2.772589  5.337538   7.566829   \n",
       "3           61.0  ...     0.0      2.833213  5.342334   7.567346   \n",
       "4           62.0  ...     0.0      2.890372  5.347107   7.567863   \n",
       "\n",
       "   prev_conflict  pt_suc  pt_attempt    precip  couprisk  pctile_risk  \n",
       "0            0.0     0.0         0.0 -0.069058       NaN          NaN  \n",
       "1            0.0     0.0         0.0 -0.113721       NaN          NaN  \n",
       "2            0.0     0.0         0.0 -0.108042       NaN          NaN  \n",
       "3            0.0     0.0         0.0 -0.041600       NaN          NaN  \n",
       "4            0.0     0.0         0.0 -0.129703       NaN          NaN  \n",
       "\n",
       "[5 rows x 38 columns]"
      ]
     },
     "execution_count": 3,
     "metadata": {},
     "output_type": "execute_result"
    }
   ],
   "source": [
    "data = read_csv(\"https://www.dl.dropboxusercontent.com/s/3tdswu2jfgwp4xw/REIGN_2020_7.csv?dl=0\")\n",
    "data.head()"
   ]
  },
  {
   "cell_type": "markdown",
   "metadata": {},
   "source": [
    "The data need only minimal pre-processing to be ready for FIFE. Panel data are defined by two identifiers: individual and time. In the REIGN data, we can identify an individual by their name and the country they lead. We can identify time by year and month. FIFE will automatically infer the individual and time identifiers as the two left-most columns in the data, so we rearrange the columns accordingly. Along the way we drop the redundant columns `ccode` (a numeric code for country) and `leader`."
   ]
  },
  {
   "cell_type": "code",
   "execution_count": 4,
   "metadata": {},
   "outputs": [
    {
     "data": {
      "text/html": [
       "<div>\n",
       "<style scoped>\n",
       "    .dataframe tbody tr th:only-of-type {\n",
       "        vertical-align: middle;\n",
       "    }\n",
       "\n",
       "    .dataframe tbody tr th {\n",
       "        vertical-align: top;\n",
       "    }\n",
       "\n",
       "    .dataframe thead th {\n",
       "        text-align: right;\n",
       "    }\n",
       "</style>\n",
       "<table border=\"1\" class=\"dataframe\">\n",
       "  <thead>\n",
       "    <tr style=\"text-align: right;\">\n",
       "      <th></th>\n",
       "      <th>country-leader</th>\n",
       "      <th>year-month</th>\n",
       "      <th>country</th>\n",
       "      <th>year</th>\n",
       "      <th>month</th>\n",
       "      <th>elected</th>\n",
       "      <th>age</th>\n",
       "      <th>male</th>\n",
       "      <th>militarycareer</th>\n",
       "      <th>tenure_months</th>\n",
       "      <th>...</th>\n",
       "      <th>delayed</th>\n",
       "      <th>lastelection</th>\n",
       "      <th>loss</th>\n",
       "      <th>irregular</th>\n",
       "      <th>prev_conflict</th>\n",
       "      <th>pt_suc</th>\n",
       "      <th>pt_attempt</th>\n",
       "      <th>precip</th>\n",
       "      <th>couprisk</th>\n",
       "      <th>pctile_risk</th>\n",
       "    </tr>\n",
       "  </thead>\n",
       "  <tbody>\n",
       "    <tr>\n",
       "      <th>0</th>\n",
       "      <td>USA: Truman</td>\n",
       "      <td>1950-01-01</td>\n",
       "      <td>USA</td>\n",
       "      <td>1950.0</td>\n",
       "      <td>1.0</td>\n",
       "      <td>1.0</td>\n",
       "      <td>66.0</td>\n",
       "      <td>1</td>\n",
       "      <td>0.0</td>\n",
       "      <td>58.0</td>\n",
       "      <td>...</td>\n",
       "      <td>0.0</td>\n",
       "      <td>2.639057</td>\n",
       "      <td>5.327876</td>\n",
       "      <td>7.565793</td>\n",
       "      <td>0.0</td>\n",
       "      <td>0.0</td>\n",
       "      <td>0.0</td>\n",
       "      <td>-0.069058</td>\n",
       "      <td>NaN</td>\n",
       "      <td>NaN</td>\n",
       "    </tr>\n",
       "    <tr>\n",
       "      <th>1</th>\n",
       "      <td>USA: Truman</td>\n",
       "      <td>1950-02-01</td>\n",
       "      <td>USA</td>\n",
       "      <td>1950.0</td>\n",
       "      <td>2.0</td>\n",
       "      <td>1.0</td>\n",
       "      <td>66.0</td>\n",
       "      <td>1</td>\n",
       "      <td>0.0</td>\n",
       "      <td>59.0</td>\n",
       "      <td>...</td>\n",
       "      <td>0.0</td>\n",
       "      <td>2.708050</td>\n",
       "      <td>5.332719</td>\n",
       "      <td>7.566311</td>\n",
       "      <td>0.0</td>\n",
       "      <td>0.0</td>\n",
       "      <td>0.0</td>\n",
       "      <td>-0.113721</td>\n",
       "      <td>NaN</td>\n",
       "      <td>NaN</td>\n",
       "    </tr>\n",
       "    <tr>\n",
       "      <th>2</th>\n",
       "      <td>USA: Truman</td>\n",
       "      <td>1950-03-01</td>\n",
       "      <td>USA</td>\n",
       "      <td>1950.0</td>\n",
       "      <td>3.0</td>\n",
       "      <td>1.0</td>\n",
       "      <td>66.0</td>\n",
       "      <td>1</td>\n",
       "      <td>0.0</td>\n",
       "      <td>60.0</td>\n",
       "      <td>...</td>\n",
       "      <td>0.0</td>\n",
       "      <td>2.772589</td>\n",
       "      <td>5.337538</td>\n",
       "      <td>7.566829</td>\n",
       "      <td>0.0</td>\n",
       "      <td>0.0</td>\n",
       "      <td>0.0</td>\n",
       "      <td>-0.108042</td>\n",
       "      <td>NaN</td>\n",
       "      <td>NaN</td>\n",
       "    </tr>\n",
       "    <tr>\n",
       "      <th>3</th>\n",
       "      <td>USA: Truman</td>\n",
       "      <td>1950-04-01</td>\n",
       "      <td>USA</td>\n",
       "      <td>1950.0</td>\n",
       "      <td>4.0</td>\n",
       "      <td>1.0</td>\n",
       "      <td>66.0</td>\n",
       "      <td>1</td>\n",
       "      <td>0.0</td>\n",
       "      <td>61.0</td>\n",
       "      <td>...</td>\n",
       "      <td>0.0</td>\n",
       "      <td>2.833213</td>\n",
       "      <td>5.342334</td>\n",
       "      <td>7.567346</td>\n",
       "      <td>0.0</td>\n",
       "      <td>0.0</td>\n",
       "      <td>0.0</td>\n",
       "      <td>-0.041600</td>\n",
       "      <td>NaN</td>\n",
       "      <td>NaN</td>\n",
       "    </tr>\n",
       "    <tr>\n",
       "      <th>4</th>\n",
       "      <td>USA: Truman</td>\n",
       "      <td>1950-05-01</td>\n",
       "      <td>USA</td>\n",
       "      <td>1950.0</td>\n",
       "      <td>5.0</td>\n",
       "      <td>1.0</td>\n",
       "      <td>66.0</td>\n",
       "      <td>1</td>\n",
       "      <td>0.0</td>\n",
       "      <td>62.0</td>\n",
       "      <td>...</td>\n",
       "      <td>0.0</td>\n",
       "      <td>2.890372</td>\n",
       "      <td>5.347107</td>\n",
       "      <td>7.567863</td>\n",
       "      <td>0.0</td>\n",
       "      <td>0.0</td>\n",
       "      <td>0.0</td>\n",
       "      <td>-0.129703</td>\n",
       "      <td>NaN</td>\n",
       "      <td>NaN</td>\n",
       "    </tr>\n",
       "  </tbody>\n",
       "</table>\n",
       "<p>5 rows × 38 columns</p>\n",
       "</div>"
      ],
      "text/plain": [
       "  country-leader year-month country    year  month  elected   age  male  \\\n",
       "0    USA: Truman 1950-01-01     USA  1950.0    1.0      1.0  66.0     1   \n",
       "1    USA: Truman 1950-02-01     USA  1950.0    2.0      1.0  66.0     1   \n",
       "2    USA: Truman 1950-03-01     USA  1950.0    3.0      1.0  66.0     1   \n",
       "3    USA: Truman 1950-04-01     USA  1950.0    4.0      1.0  66.0     1   \n",
       "4    USA: Truman 1950-05-01     USA  1950.0    5.0      1.0  66.0     1   \n",
       "\n",
       "   militarycareer  tenure_months  ... delayed  lastelection      loss  \\\n",
       "0             0.0           58.0  ...     0.0      2.639057  5.327876   \n",
       "1             0.0           59.0  ...     0.0      2.708050  5.332719   \n",
       "2             0.0           60.0  ...     0.0      2.772589  5.337538   \n",
       "3             0.0           61.0  ...     0.0      2.833213  5.342334   \n",
       "4             0.0           62.0  ...     0.0      2.890372  5.347107   \n",
       "\n",
       "   irregular  prev_conflict  pt_suc  pt_attempt    precip  couprisk  \\\n",
       "0   7.565793            0.0     0.0         0.0 -0.069058       NaN   \n",
       "1   7.566311            0.0     0.0         0.0 -0.113721       NaN   \n",
       "2   7.566829            0.0     0.0         0.0 -0.108042       NaN   \n",
       "3   7.567346            0.0     0.0         0.0 -0.041600       NaN   \n",
       "4   7.567863            0.0     0.0         0.0 -0.129703       NaN   \n",
       "\n",
       "   pctile_risk  \n",
       "0          NaN  \n",
       "1          NaN  \n",
       "2          NaN  \n",
       "3          NaN  \n",
       "4          NaN  \n",
       "\n",
       "[5 rows x 38 columns]"
      ]
     },
     "execution_count": 4,
     "metadata": {},
     "output_type": "execute_result"
    }
   ],
   "source": [
    "data[\"country-leader\"] = data[\"country\"] + \": \" + data[\"leader\"]\n",
    "data[\"year-month\"] = data[\"year\"].astype(int).astype(str) + data[\"month\"].astype(int).astype(str).str.zfill(2)\n",
    "data[\"year-month\"] = to_datetime(data[\"year-month\"], format=\"%Y%m\")\n",
    "data = concat([data[[\"country-leader\", \"year-month\"]],\n",
    "               data.drop([\"ccode\", \"country-leader\", \"leader\", \"year-month\"],\n",
    "                         axis=1)],\n",
    "               axis=1)\n",
    "data.head()"
   ]
  },
  {
   "cell_type": "markdown",
   "metadata": {},
   "source": [
    "By definition, each unique pair of identifier values identifies a single observation. REIGN contains a few violations of this definition, due to leaders losing and regaining power in a given month. We keep only the first observation of a given leader in a given month, thereby ignoring intra-month lapses in power."
   ]
  },
  {
   "cell_type": "code",
   "execution_count": 5,
   "metadata": {},
   "outputs": [
    {
     "name": "stdout",
     "output_type": "stream",
     "text": [
      "7 observations with a duplicated identifier pair deleted.\n"
     ]
    }
   ],
   "source": [
    "total_obs = len(data)\n",
    "data = data.drop_duplicates([\"country-leader\", \"year-month\"], keep=\"first\")\n",
    "n_duplicates = total_obs - len(data)\n",
    "print(f\"{n_duplicates} observations with a duplicated identifier pair deleted.\")"
   ]
  },
  {
   "cell_type": "markdown",
   "metadata": {},
   "source": [
    "FIFE's PanelDataProcessor does the rest of our data processing for us, including identifying which features are categorical, computing which leadership spells ended and when, and reserving a random 25% of leaders for model validation."
   ]
  },
  {
   "cell_type": "code",
   "execution_count": 6,
   "metadata": {},
   "outputs": [
    {
     "name": "stdout",
     "output_type": "stream",
     "text": [
      "Time identifier column name not given; assumed to be second-leftmost column (year-month)\n",
      "Individual identifier column name not given; assumed to be leftmost column (country-leader)\n"
     ]
    },
    {
     "data": {
      "text/html": [
       "<div>\n",
       "<style scoped>\n",
       "    .dataframe tbody tr th:only-of-type {\n",
       "        vertical-align: middle;\n",
       "    }\n",
       "\n",
       "    .dataframe tbody tr th {\n",
       "        vertical-align: top;\n",
       "    }\n",
       "\n",
       "    .dataframe thead th {\n",
       "        text-align: right;\n",
       "    }\n",
       "</style>\n",
       "<table border=\"1\" class=\"dataframe\">\n",
       "  <thead>\n",
       "    <tr style=\"text-align: right;\">\n",
       "      <th></th>\n",
       "      <th>country-leader</th>\n",
       "      <th>year-month</th>\n",
       "      <th>country</th>\n",
       "      <th>year</th>\n",
       "      <th>month</th>\n",
       "      <th>elected</th>\n",
       "      <th>age</th>\n",
       "      <th>male</th>\n",
       "      <th>militarycareer</th>\n",
       "      <th>tenure_months</th>\n",
       "      <th>...</th>\n",
       "      <th>precip</th>\n",
       "      <th>couprisk</th>\n",
       "      <th>pctile_risk</th>\n",
       "      <th>_period</th>\n",
       "      <th>_predict_obs</th>\n",
       "      <th>_test</th>\n",
       "      <th>_validation</th>\n",
       "      <th>_maximum_lead</th>\n",
       "      <th>_duration</th>\n",
       "      <th>_event_observed</th>\n",
       "    </tr>\n",
       "  </thead>\n",
       "  <tbody>\n",
       "    <tr>\n",
       "      <th>0</th>\n",
       "      <td>Afghanistan: Abdallah Yakta</td>\n",
       "      <td>1967-10-01</td>\n",
       "      <td>Afghanistan</td>\n",
       "      <td>1967</td>\n",
       "      <td>10</td>\n",
       "      <td>0</td>\n",
       "      <td>53</td>\n",
       "      <td>1</td>\n",
       "      <td>0</td>\n",
       "      <td>1</td>\n",
       "      <td>...</td>\n",
       "      <td>0.018704</td>\n",
       "      <td>NaN</td>\n",
       "      <td>NaN</td>\n",
       "      <td>213</td>\n",
       "      <td>False</td>\n",
       "      <td>False</td>\n",
       "      <td>False</td>\n",
       "      <td>633</td>\n",
       "      <td>1</td>\n",
       "      <td>True</td>\n",
       "    </tr>\n",
       "    <tr>\n",
       "      <th>1</th>\n",
       "      <td>Afghanistan: Abdallah Yakta</td>\n",
       "      <td>1967-11-01</td>\n",
       "      <td>Afghanistan</td>\n",
       "      <td>1967</td>\n",
       "      <td>11</td>\n",
       "      <td>0</td>\n",
       "      <td>53</td>\n",
       "      <td>1</td>\n",
       "      <td>0</td>\n",
       "      <td>2</td>\n",
       "      <td>...</td>\n",
       "      <td>0.179240</td>\n",
       "      <td>NaN</td>\n",
       "      <td>NaN</td>\n",
       "      <td>214</td>\n",
       "      <td>False</td>\n",
       "      <td>False</td>\n",
       "      <td>False</td>\n",
       "      <td>632</td>\n",
       "      <td>0</td>\n",
       "      <td>True</td>\n",
       "    </tr>\n",
       "    <tr>\n",
       "      <th>2</th>\n",
       "      <td>Afghanistan: Abdul Zahir</td>\n",
       "      <td>1971-06-01</td>\n",
       "      <td>Afghanistan</td>\n",
       "      <td>1971</td>\n",
       "      <td>6</td>\n",
       "      <td>0</td>\n",
       "      <td>61</td>\n",
       "      <td>1</td>\n",
       "      <td>0</td>\n",
       "      <td>1</td>\n",
       "      <td>...</td>\n",
       "      <td>-1.806554</td>\n",
       "      <td>NaN</td>\n",
       "      <td>NaN</td>\n",
       "      <td>257</td>\n",
       "      <td>False</td>\n",
       "      <td>False</td>\n",
       "      <td>False</td>\n",
       "      <td>589</td>\n",
       "      <td>18</td>\n",
       "      <td>True</td>\n",
       "    </tr>\n",
       "    <tr>\n",
       "      <th>3</th>\n",
       "      <td>Afghanistan: Abdul Zahir</td>\n",
       "      <td>1971-07-01</td>\n",
       "      <td>Afghanistan</td>\n",
       "      <td>1971</td>\n",
       "      <td>7</td>\n",
       "      <td>0</td>\n",
       "      <td>61</td>\n",
       "      <td>1</td>\n",
       "      <td>0</td>\n",
       "      <td>2</td>\n",
       "      <td>...</td>\n",
       "      <td>-1.797812</td>\n",
       "      <td>NaN</td>\n",
       "      <td>NaN</td>\n",
       "      <td>258</td>\n",
       "      <td>False</td>\n",
       "      <td>False</td>\n",
       "      <td>False</td>\n",
       "      <td>588</td>\n",
       "      <td>17</td>\n",
       "      <td>True</td>\n",
       "    </tr>\n",
       "    <tr>\n",
       "      <th>4</th>\n",
       "      <td>Afghanistan: Abdul Zahir</td>\n",
       "      <td>1971-08-01</td>\n",
       "      <td>Afghanistan</td>\n",
       "      <td>1971</td>\n",
       "      <td>8</td>\n",
       "      <td>0</td>\n",
       "      <td>61</td>\n",
       "      <td>1</td>\n",
       "      <td>0</td>\n",
       "      <td>3</td>\n",
       "      <td>...</td>\n",
       "      <td>-1.815134</td>\n",
       "      <td>NaN</td>\n",
       "      <td>NaN</td>\n",
       "      <td>259</td>\n",
       "      <td>False</td>\n",
       "      <td>False</td>\n",
       "      <td>False</td>\n",
       "      <td>587</td>\n",
       "      <td>16</td>\n",
       "      <td>True</td>\n",
       "    </tr>\n",
       "  </tbody>\n",
       "</table>\n",
       "<p>5 rows × 45 columns</p>\n",
       "</div>"
      ],
      "text/plain": [
       "                country-leader year-month      country  year month elected  \\\n",
       "0  Afghanistan: Abdallah Yakta 1967-10-01  Afghanistan  1967    10       0   \n",
       "1  Afghanistan: Abdallah Yakta 1967-11-01  Afghanistan  1967    11       0   \n",
       "2     Afghanistan: Abdul Zahir 1971-06-01  Afghanistan  1971     6       0   \n",
       "3     Afghanistan: Abdul Zahir 1971-07-01  Afghanistan  1971     7       0   \n",
       "4     Afghanistan: Abdul Zahir 1971-08-01  Afghanistan  1971     8       0   \n",
       "\n",
       "  age male militarycareer tenure_months  ...    precip couprisk pctile_risk  \\\n",
       "0  53    1              0             1  ...  0.018704      NaN         NaN   \n",
       "1  53    1              0             2  ...  0.179240      NaN         NaN   \n",
       "2  61    1              0             1  ... -1.806554      NaN         NaN   \n",
       "3  61    1              0             2  ... -1.797812      NaN         NaN   \n",
       "4  61    1              0             3  ... -1.815134      NaN         NaN   \n",
       "\n",
       "  _period _predict_obs  _test _validation _maximum_lead _duration  \\\n",
       "0     213        False  False       False           633         1   \n",
       "1     214        False  False       False           632         0   \n",
       "2     257        False  False       False           589        18   \n",
       "3     258        False  False       False           588        17   \n",
       "4     259        False  False       False           587        16   \n",
       "\n",
       "  _event_observed  \n",
       "0            True  \n",
       "1            True  \n",
       "2            True  \n",
       "3            True  \n",
       "4            True  \n",
       "\n",
       "[5 rows x 45 columns]"
      ]
     },
     "execution_count": 6,
     "metadata": {},
     "output_type": "execute_result"
    }
   ],
   "source": [
    "data_processor = PanelDataProcessor(data=data)\n",
    "data_processor.build_processed_data()\n",
    "data_processor.data.head()"
   ]
  },
  {
   "cell_type": "markdown",
   "metadata": {},
   "source": [
    "We pass the processed data to FIFE's LGBSurvivalModeler, which trains gradient-boosted tree models using [LightGBM](https://lightgbm.readthedocs.io/en/latest/). FIFE trains one model for each time horizon up to some maximum. In the absence of a specified maximum, FIFE will train up to the time horizon for which there are no more than 64 training observations that survived that long.\n",
    "\n",
    "By default, FIFE uses [Dask](https://dask.org/) to parallelize training across time horizons, which can speed up the modeling process. However, parallelization can cause an [IOStream issue endemic to Jupyter notebooks](https://github.com/ipython/ipykernel/issues/334). We can tell FIFE to train one model at a time by specifying `parallelize=False`. As a side effect, we can view the log of the modeling process in logical order. Each line reports the model loss on the validation set after training a new tree. Training stops once the validation loss hasn't improved for four trees in a row. Then FIFE starts training trees for the next time horizon, until it reaches the maximum."
   ]
  },
  {
   "cell_type": "code",
   "execution_count": 7,
   "metadata": {
    "scrolled": true
   },
   "outputs": [
    {
     "name": "stdout",
     "output_type": "stream",
     "text": [
      "Time identifier column name not given; assumed to be second-leftmost column (year-month)\n",
      "Individual identifier column name not given; assumed to be leftmost column (country-leader)\n"
     ]
    },
    {
     "name": "stderr",
     "output_type": "stream",
     "text": [
      "Found `num_iterations` in params. Will use it instead of argument\n",
      "categorical_feature in Dataset is overridden.\n",
      "New categorical_feature is ['age', 'anticipation', 'change_recent', 'country', 'defeat_recent', 'delayed', 'direct_recent', 'elected', 'election_now', 'election_recent', 'exec_ant', 'exec_recent', 'government', 'indirect_recent', 'irreg_lead_ant', 'lead_recent', 'leg_ant', 'leg_recent', 'male', 'militarycareer', 'month', 'nochange_recent', 'prev_conflict', 'pt_attempt', 'pt_suc', 'ref_ant', 'ref_recent', 'tenure_months', 'victory_recent', 'year']\n"
     ]
    },
    {
     "name": "stdout",
     "output_type": "stream",
     "text": [
      "[1]\tvalidation_set's binary_logloss: 0.0618062\n",
      "Training until validation scores don't improve for 4 rounds\n",
      "[2]\tvalidation_set's binary_logloss: 0.0584955\n",
      "[3]\tvalidation_set's binary_logloss: 0.0572142\n",
      "[4]\tvalidation_set's binary_logloss: 0.0562582\n",
      "[5]\tvalidation_set's binary_logloss: 0.0554188\n",
      "[6]\tvalidation_set's binary_logloss: 0.0548194\n",
      "[7]\tvalidation_set's binary_logloss: 0.0542496\n",
      "[8]\tvalidation_set's binary_logloss: 0.0536418\n",
      "[9]\tvalidation_set's binary_logloss: 0.0532795\n",
      "[10]\tvalidation_set's binary_logloss: 0.0529108\n",
      "[11]\tvalidation_set's binary_logloss: 0.0526117\n",
      "[12]\tvalidation_set's binary_logloss: 0.0524097\n",
      "[13]\tvalidation_set's binary_logloss: 0.0520414\n",
      "[14]\tvalidation_set's binary_logloss: 0.0517947\n",
      "[15]\tvalidation_set's binary_logloss: 0.0515386\n",
      "[16]\tvalidation_set's binary_logloss: 0.0513138\n",
      "[17]\tvalidation_set's binary_logloss: 0.0512088\n",
      "[18]\tvalidation_set's binary_logloss: 0.0510135\n",
      "[19]\tvalidation_set's binary_logloss: 0.0507997\n",
      "[20]\tvalidation_set's binary_logloss: 0.0506761\n",
      "[21]\tvalidation_set's binary_logloss: 0.0506249\n",
      "[22]\tvalidation_set's binary_logloss: 0.0504967\n",
      "[23]\tvalidation_set's binary_logloss: 0.0504059\n",
      "[24]\tvalidation_set's binary_logloss: 0.0503718\n",
      "[25]\tvalidation_set's binary_logloss: 0.0503507\n",
      "[26]\tvalidation_set's binary_logloss: 0.0502878\n",
      "[27]\tvalidation_set's binary_logloss: 0.0502721\n",
      "[28]\tvalidation_set's binary_logloss: 0.0502339\n",
      "[29]\tvalidation_set's binary_logloss: 0.0501866\n",
      "[30]\tvalidation_set's binary_logloss: 0.0500986\n",
      "[31]\tvalidation_set's binary_logloss: 0.0501246\n",
      "[32]\tvalidation_set's binary_logloss: 0.0500667\n",
      "[33]\tvalidation_set's binary_logloss: 0.0500487\n",
      "[34]\tvalidation_set's binary_logloss: 0.0499507\n",
      "[35]\tvalidation_set's binary_logloss: 0.0499523\n",
      "[36]\tvalidation_set's binary_logloss: 0.0499095\n",
      "[37]\tvalidation_set's binary_logloss: 0.0499508\n",
      "[38]\tvalidation_set's binary_logloss: 0.0499905\n",
      "[39]\tvalidation_set's binary_logloss: 0.0500334\n",
      "[40]\tvalidation_set's binary_logloss: 0.0500583\n",
      "Early stopping, best iteration is:\n",
      "[36]\tvalidation_set's binary_logloss: 0.0499095\n"
     ]
    },
    {
     "name": "stderr",
     "output_type": "stream",
     "text": [
      "Found `num_iterations` in params. Will use it instead of argument\n",
      "categorical_feature in Dataset is overridden.\n",
      "New categorical_feature is ['age', 'anticipation', 'change_recent', 'country', 'defeat_recent', 'delayed', 'direct_recent', 'elected', 'election_now', 'election_recent', 'exec_ant', 'exec_recent', 'government', 'indirect_recent', 'irreg_lead_ant', 'lead_recent', 'leg_ant', 'leg_recent', 'male', 'militarycareer', 'month', 'nochange_recent', 'prev_conflict', 'pt_attempt', 'pt_suc', 'ref_ant', 'ref_recent', 'tenure_months', 'victory_recent', 'year']\n"
     ]
    },
    {
     "name": "stdout",
     "output_type": "stream",
     "text": [
      "[1]\tvalidation_set's binary_logloss: 0.071601\n",
      "Training until validation scores don't improve for 4 rounds\n",
      "[2]\tvalidation_set's binary_logloss: 0.0694185\n",
      "[3]\tvalidation_set's binary_logloss: 0.0679357\n",
      "[4]\tvalidation_set's binary_logloss: 0.0669349\n",
      "[5]\tvalidation_set's binary_logloss: 0.0661148\n",
      "[6]\tvalidation_set's binary_logloss: 0.0654482\n",
      "[7]\tvalidation_set's binary_logloss: 0.0648559\n",
      "[8]\tvalidation_set's binary_logloss: 0.0642733\n",
      "[9]\tvalidation_set's binary_logloss: 0.063824\n",
      "[10]\tvalidation_set's binary_logloss: 0.0634412\n",
      "[11]\tvalidation_set's binary_logloss: 0.0630345\n",
      "[12]\tvalidation_set's binary_logloss: 0.0627608\n",
      "[13]\tvalidation_set's binary_logloss: 0.0625147\n",
      "[14]\tvalidation_set's binary_logloss: 0.0623169\n",
      "[15]\tvalidation_set's binary_logloss: 0.0621811\n",
      "[16]\tvalidation_set's binary_logloss: 0.0620206\n",
      "[17]\tvalidation_set's binary_logloss: 0.0618141\n",
      "[18]\tvalidation_set's binary_logloss: 0.0616092\n",
      "[19]\tvalidation_set's binary_logloss: 0.0615297\n",
      "[20]\tvalidation_set's binary_logloss: 0.0615396\n",
      "[21]\tvalidation_set's binary_logloss: 0.0614774\n",
      "[22]\tvalidation_set's binary_logloss: 0.0613796\n",
      "[23]\tvalidation_set's binary_logloss: 0.061324\n",
      "[24]\tvalidation_set's binary_logloss: 0.0612882\n",
      "[25]\tvalidation_set's binary_logloss: 0.0612591\n",
      "[26]\tvalidation_set's binary_logloss: 0.0611713\n",
      "[27]\tvalidation_set's binary_logloss: 0.0611022\n",
      "[28]\tvalidation_set's binary_logloss: 0.0611054\n",
      "[29]\tvalidation_set's binary_logloss: 0.0611262\n",
      "[30]\tvalidation_set's binary_logloss: 0.0611127\n",
      "[31]\tvalidation_set's binary_logloss: 0.0610943\n",
      "[32]\tvalidation_set's binary_logloss: 0.0610412\n",
      "[33]\tvalidation_set's binary_logloss: 0.0609798\n",
      "[34]\tvalidation_set's binary_logloss: 0.0610404\n",
      "[35]\tvalidation_set's binary_logloss: 0.0610047\n",
      "[36]\tvalidation_set's binary_logloss: 0.0610831\n",
      "[37]\tvalidation_set's binary_logloss: 0.0611182\n",
      "Early stopping, best iteration is:\n",
      "[33]\tvalidation_set's binary_logloss: 0.0609798\n"
     ]
    },
    {
     "name": "stderr",
     "output_type": "stream",
     "text": [
      "Found `num_iterations` in params. Will use it instead of argument\n",
      "categorical_feature in Dataset is overridden.\n",
      "New categorical_feature is ['age', 'anticipation', 'change_recent', 'country', 'defeat_recent', 'delayed', 'direct_recent', 'elected', 'election_now', 'election_recent', 'exec_ant', 'exec_recent', 'government', 'indirect_recent', 'irreg_lead_ant', 'lead_recent', 'leg_ant', 'leg_recent', 'male', 'militarycareer', 'month', 'nochange_recent', 'prev_conflict', 'pt_attempt', 'pt_suc', 'ref_ant', 'ref_recent', 'tenure_months', 'victory_recent', 'year']\n"
     ]
    },
    {
     "name": "stdout",
     "output_type": "stream",
     "text": [
      "[1]\tvalidation_set's binary_logloss: 0.0684144\n",
      "Training until validation scores don't improve for 4 rounds\n",
      "[2]\tvalidation_set's binary_logloss: 0.0673016\n",
      "[3]\tvalidation_set's binary_logloss: 0.0663943\n",
      "[4]\tvalidation_set's binary_logloss: 0.065607\n",
      "[5]\tvalidation_set's binary_logloss: 0.0648668\n",
      "[6]\tvalidation_set's binary_logloss: 0.064394\n",
      "[7]\tvalidation_set's binary_logloss: 0.0641294\n",
      "[8]\tvalidation_set's binary_logloss: 0.0637305\n",
      "[9]\tvalidation_set's binary_logloss: 0.0634834\n",
      "[10]\tvalidation_set's binary_logloss: 0.0632856\n",
      "[11]\tvalidation_set's binary_logloss: 0.0631342\n",
      "[12]\tvalidation_set's binary_logloss: 0.0629185\n",
      "[13]\tvalidation_set's binary_logloss: 0.0628936\n",
      "[14]\tvalidation_set's binary_logloss: 0.0627964\n",
      "[15]\tvalidation_set's binary_logloss: 0.0626712\n",
      "[16]\tvalidation_set's binary_logloss: 0.0626972\n",
      "[17]\tvalidation_set's binary_logloss: 0.0625604\n",
      "[18]\tvalidation_set's binary_logloss: 0.0623724\n",
      "[19]\tvalidation_set's binary_logloss: 0.0623463\n",
      "[20]\tvalidation_set's binary_logloss: 0.0623089\n",
      "[21]\tvalidation_set's binary_logloss: 0.0621841\n",
      "[22]\tvalidation_set's binary_logloss: 0.0621717\n",
      "[23]\tvalidation_set's binary_logloss: 0.0620298\n",
      "[24]\tvalidation_set's binary_logloss: 0.0619628\n",
      "[25]\tvalidation_set's binary_logloss: 0.0618921\n",
      "[26]\tvalidation_set's binary_logloss: 0.0618939\n",
      "[27]\tvalidation_set's binary_logloss: 0.06186\n",
      "[28]\tvalidation_set's binary_logloss: 0.0618587\n",
      "[29]\tvalidation_set's binary_logloss: 0.0618378\n",
      "[30]\tvalidation_set's binary_logloss: 0.0618069\n",
      "[31]\tvalidation_set's binary_logloss: 0.061781\n",
      "[32]\tvalidation_set's binary_logloss: 0.0617962\n",
      "[33]\tvalidation_set's binary_logloss: 0.0618377\n",
      "[34]\tvalidation_set's binary_logloss: 0.0618922\n",
      "[35]\tvalidation_set's binary_logloss: 0.0619312\n",
      "Early stopping, best iteration is:\n",
      "[31]\tvalidation_set's binary_logloss: 0.061781\n"
     ]
    },
    {
     "name": "stderr",
     "output_type": "stream",
     "text": [
      "Found `num_iterations` in params. Will use it instead of argument\n",
      "categorical_feature in Dataset is overridden.\n",
      "New categorical_feature is ['age', 'anticipation', 'change_recent', 'country', 'defeat_recent', 'delayed', 'direct_recent', 'elected', 'election_now', 'election_recent', 'exec_ant', 'exec_recent', 'government', 'indirect_recent', 'irreg_lead_ant', 'lead_recent', 'leg_ant', 'leg_recent', 'male', 'militarycareer', 'month', 'nochange_recent', 'prev_conflict', 'pt_attempt', 'pt_suc', 'ref_ant', 'ref_recent', 'tenure_months', 'victory_recent', 'year']\n"
     ]
    },
    {
     "name": "stdout",
     "output_type": "stream",
     "text": [
      "[1]\tvalidation_set's binary_logloss: 0.0699706\n",
      "Training until validation scores don't improve for 4 rounds\n",
      "[2]\tvalidation_set's binary_logloss: 0.0679622\n",
      "[3]\tvalidation_set's binary_logloss: 0.0669439\n",
      "[4]\tvalidation_set's binary_logloss: 0.0662579\n",
      "[5]\tvalidation_set's binary_logloss: 0.065786\n",
      "[6]\tvalidation_set's binary_logloss: 0.065339\n",
      "[7]\tvalidation_set's binary_logloss: 0.0649829\n",
      "[8]\tvalidation_set's binary_logloss: 0.0645527\n",
      "[9]\tvalidation_set's binary_logloss: 0.0642118\n",
      "[10]\tvalidation_set's binary_logloss: 0.0639556\n",
      "[11]\tvalidation_set's binary_logloss: 0.0636961\n",
      "[12]\tvalidation_set's binary_logloss: 0.0634444\n",
      "[13]\tvalidation_set's binary_logloss: 0.0632857\n",
      "[14]\tvalidation_set's binary_logloss: 0.0631873\n",
      "[15]\tvalidation_set's binary_logloss: 0.0628908\n",
      "[16]\tvalidation_set's binary_logloss: 0.0629014\n",
      "[17]\tvalidation_set's binary_logloss: 0.0628251\n",
      "[18]\tvalidation_set's binary_logloss: 0.0628145\n",
      "[19]\tvalidation_set's binary_logloss: 0.062798\n",
      "[20]\tvalidation_set's binary_logloss: 0.0627151\n",
      "[21]\tvalidation_set's binary_logloss: 0.0626489\n",
      "[22]\tvalidation_set's binary_logloss: 0.0627178\n",
      "[23]\tvalidation_set's binary_logloss: 0.0626385\n",
      "[24]\tvalidation_set's binary_logloss: 0.0627296\n",
      "[25]\tvalidation_set's binary_logloss: 0.0626246\n",
      "[26]\tvalidation_set's binary_logloss: 0.0625621\n",
      "[27]\tvalidation_set's binary_logloss: 0.0625447\n",
      "[28]\tvalidation_set's binary_logloss: 0.062449\n",
      "[29]\tvalidation_set's binary_logloss: 0.0624354\n",
      "[30]\tvalidation_set's binary_logloss: 0.0624413\n",
      "[31]\tvalidation_set's binary_logloss: 0.0624287\n",
      "[32]\tvalidation_set's binary_logloss: 0.0624586\n",
      "[33]\tvalidation_set's binary_logloss: 0.0624098\n",
      "[34]\tvalidation_set's binary_logloss: 0.0624034\n",
      "[35]\tvalidation_set's binary_logloss: 0.0624208\n",
      "[36]\tvalidation_set's binary_logloss: 0.0624404\n",
      "[37]\tvalidation_set's binary_logloss: 0.0624387\n",
      "[38]\tvalidation_set's binary_logloss: 0.0624885\n",
      "Early stopping, best iteration is:\n",
      "[34]\tvalidation_set's binary_logloss: 0.0624034\n"
     ]
    },
    {
     "name": "stderr",
     "output_type": "stream",
     "text": [
      "Found `num_iterations` in params. Will use it instead of argument\n",
      "categorical_feature in Dataset is overridden.\n",
      "New categorical_feature is ['age', 'anticipation', 'change_recent', 'country', 'defeat_recent', 'delayed', 'direct_recent', 'elected', 'election_now', 'election_recent', 'exec_ant', 'exec_recent', 'government', 'indirect_recent', 'irreg_lead_ant', 'lead_recent', 'leg_ant', 'leg_recent', 'male', 'militarycareer', 'month', 'nochange_recent', 'prev_conflict', 'pt_attempt', 'pt_suc', 'ref_ant', 'ref_recent', 'tenure_months', 'victory_recent', 'year']\n"
     ]
    },
    {
     "name": "stdout",
     "output_type": "stream",
     "text": [
      "[1]\tvalidation_set's binary_logloss: 0.0695029\n",
      "Training until validation scores don't improve for 4 rounds\n",
      "[2]\tvalidation_set's binary_logloss: 0.067461\n",
      "[3]\tvalidation_set's binary_logloss: 0.0662947\n",
      "[4]\tvalidation_set's binary_logloss: 0.0655804\n",
      "[5]\tvalidation_set's binary_logloss: 0.065025\n",
      "[6]\tvalidation_set's binary_logloss: 0.0643613\n",
      "[7]\tvalidation_set's binary_logloss: 0.0638549\n",
      "[8]\tvalidation_set's binary_logloss: 0.0635564\n",
      "[9]\tvalidation_set's binary_logloss: 0.0632313\n",
      "[10]\tvalidation_set's binary_logloss: 0.0629232\n",
      "[11]\tvalidation_set's binary_logloss: 0.0628293\n",
      "[12]\tvalidation_set's binary_logloss: 0.0626757\n",
      "[13]\tvalidation_set's binary_logloss: 0.062609\n",
      "[14]\tvalidation_set's binary_logloss: 0.062479\n",
      "[15]\tvalidation_set's binary_logloss: 0.0624007\n",
      "[16]\tvalidation_set's binary_logloss: 0.0623121\n",
      "[17]\tvalidation_set's binary_logloss: 0.0622507\n",
      "[18]\tvalidation_set's binary_logloss: 0.0620991\n",
      "[19]\tvalidation_set's binary_logloss: 0.062046\n",
      "[20]\tvalidation_set's binary_logloss: 0.0621329\n",
      "[21]\tvalidation_set's binary_logloss: 0.0620672\n",
      "[22]\tvalidation_set's binary_logloss: 0.0620813\n",
      "[23]\tvalidation_set's binary_logloss: 0.0620516\n",
      "Early stopping, best iteration is:\n",
      "[19]\tvalidation_set's binary_logloss: 0.062046\n"
     ]
    },
    {
     "name": "stderr",
     "output_type": "stream",
     "text": [
      "Found `num_iterations` in params. Will use it instead of argument\n",
      "categorical_feature in Dataset is overridden.\n",
      "New categorical_feature is ['age', 'anticipation', 'change_recent', 'country', 'defeat_recent', 'delayed', 'direct_recent', 'elected', 'election_now', 'election_recent', 'exec_ant', 'exec_recent', 'government', 'indirect_recent', 'irreg_lead_ant', 'lead_recent', 'leg_ant', 'leg_recent', 'male', 'militarycareer', 'month', 'nochange_recent', 'prev_conflict', 'pt_attempt', 'pt_suc', 'ref_ant', 'ref_recent', 'tenure_months', 'victory_recent', 'year']\n"
     ]
    },
    {
     "name": "stdout",
     "output_type": "stream",
     "text": [
      "[1]\tvalidation_set's binary_logloss: 0.0685683\n",
      "Training until validation scores don't improve for 4 rounds\n",
      "[2]\tvalidation_set's binary_logloss: 0.0673265\n",
      "[3]\tvalidation_set's binary_logloss: 0.0663848\n",
      "[4]\tvalidation_set's binary_logloss: 0.0659404\n",
      "[5]\tvalidation_set's binary_logloss: 0.0655189\n",
      "[6]\tvalidation_set's binary_logloss: 0.0651417\n",
      "[7]\tvalidation_set's binary_logloss: 0.0648999\n",
      "[8]\tvalidation_set's binary_logloss: 0.0645382\n",
      "[9]\tvalidation_set's binary_logloss: 0.0642908\n",
      "[10]\tvalidation_set's binary_logloss: 0.0640288\n",
      "[11]\tvalidation_set's binary_logloss: 0.0637436\n",
      "[12]\tvalidation_set's binary_logloss: 0.0636031\n",
      "[13]\tvalidation_set's binary_logloss: 0.063539\n",
      "[14]\tvalidation_set's binary_logloss: 0.0632983\n",
      "[15]\tvalidation_set's binary_logloss: 0.0632441\n",
      "[16]\tvalidation_set's binary_logloss: 0.0631056\n",
      "[17]\tvalidation_set's binary_logloss: 0.0630232\n",
      "[18]\tvalidation_set's binary_logloss: 0.0629866\n",
      "[19]\tvalidation_set's binary_logloss: 0.0629499\n",
      "[20]\tvalidation_set's binary_logloss: 0.0629763\n",
      "[21]\tvalidation_set's binary_logloss: 0.0628637\n",
      "[22]\tvalidation_set's binary_logloss: 0.062879\n",
      "[23]\tvalidation_set's binary_logloss: 0.0628448\n",
      "[24]\tvalidation_set's binary_logloss: 0.0627334\n",
      "[25]\tvalidation_set's binary_logloss: 0.0627128\n",
      "[26]\tvalidation_set's binary_logloss: 0.0626731\n",
      "[27]\tvalidation_set's binary_logloss: 0.0627239\n",
      "[28]\tvalidation_set's binary_logloss: 0.0627497\n",
      "[29]\tvalidation_set's binary_logloss: 0.0627349\n",
      "[30]\tvalidation_set's binary_logloss: 0.0627119\n",
      "Early stopping, best iteration is:\n",
      "[26]\tvalidation_set's binary_logloss: 0.0626731\n"
     ]
    },
    {
     "name": "stderr",
     "output_type": "stream",
     "text": [
      "Found `num_iterations` in params. Will use it instead of argument\n",
      "categorical_feature in Dataset is overridden.\n",
      "New categorical_feature is ['age', 'anticipation', 'change_recent', 'country', 'defeat_recent', 'delayed', 'direct_recent', 'elected', 'election_now', 'election_recent', 'exec_ant', 'exec_recent', 'government', 'indirect_recent', 'irreg_lead_ant', 'lead_recent', 'leg_ant', 'leg_recent', 'male', 'militarycareer', 'month', 'nochange_recent', 'prev_conflict', 'pt_attempt', 'pt_suc', 'ref_ant', 'ref_recent', 'tenure_months', 'victory_recent', 'year']\n"
     ]
    },
    {
     "name": "stdout",
     "output_type": "stream",
     "text": [
      "[1]\tvalidation_set's binary_logloss: 0.0668066\n",
      "Training until validation scores don't improve for 4 rounds\n",
      "[2]\tvalidation_set's binary_logloss: 0.0659314\n",
      "[3]\tvalidation_set's binary_logloss: 0.0651142\n",
      "[4]\tvalidation_set's binary_logloss: 0.0645164\n",
      "[5]\tvalidation_set's binary_logloss: 0.0641693\n",
      "[6]\tvalidation_set's binary_logloss: 0.0638756\n",
      "[7]\tvalidation_set's binary_logloss: 0.0636714\n",
      "[8]\tvalidation_set's binary_logloss: 0.0633838\n",
      "[9]\tvalidation_set's binary_logloss: 0.0632691\n",
      "[10]\tvalidation_set's binary_logloss: 0.0631095\n",
      "[11]\tvalidation_set's binary_logloss: 0.0630473\n",
      "[12]\tvalidation_set's binary_logloss: 0.0629588\n",
      "[13]\tvalidation_set's binary_logloss: 0.062927\n",
      "[14]\tvalidation_set's binary_logloss: 0.0628683\n",
      "[15]\tvalidation_set's binary_logloss: 0.062688\n",
      "[16]\tvalidation_set's binary_logloss: 0.062652\n",
      "[17]\tvalidation_set's binary_logloss: 0.0625468\n",
      "[18]\tvalidation_set's binary_logloss: 0.0625433\n",
      "[19]\tvalidation_set's binary_logloss: 0.0623782\n",
      "[20]\tvalidation_set's binary_logloss: 0.0624142\n",
      "[21]\tvalidation_set's binary_logloss: 0.0623651\n",
      "[22]\tvalidation_set's binary_logloss: 0.0622197\n",
      "[23]\tvalidation_set's binary_logloss: 0.0623194\n",
      "[24]\tvalidation_set's binary_logloss: 0.0623924\n",
      "[25]\tvalidation_set's binary_logloss: 0.0624244\n",
      "[26]\tvalidation_set's binary_logloss: 0.0623667\n",
      "Early stopping, best iteration is:\n",
      "[22]\tvalidation_set's binary_logloss: 0.0622197\n"
     ]
    },
    {
     "name": "stderr",
     "output_type": "stream",
     "text": [
      "Found `num_iterations` in params. Will use it instead of argument\n",
      "categorical_feature in Dataset is overridden.\n",
      "New categorical_feature is ['age', 'anticipation', 'change_recent', 'country', 'defeat_recent', 'delayed', 'direct_recent', 'elected', 'election_now', 'election_recent', 'exec_ant', 'exec_recent', 'government', 'indirect_recent', 'irreg_lead_ant', 'lead_recent', 'leg_ant', 'leg_recent', 'male', 'militarycareer', 'month', 'nochange_recent', 'prev_conflict', 'pt_attempt', 'pt_suc', 'ref_ant', 'ref_recent', 'tenure_months', 'victory_recent', 'year']\n"
     ]
    },
    {
     "name": "stdout",
     "output_type": "stream",
     "text": [
      "[1]\tvalidation_set's binary_logloss: 0.0674098\n",
      "Training until validation scores don't improve for 4 rounds\n",
      "[2]\tvalidation_set's binary_logloss: 0.0663135\n",
      "[3]\tvalidation_set's binary_logloss: 0.0656339\n",
      "[4]\tvalidation_set's binary_logloss: 0.0651634\n",
      "[5]\tvalidation_set's binary_logloss: 0.0646927\n",
      "[6]\tvalidation_set's binary_logloss: 0.0644363\n",
      "[7]\tvalidation_set's binary_logloss: 0.0642436\n",
      "[8]\tvalidation_set's binary_logloss: 0.0642481\n",
      "[9]\tvalidation_set's binary_logloss: 0.0640075\n",
      "[10]\tvalidation_set's binary_logloss: 0.0637796\n",
      "[11]\tvalidation_set's binary_logloss: 0.0636488\n",
      "[12]\tvalidation_set's binary_logloss: 0.0636164\n",
      "[13]\tvalidation_set's binary_logloss: 0.0635545\n",
      "[14]\tvalidation_set's binary_logloss: 0.0635745\n",
      "[15]\tvalidation_set's binary_logloss: 0.0635738\n",
      "[16]\tvalidation_set's binary_logloss: 0.0636052\n",
      "[17]\tvalidation_set's binary_logloss: 0.0635293\n",
      "[18]\tvalidation_set's binary_logloss: 0.0635089\n",
      "[19]\tvalidation_set's binary_logloss: 0.0634287\n",
      "[20]\tvalidation_set's binary_logloss: 0.0635066\n",
      "[21]\tvalidation_set's binary_logloss: 0.0635043\n",
      "[22]\tvalidation_set's binary_logloss: 0.0635983\n",
      "[23]\tvalidation_set's binary_logloss: 0.0635358\n",
      "Early stopping, best iteration is:\n",
      "[19]\tvalidation_set's binary_logloss: 0.0634287\n"
     ]
    },
    {
     "name": "stderr",
     "output_type": "stream",
     "text": [
      "Found `num_iterations` in params. Will use it instead of argument\n",
      "categorical_feature in Dataset is overridden.\n",
      "New categorical_feature is ['age', 'anticipation', 'change_recent', 'country', 'defeat_recent', 'delayed', 'direct_recent', 'elected', 'election_now', 'election_recent', 'exec_ant', 'exec_recent', 'government', 'indirect_recent', 'irreg_lead_ant', 'lead_recent', 'leg_ant', 'leg_recent', 'male', 'militarycareer', 'month', 'nochange_recent', 'prev_conflict', 'pt_attempt', 'pt_suc', 'ref_ant', 'ref_recent', 'tenure_months', 'victory_recent', 'year']\n"
     ]
    },
    {
     "name": "stdout",
     "output_type": "stream",
     "text": [
      "[1]\tvalidation_set's binary_logloss: 0.0666623\n",
      "Training until validation scores don't improve for 4 rounds\n",
      "[2]\tvalidation_set's binary_logloss: 0.0660299\n",
      "[3]\tvalidation_set's binary_logloss: 0.0657003\n",
      "[4]\tvalidation_set's binary_logloss: 0.0655955\n",
      "[5]\tvalidation_set's binary_logloss: 0.0653194\n",
      "[6]\tvalidation_set's binary_logloss: 0.06494\n",
      "[7]\tvalidation_set's binary_logloss: 0.0646166\n",
      "[8]\tvalidation_set's binary_logloss: 0.064546\n",
      "[9]\tvalidation_set's binary_logloss: 0.0641616\n",
      "[10]\tvalidation_set's binary_logloss: 0.0640455\n",
      "[11]\tvalidation_set's binary_logloss: 0.0639579\n",
      "[12]\tvalidation_set's binary_logloss: 0.0638818\n",
      "[13]\tvalidation_set's binary_logloss: 0.0637917\n",
      "[14]\tvalidation_set's binary_logloss: 0.0638242\n",
      "[15]\tvalidation_set's binary_logloss: 0.063764\n",
      "[16]\tvalidation_set's binary_logloss: 0.0636515\n",
      "[17]\tvalidation_set's binary_logloss: 0.0638011\n",
      "[18]\tvalidation_set's binary_logloss: 0.063874\n",
      "[19]\tvalidation_set's binary_logloss: 0.0638531\n",
      "[20]\tvalidation_set's binary_logloss: 0.0638661\n",
      "Early stopping, best iteration is:\n",
      "[16]\tvalidation_set's binary_logloss: 0.0636515\n"
     ]
    },
    {
     "name": "stderr",
     "output_type": "stream",
     "text": [
      "Found `num_iterations` in params. Will use it instead of argument\n",
      "categorical_feature in Dataset is overridden.\n",
      "New categorical_feature is ['age', 'anticipation', 'change_recent', 'country', 'defeat_recent', 'delayed', 'direct_recent', 'elected', 'election_now', 'election_recent', 'exec_ant', 'exec_recent', 'government', 'indirect_recent', 'irreg_lead_ant', 'lead_recent', 'leg_ant', 'leg_recent', 'male', 'militarycareer', 'month', 'nochange_recent', 'prev_conflict', 'pt_attempt', 'pt_suc', 'ref_ant', 'ref_recent', 'tenure_months', 'victory_recent', 'year']\n"
     ]
    },
    {
     "name": "stdout",
     "output_type": "stream",
     "text": [
      "[1]\tvalidation_set's binary_logloss: 0.0641086\n",
      "Training until validation scores don't improve for 4 rounds\n",
      "[2]\tvalidation_set's binary_logloss: 0.0636066\n",
      "[3]\tvalidation_set's binary_logloss: 0.0634493\n",
      "[4]\tvalidation_set's binary_logloss: 0.062887\n",
      "[5]\tvalidation_set's binary_logloss: 0.0627412\n",
      "[6]\tvalidation_set's binary_logloss: 0.0625879\n",
      "[7]\tvalidation_set's binary_logloss: 0.0623844\n",
      "[8]\tvalidation_set's binary_logloss: 0.0622105\n",
      "[9]\tvalidation_set's binary_logloss: 0.0621942\n",
      "[10]\tvalidation_set's binary_logloss: 0.062091\n",
      "[11]\tvalidation_set's binary_logloss: 0.0621175\n",
      "[12]\tvalidation_set's binary_logloss: 0.0620825\n",
      "[13]\tvalidation_set's binary_logloss: 0.0621001\n",
      "[14]\tvalidation_set's binary_logloss: 0.0621684\n",
      "[15]\tvalidation_set's binary_logloss: 0.0622318\n",
      "[16]\tvalidation_set's binary_logloss: 0.0622546\n",
      "Early stopping, best iteration is:\n",
      "[12]\tvalidation_set's binary_logloss: 0.0620825\n"
     ]
    },
    {
     "name": "stderr",
     "output_type": "stream",
     "text": [
      "Found `num_iterations` in params. Will use it instead of argument\n",
      "categorical_feature in Dataset is overridden.\n",
      "New categorical_feature is ['age', 'anticipation', 'change_recent', 'country', 'defeat_recent', 'delayed', 'direct_recent', 'elected', 'election_now', 'election_recent', 'exec_ant', 'exec_recent', 'government', 'indirect_recent', 'irreg_lead_ant', 'lead_recent', 'leg_ant', 'leg_recent', 'male', 'militarycareer', 'month', 'nochange_recent', 'prev_conflict', 'pt_attempt', 'pt_suc', 'ref_ant', 'ref_recent', 'tenure_months', 'victory_recent', 'year']\n"
     ]
    },
    {
     "name": "stdout",
     "output_type": "stream",
     "text": [
      "[1]\tvalidation_set's binary_logloss: 0.0649709\n",
      "Training until validation scores don't improve for 4 rounds\n",
      "[2]\tvalidation_set's binary_logloss: 0.0649327\n",
      "[3]\tvalidation_set's binary_logloss: 0.0645091\n",
      "[4]\tvalidation_set's binary_logloss: 0.064031\n",
      "[5]\tvalidation_set's binary_logloss: 0.0636755\n",
      "[6]\tvalidation_set's binary_logloss: 0.0635815\n",
      "[7]\tvalidation_set's binary_logloss: 0.0633768\n",
      "[8]\tvalidation_set's binary_logloss: 0.0634016\n",
      "[9]\tvalidation_set's binary_logloss: 0.0632577\n",
      "[10]\tvalidation_set's binary_logloss: 0.063336\n",
      "[11]\tvalidation_set's binary_logloss: 0.0632706\n",
      "[12]\tvalidation_set's binary_logloss: 0.0631872\n",
      "[13]\tvalidation_set's binary_logloss: 0.0632085\n",
      "[14]\tvalidation_set's binary_logloss: 0.0630723\n",
      "[15]\tvalidation_set's binary_logloss: 0.0630756\n",
      "[16]\tvalidation_set's binary_logloss: 0.0630514\n",
      "[17]\tvalidation_set's binary_logloss: 0.063119\n",
      "[18]\tvalidation_set's binary_logloss: 0.0632181\n",
      "[19]\tvalidation_set's binary_logloss: 0.0631409\n",
      "[20]\tvalidation_set's binary_logloss: 0.0630958\n",
      "Early stopping, best iteration is:\n",
      "[16]\tvalidation_set's binary_logloss: 0.0630514\n"
     ]
    },
    {
     "name": "stderr",
     "output_type": "stream",
     "text": [
      "Found `num_iterations` in params. Will use it instead of argument\n",
      "categorical_feature in Dataset is overridden.\n",
      "New categorical_feature is ['age', 'anticipation', 'change_recent', 'country', 'defeat_recent', 'delayed', 'direct_recent', 'elected', 'election_now', 'election_recent', 'exec_ant', 'exec_recent', 'government', 'indirect_recent', 'irreg_lead_ant', 'lead_recent', 'leg_ant', 'leg_recent', 'male', 'militarycareer', 'month', 'nochange_recent', 'prev_conflict', 'pt_attempt', 'pt_suc', 'ref_ant', 'ref_recent', 'tenure_months', 'victory_recent', 'year']\n"
     ]
    },
    {
     "name": "stdout",
     "output_type": "stream",
     "text": [
      "[1]\tvalidation_set's binary_logloss: 0.0643148\n",
      "Training until validation scores don't improve for 4 rounds\n",
      "[2]\tvalidation_set's binary_logloss: 0.0644848\n",
      "[3]\tvalidation_set's binary_logloss: 0.0641708\n",
      "[4]\tvalidation_set's binary_logloss: 0.063995\n",
      "[5]\tvalidation_set's binary_logloss: 0.0634942\n",
      "[6]\tvalidation_set's binary_logloss: 0.063088\n",
      "[7]\tvalidation_set's binary_logloss: 0.0630416\n",
      "[8]\tvalidation_set's binary_logloss: 0.0629056\n",
      "[9]\tvalidation_set's binary_logloss: 0.0628348\n",
      "[10]\tvalidation_set's binary_logloss: 0.0627445\n",
      "[11]\tvalidation_set's binary_logloss: 0.0626465\n",
      "[12]\tvalidation_set's binary_logloss: 0.062745\n",
      "[13]\tvalidation_set's binary_logloss: 0.0626722\n",
      "[14]\tvalidation_set's binary_logloss: 0.0625443\n",
      "[15]\tvalidation_set's binary_logloss: 0.0626002\n",
      "[16]\tvalidation_set's binary_logloss: 0.0627184\n",
      "[17]\tvalidation_set's binary_logloss: 0.06274\n",
      "[18]\tvalidation_set's binary_logloss: 0.0627117\n",
      "Early stopping, best iteration is:\n",
      "[14]\tvalidation_set's binary_logloss: 0.0625443\n"
     ]
    },
    {
     "name": "stderr",
     "output_type": "stream",
     "text": [
      "Found `num_iterations` in params. Will use it instead of argument\n",
      "categorical_feature in Dataset is overridden.\n",
      "New categorical_feature is ['age', 'anticipation', 'change_recent', 'country', 'defeat_recent', 'delayed', 'direct_recent', 'elected', 'election_now', 'election_recent', 'exec_ant', 'exec_recent', 'government', 'indirect_recent', 'irreg_lead_ant', 'lead_recent', 'leg_ant', 'leg_recent', 'male', 'militarycareer', 'month', 'nochange_recent', 'prev_conflict', 'pt_attempt', 'pt_suc', 'ref_ant', 'ref_recent', 'tenure_months', 'victory_recent', 'year']\n"
     ]
    },
    {
     "name": "stdout",
     "output_type": "stream",
     "text": [
      "[1]\tvalidation_set's binary_logloss: 0.0632947\n",
      "Training until validation scores don't improve for 4 rounds\n",
      "[2]\tvalidation_set's binary_logloss: 0.0627589\n",
      "[3]\tvalidation_set's binary_logloss: 0.0624235\n",
      "[4]\tvalidation_set's binary_logloss: 0.0619069\n",
      "[5]\tvalidation_set's binary_logloss: 0.0616993\n",
      "[6]\tvalidation_set's binary_logloss: 0.0615463\n",
      "[7]\tvalidation_set's binary_logloss: 0.0615644\n",
      "[8]\tvalidation_set's binary_logloss: 0.0614547\n",
      "[9]\tvalidation_set's binary_logloss: 0.0614963\n",
      "[10]\tvalidation_set's binary_logloss: 0.0613784\n",
      "[11]\tvalidation_set's binary_logloss: 0.0614112\n",
      "[12]\tvalidation_set's binary_logloss: 0.0613944\n",
      "[13]\tvalidation_set's binary_logloss: 0.061472\n",
      "[14]\tvalidation_set's binary_logloss: 0.0615608\n",
      "Early stopping, best iteration is:\n",
      "[10]\tvalidation_set's binary_logloss: 0.0613784\n"
     ]
    },
    {
     "name": "stderr",
     "output_type": "stream",
     "text": [
      "Found `num_iterations` in params. Will use it instead of argument\n",
      "categorical_feature in Dataset is overridden.\n",
      "New categorical_feature is ['age', 'anticipation', 'change_recent', 'country', 'defeat_recent', 'delayed', 'direct_recent', 'elected', 'election_now', 'election_recent', 'exec_ant', 'exec_recent', 'government', 'indirect_recent', 'irreg_lead_ant', 'lead_recent', 'leg_ant', 'leg_recent', 'male', 'militarycareer', 'month', 'nochange_recent', 'prev_conflict', 'pt_attempt', 'pt_suc', 'ref_ant', 'ref_recent', 'tenure_months', 'victory_recent', 'year']\n"
     ]
    },
    {
     "name": "stdout",
     "output_type": "stream",
     "text": [
      "[1]\tvalidation_set's binary_logloss: 0.0629111\n",
      "Training until validation scores don't improve for 4 rounds\n",
      "[2]\tvalidation_set's binary_logloss: 0.062348\n",
      "[3]\tvalidation_set's binary_logloss: 0.0618578\n",
      "[4]\tvalidation_set's binary_logloss: 0.0615106\n",
      "[5]\tvalidation_set's binary_logloss: 0.0611575\n",
      "[6]\tvalidation_set's binary_logloss: 0.0610427\n",
      "[7]\tvalidation_set's binary_logloss: 0.0608994\n",
      "[8]\tvalidation_set's binary_logloss: 0.0609316\n",
      "[9]\tvalidation_set's binary_logloss: 0.0607973\n",
      "[10]\tvalidation_set's binary_logloss: 0.0607386\n",
      "[11]\tvalidation_set's binary_logloss: 0.0607764\n",
      "[12]\tvalidation_set's binary_logloss: 0.0607922\n",
      "[13]\tvalidation_set's binary_logloss: 0.0608421\n",
      "[14]\tvalidation_set's binary_logloss: 0.0609206\n",
      "Early stopping, best iteration is:\n",
      "[10]\tvalidation_set's binary_logloss: 0.0607386\n"
     ]
    },
    {
     "name": "stderr",
     "output_type": "stream",
     "text": [
      "Found `num_iterations` in params. Will use it instead of argument\n",
      "categorical_feature in Dataset is overridden.\n",
      "New categorical_feature is ['age', 'anticipation', 'change_recent', 'country', 'defeat_recent', 'delayed', 'direct_recent', 'elected', 'election_now', 'election_recent', 'exec_ant', 'exec_recent', 'government', 'indirect_recent', 'irreg_lead_ant', 'lead_recent', 'leg_ant', 'leg_recent', 'male', 'militarycareer', 'month', 'nochange_recent', 'prev_conflict', 'pt_attempt', 'pt_suc', 'ref_ant', 'ref_recent', 'tenure_months', 'victory_recent', 'year']\n"
     ]
    },
    {
     "name": "stdout",
     "output_type": "stream",
     "text": [
      "[1]\tvalidation_set's binary_logloss: 0.0621717\n",
      "Training until validation scores don't improve for 4 rounds\n",
      "[2]\tvalidation_set's binary_logloss: 0.0615425\n",
      "[3]\tvalidation_set's binary_logloss: 0.0610501\n",
      "[4]\tvalidation_set's binary_logloss: 0.0608806\n",
      "[5]\tvalidation_set's binary_logloss: 0.0606204\n",
      "[6]\tvalidation_set's binary_logloss: 0.0605404\n",
      "[7]\tvalidation_set's binary_logloss: 0.0605027\n",
      "[8]\tvalidation_set's binary_logloss: 0.0605006\n",
      "[9]\tvalidation_set's binary_logloss: 0.0605789\n",
      "[10]\tvalidation_set's binary_logloss: 0.0605031\n",
      "[11]\tvalidation_set's binary_logloss: 0.0605987\n",
      "[12]\tvalidation_set's binary_logloss: 0.0605197\n",
      "Early stopping, best iteration is:\n",
      "[8]\tvalidation_set's binary_logloss: 0.0605006\n"
     ]
    },
    {
     "name": "stderr",
     "output_type": "stream",
     "text": [
      "Found `num_iterations` in params. Will use it instead of argument\n",
      "categorical_feature in Dataset is overridden.\n",
      "New categorical_feature is ['age', 'anticipation', 'change_recent', 'country', 'defeat_recent', 'delayed', 'direct_recent', 'elected', 'election_now', 'election_recent', 'exec_ant', 'exec_recent', 'government', 'indirect_recent', 'irreg_lead_ant', 'lead_recent', 'leg_ant', 'leg_recent', 'male', 'militarycareer', 'month', 'nochange_recent', 'prev_conflict', 'pt_attempt', 'pt_suc', 'ref_ant', 'ref_recent', 'tenure_months', 'victory_recent', 'year']\n"
     ]
    },
    {
     "name": "stdout",
     "output_type": "stream",
     "text": [
      "[1]\tvalidation_set's binary_logloss: 0.062279\n",
      "Training until validation scores don't improve for 4 rounds\n",
      "[2]\tvalidation_set's binary_logloss: 0.0617845\n",
      "[3]\tvalidation_set's binary_logloss: 0.06152\n",
      "[4]\tvalidation_set's binary_logloss: 0.0613166\n",
      "[5]\tvalidation_set's binary_logloss: 0.061121\n",
      "[6]\tvalidation_set's binary_logloss: 0.0609406\n",
      "[7]\tvalidation_set's binary_logloss: 0.0608085\n",
      "[8]\tvalidation_set's binary_logloss: 0.0607031\n",
      "[9]\tvalidation_set's binary_logloss: 0.0606522\n",
      "[10]\tvalidation_set's binary_logloss: 0.0604904\n",
      "[11]\tvalidation_set's binary_logloss: 0.0605542\n",
      "[12]\tvalidation_set's binary_logloss: 0.0604736\n",
      "[13]\tvalidation_set's binary_logloss: 0.0604971\n",
      "[14]\tvalidation_set's binary_logloss: 0.0605956\n",
      "[15]\tvalidation_set's binary_logloss: 0.060687\n",
      "[16]\tvalidation_set's binary_logloss: 0.0607985\n",
      "Early stopping, best iteration is:\n",
      "[12]\tvalidation_set's binary_logloss: 0.0604736\n"
     ]
    },
    {
     "name": "stderr",
     "output_type": "stream",
     "text": [
      "Found `num_iterations` in params. Will use it instead of argument\n",
      "categorical_feature in Dataset is overridden.\n",
      "New categorical_feature is ['age', 'anticipation', 'change_recent', 'country', 'defeat_recent', 'delayed', 'direct_recent', 'elected', 'election_now', 'election_recent', 'exec_ant', 'exec_recent', 'government', 'indirect_recent', 'irreg_lead_ant', 'lead_recent', 'leg_ant', 'leg_recent', 'male', 'militarycareer', 'month', 'nochange_recent', 'prev_conflict', 'pt_attempt', 'pt_suc', 'ref_ant', 'ref_recent', 'tenure_months', 'victory_recent', 'year']\n"
     ]
    },
    {
     "name": "stdout",
     "output_type": "stream",
     "text": [
      "[1]\tvalidation_set's binary_logloss: 0.0621792\n",
      "Training until validation scores don't improve for 4 rounds\n",
      "[2]\tvalidation_set's binary_logloss: 0.0617269\n",
      "[3]\tvalidation_set's binary_logloss: 0.0613097\n",
      "[4]\tvalidation_set's binary_logloss: 0.0609112\n",
      "[5]\tvalidation_set's binary_logloss: 0.0607289\n",
      "[6]\tvalidation_set's binary_logloss: 0.0605587\n",
      "[7]\tvalidation_set's binary_logloss: 0.0603413\n",
      "[8]\tvalidation_set's binary_logloss: 0.0604322\n",
      "[9]\tvalidation_set's binary_logloss: 0.0603424\n",
      "[10]\tvalidation_set's binary_logloss: 0.0603497\n",
      "[11]\tvalidation_set's binary_logloss: 0.0600799\n",
      "[12]\tvalidation_set's binary_logloss: 0.0600317\n",
      "[13]\tvalidation_set's binary_logloss: 0.0600973\n",
      "[14]\tvalidation_set's binary_logloss: 0.0602191\n",
      "[15]\tvalidation_set's binary_logloss: 0.0603142\n",
      "[16]\tvalidation_set's binary_logloss: 0.0604825\n",
      "Early stopping, best iteration is:\n",
      "[12]\tvalidation_set's binary_logloss: 0.0600317\n"
     ]
    },
    {
     "name": "stderr",
     "output_type": "stream",
     "text": [
      "Found `num_iterations` in params. Will use it instead of argument\n",
      "categorical_feature in Dataset is overridden.\n",
      "New categorical_feature is ['age', 'anticipation', 'change_recent', 'country', 'defeat_recent', 'delayed', 'direct_recent', 'elected', 'election_now', 'election_recent', 'exec_ant', 'exec_recent', 'government', 'indirect_recent', 'irreg_lead_ant', 'lead_recent', 'leg_ant', 'leg_recent', 'male', 'militarycareer', 'month', 'nochange_recent', 'prev_conflict', 'pt_attempt', 'pt_suc', 'ref_ant', 'ref_recent', 'tenure_months', 'victory_recent', 'year']\n"
     ]
    },
    {
     "name": "stdout",
     "output_type": "stream",
     "text": [
      "[1]\tvalidation_set's binary_logloss: 0.0620113\n",
      "Training until validation scores don't improve for 4 rounds\n",
      "[2]\tvalidation_set's binary_logloss: 0.0614549\n",
      "[3]\tvalidation_set's binary_logloss: 0.0609734\n",
      "[4]\tvalidation_set's binary_logloss: 0.0607344\n",
      "[5]\tvalidation_set's binary_logloss: 0.0605068\n",
      "[6]\tvalidation_set's binary_logloss: 0.0603292\n",
      "[7]\tvalidation_set's binary_logloss: 0.0602406\n",
      "[8]\tvalidation_set's binary_logloss: 0.0601629\n",
      "[9]\tvalidation_set's binary_logloss: 0.0601072\n",
      "[10]\tvalidation_set's binary_logloss: 0.0600034\n",
      "[11]\tvalidation_set's binary_logloss: 0.0601175\n",
      "[12]\tvalidation_set's binary_logloss: 0.0601887\n",
      "[13]\tvalidation_set's binary_logloss: 0.060127\n",
      "[14]\tvalidation_set's binary_logloss: 0.0602223\n",
      "Early stopping, best iteration is:\n",
      "[10]\tvalidation_set's binary_logloss: 0.0600034\n"
     ]
    },
    {
     "name": "stderr",
     "output_type": "stream",
     "text": [
      "Found `num_iterations` in params. Will use it instead of argument\n",
      "categorical_feature in Dataset is overridden.\n",
      "New categorical_feature is ['age', 'anticipation', 'change_recent', 'country', 'defeat_recent', 'delayed', 'direct_recent', 'elected', 'election_now', 'election_recent', 'exec_ant', 'exec_recent', 'government', 'indirect_recent', 'irreg_lead_ant', 'lead_recent', 'leg_ant', 'leg_recent', 'male', 'militarycareer', 'month', 'nochange_recent', 'prev_conflict', 'pt_attempt', 'pt_suc', 'ref_ant', 'ref_recent', 'tenure_months', 'victory_recent', 'year']\n"
     ]
    },
    {
     "name": "stdout",
     "output_type": "stream",
     "text": [
      "[1]\tvalidation_set's binary_logloss: 0.0619159\n",
      "Training until validation scores don't improve for 4 rounds\n",
      "[2]\tvalidation_set's binary_logloss: 0.0613691\n",
      "[3]\tvalidation_set's binary_logloss: 0.0609394\n",
      "[4]\tvalidation_set's binary_logloss: 0.0609244\n",
      "[5]\tvalidation_set's binary_logloss: 0.0607455\n",
      "[6]\tvalidation_set's binary_logloss: 0.060542\n",
      "[7]\tvalidation_set's binary_logloss: 0.0603893\n",
      "[8]\tvalidation_set's binary_logloss: 0.0603752\n",
      "[9]\tvalidation_set's binary_logloss: 0.0603955\n",
      "[10]\tvalidation_set's binary_logloss: 0.0602246\n",
      "[11]\tvalidation_set's binary_logloss: 0.0601883\n",
      "[12]\tvalidation_set's binary_logloss: 0.0601873\n",
      "[13]\tvalidation_set's binary_logloss: 0.0602308\n",
      "[14]\tvalidation_set's binary_logloss: 0.0603839\n",
      "[15]\tvalidation_set's binary_logloss: 0.0604644\n",
      "[16]\tvalidation_set's binary_logloss: 0.0604819\n",
      "Early stopping, best iteration is:\n",
      "[12]\tvalidation_set's binary_logloss: 0.0601873\n"
     ]
    },
    {
     "name": "stderr",
     "output_type": "stream",
     "text": [
      "Found `num_iterations` in params. Will use it instead of argument\n",
      "categorical_feature in Dataset is overridden.\n",
      "New categorical_feature is ['age', 'anticipation', 'change_recent', 'country', 'defeat_recent', 'delayed', 'direct_recent', 'elected', 'election_now', 'election_recent', 'exec_ant', 'exec_recent', 'government', 'indirect_recent', 'irreg_lead_ant', 'lead_recent', 'leg_ant', 'leg_recent', 'male', 'militarycareer', 'month', 'nochange_recent', 'prev_conflict', 'pt_attempt', 'pt_suc', 'ref_ant', 'ref_recent', 'tenure_months', 'victory_recent', 'year']\n"
     ]
    },
    {
     "name": "stdout",
     "output_type": "stream",
     "text": [
      "[1]\tvalidation_set's binary_logloss: 0.0619506\n",
      "Training until validation scores don't improve for 4 rounds\n",
      "[2]\tvalidation_set's binary_logloss: 0.0611564\n",
      "[3]\tvalidation_set's binary_logloss: 0.0607835\n",
      "[4]\tvalidation_set's binary_logloss: 0.0604352\n",
      "[5]\tvalidation_set's binary_logloss: 0.0603177\n",
      "[6]\tvalidation_set's binary_logloss: 0.06025\n",
      "[7]\tvalidation_set's binary_logloss: 0.0600602\n",
      "[8]\tvalidation_set's binary_logloss: 0.0600333\n",
      "[9]\tvalidation_set's binary_logloss: 0.0599475\n",
      "[10]\tvalidation_set's binary_logloss: 0.0599521\n",
      "[11]\tvalidation_set's binary_logloss: 0.0599812\n",
      "[12]\tvalidation_set's binary_logloss: 0.0599919\n",
      "[13]\tvalidation_set's binary_logloss: 0.0599729\n",
      "Early stopping, best iteration is:\n",
      "[9]\tvalidation_set's binary_logloss: 0.0599475\n"
     ]
    },
    {
     "name": "stderr",
     "output_type": "stream",
     "text": [
      "Found `num_iterations` in params. Will use it instead of argument\n",
      "categorical_feature in Dataset is overridden.\n",
      "New categorical_feature is ['age', 'anticipation', 'change_recent', 'country', 'defeat_recent', 'delayed', 'direct_recent', 'elected', 'election_now', 'election_recent', 'exec_ant', 'exec_recent', 'government', 'indirect_recent', 'irreg_lead_ant', 'lead_recent', 'leg_ant', 'leg_recent', 'male', 'militarycareer', 'month', 'nochange_recent', 'prev_conflict', 'pt_attempt', 'pt_suc', 'ref_ant', 'ref_recent', 'tenure_months', 'victory_recent', 'year']\n"
     ]
    },
    {
     "name": "stdout",
     "output_type": "stream",
     "text": [
      "[1]\tvalidation_set's binary_logloss: 0.0617176\n",
      "Training until validation scores don't improve for 4 rounds\n",
      "[2]\tvalidation_set's binary_logloss: 0.0610661\n",
      "[3]\tvalidation_set's binary_logloss: 0.0607663\n",
      "[4]\tvalidation_set's binary_logloss: 0.0607573\n",
      "[5]\tvalidation_set's binary_logloss: 0.0605001\n",
      "[6]\tvalidation_set's binary_logloss: 0.060453\n",
      "[7]\tvalidation_set's binary_logloss: 0.0602819\n",
      "[8]\tvalidation_set's binary_logloss: 0.0602934\n",
      "[9]\tvalidation_set's binary_logloss: 0.0601555\n",
      "[10]\tvalidation_set's binary_logloss: 0.0601141\n",
      "[11]\tvalidation_set's binary_logloss: 0.0601791\n",
      "[12]\tvalidation_set's binary_logloss: 0.0601253\n",
      "[13]\tvalidation_set's binary_logloss: 0.0601552\n",
      "[14]\tvalidation_set's binary_logloss: 0.0602783\n",
      "Early stopping, best iteration is:\n",
      "[10]\tvalidation_set's binary_logloss: 0.0601141\n"
     ]
    },
    {
     "name": "stderr",
     "output_type": "stream",
     "text": [
      "Found `num_iterations` in params. Will use it instead of argument\n",
      "categorical_feature in Dataset is overridden.\n",
      "New categorical_feature is ['age', 'anticipation', 'change_recent', 'country', 'defeat_recent', 'delayed', 'direct_recent', 'elected', 'election_now', 'election_recent', 'exec_ant', 'exec_recent', 'government', 'indirect_recent', 'irreg_lead_ant', 'lead_recent', 'leg_ant', 'leg_recent', 'male', 'militarycareer', 'month', 'nochange_recent', 'prev_conflict', 'pt_attempt', 'pt_suc', 'ref_ant', 'ref_recent', 'tenure_months', 'victory_recent', 'year']\n"
     ]
    },
    {
     "name": "stdout",
     "output_type": "stream",
     "text": [
      "[1]\tvalidation_set's binary_logloss: 0.0620557\n",
      "Training until validation scores don't improve for 4 rounds\n",
      "[2]\tvalidation_set's binary_logloss: 0.0615201\n",
      "[3]\tvalidation_set's binary_logloss: 0.0610259\n",
      "[4]\tvalidation_set's binary_logloss: 0.061122\n",
      "[5]\tvalidation_set's binary_logloss: 0.0609055\n",
      "[6]\tvalidation_set's binary_logloss: 0.0608455\n",
      "[7]\tvalidation_set's binary_logloss: 0.0608053\n",
      "[8]\tvalidation_set's binary_logloss: 0.0606947\n",
      "[9]\tvalidation_set's binary_logloss: 0.060757\n",
      "[10]\tvalidation_set's binary_logloss: 0.0607091\n",
      "[11]\tvalidation_set's binary_logloss: 0.0607998\n",
      "[12]\tvalidation_set's binary_logloss: 0.0606213\n",
      "[13]\tvalidation_set's binary_logloss: 0.0607274\n",
      "[14]\tvalidation_set's binary_logloss: 0.0607736\n",
      "[15]\tvalidation_set's binary_logloss: 0.0607862\n",
      "[16]\tvalidation_set's binary_logloss: 0.0609154\n",
      "Early stopping, best iteration is:\n",
      "[12]\tvalidation_set's binary_logloss: 0.0606213\n"
     ]
    },
    {
     "name": "stderr",
     "output_type": "stream",
     "text": [
      "Found `num_iterations` in params. Will use it instead of argument\n",
      "categorical_feature in Dataset is overridden.\n",
      "New categorical_feature is ['age', 'anticipation', 'change_recent', 'country', 'defeat_recent', 'delayed', 'direct_recent', 'elected', 'election_now', 'election_recent', 'exec_ant', 'exec_recent', 'government', 'indirect_recent', 'irreg_lead_ant', 'lead_recent', 'leg_ant', 'leg_recent', 'male', 'militarycareer', 'month', 'nochange_recent', 'prev_conflict', 'pt_attempt', 'pt_suc', 'ref_ant', 'ref_recent', 'tenure_months', 'victory_recent', 'year']\n"
     ]
    },
    {
     "name": "stdout",
     "output_type": "stream",
     "text": [
      "[1]\tvalidation_set's binary_logloss: 0.061656\n",
      "Training until validation scores don't improve for 4 rounds\n",
      "[2]\tvalidation_set's binary_logloss: 0.0614436\n",
      "[3]\tvalidation_set's binary_logloss: 0.0613196\n",
      "[4]\tvalidation_set's binary_logloss: 0.0610029\n",
      "[5]\tvalidation_set's binary_logloss: 0.0607539\n",
      "[6]\tvalidation_set's binary_logloss: 0.0606361\n",
      "[7]\tvalidation_set's binary_logloss: 0.0604308\n",
      "[8]\tvalidation_set's binary_logloss: 0.0603262\n",
      "[9]\tvalidation_set's binary_logloss: 0.0604468\n",
      "[10]\tvalidation_set's binary_logloss: 0.0604923\n",
      "[11]\tvalidation_set's binary_logloss: 0.0606885\n",
      "[12]\tvalidation_set's binary_logloss: 0.0606502\n",
      "Early stopping, best iteration is:\n",
      "[8]\tvalidation_set's binary_logloss: 0.0603262\n"
     ]
    },
    {
     "name": "stderr",
     "output_type": "stream",
     "text": [
      "Found `num_iterations` in params. Will use it instead of argument\n",
      "categorical_feature in Dataset is overridden.\n",
      "New categorical_feature is ['age', 'anticipation', 'change_recent', 'country', 'defeat_recent', 'delayed', 'direct_recent', 'elected', 'election_now', 'election_recent', 'exec_ant', 'exec_recent', 'government', 'indirect_recent', 'irreg_lead_ant', 'lead_recent', 'leg_ant', 'leg_recent', 'male', 'militarycareer', 'month', 'nochange_recent', 'prev_conflict', 'pt_attempt', 'pt_suc', 'ref_ant', 'ref_recent', 'tenure_months', 'victory_recent', 'year']\n"
     ]
    },
    {
     "name": "stdout",
     "output_type": "stream",
     "text": [
      "[1]\tvalidation_set's binary_logloss: 0.0620501\n",
      "Training until validation scores don't improve for 4 rounds\n",
      "[2]\tvalidation_set's binary_logloss: 0.0617288\n",
      "[3]\tvalidation_set's binary_logloss: 0.0614886\n",
      "[4]\tvalidation_set's binary_logloss: 0.0612451\n",
      "[5]\tvalidation_set's binary_logloss: 0.0610763\n",
      "[6]\tvalidation_set's binary_logloss: 0.0610629\n",
      "[7]\tvalidation_set's binary_logloss: 0.0608141\n",
      "[8]\tvalidation_set's binary_logloss: 0.0609094\n",
      "[9]\tvalidation_set's binary_logloss: 0.0609363\n",
      "[10]\tvalidation_set's binary_logloss: 0.0612461\n",
      "[11]\tvalidation_set's binary_logloss: 0.0613285\n",
      "Early stopping, best iteration is:\n",
      "[7]\tvalidation_set's binary_logloss: 0.0608141\n"
     ]
    },
    {
     "name": "stderr",
     "output_type": "stream",
     "text": [
      "Found `num_iterations` in params. Will use it instead of argument\n",
      "categorical_feature in Dataset is overridden.\n",
      "New categorical_feature is ['age', 'anticipation', 'change_recent', 'country', 'defeat_recent', 'delayed', 'direct_recent', 'elected', 'election_now', 'election_recent', 'exec_ant', 'exec_recent', 'government', 'indirect_recent', 'irreg_lead_ant', 'lead_recent', 'leg_ant', 'leg_recent', 'male', 'militarycareer', 'month', 'nochange_recent', 'prev_conflict', 'pt_attempt', 'pt_suc', 'ref_ant', 'ref_recent', 'tenure_months', 'victory_recent', 'year']\n"
     ]
    },
    {
     "name": "stdout",
     "output_type": "stream",
     "text": [
      "[1]\tvalidation_set's binary_logloss: 0.0614542\n",
      "Training until validation scores don't improve for 4 rounds\n",
      "[2]\tvalidation_set's binary_logloss: 0.0612078\n",
      "[3]\tvalidation_set's binary_logloss: 0.061076\n",
      "[4]\tvalidation_set's binary_logloss: 0.0605637\n",
      "[5]\tvalidation_set's binary_logloss: 0.0605406\n",
      "[6]\tvalidation_set's binary_logloss: 0.0604107\n",
      "[7]\tvalidation_set's binary_logloss: 0.0605126\n",
      "[8]\tvalidation_set's binary_logloss: 0.0604001\n",
      "[9]\tvalidation_set's binary_logloss: 0.0605613\n",
      "[10]\tvalidation_set's binary_logloss: 0.0607485\n",
      "[11]\tvalidation_set's binary_logloss: 0.0608455\n",
      "[12]\tvalidation_set's binary_logloss: 0.0608287\n",
      "Early stopping, best iteration is:\n",
      "[8]\tvalidation_set's binary_logloss: 0.0604001\n"
     ]
    },
    {
     "name": "stderr",
     "output_type": "stream",
     "text": [
      "Found `num_iterations` in params. Will use it instead of argument\n",
      "categorical_feature in Dataset is overridden.\n",
      "New categorical_feature is ['age', 'anticipation', 'change_recent', 'country', 'defeat_recent', 'delayed', 'direct_recent', 'elected', 'election_now', 'election_recent', 'exec_ant', 'exec_recent', 'government', 'indirect_recent', 'irreg_lead_ant', 'lead_recent', 'leg_ant', 'leg_recent', 'male', 'militarycareer', 'month', 'nochange_recent', 'prev_conflict', 'pt_attempt', 'pt_suc', 'ref_ant', 'ref_recent', 'tenure_months', 'victory_recent', 'year']\n"
     ]
    },
    {
     "name": "stdout",
     "output_type": "stream",
     "text": [
      "[1]\tvalidation_set's binary_logloss: 0.0611882\n",
      "Training until validation scores don't improve for 4 rounds\n",
      "[2]\tvalidation_set's binary_logloss: 0.0609311\n",
      "[3]\tvalidation_set's binary_logloss: 0.0607878\n",
      "[4]\tvalidation_set's binary_logloss: 0.0605362\n",
      "[5]\tvalidation_set's binary_logloss: 0.0603804\n",
      "[6]\tvalidation_set's binary_logloss: 0.0603068\n",
      "[7]\tvalidation_set's binary_logloss: 0.0603947\n",
      "[8]\tvalidation_set's binary_logloss: 0.0603526\n",
      "[9]\tvalidation_set's binary_logloss: 0.0605262\n",
      "[10]\tvalidation_set's binary_logloss: 0.0603979\n",
      "Early stopping, best iteration is:\n",
      "[6]\tvalidation_set's binary_logloss: 0.0603068\n"
     ]
    },
    {
     "name": "stderr",
     "output_type": "stream",
     "text": [
      "Found `num_iterations` in params. Will use it instead of argument\n",
      "categorical_feature in Dataset is overridden.\n",
      "New categorical_feature is ['age', 'anticipation', 'change_recent', 'country', 'defeat_recent', 'delayed', 'direct_recent', 'elected', 'election_now', 'election_recent', 'exec_ant', 'exec_recent', 'government', 'indirect_recent', 'irreg_lead_ant', 'lead_recent', 'leg_ant', 'leg_recent', 'male', 'militarycareer', 'month', 'nochange_recent', 'prev_conflict', 'pt_attempt', 'pt_suc', 'ref_ant', 'ref_recent', 'tenure_months', 'victory_recent', 'year']\n"
     ]
    },
    {
     "name": "stdout",
     "output_type": "stream",
     "text": [
      "[1]\tvalidation_set's binary_logloss: 0.0609763\n",
      "Training until validation scores don't improve for 4 rounds\n",
      "[2]\tvalidation_set's binary_logloss: 0.0605656\n",
      "[3]\tvalidation_set's binary_logloss: 0.0603442\n",
      "[4]\tvalidation_set's binary_logloss: 0.0601454\n",
      "[5]\tvalidation_set's binary_logloss: 0.059994\n",
      "[6]\tvalidation_set's binary_logloss: 0.0600156\n",
      "[7]\tvalidation_set's binary_logloss: 0.0598347\n",
      "[8]\tvalidation_set's binary_logloss: 0.059774\n",
      "[9]\tvalidation_set's binary_logloss: 0.0598411\n",
      "[10]\tvalidation_set's binary_logloss: 0.0600356\n",
      "[11]\tvalidation_set's binary_logloss: 0.0599233\n",
      "[12]\tvalidation_set's binary_logloss: 0.0600268\n",
      "Early stopping, best iteration is:\n",
      "[8]\tvalidation_set's binary_logloss: 0.059774\n"
     ]
    },
    {
     "name": "stderr",
     "output_type": "stream",
     "text": [
      "Found `num_iterations` in params. Will use it instead of argument\n",
      "categorical_feature in Dataset is overridden.\n",
      "New categorical_feature is ['age', 'anticipation', 'change_recent', 'country', 'defeat_recent', 'delayed', 'direct_recent', 'elected', 'election_now', 'election_recent', 'exec_ant', 'exec_recent', 'government', 'indirect_recent', 'irreg_lead_ant', 'lead_recent', 'leg_ant', 'leg_recent', 'male', 'militarycareer', 'month', 'nochange_recent', 'prev_conflict', 'pt_attempt', 'pt_suc', 'ref_ant', 'ref_recent', 'tenure_months', 'victory_recent', 'year']\n"
     ]
    },
    {
     "name": "stdout",
     "output_type": "stream",
     "text": [
      "[1]\tvalidation_set's binary_logloss: 0.061449\n",
      "Training until validation scores don't improve for 4 rounds\n",
      "[2]\tvalidation_set's binary_logloss: 0.061125\n",
      "[3]\tvalidation_set's binary_logloss: 0.0608482\n",
      "[4]\tvalidation_set's binary_logloss: 0.0607119\n",
      "[5]\tvalidation_set's binary_logloss: 0.0606518\n",
      "[6]\tvalidation_set's binary_logloss: 0.060735\n",
      "[7]\tvalidation_set's binary_logloss: 0.060586\n",
      "[8]\tvalidation_set's binary_logloss: 0.0606209\n",
      "[9]\tvalidation_set's binary_logloss: 0.0605699\n",
      "[10]\tvalidation_set's binary_logloss: 0.0605237\n",
      "[11]\tvalidation_set's binary_logloss: 0.0606448\n",
      "[12]\tvalidation_set's binary_logloss: 0.0608327\n",
      "[13]\tvalidation_set's binary_logloss: 0.0609851\n",
      "[14]\tvalidation_set's binary_logloss: 0.0610172\n",
      "Early stopping, best iteration is:\n",
      "[10]\tvalidation_set's binary_logloss: 0.0605237\n"
     ]
    },
    {
     "name": "stderr",
     "output_type": "stream",
     "text": [
      "Found `num_iterations` in params. Will use it instead of argument\n",
      "categorical_feature in Dataset is overridden.\n",
      "New categorical_feature is ['age', 'anticipation', 'change_recent', 'country', 'defeat_recent', 'delayed', 'direct_recent', 'elected', 'election_now', 'election_recent', 'exec_ant', 'exec_recent', 'government', 'indirect_recent', 'irreg_lead_ant', 'lead_recent', 'leg_ant', 'leg_recent', 'male', 'militarycareer', 'month', 'nochange_recent', 'prev_conflict', 'pt_attempt', 'pt_suc', 'ref_ant', 'ref_recent', 'tenure_months', 'victory_recent', 'year']\n"
     ]
    },
    {
     "name": "stdout",
     "output_type": "stream",
     "text": [
      "[1]\tvalidation_set's binary_logloss: 0.0621354\n",
      "Training until validation scores don't improve for 4 rounds\n",
      "[2]\tvalidation_set's binary_logloss: 0.0616433\n",
      "[3]\tvalidation_set's binary_logloss: 0.0613595\n",
      "[4]\tvalidation_set's binary_logloss: 0.0609684\n",
      "[5]\tvalidation_set's binary_logloss: 0.0609397\n",
      "[6]\tvalidation_set's binary_logloss: 0.0608108\n",
      "[7]\tvalidation_set's binary_logloss: 0.0607157\n",
      "[8]\tvalidation_set's binary_logloss: 0.0605662\n",
      "[9]\tvalidation_set's binary_logloss: 0.0605531\n",
      "[10]\tvalidation_set's binary_logloss: 0.0607271\n",
      "[11]\tvalidation_set's binary_logloss: 0.0607535\n",
      "[12]\tvalidation_set's binary_logloss: 0.0607362\n",
      "[13]\tvalidation_set's binary_logloss: 0.0608085\n",
      "Early stopping, best iteration is:\n",
      "[9]\tvalidation_set's binary_logloss: 0.0605531\n"
     ]
    },
    {
     "name": "stderr",
     "output_type": "stream",
     "text": [
      "Found `num_iterations` in params. Will use it instead of argument\n",
      "categorical_feature in Dataset is overridden.\n",
      "New categorical_feature is ['age', 'anticipation', 'change_recent', 'country', 'defeat_recent', 'delayed', 'direct_recent', 'elected', 'election_now', 'election_recent', 'exec_ant', 'exec_recent', 'government', 'indirect_recent', 'irreg_lead_ant', 'lead_recent', 'leg_ant', 'leg_recent', 'male', 'militarycareer', 'month', 'nochange_recent', 'prev_conflict', 'pt_attempt', 'pt_suc', 'ref_ant', 'ref_recent', 'tenure_months', 'victory_recent', 'year']\n"
     ]
    },
    {
     "name": "stdout",
     "output_type": "stream",
     "text": [
      "[1]\tvalidation_set's binary_logloss: 0.0614093\n",
      "Training until validation scores don't improve for 4 rounds\n",
      "[2]\tvalidation_set's binary_logloss: 0.0609114\n",
      "[3]\tvalidation_set's binary_logloss: 0.0604503\n",
      "[4]\tvalidation_set's binary_logloss: 0.0602116\n",
      "[5]\tvalidation_set's binary_logloss: 0.0601015\n",
      "[6]\tvalidation_set's binary_logloss: 0.0600619\n",
      "[7]\tvalidation_set's binary_logloss: 0.059957\n",
      "[8]\tvalidation_set's binary_logloss: 0.0600474\n",
      "[9]\tvalidation_set's binary_logloss: 0.0600914\n",
      "[10]\tvalidation_set's binary_logloss: 0.0601707\n",
      "[11]\tvalidation_set's binary_logloss: 0.0602896\n",
      "Early stopping, best iteration is:\n",
      "[7]\tvalidation_set's binary_logloss: 0.059957\n"
     ]
    },
    {
     "name": "stderr",
     "output_type": "stream",
     "text": [
      "Found `num_iterations` in params. Will use it instead of argument\n",
      "categorical_feature in Dataset is overridden.\n",
      "New categorical_feature is ['age', 'anticipation', 'change_recent', 'country', 'defeat_recent', 'delayed', 'direct_recent', 'elected', 'election_now', 'election_recent', 'exec_ant', 'exec_recent', 'government', 'indirect_recent', 'irreg_lead_ant', 'lead_recent', 'leg_ant', 'leg_recent', 'male', 'militarycareer', 'month', 'nochange_recent', 'prev_conflict', 'pt_attempt', 'pt_suc', 'ref_ant', 'ref_recent', 'tenure_months', 'victory_recent', 'year']\n"
     ]
    },
    {
     "name": "stdout",
     "output_type": "stream",
     "text": [
      "[1]\tvalidation_set's binary_logloss: 0.0611437\n",
      "Training until validation scores don't improve for 4 rounds\n",
      "[2]\tvalidation_set's binary_logloss: 0.0606256\n",
      "[3]\tvalidation_set's binary_logloss: 0.0603919\n",
      "[4]\tvalidation_set's binary_logloss: 0.0603041\n",
      "[5]\tvalidation_set's binary_logloss: 0.06015\n",
      "[6]\tvalidation_set's binary_logloss: 0.0600119\n",
      "[7]\tvalidation_set's binary_logloss: 0.0600414\n",
      "[8]\tvalidation_set's binary_logloss: 0.0599187\n",
      "[9]\tvalidation_set's binary_logloss: 0.0599137\n",
      "[10]\tvalidation_set's binary_logloss: 0.0599114\n",
      "[11]\tvalidation_set's binary_logloss: 0.0600062\n",
      "[12]\tvalidation_set's binary_logloss: 0.0600091\n",
      "[13]\tvalidation_set's binary_logloss: 0.0601315\n",
      "[14]\tvalidation_set's binary_logloss: 0.060203\n",
      "Early stopping, best iteration is:\n",
      "[10]\tvalidation_set's binary_logloss: 0.0599114\n"
     ]
    },
    {
     "name": "stderr",
     "output_type": "stream",
     "text": [
      "Found `num_iterations` in params. Will use it instead of argument\n",
      "categorical_feature in Dataset is overridden.\n",
      "New categorical_feature is ['age', 'anticipation', 'change_recent', 'country', 'defeat_recent', 'delayed', 'direct_recent', 'elected', 'election_now', 'election_recent', 'exec_ant', 'exec_recent', 'government', 'indirect_recent', 'irreg_lead_ant', 'lead_recent', 'leg_ant', 'leg_recent', 'male', 'militarycareer', 'month', 'nochange_recent', 'prev_conflict', 'pt_attempt', 'pt_suc', 'ref_ant', 'ref_recent', 'tenure_months', 'victory_recent', 'year']\n"
     ]
    },
    {
     "name": "stdout",
     "output_type": "stream",
     "text": [
      "[1]\tvalidation_set's binary_logloss: 0.0616337\n",
      "Training until validation scores don't improve for 4 rounds\n",
      "[2]\tvalidation_set's binary_logloss: 0.0616393\n",
      "[3]\tvalidation_set's binary_logloss: 0.0613192\n",
      "[4]\tvalidation_set's binary_logloss: 0.0609309\n",
      "[5]\tvalidation_set's binary_logloss: 0.0606158\n",
      "[6]\tvalidation_set's binary_logloss: 0.0604004\n",
      "[7]\tvalidation_set's binary_logloss: 0.0604027\n",
      "[8]\tvalidation_set's binary_logloss: 0.0602929\n",
      "[9]\tvalidation_set's binary_logloss: 0.0603209\n",
      "[10]\tvalidation_set's binary_logloss: 0.0603241\n",
      "[11]\tvalidation_set's binary_logloss: 0.0603129\n",
      "[12]\tvalidation_set's binary_logloss: 0.0603695\n",
      "Early stopping, best iteration is:\n",
      "[8]\tvalidation_set's binary_logloss: 0.0602929\n"
     ]
    },
    {
     "name": "stderr",
     "output_type": "stream",
     "text": [
      "Found `num_iterations` in params. Will use it instead of argument\n",
      "categorical_feature in Dataset is overridden.\n",
      "New categorical_feature is ['age', 'anticipation', 'change_recent', 'country', 'defeat_recent', 'delayed', 'direct_recent', 'elected', 'election_now', 'election_recent', 'exec_ant', 'exec_recent', 'government', 'indirect_recent', 'irreg_lead_ant', 'lead_recent', 'leg_ant', 'leg_recent', 'male', 'militarycareer', 'month', 'nochange_recent', 'prev_conflict', 'pt_attempt', 'pt_suc', 'ref_ant', 'ref_recent', 'tenure_months', 'victory_recent', 'year']\n"
     ]
    },
    {
     "name": "stdout",
     "output_type": "stream",
     "text": [
      "[1]\tvalidation_set's binary_logloss: 0.0619182\n",
      "Training until validation scores don't improve for 4 rounds\n",
      "[2]\tvalidation_set's binary_logloss: 0.0616208\n",
      "[3]\tvalidation_set's binary_logloss: 0.0613457\n",
      "[4]\tvalidation_set's binary_logloss: 0.061021\n",
      "[5]\tvalidation_set's binary_logloss: 0.0608751\n",
      "[6]\tvalidation_set's binary_logloss: 0.0609196\n",
      "[7]\tvalidation_set's binary_logloss: 0.0607421\n",
      "[8]\tvalidation_set's binary_logloss: 0.0608618\n",
      "[9]\tvalidation_set's binary_logloss: 0.0609018\n",
      "[10]\tvalidation_set's binary_logloss: 0.0608841\n",
      "[11]\tvalidation_set's binary_logloss: 0.0609806\n",
      "Early stopping, best iteration is:\n",
      "[7]\tvalidation_set's binary_logloss: 0.0607421\n"
     ]
    },
    {
     "name": "stderr",
     "output_type": "stream",
     "text": [
      "Found `num_iterations` in params. Will use it instead of argument\n",
      "categorical_feature in Dataset is overridden.\n",
      "New categorical_feature is ['age', 'anticipation', 'change_recent', 'country', 'defeat_recent', 'delayed', 'direct_recent', 'elected', 'election_now', 'election_recent', 'exec_ant', 'exec_recent', 'government', 'indirect_recent', 'irreg_lead_ant', 'lead_recent', 'leg_ant', 'leg_recent', 'male', 'militarycareer', 'month', 'nochange_recent', 'prev_conflict', 'pt_attempt', 'pt_suc', 'ref_ant', 'ref_recent', 'tenure_months', 'victory_recent', 'year']\n"
     ]
    },
    {
     "name": "stdout",
     "output_type": "stream",
     "text": [
      "[1]\tvalidation_set's binary_logloss: 0.0617936\n",
      "Training until validation scores don't improve for 4 rounds\n",
      "[2]\tvalidation_set's binary_logloss: 0.0614048\n",
      "[3]\tvalidation_set's binary_logloss: 0.0612534\n",
      "[4]\tvalidation_set's binary_logloss: 0.06128\n",
      "[5]\tvalidation_set's binary_logloss: 0.0611482\n",
      "[6]\tvalidation_set's binary_logloss: 0.0613431\n",
      "[7]\tvalidation_set's binary_logloss: 0.0613428\n",
      "[8]\tvalidation_set's binary_logloss: 0.0613905\n",
      "[9]\tvalidation_set's binary_logloss: 0.0612872\n",
      "Early stopping, best iteration is:\n",
      "[5]\tvalidation_set's binary_logloss: 0.0611482\n"
     ]
    },
    {
     "name": "stderr",
     "output_type": "stream",
     "text": [
      "Found `num_iterations` in params. Will use it instead of argument\n",
      "categorical_feature in Dataset is overridden.\n",
      "New categorical_feature is ['age', 'anticipation', 'change_recent', 'country', 'defeat_recent', 'delayed', 'direct_recent', 'elected', 'election_now', 'election_recent', 'exec_ant', 'exec_recent', 'government', 'indirect_recent', 'irreg_lead_ant', 'lead_recent', 'leg_ant', 'leg_recent', 'male', 'militarycareer', 'month', 'nochange_recent', 'prev_conflict', 'pt_attempt', 'pt_suc', 'ref_ant', 'ref_recent', 'tenure_months', 'victory_recent', 'year']\n"
     ]
    },
    {
     "name": "stdout",
     "output_type": "stream",
     "text": [
      "[1]\tvalidation_set's binary_logloss: 0.061968\n",
      "Training until validation scores don't improve for 4 rounds\n",
      "[2]\tvalidation_set's binary_logloss: 0.061871\n",
      "[3]\tvalidation_set's binary_logloss: 0.062174\n",
      "[4]\tvalidation_set's binary_logloss: 0.0621219\n",
      "[5]\tvalidation_set's binary_logloss: 0.062064\n",
      "[6]\tvalidation_set's binary_logloss: 0.0618803\n",
      "Early stopping, best iteration is:\n",
      "[2]\tvalidation_set's binary_logloss: 0.061871\n"
     ]
    },
    {
     "name": "stderr",
     "output_type": "stream",
     "text": [
      "Found `num_iterations` in params. Will use it instead of argument\n",
      "categorical_feature in Dataset is overridden.\n",
      "New categorical_feature is ['age', 'anticipation', 'change_recent', 'country', 'defeat_recent', 'delayed', 'direct_recent', 'elected', 'election_now', 'election_recent', 'exec_ant', 'exec_recent', 'government', 'indirect_recent', 'irreg_lead_ant', 'lead_recent', 'leg_ant', 'leg_recent', 'male', 'militarycareer', 'month', 'nochange_recent', 'prev_conflict', 'pt_attempt', 'pt_suc', 'ref_ant', 'ref_recent', 'tenure_months', 'victory_recent', 'year']\n"
     ]
    },
    {
     "name": "stdout",
     "output_type": "stream",
     "text": [
      "[1]\tvalidation_set's binary_logloss: 0.0619941\n",
      "Training until validation scores don't improve for 4 rounds\n",
      "[2]\tvalidation_set's binary_logloss: 0.0614182\n",
      "[3]\tvalidation_set's binary_logloss: 0.0614467\n",
      "[4]\tvalidation_set's binary_logloss: 0.0611569\n",
      "[5]\tvalidation_set's binary_logloss: 0.0611473\n",
      "[6]\tvalidation_set's binary_logloss: 0.0609956\n",
      "[7]\tvalidation_set's binary_logloss: 0.0609233\n",
      "[8]\tvalidation_set's binary_logloss: 0.060976\n",
      "[9]\tvalidation_set's binary_logloss: 0.0610254\n",
      "[10]\tvalidation_set's binary_logloss: 0.0610892\n",
      "[11]\tvalidation_set's binary_logloss: 0.061248\n",
      "Early stopping, best iteration is:\n",
      "[7]\tvalidation_set's binary_logloss: 0.0609233\n"
     ]
    },
    {
     "name": "stderr",
     "output_type": "stream",
     "text": [
      "Found `num_iterations` in params. Will use it instead of argument\n",
      "categorical_feature in Dataset is overridden.\n",
      "New categorical_feature is ['age', 'anticipation', 'change_recent', 'country', 'defeat_recent', 'delayed', 'direct_recent', 'elected', 'election_now', 'election_recent', 'exec_ant', 'exec_recent', 'government', 'indirect_recent', 'irreg_lead_ant', 'lead_recent', 'leg_ant', 'leg_recent', 'male', 'militarycareer', 'month', 'nochange_recent', 'prev_conflict', 'pt_attempt', 'pt_suc', 'ref_ant', 'ref_recent', 'tenure_months', 'victory_recent', 'year']\n"
     ]
    },
    {
     "name": "stdout",
     "output_type": "stream",
     "text": [
      "[1]\tvalidation_set's binary_logloss: 0.0618984\n",
      "Training until validation scores don't improve for 4 rounds\n",
      "[2]\tvalidation_set's binary_logloss: 0.0618703\n",
      "[3]\tvalidation_set's binary_logloss: 0.0615616\n",
      "[4]\tvalidation_set's binary_logloss: 0.0612861\n",
      "[5]\tvalidation_set's binary_logloss: 0.0612171\n",
      "[6]\tvalidation_set's binary_logloss: 0.0611363\n",
      "[7]\tvalidation_set's binary_logloss: 0.0612277\n",
      "[8]\tvalidation_set's binary_logloss: 0.061165\n",
      "[9]\tvalidation_set's binary_logloss: 0.0612959\n",
      "[10]\tvalidation_set's binary_logloss: 0.0613478\n",
      "Early stopping, best iteration is:\n",
      "[6]\tvalidation_set's binary_logloss: 0.0611363\n"
     ]
    },
    {
     "name": "stderr",
     "output_type": "stream",
     "text": [
      "Found `num_iterations` in params. Will use it instead of argument\n",
      "categorical_feature in Dataset is overridden.\n",
      "New categorical_feature is ['age', 'anticipation', 'change_recent', 'country', 'defeat_recent', 'delayed', 'direct_recent', 'elected', 'election_now', 'election_recent', 'exec_ant', 'exec_recent', 'government', 'indirect_recent', 'irreg_lead_ant', 'lead_recent', 'leg_ant', 'leg_recent', 'male', 'militarycareer', 'month', 'nochange_recent', 'prev_conflict', 'pt_attempt', 'pt_suc', 'ref_ant', 'ref_recent', 'tenure_months', 'victory_recent', 'year']\n"
     ]
    },
    {
     "name": "stdout",
     "output_type": "stream",
     "text": [
      "[1]\tvalidation_set's binary_logloss: 0.0612642\n",
      "Training until validation scores don't improve for 4 rounds\n",
      "[2]\tvalidation_set's binary_logloss: 0.060634\n",
      "[3]\tvalidation_set's binary_logloss: 0.0605461\n",
      "[4]\tvalidation_set's binary_logloss: 0.0607951\n",
      "[5]\tvalidation_set's binary_logloss: 0.0606523\n",
      "[6]\tvalidation_set's binary_logloss: 0.0606397\n",
      "[7]\tvalidation_set's binary_logloss: 0.0607989\n",
      "Early stopping, best iteration is:\n",
      "[3]\tvalidation_set's binary_logloss: 0.0605461\n"
     ]
    },
    {
     "name": "stderr",
     "output_type": "stream",
     "text": [
      "Found `num_iterations` in params. Will use it instead of argument\n",
      "categorical_feature in Dataset is overridden.\n",
      "New categorical_feature is ['age', 'anticipation', 'change_recent', 'country', 'defeat_recent', 'delayed', 'direct_recent', 'elected', 'election_now', 'election_recent', 'exec_ant', 'exec_recent', 'government', 'indirect_recent', 'irreg_lead_ant', 'lead_recent', 'leg_ant', 'leg_recent', 'male', 'militarycareer', 'month', 'nochange_recent', 'prev_conflict', 'pt_attempt', 'pt_suc', 'ref_ant', 'ref_recent', 'tenure_months', 'victory_recent', 'year']\n"
     ]
    },
    {
     "name": "stdout",
     "output_type": "stream",
     "text": [
      "[1]\tvalidation_set's binary_logloss: 0.0605835\n",
      "Training until validation scores don't improve for 4 rounds\n",
      "[2]\tvalidation_set's binary_logloss: 0.0599783\n",
      "[3]\tvalidation_set's binary_logloss: 0.0601967\n",
      "[4]\tvalidation_set's binary_logloss: 0.0604316\n",
      "[5]\tvalidation_set's binary_logloss: 0.0605157\n",
      "[6]\tvalidation_set's binary_logloss: 0.0605113\n",
      "Early stopping, best iteration is:\n",
      "[2]\tvalidation_set's binary_logloss: 0.0599783\n"
     ]
    },
    {
     "name": "stderr",
     "output_type": "stream",
     "text": [
      "Found `num_iterations` in params. Will use it instead of argument\n",
      "categorical_feature in Dataset is overridden.\n",
      "New categorical_feature is ['age', 'anticipation', 'change_recent', 'country', 'defeat_recent', 'delayed', 'direct_recent', 'elected', 'election_now', 'election_recent', 'exec_ant', 'exec_recent', 'government', 'indirect_recent', 'irreg_lead_ant', 'lead_recent', 'leg_ant', 'leg_recent', 'male', 'militarycareer', 'month', 'nochange_recent', 'prev_conflict', 'pt_attempt', 'pt_suc', 'ref_ant', 'ref_recent', 'tenure_months', 'victory_recent', 'year']\n"
     ]
    },
    {
     "name": "stdout",
     "output_type": "stream",
     "text": [
      "[1]\tvalidation_set's binary_logloss: 0.0600316\n",
      "Training until validation scores don't improve for 4 rounds\n",
      "[2]\tvalidation_set's binary_logloss: 0.0596023\n",
      "[3]\tvalidation_set's binary_logloss: 0.0596184\n",
      "[4]\tvalidation_set's binary_logloss: 0.0598705\n",
      "[5]\tvalidation_set's binary_logloss: 0.0600282\n",
      "[6]\tvalidation_set's binary_logloss: 0.0598024\n",
      "Early stopping, best iteration is:\n",
      "[2]\tvalidation_set's binary_logloss: 0.0596023\n"
     ]
    },
    {
     "name": "stderr",
     "output_type": "stream",
     "text": [
      "Found `num_iterations` in params. Will use it instead of argument\n",
      "categorical_feature in Dataset is overridden.\n",
      "New categorical_feature is ['age', 'anticipation', 'change_recent', 'country', 'defeat_recent', 'delayed', 'direct_recent', 'elected', 'election_now', 'election_recent', 'exec_ant', 'exec_recent', 'government', 'indirect_recent', 'irreg_lead_ant', 'lead_recent', 'leg_ant', 'leg_recent', 'male', 'militarycareer', 'month', 'nochange_recent', 'prev_conflict', 'pt_attempt', 'pt_suc', 'ref_ant', 'ref_recent', 'tenure_months', 'victory_recent', 'year']\n"
     ]
    },
    {
     "name": "stdout",
     "output_type": "stream",
     "text": [
      "[1]\tvalidation_set's binary_logloss: 0.0597561\n",
      "Training until validation scores don't improve for 4 rounds\n",
      "[2]\tvalidation_set's binary_logloss: 0.0590602\n",
      "[3]\tvalidation_set's binary_logloss: 0.0594655\n",
      "[4]\tvalidation_set's binary_logloss: 0.0594318\n",
      "[5]\tvalidation_set's binary_logloss: 0.0593627\n",
      "[6]\tvalidation_set's binary_logloss: 0.0592472\n",
      "Early stopping, best iteration is:\n",
      "[2]\tvalidation_set's binary_logloss: 0.0590602\n"
     ]
    },
    {
     "name": "stderr",
     "output_type": "stream",
     "text": [
      "Found `num_iterations` in params. Will use it instead of argument\n",
      "categorical_feature in Dataset is overridden.\n",
      "New categorical_feature is ['age', 'anticipation', 'change_recent', 'country', 'defeat_recent', 'delayed', 'direct_recent', 'elected', 'election_now', 'election_recent', 'exec_ant', 'exec_recent', 'government', 'indirect_recent', 'irreg_lead_ant', 'lead_recent', 'leg_ant', 'leg_recent', 'male', 'militarycareer', 'month', 'nochange_recent', 'prev_conflict', 'pt_attempt', 'pt_suc', 'ref_ant', 'ref_recent', 'tenure_months', 'victory_recent', 'year']\n"
     ]
    },
    {
     "name": "stdout",
     "output_type": "stream",
     "text": [
      "[1]\tvalidation_set's binary_logloss: 0.0603586\n",
      "Training until validation scores don't improve for 4 rounds\n",
      "[2]\tvalidation_set's binary_logloss: 0.0597198\n",
      "[3]\tvalidation_set's binary_logloss: 0.059606\n",
      "[4]\tvalidation_set's binary_logloss: 0.0597855\n",
      "[5]\tvalidation_set's binary_logloss: 0.0598169\n",
      "[6]\tvalidation_set's binary_logloss: 0.0599253\n",
      "[7]\tvalidation_set's binary_logloss: 0.0600197\n",
      "Early stopping, best iteration is:\n",
      "[3]\tvalidation_set's binary_logloss: 0.059606\n"
     ]
    },
    {
     "name": "stderr",
     "output_type": "stream",
     "text": [
      "Found `num_iterations` in params. Will use it instead of argument\n",
      "categorical_feature in Dataset is overridden.\n",
      "New categorical_feature is ['age', 'anticipation', 'change_recent', 'country', 'defeat_recent', 'delayed', 'direct_recent', 'elected', 'election_now', 'election_recent', 'exec_ant', 'exec_recent', 'government', 'indirect_recent', 'irreg_lead_ant', 'lead_recent', 'leg_ant', 'leg_recent', 'male', 'militarycareer', 'month', 'nochange_recent', 'prev_conflict', 'pt_attempt', 'pt_suc', 'ref_ant', 'ref_recent', 'tenure_months', 'victory_recent', 'year']\n"
     ]
    },
    {
     "name": "stdout",
     "output_type": "stream",
     "text": [
      "[1]\tvalidation_set's binary_logloss: 0.0602354\n",
      "Training until validation scores don't improve for 4 rounds\n",
      "[2]\tvalidation_set's binary_logloss: 0.0596609\n",
      "[3]\tvalidation_set's binary_logloss: 0.0596506\n",
      "[4]\tvalidation_set's binary_logloss: 0.0595937\n",
      "[5]\tvalidation_set's binary_logloss: 0.059398\n",
      "[6]\tvalidation_set's binary_logloss: 0.0594763\n",
      "[7]\tvalidation_set's binary_logloss: 0.0597531\n",
      "[8]\tvalidation_set's binary_logloss: 0.0596848\n",
      "[9]\tvalidation_set's binary_logloss: 0.0595837\n",
      "Early stopping, best iteration is:\n",
      "[5]\tvalidation_set's binary_logloss: 0.059398\n"
     ]
    },
    {
     "name": "stderr",
     "output_type": "stream",
     "text": [
      "Found `num_iterations` in params. Will use it instead of argument\n",
      "categorical_feature in Dataset is overridden.\n",
      "New categorical_feature is ['age', 'anticipation', 'change_recent', 'country', 'defeat_recent', 'delayed', 'direct_recent', 'elected', 'election_now', 'election_recent', 'exec_ant', 'exec_recent', 'government', 'indirect_recent', 'irreg_lead_ant', 'lead_recent', 'leg_ant', 'leg_recent', 'male', 'militarycareer', 'month', 'nochange_recent', 'prev_conflict', 'pt_attempt', 'pt_suc', 'ref_ant', 'ref_recent', 'tenure_months', 'victory_recent', 'year']\n"
     ]
    },
    {
     "name": "stdout",
     "output_type": "stream",
     "text": [
      "[1]\tvalidation_set's binary_logloss: 0.0603633\n",
      "Training until validation scores don't improve for 4 rounds\n",
      "[2]\tvalidation_set's binary_logloss: 0.0598044\n",
      "[3]\tvalidation_set's binary_logloss: 0.0599056\n",
      "[4]\tvalidation_set's binary_logloss: 0.0598144\n",
      "[5]\tvalidation_set's binary_logloss: 0.0601199\n",
      "[6]\tvalidation_set's binary_logloss: 0.0600736\n",
      "Early stopping, best iteration is:\n",
      "[2]\tvalidation_set's binary_logloss: 0.0598044\n"
     ]
    },
    {
     "name": "stderr",
     "output_type": "stream",
     "text": [
      "Found `num_iterations` in params. Will use it instead of argument\n",
      "categorical_feature in Dataset is overridden.\n",
      "New categorical_feature is ['age', 'anticipation', 'change_recent', 'country', 'defeat_recent', 'delayed', 'direct_recent', 'elected', 'election_now', 'election_recent', 'exec_ant', 'exec_recent', 'government', 'indirect_recent', 'irreg_lead_ant', 'lead_recent', 'leg_ant', 'leg_recent', 'male', 'militarycareer', 'month', 'nochange_recent', 'prev_conflict', 'pt_attempt', 'pt_suc', 'ref_ant', 'ref_recent', 'tenure_months', 'victory_recent', 'year']\n"
     ]
    },
    {
     "name": "stdout",
     "output_type": "stream",
     "text": [
      "[1]\tvalidation_set's binary_logloss: 0.0601475\n",
      "Training until validation scores don't improve for 4 rounds\n",
      "[2]\tvalidation_set's binary_logloss: 0.0597071\n",
      "[3]\tvalidation_set's binary_logloss: 0.0597775\n",
      "[4]\tvalidation_set's binary_logloss: 0.0597851\n",
      "[5]\tvalidation_set's binary_logloss: 0.0600017\n",
      "[6]\tvalidation_set's binary_logloss: 0.0601219\n",
      "Early stopping, best iteration is:\n",
      "[2]\tvalidation_set's binary_logloss: 0.0597071\n"
     ]
    },
    {
     "name": "stderr",
     "output_type": "stream",
     "text": [
      "Found `num_iterations` in params. Will use it instead of argument\n",
      "categorical_feature in Dataset is overridden.\n",
      "New categorical_feature is ['age', 'anticipation', 'change_recent', 'country', 'defeat_recent', 'delayed', 'direct_recent', 'elected', 'election_now', 'election_recent', 'exec_ant', 'exec_recent', 'government', 'indirect_recent', 'irreg_lead_ant', 'lead_recent', 'leg_ant', 'leg_recent', 'male', 'militarycareer', 'month', 'nochange_recent', 'prev_conflict', 'pt_attempt', 'pt_suc', 'ref_ant', 'ref_recent', 'tenure_months', 'victory_recent', 'year']\n"
     ]
    },
    {
     "name": "stdout",
     "output_type": "stream",
     "text": [
      "[1]\tvalidation_set's binary_logloss: 0.0598563\n",
      "Training until validation scores don't improve for 4 rounds\n",
      "[2]\tvalidation_set's binary_logloss: 0.0594284\n",
      "[3]\tvalidation_set's binary_logloss: 0.0591378\n",
      "[4]\tvalidation_set's binary_logloss: 0.0590351\n",
      "[5]\tvalidation_set's binary_logloss: 0.0589358\n",
      "[6]\tvalidation_set's binary_logloss: 0.0587878\n",
      "[7]\tvalidation_set's binary_logloss: 0.0588127\n",
      "[8]\tvalidation_set's binary_logloss: 0.058881\n",
      "[9]\tvalidation_set's binary_logloss: 0.0591622\n",
      "[10]\tvalidation_set's binary_logloss: 0.0590954\n",
      "Early stopping, best iteration is:\n",
      "[6]\tvalidation_set's binary_logloss: 0.0587878\n"
     ]
    },
    {
     "name": "stderr",
     "output_type": "stream",
     "text": [
      "Found `num_iterations` in params. Will use it instead of argument\n",
      "categorical_feature in Dataset is overridden.\n",
      "New categorical_feature is ['age', 'anticipation', 'change_recent', 'country', 'defeat_recent', 'delayed', 'direct_recent', 'elected', 'election_now', 'election_recent', 'exec_ant', 'exec_recent', 'government', 'indirect_recent', 'irreg_lead_ant', 'lead_recent', 'leg_ant', 'leg_recent', 'male', 'militarycareer', 'month', 'nochange_recent', 'prev_conflict', 'pt_attempt', 'pt_suc', 'ref_ant', 'ref_recent', 'tenure_months', 'victory_recent', 'year']\n"
     ]
    },
    {
     "name": "stdout",
     "output_type": "stream",
     "text": [
      "[1]\tvalidation_set's binary_logloss: 0.0597804\n",
      "Training until validation scores don't improve for 4 rounds\n",
      "[2]\tvalidation_set's binary_logloss: 0.059445\n",
      "[3]\tvalidation_set's binary_logloss: 0.0593242\n",
      "[4]\tvalidation_set's binary_logloss: 0.0591997\n",
      "[5]\tvalidation_set's binary_logloss: 0.0594505\n",
      "[6]\tvalidation_set's binary_logloss: 0.0595557\n",
      "[7]\tvalidation_set's binary_logloss: 0.0596028\n",
      "[8]\tvalidation_set's binary_logloss: 0.0598107\n",
      "Early stopping, best iteration is:\n",
      "[4]\tvalidation_set's binary_logloss: 0.0591997\n"
     ]
    },
    {
     "name": "stderr",
     "output_type": "stream",
     "text": [
      "Found `num_iterations` in params. Will use it instead of argument\n",
      "categorical_feature in Dataset is overridden.\n",
      "New categorical_feature is ['age', 'anticipation', 'change_recent', 'country', 'defeat_recent', 'delayed', 'direct_recent', 'elected', 'election_now', 'election_recent', 'exec_ant', 'exec_recent', 'government', 'indirect_recent', 'irreg_lead_ant', 'lead_recent', 'leg_ant', 'leg_recent', 'male', 'militarycareer', 'month', 'nochange_recent', 'prev_conflict', 'pt_attempt', 'pt_suc', 'ref_ant', 'ref_recent', 'tenure_months', 'victory_recent', 'year']\n"
     ]
    },
    {
     "name": "stdout",
     "output_type": "stream",
     "text": [
      "[1]\tvalidation_set's binary_logloss: 0.059897\n",
      "Training until validation scores don't improve for 4 rounds\n",
      "[2]\tvalidation_set's binary_logloss: 0.0593985\n",
      "[3]\tvalidation_set's binary_logloss: 0.0590143\n",
      "[4]\tvalidation_set's binary_logloss: 0.0587728\n",
      "[5]\tvalidation_set's binary_logloss: 0.0589676\n",
      "[6]\tvalidation_set's binary_logloss: 0.0589869\n",
      "[7]\tvalidation_set's binary_logloss: 0.0591022\n",
      "[8]\tvalidation_set's binary_logloss: 0.0590825\n",
      "Early stopping, best iteration is:\n",
      "[4]\tvalidation_set's binary_logloss: 0.0587728\n"
     ]
    },
    {
     "name": "stderr",
     "output_type": "stream",
     "text": [
      "Found `num_iterations` in params. Will use it instead of argument\n",
      "categorical_feature in Dataset is overridden.\n",
      "New categorical_feature is ['age', 'anticipation', 'change_recent', 'country', 'defeat_recent', 'delayed', 'direct_recent', 'elected', 'election_now', 'election_recent', 'exec_ant', 'exec_recent', 'government', 'indirect_recent', 'irreg_lead_ant', 'lead_recent', 'leg_ant', 'leg_recent', 'male', 'militarycareer', 'month', 'nochange_recent', 'prev_conflict', 'pt_attempt', 'pt_suc', 'ref_ant', 'ref_recent', 'tenure_months', 'victory_recent', 'year']\n"
     ]
    },
    {
     "name": "stdout",
     "output_type": "stream",
     "text": [
      "[1]\tvalidation_set's binary_logloss: 0.0598617\n",
      "Training until validation scores don't improve for 4 rounds\n",
      "[2]\tvalidation_set's binary_logloss: 0.0592964\n",
      "[3]\tvalidation_set's binary_logloss: 0.0594064\n",
      "[4]\tvalidation_set's binary_logloss: 0.0596887\n",
      "[5]\tvalidation_set's binary_logloss: 0.0597413\n",
      "[6]\tvalidation_set's binary_logloss: 0.0598376\n",
      "Early stopping, best iteration is:\n",
      "[2]\tvalidation_set's binary_logloss: 0.0592964\n"
     ]
    },
    {
     "name": "stderr",
     "output_type": "stream",
     "text": [
      "Found `num_iterations` in params. Will use it instead of argument\n",
      "categorical_feature in Dataset is overridden.\n",
      "New categorical_feature is ['age', 'anticipation', 'change_recent', 'country', 'defeat_recent', 'delayed', 'direct_recent', 'elected', 'election_now', 'election_recent', 'exec_ant', 'exec_recent', 'government', 'indirect_recent', 'irreg_lead_ant', 'lead_recent', 'leg_ant', 'leg_recent', 'male', 'militarycareer', 'month', 'nochange_recent', 'prev_conflict', 'pt_attempt', 'pt_suc', 'ref_ant', 'ref_recent', 'tenure_months', 'victory_recent', 'year']\n"
     ]
    },
    {
     "name": "stdout",
     "output_type": "stream",
     "text": [
      "[1]\tvalidation_set's binary_logloss: 0.0568349\n",
      "Training until validation scores don't improve for 4 rounds\n",
      "[2]\tvalidation_set's binary_logloss: 0.0564462\n",
      "[3]\tvalidation_set's binary_logloss: 0.0563881\n",
      "[4]\tvalidation_set's binary_logloss: 0.0564947\n",
      "[5]\tvalidation_set's binary_logloss: 0.0566694\n",
      "[6]\tvalidation_set's binary_logloss: 0.0566582\n",
      "[7]\tvalidation_set's binary_logloss: 0.0567388\n",
      "Early stopping, best iteration is:\n",
      "[3]\tvalidation_set's binary_logloss: 0.0563881\n"
     ]
    },
    {
     "name": "stderr",
     "output_type": "stream",
     "text": [
      "Found `num_iterations` in params. Will use it instead of argument\n",
      "categorical_feature in Dataset is overridden.\n",
      "New categorical_feature is ['age', 'anticipation', 'change_recent', 'country', 'defeat_recent', 'delayed', 'direct_recent', 'elected', 'election_now', 'election_recent', 'exec_ant', 'exec_recent', 'government', 'indirect_recent', 'irreg_lead_ant', 'lead_recent', 'leg_ant', 'leg_recent', 'male', 'militarycareer', 'month', 'nochange_recent', 'prev_conflict', 'pt_attempt', 'pt_suc', 'ref_ant', 'ref_recent', 'tenure_months', 'victory_recent', 'year']\n"
     ]
    },
    {
     "name": "stdout",
     "output_type": "stream",
     "text": [
      "[1]\tvalidation_set's binary_logloss: 0.0569048\n",
      "Training until validation scores don't improve for 4 rounds\n",
      "[2]\tvalidation_set's binary_logloss: 0.0564248\n",
      "[3]\tvalidation_set's binary_logloss: 0.0566505\n",
      "[4]\tvalidation_set's binary_logloss: 0.0565499\n",
      "[5]\tvalidation_set's binary_logloss: 0.0564546\n",
      "[6]\tvalidation_set's binary_logloss: 0.0565183\n",
      "Early stopping, best iteration is:\n",
      "[2]\tvalidation_set's binary_logloss: 0.0564248\n"
     ]
    },
    {
     "name": "stderr",
     "output_type": "stream",
     "text": [
      "Found `num_iterations` in params. Will use it instead of argument\n",
      "categorical_feature in Dataset is overridden.\n",
      "New categorical_feature is ['age', 'anticipation', 'change_recent', 'country', 'defeat_recent', 'delayed', 'direct_recent', 'elected', 'election_now', 'election_recent', 'exec_ant', 'exec_recent', 'government', 'indirect_recent', 'irreg_lead_ant', 'lead_recent', 'leg_ant', 'leg_recent', 'male', 'militarycareer', 'month', 'nochange_recent', 'prev_conflict', 'pt_attempt', 'pt_suc', 'ref_ant', 'ref_recent', 'tenure_months', 'victory_recent', 'year']\n"
     ]
    },
    {
     "name": "stdout",
     "output_type": "stream",
     "text": [
      "[1]\tvalidation_set's binary_logloss: 0.0579719\n",
      "Training until validation scores don't improve for 4 rounds\n",
      "[2]\tvalidation_set's binary_logloss: 0.0574876\n",
      "[3]\tvalidation_set's binary_logloss: 0.0576595\n",
      "[4]\tvalidation_set's binary_logloss: 0.0577757\n",
      "[5]\tvalidation_set's binary_logloss: 0.0578921\n",
      "[6]\tvalidation_set's binary_logloss: 0.0581053\n",
      "Early stopping, best iteration is:\n",
      "[2]\tvalidation_set's binary_logloss: 0.0574876\n"
     ]
    },
    {
     "name": "stderr",
     "output_type": "stream",
     "text": [
      "Found `num_iterations` in params. Will use it instead of argument\n",
      "categorical_feature in Dataset is overridden.\n",
      "New categorical_feature is ['age', 'anticipation', 'change_recent', 'country', 'defeat_recent', 'delayed', 'direct_recent', 'elected', 'election_now', 'election_recent', 'exec_ant', 'exec_recent', 'government', 'indirect_recent', 'irreg_lead_ant', 'lead_recent', 'leg_ant', 'leg_recent', 'male', 'militarycareer', 'month', 'nochange_recent', 'prev_conflict', 'pt_attempt', 'pt_suc', 'ref_ant', 'ref_recent', 'tenure_months', 'victory_recent', 'year']\n"
     ]
    },
    {
     "name": "stdout",
     "output_type": "stream",
     "text": [
      "[1]\tvalidation_set's binary_logloss: 0.0570336\n",
      "Training until validation scores don't improve for 4 rounds\n",
      "[2]\tvalidation_set's binary_logloss: 0.0571489\n",
      "[3]\tvalidation_set's binary_logloss: 0.0569174\n",
      "[4]\tvalidation_set's binary_logloss: 0.0567185\n",
      "[5]\tvalidation_set's binary_logloss: 0.0570394\n",
      "[6]\tvalidation_set's binary_logloss: 0.0569095\n",
      "[7]\tvalidation_set's binary_logloss: 0.0569689\n",
      "[8]\tvalidation_set's binary_logloss: 0.0571773\n",
      "Early stopping, best iteration is:\n",
      "[4]\tvalidation_set's binary_logloss: 0.0567185\n"
     ]
    },
    {
     "name": "stderr",
     "output_type": "stream",
     "text": [
      "Found `num_iterations` in params. Will use it instead of argument\n",
      "categorical_feature in Dataset is overridden.\n",
      "New categorical_feature is ['age', 'anticipation', 'change_recent', 'country', 'defeat_recent', 'delayed', 'direct_recent', 'elected', 'election_now', 'election_recent', 'exec_ant', 'exec_recent', 'government', 'indirect_recent', 'irreg_lead_ant', 'lead_recent', 'leg_ant', 'leg_recent', 'male', 'militarycareer', 'month', 'nochange_recent', 'prev_conflict', 'pt_attempt', 'pt_suc', 'ref_ant', 'ref_recent', 'tenure_months', 'victory_recent', 'year']\n"
     ]
    },
    {
     "name": "stdout",
     "output_type": "stream",
     "text": [
      "[1]\tvalidation_set's binary_logloss: 0.0576171\n",
      "Training until validation scores don't improve for 4 rounds\n",
      "[2]\tvalidation_set's binary_logloss: 0.0575473\n",
      "[3]\tvalidation_set's binary_logloss: 0.0578137\n",
      "[4]\tvalidation_set's binary_logloss: 0.0578034\n",
      "[5]\tvalidation_set's binary_logloss: 0.0577824\n",
      "[6]\tvalidation_set's binary_logloss: 0.0577783\n",
      "Early stopping, best iteration is:\n",
      "[2]\tvalidation_set's binary_logloss: 0.0575473\n"
     ]
    },
    {
     "name": "stderr",
     "output_type": "stream",
     "text": [
      "Found `num_iterations` in params. Will use it instead of argument\n",
      "categorical_feature in Dataset is overridden.\n",
      "New categorical_feature is ['age', 'anticipation', 'change_recent', 'country', 'defeat_recent', 'delayed', 'direct_recent', 'elected', 'election_now', 'election_recent', 'exec_ant', 'exec_recent', 'government', 'indirect_recent', 'irreg_lead_ant', 'lead_recent', 'leg_ant', 'leg_recent', 'male', 'militarycareer', 'month', 'nochange_recent', 'prev_conflict', 'pt_attempt', 'pt_suc', 'ref_ant', 'ref_recent', 'tenure_months', 'victory_recent', 'year']\n"
     ]
    },
    {
     "name": "stdout",
     "output_type": "stream",
     "text": [
      "[1]\tvalidation_set's binary_logloss: 0.0579924\n",
      "Training until validation scores don't improve for 4 rounds\n",
      "[2]\tvalidation_set's binary_logloss: 0.0576629\n",
      "[3]\tvalidation_set's binary_logloss: 0.0573318\n",
      "[4]\tvalidation_set's binary_logloss: 0.0580632\n",
      "[5]\tvalidation_set's binary_logloss: 0.0579315\n",
      "[6]\tvalidation_set's binary_logloss: 0.0580322\n",
      "[7]\tvalidation_set's binary_logloss: 0.0581528\n",
      "Early stopping, best iteration is:\n",
      "[3]\tvalidation_set's binary_logloss: 0.0573318\n"
     ]
    },
    {
     "name": "stderr",
     "output_type": "stream",
     "text": [
      "Found `num_iterations` in params. Will use it instead of argument\n",
      "categorical_feature in Dataset is overridden.\n",
      "New categorical_feature is ['age', 'anticipation', 'change_recent', 'country', 'defeat_recent', 'delayed', 'direct_recent', 'elected', 'election_now', 'election_recent', 'exec_ant', 'exec_recent', 'government', 'indirect_recent', 'irreg_lead_ant', 'lead_recent', 'leg_ant', 'leg_recent', 'male', 'militarycareer', 'month', 'nochange_recent', 'prev_conflict', 'pt_attempt', 'pt_suc', 'ref_ant', 'ref_recent', 'tenure_months', 'victory_recent', 'year']\n"
     ]
    },
    {
     "name": "stdout",
     "output_type": "stream",
     "text": [
      "[1]\tvalidation_set's binary_logloss: 0.0572108\n",
      "Training until validation scores don't improve for 4 rounds\n",
      "[2]\tvalidation_set's binary_logloss: 0.0574433\n",
      "[3]\tvalidation_set's binary_logloss: 0.0569545\n",
      "[4]\tvalidation_set's binary_logloss: 0.0567806\n",
      "[5]\tvalidation_set's binary_logloss: 0.0568795\n",
      "[6]\tvalidation_set's binary_logloss: 0.0569116\n",
      "[7]\tvalidation_set's binary_logloss: 0.0569009\n",
      "[8]\tvalidation_set's binary_logloss: 0.0570175\n",
      "Early stopping, best iteration is:\n",
      "[4]\tvalidation_set's binary_logloss: 0.0567806\n"
     ]
    },
    {
     "name": "stderr",
     "output_type": "stream",
     "text": [
      "Found `num_iterations` in params. Will use it instead of argument\n",
      "categorical_feature in Dataset is overridden.\n",
      "New categorical_feature is ['age', 'anticipation', 'change_recent', 'country', 'defeat_recent', 'delayed', 'direct_recent', 'elected', 'election_now', 'election_recent', 'exec_ant', 'exec_recent', 'government', 'indirect_recent', 'irreg_lead_ant', 'lead_recent', 'leg_ant', 'leg_recent', 'male', 'militarycareer', 'month', 'nochange_recent', 'prev_conflict', 'pt_attempt', 'pt_suc', 'ref_ant', 'ref_recent', 'tenure_months', 'victory_recent', 'year']\n"
     ]
    },
    {
     "name": "stdout",
     "output_type": "stream",
     "text": [
      "[1]\tvalidation_set's binary_logloss: 0.0565918\n",
      "Training until validation scores don't improve for 4 rounds\n",
      "[2]\tvalidation_set's binary_logloss: 0.0562042\n",
      "[3]\tvalidation_set's binary_logloss: 0.0564516\n",
      "[4]\tvalidation_set's binary_logloss: 0.0564514\n",
      "[5]\tvalidation_set's binary_logloss: 0.056505\n",
      "[6]\tvalidation_set's binary_logloss: 0.0566057\n",
      "Early stopping, best iteration is:\n",
      "[2]\tvalidation_set's binary_logloss: 0.0562042\n"
     ]
    },
    {
     "name": "stderr",
     "output_type": "stream",
     "text": [
      "Found `num_iterations` in params. Will use it instead of argument\n",
      "categorical_feature in Dataset is overridden.\n",
      "New categorical_feature is ['age', 'anticipation', 'change_recent', 'country', 'defeat_recent', 'delayed', 'direct_recent', 'elected', 'election_now', 'election_recent', 'exec_ant', 'exec_recent', 'government', 'indirect_recent', 'irreg_lead_ant', 'lead_recent', 'leg_ant', 'leg_recent', 'male', 'militarycareer', 'month', 'nochange_recent', 'prev_conflict', 'pt_attempt', 'pt_suc', 'ref_ant', 'ref_recent', 'tenure_months', 'victory_recent', 'year']\n"
     ]
    },
    {
     "name": "stdout",
     "output_type": "stream",
     "text": [
      "[1]\tvalidation_set's binary_logloss: 0.0569172\n",
      "Training until validation scores don't improve for 4 rounds\n",
      "[2]\tvalidation_set's binary_logloss: 0.0565948\n",
      "[3]\tvalidation_set's binary_logloss: 0.0565767\n",
      "[4]\tvalidation_set's binary_logloss: 0.0566138\n",
      "[5]\tvalidation_set's binary_logloss: 0.0566246\n",
      "[6]\tvalidation_set's binary_logloss: 0.0564176\n",
      "[7]\tvalidation_set's binary_logloss: 0.0564409\n",
      "[8]\tvalidation_set's binary_logloss: 0.0565543\n",
      "[9]\tvalidation_set's binary_logloss: 0.0565911\n",
      "[10]\tvalidation_set's binary_logloss: 0.0565794\n",
      "Early stopping, best iteration is:\n",
      "[6]\tvalidation_set's binary_logloss: 0.0564176\n"
     ]
    },
    {
     "name": "stderr",
     "output_type": "stream",
     "text": [
      "Found `num_iterations` in params. Will use it instead of argument\n",
      "categorical_feature in Dataset is overridden.\n",
      "New categorical_feature is ['age', 'anticipation', 'change_recent', 'country', 'defeat_recent', 'delayed', 'direct_recent', 'elected', 'election_now', 'election_recent', 'exec_ant', 'exec_recent', 'government', 'indirect_recent', 'irreg_lead_ant', 'lead_recent', 'leg_ant', 'leg_recent', 'male', 'militarycareer', 'month', 'nochange_recent', 'prev_conflict', 'pt_attempt', 'pt_suc', 'ref_ant', 'ref_recent', 'tenure_months', 'victory_recent', 'year']\n"
     ]
    },
    {
     "name": "stdout",
     "output_type": "stream",
     "text": [
      "[1]\tvalidation_set's binary_logloss: 0.0570395\n",
      "Training until validation scores don't improve for 4 rounds\n",
      "[2]\tvalidation_set's binary_logloss: 0.0570969\n",
      "[3]\tvalidation_set's binary_logloss: 0.0571331\n",
      "[4]\tvalidation_set's binary_logloss: 0.0569473\n",
      "[5]\tvalidation_set's binary_logloss: 0.0571223\n",
      "[6]\tvalidation_set's binary_logloss: 0.0569649\n",
      "[7]\tvalidation_set's binary_logloss: 0.0570579\n",
      "[8]\tvalidation_set's binary_logloss: 0.057164\n",
      "Early stopping, best iteration is:\n",
      "[4]\tvalidation_set's binary_logloss: 0.0569473\n"
     ]
    },
    {
     "name": "stderr",
     "output_type": "stream",
     "text": [
      "Found `num_iterations` in params. Will use it instead of argument\n",
      "categorical_feature in Dataset is overridden.\n",
      "New categorical_feature is ['age', 'anticipation', 'change_recent', 'country', 'defeat_recent', 'delayed', 'direct_recent', 'elected', 'election_now', 'election_recent', 'exec_ant', 'exec_recent', 'government', 'indirect_recent', 'irreg_lead_ant', 'lead_recent', 'leg_ant', 'leg_recent', 'male', 'militarycareer', 'month', 'nochange_recent', 'prev_conflict', 'pt_attempt', 'pt_suc', 'ref_ant', 'ref_recent', 'tenure_months', 'victory_recent', 'year']\n"
     ]
    },
    {
     "name": "stdout",
     "output_type": "stream",
     "text": [
      "[1]\tvalidation_set's binary_logloss: 0.0565165\n",
      "Training until validation scores don't improve for 4 rounds\n",
      "[2]\tvalidation_set's binary_logloss: 0.0563199\n",
      "[3]\tvalidation_set's binary_logloss: 0.0563793\n",
      "[4]\tvalidation_set's binary_logloss: 0.0564033\n",
      "[5]\tvalidation_set's binary_logloss: 0.0562973\n",
      "[6]\tvalidation_set's binary_logloss: 0.05645\n",
      "[7]\tvalidation_set's binary_logloss: 0.056609\n",
      "[8]\tvalidation_set's binary_logloss: 0.0565224\n",
      "[9]\tvalidation_set's binary_logloss: 0.0566577\n",
      "Early stopping, best iteration is:\n",
      "[5]\tvalidation_set's binary_logloss: 0.0562973\n"
     ]
    },
    {
     "name": "stderr",
     "output_type": "stream",
     "text": [
      "Found `num_iterations` in params. Will use it instead of argument\n",
      "categorical_feature in Dataset is overridden.\n",
      "New categorical_feature is ['age', 'anticipation', 'change_recent', 'country', 'defeat_recent', 'delayed', 'direct_recent', 'elected', 'election_now', 'election_recent', 'exec_ant', 'exec_recent', 'government', 'indirect_recent', 'irreg_lead_ant', 'lead_recent', 'leg_ant', 'leg_recent', 'male', 'militarycareer', 'month', 'nochange_recent', 'prev_conflict', 'pt_attempt', 'pt_suc', 'ref_ant', 'ref_recent', 'tenure_months', 'victory_recent', 'year']\n"
     ]
    },
    {
     "name": "stdout",
     "output_type": "stream",
     "text": [
      "[1]\tvalidation_set's binary_logloss: 0.0558632\n",
      "Training until validation scores don't improve for 4 rounds\n",
      "[2]\tvalidation_set's binary_logloss: 0.0551035\n",
      "[3]\tvalidation_set's binary_logloss: 0.0549142\n",
      "[4]\tvalidation_set's binary_logloss: 0.0548235\n",
      "[5]\tvalidation_set's binary_logloss: 0.0549039\n",
      "[6]\tvalidation_set's binary_logloss: 0.0549922\n",
      "[7]\tvalidation_set's binary_logloss: 0.0549771\n",
      "[8]\tvalidation_set's binary_logloss: 0.0549077\n",
      "Early stopping, best iteration is:\n",
      "[4]\tvalidation_set's binary_logloss: 0.0548235\n"
     ]
    },
    {
     "name": "stderr",
     "output_type": "stream",
     "text": [
      "Found `num_iterations` in params. Will use it instead of argument\n",
      "categorical_feature in Dataset is overridden.\n",
      "New categorical_feature is ['age', 'anticipation', 'change_recent', 'country', 'defeat_recent', 'delayed', 'direct_recent', 'elected', 'election_now', 'election_recent', 'exec_ant', 'exec_recent', 'government', 'indirect_recent', 'irreg_lead_ant', 'lead_recent', 'leg_ant', 'leg_recent', 'male', 'militarycareer', 'month', 'nochange_recent', 'prev_conflict', 'pt_attempt', 'pt_suc', 'ref_ant', 'ref_recent', 'tenure_months', 'victory_recent', 'year']\n"
     ]
    },
    {
     "name": "stdout",
     "output_type": "stream",
     "text": [
      "[1]\tvalidation_set's binary_logloss: 0.0531913\n",
      "Training until validation scores don't improve for 4 rounds\n",
      "[2]\tvalidation_set's binary_logloss: 0.0533654\n",
      "[3]\tvalidation_set's binary_logloss: 0.0531511\n",
      "[4]\tvalidation_set's binary_logloss: 0.0527886\n",
      "[5]\tvalidation_set's binary_logloss: 0.0527664\n",
      "[6]\tvalidation_set's binary_logloss: 0.0529366\n",
      "[7]\tvalidation_set's binary_logloss: 0.0530969\n",
      "[8]\tvalidation_set's binary_logloss: 0.0533097\n",
      "[9]\tvalidation_set's binary_logloss: 0.0534206\n",
      "Early stopping, best iteration is:\n",
      "[5]\tvalidation_set's binary_logloss: 0.0527664\n"
     ]
    },
    {
     "name": "stderr",
     "output_type": "stream",
     "text": [
      "Found `num_iterations` in params. Will use it instead of argument\n",
      "categorical_feature in Dataset is overridden.\n",
      "New categorical_feature is ['age', 'anticipation', 'change_recent', 'country', 'defeat_recent', 'delayed', 'direct_recent', 'elected', 'election_now', 'election_recent', 'exec_ant', 'exec_recent', 'government', 'indirect_recent', 'irreg_lead_ant', 'lead_recent', 'leg_ant', 'leg_recent', 'male', 'militarycareer', 'month', 'nochange_recent', 'prev_conflict', 'pt_attempt', 'pt_suc', 'ref_ant', 'ref_recent', 'tenure_months', 'victory_recent', 'year']\n"
     ]
    },
    {
     "name": "stdout",
     "output_type": "stream",
     "text": [
      "[1]\tvalidation_set's binary_logloss: 0.0528542\n",
      "Training until validation scores don't improve for 4 rounds\n",
      "[2]\tvalidation_set's binary_logloss: 0.0530996\n",
      "[3]\tvalidation_set's binary_logloss: 0.0530903\n",
      "[4]\tvalidation_set's binary_logloss: 0.0531299\n",
      "[5]\tvalidation_set's binary_logloss: 0.0533867\n",
      "Early stopping, best iteration is:\n",
      "[1]\tvalidation_set's binary_logloss: 0.0528542\n"
     ]
    },
    {
     "name": "stderr",
     "output_type": "stream",
     "text": [
      "Found `num_iterations` in params. Will use it instead of argument\n",
      "categorical_feature in Dataset is overridden.\n",
      "New categorical_feature is ['age', 'anticipation', 'change_recent', 'country', 'defeat_recent', 'delayed', 'direct_recent', 'elected', 'election_now', 'election_recent', 'exec_ant', 'exec_recent', 'government', 'indirect_recent', 'irreg_lead_ant', 'lead_recent', 'leg_ant', 'leg_recent', 'male', 'militarycareer', 'month', 'nochange_recent', 'prev_conflict', 'pt_attempt', 'pt_suc', 'ref_ant', 'ref_recent', 'tenure_months', 'victory_recent', 'year']\n"
     ]
    },
    {
     "name": "stdout",
     "output_type": "stream",
     "text": [
      "[1]\tvalidation_set's binary_logloss: 0.0516124\n",
      "Training until validation scores don't improve for 4 rounds\n",
      "[2]\tvalidation_set's binary_logloss: 0.0516377\n",
      "[3]\tvalidation_set's binary_logloss: 0.0523115\n",
      "[4]\tvalidation_set's binary_logloss: 0.0524295\n",
      "[5]\tvalidation_set's binary_logloss: 0.0526939\n",
      "Early stopping, best iteration is:\n",
      "[1]\tvalidation_set's binary_logloss: 0.0516124\n"
     ]
    },
    {
     "name": "stderr",
     "output_type": "stream",
     "text": [
      "Found `num_iterations` in params. Will use it instead of argument\n",
      "categorical_feature in Dataset is overridden.\n",
      "New categorical_feature is ['age', 'anticipation', 'change_recent', 'country', 'defeat_recent', 'delayed', 'direct_recent', 'elected', 'election_now', 'election_recent', 'exec_ant', 'exec_recent', 'government', 'indirect_recent', 'irreg_lead_ant', 'lead_recent', 'leg_ant', 'leg_recent', 'male', 'militarycareer', 'month', 'nochange_recent', 'prev_conflict', 'pt_attempt', 'pt_suc', 'ref_ant', 'ref_recent', 'tenure_months', 'victory_recent', 'year']\n"
     ]
    },
    {
     "name": "stdout",
     "output_type": "stream",
     "text": [
      "[1]\tvalidation_set's binary_logloss: 0.0546684\n",
      "Training until validation scores don't improve for 4 rounds\n",
      "[2]\tvalidation_set's binary_logloss: 0.0552107\n",
      "[3]\tvalidation_set's binary_logloss: 0.0555404\n",
      "[4]\tvalidation_set's binary_logloss: 0.0558493\n",
      "[5]\tvalidation_set's binary_logloss: 0.0558119\n",
      "Early stopping, best iteration is:\n",
      "[1]\tvalidation_set's binary_logloss: 0.0546684\n"
     ]
    },
    {
     "name": "stderr",
     "output_type": "stream",
     "text": [
      "Found `num_iterations` in params. Will use it instead of argument\n",
      "categorical_feature in Dataset is overridden.\n",
      "New categorical_feature is ['age', 'anticipation', 'change_recent', 'country', 'defeat_recent', 'delayed', 'direct_recent', 'elected', 'election_now', 'election_recent', 'exec_ant', 'exec_recent', 'government', 'indirect_recent', 'irreg_lead_ant', 'lead_recent', 'leg_ant', 'leg_recent', 'male', 'militarycareer', 'month', 'nochange_recent', 'prev_conflict', 'pt_attempt', 'pt_suc', 'ref_ant', 'ref_recent', 'tenure_months', 'victory_recent', 'year']\n"
     ]
    },
    {
     "name": "stdout",
     "output_type": "stream",
     "text": [
      "[1]\tvalidation_set's binary_logloss: 0.0532518\n",
      "Training until validation scores don't improve for 4 rounds\n",
      "[2]\tvalidation_set's binary_logloss: 0.053598\n",
      "[3]\tvalidation_set's binary_logloss: 0.0537548\n",
      "[4]\tvalidation_set's binary_logloss: 0.0540902\n",
      "[5]\tvalidation_set's binary_logloss: 0.0540215\n",
      "Early stopping, best iteration is:\n",
      "[1]\tvalidation_set's binary_logloss: 0.0532518\n"
     ]
    },
    {
     "name": "stderr",
     "output_type": "stream",
     "text": [
      "Found `num_iterations` in params. Will use it instead of argument\n",
      "categorical_feature in Dataset is overridden.\n",
      "New categorical_feature is ['age', 'anticipation', 'change_recent', 'country', 'defeat_recent', 'delayed', 'direct_recent', 'elected', 'election_now', 'election_recent', 'exec_ant', 'exec_recent', 'government', 'indirect_recent', 'irreg_lead_ant', 'lead_recent', 'leg_ant', 'leg_recent', 'male', 'militarycareer', 'month', 'nochange_recent', 'prev_conflict', 'pt_attempt', 'pt_suc', 'ref_ant', 'ref_recent', 'tenure_months', 'victory_recent', 'year']\n"
     ]
    },
    {
     "name": "stdout",
     "output_type": "stream",
     "text": [
      "[1]\tvalidation_set's binary_logloss: 0.0534286\n",
      "Training until validation scores don't improve for 4 rounds\n",
      "[2]\tvalidation_set's binary_logloss: 0.0536934\n",
      "[3]\tvalidation_set's binary_logloss: 0.0539827\n",
      "[4]\tvalidation_set's binary_logloss: 0.0540766\n",
      "[5]\tvalidation_set's binary_logloss: 0.0541937\n",
      "Early stopping, best iteration is:\n",
      "[1]\tvalidation_set's binary_logloss: 0.0534286\n"
     ]
    },
    {
     "name": "stderr",
     "output_type": "stream",
     "text": [
      "Found `num_iterations` in params. Will use it instead of argument\n",
      "categorical_feature in Dataset is overridden.\n",
      "New categorical_feature is ['age', 'anticipation', 'change_recent', 'country', 'defeat_recent', 'delayed', 'direct_recent', 'elected', 'election_now', 'election_recent', 'exec_ant', 'exec_recent', 'government', 'indirect_recent', 'irreg_lead_ant', 'lead_recent', 'leg_ant', 'leg_recent', 'male', 'militarycareer', 'month', 'nochange_recent', 'prev_conflict', 'pt_attempt', 'pt_suc', 'ref_ant', 'ref_recent', 'tenure_months', 'victory_recent', 'year']\n"
     ]
    },
    {
     "name": "stdout",
     "output_type": "stream",
     "text": [
      "[1]\tvalidation_set's binary_logloss: 0.0542533\n",
      "Training until validation scores don't improve for 4 rounds\n",
      "[2]\tvalidation_set's binary_logloss: 0.0544632\n",
      "[3]\tvalidation_set's binary_logloss: 0.0543299\n",
      "[4]\tvalidation_set's binary_logloss: 0.0543585\n",
      "[5]\tvalidation_set's binary_logloss: 0.0545871\n",
      "Early stopping, best iteration is:\n",
      "[1]\tvalidation_set's binary_logloss: 0.0542533\n"
     ]
    },
    {
     "name": "stderr",
     "output_type": "stream",
     "text": [
      "Found `num_iterations` in params. Will use it instead of argument\n",
      "categorical_feature in Dataset is overridden.\n",
      "New categorical_feature is ['age', 'anticipation', 'change_recent', 'country', 'defeat_recent', 'delayed', 'direct_recent', 'elected', 'election_now', 'election_recent', 'exec_ant', 'exec_recent', 'government', 'indirect_recent', 'irreg_lead_ant', 'lead_recent', 'leg_ant', 'leg_recent', 'male', 'militarycareer', 'month', 'nochange_recent', 'prev_conflict', 'pt_attempt', 'pt_suc', 'ref_ant', 'ref_recent', 'tenure_months', 'victory_recent', 'year']\n"
     ]
    },
    {
     "name": "stdout",
     "output_type": "stream",
     "text": [
      "[1]\tvalidation_set's binary_logloss: 0.0537525\n",
      "Training until validation scores don't improve for 4 rounds\n",
      "[2]\tvalidation_set's binary_logloss: 0.0538422\n",
      "[3]\tvalidation_set's binary_logloss: 0.0537316\n",
      "[4]\tvalidation_set's binary_logloss: 0.0538283\n",
      "[5]\tvalidation_set's binary_logloss: 0.0546717\n",
      "[6]\tvalidation_set's binary_logloss: 0.0545159\n",
      "[7]\tvalidation_set's binary_logloss: 0.0546658\n",
      "Early stopping, best iteration is:\n",
      "[3]\tvalidation_set's binary_logloss: 0.0537316\n"
     ]
    },
    {
     "name": "stderr",
     "output_type": "stream",
     "text": [
      "Found `num_iterations` in params. Will use it instead of argument\n",
      "categorical_feature in Dataset is overridden.\n",
      "New categorical_feature is ['age', 'anticipation', 'change_recent', 'country', 'defeat_recent', 'delayed', 'direct_recent', 'elected', 'election_now', 'election_recent', 'exec_ant', 'exec_recent', 'government', 'indirect_recent', 'irreg_lead_ant', 'lead_recent', 'leg_ant', 'leg_recent', 'male', 'militarycareer', 'month', 'nochange_recent', 'prev_conflict', 'pt_attempt', 'pt_suc', 'ref_ant', 'ref_recent', 'tenure_months', 'victory_recent', 'year']\n"
     ]
    },
    {
     "name": "stdout",
     "output_type": "stream",
     "text": [
      "[1]\tvalidation_set's binary_logloss: 0.0537024\n",
      "Training until validation scores don't improve for 4 rounds\n",
      "[2]\tvalidation_set's binary_logloss: 0.0541478\n",
      "[3]\tvalidation_set's binary_logloss: 0.0544016\n",
      "[4]\tvalidation_set's binary_logloss: 0.0552168\n",
      "[5]\tvalidation_set's binary_logloss: 0.0553507\n",
      "Early stopping, best iteration is:\n",
      "[1]\tvalidation_set's binary_logloss: 0.0537024\n"
     ]
    },
    {
     "name": "stderr",
     "output_type": "stream",
     "text": [
      "Found `num_iterations` in params. Will use it instead of argument\n",
      "categorical_feature in Dataset is overridden.\n",
      "New categorical_feature is ['age', 'anticipation', 'change_recent', 'country', 'defeat_recent', 'delayed', 'direct_recent', 'elected', 'election_now', 'election_recent', 'exec_ant', 'exec_recent', 'government', 'indirect_recent', 'irreg_lead_ant', 'lead_recent', 'leg_ant', 'leg_recent', 'male', 'militarycareer', 'month', 'nochange_recent', 'prev_conflict', 'pt_attempt', 'pt_suc', 'ref_ant', 'ref_recent', 'tenure_months', 'victory_recent', 'year']\n"
     ]
    },
    {
     "name": "stdout",
     "output_type": "stream",
     "text": [
      "[1]\tvalidation_set's binary_logloss: 0.0542603\n",
      "Training until validation scores don't improve for 4 rounds\n",
      "[2]\tvalidation_set's binary_logloss: 0.0549633\n",
      "[3]\tvalidation_set's binary_logloss: 0.0556503\n",
      "[4]\tvalidation_set's binary_logloss: 0.056108\n",
      "[5]\tvalidation_set's binary_logloss: 0.0563917\n",
      "Early stopping, best iteration is:\n",
      "[1]\tvalidation_set's binary_logloss: 0.0542603\n"
     ]
    },
    {
     "name": "stderr",
     "output_type": "stream",
     "text": [
      "Found `num_iterations` in params. Will use it instead of argument\n",
      "categorical_feature in Dataset is overridden.\n",
      "New categorical_feature is ['age', 'anticipation', 'change_recent', 'country', 'defeat_recent', 'delayed', 'direct_recent', 'elected', 'election_now', 'election_recent', 'exec_ant', 'exec_recent', 'government', 'indirect_recent', 'irreg_lead_ant', 'lead_recent', 'leg_ant', 'leg_recent', 'male', 'militarycareer', 'month', 'nochange_recent', 'prev_conflict', 'pt_attempt', 'pt_suc', 'ref_ant', 'ref_recent', 'tenure_months', 'victory_recent', 'year']\n"
     ]
    },
    {
     "name": "stdout",
     "output_type": "stream",
     "text": [
      "[1]\tvalidation_set's binary_logloss: 0.0544772\n",
      "Training until validation scores don't improve for 4 rounds\n",
      "[2]\tvalidation_set's binary_logloss: 0.0548797\n",
      "[3]\tvalidation_set's binary_logloss: 0.0557303\n",
      "[4]\tvalidation_set's binary_logloss: 0.0562298\n",
      "[5]\tvalidation_set's binary_logloss: 0.0564147\n",
      "Early stopping, best iteration is:\n",
      "[1]\tvalidation_set's binary_logloss: 0.0544772\n"
     ]
    },
    {
     "name": "stderr",
     "output_type": "stream",
     "text": [
      "Found `num_iterations` in params. Will use it instead of argument\n",
      "categorical_feature in Dataset is overridden.\n",
      "New categorical_feature is ['age', 'anticipation', 'change_recent', 'country', 'defeat_recent', 'delayed', 'direct_recent', 'elected', 'election_now', 'election_recent', 'exec_ant', 'exec_recent', 'government', 'indirect_recent', 'irreg_lead_ant', 'lead_recent', 'leg_ant', 'leg_recent', 'male', 'militarycareer', 'month', 'nochange_recent', 'prev_conflict', 'pt_attempt', 'pt_suc', 'ref_ant', 'ref_recent', 'tenure_months', 'victory_recent', 'year']\n"
     ]
    },
    {
     "name": "stdout",
     "output_type": "stream",
     "text": [
      "[1]\tvalidation_set's binary_logloss: 0.0543126\n",
      "Training until validation scores don't improve for 4 rounds\n",
      "[2]\tvalidation_set's binary_logloss: 0.0545436\n",
      "[3]\tvalidation_set's binary_logloss: 0.0550674\n",
      "[4]\tvalidation_set's binary_logloss: 0.0554737\n",
      "[5]\tvalidation_set's binary_logloss: 0.0558584\n",
      "Early stopping, best iteration is:\n",
      "[1]\tvalidation_set's binary_logloss: 0.0543126\n"
     ]
    },
    {
     "name": "stderr",
     "output_type": "stream",
     "text": [
      "Found `num_iterations` in params. Will use it instead of argument\n",
      "categorical_feature in Dataset is overridden.\n",
      "New categorical_feature is ['age', 'anticipation', 'change_recent', 'country', 'defeat_recent', 'delayed', 'direct_recent', 'elected', 'election_now', 'election_recent', 'exec_ant', 'exec_recent', 'government', 'indirect_recent', 'irreg_lead_ant', 'lead_recent', 'leg_ant', 'leg_recent', 'male', 'militarycareer', 'month', 'nochange_recent', 'prev_conflict', 'pt_attempt', 'pt_suc', 'ref_ant', 'ref_recent', 'tenure_months', 'victory_recent', 'year']\n"
     ]
    },
    {
     "name": "stdout",
     "output_type": "stream",
     "text": [
      "[1]\tvalidation_set's binary_logloss: 0.0533183\n",
      "Training until validation scores don't improve for 4 rounds\n",
      "[2]\tvalidation_set's binary_logloss: 0.0536863\n",
      "[3]\tvalidation_set's binary_logloss: 0.0542187\n",
      "[4]\tvalidation_set's binary_logloss: 0.0545496\n",
      "[5]\tvalidation_set's binary_logloss: 0.054631\n",
      "Early stopping, best iteration is:\n",
      "[1]\tvalidation_set's binary_logloss: 0.0533183\n"
     ]
    },
    {
     "name": "stderr",
     "output_type": "stream",
     "text": [
      "Found `num_iterations` in params. Will use it instead of argument\n",
      "categorical_feature in Dataset is overridden.\n",
      "New categorical_feature is ['age', 'anticipation', 'change_recent', 'country', 'defeat_recent', 'delayed', 'direct_recent', 'elected', 'election_now', 'election_recent', 'exec_ant', 'exec_recent', 'government', 'indirect_recent', 'irreg_lead_ant', 'lead_recent', 'leg_ant', 'leg_recent', 'male', 'militarycareer', 'month', 'nochange_recent', 'prev_conflict', 'pt_attempt', 'pt_suc', 'ref_ant', 'ref_recent', 'tenure_months', 'victory_recent', 'year']\n"
     ]
    },
    {
     "name": "stdout",
     "output_type": "stream",
     "text": [
      "[1]\tvalidation_set's binary_logloss: 0.0532304\n",
      "Training until validation scores don't improve for 4 rounds\n",
      "[2]\tvalidation_set's binary_logloss: 0.0541753\n",
      "[3]\tvalidation_set's binary_logloss: 0.0548692\n",
      "[4]\tvalidation_set's binary_logloss: 0.0553283\n",
      "[5]\tvalidation_set's binary_logloss: 0.055569\n",
      "Early stopping, best iteration is:\n",
      "[1]\tvalidation_set's binary_logloss: 0.0532304\n"
     ]
    },
    {
     "name": "stderr",
     "output_type": "stream",
     "text": [
      "Found `num_iterations` in params. Will use it instead of argument\n",
      "categorical_feature in Dataset is overridden.\n",
      "New categorical_feature is ['age', 'anticipation', 'change_recent', 'country', 'defeat_recent', 'delayed', 'direct_recent', 'elected', 'election_now', 'election_recent', 'exec_ant', 'exec_recent', 'government', 'indirect_recent', 'irreg_lead_ant', 'lead_recent', 'leg_ant', 'leg_recent', 'male', 'militarycareer', 'month', 'nochange_recent', 'prev_conflict', 'pt_attempt', 'pt_suc', 'ref_ant', 'ref_recent', 'tenure_months', 'victory_recent', 'year']\n"
     ]
    },
    {
     "name": "stdout",
     "output_type": "stream",
     "text": [
      "[1]\tvalidation_set's binary_logloss: 0.0534965\n",
      "Training until validation scores don't improve for 4 rounds\n",
      "[2]\tvalidation_set's binary_logloss: 0.0539804\n",
      "[3]\tvalidation_set's binary_logloss: 0.0545715\n",
      "[4]\tvalidation_set's binary_logloss: 0.0547942\n",
      "[5]\tvalidation_set's binary_logloss: 0.0551377\n",
      "Early stopping, best iteration is:\n",
      "[1]\tvalidation_set's binary_logloss: 0.0534965\n"
     ]
    },
    {
     "name": "stderr",
     "output_type": "stream",
     "text": [
      "Found `num_iterations` in params. Will use it instead of argument\n",
      "categorical_feature in Dataset is overridden.\n",
      "New categorical_feature is ['age', 'anticipation', 'change_recent', 'country', 'defeat_recent', 'delayed', 'direct_recent', 'elected', 'election_now', 'election_recent', 'exec_ant', 'exec_recent', 'government', 'indirect_recent', 'irreg_lead_ant', 'lead_recent', 'leg_ant', 'leg_recent', 'male', 'militarycareer', 'month', 'nochange_recent', 'prev_conflict', 'pt_attempt', 'pt_suc', 'ref_ant', 'ref_recent', 'tenure_months', 'victory_recent', 'year']\n"
     ]
    },
    {
     "name": "stdout",
     "output_type": "stream",
     "text": [
      "[1]\tvalidation_set's binary_logloss: 0.0537679\n",
      "Training until validation scores don't improve for 4 rounds\n",
      "[2]\tvalidation_set's binary_logloss: 0.0540969\n",
      "[3]\tvalidation_set's binary_logloss: 0.0543946\n",
      "[4]\tvalidation_set's binary_logloss: 0.0544979\n",
      "[5]\tvalidation_set's binary_logloss: 0.0546064\n",
      "Early stopping, best iteration is:\n",
      "[1]\tvalidation_set's binary_logloss: 0.0537679\n"
     ]
    },
    {
     "name": "stderr",
     "output_type": "stream",
     "text": [
      "Found `num_iterations` in params. Will use it instead of argument\n",
      "categorical_feature in Dataset is overridden.\n",
      "New categorical_feature is ['age', 'anticipation', 'change_recent', 'country', 'defeat_recent', 'delayed', 'direct_recent', 'elected', 'election_now', 'election_recent', 'exec_ant', 'exec_recent', 'government', 'indirect_recent', 'irreg_lead_ant', 'lead_recent', 'leg_ant', 'leg_recent', 'male', 'militarycareer', 'month', 'nochange_recent', 'prev_conflict', 'pt_attempt', 'pt_suc', 'ref_ant', 'ref_recent', 'tenure_months', 'victory_recent', 'year']\n"
     ]
    },
    {
     "name": "stdout",
     "output_type": "stream",
     "text": [
      "[1]\tvalidation_set's binary_logloss: 0.0545404\n",
      "Training until validation scores don't improve for 4 rounds\n",
      "[2]\tvalidation_set's binary_logloss: 0.0571301\n",
      "[3]\tvalidation_set's binary_logloss: 0.0579798\n",
      "[4]\tvalidation_set's binary_logloss: 0.0587283\n",
      "[5]\tvalidation_set's binary_logloss: 0.0602444\n",
      "Early stopping, best iteration is:\n",
      "[1]\tvalidation_set's binary_logloss: 0.0545404\n"
     ]
    },
    {
     "name": "stderr",
     "output_type": "stream",
     "text": [
      "Found `num_iterations` in params. Will use it instead of argument\n",
      "categorical_feature in Dataset is overridden.\n",
      "New categorical_feature is ['age', 'anticipation', 'change_recent', 'country', 'defeat_recent', 'delayed', 'direct_recent', 'elected', 'election_now', 'election_recent', 'exec_ant', 'exec_recent', 'government', 'indirect_recent', 'irreg_lead_ant', 'lead_recent', 'leg_ant', 'leg_recent', 'male', 'militarycareer', 'month', 'nochange_recent', 'prev_conflict', 'pt_attempt', 'pt_suc', 'ref_ant', 'ref_recent', 'tenure_months', 'victory_recent', 'year']\n"
     ]
    },
    {
     "name": "stdout",
     "output_type": "stream",
     "text": [
      "[1]\tvalidation_set's binary_logloss: 0.0526962\n",
      "Training until validation scores don't improve for 4 rounds\n",
      "[2]\tvalidation_set's binary_logloss: 0.0534819\n",
      "[3]\tvalidation_set's binary_logloss: 0.0536716\n",
      "[4]\tvalidation_set's binary_logloss: 0.0545063\n",
      "[5]\tvalidation_set's binary_logloss: 0.055714\n",
      "Early stopping, best iteration is:\n",
      "[1]\tvalidation_set's binary_logloss: 0.0526962\n"
     ]
    },
    {
     "name": "stderr",
     "output_type": "stream",
     "text": [
      "Found `num_iterations` in params. Will use it instead of argument\n",
      "categorical_feature in Dataset is overridden.\n",
      "New categorical_feature is ['age', 'anticipation', 'change_recent', 'country', 'defeat_recent', 'delayed', 'direct_recent', 'elected', 'election_now', 'election_recent', 'exec_ant', 'exec_recent', 'government', 'indirect_recent', 'irreg_lead_ant', 'lead_recent', 'leg_ant', 'leg_recent', 'male', 'militarycareer', 'month', 'nochange_recent', 'prev_conflict', 'pt_attempt', 'pt_suc', 'ref_ant', 'ref_recent', 'tenure_months', 'victory_recent', 'year']\n"
     ]
    },
    {
     "name": "stdout",
     "output_type": "stream",
     "text": [
      "[1]\tvalidation_set's binary_logloss: 0.0533113\n",
      "Training until validation scores don't improve for 4 rounds\n",
      "[2]\tvalidation_set's binary_logloss: 0.0536382\n",
      "[3]\tvalidation_set's binary_logloss: 0.0540198\n",
      "[4]\tvalidation_set's binary_logloss: 0.0543299\n",
      "[5]\tvalidation_set's binary_logloss: 0.0554063\n",
      "Early stopping, best iteration is:\n",
      "[1]\tvalidation_set's binary_logloss: 0.0533113\n"
     ]
    },
    {
     "name": "stderr",
     "output_type": "stream",
     "text": [
      "Found `num_iterations` in params. Will use it instead of argument\n",
      "categorical_feature in Dataset is overridden.\n",
      "New categorical_feature is ['age', 'anticipation', 'change_recent', 'country', 'defeat_recent', 'delayed', 'direct_recent', 'elected', 'election_now', 'election_recent', 'exec_ant', 'exec_recent', 'government', 'indirect_recent', 'irreg_lead_ant', 'lead_recent', 'leg_ant', 'leg_recent', 'male', 'militarycareer', 'month', 'nochange_recent', 'prev_conflict', 'pt_attempt', 'pt_suc', 'ref_ant', 'ref_recent', 'tenure_months', 'victory_recent', 'year']\n"
     ]
    },
    {
     "name": "stdout",
     "output_type": "stream",
     "text": [
      "[1]\tvalidation_set's binary_logloss: 0.0541167\n",
      "Training until validation scores don't improve for 4 rounds\n",
      "[2]\tvalidation_set's binary_logloss: 0.0546879\n",
      "[3]\tvalidation_set's binary_logloss: 0.0553046\n",
      "[4]\tvalidation_set's binary_logloss: 0.0557623\n",
      "[5]\tvalidation_set's binary_logloss: 0.0560713\n",
      "Early stopping, best iteration is:\n",
      "[1]\tvalidation_set's binary_logloss: 0.0541167\n"
     ]
    },
    {
     "name": "stderr",
     "output_type": "stream",
     "text": [
      "Found `num_iterations` in params. Will use it instead of argument\n",
      "categorical_feature in Dataset is overridden.\n",
      "New categorical_feature is ['age', 'anticipation', 'change_recent', 'country', 'defeat_recent', 'delayed', 'direct_recent', 'elected', 'election_now', 'election_recent', 'exec_ant', 'exec_recent', 'government', 'indirect_recent', 'irreg_lead_ant', 'lead_recent', 'leg_ant', 'leg_recent', 'male', 'militarycareer', 'month', 'nochange_recent', 'prev_conflict', 'pt_attempt', 'pt_suc', 'ref_ant', 'ref_recent', 'tenure_months', 'victory_recent', 'year']\n"
     ]
    },
    {
     "name": "stdout",
     "output_type": "stream",
     "text": [
      "[1]\tvalidation_set's binary_logloss: 0.0540382\n",
      "Training until validation scores don't improve for 4 rounds\n",
      "[2]\tvalidation_set's binary_logloss: 0.0545555\n",
      "[3]\tvalidation_set's binary_logloss: 0.0553719\n",
      "[4]\tvalidation_set's binary_logloss: 0.0553831\n",
      "[5]\tvalidation_set's binary_logloss: 0.0562682\n",
      "Early stopping, best iteration is:\n",
      "[1]\tvalidation_set's binary_logloss: 0.0540382\n"
     ]
    },
    {
     "name": "stderr",
     "output_type": "stream",
     "text": [
      "Found `num_iterations` in params. Will use it instead of argument\n",
      "categorical_feature in Dataset is overridden.\n",
      "New categorical_feature is ['age', 'anticipation', 'change_recent', 'country', 'defeat_recent', 'delayed', 'direct_recent', 'elected', 'election_now', 'election_recent', 'exec_ant', 'exec_recent', 'government', 'indirect_recent', 'irreg_lead_ant', 'lead_recent', 'leg_ant', 'leg_recent', 'male', 'militarycareer', 'month', 'nochange_recent', 'prev_conflict', 'pt_attempt', 'pt_suc', 'ref_ant', 'ref_recent', 'tenure_months', 'victory_recent', 'year']\n"
     ]
    },
    {
     "name": "stdout",
     "output_type": "stream",
     "text": [
      "[1]\tvalidation_set's binary_logloss: 0.0546044\n",
      "Training until validation scores don't improve for 4 rounds\n",
      "[2]\tvalidation_set's binary_logloss: 0.0551142\n",
      "[3]\tvalidation_set's binary_logloss: 0.0560389\n",
      "[4]\tvalidation_set's binary_logloss: 0.0563259\n",
      "[5]\tvalidation_set's binary_logloss: 0.0565313\n",
      "Early stopping, best iteration is:\n",
      "[1]\tvalidation_set's binary_logloss: 0.0546044\n"
     ]
    },
    {
     "name": "stderr",
     "output_type": "stream",
     "text": [
      "Found `num_iterations` in params. Will use it instead of argument\n",
      "categorical_feature in Dataset is overridden.\n",
      "New categorical_feature is ['age', 'anticipation', 'change_recent', 'country', 'defeat_recent', 'delayed', 'direct_recent', 'elected', 'election_now', 'election_recent', 'exec_ant', 'exec_recent', 'government', 'indirect_recent', 'irreg_lead_ant', 'lead_recent', 'leg_ant', 'leg_recent', 'male', 'militarycareer', 'month', 'nochange_recent', 'prev_conflict', 'pt_attempt', 'pt_suc', 'ref_ant', 'ref_recent', 'tenure_months', 'victory_recent', 'year']\n"
     ]
    },
    {
     "name": "stdout",
     "output_type": "stream",
     "text": [
      "[1]\tvalidation_set's binary_logloss: 0.0546879\n",
      "Training until validation scores don't improve for 4 rounds\n",
      "[2]\tvalidation_set's binary_logloss: 0.0558333\n",
      "[3]\tvalidation_set's binary_logloss: 0.0569016\n",
      "[4]\tvalidation_set's binary_logloss: 0.0573575\n",
      "[5]\tvalidation_set's binary_logloss: 0.058971\n",
      "Early stopping, best iteration is:\n",
      "[1]\tvalidation_set's binary_logloss: 0.0546879\n"
     ]
    },
    {
     "name": "stderr",
     "output_type": "stream",
     "text": [
      "Found `num_iterations` in params. Will use it instead of argument\n",
      "categorical_feature in Dataset is overridden.\n",
      "New categorical_feature is ['age', 'anticipation', 'change_recent', 'country', 'defeat_recent', 'delayed', 'direct_recent', 'elected', 'election_now', 'election_recent', 'exec_ant', 'exec_recent', 'government', 'indirect_recent', 'irreg_lead_ant', 'lead_recent', 'leg_ant', 'leg_recent', 'male', 'militarycareer', 'month', 'nochange_recent', 'prev_conflict', 'pt_attempt', 'pt_suc', 'ref_ant', 'ref_recent', 'tenure_months', 'victory_recent', 'year']\n"
     ]
    },
    {
     "name": "stdout",
     "output_type": "stream",
     "text": [
      "[1]\tvalidation_set's binary_logloss: 0.0560661\n",
      "Training until validation scores don't improve for 4 rounds\n",
      "[2]\tvalidation_set's binary_logloss: 0.0569084\n",
      "[3]\tvalidation_set's binary_logloss: 0.06044\n",
      "[4]\tvalidation_set's binary_logloss: 0.0637951\n",
      "[5]\tvalidation_set's binary_logloss: 0.0662134\n",
      "Early stopping, best iteration is:\n",
      "[1]\tvalidation_set's binary_logloss: 0.0560661\n"
     ]
    },
    {
     "name": "stderr",
     "output_type": "stream",
     "text": [
      "Found `num_iterations` in params. Will use it instead of argument\n",
      "categorical_feature in Dataset is overridden.\n",
      "New categorical_feature is ['age', 'anticipation', 'change_recent', 'country', 'defeat_recent', 'delayed', 'direct_recent', 'elected', 'election_now', 'election_recent', 'exec_ant', 'exec_recent', 'government', 'indirect_recent', 'irreg_lead_ant', 'lead_recent', 'leg_ant', 'leg_recent', 'male', 'militarycareer', 'month', 'nochange_recent', 'prev_conflict', 'pt_attempt', 'pt_suc', 'ref_ant', 'ref_recent', 'tenure_months', 'victory_recent', 'year']\n"
     ]
    },
    {
     "name": "stdout",
     "output_type": "stream",
     "text": [
      "[1]\tvalidation_set's binary_logloss: 0.0553294\n",
      "Training until validation scores don't improve for 4 rounds\n",
      "[2]\tvalidation_set's binary_logloss: 0.0555789\n",
      "[3]\tvalidation_set's binary_logloss: 0.0563356\n",
      "[4]\tvalidation_set's binary_logloss: 0.0567692\n",
      "[5]\tvalidation_set's binary_logloss: 0.0570969\n",
      "Early stopping, best iteration is:\n",
      "[1]\tvalidation_set's binary_logloss: 0.0553294\n"
     ]
    },
    {
     "name": "stderr",
     "output_type": "stream",
     "text": [
      "Found `num_iterations` in params. Will use it instead of argument\n",
      "categorical_feature in Dataset is overridden.\n",
      "New categorical_feature is ['age', 'anticipation', 'change_recent', 'country', 'defeat_recent', 'delayed', 'direct_recent', 'elected', 'election_now', 'election_recent', 'exec_ant', 'exec_recent', 'government', 'indirect_recent', 'irreg_lead_ant', 'lead_recent', 'leg_ant', 'leg_recent', 'male', 'militarycareer', 'month', 'nochange_recent', 'prev_conflict', 'pt_attempt', 'pt_suc', 'ref_ant', 'ref_recent', 'tenure_months', 'victory_recent', 'year']\n"
     ]
    },
    {
     "name": "stdout",
     "output_type": "stream",
     "text": [
      "[1]\tvalidation_set's binary_logloss: 0.0561215\n",
      "Training until validation scores don't improve for 4 rounds\n",
      "[2]\tvalidation_set's binary_logloss: 0.0574196\n",
      "[3]\tvalidation_set's binary_logloss: 0.0579177\n",
      "[4]\tvalidation_set's binary_logloss: 0.0586607\n",
      "[5]\tvalidation_set's binary_logloss: 0.0585754\n",
      "Early stopping, best iteration is:\n",
      "[1]\tvalidation_set's binary_logloss: 0.0561215\n"
     ]
    },
    {
     "name": "stderr",
     "output_type": "stream",
     "text": [
      "Found `num_iterations` in params. Will use it instead of argument\n",
      "categorical_feature in Dataset is overridden.\n",
      "New categorical_feature is ['age', 'anticipation', 'change_recent', 'country', 'defeat_recent', 'delayed', 'direct_recent', 'elected', 'election_now', 'election_recent', 'exec_ant', 'exec_recent', 'government', 'indirect_recent', 'irreg_lead_ant', 'lead_recent', 'leg_ant', 'leg_recent', 'male', 'militarycareer', 'month', 'nochange_recent', 'prev_conflict', 'pt_attempt', 'pt_suc', 'ref_ant', 'ref_recent', 'tenure_months', 'victory_recent', 'year']\n"
     ]
    },
    {
     "name": "stdout",
     "output_type": "stream",
     "text": [
      "[1]\tvalidation_set's binary_logloss: 0.0558645\n",
      "Training until validation scores don't improve for 4 rounds\n",
      "[2]\tvalidation_set's binary_logloss: 0.0571693\n",
      "[3]\tvalidation_set's binary_logloss: 0.0585595\n",
      "[4]\tvalidation_set's binary_logloss: 0.0591058\n",
      "[5]\tvalidation_set's binary_logloss: 0.0600441\n",
      "Early stopping, best iteration is:\n",
      "[1]\tvalidation_set's binary_logloss: 0.0558645\n"
     ]
    },
    {
     "name": "stderr",
     "output_type": "stream",
     "text": [
      "Found `num_iterations` in params. Will use it instead of argument\n",
      "categorical_feature in Dataset is overridden.\n",
      "New categorical_feature is ['age', 'anticipation', 'change_recent', 'country', 'defeat_recent', 'delayed', 'direct_recent', 'elected', 'election_now', 'election_recent', 'exec_ant', 'exec_recent', 'government', 'indirect_recent', 'irreg_lead_ant', 'lead_recent', 'leg_ant', 'leg_recent', 'male', 'militarycareer', 'month', 'nochange_recent', 'prev_conflict', 'pt_attempt', 'pt_suc', 'ref_ant', 'ref_recent', 'tenure_months', 'victory_recent', 'year']\n"
     ]
    },
    {
     "name": "stdout",
     "output_type": "stream",
     "text": [
      "[1]\tvalidation_set's binary_logloss: 0.0562356\n",
      "Training until validation scores don't improve for 4 rounds\n",
      "[2]\tvalidation_set's binary_logloss: 0.0561802\n",
      "[3]\tvalidation_set's binary_logloss: 0.05692\n",
      "[4]\tvalidation_set's binary_logloss: 0.0571852\n",
      "[5]\tvalidation_set's binary_logloss: 0.0579014\n",
      "[6]\tvalidation_set's binary_logloss: 0.0582229\n",
      "Early stopping, best iteration is:\n",
      "[2]\tvalidation_set's binary_logloss: 0.0561802\n"
     ]
    },
    {
     "name": "stderr",
     "output_type": "stream",
     "text": [
      "Found `num_iterations` in params. Will use it instead of argument\n",
      "categorical_feature in Dataset is overridden.\n",
      "New categorical_feature is ['age', 'anticipation', 'change_recent', 'country', 'defeat_recent', 'delayed', 'direct_recent', 'elected', 'election_now', 'election_recent', 'exec_ant', 'exec_recent', 'government', 'indirect_recent', 'irreg_lead_ant', 'lead_recent', 'leg_ant', 'leg_recent', 'male', 'militarycareer', 'month', 'nochange_recent', 'prev_conflict', 'pt_attempt', 'pt_suc', 'ref_ant', 'ref_recent', 'tenure_months', 'victory_recent', 'year']\n"
     ]
    },
    {
     "name": "stdout",
     "output_type": "stream",
     "text": [
      "[1]\tvalidation_set's binary_logloss: 0.056913\n",
      "Training until validation scores don't improve for 4 rounds\n",
      "[2]\tvalidation_set's binary_logloss: 0.0592023\n",
      "[3]\tvalidation_set's binary_logloss: 0.0593624\n",
      "[4]\tvalidation_set's binary_logloss: 0.0599771\n",
      "[5]\tvalidation_set's binary_logloss: 0.0602071\n",
      "Early stopping, best iteration is:\n",
      "[1]\tvalidation_set's binary_logloss: 0.056913\n"
     ]
    },
    {
     "name": "stderr",
     "output_type": "stream",
     "text": [
      "Found `num_iterations` in params. Will use it instead of argument\n",
      "categorical_feature in Dataset is overridden.\n",
      "New categorical_feature is ['age', 'anticipation', 'change_recent', 'country', 'defeat_recent', 'delayed', 'direct_recent', 'elected', 'election_now', 'election_recent', 'exec_ant', 'exec_recent', 'government', 'indirect_recent', 'irreg_lead_ant', 'lead_recent', 'leg_ant', 'leg_recent', 'male', 'militarycareer', 'month', 'nochange_recent', 'prev_conflict', 'pt_attempt', 'pt_suc', 'ref_ant', 'ref_recent', 'tenure_months', 'victory_recent', 'year']\n"
     ]
    },
    {
     "name": "stdout",
     "output_type": "stream",
     "text": [
      "[1]\tvalidation_set's binary_logloss: 0.0567898\n",
      "Training until validation scores don't improve for 4 rounds\n",
      "[2]\tvalidation_set's binary_logloss: 0.0573247\n",
      "[3]\tvalidation_set's binary_logloss: 0.0579181\n",
      "[4]\tvalidation_set's binary_logloss: 0.058189\n",
      "[5]\tvalidation_set's binary_logloss: 0.058589\n",
      "Early stopping, best iteration is:\n",
      "[1]\tvalidation_set's binary_logloss: 0.0567898\n"
     ]
    },
    {
     "name": "stderr",
     "output_type": "stream",
     "text": [
      "Found `num_iterations` in params. Will use it instead of argument\n",
      "categorical_feature in Dataset is overridden.\n",
      "New categorical_feature is ['age', 'anticipation', 'change_recent', 'country', 'defeat_recent', 'delayed', 'direct_recent', 'elected', 'election_now', 'election_recent', 'exec_ant', 'exec_recent', 'government', 'indirect_recent', 'irreg_lead_ant', 'lead_recent', 'leg_ant', 'leg_recent', 'male', 'militarycareer', 'month', 'nochange_recent', 'prev_conflict', 'pt_attempt', 'pt_suc', 'ref_ant', 'ref_recent', 'tenure_months', 'victory_recent', 'year']\n"
     ]
    },
    {
     "name": "stdout",
     "output_type": "stream",
     "text": [
      "[1]\tvalidation_set's binary_logloss: 0.0575865\n",
      "Training until validation scores don't improve for 4 rounds\n",
      "[2]\tvalidation_set's binary_logloss: 0.0581427\n",
      "[3]\tvalidation_set's binary_logloss: 0.0587912\n",
      "[4]\tvalidation_set's binary_logloss: 0.0588762\n",
      "[5]\tvalidation_set's binary_logloss: 0.0592421\n",
      "Early stopping, best iteration is:\n",
      "[1]\tvalidation_set's binary_logloss: 0.0575865\n"
     ]
    },
    {
     "name": "stderr",
     "output_type": "stream",
     "text": [
      "Found `num_iterations` in params. Will use it instead of argument\n",
      "categorical_feature in Dataset is overridden.\n",
      "New categorical_feature is ['age', 'anticipation', 'change_recent', 'country', 'defeat_recent', 'delayed', 'direct_recent', 'elected', 'election_now', 'election_recent', 'exec_ant', 'exec_recent', 'government', 'indirect_recent', 'irreg_lead_ant', 'lead_recent', 'leg_ant', 'leg_recent', 'male', 'militarycareer', 'month', 'nochange_recent', 'prev_conflict', 'pt_attempt', 'pt_suc', 'ref_ant', 'ref_recent', 'tenure_months', 'victory_recent', 'year']\n"
     ]
    },
    {
     "name": "stdout",
     "output_type": "stream",
     "text": [
      "[1]\tvalidation_set's binary_logloss: 0.058022\n",
      "Training until validation scores don't improve for 4 rounds\n",
      "[2]\tvalidation_set's binary_logloss: 0.0582306\n",
      "[3]\tvalidation_set's binary_logloss: 0.0599244\n",
      "[4]\tvalidation_set's binary_logloss: 0.0602437\n",
      "[5]\tvalidation_set's binary_logloss: 0.0613317\n",
      "Early stopping, best iteration is:\n",
      "[1]\tvalidation_set's binary_logloss: 0.058022\n"
     ]
    },
    {
     "name": "stderr",
     "output_type": "stream",
     "text": [
      "Found `num_iterations` in params. Will use it instead of argument\n",
      "categorical_feature in Dataset is overridden.\n",
      "New categorical_feature is ['age', 'anticipation', 'change_recent', 'country', 'defeat_recent', 'delayed', 'direct_recent', 'elected', 'election_now', 'election_recent', 'exec_ant', 'exec_recent', 'government', 'indirect_recent', 'irreg_lead_ant', 'lead_recent', 'leg_ant', 'leg_recent', 'male', 'militarycareer', 'month', 'nochange_recent', 'prev_conflict', 'pt_attempt', 'pt_suc', 'ref_ant', 'ref_recent', 'tenure_months', 'victory_recent', 'year']\n"
     ]
    },
    {
     "name": "stdout",
     "output_type": "stream",
     "text": [
      "[1]\tvalidation_set's binary_logloss: 0.0566348\n",
      "Training until validation scores don't improve for 4 rounds\n",
      "[2]\tvalidation_set's binary_logloss: 0.0567908\n",
      "[3]\tvalidation_set's binary_logloss: 0.0575872\n",
      "[4]\tvalidation_set's binary_logloss: 0.0586684\n",
      "[5]\tvalidation_set's binary_logloss: 0.0597653\n",
      "Early stopping, best iteration is:\n",
      "[1]\tvalidation_set's binary_logloss: 0.0566348\n"
     ]
    },
    {
     "name": "stderr",
     "output_type": "stream",
     "text": [
      "Found `num_iterations` in params. Will use it instead of argument\n",
      "categorical_feature in Dataset is overridden.\n",
      "New categorical_feature is ['age', 'anticipation', 'change_recent', 'country', 'defeat_recent', 'delayed', 'direct_recent', 'elected', 'election_now', 'election_recent', 'exec_ant', 'exec_recent', 'government', 'indirect_recent', 'irreg_lead_ant', 'lead_recent', 'leg_ant', 'leg_recent', 'male', 'militarycareer', 'month', 'nochange_recent', 'prev_conflict', 'pt_attempt', 'pt_suc', 'ref_ant', 'ref_recent', 'tenure_months', 'victory_recent', 'year']\n"
     ]
    },
    {
     "name": "stdout",
     "output_type": "stream",
     "text": [
      "[1]\tvalidation_set's binary_logloss: 0.0569554\n",
      "Training until validation scores don't improve for 4 rounds\n",
      "[2]\tvalidation_set's binary_logloss: 0.0576541\n",
      "[3]\tvalidation_set's binary_logloss: 0.0583269\n",
      "[4]\tvalidation_set's binary_logloss: 0.0588025\n",
      "[5]\tvalidation_set's binary_logloss: 0.0590752\n",
      "Early stopping, best iteration is:\n",
      "[1]\tvalidation_set's binary_logloss: 0.0569554\n"
     ]
    },
    {
     "name": "stderr",
     "output_type": "stream",
     "text": [
      "Found `num_iterations` in params. Will use it instead of argument\n",
      "categorical_feature in Dataset is overridden.\n",
      "New categorical_feature is ['age', 'anticipation', 'change_recent', 'country', 'defeat_recent', 'delayed', 'direct_recent', 'elected', 'election_now', 'election_recent', 'exec_ant', 'exec_recent', 'government', 'indirect_recent', 'irreg_lead_ant', 'lead_recent', 'leg_ant', 'leg_recent', 'male', 'militarycareer', 'month', 'nochange_recent', 'prev_conflict', 'pt_attempt', 'pt_suc', 'ref_ant', 'ref_recent', 'tenure_months', 'victory_recent', 'year']\n"
     ]
    },
    {
     "name": "stdout",
     "output_type": "stream",
     "text": [
      "[1]\tvalidation_set's binary_logloss: 0.0579603\n",
      "Training until validation scores don't improve for 4 rounds\n",
      "[2]\tvalidation_set's binary_logloss: 0.0584669\n",
      "[3]\tvalidation_set's binary_logloss: 0.0589369\n",
      "[4]\tvalidation_set's binary_logloss: 0.0594305\n",
      "[5]\tvalidation_set's binary_logloss: 0.0602545\n",
      "Early stopping, best iteration is:\n",
      "[1]\tvalidation_set's binary_logloss: 0.0579603\n"
     ]
    },
    {
     "name": "stderr",
     "output_type": "stream",
     "text": [
      "Found `num_iterations` in params. Will use it instead of argument\n",
      "categorical_feature in Dataset is overridden.\n",
      "New categorical_feature is ['age', 'anticipation', 'change_recent', 'country', 'defeat_recent', 'delayed', 'direct_recent', 'elected', 'election_now', 'election_recent', 'exec_ant', 'exec_recent', 'government', 'indirect_recent', 'irreg_lead_ant', 'lead_recent', 'leg_ant', 'leg_recent', 'male', 'militarycareer', 'month', 'nochange_recent', 'prev_conflict', 'pt_attempt', 'pt_suc', 'ref_ant', 'ref_recent', 'tenure_months', 'victory_recent', 'year']\n"
     ]
    },
    {
     "name": "stdout",
     "output_type": "stream",
     "text": [
      "[1]\tvalidation_set's binary_logloss: 0.0565799\n",
      "Training until validation scores don't improve for 4 rounds\n",
      "[2]\tvalidation_set's binary_logloss: 0.0578936\n",
      "[3]\tvalidation_set's binary_logloss: 0.0581971\n",
      "[4]\tvalidation_set's binary_logloss: 0.0583273\n",
      "[5]\tvalidation_set's binary_logloss: 0.0587215\n",
      "Early stopping, best iteration is:\n",
      "[1]\tvalidation_set's binary_logloss: 0.0565799\n"
     ]
    },
    {
     "name": "stderr",
     "output_type": "stream",
     "text": [
      "Found `num_iterations` in params. Will use it instead of argument\n",
      "categorical_feature in Dataset is overridden.\n",
      "New categorical_feature is ['age', 'anticipation', 'change_recent', 'country', 'defeat_recent', 'delayed', 'direct_recent', 'elected', 'election_now', 'election_recent', 'exec_ant', 'exec_recent', 'government', 'indirect_recent', 'irreg_lead_ant', 'lead_recent', 'leg_ant', 'leg_recent', 'male', 'militarycareer', 'month', 'nochange_recent', 'prev_conflict', 'pt_attempt', 'pt_suc', 'ref_ant', 'ref_recent', 'tenure_months', 'victory_recent', 'year']\n"
     ]
    },
    {
     "name": "stdout",
     "output_type": "stream",
     "text": [
      "[1]\tvalidation_set's binary_logloss: 0.0536674\n",
      "Training until validation scores don't improve for 4 rounds\n",
      "[2]\tvalidation_set's binary_logloss: 0.0538776\n",
      "[3]\tvalidation_set's binary_logloss: 0.0544169\n",
      "[4]\tvalidation_set's binary_logloss: 0.0546874\n",
      "[5]\tvalidation_set's binary_logloss: 0.0552332\n",
      "Early stopping, best iteration is:\n",
      "[1]\tvalidation_set's binary_logloss: 0.0536674\n"
     ]
    },
    {
     "name": "stderr",
     "output_type": "stream",
     "text": [
      "Found `num_iterations` in params. Will use it instead of argument\n",
      "categorical_feature in Dataset is overridden.\n",
      "New categorical_feature is ['age', 'anticipation', 'change_recent', 'country', 'defeat_recent', 'delayed', 'direct_recent', 'elected', 'election_now', 'election_recent', 'exec_ant', 'exec_recent', 'government', 'indirect_recent', 'irreg_lead_ant', 'lead_recent', 'leg_ant', 'leg_recent', 'male', 'militarycareer', 'month', 'nochange_recent', 'prev_conflict', 'pt_attempt', 'pt_suc', 'ref_ant', 'ref_recent', 'tenure_months', 'victory_recent', 'year']\n"
     ]
    },
    {
     "name": "stdout",
     "output_type": "stream",
     "text": [
      "[1]\tvalidation_set's binary_logloss: 0.0549166\n",
      "Training until validation scores don't improve for 4 rounds\n",
      "[2]\tvalidation_set's binary_logloss: 0.0555659\n",
      "[3]\tvalidation_set's binary_logloss: 0.0558508\n",
      "[4]\tvalidation_set's binary_logloss: 0.0562577\n",
      "[5]\tvalidation_set's binary_logloss: 0.0563029\n",
      "Early stopping, best iteration is:\n",
      "[1]\tvalidation_set's binary_logloss: 0.0549166\n"
     ]
    },
    {
     "name": "stderr",
     "output_type": "stream",
     "text": [
      "Found `num_iterations` in params. Will use it instead of argument\n",
      "categorical_feature in Dataset is overridden.\n",
      "New categorical_feature is ['age', 'anticipation', 'change_recent', 'country', 'defeat_recent', 'delayed', 'direct_recent', 'elected', 'election_now', 'election_recent', 'exec_ant', 'exec_recent', 'government', 'indirect_recent', 'irreg_lead_ant', 'lead_recent', 'leg_ant', 'leg_recent', 'male', 'militarycareer', 'month', 'nochange_recent', 'prev_conflict', 'pt_attempt', 'pt_suc', 'ref_ant', 'ref_recent', 'tenure_months', 'victory_recent', 'year']\n"
     ]
    },
    {
     "name": "stdout",
     "output_type": "stream",
     "text": [
      "[1]\tvalidation_set's binary_logloss: 0.0554942\n",
      "Training until validation scores don't improve for 4 rounds\n",
      "[2]\tvalidation_set's binary_logloss: 0.0558097\n",
      "[3]\tvalidation_set's binary_logloss: 0.0564544\n",
      "[4]\tvalidation_set's binary_logloss: 0.0571264\n",
      "[5]\tvalidation_set's binary_logloss: 0.0573881\n",
      "Early stopping, best iteration is:\n",
      "[1]\tvalidation_set's binary_logloss: 0.0554942\n"
     ]
    },
    {
     "name": "stderr",
     "output_type": "stream",
     "text": [
      "Found `num_iterations` in params. Will use it instead of argument\n",
      "categorical_feature in Dataset is overridden.\n",
      "New categorical_feature is ['age', 'anticipation', 'change_recent', 'country', 'defeat_recent', 'delayed', 'direct_recent', 'elected', 'election_now', 'election_recent', 'exec_ant', 'exec_recent', 'government', 'indirect_recent', 'irreg_lead_ant', 'lead_recent', 'leg_ant', 'leg_recent', 'male', 'militarycareer', 'month', 'nochange_recent', 'prev_conflict', 'pt_attempt', 'pt_suc', 'ref_ant', 'ref_recent', 'tenure_months', 'victory_recent', 'year']\n"
     ]
    },
    {
     "name": "stdout",
     "output_type": "stream",
     "text": [
      "[1]\tvalidation_set's binary_logloss: 0.0536602\n",
      "Training until validation scores don't improve for 4 rounds\n",
      "[2]\tvalidation_set's binary_logloss: 0.0536419\n",
      "[3]\tvalidation_set's binary_logloss: 0.054149\n",
      "[4]\tvalidation_set's binary_logloss: 0.0546152\n",
      "[5]\tvalidation_set's binary_logloss: 0.0554213\n",
      "[6]\tvalidation_set's binary_logloss: 0.0558166\n",
      "Early stopping, best iteration is:\n",
      "[2]\tvalidation_set's binary_logloss: 0.0536419\n"
     ]
    },
    {
     "name": "stderr",
     "output_type": "stream",
     "text": [
      "Found `num_iterations` in params. Will use it instead of argument\n",
      "categorical_feature in Dataset is overridden.\n",
      "New categorical_feature is ['age', 'anticipation', 'change_recent', 'country', 'defeat_recent', 'delayed', 'direct_recent', 'elected', 'election_now', 'election_recent', 'exec_ant', 'exec_recent', 'government', 'indirect_recent', 'irreg_lead_ant', 'lead_recent', 'leg_ant', 'leg_recent', 'male', 'militarycareer', 'month', 'nochange_recent', 'prev_conflict', 'pt_attempt', 'pt_suc', 'ref_ant', 'ref_recent', 'tenure_months', 'victory_recent', 'year']\n"
     ]
    },
    {
     "name": "stdout",
     "output_type": "stream",
     "text": [
      "[1]\tvalidation_set's binary_logloss: 0.0538383\n",
      "Training until validation scores don't improve for 4 rounds\n",
      "[2]\tvalidation_set's binary_logloss: 0.054587\n",
      "[3]\tvalidation_set's binary_logloss: 0.0553466\n",
      "[4]\tvalidation_set's binary_logloss: 0.0558844\n",
      "[5]\tvalidation_set's binary_logloss: 0.0568256\n",
      "Early stopping, best iteration is:\n",
      "[1]\tvalidation_set's binary_logloss: 0.0538383\n"
     ]
    },
    {
     "name": "stderr",
     "output_type": "stream",
     "text": [
      "Found `num_iterations` in params. Will use it instead of argument\n",
      "categorical_feature in Dataset is overridden.\n",
      "New categorical_feature is ['age', 'anticipation', 'change_recent', 'country', 'defeat_recent', 'delayed', 'direct_recent', 'elected', 'election_now', 'election_recent', 'exec_ant', 'exec_recent', 'government', 'indirect_recent', 'irreg_lead_ant', 'lead_recent', 'leg_ant', 'leg_recent', 'male', 'militarycareer', 'month', 'nochange_recent', 'prev_conflict', 'pt_attempt', 'pt_suc', 'ref_ant', 'ref_recent', 'tenure_months', 'victory_recent', 'year']\n"
     ]
    },
    {
     "name": "stdout",
     "output_type": "stream",
     "text": [
      "[1]\tvalidation_set's binary_logloss: 0.0527029\n",
      "Training until validation scores don't improve for 4 rounds\n",
      "[2]\tvalidation_set's binary_logloss: 0.0532811\n",
      "[3]\tvalidation_set's binary_logloss: 0.0541791\n",
      "[4]\tvalidation_set's binary_logloss: 0.0545338\n",
      "[5]\tvalidation_set's binary_logloss: 0.0550264\n",
      "Early stopping, best iteration is:\n",
      "[1]\tvalidation_set's binary_logloss: 0.0527029\n"
     ]
    },
    {
     "name": "stderr",
     "output_type": "stream",
     "text": [
      "Found `num_iterations` in params. Will use it instead of argument\n",
      "categorical_feature in Dataset is overridden.\n",
      "New categorical_feature is ['age', 'anticipation', 'change_recent', 'country', 'defeat_recent', 'delayed', 'direct_recent', 'elected', 'election_now', 'election_recent', 'exec_ant', 'exec_recent', 'government', 'indirect_recent', 'irreg_lead_ant', 'lead_recent', 'leg_ant', 'leg_recent', 'male', 'militarycareer', 'month', 'nochange_recent', 'prev_conflict', 'pt_attempt', 'pt_suc', 'ref_ant', 'ref_recent', 'tenure_months', 'victory_recent', 'year']\n"
     ]
    },
    {
     "name": "stdout",
     "output_type": "stream",
     "text": [
      "[1]\tvalidation_set's binary_logloss: 0.0529706\n",
      "Training until validation scores don't improve for 4 rounds\n",
      "[2]\tvalidation_set's binary_logloss: 0.0534897\n",
      "[3]\tvalidation_set's binary_logloss: 0.0538483\n",
      "[4]\tvalidation_set's binary_logloss: 0.0542567\n",
      "[5]\tvalidation_set's binary_logloss: 0.0545379\n",
      "Early stopping, best iteration is:\n",
      "[1]\tvalidation_set's binary_logloss: 0.0529706\n"
     ]
    },
    {
     "name": "stderr",
     "output_type": "stream",
     "text": [
      "Found `num_iterations` in params. Will use it instead of argument\n",
      "categorical_feature in Dataset is overridden.\n",
      "New categorical_feature is ['age', 'anticipation', 'change_recent', 'country', 'defeat_recent', 'delayed', 'direct_recent', 'elected', 'election_now', 'election_recent', 'exec_ant', 'exec_recent', 'government', 'indirect_recent', 'irreg_lead_ant', 'lead_recent', 'leg_ant', 'leg_recent', 'male', 'militarycareer', 'month', 'nochange_recent', 'prev_conflict', 'pt_attempt', 'pt_suc', 'ref_ant', 'ref_recent', 'tenure_months', 'victory_recent', 'year']\n"
     ]
    },
    {
     "name": "stdout",
     "output_type": "stream",
     "text": [
      "[1]\tvalidation_set's binary_logloss: 0.0527719\n",
      "Training until validation scores don't improve for 4 rounds\n",
      "[2]\tvalidation_set's binary_logloss: 0.0533731\n",
      "[3]\tvalidation_set's binary_logloss: 0.0540012\n",
      "[4]\tvalidation_set's binary_logloss: 0.0550077\n",
      "[5]\tvalidation_set's binary_logloss: 0.0557814\n",
      "Early stopping, best iteration is:\n",
      "[1]\tvalidation_set's binary_logloss: 0.0527719\n"
     ]
    },
    {
     "name": "stderr",
     "output_type": "stream",
     "text": [
      "Found `num_iterations` in params. Will use it instead of argument\n",
      "categorical_feature in Dataset is overridden.\n",
      "New categorical_feature is ['age', 'anticipation', 'change_recent', 'country', 'defeat_recent', 'delayed', 'direct_recent', 'elected', 'election_now', 'election_recent', 'exec_ant', 'exec_recent', 'government', 'indirect_recent', 'irreg_lead_ant', 'lead_recent', 'leg_ant', 'leg_recent', 'male', 'militarycareer', 'month', 'nochange_recent', 'prev_conflict', 'pt_attempt', 'pt_suc', 'ref_ant', 'ref_recent', 'tenure_months', 'victory_recent', 'year']\n"
     ]
    },
    {
     "name": "stdout",
     "output_type": "stream",
     "text": [
      "[1]\tvalidation_set's binary_logloss: 0.0535901\n",
      "Training until validation scores don't improve for 4 rounds\n",
      "[2]\tvalidation_set's binary_logloss: 0.0536844\n",
      "[3]\tvalidation_set's binary_logloss: 0.0539551\n",
      "[4]\tvalidation_set's binary_logloss: 0.0544866\n",
      "[5]\tvalidation_set's binary_logloss: 0.0548512\n",
      "Early stopping, best iteration is:\n",
      "[1]\tvalidation_set's binary_logloss: 0.0535901\n"
     ]
    },
    {
     "name": "stderr",
     "output_type": "stream",
     "text": [
      "Found `num_iterations` in params. Will use it instead of argument\n",
      "categorical_feature in Dataset is overridden.\n",
      "New categorical_feature is ['age', 'anticipation', 'change_recent', 'country', 'defeat_recent', 'delayed', 'direct_recent', 'elected', 'election_now', 'election_recent', 'exec_ant', 'exec_recent', 'government', 'indirect_recent', 'irreg_lead_ant', 'lead_recent', 'leg_ant', 'leg_recent', 'male', 'militarycareer', 'month', 'nochange_recent', 'prev_conflict', 'pt_attempt', 'pt_suc', 'ref_ant', 'ref_recent', 'tenure_months', 'victory_recent', 'year']\n"
     ]
    },
    {
     "name": "stdout",
     "output_type": "stream",
     "text": [
      "[1]\tvalidation_set's binary_logloss: 0.0535793\n",
      "Training until validation scores don't improve for 4 rounds\n",
      "[2]\tvalidation_set's binary_logloss: 0.0537688\n",
      "[3]\tvalidation_set's binary_logloss: 0.0542462\n",
      "[4]\tvalidation_set's binary_logloss: 0.0550448\n",
      "[5]\tvalidation_set's binary_logloss: 0.0559933\n",
      "Early stopping, best iteration is:\n",
      "[1]\tvalidation_set's binary_logloss: 0.0535793\n"
     ]
    },
    {
     "name": "stderr",
     "output_type": "stream",
     "text": [
      "Found `num_iterations` in params. Will use it instead of argument\n",
      "categorical_feature in Dataset is overridden.\n",
      "New categorical_feature is ['age', 'anticipation', 'change_recent', 'country', 'defeat_recent', 'delayed', 'direct_recent', 'elected', 'election_now', 'election_recent', 'exec_ant', 'exec_recent', 'government', 'indirect_recent', 'irreg_lead_ant', 'lead_recent', 'leg_ant', 'leg_recent', 'male', 'militarycareer', 'month', 'nochange_recent', 'prev_conflict', 'pt_attempt', 'pt_suc', 'ref_ant', 'ref_recent', 'tenure_months', 'victory_recent', 'year']\n"
     ]
    },
    {
     "name": "stdout",
     "output_type": "stream",
     "text": [
      "[1]\tvalidation_set's binary_logloss: 0.0534592\n",
      "Training until validation scores don't improve for 4 rounds\n",
      "[2]\tvalidation_set's binary_logloss: 0.0542318\n",
      "[3]\tvalidation_set's binary_logloss: 0.0546193\n",
      "[4]\tvalidation_set's binary_logloss: 0.0549273\n",
      "[5]\tvalidation_set's binary_logloss: 0.0548614\n",
      "Early stopping, best iteration is:\n",
      "[1]\tvalidation_set's binary_logloss: 0.0534592\n"
     ]
    },
    {
     "name": "stderr",
     "output_type": "stream",
     "text": [
      "Found `num_iterations` in params. Will use it instead of argument\n",
      "categorical_feature in Dataset is overridden.\n",
      "New categorical_feature is ['age', 'anticipation', 'change_recent', 'country', 'defeat_recent', 'delayed', 'direct_recent', 'elected', 'election_now', 'election_recent', 'exec_ant', 'exec_recent', 'government', 'indirect_recent', 'irreg_lead_ant', 'lead_recent', 'leg_ant', 'leg_recent', 'male', 'militarycareer', 'month', 'nochange_recent', 'prev_conflict', 'pt_attempt', 'pt_suc', 'ref_ant', 'ref_recent', 'tenure_months', 'victory_recent', 'year']\n"
     ]
    },
    {
     "name": "stdout",
     "output_type": "stream",
     "text": [
      "[1]\tvalidation_set's binary_logloss: 0.0535354\n",
      "Training until validation scores don't improve for 4 rounds\n",
      "[2]\tvalidation_set's binary_logloss: 0.0543801\n",
      "[3]\tvalidation_set's binary_logloss: 0.054746\n",
      "[4]\tvalidation_set's binary_logloss: 0.0554125\n",
      "[5]\tvalidation_set's binary_logloss: 0.0559795\n",
      "Early stopping, best iteration is:\n",
      "[1]\tvalidation_set's binary_logloss: 0.0535354\n"
     ]
    },
    {
     "name": "stderr",
     "output_type": "stream",
     "text": [
      "Found `num_iterations` in params. Will use it instead of argument\n",
      "categorical_feature in Dataset is overridden.\n",
      "New categorical_feature is ['age', 'anticipation', 'change_recent', 'country', 'defeat_recent', 'delayed', 'direct_recent', 'elected', 'election_now', 'election_recent', 'exec_ant', 'exec_recent', 'government', 'indirect_recent', 'irreg_lead_ant', 'lead_recent', 'leg_ant', 'leg_recent', 'male', 'militarycareer', 'month', 'nochange_recent', 'prev_conflict', 'pt_attempt', 'pt_suc', 'ref_ant', 'ref_recent', 'tenure_months', 'victory_recent', 'year']\n"
     ]
    },
    {
     "name": "stdout",
     "output_type": "stream",
     "text": [
      "[1]\tvalidation_set's binary_logloss: 0.0529708\n",
      "Training until validation scores don't improve for 4 rounds\n",
      "[2]\tvalidation_set's binary_logloss: 0.0536874\n",
      "[3]\tvalidation_set's binary_logloss: 0.054416\n",
      "[4]\tvalidation_set's binary_logloss: 0.0550847\n",
      "[5]\tvalidation_set's binary_logloss: 0.055443\n",
      "Early stopping, best iteration is:\n",
      "[1]\tvalidation_set's binary_logloss: 0.0529708\n"
     ]
    },
    {
     "name": "stderr",
     "output_type": "stream",
     "text": [
      "Found `num_iterations` in params. Will use it instead of argument\n",
      "categorical_feature in Dataset is overridden.\n",
      "New categorical_feature is ['age', 'anticipation', 'change_recent', 'country', 'defeat_recent', 'delayed', 'direct_recent', 'elected', 'election_now', 'election_recent', 'exec_ant', 'exec_recent', 'government', 'indirect_recent', 'irreg_lead_ant', 'lead_recent', 'leg_ant', 'leg_recent', 'male', 'militarycareer', 'month', 'nochange_recent', 'prev_conflict', 'pt_attempt', 'pt_suc', 'ref_ant', 'ref_recent', 'tenure_months', 'victory_recent', 'year']\n"
     ]
    },
    {
     "name": "stdout",
     "output_type": "stream",
     "text": [
      "[1]\tvalidation_set's binary_logloss: 0.0529752\n",
      "Training until validation scores don't improve for 4 rounds\n",
      "[2]\tvalidation_set's binary_logloss: 0.0532859\n",
      "[3]\tvalidation_set's binary_logloss: 0.0540957\n",
      "[4]\tvalidation_set's binary_logloss: 0.0548728\n",
      "[5]\tvalidation_set's binary_logloss: 0.0551124\n",
      "Early stopping, best iteration is:\n",
      "[1]\tvalidation_set's binary_logloss: 0.0529752\n"
     ]
    },
    {
     "name": "stderr",
     "output_type": "stream",
     "text": [
      "Found `num_iterations` in params. Will use it instead of argument\n",
      "categorical_feature in Dataset is overridden.\n",
      "New categorical_feature is ['age', 'anticipation', 'change_recent', 'country', 'defeat_recent', 'delayed', 'direct_recent', 'elected', 'election_now', 'election_recent', 'exec_ant', 'exec_recent', 'government', 'indirect_recent', 'irreg_lead_ant', 'lead_recent', 'leg_ant', 'leg_recent', 'male', 'militarycareer', 'month', 'nochange_recent', 'prev_conflict', 'pt_attempt', 'pt_suc', 'ref_ant', 'ref_recent', 'tenure_months', 'victory_recent', 'year']\n"
     ]
    },
    {
     "name": "stdout",
     "output_type": "stream",
     "text": [
      "[1]\tvalidation_set's binary_logloss: 0.0540476\n",
      "Training until validation scores don't improve for 4 rounds\n",
      "[2]\tvalidation_set's binary_logloss: 0.0544832\n",
      "[3]\tvalidation_set's binary_logloss: 0.0559697\n",
      "[4]\tvalidation_set's binary_logloss: 0.0562817\n",
      "[5]\tvalidation_set's binary_logloss: 0.0568494\n",
      "Early stopping, best iteration is:\n",
      "[1]\tvalidation_set's binary_logloss: 0.0540476\n"
     ]
    },
    {
     "name": "stderr",
     "output_type": "stream",
     "text": [
      "Found `num_iterations` in params. Will use it instead of argument\n",
      "categorical_feature in Dataset is overridden.\n",
      "New categorical_feature is ['age', 'anticipation', 'change_recent', 'country', 'defeat_recent', 'delayed', 'direct_recent', 'elected', 'election_now', 'election_recent', 'exec_ant', 'exec_recent', 'government', 'indirect_recent', 'irreg_lead_ant', 'lead_recent', 'leg_ant', 'leg_recent', 'male', 'militarycareer', 'month', 'nochange_recent', 'prev_conflict', 'pt_attempt', 'pt_suc', 'ref_ant', 'ref_recent', 'tenure_months', 'victory_recent', 'year']\n"
     ]
    },
    {
     "name": "stdout",
     "output_type": "stream",
     "text": [
      "[1]\tvalidation_set's binary_logloss: 0.0519041\n",
      "Training until validation scores don't improve for 4 rounds\n",
      "[2]\tvalidation_set's binary_logloss: 0.0530948\n",
      "[3]\tvalidation_set's binary_logloss: 0.0541419\n",
      "[4]\tvalidation_set's binary_logloss: 0.0542348\n",
      "[5]\tvalidation_set's binary_logloss: 0.0547322\n",
      "Early stopping, best iteration is:\n",
      "[1]\tvalidation_set's binary_logloss: 0.0519041\n"
     ]
    },
    {
     "name": "stderr",
     "output_type": "stream",
     "text": [
      "Found `num_iterations` in params. Will use it instead of argument\n",
      "categorical_feature in Dataset is overridden.\n",
      "New categorical_feature is ['age', 'anticipation', 'change_recent', 'country', 'defeat_recent', 'delayed', 'direct_recent', 'elected', 'election_now', 'election_recent', 'exec_ant', 'exec_recent', 'government', 'indirect_recent', 'irreg_lead_ant', 'lead_recent', 'leg_ant', 'leg_recent', 'male', 'militarycareer', 'month', 'nochange_recent', 'prev_conflict', 'pt_attempt', 'pt_suc', 'ref_ant', 'ref_recent', 'tenure_months', 'victory_recent', 'year']\n"
     ]
    },
    {
     "name": "stdout",
     "output_type": "stream",
     "text": [
      "[1]\tvalidation_set's binary_logloss: 0.0524577\n",
      "Training until validation scores don't improve for 4 rounds\n",
      "[2]\tvalidation_set's binary_logloss: 0.0534568\n",
      "[3]\tvalidation_set's binary_logloss: 0.0542788\n",
      "[4]\tvalidation_set's binary_logloss: 0.0548447\n",
      "[5]\tvalidation_set's binary_logloss: 0.0551817\n",
      "Early stopping, best iteration is:\n",
      "[1]\tvalidation_set's binary_logloss: 0.0524577\n"
     ]
    },
    {
     "name": "stderr",
     "output_type": "stream",
     "text": [
      "Found `num_iterations` in params. Will use it instead of argument\n",
      "categorical_feature in Dataset is overridden.\n",
      "New categorical_feature is ['age', 'anticipation', 'change_recent', 'country', 'defeat_recent', 'delayed', 'direct_recent', 'elected', 'election_now', 'election_recent', 'exec_ant', 'exec_recent', 'government', 'indirect_recent', 'irreg_lead_ant', 'lead_recent', 'leg_ant', 'leg_recent', 'male', 'militarycareer', 'month', 'nochange_recent', 'prev_conflict', 'pt_attempt', 'pt_suc', 'ref_ant', 'ref_recent', 'tenure_months', 'victory_recent', 'year']\n"
     ]
    },
    {
     "name": "stdout",
     "output_type": "stream",
     "text": [
      "[1]\tvalidation_set's binary_logloss: 0.0534086\n",
      "Training until validation scores don't improve for 4 rounds\n",
      "[2]\tvalidation_set's binary_logloss: 0.0539324\n",
      "[3]\tvalidation_set's binary_logloss: 0.0549048\n",
      "[4]\tvalidation_set's binary_logloss: 0.0550752\n",
      "[5]\tvalidation_set's binary_logloss: 0.0552854\n",
      "Early stopping, best iteration is:\n",
      "[1]\tvalidation_set's binary_logloss: 0.0534086\n"
     ]
    },
    {
     "name": "stderr",
     "output_type": "stream",
     "text": [
      "Found `num_iterations` in params. Will use it instead of argument\n",
      "categorical_feature in Dataset is overridden.\n",
      "New categorical_feature is ['age', 'anticipation', 'change_recent', 'country', 'defeat_recent', 'delayed', 'direct_recent', 'elected', 'election_now', 'election_recent', 'exec_ant', 'exec_recent', 'government', 'indirect_recent', 'irreg_lead_ant', 'lead_recent', 'leg_ant', 'leg_recent', 'male', 'militarycareer', 'month', 'nochange_recent', 'prev_conflict', 'pt_attempt', 'pt_suc', 'ref_ant', 'ref_recent', 'tenure_months', 'victory_recent', 'year']\n"
     ]
    },
    {
     "name": "stdout",
     "output_type": "stream",
     "text": [
      "[1]\tvalidation_set's binary_logloss: 0.0538028\n",
      "Training until validation scores don't improve for 4 rounds\n",
      "[2]\tvalidation_set's binary_logloss: 0.0550721\n",
      "[3]\tvalidation_set's binary_logloss: 0.0553085\n",
      "[4]\tvalidation_set's binary_logloss: 0.0556684\n",
      "[5]\tvalidation_set's binary_logloss: 0.0564954\n",
      "Early stopping, best iteration is:\n",
      "[1]\tvalidation_set's binary_logloss: 0.0538028\n"
     ]
    },
    {
     "name": "stderr",
     "output_type": "stream",
     "text": [
      "Found `num_iterations` in params. Will use it instead of argument\n",
      "categorical_feature in Dataset is overridden.\n",
      "New categorical_feature is ['age', 'anticipation', 'change_recent', 'country', 'defeat_recent', 'delayed', 'direct_recent', 'elected', 'election_now', 'election_recent', 'exec_ant', 'exec_recent', 'government', 'indirect_recent', 'irreg_lead_ant', 'lead_recent', 'leg_ant', 'leg_recent', 'male', 'militarycareer', 'month', 'nochange_recent', 'prev_conflict', 'pt_attempt', 'pt_suc', 'ref_ant', 'ref_recent', 'tenure_months', 'victory_recent', 'year']\n"
     ]
    },
    {
     "name": "stdout",
     "output_type": "stream",
     "text": [
      "[1]\tvalidation_set's binary_logloss: 0.0529326\n",
      "Training until validation scores don't improve for 4 rounds\n",
      "[2]\tvalidation_set's binary_logloss: 0.053362\n",
      "[3]\tvalidation_set's binary_logloss: 0.0538399\n",
      "[4]\tvalidation_set's binary_logloss: 0.0542581\n",
      "[5]\tvalidation_set's binary_logloss: 0.0548848\n",
      "Early stopping, best iteration is:\n",
      "[1]\tvalidation_set's binary_logloss: 0.0529326\n"
     ]
    },
    {
     "name": "stderr",
     "output_type": "stream",
     "text": [
      "Found `num_iterations` in params. Will use it instead of argument\n",
      "categorical_feature in Dataset is overridden.\n",
      "New categorical_feature is ['age', 'anticipation', 'change_recent', 'country', 'defeat_recent', 'delayed', 'direct_recent', 'elected', 'election_now', 'election_recent', 'exec_ant', 'exec_recent', 'government', 'indirect_recent', 'irreg_lead_ant', 'lead_recent', 'leg_ant', 'leg_recent', 'male', 'militarycareer', 'month', 'nochange_recent', 'prev_conflict', 'pt_attempt', 'pt_suc', 'ref_ant', 'ref_recent', 'tenure_months', 'victory_recent', 'year']\n"
     ]
    },
    {
     "name": "stdout",
     "output_type": "stream",
     "text": [
      "[1]\tvalidation_set's binary_logloss: 0.0537142\n",
      "Training until validation scores don't improve for 4 rounds\n",
      "[2]\tvalidation_set's binary_logloss: 0.0546147\n",
      "[3]\tvalidation_set's binary_logloss: 0.0553424\n",
      "[4]\tvalidation_set's binary_logloss: 0.0556606\n",
      "[5]\tvalidation_set's binary_logloss: 0.0560409\n",
      "Early stopping, best iteration is:\n",
      "[1]\tvalidation_set's binary_logloss: 0.0537142\n"
     ]
    },
    {
     "name": "stderr",
     "output_type": "stream",
     "text": [
      "Found `num_iterations` in params. Will use it instead of argument\n",
      "categorical_feature in Dataset is overridden.\n",
      "New categorical_feature is ['age', 'anticipation', 'change_recent', 'country', 'defeat_recent', 'delayed', 'direct_recent', 'elected', 'election_now', 'election_recent', 'exec_ant', 'exec_recent', 'government', 'indirect_recent', 'irreg_lead_ant', 'lead_recent', 'leg_ant', 'leg_recent', 'male', 'militarycareer', 'month', 'nochange_recent', 'prev_conflict', 'pt_attempt', 'pt_suc', 'ref_ant', 'ref_recent', 'tenure_months', 'victory_recent', 'year']\n"
     ]
    },
    {
     "name": "stdout",
     "output_type": "stream",
     "text": [
      "[1]\tvalidation_set's binary_logloss: 0.0530999\n",
      "Training until validation scores don't improve for 4 rounds\n",
      "[2]\tvalidation_set's binary_logloss: 0.0531365\n",
      "[3]\tvalidation_set's binary_logloss: 0.0538039\n",
      "[4]\tvalidation_set's binary_logloss: 0.0543101\n",
      "[5]\tvalidation_set's binary_logloss: 0.0545661\n",
      "Early stopping, best iteration is:\n",
      "[1]\tvalidation_set's binary_logloss: 0.0530999\n"
     ]
    },
    {
     "name": "stderr",
     "output_type": "stream",
     "text": [
      "Found `num_iterations` in params. Will use it instead of argument\n",
      "categorical_feature in Dataset is overridden.\n",
      "New categorical_feature is ['age', 'anticipation', 'change_recent', 'country', 'defeat_recent', 'delayed', 'direct_recent', 'elected', 'election_now', 'election_recent', 'exec_ant', 'exec_recent', 'government', 'indirect_recent', 'irreg_lead_ant', 'lead_recent', 'leg_ant', 'leg_recent', 'male', 'militarycareer', 'month', 'nochange_recent', 'prev_conflict', 'pt_attempt', 'pt_suc', 'ref_ant', 'ref_recent', 'tenure_months', 'victory_recent', 'year']\n"
     ]
    },
    {
     "name": "stdout",
     "output_type": "stream",
     "text": [
      "[1]\tvalidation_set's binary_logloss: 0.0523595\n",
      "Training until validation scores don't improve for 4 rounds\n",
      "[2]\tvalidation_set's binary_logloss: 0.0531683\n",
      "[3]\tvalidation_set's binary_logloss: 0.0540887\n",
      "[4]\tvalidation_set's binary_logloss: 0.0549204\n",
      "[5]\tvalidation_set's binary_logloss: 0.0551106\n",
      "Early stopping, best iteration is:\n",
      "[1]\tvalidation_set's binary_logloss: 0.0523595\n"
     ]
    },
    {
     "name": "stderr",
     "output_type": "stream",
     "text": [
      "Found `num_iterations` in params. Will use it instead of argument\n",
      "categorical_feature in Dataset is overridden.\n",
      "New categorical_feature is ['age', 'anticipation', 'change_recent', 'country', 'defeat_recent', 'delayed', 'direct_recent', 'elected', 'election_now', 'election_recent', 'exec_ant', 'exec_recent', 'government', 'indirect_recent', 'irreg_lead_ant', 'lead_recent', 'leg_ant', 'leg_recent', 'male', 'militarycareer', 'month', 'nochange_recent', 'prev_conflict', 'pt_attempt', 'pt_suc', 'ref_ant', 'ref_recent', 'tenure_months', 'victory_recent', 'year']\n"
     ]
    },
    {
     "name": "stdout",
     "output_type": "stream",
     "text": [
      "[1]\tvalidation_set's binary_logloss: 0.0516974\n",
      "Training until validation scores don't improve for 4 rounds\n",
      "[2]\tvalidation_set's binary_logloss: 0.0536704\n",
      "[3]\tvalidation_set's binary_logloss: 0.0542816\n",
      "[4]\tvalidation_set's binary_logloss: 0.0549976\n",
      "[5]\tvalidation_set's binary_logloss: 0.0551634\n",
      "Early stopping, best iteration is:\n",
      "[1]\tvalidation_set's binary_logloss: 0.0516974\n"
     ]
    },
    {
     "name": "stderr",
     "output_type": "stream",
     "text": [
      "Found `num_iterations` in params. Will use it instead of argument\n",
      "categorical_feature in Dataset is overridden.\n",
      "New categorical_feature is ['age', 'anticipation', 'change_recent', 'country', 'defeat_recent', 'delayed', 'direct_recent', 'elected', 'election_now', 'election_recent', 'exec_ant', 'exec_recent', 'government', 'indirect_recent', 'irreg_lead_ant', 'lead_recent', 'leg_ant', 'leg_recent', 'male', 'militarycareer', 'month', 'nochange_recent', 'prev_conflict', 'pt_attempt', 'pt_suc', 'ref_ant', 'ref_recent', 'tenure_months', 'victory_recent', 'year']\n"
     ]
    },
    {
     "name": "stdout",
     "output_type": "stream",
     "text": [
      "[1]\tvalidation_set's binary_logloss: 0.0519139\n",
      "Training until validation scores don't improve for 4 rounds\n",
      "[2]\tvalidation_set's binary_logloss: 0.0526597\n",
      "[3]\tvalidation_set's binary_logloss: 0.0538683\n",
      "[4]\tvalidation_set's binary_logloss: 0.0548698\n",
      "[5]\tvalidation_set's binary_logloss: 0.0553734\n",
      "Early stopping, best iteration is:\n",
      "[1]\tvalidation_set's binary_logloss: 0.0519139\n"
     ]
    },
    {
     "name": "stderr",
     "output_type": "stream",
     "text": [
      "Found `num_iterations` in params. Will use it instead of argument\n",
      "categorical_feature in Dataset is overridden.\n",
      "New categorical_feature is ['age', 'anticipation', 'change_recent', 'country', 'defeat_recent', 'delayed', 'direct_recent', 'elected', 'election_now', 'election_recent', 'exec_ant', 'exec_recent', 'government', 'indirect_recent', 'irreg_lead_ant', 'lead_recent', 'leg_ant', 'leg_recent', 'male', 'militarycareer', 'month', 'nochange_recent', 'prev_conflict', 'pt_attempt', 'pt_suc', 'ref_ant', 'ref_recent', 'tenure_months', 'victory_recent', 'year']\n"
     ]
    },
    {
     "name": "stdout",
     "output_type": "stream",
     "text": [
      "[1]\tvalidation_set's binary_logloss: 0.051246\n",
      "Training until validation scores don't improve for 4 rounds\n",
      "[2]\tvalidation_set's binary_logloss: 0.0525206\n",
      "[3]\tvalidation_set's binary_logloss: 0.0537358\n",
      "[4]\tvalidation_set's binary_logloss: 0.0543877\n",
      "[5]\tvalidation_set's binary_logloss: 0.0550117\n",
      "Early stopping, best iteration is:\n",
      "[1]\tvalidation_set's binary_logloss: 0.051246\n"
     ]
    },
    {
     "name": "stderr",
     "output_type": "stream",
     "text": [
      "Found `num_iterations` in params. Will use it instead of argument\n",
      "categorical_feature in Dataset is overridden.\n",
      "New categorical_feature is ['age', 'anticipation', 'change_recent', 'country', 'defeat_recent', 'delayed', 'direct_recent', 'elected', 'election_now', 'election_recent', 'exec_ant', 'exec_recent', 'government', 'indirect_recent', 'irreg_lead_ant', 'lead_recent', 'leg_ant', 'leg_recent', 'male', 'militarycareer', 'month', 'nochange_recent', 'prev_conflict', 'pt_attempt', 'pt_suc', 'ref_ant', 'ref_recent', 'tenure_months', 'victory_recent', 'year']\n"
     ]
    },
    {
     "name": "stdout",
     "output_type": "stream",
     "text": [
      "[1]\tvalidation_set's binary_logloss: 0.0513369\n",
      "Training until validation scores don't improve for 4 rounds\n",
      "[2]\tvalidation_set's binary_logloss: 0.0517182\n",
      "[3]\tvalidation_set's binary_logloss: 0.0526008\n",
      "[4]\tvalidation_set's binary_logloss: 0.0529306\n",
      "[5]\tvalidation_set's binary_logloss: 0.0530233\n",
      "Early stopping, best iteration is:\n",
      "[1]\tvalidation_set's binary_logloss: 0.0513369\n"
     ]
    },
    {
     "name": "stderr",
     "output_type": "stream",
     "text": [
      "Found `num_iterations` in params. Will use it instead of argument\n",
      "categorical_feature in Dataset is overridden.\n",
      "New categorical_feature is ['age', 'anticipation', 'change_recent', 'country', 'defeat_recent', 'delayed', 'direct_recent', 'elected', 'election_now', 'election_recent', 'exec_ant', 'exec_recent', 'government', 'indirect_recent', 'irreg_lead_ant', 'lead_recent', 'leg_ant', 'leg_recent', 'male', 'militarycareer', 'month', 'nochange_recent', 'prev_conflict', 'pt_attempt', 'pt_suc', 'ref_ant', 'ref_recent', 'tenure_months', 'victory_recent', 'year']\n"
     ]
    },
    {
     "name": "stdout",
     "output_type": "stream",
     "text": [
      "[1]\tvalidation_set's binary_logloss: 0.0515488\n",
      "Training until validation scores don't improve for 4 rounds\n",
      "[2]\tvalidation_set's binary_logloss: 0.0525363\n",
      "[3]\tvalidation_set's binary_logloss: 0.0536337\n",
      "[4]\tvalidation_set's binary_logloss: 0.0545543\n",
      "[5]\tvalidation_set's binary_logloss: 0.0552641\n",
      "Early stopping, best iteration is:\n",
      "[1]\tvalidation_set's binary_logloss: 0.0515488\n"
     ]
    },
    {
     "name": "stderr",
     "output_type": "stream",
     "text": [
      "Found `num_iterations` in params. Will use it instead of argument\n",
      "categorical_feature in Dataset is overridden.\n",
      "New categorical_feature is ['age', 'anticipation', 'change_recent', 'country', 'defeat_recent', 'delayed', 'direct_recent', 'elected', 'election_now', 'election_recent', 'exec_ant', 'exec_recent', 'government', 'indirect_recent', 'irreg_lead_ant', 'lead_recent', 'leg_ant', 'leg_recent', 'male', 'militarycareer', 'month', 'nochange_recent', 'prev_conflict', 'pt_attempt', 'pt_suc', 'ref_ant', 'ref_recent', 'tenure_months', 'victory_recent', 'year']\n"
     ]
    },
    {
     "name": "stdout",
     "output_type": "stream",
     "text": [
      "[1]\tvalidation_set's binary_logloss: 0.0500668\n",
      "Training until validation scores don't improve for 4 rounds\n",
      "[2]\tvalidation_set's binary_logloss: 0.0513647\n",
      "[3]\tvalidation_set's binary_logloss: 0.052374\n",
      "[4]\tvalidation_set's binary_logloss: 0.0525625\n",
      "[5]\tvalidation_set's binary_logloss: 0.0532254\n",
      "Early stopping, best iteration is:\n",
      "[1]\tvalidation_set's binary_logloss: 0.0500668\n"
     ]
    },
    {
     "name": "stderr",
     "output_type": "stream",
     "text": [
      "Found `num_iterations` in params. Will use it instead of argument\n",
      "categorical_feature in Dataset is overridden.\n",
      "New categorical_feature is ['age', 'anticipation', 'change_recent', 'country', 'defeat_recent', 'delayed', 'direct_recent', 'elected', 'election_now', 'election_recent', 'exec_ant', 'exec_recent', 'government', 'indirect_recent', 'irreg_lead_ant', 'lead_recent', 'leg_ant', 'leg_recent', 'male', 'militarycareer', 'month', 'nochange_recent', 'prev_conflict', 'pt_attempt', 'pt_suc', 'ref_ant', 'ref_recent', 'tenure_months', 'victory_recent', 'year']\n"
     ]
    },
    {
     "name": "stdout",
     "output_type": "stream",
     "text": [
      "[1]\tvalidation_set's binary_logloss: 0.0494663\n",
      "Training until validation scores don't improve for 4 rounds\n",
      "[2]\tvalidation_set's binary_logloss: 0.0499539\n",
      "[3]\tvalidation_set's binary_logloss: 0.0508161\n",
      "[4]\tvalidation_set's binary_logloss: 0.0518518\n",
      "[5]\tvalidation_set's binary_logloss: 0.0527003\n",
      "Early stopping, best iteration is:\n",
      "[1]\tvalidation_set's binary_logloss: 0.0494663\n"
     ]
    },
    {
     "name": "stderr",
     "output_type": "stream",
     "text": [
      "Found `num_iterations` in params. Will use it instead of argument\n",
      "categorical_feature in Dataset is overridden.\n",
      "New categorical_feature is ['age', 'anticipation', 'change_recent', 'country', 'defeat_recent', 'delayed', 'direct_recent', 'elected', 'election_now', 'election_recent', 'exec_ant', 'exec_recent', 'government', 'indirect_recent', 'irreg_lead_ant', 'lead_recent', 'leg_ant', 'leg_recent', 'male', 'militarycareer', 'month', 'nochange_recent', 'prev_conflict', 'pt_attempt', 'pt_suc', 'ref_ant', 'ref_recent', 'tenure_months', 'victory_recent', 'year']\n"
     ]
    },
    {
     "name": "stdout",
     "output_type": "stream",
     "text": [
      "[1]\tvalidation_set's binary_logloss: 0.0503329\n",
      "Training until validation scores don't improve for 4 rounds\n",
      "[2]\tvalidation_set's binary_logloss: 0.0518781\n",
      "[3]\tvalidation_set's binary_logloss: 0.0526915\n",
      "[4]\tvalidation_set's binary_logloss: 0.052963\n",
      "[5]\tvalidation_set's binary_logloss: 0.0534615\n",
      "Early stopping, best iteration is:\n",
      "[1]\tvalidation_set's binary_logloss: 0.0503329\n"
     ]
    },
    {
     "name": "stderr",
     "output_type": "stream",
     "text": [
      "Found `num_iterations` in params. Will use it instead of argument\n",
      "categorical_feature in Dataset is overridden.\n",
      "New categorical_feature is ['age', 'anticipation', 'change_recent', 'country', 'defeat_recent', 'delayed', 'direct_recent', 'elected', 'election_now', 'election_recent', 'exec_ant', 'exec_recent', 'government', 'indirect_recent', 'irreg_lead_ant', 'lead_recent', 'leg_ant', 'leg_recent', 'male', 'militarycareer', 'month', 'nochange_recent', 'prev_conflict', 'pt_attempt', 'pt_suc', 'ref_ant', 'ref_recent', 'tenure_months', 'victory_recent', 'year']\n"
     ]
    },
    {
     "name": "stdout",
     "output_type": "stream",
     "text": [
      "[1]\tvalidation_set's binary_logloss: 0.0499496\n",
      "Training until validation scores don't improve for 4 rounds\n",
      "[2]\tvalidation_set's binary_logloss: 0.0510748\n",
      "[3]\tvalidation_set's binary_logloss: 0.0518794\n",
      "[4]\tvalidation_set's binary_logloss: 0.0531074\n",
      "[5]\tvalidation_set's binary_logloss: 0.0547229\n",
      "Early stopping, best iteration is:\n",
      "[1]\tvalidation_set's binary_logloss: 0.0499496\n"
     ]
    },
    {
     "name": "stderr",
     "output_type": "stream",
     "text": [
      "Found `num_iterations` in params. Will use it instead of argument\n",
      "categorical_feature in Dataset is overridden.\n",
      "New categorical_feature is ['age', 'anticipation', 'change_recent', 'country', 'defeat_recent', 'delayed', 'direct_recent', 'elected', 'election_now', 'election_recent', 'exec_ant', 'exec_recent', 'government', 'indirect_recent', 'irreg_lead_ant', 'lead_recent', 'leg_ant', 'leg_recent', 'male', 'militarycareer', 'month', 'nochange_recent', 'prev_conflict', 'pt_attempt', 'pt_suc', 'ref_ant', 'ref_recent', 'tenure_months', 'victory_recent', 'year']\n"
     ]
    },
    {
     "name": "stdout",
     "output_type": "stream",
     "text": [
      "[1]\tvalidation_set's binary_logloss: 0.0482848\n",
      "Training until validation scores don't improve for 4 rounds\n",
      "[2]\tvalidation_set's binary_logloss: 0.0492297\n",
      "[3]\tvalidation_set's binary_logloss: 0.050043\n",
      "[4]\tvalidation_set's binary_logloss: 0.0515716\n",
      "[5]\tvalidation_set's binary_logloss: 0.0517403\n",
      "Early stopping, best iteration is:\n",
      "[1]\tvalidation_set's binary_logloss: 0.0482848\n"
     ]
    },
    {
     "name": "stderr",
     "output_type": "stream",
     "text": [
      "Found `num_iterations` in params. Will use it instead of argument\n",
      "categorical_feature in Dataset is overridden.\n",
      "New categorical_feature is ['age', 'anticipation', 'change_recent', 'country', 'defeat_recent', 'delayed', 'direct_recent', 'elected', 'election_now', 'election_recent', 'exec_ant', 'exec_recent', 'government', 'indirect_recent', 'irreg_lead_ant', 'lead_recent', 'leg_ant', 'leg_recent', 'male', 'militarycareer', 'month', 'nochange_recent', 'prev_conflict', 'pt_attempt', 'pt_suc', 'ref_ant', 'ref_recent', 'tenure_months', 'victory_recent', 'year']\n"
     ]
    },
    {
     "name": "stdout",
     "output_type": "stream",
     "text": [
      "[1]\tvalidation_set's binary_logloss: 0.0501384\n",
      "Training until validation scores don't improve for 4 rounds\n",
      "[2]\tvalidation_set's binary_logloss: 0.0507659\n",
      "[3]\tvalidation_set's binary_logloss: 0.051373\n",
      "[4]\tvalidation_set's binary_logloss: 0.0519014\n",
      "[5]\tvalidation_set's binary_logloss: 0.0526904\n",
      "Early stopping, best iteration is:\n",
      "[1]\tvalidation_set's binary_logloss: 0.0501384\n"
     ]
    },
    {
     "name": "stderr",
     "output_type": "stream",
     "text": [
      "Found `num_iterations` in params. Will use it instead of argument\n",
      "categorical_feature in Dataset is overridden.\n",
      "New categorical_feature is ['age', 'anticipation', 'change_recent', 'country', 'defeat_recent', 'delayed', 'direct_recent', 'elected', 'election_now', 'election_recent', 'exec_ant', 'exec_recent', 'government', 'indirect_recent', 'irreg_lead_ant', 'lead_recent', 'leg_ant', 'leg_recent', 'male', 'militarycareer', 'month', 'nochange_recent', 'prev_conflict', 'pt_attempt', 'pt_suc', 'ref_ant', 'ref_recent', 'tenure_months', 'victory_recent', 'year']\n"
     ]
    },
    {
     "name": "stdout",
     "output_type": "stream",
     "text": [
      "[1]\tvalidation_set's binary_logloss: 0.0489196\n",
      "Training until validation scores don't improve for 4 rounds\n",
      "[2]\tvalidation_set's binary_logloss: 0.0498584\n",
      "[3]\tvalidation_set's binary_logloss: 0.0505091\n",
      "[4]\tvalidation_set's binary_logloss: 0.0509994\n",
      "[5]\tvalidation_set's binary_logloss: 0.0514549\n",
      "Early stopping, best iteration is:\n",
      "[1]\tvalidation_set's binary_logloss: 0.0489196\n"
     ]
    },
    {
     "name": "stderr",
     "output_type": "stream",
     "text": [
      "Found `num_iterations` in params. Will use it instead of argument\n",
      "categorical_feature in Dataset is overridden.\n",
      "New categorical_feature is ['age', 'anticipation', 'change_recent', 'country', 'defeat_recent', 'delayed', 'direct_recent', 'elected', 'election_now', 'election_recent', 'exec_ant', 'exec_recent', 'government', 'indirect_recent', 'irreg_lead_ant', 'lead_recent', 'leg_ant', 'leg_recent', 'male', 'militarycareer', 'month', 'nochange_recent', 'prev_conflict', 'pt_attempt', 'pt_suc', 'ref_ant', 'ref_recent', 'tenure_months', 'victory_recent', 'year']\n"
     ]
    },
    {
     "name": "stdout",
     "output_type": "stream",
     "text": [
      "[1]\tvalidation_set's binary_logloss: 0.0488544\n",
      "Training until validation scores don't improve for 4 rounds\n",
      "[2]\tvalidation_set's binary_logloss: 0.0500218\n",
      "[3]\tvalidation_set's binary_logloss: 0.0509488\n",
      "[4]\tvalidation_set's binary_logloss: 0.0527015\n",
      "[5]\tvalidation_set's binary_logloss: 0.0546912\n",
      "Early stopping, best iteration is:\n",
      "[1]\tvalidation_set's binary_logloss: 0.0488544\n"
     ]
    },
    {
     "name": "stderr",
     "output_type": "stream",
     "text": [
      "Found `num_iterations` in params. Will use it instead of argument\n",
      "categorical_feature in Dataset is overridden.\n",
      "New categorical_feature is ['age', 'anticipation', 'change_recent', 'country', 'defeat_recent', 'delayed', 'direct_recent', 'elected', 'election_now', 'election_recent', 'exec_ant', 'exec_recent', 'government', 'indirect_recent', 'irreg_lead_ant', 'lead_recent', 'leg_ant', 'leg_recent', 'male', 'militarycareer', 'month', 'nochange_recent', 'prev_conflict', 'pt_attempt', 'pt_suc', 'ref_ant', 'ref_recent', 'tenure_months', 'victory_recent', 'year']\n"
     ]
    },
    {
     "name": "stdout",
     "output_type": "stream",
     "text": [
      "[1]\tvalidation_set's binary_logloss: 0.049387\n",
      "Training until validation scores don't improve for 4 rounds\n",
      "[2]\tvalidation_set's binary_logloss: 0.050109\n",
      "[3]\tvalidation_set's binary_logloss: 0.0506854\n",
      "[4]\tvalidation_set's binary_logloss: 0.0516644\n",
      "[5]\tvalidation_set's binary_logloss: 0.0523873\n",
      "Early stopping, best iteration is:\n",
      "[1]\tvalidation_set's binary_logloss: 0.049387\n"
     ]
    },
    {
     "name": "stderr",
     "output_type": "stream",
     "text": [
      "Found `num_iterations` in params. Will use it instead of argument\n",
      "categorical_feature in Dataset is overridden.\n",
      "New categorical_feature is ['age', 'anticipation', 'change_recent', 'country', 'defeat_recent', 'delayed', 'direct_recent', 'elected', 'election_now', 'election_recent', 'exec_ant', 'exec_recent', 'government', 'indirect_recent', 'irreg_lead_ant', 'lead_recent', 'leg_ant', 'leg_recent', 'male', 'militarycareer', 'month', 'nochange_recent', 'prev_conflict', 'pt_attempt', 'pt_suc', 'ref_ant', 'ref_recent', 'tenure_months', 'victory_recent', 'year']\n"
     ]
    },
    {
     "name": "stdout",
     "output_type": "stream",
     "text": [
      "[1]\tvalidation_set's binary_logloss: 0.048346\n",
      "Training until validation scores don't improve for 4 rounds\n",
      "[2]\tvalidation_set's binary_logloss: 0.0493017\n",
      "[3]\tvalidation_set's binary_logloss: 0.0502167\n",
      "[4]\tvalidation_set's binary_logloss: 0.0505185\n",
      "[5]\tvalidation_set's binary_logloss: 0.0506015\n",
      "Early stopping, best iteration is:\n",
      "[1]\tvalidation_set's binary_logloss: 0.048346\n"
     ]
    },
    {
     "name": "stderr",
     "output_type": "stream",
     "text": [
      "Found `num_iterations` in params. Will use it instead of argument\n",
      "categorical_feature in Dataset is overridden.\n",
      "New categorical_feature is ['age', 'anticipation', 'change_recent', 'country', 'defeat_recent', 'delayed', 'direct_recent', 'elected', 'election_now', 'election_recent', 'exec_ant', 'exec_recent', 'government', 'indirect_recent', 'irreg_lead_ant', 'lead_recent', 'leg_ant', 'leg_recent', 'male', 'militarycareer', 'month', 'nochange_recent', 'prev_conflict', 'pt_attempt', 'pt_suc', 'ref_ant', 'ref_recent', 'tenure_months', 'victory_recent', 'year']\n"
     ]
    },
    {
     "name": "stdout",
     "output_type": "stream",
     "text": [
      "[1]\tvalidation_set's binary_logloss: 0.0481963\n",
      "Training until validation scores don't improve for 4 rounds\n",
      "[2]\tvalidation_set's binary_logloss: 0.0493339\n",
      "[3]\tvalidation_set's binary_logloss: 0.0503085\n",
      "[4]\tvalidation_set's binary_logloss: 0.0508996\n",
      "[5]\tvalidation_set's binary_logloss: 0.0515481\n",
      "Early stopping, best iteration is:\n",
      "[1]\tvalidation_set's binary_logloss: 0.0481963\n"
     ]
    },
    {
     "name": "stderr",
     "output_type": "stream",
     "text": [
      "Found `num_iterations` in params. Will use it instead of argument\n",
      "categorical_feature in Dataset is overridden.\n",
      "New categorical_feature is ['age', 'anticipation', 'change_recent', 'country', 'defeat_recent', 'delayed', 'direct_recent', 'elected', 'election_now', 'election_recent', 'exec_ant', 'exec_recent', 'government', 'indirect_recent', 'irreg_lead_ant', 'lead_recent', 'leg_ant', 'leg_recent', 'male', 'militarycareer', 'month', 'nochange_recent', 'prev_conflict', 'pt_attempt', 'pt_suc', 'ref_ant', 'ref_recent', 'tenure_months', 'victory_recent', 'year']\n"
     ]
    },
    {
     "name": "stdout",
     "output_type": "stream",
     "text": [
      "[1]\tvalidation_set's binary_logloss: 0.0494178\n",
      "Training until validation scores don't improve for 4 rounds\n",
      "[2]\tvalidation_set's binary_logloss: 0.0516762\n",
      "[3]\tvalidation_set's binary_logloss: 0.0522239\n",
      "[4]\tvalidation_set's binary_logloss: 0.0526883\n",
      "[5]\tvalidation_set's binary_logloss: 0.053103\n",
      "Early stopping, best iteration is:\n",
      "[1]\tvalidation_set's binary_logloss: 0.0494178\n"
     ]
    },
    {
     "name": "stderr",
     "output_type": "stream",
     "text": [
      "Found `num_iterations` in params. Will use it instead of argument\n",
      "categorical_feature in Dataset is overridden.\n",
      "New categorical_feature is ['age', 'anticipation', 'change_recent', 'country', 'defeat_recent', 'delayed', 'direct_recent', 'elected', 'election_now', 'election_recent', 'exec_ant', 'exec_recent', 'government', 'indirect_recent', 'irreg_lead_ant', 'lead_recent', 'leg_ant', 'leg_recent', 'male', 'militarycareer', 'month', 'nochange_recent', 'prev_conflict', 'pt_attempt', 'pt_suc', 'ref_ant', 'ref_recent', 'tenure_months', 'victory_recent', 'year']\n"
     ]
    },
    {
     "name": "stdout",
     "output_type": "stream",
     "text": [
      "[1]\tvalidation_set's binary_logloss: 0.0502236\n",
      "Training until validation scores don't improve for 4 rounds\n",
      "[2]\tvalidation_set's binary_logloss: 0.0509654\n",
      "[3]\tvalidation_set's binary_logloss: 0.0517649\n",
      "[4]\tvalidation_set's binary_logloss: 0.0522915\n",
      "[5]\tvalidation_set's binary_logloss: 0.0527422\n",
      "Early stopping, best iteration is:\n",
      "[1]\tvalidation_set's binary_logloss: 0.0502236\n"
     ]
    },
    {
     "name": "stderr",
     "output_type": "stream",
     "text": [
      "Found `num_iterations` in params. Will use it instead of argument\n",
      "categorical_feature in Dataset is overridden.\n",
      "New categorical_feature is ['age', 'anticipation', 'change_recent', 'country', 'defeat_recent', 'delayed', 'direct_recent', 'elected', 'election_now', 'election_recent', 'exec_ant', 'exec_recent', 'government', 'indirect_recent', 'irreg_lead_ant', 'lead_recent', 'leg_ant', 'leg_recent', 'male', 'militarycareer', 'month', 'nochange_recent', 'prev_conflict', 'pt_attempt', 'pt_suc', 'ref_ant', 'ref_recent', 'tenure_months', 'victory_recent', 'year']\n"
     ]
    },
    {
     "name": "stdout",
     "output_type": "stream",
     "text": [
      "[1]\tvalidation_set's binary_logloss: 0.0490445\n",
      "Training until validation scores don't improve for 4 rounds\n",
      "[2]\tvalidation_set's binary_logloss: 0.0495786\n",
      "[3]\tvalidation_set's binary_logloss: 0.0504729\n",
      "[4]\tvalidation_set's binary_logloss: 0.051085\n",
      "[5]\tvalidation_set's binary_logloss: 0.0516492\n",
      "Early stopping, best iteration is:\n",
      "[1]\tvalidation_set's binary_logloss: 0.0490445\n"
     ]
    },
    {
     "name": "stderr",
     "output_type": "stream",
     "text": [
      "Found `num_iterations` in params. Will use it instead of argument\n",
      "categorical_feature in Dataset is overridden.\n",
      "New categorical_feature is ['age', 'anticipation', 'change_recent', 'country', 'defeat_recent', 'delayed', 'direct_recent', 'elected', 'election_now', 'election_recent', 'exec_ant', 'exec_recent', 'government', 'indirect_recent', 'irreg_lead_ant', 'lead_recent', 'leg_ant', 'leg_recent', 'male', 'militarycareer', 'month', 'nochange_recent', 'prev_conflict', 'pt_attempt', 'pt_suc', 'ref_ant', 'ref_recent', 'tenure_months', 'victory_recent', 'year']\n"
     ]
    },
    {
     "name": "stdout",
     "output_type": "stream",
     "text": [
      "[1]\tvalidation_set's binary_logloss: 0.0503058\n",
      "Training until validation scores don't improve for 4 rounds\n",
      "[2]\tvalidation_set's binary_logloss: 0.0517502\n",
      "[3]\tvalidation_set's binary_logloss: 0.0528556\n",
      "[4]\tvalidation_set's binary_logloss: 0.0535438\n",
      "[5]\tvalidation_set's binary_logloss: 0.0541332\n",
      "Early stopping, best iteration is:\n",
      "[1]\tvalidation_set's binary_logloss: 0.0503058\n"
     ]
    },
    {
     "name": "stderr",
     "output_type": "stream",
     "text": [
      "Found `num_iterations` in params. Will use it instead of argument\n",
      "categorical_feature in Dataset is overridden.\n",
      "New categorical_feature is ['age', 'anticipation', 'change_recent', 'country', 'defeat_recent', 'delayed', 'direct_recent', 'elected', 'election_now', 'election_recent', 'exec_ant', 'exec_recent', 'government', 'indirect_recent', 'irreg_lead_ant', 'lead_recent', 'leg_ant', 'leg_recent', 'male', 'militarycareer', 'month', 'nochange_recent', 'prev_conflict', 'pt_attempt', 'pt_suc', 'ref_ant', 'ref_recent', 'tenure_months', 'victory_recent', 'year']\n"
     ]
    },
    {
     "name": "stdout",
     "output_type": "stream",
     "text": [
      "[1]\tvalidation_set's binary_logloss: 0.0480167\n",
      "Training until validation scores don't improve for 4 rounds\n",
      "[2]\tvalidation_set's binary_logloss: 0.0492094\n",
      "[3]\tvalidation_set's binary_logloss: 0.0498072\n",
      "[4]\tvalidation_set's binary_logloss: 0.05156\n",
      "[5]\tvalidation_set's binary_logloss: 0.0518847\n",
      "Early stopping, best iteration is:\n",
      "[1]\tvalidation_set's binary_logloss: 0.0480167\n"
     ]
    },
    {
     "name": "stderr",
     "output_type": "stream",
     "text": [
      "Found `num_iterations` in params. Will use it instead of argument\n",
      "categorical_feature in Dataset is overridden.\n",
      "New categorical_feature is ['age', 'anticipation', 'change_recent', 'country', 'defeat_recent', 'delayed', 'direct_recent', 'elected', 'election_now', 'election_recent', 'exec_ant', 'exec_recent', 'government', 'indirect_recent', 'irreg_lead_ant', 'lead_recent', 'leg_ant', 'leg_recent', 'male', 'militarycareer', 'month', 'nochange_recent', 'prev_conflict', 'pt_attempt', 'pt_suc', 'ref_ant', 'ref_recent', 'tenure_months', 'victory_recent', 'year']\n"
     ]
    },
    {
     "name": "stdout",
     "output_type": "stream",
     "text": [
      "[1]\tvalidation_set's binary_logloss: 0.0477037\n",
      "Training until validation scores don't improve for 4 rounds\n",
      "[2]\tvalidation_set's binary_logloss: 0.0494285\n",
      "[3]\tvalidation_set's binary_logloss: 0.0502373\n",
      "[4]\tvalidation_set's binary_logloss: 0.050743\n",
      "[5]\tvalidation_set's binary_logloss: 0.0512015\n",
      "Early stopping, best iteration is:\n",
      "[1]\tvalidation_set's binary_logloss: 0.0477037\n"
     ]
    },
    {
     "name": "stderr",
     "output_type": "stream",
     "text": [
      "Found `num_iterations` in params. Will use it instead of argument\n",
      "categorical_feature in Dataset is overridden.\n",
      "New categorical_feature is ['age', 'anticipation', 'change_recent', 'country', 'defeat_recent', 'delayed', 'direct_recent', 'elected', 'election_now', 'election_recent', 'exec_ant', 'exec_recent', 'government', 'indirect_recent', 'irreg_lead_ant', 'lead_recent', 'leg_ant', 'leg_recent', 'male', 'militarycareer', 'month', 'nochange_recent', 'prev_conflict', 'pt_attempt', 'pt_suc', 'ref_ant', 'ref_recent', 'tenure_months', 'victory_recent', 'year']\n"
     ]
    },
    {
     "name": "stdout",
     "output_type": "stream",
     "text": [
      "[1]\tvalidation_set's binary_logloss: 0.0490195\n",
      "Training until validation scores don't improve for 4 rounds\n",
      "[2]\tvalidation_set's binary_logloss: 0.0496213\n",
      "[3]\tvalidation_set's binary_logloss: 0.0507795\n",
      "[4]\tvalidation_set's binary_logloss: 0.0512321\n",
      "[5]\tvalidation_set's binary_logloss: 0.0516837\n",
      "Early stopping, best iteration is:\n",
      "[1]\tvalidation_set's binary_logloss: 0.0490195\n"
     ]
    },
    {
     "name": "stderr",
     "output_type": "stream",
     "text": [
      "Found `num_iterations` in params. Will use it instead of argument\n",
      "categorical_feature in Dataset is overridden.\n",
      "New categorical_feature is ['age', 'anticipation', 'change_recent', 'country', 'defeat_recent', 'delayed', 'direct_recent', 'elected', 'election_now', 'election_recent', 'exec_ant', 'exec_recent', 'government', 'indirect_recent', 'irreg_lead_ant', 'lead_recent', 'leg_ant', 'leg_recent', 'male', 'militarycareer', 'month', 'nochange_recent', 'prev_conflict', 'pt_attempt', 'pt_suc', 'ref_ant', 'ref_recent', 'tenure_months', 'victory_recent', 'year']\n"
     ]
    },
    {
     "name": "stdout",
     "output_type": "stream",
     "text": [
      "[1]\tvalidation_set's binary_logloss: 0.0521561\n",
      "Training until validation scores don't improve for 4 rounds\n",
      "[2]\tvalidation_set's binary_logloss: 0.0540461\n",
      "[3]\tvalidation_set's binary_logloss: 0.0547362\n",
      "[4]\tvalidation_set's binary_logloss: 0.055119\n",
      "[5]\tvalidation_set's binary_logloss: 0.0551152\n",
      "Early stopping, best iteration is:\n",
      "[1]\tvalidation_set's binary_logloss: 0.0521561\n"
     ]
    },
    {
     "name": "stderr",
     "output_type": "stream",
     "text": [
      "Found `num_iterations` in params. Will use it instead of argument\n",
      "categorical_feature in Dataset is overridden.\n",
      "New categorical_feature is ['age', 'anticipation', 'change_recent', 'country', 'defeat_recent', 'delayed', 'direct_recent', 'elected', 'election_now', 'election_recent', 'exec_ant', 'exec_recent', 'government', 'indirect_recent', 'irreg_lead_ant', 'lead_recent', 'leg_ant', 'leg_recent', 'male', 'militarycareer', 'month', 'nochange_recent', 'prev_conflict', 'pt_attempt', 'pt_suc', 'ref_ant', 'ref_recent', 'tenure_months', 'victory_recent', 'year']\n"
     ]
    },
    {
     "name": "stdout",
     "output_type": "stream",
     "text": [
      "[1]\tvalidation_set's binary_logloss: 0.0494743\n",
      "Training until validation scores don't improve for 4 rounds\n",
      "[2]\tvalidation_set's binary_logloss: 0.0523027\n",
      "[3]\tvalidation_set's binary_logloss: 0.0554814\n",
      "[4]\tvalidation_set's binary_logloss: 0.0561536\n",
      "[5]\tvalidation_set's binary_logloss: 0.0564378\n",
      "Early stopping, best iteration is:\n",
      "[1]\tvalidation_set's binary_logloss: 0.0494743\n"
     ]
    },
    {
     "name": "stderr",
     "output_type": "stream",
     "text": [
      "Found `num_iterations` in params. Will use it instead of argument\n",
      "categorical_feature in Dataset is overridden.\n",
      "New categorical_feature is ['age', 'anticipation', 'change_recent', 'country', 'defeat_recent', 'delayed', 'direct_recent', 'elected', 'election_now', 'election_recent', 'exec_ant', 'exec_recent', 'government', 'indirect_recent', 'irreg_lead_ant', 'lead_recent', 'leg_ant', 'leg_recent', 'male', 'militarycareer', 'month', 'nochange_recent', 'prev_conflict', 'pt_attempt', 'pt_suc', 'ref_ant', 'ref_recent', 'tenure_months', 'victory_recent', 'year']\n"
     ]
    },
    {
     "name": "stdout",
     "output_type": "stream",
     "text": [
      "[1]\tvalidation_set's binary_logloss: 0.0499958\n",
      "Training until validation scores don't improve for 4 rounds\n",
      "[2]\tvalidation_set's binary_logloss: 0.0514135\n",
      "[3]\tvalidation_set's binary_logloss: 0.0528697\n",
      "[4]\tvalidation_set's binary_logloss: 0.0533725\n",
      "[5]\tvalidation_set's binary_logloss: 0.0539906\n",
      "Early stopping, best iteration is:\n",
      "[1]\tvalidation_set's binary_logloss: 0.0499958\n"
     ]
    },
    {
     "name": "stderr",
     "output_type": "stream",
     "text": [
      "Found `num_iterations` in params. Will use it instead of argument\n",
      "categorical_feature in Dataset is overridden.\n",
      "New categorical_feature is ['age', 'anticipation', 'change_recent', 'country', 'defeat_recent', 'delayed', 'direct_recent', 'elected', 'election_now', 'election_recent', 'exec_ant', 'exec_recent', 'government', 'indirect_recent', 'irreg_lead_ant', 'lead_recent', 'leg_ant', 'leg_recent', 'male', 'militarycareer', 'month', 'nochange_recent', 'prev_conflict', 'pt_attempt', 'pt_suc', 'ref_ant', 'ref_recent', 'tenure_months', 'victory_recent', 'year']\n"
     ]
    },
    {
     "name": "stdout",
     "output_type": "stream",
     "text": [
      "[1]\tvalidation_set's binary_logloss: 0.0491955\n",
      "Training until validation scores don't improve for 4 rounds\n",
      "[2]\tvalidation_set's binary_logloss: 0.0513074\n",
      "[3]\tvalidation_set's binary_logloss: 0.0524516\n",
      "[4]\tvalidation_set's binary_logloss: 0.0538128\n",
      "[5]\tvalidation_set's binary_logloss: 0.054599\n",
      "Early stopping, best iteration is:\n",
      "[1]\tvalidation_set's binary_logloss: 0.0491955\n"
     ]
    },
    {
     "name": "stderr",
     "output_type": "stream",
     "text": [
      "Found `num_iterations` in params. Will use it instead of argument\n",
      "categorical_feature in Dataset is overridden.\n",
      "New categorical_feature is ['age', 'anticipation', 'change_recent', 'country', 'defeat_recent', 'delayed', 'direct_recent', 'elected', 'election_now', 'election_recent', 'exec_ant', 'exec_recent', 'government', 'indirect_recent', 'irreg_lead_ant', 'lead_recent', 'leg_ant', 'leg_recent', 'male', 'militarycareer', 'month', 'nochange_recent', 'prev_conflict', 'pt_attempt', 'pt_suc', 'ref_ant', 'ref_recent', 'tenure_months', 'victory_recent', 'year']\n"
     ]
    },
    {
     "name": "stdout",
     "output_type": "stream",
     "text": [
      "[1]\tvalidation_set's binary_logloss: 0.0487445\n",
      "Training until validation scores don't improve for 4 rounds\n",
      "[2]\tvalidation_set's binary_logloss: 0.0501328\n",
      "[3]\tvalidation_set's binary_logloss: 0.0516081\n",
      "[4]\tvalidation_set's binary_logloss: 0.0523902\n",
      "[5]\tvalidation_set's binary_logloss: 0.0534991\n",
      "Early stopping, best iteration is:\n",
      "[1]\tvalidation_set's binary_logloss: 0.0487445\n"
     ]
    },
    {
     "name": "stderr",
     "output_type": "stream",
     "text": [
      "Found `num_iterations` in params. Will use it instead of argument\n",
      "categorical_feature in Dataset is overridden.\n",
      "New categorical_feature is ['age', 'anticipation', 'change_recent', 'country', 'defeat_recent', 'delayed', 'direct_recent', 'elected', 'election_now', 'election_recent', 'exec_ant', 'exec_recent', 'government', 'indirect_recent', 'irreg_lead_ant', 'lead_recent', 'leg_ant', 'leg_recent', 'male', 'militarycareer', 'month', 'nochange_recent', 'prev_conflict', 'pt_attempt', 'pt_suc', 'ref_ant', 'ref_recent', 'tenure_months', 'victory_recent', 'year']\n"
     ]
    },
    {
     "name": "stdout",
     "output_type": "stream",
     "text": [
      "[1]\tvalidation_set's binary_logloss: 0.0497015\n",
      "Training until validation scores don't improve for 4 rounds\n",
      "[2]\tvalidation_set's binary_logloss: 0.0513186\n",
      "[3]\tvalidation_set's binary_logloss: 0.051949\n",
      "[4]\tvalidation_set's binary_logloss: 0.0527615\n",
      "[5]\tvalidation_set's binary_logloss: 0.0531326\n",
      "Early stopping, best iteration is:\n",
      "[1]\tvalidation_set's binary_logloss: 0.0497015\n"
     ]
    },
    {
     "name": "stderr",
     "output_type": "stream",
     "text": [
      "Found `num_iterations` in params. Will use it instead of argument\n",
      "categorical_feature in Dataset is overridden.\n",
      "New categorical_feature is ['age', 'anticipation', 'change_recent', 'country', 'defeat_recent', 'delayed', 'direct_recent', 'elected', 'election_now', 'election_recent', 'exec_ant', 'exec_recent', 'government', 'indirect_recent', 'irreg_lead_ant', 'lead_recent', 'leg_ant', 'leg_recent', 'male', 'militarycareer', 'month', 'nochange_recent', 'prev_conflict', 'pt_attempt', 'pt_suc', 'ref_ant', 'ref_recent', 'tenure_months', 'victory_recent', 'year']\n"
     ]
    },
    {
     "name": "stdout",
     "output_type": "stream",
     "text": [
      "[1]\tvalidation_set's binary_logloss: 0.0487793\n",
      "Training until validation scores don't improve for 4 rounds\n",
      "[2]\tvalidation_set's binary_logloss: 0.0503167\n",
      "[3]\tvalidation_set's binary_logloss: 0.0512452\n",
      "[4]\tvalidation_set's binary_logloss: 0.0524462\n",
      "[5]\tvalidation_set's binary_logloss: 0.053266\n",
      "Early stopping, best iteration is:\n",
      "[1]\tvalidation_set's binary_logloss: 0.0487793\n"
     ]
    },
    {
     "name": "stderr",
     "output_type": "stream",
     "text": [
      "Found `num_iterations` in params. Will use it instead of argument\n",
      "categorical_feature in Dataset is overridden.\n",
      "New categorical_feature is ['age', 'anticipation', 'change_recent', 'country', 'defeat_recent', 'delayed', 'direct_recent', 'elected', 'election_now', 'election_recent', 'exec_ant', 'exec_recent', 'government', 'indirect_recent', 'irreg_lead_ant', 'lead_recent', 'leg_ant', 'leg_recent', 'male', 'militarycareer', 'month', 'nochange_recent', 'prev_conflict', 'pt_attempt', 'pt_suc', 'ref_ant', 'ref_recent', 'tenure_months', 'victory_recent', 'year']\n"
     ]
    },
    {
     "name": "stdout",
     "output_type": "stream",
     "text": [
      "[1]\tvalidation_set's binary_logloss: 0.0490349\n",
      "Training until validation scores don't improve for 4 rounds\n",
      "[2]\tvalidation_set's binary_logloss: 0.0506792\n",
      "[3]\tvalidation_set's binary_logloss: 0.0515473\n",
      "[4]\tvalidation_set's binary_logloss: 0.0522746\n",
      "[5]\tvalidation_set's binary_logloss: 0.0527211\n",
      "Early stopping, best iteration is:\n",
      "[1]\tvalidation_set's binary_logloss: 0.0490349\n"
     ]
    },
    {
     "name": "stderr",
     "output_type": "stream",
     "text": [
      "Found `num_iterations` in params. Will use it instead of argument\n",
      "categorical_feature in Dataset is overridden.\n",
      "New categorical_feature is ['age', 'anticipation', 'change_recent', 'country', 'defeat_recent', 'delayed', 'direct_recent', 'elected', 'election_now', 'election_recent', 'exec_ant', 'exec_recent', 'government', 'indirect_recent', 'irreg_lead_ant', 'lead_recent', 'leg_ant', 'leg_recent', 'male', 'militarycareer', 'month', 'nochange_recent', 'prev_conflict', 'pt_attempt', 'pt_suc', 'ref_ant', 'ref_recent', 'tenure_months', 'victory_recent', 'year']\n"
     ]
    },
    {
     "name": "stdout",
     "output_type": "stream",
     "text": [
      "[1]\tvalidation_set's binary_logloss: 0.0484234\n",
      "Training until validation scores don't improve for 4 rounds\n",
      "[2]\tvalidation_set's binary_logloss: 0.0495193\n",
      "[3]\tvalidation_set's binary_logloss: 0.0506758\n",
      "[4]\tvalidation_set's binary_logloss: 0.0513382\n",
      "[5]\tvalidation_set's binary_logloss: 0.0520475\n",
      "Early stopping, best iteration is:\n",
      "[1]\tvalidation_set's binary_logloss: 0.0484234\n"
     ]
    },
    {
     "name": "stderr",
     "output_type": "stream",
     "text": [
      "Found `num_iterations` in params. Will use it instead of argument\n",
      "categorical_feature in Dataset is overridden.\n",
      "New categorical_feature is ['age', 'anticipation', 'change_recent', 'country', 'defeat_recent', 'delayed', 'direct_recent', 'elected', 'election_now', 'election_recent', 'exec_ant', 'exec_recent', 'government', 'indirect_recent', 'irreg_lead_ant', 'lead_recent', 'leg_ant', 'leg_recent', 'male', 'militarycareer', 'month', 'nochange_recent', 'prev_conflict', 'pt_attempt', 'pt_suc', 'ref_ant', 'ref_recent', 'tenure_months', 'victory_recent', 'year']\n"
     ]
    },
    {
     "name": "stdout",
     "output_type": "stream",
     "text": [
      "[1]\tvalidation_set's binary_logloss: 0.051442\n",
      "Training until validation scores don't improve for 4 rounds\n",
      "[2]\tvalidation_set's binary_logloss: 0.0528532\n",
      "[3]\tvalidation_set's binary_logloss: 0.0536531\n",
      "[4]\tvalidation_set's binary_logloss: 0.0542793\n",
      "[5]\tvalidation_set's binary_logloss: 0.0545427\n",
      "Early stopping, best iteration is:\n",
      "[1]\tvalidation_set's binary_logloss: 0.051442\n"
     ]
    },
    {
     "name": "stderr",
     "output_type": "stream",
     "text": [
      "Found `num_iterations` in params. Will use it instead of argument\n",
      "categorical_feature in Dataset is overridden.\n",
      "New categorical_feature is ['age', 'anticipation', 'change_recent', 'country', 'defeat_recent', 'delayed', 'direct_recent', 'elected', 'election_now', 'election_recent', 'exec_ant', 'exec_recent', 'government', 'indirect_recent', 'irreg_lead_ant', 'lead_recent', 'leg_ant', 'leg_recent', 'male', 'militarycareer', 'month', 'nochange_recent', 'prev_conflict', 'pt_attempt', 'pt_suc', 'ref_ant', 'ref_recent', 'tenure_months', 'victory_recent', 'year']\n"
     ]
    },
    {
     "name": "stdout",
     "output_type": "stream",
     "text": [
      "[1]\tvalidation_set's binary_logloss: 0.0495178\n",
      "Training until validation scores don't improve for 4 rounds\n",
      "[2]\tvalidation_set's binary_logloss: 0.0510239\n",
      "[3]\tvalidation_set's binary_logloss: 0.0518538\n",
      "[4]\tvalidation_set's binary_logloss: 0.0526165\n",
      "[5]\tvalidation_set's binary_logloss: 0.0534127\n",
      "Early stopping, best iteration is:\n",
      "[1]\tvalidation_set's binary_logloss: 0.0495178\n"
     ]
    },
    {
     "name": "stderr",
     "output_type": "stream",
     "text": [
      "Found `num_iterations` in params. Will use it instead of argument\n",
      "categorical_feature in Dataset is overridden.\n",
      "New categorical_feature is ['age', 'anticipation', 'change_recent', 'country', 'defeat_recent', 'delayed', 'direct_recent', 'elected', 'election_now', 'election_recent', 'exec_ant', 'exec_recent', 'government', 'indirect_recent', 'irreg_lead_ant', 'lead_recent', 'leg_ant', 'leg_recent', 'male', 'militarycareer', 'month', 'nochange_recent', 'prev_conflict', 'pt_attempt', 'pt_suc', 'ref_ant', 'ref_recent', 'tenure_months', 'victory_recent', 'year']\n"
     ]
    },
    {
     "name": "stdout",
     "output_type": "stream",
     "text": [
      "[1]\tvalidation_set's binary_logloss: 0.0472572\n",
      "Training until validation scores don't improve for 4 rounds\n",
      "[2]\tvalidation_set's binary_logloss: 0.0488107\n",
      "[3]\tvalidation_set's binary_logloss: 0.0502208\n",
      "[4]\tvalidation_set's binary_logloss: 0.0511677\n",
      "[5]\tvalidation_set's binary_logloss: 0.0518356\n",
      "Early stopping, best iteration is:\n",
      "[1]\tvalidation_set's binary_logloss: 0.0472572\n"
     ]
    },
    {
     "name": "stderr",
     "output_type": "stream",
     "text": [
      "Found `num_iterations` in params. Will use it instead of argument\n",
      "categorical_feature in Dataset is overridden.\n",
      "New categorical_feature is ['age', 'anticipation', 'change_recent', 'country', 'defeat_recent', 'delayed', 'direct_recent', 'elected', 'election_now', 'election_recent', 'exec_ant', 'exec_recent', 'government', 'indirect_recent', 'irreg_lead_ant', 'lead_recent', 'leg_ant', 'leg_recent', 'male', 'militarycareer', 'month', 'nochange_recent', 'prev_conflict', 'pt_attempt', 'pt_suc', 'ref_ant', 'ref_recent', 'tenure_months', 'victory_recent', 'year']\n"
     ]
    },
    {
     "name": "stdout",
     "output_type": "stream",
     "text": [
      "[1]\tvalidation_set's binary_logloss: 0.0475075\n",
      "Training until validation scores don't improve for 4 rounds\n",
      "[2]\tvalidation_set's binary_logloss: 0.0485298\n",
      "[3]\tvalidation_set's binary_logloss: 0.0488561\n",
      "[4]\tvalidation_set's binary_logloss: 0.049532\n",
      "[5]\tvalidation_set's binary_logloss: 0.050132\n",
      "Early stopping, best iteration is:\n",
      "[1]\tvalidation_set's binary_logloss: 0.0475075\n"
     ]
    },
    {
     "name": "stderr",
     "output_type": "stream",
     "text": [
      "Found `num_iterations` in params. Will use it instead of argument\n",
      "categorical_feature in Dataset is overridden.\n",
      "New categorical_feature is ['age', 'anticipation', 'change_recent', 'country', 'defeat_recent', 'delayed', 'direct_recent', 'elected', 'election_now', 'election_recent', 'exec_ant', 'exec_recent', 'government', 'indirect_recent', 'irreg_lead_ant', 'lead_recent', 'leg_ant', 'leg_recent', 'male', 'militarycareer', 'month', 'nochange_recent', 'prev_conflict', 'pt_attempt', 'pt_suc', 'ref_ant', 'ref_recent', 'tenure_months', 'victory_recent', 'year']\n"
     ]
    },
    {
     "name": "stdout",
     "output_type": "stream",
     "text": [
      "[1]\tvalidation_set's binary_logloss: 0.0484091\n",
      "Training until validation scores don't improve for 4 rounds\n",
      "[2]\tvalidation_set's binary_logloss: 0.049979\n",
      "[3]\tvalidation_set's binary_logloss: 0.0515393\n",
      "[4]\tvalidation_set's binary_logloss: 0.0520948\n",
      "[5]\tvalidation_set's binary_logloss: 0.0526938\n",
      "Early stopping, best iteration is:\n",
      "[1]\tvalidation_set's binary_logloss: 0.0484091\n"
     ]
    },
    {
     "name": "stderr",
     "output_type": "stream",
     "text": [
      "Found `num_iterations` in params. Will use it instead of argument\n",
      "categorical_feature in Dataset is overridden.\n",
      "New categorical_feature is ['age', 'anticipation', 'change_recent', 'country', 'defeat_recent', 'delayed', 'direct_recent', 'elected', 'election_now', 'election_recent', 'exec_ant', 'exec_recent', 'government', 'indirect_recent', 'irreg_lead_ant', 'lead_recent', 'leg_ant', 'leg_recent', 'male', 'militarycareer', 'month', 'nochange_recent', 'prev_conflict', 'pt_attempt', 'pt_suc', 'ref_ant', 'ref_recent', 'tenure_months', 'victory_recent', 'year']\n"
     ]
    },
    {
     "name": "stdout",
     "output_type": "stream",
     "text": [
      "[1]\tvalidation_set's binary_logloss: 0.0482984\n",
      "Training until validation scores don't improve for 4 rounds\n",
      "[2]\tvalidation_set's binary_logloss: 0.0496124\n",
      "[3]\tvalidation_set's binary_logloss: 0.0505843\n",
      "[4]\tvalidation_set's binary_logloss: 0.0507195\n",
      "[5]\tvalidation_set's binary_logloss: 0.0511156\n",
      "Early stopping, best iteration is:\n",
      "[1]\tvalidation_set's binary_logloss: 0.0482984\n"
     ]
    },
    {
     "name": "stderr",
     "output_type": "stream",
     "text": [
      "Found `num_iterations` in params. Will use it instead of argument\n",
      "categorical_feature in Dataset is overridden.\n",
      "New categorical_feature is ['age', 'anticipation', 'change_recent', 'country', 'defeat_recent', 'delayed', 'direct_recent', 'elected', 'election_now', 'election_recent', 'exec_ant', 'exec_recent', 'government', 'indirect_recent', 'irreg_lead_ant', 'lead_recent', 'leg_ant', 'leg_recent', 'male', 'militarycareer', 'month', 'nochange_recent', 'prev_conflict', 'pt_attempt', 'pt_suc', 'ref_ant', 'ref_recent', 'tenure_months', 'victory_recent', 'year']\n"
     ]
    },
    {
     "name": "stdout",
     "output_type": "stream",
     "text": [
      "[1]\tvalidation_set's binary_logloss: 0.048528\n",
      "Training until validation scores don't improve for 4 rounds\n",
      "[2]\tvalidation_set's binary_logloss: 0.0496936\n",
      "[3]\tvalidation_set's binary_logloss: 0.0505694\n",
      "[4]\tvalidation_set's binary_logloss: 0.051113\n",
      "[5]\tvalidation_set's binary_logloss: 0.0515268\n",
      "Early stopping, best iteration is:\n",
      "[1]\tvalidation_set's binary_logloss: 0.048528\n"
     ]
    },
    {
     "name": "stderr",
     "output_type": "stream",
     "text": [
      "Found `num_iterations` in params. Will use it instead of argument\n",
      "categorical_feature in Dataset is overridden.\n",
      "New categorical_feature is ['age', 'anticipation', 'change_recent', 'country', 'defeat_recent', 'delayed', 'direct_recent', 'elected', 'election_now', 'election_recent', 'exec_ant', 'exec_recent', 'government', 'indirect_recent', 'irreg_lead_ant', 'lead_recent', 'leg_ant', 'leg_recent', 'male', 'militarycareer', 'month', 'nochange_recent', 'prev_conflict', 'pt_attempt', 'pt_suc', 'ref_ant', 'ref_recent', 'tenure_months', 'victory_recent', 'year']\n"
     ]
    },
    {
     "name": "stdout",
     "output_type": "stream",
     "text": [
      "[1]\tvalidation_set's binary_logloss: 0.0491743\n",
      "Training until validation scores don't improve for 4 rounds\n",
      "[2]\tvalidation_set's binary_logloss: 0.0504852\n",
      "[3]\tvalidation_set's binary_logloss: 0.0522354\n",
      "[4]\tvalidation_set's binary_logloss: 0.0520251\n",
      "[5]\tvalidation_set's binary_logloss: 0.0530773\n",
      "Early stopping, best iteration is:\n",
      "[1]\tvalidation_set's binary_logloss: 0.0491743\n"
     ]
    },
    {
     "name": "stderr",
     "output_type": "stream",
     "text": [
      "Found `num_iterations` in params. Will use it instead of argument\n",
      "categorical_feature in Dataset is overridden.\n",
      "New categorical_feature is ['age', 'anticipation', 'change_recent', 'country', 'defeat_recent', 'delayed', 'direct_recent', 'elected', 'election_now', 'election_recent', 'exec_ant', 'exec_recent', 'government', 'indirect_recent', 'irreg_lead_ant', 'lead_recent', 'leg_ant', 'leg_recent', 'male', 'militarycareer', 'month', 'nochange_recent', 'prev_conflict', 'pt_attempt', 'pt_suc', 'ref_ant', 'ref_recent', 'tenure_months', 'victory_recent', 'year']\n"
     ]
    },
    {
     "name": "stdout",
     "output_type": "stream",
     "text": [
      "[1]\tvalidation_set's binary_logloss: 0.0493971\n",
      "Training until validation scores don't improve for 4 rounds\n",
      "[2]\tvalidation_set's binary_logloss: 0.0504952\n",
      "[3]\tvalidation_set's binary_logloss: 0.0513794\n",
      "[4]\tvalidation_set's binary_logloss: 0.0525467\n",
      "[5]\tvalidation_set's binary_logloss: 0.0528235\n",
      "Early stopping, best iteration is:\n",
      "[1]\tvalidation_set's binary_logloss: 0.0493971\n"
     ]
    },
    {
     "name": "stderr",
     "output_type": "stream",
     "text": [
      "Found `num_iterations` in params. Will use it instead of argument\n",
      "categorical_feature in Dataset is overridden.\n",
      "New categorical_feature is ['age', 'anticipation', 'change_recent', 'country', 'defeat_recent', 'delayed', 'direct_recent', 'elected', 'election_now', 'election_recent', 'exec_ant', 'exec_recent', 'government', 'indirect_recent', 'irreg_lead_ant', 'lead_recent', 'leg_ant', 'leg_recent', 'male', 'militarycareer', 'month', 'nochange_recent', 'prev_conflict', 'pt_attempt', 'pt_suc', 'ref_ant', 'ref_recent', 'tenure_months', 'victory_recent', 'year']\n"
     ]
    },
    {
     "name": "stdout",
     "output_type": "stream",
     "text": [
      "[1]\tvalidation_set's binary_logloss: 0.0490932\n",
      "Training until validation scores don't improve for 4 rounds\n",
      "[2]\tvalidation_set's binary_logloss: 0.0510497\n",
      "[3]\tvalidation_set's binary_logloss: 0.0514631\n",
      "[4]\tvalidation_set's binary_logloss: 0.0519396\n",
      "[5]\tvalidation_set's binary_logloss: 0.0526942\n",
      "Early stopping, best iteration is:\n",
      "[1]\tvalidation_set's binary_logloss: 0.0490932\n"
     ]
    },
    {
     "name": "stderr",
     "output_type": "stream",
     "text": [
      "Found `num_iterations` in params. Will use it instead of argument\n",
      "categorical_feature in Dataset is overridden.\n",
      "New categorical_feature is ['age', 'anticipation', 'change_recent', 'country', 'defeat_recent', 'delayed', 'direct_recent', 'elected', 'election_now', 'election_recent', 'exec_ant', 'exec_recent', 'government', 'indirect_recent', 'irreg_lead_ant', 'lead_recent', 'leg_ant', 'leg_recent', 'male', 'militarycareer', 'month', 'nochange_recent', 'prev_conflict', 'pt_attempt', 'pt_suc', 'ref_ant', 'ref_recent', 'tenure_months', 'victory_recent', 'year']\n"
     ]
    },
    {
     "name": "stdout",
     "output_type": "stream",
     "text": [
      "[1]\tvalidation_set's binary_logloss: 0.0493502\n",
      "Training until validation scores don't improve for 4 rounds\n",
      "[2]\tvalidation_set's binary_logloss: 0.0503117\n",
      "[3]\tvalidation_set's binary_logloss: 0.0512213\n",
      "[4]\tvalidation_set's binary_logloss: 0.0517785\n",
      "[5]\tvalidation_set's binary_logloss: 0.0526213\n",
      "Early stopping, best iteration is:\n",
      "[1]\tvalidation_set's binary_logloss: 0.0493502\n"
     ]
    },
    {
     "name": "stderr",
     "output_type": "stream",
     "text": [
      "Found `num_iterations` in params. Will use it instead of argument\n",
      "categorical_feature in Dataset is overridden.\n",
      "New categorical_feature is ['age', 'anticipation', 'change_recent', 'country', 'defeat_recent', 'delayed', 'direct_recent', 'elected', 'election_now', 'election_recent', 'exec_ant', 'exec_recent', 'government', 'indirect_recent', 'irreg_lead_ant', 'lead_recent', 'leg_ant', 'leg_recent', 'male', 'militarycareer', 'month', 'nochange_recent', 'prev_conflict', 'pt_attempt', 'pt_suc', 'ref_ant', 'ref_recent', 'tenure_months', 'victory_recent', 'year']\n"
     ]
    },
    {
     "name": "stdout",
     "output_type": "stream",
     "text": [
      "[1]\tvalidation_set's binary_logloss: 0.0490967\n",
      "Training until validation scores don't improve for 4 rounds\n",
      "[2]\tvalidation_set's binary_logloss: 0.0515076\n",
      "[3]\tvalidation_set's binary_logloss: 0.0522639\n",
      "[4]\tvalidation_set's binary_logloss: 0.0527113\n",
      "[5]\tvalidation_set's binary_logloss: 0.0533727\n",
      "Early stopping, best iteration is:\n",
      "[1]\tvalidation_set's binary_logloss: 0.0490967\n"
     ]
    },
    {
     "name": "stderr",
     "output_type": "stream",
     "text": [
      "Found `num_iterations` in params. Will use it instead of argument\n",
      "categorical_feature in Dataset is overridden.\n",
      "New categorical_feature is ['age', 'anticipation', 'change_recent', 'country', 'defeat_recent', 'delayed', 'direct_recent', 'elected', 'election_now', 'election_recent', 'exec_ant', 'exec_recent', 'government', 'indirect_recent', 'irreg_lead_ant', 'lead_recent', 'leg_ant', 'leg_recent', 'male', 'militarycareer', 'month', 'nochange_recent', 'prev_conflict', 'pt_attempt', 'pt_suc', 'ref_ant', 'ref_recent', 'tenure_months', 'victory_recent', 'year']\n"
     ]
    },
    {
     "name": "stdout",
     "output_type": "stream",
     "text": [
      "[1]\tvalidation_set's binary_logloss: 0.0491548\n",
      "Training until validation scores don't improve for 4 rounds\n",
      "[2]\tvalidation_set's binary_logloss: 0.0500384\n",
      "[3]\tvalidation_set's binary_logloss: 0.0510566\n",
      "[4]\tvalidation_set's binary_logloss: 0.0511878\n",
      "[5]\tvalidation_set's binary_logloss: 0.0512153\n",
      "Early stopping, best iteration is:\n",
      "[1]\tvalidation_set's binary_logloss: 0.0491548\n"
     ]
    },
    {
     "name": "stderr",
     "output_type": "stream",
     "text": [
      "Found `num_iterations` in params. Will use it instead of argument\n",
      "categorical_feature in Dataset is overridden.\n",
      "New categorical_feature is ['age', 'anticipation', 'change_recent', 'country', 'defeat_recent', 'delayed', 'direct_recent', 'elected', 'election_now', 'election_recent', 'exec_ant', 'exec_recent', 'government', 'indirect_recent', 'irreg_lead_ant', 'lead_recent', 'leg_ant', 'leg_recent', 'male', 'militarycareer', 'month', 'nochange_recent', 'prev_conflict', 'pt_attempt', 'pt_suc', 'ref_ant', 'ref_recent', 'tenure_months', 'victory_recent', 'year']\n"
     ]
    },
    {
     "name": "stdout",
     "output_type": "stream",
     "text": [
      "[1]\tvalidation_set's binary_logloss: 0.0494556\n",
      "Training until validation scores don't improve for 4 rounds\n",
      "[2]\tvalidation_set's binary_logloss: 0.0508795\n",
      "[3]\tvalidation_set's binary_logloss: 0.0514085\n",
      "[4]\tvalidation_set's binary_logloss: 0.0519755\n",
      "[5]\tvalidation_set's binary_logloss: 0.0520912\n",
      "Early stopping, best iteration is:\n",
      "[1]\tvalidation_set's binary_logloss: 0.0494556\n"
     ]
    },
    {
     "name": "stderr",
     "output_type": "stream",
     "text": [
      "Found `num_iterations` in params. Will use it instead of argument\n",
      "categorical_feature in Dataset is overridden.\n",
      "New categorical_feature is ['age', 'anticipation', 'change_recent', 'country', 'defeat_recent', 'delayed', 'direct_recent', 'elected', 'election_now', 'election_recent', 'exec_ant', 'exec_recent', 'government', 'indirect_recent', 'irreg_lead_ant', 'lead_recent', 'leg_ant', 'leg_recent', 'male', 'militarycareer', 'month', 'nochange_recent', 'prev_conflict', 'pt_attempt', 'pt_suc', 'ref_ant', 'ref_recent', 'tenure_months', 'victory_recent', 'year']\n"
     ]
    },
    {
     "name": "stdout",
     "output_type": "stream",
     "text": [
      "[1]\tvalidation_set's binary_logloss: 0.0488088\n",
      "Training until validation scores don't improve for 4 rounds\n",
      "[2]\tvalidation_set's binary_logloss: 0.0510442\n",
      "[3]\tvalidation_set's binary_logloss: 0.0531189\n",
      "[4]\tvalidation_set's binary_logloss: 0.0534424\n",
      "[5]\tvalidation_set's binary_logloss: 0.054756\n",
      "Early stopping, best iteration is:\n",
      "[1]\tvalidation_set's binary_logloss: 0.0488088\n"
     ]
    },
    {
     "name": "stderr",
     "output_type": "stream",
     "text": [
      "Found `num_iterations` in params. Will use it instead of argument\n",
      "categorical_feature in Dataset is overridden.\n",
      "New categorical_feature is ['age', 'anticipation', 'change_recent', 'country', 'defeat_recent', 'delayed', 'direct_recent', 'elected', 'election_now', 'election_recent', 'exec_ant', 'exec_recent', 'government', 'indirect_recent', 'irreg_lead_ant', 'lead_recent', 'leg_ant', 'leg_recent', 'male', 'militarycareer', 'month', 'nochange_recent', 'prev_conflict', 'pt_attempt', 'pt_suc', 'ref_ant', 'ref_recent', 'tenure_months', 'victory_recent', 'year']\n"
     ]
    },
    {
     "name": "stdout",
     "output_type": "stream",
     "text": [
      "[1]\tvalidation_set's binary_logloss: 0.0471149\n",
      "Training until validation scores don't improve for 4 rounds\n",
      "[2]\tvalidation_set's binary_logloss: 0.0476308\n",
      "[3]\tvalidation_set's binary_logloss: 0.0482608\n",
      "[4]\tvalidation_set's binary_logloss: 0.0485811\n",
      "[5]\tvalidation_set's binary_logloss: 0.0489204\n",
      "Early stopping, best iteration is:\n",
      "[1]\tvalidation_set's binary_logloss: 0.0471149\n"
     ]
    },
    {
     "name": "stderr",
     "output_type": "stream",
     "text": [
      "Found `num_iterations` in params. Will use it instead of argument\n",
      "categorical_feature in Dataset is overridden.\n",
      "New categorical_feature is ['age', 'anticipation', 'change_recent', 'country', 'defeat_recent', 'delayed', 'direct_recent', 'elected', 'election_now', 'election_recent', 'exec_ant', 'exec_recent', 'government', 'indirect_recent', 'irreg_lead_ant', 'lead_recent', 'leg_ant', 'leg_recent', 'male', 'militarycareer', 'month', 'nochange_recent', 'prev_conflict', 'pt_attempt', 'pt_suc', 'ref_ant', 'ref_recent', 'tenure_months', 'victory_recent', 'year']\n"
     ]
    },
    {
     "name": "stdout",
     "output_type": "stream",
     "text": [
      "[1]\tvalidation_set's binary_logloss: 0.0474754\n",
      "Training until validation scores don't improve for 4 rounds\n",
      "[2]\tvalidation_set's binary_logloss: 0.0481676\n",
      "[3]\tvalidation_set's binary_logloss: 0.0482152\n",
      "[4]\tvalidation_set's binary_logloss: 0.0488332\n",
      "[5]\tvalidation_set's binary_logloss: 0.0491958\n",
      "Early stopping, best iteration is:\n",
      "[1]\tvalidation_set's binary_logloss: 0.0474754\n"
     ]
    },
    {
     "name": "stderr",
     "output_type": "stream",
     "text": [
      "Found `num_iterations` in params. Will use it instead of argument\n",
      "categorical_feature in Dataset is overridden.\n",
      "New categorical_feature is ['age', 'anticipation', 'change_recent', 'country', 'defeat_recent', 'delayed', 'direct_recent', 'elected', 'election_now', 'election_recent', 'exec_ant', 'exec_recent', 'government', 'indirect_recent', 'irreg_lead_ant', 'lead_recent', 'leg_ant', 'leg_recent', 'male', 'militarycareer', 'month', 'nochange_recent', 'prev_conflict', 'pt_attempt', 'pt_suc', 'ref_ant', 'ref_recent', 'tenure_months', 'victory_recent', 'year']\n"
     ]
    },
    {
     "name": "stdout",
     "output_type": "stream",
     "text": [
      "[1]\tvalidation_set's binary_logloss: 0.0471345\n",
      "Training until validation scores don't improve for 4 rounds\n",
      "[2]\tvalidation_set's binary_logloss: 0.0472644\n",
      "[3]\tvalidation_set's binary_logloss: 0.0485815\n",
      "[4]\tvalidation_set's binary_logloss: 0.0487182\n",
      "[5]\tvalidation_set's binary_logloss: 0.0489876\n",
      "Early stopping, best iteration is:\n",
      "[1]\tvalidation_set's binary_logloss: 0.0471345\n"
     ]
    },
    {
     "name": "stderr",
     "output_type": "stream",
     "text": [
      "Found `num_iterations` in params. Will use it instead of argument\n",
      "categorical_feature in Dataset is overridden.\n",
      "New categorical_feature is ['age', 'anticipation', 'change_recent', 'country', 'defeat_recent', 'delayed', 'direct_recent', 'elected', 'election_now', 'election_recent', 'exec_ant', 'exec_recent', 'government', 'indirect_recent', 'irreg_lead_ant', 'lead_recent', 'leg_ant', 'leg_recent', 'male', 'militarycareer', 'month', 'nochange_recent', 'prev_conflict', 'pt_attempt', 'pt_suc', 'ref_ant', 'ref_recent', 'tenure_months', 'victory_recent', 'year']\n"
     ]
    },
    {
     "name": "stdout",
     "output_type": "stream",
     "text": [
      "[1]\tvalidation_set's binary_logloss: 0.0475519\n",
      "Training until validation scores don't improve for 4 rounds\n",
      "[2]\tvalidation_set's binary_logloss: 0.0482705\n",
      "[3]\tvalidation_set's binary_logloss: 0.0491861\n",
      "[4]\tvalidation_set's binary_logloss: 0.0494079\n",
      "[5]\tvalidation_set's binary_logloss: 0.0497127\n",
      "Early stopping, best iteration is:\n",
      "[1]\tvalidation_set's binary_logloss: 0.0475519\n"
     ]
    },
    {
     "name": "stderr",
     "output_type": "stream",
     "text": [
      "Found `num_iterations` in params. Will use it instead of argument\n",
      "categorical_feature in Dataset is overridden.\n",
      "New categorical_feature is ['age', 'anticipation', 'change_recent', 'country', 'defeat_recent', 'delayed', 'direct_recent', 'elected', 'election_now', 'election_recent', 'exec_ant', 'exec_recent', 'government', 'indirect_recent', 'irreg_lead_ant', 'lead_recent', 'leg_ant', 'leg_recent', 'male', 'militarycareer', 'month', 'nochange_recent', 'prev_conflict', 'pt_attempt', 'pt_suc', 'ref_ant', 'ref_recent', 'tenure_months', 'victory_recent', 'year']\n"
     ]
    },
    {
     "name": "stdout",
     "output_type": "stream",
     "text": [
      "[1]\tvalidation_set's binary_logloss: 0.0484633\n",
      "Training until validation scores don't improve for 4 rounds\n",
      "[2]\tvalidation_set's binary_logloss: 0.0483524\n",
      "[3]\tvalidation_set's binary_logloss: 0.0486363\n",
      "[4]\tvalidation_set's binary_logloss: 0.0491304\n",
      "[5]\tvalidation_set's binary_logloss: 0.0492939\n",
      "[6]\tvalidation_set's binary_logloss: 0.0495099\n",
      "Early stopping, best iteration is:\n",
      "[2]\tvalidation_set's binary_logloss: 0.0483524\n"
     ]
    },
    {
     "name": "stderr",
     "output_type": "stream",
     "text": [
      "Found `num_iterations` in params. Will use it instead of argument\n",
      "categorical_feature in Dataset is overridden.\n",
      "New categorical_feature is ['age', 'anticipation', 'change_recent', 'country', 'defeat_recent', 'delayed', 'direct_recent', 'elected', 'election_now', 'election_recent', 'exec_ant', 'exec_recent', 'government', 'indirect_recent', 'irreg_lead_ant', 'lead_recent', 'leg_ant', 'leg_recent', 'male', 'militarycareer', 'month', 'nochange_recent', 'prev_conflict', 'pt_attempt', 'pt_suc', 'ref_ant', 'ref_recent', 'tenure_months', 'victory_recent', 'year']\n"
     ]
    },
    {
     "name": "stdout",
     "output_type": "stream",
     "text": [
      "[1]\tvalidation_set's binary_logloss: 0.0486752\n",
      "Training until validation scores don't improve for 4 rounds\n",
      "[2]\tvalidation_set's binary_logloss: 0.0505994\n",
      "[3]\tvalidation_set's binary_logloss: 0.0514614\n",
      "[4]\tvalidation_set's binary_logloss: 0.0519823\n",
      "[5]\tvalidation_set's binary_logloss: 0.0523882\n",
      "Early stopping, best iteration is:\n",
      "[1]\tvalidation_set's binary_logloss: 0.0486752\n"
     ]
    },
    {
     "name": "stderr",
     "output_type": "stream",
     "text": [
      "Found `num_iterations` in params. Will use it instead of argument\n",
      "categorical_feature in Dataset is overridden.\n",
      "New categorical_feature is ['age', 'anticipation', 'change_recent', 'country', 'defeat_recent', 'delayed', 'direct_recent', 'elected', 'election_now', 'election_recent', 'exec_ant', 'exec_recent', 'government', 'indirect_recent', 'irreg_lead_ant', 'lead_recent', 'leg_ant', 'leg_recent', 'male', 'militarycareer', 'month', 'nochange_recent', 'prev_conflict', 'pt_attempt', 'pt_suc', 'ref_ant', 'ref_recent', 'tenure_months', 'victory_recent', 'year']\n"
     ]
    },
    {
     "name": "stdout",
     "output_type": "stream",
     "text": [
      "[1]\tvalidation_set's binary_logloss: 0.0492351\n",
      "Training until validation scores don't improve for 4 rounds\n",
      "[2]\tvalidation_set's binary_logloss: 0.0495282\n",
      "[3]\tvalidation_set's binary_logloss: 0.0499765\n",
      "[4]\tvalidation_set's binary_logloss: 0.0497722\n",
      "[5]\tvalidation_set's binary_logloss: 0.0502406\n",
      "Early stopping, best iteration is:\n",
      "[1]\tvalidation_set's binary_logloss: 0.0492351\n"
     ]
    },
    {
     "name": "stderr",
     "output_type": "stream",
     "text": [
      "Found `num_iterations` in params. Will use it instead of argument\n",
      "categorical_feature in Dataset is overridden.\n",
      "New categorical_feature is ['age', 'anticipation', 'change_recent', 'country', 'defeat_recent', 'delayed', 'direct_recent', 'elected', 'election_now', 'election_recent', 'exec_ant', 'exec_recent', 'government', 'indirect_recent', 'irreg_lead_ant', 'lead_recent', 'leg_ant', 'leg_recent', 'male', 'militarycareer', 'month', 'nochange_recent', 'prev_conflict', 'pt_attempt', 'pt_suc', 'ref_ant', 'ref_recent', 'tenure_months', 'victory_recent', 'year']\n"
     ]
    },
    {
     "name": "stdout",
     "output_type": "stream",
     "text": [
      "[1]\tvalidation_set's binary_logloss: 0.0497934\n",
      "Training until validation scores don't improve for 4 rounds\n",
      "[2]\tvalidation_set's binary_logloss: 0.0506657\n",
      "[3]\tvalidation_set's binary_logloss: 0.0515018\n",
      "[4]\tvalidation_set's binary_logloss: 0.0519517\n",
      "[5]\tvalidation_set's binary_logloss: 0.0522039\n",
      "Early stopping, best iteration is:\n",
      "[1]\tvalidation_set's binary_logloss: 0.0497934\n"
     ]
    },
    {
     "name": "stderr",
     "output_type": "stream",
     "text": [
      "Found `num_iterations` in params. Will use it instead of argument\n",
      "categorical_feature in Dataset is overridden.\n",
      "New categorical_feature is ['age', 'anticipation', 'change_recent', 'country', 'defeat_recent', 'delayed', 'direct_recent', 'elected', 'election_now', 'election_recent', 'exec_ant', 'exec_recent', 'government', 'indirect_recent', 'irreg_lead_ant', 'lead_recent', 'leg_ant', 'leg_recent', 'male', 'militarycareer', 'month', 'nochange_recent', 'prev_conflict', 'pt_attempt', 'pt_suc', 'ref_ant', 'ref_recent', 'tenure_months', 'victory_recent', 'year']\n"
     ]
    },
    {
     "name": "stdout",
     "output_type": "stream",
     "text": [
      "[1]\tvalidation_set's binary_logloss: 0.0523922\n",
      "Training until validation scores don't improve for 4 rounds\n",
      "[2]\tvalidation_set's binary_logloss: 0.0523706\n",
      "[3]\tvalidation_set's binary_logloss: 0.0517112\n",
      "[4]\tvalidation_set's binary_logloss: 0.0519409\n",
      "[5]\tvalidation_set's binary_logloss: 0.0521685\n",
      "[6]\tvalidation_set's binary_logloss: 0.0522634\n",
      "[7]\tvalidation_set's binary_logloss: 0.0525542\n",
      "Early stopping, best iteration is:\n",
      "[3]\tvalidation_set's binary_logloss: 0.0517112\n"
     ]
    },
    {
     "name": "stderr",
     "output_type": "stream",
     "text": [
      "Found `num_iterations` in params. Will use it instead of argument\n",
      "categorical_feature in Dataset is overridden.\n",
      "New categorical_feature is ['age', 'anticipation', 'change_recent', 'country', 'defeat_recent', 'delayed', 'direct_recent', 'elected', 'election_now', 'election_recent', 'exec_ant', 'exec_recent', 'government', 'indirect_recent', 'irreg_lead_ant', 'lead_recent', 'leg_ant', 'leg_recent', 'male', 'militarycareer', 'month', 'nochange_recent', 'prev_conflict', 'pt_attempt', 'pt_suc', 'ref_ant', 'ref_recent', 'tenure_months', 'victory_recent', 'year']\n"
     ]
    },
    {
     "name": "stdout",
     "output_type": "stream",
     "text": [
      "[1]\tvalidation_set's binary_logloss: 0.0502226\n",
      "Training until validation scores don't improve for 4 rounds\n",
      "[2]\tvalidation_set's binary_logloss: 0.050462\n",
      "[3]\tvalidation_set's binary_logloss: 0.0520187\n",
      "[4]\tvalidation_set's binary_logloss: 0.0524068\n",
      "[5]\tvalidation_set's binary_logloss: 0.0523509\n",
      "Early stopping, best iteration is:\n",
      "[1]\tvalidation_set's binary_logloss: 0.0502226\n"
     ]
    },
    {
     "name": "stderr",
     "output_type": "stream",
     "text": [
      "Found `num_iterations` in params. Will use it instead of argument\n",
      "categorical_feature in Dataset is overridden.\n",
      "New categorical_feature is ['age', 'anticipation', 'change_recent', 'country', 'defeat_recent', 'delayed', 'direct_recent', 'elected', 'election_now', 'election_recent', 'exec_ant', 'exec_recent', 'government', 'indirect_recent', 'irreg_lead_ant', 'lead_recent', 'leg_ant', 'leg_recent', 'male', 'militarycareer', 'month', 'nochange_recent', 'prev_conflict', 'pt_attempt', 'pt_suc', 'ref_ant', 'ref_recent', 'tenure_months', 'victory_recent', 'year']\n"
     ]
    },
    {
     "name": "stdout",
     "output_type": "stream",
     "text": [
      "[1]\tvalidation_set's binary_logloss: 0.0506125\n",
      "Training until validation scores don't improve for 4 rounds\n",
      "[2]\tvalidation_set's binary_logloss: 0.0510152\n",
      "[3]\tvalidation_set's binary_logloss: 0.0512779\n",
      "[4]\tvalidation_set's binary_logloss: 0.0521663\n",
      "[5]\tvalidation_set's binary_logloss: 0.0527821\n",
      "Early stopping, best iteration is:\n",
      "[1]\tvalidation_set's binary_logloss: 0.0506125\n"
     ]
    },
    {
     "name": "stderr",
     "output_type": "stream",
     "text": [
      "Found `num_iterations` in params. Will use it instead of argument\n",
      "categorical_feature in Dataset is overridden.\n",
      "New categorical_feature is ['age', 'anticipation', 'change_recent', 'country', 'defeat_recent', 'delayed', 'direct_recent', 'elected', 'election_now', 'election_recent', 'exec_ant', 'exec_recent', 'government', 'indirect_recent', 'irreg_lead_ant', 'lead_recent', 'leg_ant', 'leg_recent', 'male', 'militarycareer', 'month', 'nochange_recent', 'prev_conflict', 'pt_attempt', 'pt_suc', 'ref_ant', 'ref_recent', 'tenure_months', 'victory_recent', 'year']\n"
     ]
    },
    {
     "name": "stdout",
     "output_type": "stream",
     "text": [
      "[1]\tvalidation_set's binary_logloss: 0.0480265\n",
      "Training until validation scores don't improve for 4 rounds\n",
      "[2]\tvalidation_set's binary_logloss: 0.0492017\n",
      "[3]\tvalidation_set's binary_logloss: 0.0489982\n",
      "[4]\tvalidation_set's binary_logloss: 0.0491312\n",
      "[5]\tvalidation_set's binary_logloss: 0.0492297\n",
      "Early stopping, best iteration is:\n",
      "[1]\tvalidation_set's binary_logloss: 0.0480265\n"
     ]
    },
    {
     "name": "stderr",
     "output_type": "stream",
     "text": [
      "Found `num_iterations` in params. Will use it instead of argument\n",
      "categorical_feature in Dataset is overridden.\n",
      "New categorical_feature is ['age', 'anticipation', 'change_recent', 'country', 'defeat_recent', 'delayed', 'direct_recent', 'elected', 'election_now', 'election_recent', 'exec_ant', 'exec_recent', 'government', 'indirect_recent', 'irreg_lead_ant', 'lead_recent', 'leg_ant', 'leg_recent', 'male', 'militarycareer', 'month', 'nochange_recent', 'prev_conflict', 'pt_attempt', 'pt_suc', 'ref_ant', 'ref_recent', 'tenure_months', 'victory_recent', 'year']\n"
     ]
    },
    {
     "name": "stdout",
     "output_type": "stream",
     "text": [
      "[1]\tvalidation_set's binary_logloss: 0.0458859\n",
      "Training until validation scores don't improve for 4 rounds\n",
      "[2]\tvalidation_set's binary_logloss: 0.0465045\n",
      "[3]\tvalidation_set's binary_logloss: 0.0466324\n",
      "[4]\tvalidation_set's binary_logloss: 0.0466724\n",
      "[5]\tvalidation_set's binary_logloss: 0.0466649\n",
      "Early stopping, best iteration is:\n",
      "[1]\tvalidation_set's binary_logloss: 0.0458859\n"
     ]
    },
    {
     "name": "stderr",
     "output_type": "stream",
     "text": [
      "Found `num_iterations` in params. Will use it instead of argument\n",
      "categorical_feature in Dataset is overridden.\n",
      "New categorical_feature is ['age', 'anticipation', 'change_recent', 'country', 'defeat_recent', 'delayed', 'direct_recent', 'elected', 'election_now', 'election_recent', 'exec_ant', 'exec_recent', 'government', 'indirect_recent', 'irreg_lead_ant', 'lead_recent', 'leg_ant', 'leg_recent', 'male', 'militarycareer', 'month', 'nochange_recent', 'prev_conflict', 'pt_attempt', 'pt_suc', 'ref_ant', 'ref_recent', 'tenure_months', 'victory_recent', 'year']\n"
     ]
    },
    {
     "name": "stdout",
     "output_type": "stream",
     "text": [
      "[1]\tvalidation_set's binary_logloss: 0.0468813\n",
      "Training until validation scores don't improve for 4 rounds\n",
      "[2]\tvalidation_set's binary_logloss: 0.0472028\n",
      "[3]\tvalidation_set's binary_logloss: 0.0481855\n",
      "[4]\tvalidation_set's binary_logloss: 0.0486359\n",
      "[5]\tvalidation_set's binary_logloss: 0.0491822\n",
      "Early stopping, best iteration is:\n",
      "[1]\tvalidation_set's binary_logloss: 0.0468813\n"
     ]
    },
    {
     "name": "stderr",
     "output_type": "stream",
     "text": [
      "Found `num_iterations` in params. Will use it instead of argument\n",
      "categorical_feature in Dataset is overridden.\n",
      "New categorical_feature is ['age', 'anticipation', 'change_recent', 'country', 'defeat_recent', 'delayed', 'direct_recent', 'elected', 'election_now', 'election_recent', 'exec_ant', 'exec_recent', 'government', 'indirect_recent', 'irreg_lead_ant', 'lead_recent', 'leg_ant', 'leg_recent', 'male', 'militarycareer', 'month', 'nochange_recent', 'prev_conflict', 'pt_attempt', 'pt_suc', 'ref_ant', 'ref_recent', 'tenure_months', 'victory_recent', 'year']\n"
     ]
    },
    {
     "name": "stdout",
     "output_type": "stream",
     "text": [
      "[1]\tvalidation_set's binary_logloss: 0.0487713\n",
      "Training until validation scores don't improve for 4 rounds\n",
      "[2]\tvalidation_set's binary_logloss: 0.049903\n",
      "[3]\tvalidation_set's binary_logloss: 0.0508629\n",
      "[4]\tvalidation_set's binary_logloss: 0.0512167\n",
      "[5]\tvalidation_set's binary_logloss: 0.0512968\n",
      "Early stopping, best iteration is:\n",
      "[1]\tvalidation_set's binary_logloss: 0.0487713\n"
     ]
    },
    {
     "name": "stderr",
     "output_type": "stream",
     "text": [
      "Found `num_iterations` in params. Will use it instead of argument\n",
      "categorical_feature in Dataset is overridden.\n",
      "New categorical_feature is ['age', 'anticipation', 'change_recent', 'country', 'defeat_recent', 'delayed', 'direct_recent', 'elected', 'election_now', 'election_recent', 'exec_ant', 'exec_recent', 'government', 'indirect_recent', 'irreg_lead_ant', 'lead_recent', 'leg_ant', 'leg_recent', 'male', 'militarycareer', 'month', 'nochange_recent', 'prev_conflict', 'pt_attempt', 'pt_suc', 'ref_ant', 'ref_recent', 'tenure_months', 'victory_recent', 'year']\n"
     ]
    },
    {
     "name": "stdout",
     "output_type": "stream",
     "text": [
      "[1]\tvalidation_set's binary_logloss: 0.0477956\n",
      "Training until validation scores don't improve for 4 rounds\n",
      "[2]\tvalidation_set's binary_logloss: 0.0484878\n",
      "[3]\tvalidation_set's binary_logloss: 0.0494675\n",
      "[4]\tvalidation_set's binary_logloss: 0.0497008\n",
      "[5]\tvalidation_set's binary_logloss: 0.0497337\n",
      "Early stopping, best iteration is:\n",
      "[1]\tvalidation_set's binary_logloss: 0.0477956\n"
     ]
    },
    {
     "name": "stderr",
     "output_type": "stream",
     "text": [
      "Found `num_iterations` in params. Will use it instead of argument\n",
      "categorical_feature in Dataset is overridden.\n",
      "New categorical_feature is ['age', 'anticipation', 'change_recent', 'country', 'defeat_recent', 'delayed', 'direct_recent', 'elected', 'election_now', 'election_recent', 'exec_ant', 'exec_recent', 'government', 'indirect_recent', 'irreg_lead_ant', 'lead_recent', 'leg_ant', 'leg_recent', 'male', 'militarycareer', 'month', 'nochange_recent', 'prev_conflict', 'pt_attempt', 'pt_suc', 'ref_ant', 'ref_recent', 'tenure_months', 'victory_recent', 'year']\n"
     ]
    },
    {
     "name": "stdout",
     "output_type": "stream",
     "text": [
      "[1]\tvalidation_set's binary_logloss: 0.0480773\n",
      "Training until validation scores don't improve for 4 rounds\n",
      "[2]\tvalidation_set's binary_logloss: 0.0487163\n",
      "[3]\tvalidation_set's binary_logloss: 0.0489685\n",
      "[4]\tvalidation_set's binary_logloss: 0.049121\n",
      "[5]\tvalidation_set's binary_logloss: 0.0493725\n",
      "Early stopping, best iteration is:\n",
      "[1]\tvalidation_set's binary_logloss: 0.0480773\n"
     ]
    },
    {
     "name": "stderr",
     "output_type": "stream",
     "text": [
      "Found `num_iterations` in params. Will use it instead of argument\n",
      "categorical_feature in Dataset is overridden.\n",
      "New categorical_feature is ['age', 'anticipation', 'change_recent', 'country', 'defeat_recent', 'delayed', 'direct_recent', 'elected', 'election_now', 'election_recent', 'exec_ant', 'exec_recent', 'government', 'indirect_recent', 'irreg_lead_ant', 'lead_recent', 'leg_ant', 'leg_recent', 'male', 'militarycareer', 'month', 'nochange_recent', 'prev_conflict', 'pt_attempt', 'pt_suc', 'ref_ant', 'ref_recent', 'tenure_months', 'victory_recent', 'year']\n"
     ]
    },
    {
     "name": "stdout",
     "output_type": "stream",
     "text": [
      "[1]\tvalidation_set's binary_logloss: 0.0471528\n",
      "Training until validation scores don't improve for 4 rounds\n",
      "[2]\tvalidation_set's binary_logloss: 0.0492343\n",
      "[3]\tvalidation_set's binary_logloss: 0.0494958\n",
      "[4]\tvalidation_set's binary_logloss: 0.0498404\n",
      "[5]\tvalidation_set's binary_logloss: 0.0505701\n",
      "Early stopping, best iteration is:\n",
      "[1]\tvalidation_set's binary_logloss: 0.0471528\n"
     ]
    },
    {
     "name": "stderr",
     "output_type": "stream",
     "text": [
      "Found `num_iterations` in params. Will use it instead of argument\n",
      "categorical_feature in Dataset is overridden.\n",
      "New categorical_feature is ['age', 'anticipation', 'change_recent', 'country', 'defeat_recent', 'delayed', 'direct_recent', 'elected', 'election_now', 'election_recent', 'exec_ant', 'exec_recent', 'government', 'indirect_recent', 'irreg_lead_ant', 'lead_recent', 'leg_ant', 'leg_recent', 'male', 'militarycareer', 'month', 'nochange_recent', 'prev_conflict', 'pt_attempt', 'pt_suc', 'ref_ant', 'ref_recent', 'tenure_months', 'victory_recent', 'year']\n"
     ]
    },
    {
     "name": "stdout",
     "output_type": "stream",
     "text": [
      "[1]\tvalidation_set's binary_logloss: 0.0473284\n",
      "Training until validation scores don't improve for 4 rounds\n",
      "[2]\tvalidation_set's binary_logloss: 0.0480746\n",
      "[3]\tvalidation_set's binary_logloss: 0.0480182\n",
      "[4]\tvalidation_set's binary_logloss: 0.0482466\n",
      "[5]\tvalidation_set's binary_logloss: 0.0485148\n",
      "Early stopping, best iteration is:\n",
      "[1]\tvalidation_set's binary_logloss: 0.0473284\n"
     ]
    },
    {
     "name": "stderr",
     "output_type": "stream",
     "text": [
      "Found `num_iterations` in params. Will use it instead of argument\n",
      "categorical_feature in Dataset is overridden.\n",
      "New categorical_feature is ['age', 'anticipation', 'change_recent', 'country', 'defeat_recent', 'delayed', 'direct_recent', 'elected', 'election_now', 'election_recent', 'exec_ant', 'exec_recent', 'government', 'indirect_recent', 'irreg_lead_ant', 'lead_recent', 'leg_ant', 'leg_recent', 'male', 'militarycareer', 'month', 'nochange_recent', 'prev_conflict', 'pt_attempt', 'pt_suc', 'ref_ant', 'ref_recent', 'tenure_months', 'victory_recent', 'year']\n"
     ]
    },
    {
     "name": "stdout",
     "output_type": "stream",
     "text": [
      "[1]\tvalidation_set's binary_logloss: 0.0480679\n",
      "Training until validation scores don't improve for 4 rounds\n",
      "[2]\tvalidation_set's binary_logloss: 0.0484781\n",
      "[3]\tvalidation_set's binary_logloss: 0.0480562\n",
      "[4]\tvalidation_set's binary_logloss: 0.0490543\n",
      "[5]\tvalidation_set's binary_logloss: 0.0495976\n",
      "[6]\tvalidation_set's binary_logloss: 0.049895\n",
      "[7]\tvalidation_set's binary_logloss: 0.0502413\n",
      "Early stopping, best iteration is:\n",
      "[3]\tvalidation_set's binary_logloss: 0.0480562\n"
     ]
    },
    {
     "name": "stderr",
     "output_type": "stream",
     "text": [
      "Found `num_iterations` in params. Will use it instead of argument\n",
      "categorical_feature in Dataset is overridden.\n",
      "New categorical_feature is ['age', 'anticipation', 'change_recent', 'country', 'defeat_recent', 'delayed', 'direct_recent', 'elected', 'election_now', 'election_recent', 'exec_ant', 'exec_recent', 'government', 'indirect_recent', 'irreg_lead_ant', 'lead_recent', 'leg_ant', 'leg_recent', 'male', 'militarycareer', 'month', 'nochange_recent', 'prev_conflict', 'pt_attempt', 'pt_suc', 'ref_ant', 'ref_recent', 'tenure_months', 'victory_recent', 'year']\n"
     ]
    },
    {
     "name": "stdout",
     "output_type": "stream",
     "text": [
      "[1]\tvalidation_set's binary_logloss: 0.0479737\n",
      "Training until validation scores don't improve for 4 rounds\n",
      "[2]\tvalidation_set's binary_logloss: 0.0502092\n",
      "[3]\tvalidation_set's binary_logloss: 0.0510783\n",
      "[4]\tvalidation_set's binary_logloss: 0.051023\n",
      "[5]\tvalidation_set's binary_logloss: 0.0508034\n",
      "Early stopping, best iteration is:\n",
      "[1]\tvalidation_set's binary_logloss: 0.0479737\n"
     ]
    },
    {
     "name": "stderr",
     "output_type": "stream",
     "text": [
      "Found `num_iterations` in params. Will use it instead of argument\n",
      "categorical_feature in Dataset is overridden.\n",
      "New categorical_feature is ['age', 'anticipation', 'change_recent', 'country', 'defeat_recent', 'delayed', 'direct_recent', 'elected', 'election_now', 'election_recent', 'exec_ant', 'exec_recent', 'government', 'indirect_recent', 'irreg_lead_ant', 'lead_recent', 'leg_ant', 'leg_recent', 'male', 'militarycareer', 'month', 'nochange_recent', 'prev_conflict', 'pt_attempt', 'pt_suc', 'ref_ant', 'ref_recent', 'tenure_months', 'victory_recent', 'year']\n"
     ]
    },
    {
     "name": "stdout",
     "output_type": "stream",
     "text": [
      "[1]\tvalidation_set's binary_logloss: 0.046986\n",
      "Training until validation scores don't improve for 4 rounds\n",
      "[2]\tvalidation_set's binary_logloss: 0.0480321\n",
      "[3]\tvalidation_set's binary_logloss: 0.0488851\n",
      "[4]\tvalidation_set's binary_logloss: 0.0491878\n",
      "[5]\tvalidation_set's binary_logloss: 0.0495174\n",
      "Early stopping, best iteration is:\n",
      "[1]\tvalidation_set's binary_logloss: 0.046986\n"
     ]
    },
    {
     "name": "stderr",
     "output_type": "stream",
     "text": [
      "Found `num_iterations` in params. Will use it instead of argument\n",
      "categorical_feature in Dataset is overridden.\n",
      "New categorical_feature is ['age', 'anticipation', 'change_recent', 'country', 'defeat_recent', 'delayed', 'direct_recent', 'elected', 'election_now', 'election_recent', 'exec_ant', 'exec_recent', 'government', 'indirect_recent', 'irreg_lead_ant', 'lead_recent', 'leg_ant', 'leg_recent', 'male', 'militarycareer', 'month', 'nochange_recent', 'prev_conflict', 'pt_attempt', 'pt_suc', 'ref_ant', 'ref_recent', 'tenure_months', 'victory_recent', 'year']\n"
     ]
    },
    {
     "name": "stdout",
     "output_type": "stream",
     "text": [
      "[1]\tvalidation_set's binary_logloss: 0.0489712\n",
      "Training until validation scores don't improve for 4 rounds\n",
      "[2]\tvalidation_set's binary_logloss: 0.0493226\n",
      "[3]\tvalidation_set's binary_logloss: 0.0501551\n",
      "[4]\tvalidation_set's binary_logloss: 0.0506532\n",
      "[5]\tvalidation_set's binary_logloss: 0.0514988\n",
      "Early stopping, best iteration is:\n",
      "[1]\tvalidation_set's binary_logloss: 0.0489712\n"
     ]
    },
    {
     "name": "stderr",
     "output_type": "stream",
     "text": [
      "Found `num_iterations` in params. Will use it instead of argument\n",
      "categorical_feature in Dataset is overridden.\n",
      "New categorical_feature is ['age', 'anticipation', 'change_recent', 'country', 'defeat_recent', 'delayed', 'direct_recent', 'elected', 'election_now', 'election_recent', 'exec_ant', 'exec_recent', 'government', 'indirect_recent', 'irreg_lead_ant', 'lead_recent', 'leg_ant', 'leg_recent', 'male', 'militarycareer', 'month', 'nochange_recent', 'prev_conflict', 'pt_attempt', 'pt_suc', 'ref_ant', 'ref_recent', 'tenure_months', 'victory_recent', 'year']\n"
     ]
    },
    {
     "name": "stdout",
     "output_type": "stream",
     "text": [
      "[1]\tvalidation_set's binary_logloss: 0.0469828\n",
      "Training until validation scores don't improve for 4 rounds\n",
      "[2]\tvalidation_set's binary_logloss: 0.0493945\n",
      "[3]\tvalidation_set's binary_logloss: 0.0489913\n",
      "[4]\tvalidation_set's binary_logloss: 0.0498633\n",
      "[5]\tvalidation_set's binary_logloss: 0.0498915\n",
      "Early stopping, best iteration is:\n",
      "[1]\tvalidation_set's binary_logloss: 0.0469828\n"
     ]
    },
    {
     "name": "stderr",
     "output_type": "stream",
     "text": [
      "Found `num_iterations` in params. Will use it instead of argument\n",
      "categorical_feature in Dataset is overridden.\n",
      "New categorical_feature is ['age', 'anticipation', 'change_recent', 'country', 'defeat_recent', 'delayed', 'direct_recent', 'elected', 'election_now', 'election_recent', 'exec_ant', 'exec_recent', 'government', 'indirect_recent', 'irreg_lead_ant', 'lead_recent', 'leg_ant', 'leg_recent', 'male', 'militarycareer', 'month', 'nochange_recent', 'prev_conflict', 'pt_attempt', 'pt_suc', 'ref_ant', 'ref_recent', 'tenure_months', 'victory_recent', 'year']\n"
     ]
    },
    {
     "name": "stdout",
     "output_type": "stream",
     "text": [
      "[1]\tvalidation_set's binary_logloss: 0.047711\n",
      "Training until validation scores don't improve for 4 rounds\n",
      "[2]\tvalidation_set's binary_logloss: 0.0475129\n",
      "[3]\tvalidation_set's binary_logloss: 0.0473609\n",
      "[4]\tvalidation_set's binary_logloss: 0.047464\n",
      "[5]\tvalidation_set's binary_logloss: 0.0484151\n",
      "[6]\tvalidation_set's binary_logloss: 0.049123\n",
      "[7]\tvalidation_set's binary_logloss: 0.0494935\n",
      "Early stopping, best iteration is:\n",
      "[3]\tvalidation_set's binary_logloss: 0.0473609\n"
     ]
    },
    {
     "name": "stderr",
     "output_type": "stream",
     "text": [
      "Found `num_iterations` in params. Will use it instead of argument\n",
      "categorical_feature in Dataset is overridden.\n",
      "New categorical_feature is ['age', 'anticipation', 'change_recent', 'country', 'defeat_recent', 'delayed', 'direct_recent', 'elected', 'election_now', 'election_recent', 'exec_ant', 'exec_recent', 'government', 'indirect_recent', 'irreg_lead_ant', 'lead_recent', 'leg_ant', 'leg_recent', 'male', 'militarycareer', 'month', 'nochange_recent', 'prev_conflict', 'pt_attempt', 'pt_suc', 'ref_ant', 'ref_recent', 'tenure_months', 'victory_recent', 'year']\n"
     ]
    },
    {
     "name": "stdout",
     "output_type": "stream",
     "text": [
      "[1]\tvalidation_set's binary_logloss: 0.0476336\n",
      "Training until validation scores don't improve for 4 rounds\n",
      "[2]\tvalidation_set's binary_logloss: 0.048341\n",
      "[3]\tvalidation_set's binary_logloss: 0.0497212\n",
      "[4]\tvalidation_set's binary_logloss: 0.0502032\n",
      "[5]\tvalidation_set's binary_logloss: 0.0506129\n",
      "Early stopping, best iteration is:\n",
      "[1]\tvalidation_set's binary_logloss: 0.0476336\n"
     ]
    },
    {
     "name": "stderr",
     "output_type": "stream",
     "text": [
      "Found `num_iterations` in params. Will use it instead of argument\n",
      "categorical_feature in Dataset is overridden.\n",
      "New categorical_feature is ['age', 'anticipation', 'change_recent', 'country', 'defeat_recent', 'delayed', 'direct_recent', 'elected', 'election_now', 'election_recent', 'exec_ant', 'exec_recent', 'government', 'indirect_recent', 'irreg_lead_ant', 'lead_recent', 'leg_ant', 'leg_recent', 'male', 'militarycareer', 'month', 'nochange_recent', 'prev_conflict', 'pt_attempt', 'pt_suc', 'ref_ant', 'ref_recent', 'tenure_months', 'victory_recent', 'year']\n"
     ]
    },
    {
     "name": "stdout",
     "output_type": "stream",
     "text": [
      "[1]\tvalidation_set's binary_logloss: 0.0479629\n",
      "Training until validation scores don't improve for 4 rounds\n",
      "[2]\tvalidation_set's binary_logloss: 0.0492517\n",
      "[3]\tvalidation_set's binary_logloss: 0.0496964\n",
      "[4]\tvalidation_set's binary_logloss: 0.0503306\n",
      "[5]\tvalidation_set's binary_logloss: 0.0505961\n",
      "Early stopping, best iteration is:\n",
      "[1]\tvalidation_set's binary_logloss: 0.0479629\n"
     ]
    },
    {
     "name": "stderr",
     "output_type": "stream",
     "text": [
      "Found `num_iterations` in params. Will use it instead of argument\n",
      "categorical_feature in Dataset is overridden.\n",
      "New categorical_feature is ['age', 'anticipation', 'change_recent', 'country', 'defeat_recent', 'delayed', 'direct_recent', 'elected', 'election_now', 'election_recent', 'exec_ant', 'exec_recent', 'government', 'indirect_recent', 'irreg_lead_ant', 'lead_recent', 'leg_ant', 'leg_recent', 'male', 'militarycareer', 'month', 'nochange_recent', 'prev_conflict', 'pt_attempt', 'pt_suc', 'ref_ant', 'ref_recent', 'tenure_months', 'victory_recent', 'year']\n"
     ]
    },
    {
     "name": "stdout",
     "output_type": "stream",
     "text": [
      "[1]\tvalidation_set's binary_logloss: 0.0454302\n",
      "Training until validation scores don't improve for 4 rounds\n",
      "[2]\tvalidation_set's binary_logloss: 0.0457982\n",
      "[3]\tvalidation_set's binary_logloss: 0.0468436\n",
      "[4]\tvalidation_set's binary_logloss: 0.0471963\n",
      "[5]\tvalidation_set's binary_logloss: 0.0476299\n",
      "Early stopping, best iteration is:\n",
      "[1]\tvalidation_set's binary_logloss: 0.0454302\n"
     ]
    },
    {
     "name": "stderr",
     "output_type": "stream",
     "text": [
      "Found `num_iterations` in params. Will use it instead of argument\n",
      "categorical_feature in Dataset is overridden.\n",
      "New categorical_feature is ['age', 'anticipation', 'change_recent', 'country', 'defeat_recent', 'delayed', 'direct_recent', 'elected', 'election_now', 'election_recent', 'exec_ant', 'exec_recent', 'government', 'indirect_recent', 'irreg_lead_ant', 'lead_recent', 'leg_ant', 'leg_recent', 'male', 'militarycareer', 'month', 'nochange_recent', 'prev_conflict', 'pt_attempt', 'pt_suc', 'ref_ant', 'ref_recent', 'tenure_months', 'victory_recent', 'year']\n"
     ]
    },
    {
     "name": "stdout",
     "output_type": "stream",
     "text": [
      "[1]\tvalidation_set's binary_logloss: 0.044893\n",
      "Training until validation scores don't improve for 4 rounds\n",
      "[2]\tvalidation_set's binary_logloss: 0.0447686\n",
      "[3]\tvalidation_set's binary_logloss: 0.044972\n",
      "[4]\tvalidation_set's binary_logloss: 0.0453939\n",
      "[5]\tvalidation_set's binary_logloss: 0.0456088\n",
      "[6]\tvalidation_set's binary_logloss: 0.0457539\n",
      "Early stopping, best iteration is:\n",
      "[2]\tvalidation_set's binary_logloss: 0.0447686\n"
     ]
    },
    {
     "name": "stderr",
     "output_type": "stream",
     "text": [
      "Found `num_iterations` in params. Will use it instead of argument\n",
      "categorical_feature in Dataset is overridden.\n",
      "New categorical_feature is ['age', 'anticipation', 'change_recent', 'country', 'defeat_recent', 'delayed', 'direct_recent', 'elected', 'election_now', 'election_recent', 'exec_ant', 'exec_recent', 'government', 'indirect_recent', 'irreg_lead_ant', 'lead_recent', 'leg_ant', 'leg_recent', 'male', 'militarycareer', 'month', 'nochange_recent', 'prev_conflict', 'pt_attempt', 'pt_suc', 'ref_ant', 'ref_recent', 'tenure_months', 'victory_recent', 'year']\n"
     ]
    },
    {
     "name": "stdout",
     "output_type": "stream",
     "text": [
      "[1]\tvalidation_set's binary_logloss: 0.0450486\n",
      "Training until validation scores don't improve for 4 rounds\n",
      "[2]\tvalidation_set's binary_logloss: 0.0460514\n",
      "[3]\tvalidation_set's binary_logloss: 0.046398\n",
      "[4]\tvalidation_set's binary_logloss: 0.0466665\n",
      "[5]\tvalidation_set's binary_logloss: 0.047153\n",
      "Early stopping, best iteration is:\n",
      "[1]\tvalidation_set's binary_logloss: 0.0450486\n"
     ]
    },
    {
     "name": "stderr",
     "output_type": "stream",
     "text": [
      "Found `num_iterations` in params. Will use it instead of argument\n",
      "categorical_feature in Dataset is overridden.\n",
      "New categorical_feature is ['age', 'anticipation', 'change_recent', 'country', 'defeat_recent', 'delayed', 'direct_recent', 'elected', 'election_now', 'election_recent', 'exec_ant', 'exec_recent', 'government', 'indirect_recent', 'irreg_lead_ant', 'lead_recent', 'leg_ant', 'leg_recent', 'male', 'militarycareer', 'month', 'nochange_recent', 'prev_conflict', 'pt_attempt', 'pt_suc', 'ref_ant', 'ref_recent', 'tenure_months', 'victory_recent', 'year']\n"
     ]
    },
    {
     "name": "stdout",
     "output_type": "stream",
     "text": [
      "[1]\tvalidation_set's binary_logloss: 0.0450211\n",
      "Training until validation scores don't improve for 4 rounds\n",
      "[2]\tvalidation_set's binary_logloss: 0.0467457\n",
      "[3]\tvalidation_set's binary_logloss: 0.0481071\n",
      "[4]\tvalidation_set's binary_logloss: 0.0482163\n",
      "[5]\tvalidation_set's binary_logloss: 0.04881\n",
      "Early stopping, best iteration is:\n",
      "[1]\tvalidation_set's binary_logloss: 0.0450211\n"
     ]
    },
    {
     "name": "stderr",
     "output_type": "stream",
     "text": [
      "Found `num_iterations` in params. Will use it instead of argument\n",
      "categorical_feature in Dataset is overridden.\n",
      "New categorical_feature is ['age', 'anticipation', 'change_recent', 'country', 'defeat_recent', 'delayed', 'direct_recent', 'elected', 'election_now', 'election_recent', 'exec_ant', 'exec_recent', 'government', 'indirect_recent', 'irreg_lead_ant', 'lead_recent', 'leg_ant', 'leg_recent', 'male', 'militarycareer', 'month', 'nochange_recent', 'prev_conflict', 'pt_attempt', 'pt_suc', 'ref_ant', 'ref_recent', 'tenure_months', 'victory_recent', 'year']\n"
     ]
    },
    {
     "name": "stdout",
     "output_type": "stream",
     "text": [
      "[1]\tvalidation_set's binary_logloss: 0.0450614\n",
      "Training until validation scores don't improve for 4 rounds\n",
      "[2]\tvalidation_set's binary_logloss: 0.0454517\n",
      "[3]\tvalidation_set's binary_logloss: 0.045389\n",
      "[4]\tvalidation_set's binary_logloss: 0.0463014\n",
      "[5]\tvalidation_set's binary_logloss: 0.0464526\n",
      "Early stopping, best iteration is:\n",
      "[1]\tvalidation_set's binary_logloss: 0.0450614\n"
     ]
    },
    {
     "name": "stderr",
     "output_type": "stream",
     "text": [
      "Found `num_iterations` in params. Will use it instead of argument\n",
      "categorical_feature in Dataset is overridden.\n",
      "New categorical_feature is ['age', 'anticipation', 'change_recent', 'country', 'defeat_recent', 'delayed', 'direct_recent', 'elected', 'election_now', 'election_recent', 'exec_ant', 'exec_recent', 'government', 'indirect_recent', 'irreg_lead_ant', 'lead_recent', 'leg_ant', 'leg_recent', 'male', 'militarycareer', 'month', 'nochange_recent', 'prev_conflict', 'pt_attempt', 'pt_suc', 'ref_ant', 'ref_recent', 'tenure_months', 'victory_recent', 'year']\n"
     ]
    },
    {
     "name": "stdout",
     "output_type": "stream",
     "text": [
      "[1]\tvalidation_set's binary_logloss: 0.0446617\n",
      "Training until validation scores don't improve for 4 rounds\n",
      "[2]\tvalidation_set's binary_logloss: 0.0450324\n",
      "[3]\tvalidation_set's binary_logloss: 0.045196\n",
      "[4]\tvalidation_set's binary_logloss: 0.046117\n",
      "[5]\tvalidation_set's binary_logloss: 0.0464357\n",
      "Early stopping, best iteration is:\n",
      "[1]\tvalidation_set's binary_logloss: 0.0446617\n"
     ]
    },
    {
     "name": "stderr",
     "output_type": "stream",
     "text": [
      "Found `num_iterations` in params. Will use it instead of argument\n",
      "categorical_feature in Dataset is overridden.\n",
      "New categorical_feature is ['age', 'anticipation', 'change_recent', 'country', 'defeat_recent', 'delayed', 'direct_recent', 'elected', 'election_now', 'election_recent', 'exec_ant', 'exec_recent', 'government', 'indirect_recent', 'irreg_lead_ant', 'lead_recent', 'leg_ant', 'leg_recent', 'male', 'militarycareer', 'month', 'nochange_recent', 'prev_conflict', 'pt_attempt', 'pt_suc', 'ref_ant', 'ref_recent', 'tenure_months', 'victory_recent', 'year']\n"
     ]
    },
    {
     "name": "stdout",
     "output_type": "stream",
     "text": [
      "[1]\tvalidation_set's binary_logloss: 0.0444174\n",
      "Training until validation scores don't improve for 4 rounds\n",
      "[2]\tvalidation_set's binary_logloss: 0.0457384\n",
      "[3]\tvalidation_set's binary_logloss: 0.0464684\n",
      "[4]\tvalidation_set's binary_logloss: 0.0470946\n",
      "[5]\tvalidation_set's binary_logloss: 0.047505\n",
      "Early stopping, best iteration is:\n",
      "[1]\tvalidation_set's binary_logloss: 0.0444174\n"
     ]
    },
    {
     "name": "stderr",
     "output_type": "stream",
     "text": [
      "Found `num_iterations` in params. Will use it instead of argument\n",
      "categorical_feature in Dataset is overridden.\n",
      "New categorical_feature is ['age', 'anticipation', 'change_recent', 'country', 'defeat_recent', 'delayed', 'direct_recent', 'elected', 'election_now', 'election_recent', 'exec_ant', 'exec_recent', 'government', 'indirect_recent', 'irreg_lead_ant', 'lead_recent', 'leg_ant', 'leg_recent', 'male', 'militarycareer', 'month', 'nochange_recent', 'prev_conflict', 'pt_attempt', 'pt_suc', 'ref_ant', 'ref_recent', 'tenure_months', 'victory_recent', 'year']\n"
     ]
    },
    {
     "name": "stdout",
     "output_type": "stream",
     "text": [
      "[1]\tvalidation_set's binary_logloss: 0.0472869\n",
      "Training until validation scores don't improve for 4 rounds\n",
      "[2]\tvalidation_set's binary_logloss: 0.0490419\n",
      "[3]\tvalidation_set's binary_logloss: 0.0502455\n",
      "[4]\tvalidation_set's binary_logloss: 0.05063\n",
      "[5]\tvalidation_set's binary_logloss: 0.0509352\n",
      "Early stopping, best iteration is:\n",
      "[1]\tvalidation_set's binary_logloss: 0.0472869\n"
     ]
    },
    {
     "name": "stderr",
     "output_type": "stream",
     "text": [
      "Found `num_iterations` in params. Will use it instead of argument\n",
      "categorical_feature in Dataset is overridden.\n",
      "New categorical_feature is ['age', 'anticipation', 'change_recent', 'country', 'defeat_recent', 'delayed', 'direct_recent', 'elected', 'election_now', 'election_recent', 'exec_ant', 'exec_recent', 'government', 'indirect_recent', 'irreg_lead_ant', 'lead_recent', 'leg_ant', 'leg_recent', 'male', 'militarycareer', 'month', 'nochange_recent', 'prev_conflict', 'pt_attempt', 'pt_suc', 'ref_ant', 'ref_recent', 'tenure_months', 'victory_recent', 'year']\n"
     ]
    },
    {
     "name": "stdout",
     "output_type": "stream",
     "text": [
      "[1]\tvalidation_set's binary_logloss: 0.0486293\n",
      "Training until validation scores don't improve for 4 rounds\n",
      "[2]\tvalidation_set's binary_logloss: 0.0490098\n",
      "[3]\tvalidation_set's binary_logloss: 0.0497684\n",
      "[4]\tvalidation_set's binary_logloss: 0.0497269\n",
      "[5]\tvalidation_set's binary_logloss: 0.0496868\n",
      "Early stopping, best iteration is:\n",
      "[1]\tvalidation_set's binary_logloss: 0.0486293\n"
     ]
    },
    {
     "name": "stderr",
     "output_type": "stream",
     "text": [
      "Found `num_iterations` in params. Will use it instead of argument\n",
      "categorical_feature in Dataset is overridden.\n",
      "New categorical_feature is ['age', 'anticipation', 'change_recent', 'country', 'defeat_recent', 'delayed', 'direct_recent', 'elected', 'election_now', 'election_recent', 'exec_ant', 'exec_recent', 'government', 'indirect_recent', 'irreg_lead_ant', 'lead_recent', 'leg_ant', 'leg_recent', 'male', 'militarycareer', 'month', 'nochange_recent', 'prev_conflict', 'pt_attempt', 'pt_suc', 'ref_ant', 'ref_recent', 'tenure_months', 'victory_recent', 'year']\n"
     ]
    },
    {
     "name": "stdout",
     "output_type": "stream",
     "text": [
      "[1]\tvalidation_set's binary_logloss: 0.0441836\n",
      "Training until validation scores don't improve for 4 rounds\n",
      "[2]\tvalidation_set's binary_logloss: 0.0454322\n",
      "[3]\tvalidation_set's binary_logloss: 0.045466\n",
      "[4]\tvalidation_set's binary_logloss: 0.0458701\n",
      "[5]\tvalidation_set's binary_logloss: 0.0464326\n",
      "Early stopping, best iteration is:\n",
      "[1]\tvalidation_set's binary_logloss: 0.0441836\n"
     ]
    },
    {
     "name": "stderr",
     "output_type": "stream",
     "text": [
      "Found `num_iterations` in params. Will use it instead of argument\n",
      "categorical_feature in Dataset is overridden.\n",
      "New categorical_feature is ['age', 'anticipation', 'change_recent', 'country', 'defeat_recent', 'delayed', 'direct_recent', 'elected', 'election_now', 'election_recent', 'exec_ant', 'exec_recent', 'government', 'indirect_recent', 'irreg_lead_ant', 'lead_recent', 'leg_ant', 'leg_recent', 'male', 'militarycareer', 'month', 'nochange_recent', 'prev_conflict', 'pt_attempt', 'pt_suc', 'ref_ant', 'ref_recent', 'tenure_months', 'victory_recent', 'year']\n"
     ]
    },
    {
     "name": "stdout",
     "output_type": "stream",
     "text": [
      "[1]\tvalidation_set's binary_logloss: 0.045189\n",
      "Training until validation scores don't improve for 4 rounds\n",
      "[2]\tvalidation_set's binary_logloss: 0.0460379\n",
      "[3]\tvalidation_set's binary_logloss: 0.0466811\n",
      "[4]\tvalidation_set's binary_logloss: 0.0469271\n",
      "[5]\tvalidation_set's binary_logloss: 0.0474774\n",
      "Early stopping, best iteration is:\n",
      "[1]\tvalidation_set's binary_logloss: 0.045189\n"
     ]
    },
    {
     "name": "stderr",
     "output_type": "stream",
     "text": [
      "Found `num_iterations` in params. Will use it instead of argument\n",
      "categorical_feature in Dataset is overridden.\n",
      "New categorical_feature is ['age', 'anticipation', 'change_recent', 'country', 'defeat_recent', 'delayed', 'direct_recent', 'elected', 'election_now', 'election_recent', 'exec_ant', 'exec_recent', 'government', 'indirect_recent', 'irreg_lead_ant', 'lead_recent', 'leg_ant', 'leg_recent', 'male', 'militarycareer', 'month', 'nochange_recent', 'prev_conflict', 'pt_attempt', 'pt_suc', 'ref_ant', 'ref_recent', 'tenure_months', 'victory_recent', 'year']\n"
     ]
    },
    {
     "name": "stdout",
     "output_type": "stream",
     "text": [
      "[1]\tvalidation_set's binary_logloss: 0.0454341\n",
      "Training until validation scores don't improve for 4 rounds\n",
      "[2]\tvalidation_set's binary_logloss: 0.0470642\n",
      "[3]\tvalidation_set's binary_logloss: 0.0479468\n",
      "[4]\tvalidation_set's binary_logloss: 0.0486213\n",
      "[5]\tvalidation_set's binary_logloss: 0.0485471\n",
      "Early stopping, best iteration is:\n",
      "[1]\tvalidation_set's binary_logloss: 0.0454341\n"
     ]
    },
    {
     "name": "stderr",
     "output_type": "stream",
     "text": [
      "Found `num_iterations` in params. Will use it instead of argument\n",
      "categorical_feature in Dataset is overridden.\n",
      "New categorical_feature is ['age', 'anticipation', 'change_recent', 'country', 'defeat_recent', 'delayed', 'direct_recent', 'elected', 'election_now', 'election_recent', 'exec_ant', 'exec_recent', 'government', 'indirect_recent', 'irreg_lead_ant', 'lead_recent', 'leg_ant', 'leg_recent', 'male', 'militarycareer', 'month', 'nochange_recent', 'prev_conflict', 'pt_attempt', 'pt_suc', 'ref_ant', 'ref_recent', 'tenure_months', 'victory_recent', 'year']\n"
     ]
    },
    {
     "name": "stdout",
     "output_type": "stream",
     "text": [
      "[1]\tvalidation_set's binary_logloss: 0.0449602\n",
      "Training until validation scores don't improve for 4 rounds\n",
      "[2]\tvalidation_set's binary_logloss: 0.0461643\n",
      "[3]\tvalidation_set's binary_logloss: 0.0461854\n",
      "[4]\tvalidation_set's binary_logloss: 0.0464649\n",
      "[5]\tvalidation_set's binary_logloss: 0.0462984\n",
      "Early stopping, best iteration is:\n",
      "[1]\tvalidation_set's binary_logloss: 0.0449602\n"
     ]
    },
    {
     "name": "stderr",
     "output_type": "stream",
     "text": [
      "Found `num_iterations` in params. Will use it instead of argument\n",
      "categorical_feature in Dataset is overridden.\n",
      "New categorical_feature is ['age', 'anticipation', 'change_recent', 'country', 'defeat_recent', 'delayed', 'direct_recent', 'elected', 'election_now', 'election_recent', 'exec_ant', 'exec_recent', 'government', 'indirect_recent', 'irreg_lead_ant', 'lead_recent', 'leg_ant', 'leg_recent', 'male', 'militarycareer', 'month', 'nochange_recent', 'prev_conflict', 'pt_attempt', 'pt_suc', 'ref_ant', 'ref_recent', 'tenure_months', 'victory_recent', 'year']\n"
     ]
    },
    {
     "name": "stdout",
     "output_type": "stream",
     "text": [
      "[1]\tvalidation_set's binary_logloss: 0.0439156\n",
      "Training until validation scores don't improve for 4 rounds\n",
      "[2]\tvalidation_set's binary_logloss: 0.0446368\n",
      "[3]\tvalidation_set's binary_logloss: 0.0443881\n",
      "[4]\tvalidation_set's binary_logloss: 0.0448467\n",
      "[5]\tvalidation_set's binary_logloss: 0.0451633\n",
      "Early stopping, best iteration is:\n",
      "[1]\tvalidation_set's binary_logloss: 0.0439156\n"
     ]
    },
    {
     "name": "stderr",
     "output_type": "stream",
     "text": [
      "Found `num_iterations` in params. Will use it instead of argument\n",
      "categorical_feature in Dataset is overridden.\n",
      "New categorical_feature is ['age', 'anticipation', 'change_recent', 'country', 'defeat_recent', 'delayed', 'direct_recent', 'elected', 'election_now', 'election_recent', 'exec_ant', 'exec_recent', 'government', 'indirect_recent', 'irreg_lead_ant', 'lead_recent', 'leg_ant', 'leg_recent', 'male', 'militarycareer', 'month', 'nochange_recent', 'prev_conflict', 'pt_attempt', 'pt_suc', 'ref_ant', 'ref_recent', 'tenure_months', 'victory_recent', 'year']\n"
     ]
    },
    {
     "name": "stdout",
     "output_type": "stream",
     "text": [
      "[1]\tvalidation_set's binary_logloss: 0.0450788\n",
      "Training until validation scores don't improve for 4 rounds\n",
      "[2]\tvalidation_set's binary_logloss: 0.0457148\n",
      "[3]\tvalidation_set's binary_logloss: 0.0458596\n",
      "[4]\tvalidation_set's binary_logloss: 0.0458753\n",
      "[5]\tvalidation_set's binary_logloss: 0.0456004\n",
      "Early stopping, best iteration is:\n",
      "[1]\tvalidation_set's binary_logloss: 0.0450788\n"
     ]
    },
    {
     "name": "stderr",
     "output_type": "stream",
     "text": [
      "Found `num_iterations` in params. Will use it instead of argument\n",
      "categorical_feature in Dataset is overridden.\n",
      "New categorical_feature is ['age', 'anticipation', 'change_recent', 'country', 'defeat_recent', 'delayed', 'direct_recent', 'elected', 'election_now', 'election_recent', 'exec_ant', 'exec_recent', 'government', 'indirect_recent', 'irreg_lead_ant', 'lead_recent', 'leg_ant', 'leg_recent', 'male', 'militarycareer', 'month', 'nochange_recent', 'prev_conflict', 'pt_attempt', 'pt_suc', 'ref_ant', 'ref_recent', 'tenure_months', 'victory_recent', 'year']\n"
     ]
    },
    {
     "name": "stdout",
     "output_type": "stream",
     "text": [
      "[1]\tvalidation_set's binary_logloss: 0.0456362\n",
      "Training until validation scores don't improve for 4 rounds\n",
      "[2]\tvalidation_set's binary_logloss: 0.04815\n",
      "[3]\tvalidation_set's binary_logloss: 0.049618\n",
      "[4]\tvalidation_set's binary_logloss: 0.0497078\n",
      "[5]\tvalidation_set's binary_logloss: 0.0502228\n",
      "Early stopping, best iteration is:\n",
      "[1]\tvalidation_set's binary_logloss: 0.0456362\n"
     ]
    },
    {
     "name": "stderr",
     "output_type": "stream",
     "text": [
      "Found `num_iterations` in params. Will use it instead of argument\n",
      "categorical_feature in Dataset is overridden.\n",
      "New categorical_feature is ['age', 'anticipation', 'change_recent', 'country', 'defeat_recent', 'delayed', 'direct_recent', 'elected', 'election_now', 'election_recent', 'exec_ant', 'exec_recent', 'government', 'indirect_recent', 'irreg_lead_ant', 'lead_recent', 'leg_ant', 'leg_recent', 'male', 'militarycareer', 'month', 'nochange_recent', 'prev_conflict', 'pt_attempt', 'pt_suc', 'ref_ant', 'ref_recent', 'tenure_months', 'victory_recent', 'year']\n"
     ]
    },
    {
     "name": "stdout",
     "output_type": "stream",
     "text": [
      "[1]\tvalidation_set's binary_logloss: 0.0453121\n",
      "Training until validation scores don't improve for 4 rounds\n",
      "[2]\tvalidation_set's binary_logloss: 0.0463264\n",
      "[3]\tvalidation_set's binary_logloss: 0.047097\n",
      "[4]\tvalidation_set's binary_logloss: 0.0476797\n",
      "[5]\tvalidation_set's binary_logloss: 0.0478011\n",
      "Early stopping, best iteration is:\n",
      "[1]\tvalidation_set's binary_logloss: 0.0453121\n"
     ]
    },
    {
     "name": "stderr",
     "output_type": "stream",
     "text": [
      "Found `num_iterations` in params. Will use it instead of argument\n",
      "categorical_feature in Dataset is overridden.\n",
      "New categorical_feature is ['age', 'anticipation', 'change_recent', 'country', 'defeat_recent', 'delayed', 'direct_recent', 'elected', 'election_now', 'election_recent', 'exec_ant', 'exec_recent', 'government', 'indirect_recent', 'irreg_lead_ant', 'lead_recent', 'leg_ant', 'leg_recent', 'male', 'militarycareer', 'month', 'nochange_recent', 'prev_conflict', 'pt_attempt', 'pt_suc', 'ref_ant', 'ref_recent', 'tenure_months', 'victory_recent', 'year']\n"
     ]
    },
    {
     "name": "stdout",
     "output_type": "stream",
     "text": [
      "[1]\tvalidation_set's binary_logloss: 0.0456913\n",
      "Training until validation scores don't improve for 4 rounds\n",
      "[2]\tvalidation_set's binary_logloss: 0.0469753\n",
      "[3]\tvalidation_set's binary_logloss: 0.0474938\n",
      "[4]\tvalidation_set's binary_logloss: 0.048326\n",
      "[5]\tvalidation_set's binary_logloss: 0.0493263\n",
      "Early stopping, best iteration is:\n",
      "[1]\tvalidation_set's binary_logloss: 0.0456913\n"
     ]
    },
    {
     "name": "stderr",
     "output_type": "stream",
     "text": [
      "Found `num_iterations` in params. Will use it instead of argument\n",
      "categorical_feature in Dataset is overridden.\n",
      "New categorical_feature is ['age', 'anticipation', 'change_recent', 'country', 'defeat_recent', 'delayed', 'direct_recent', 'elected', 'election_now', 'election_recent', 'exec_ant', 'exec_recent', 'government', 'indirect_recent', 'irreg_lead_ant', 'lead_recent', 'leg_ant', 'leg_recent', 'male', 'militarycareer', 'month', 'nochange_recent', 'prev_conflict', 'pt_attempt', 'pt_suc', 'ref_ant', 'ref_recent', 'tenure_months', 'victory_recent', 'year']\n"
     ]
    },
    {
     "name": "stdout",
     "output_type": "stream",
     "text": [
      "[1]\tvalidation_set's binary_logloss: 0.0450492\n",
      "Training until validation scores don't improve for 4 rounds\n",
      "[2]\tvalidation_set's binary_logloss: 0.0454843\n",
      "[3]\tvalidation_set's binary_logloss: 0.0455824\n",
      "[4]\tvalidation_set's binary_logloss: 0.0463957\n",
      "[5]\tvalidation_set's binary_logloss: 0.0465244\n",
      "Early stopping, best iteration is:\n",
      "[1]\tvalidation_set's binary_logloss: 0.0450492\n"
     ]
    },
    {
     "name": "stderr",
     "output_type": "stream",
     "text": [
      "Found `num_iterations` in params. Will use it instead of argument\n",
      "categorical_feature in Dataset is overridden.\n",
      "New categorical_feature is ['age', 'anticipation', 'change_recent', 'country', 'defeat_recent', 'delayed', 'direct_recent', 'elected', 'election_now', 'election_recent', 'exec_ant', 'exec_recent', 'government', 'indirect_recent', 'irreg_lead_ant', 'lead_recent', 'leg_ant', 'leg_recent', 'male', 'militarycareer', 'month', 'nochange_recent', 'prev_conflict', 'pt_attempt', 'pt_suc', 'ref_ant', 'ref_recent', 'tenure_months', 'victory_recent', 'year']\n"
     ]
    },
    {
     "name": "stdout",
     "output_type": "stream",
     "text": [
      "[1]\tvalidation_set's binary_logloss: 0.0438107\n",
      "Training until validation scores don't improve for 4 rounds\n",
      "[2]\tvalidation_set's binary_logloss: 0.0454883\n",
      "[3]\tvalidation_set's binary_logloss: 0.046861\n",
      "[4]\tvalidation_set's binary_logloss: 0.0463853\n",
      "[5]\tvalidation_set's binary_logloss: 0.0475488\n",
      "Early stopping, best iteration is:\n",
      "[1]\tvalidation_set's binary_logloss: 0.0438107\n"
     ]
    },
    {
     "name": "stderr",
     "output_type": "stream",
     "text": [
      "Found `num_iterations` in params. Will use it instead of argument\n",
      "categorical_feature in Dataset is overridden.\n",
      "New categorical_feature is ['age', 'anticipation', 'change_recent', 'country', 'defeat_recent', 'delayed', 'direct_recent', 'elected', 'election_now', 'election_recent', 'exec_ant', 'exec_recent', 'government', 'indirect_recent', 'irreg_lead_ant', 'lead_recent', 'leg_ant', 'leg_recent', 'male', 'militarycareer', 'month', 'nochange_recent', 'prev_conflict', 'pt_attempt', 'pt_suc', 'ref_ant', 'ref_recent', 'tenure_months', 'victory_recent', 'year']\n"
     ]
    },
    {
     "name": "stdout",
     "output_type": "stream",
     "text": [
      "[1]\tvalidation_set's binary_logloss: 0.0449963\n",
      "Training until validation scores don't improve for 4 rounds\n",
      "[2]\tvalidation_set's binary_logloss: 0.0457627\n",
      "[3]\tvalidation_set's binary_logloss: 0.0480392\n",
      "[4]\tvalidation_set's binary_logloss: 0.0493901\n",
      "[5]\tvalidation_set's binary_logloss: 0.0498291\n",
      "Early stopping, best iteration is:\n",
      "[1]\tvalidation_set's binary_logloss: 0.0449963\n"
     ]
    },
    {
     "name": "stderr",
     "output_type": "stream",
     "text": [
      "Found `num_iterations` in params. Will use it instead of argument\n",
      "categorical_feature in Dataset is overridden.\n",
      "New categorical_feature is ['age', 'anticipation', 'change_recent', 'country', 'defeat_recent', 'delayed', 'direct_recent', 'elected', 'election_now', 'election_recent', 'exec_ant', 'exec_recent', 'government', 'indirect_recent', 'irreg_lead_ant', 'lead_recent', 'leg_ant', 'leg_recent', 'male', 'militarycareer', 'month', 'nochange_recent', 'prev_conflict', 'pt_attempt', 'pt_suc', 'ref_ant', 'ref_recent', 'tenure_months', 'victory_recent', 'year']\n"
     ]
    },
    {
     "name": "stdout",
     "output_type": "stream",
     "text": [
      "[1]\tvalidation_set's binary_logloss: 0.0446671\n",
      "Training until validation scores don't improve for 4 rounds\n",
      "[2]\tvalidation_set's binary_logloss: 0.0451477\n",
      "[3]\tvalidation_set's binary_logloss: 0.0455293\n",
      "[4]\tvalidation_set's binary_logloss: 0.0457212\n",
      "[5]\tvalidation_set's binary_logloss: 0.0461752\n",
      "Early stopping, best iteration is:\n",
      "[1]\tvalidation_set's binary_logloss: 0.0446671\n"
     ]
    },
    {
     "name": "stderr",
     "output_type": "stream",
     "text": [
      "Found `num_iterations` in params. Will use it instead of argument\n",
      "categorical_feature in Dataset is overridden.\n",
      "New categorical_feature is ['age', 'anticipation', 'change_recent', 'country', 'defeat_recent', 'delayed', 'direct_recent', 'elected', 'election_now', 'election_recent', 'exec_ant', 'exec_recent', 'government', 'indirect_recent', 'irreg_lead_ant', 'lead_recent', 'leg_ant', 'leg_recent', 'male', 'militarycareer', 'month', 'nochange_recent', 'prev_conflict', 'pt_attempt', 'pt_suc', 'ref_ant', 'ref_recent', 'tenure_months', 'victory_recent', 'year']\n"
     ]
    },
    {
     "name": "stdout",
     "output_type": "stream",
     "text": [
      "[1]\tvalidation_set's binary_logloss: 0.0450343\n",
      "Training until validation scores don't improve for 4 rounds\n",
      "[2]\tvalidation_set's binary_logloss: 0.0457896\n",
      "[3]\tvalidation_set's binary_logloss: 0.0461184\n",
      "[4]\tvalidation_set's binary_logloss: 0.0471566\n",
      "[5]\tvalidation_set's binary_logloss: 0.0469358\n",
      "Early stopping, best iteration is:\n",
      "[1]\tvalidation_set's binary_logloss: 0.0450343\n"
     ]
    },
    {
     "name": "stderr",
     "output_type": "stream",
     "text": [
      "Found `num_iterations` in params. Will use it instead of argument\n",
      "categorical_feature in Dataset is overridden.\n",
      "New categorical_feature is ['age', 'anticipation', 'change_recent', 'country', 'defeat_recent', 'delayed', 'direct_recent', 'elected', 'election_now', 'election_recent', 'exec_ant', 'exec_recent', 'government', 'indirect_recent', 'irreg_lead_ant', 'lead_recent', 'leg_ant', 'leg_recent', 'male', 'militarycareer', 'month', 'nochange_recent', 'prev_conflict', 'pt_attempt', 'pt_suc', 'ref_ant', 'ref_recent', 'tenure_months', 'victory_recent', 'year']\n"
     ]
    },
    {
     "name": "stdout",
     "output_type": "stream",
     "text": [
      "[1]\tvalidation_set's binary_logloss: 0.043846\n",
      "Training until validation scores don't improve for 4 rounds\n",
      "[2]\tvalidation_set's binary_logloss: 0.0459139\n",
      "[3]\tvalidation_set's binary_logloss: 0.0463575\n",
      "[4]\tvalidation_set's binary_logloss: 0.0462939\n",
      "[5]\tvalidation_set's binary_logloss: 0.0466437\n",
      "Early stopping, best iteration is:\n",
      "[1]\tvalidation_set's binary_logloss: 0.043846\n"
     ]
    },
    {
     "name": "stderr",
     "output_type": "stream",
     "text": [
      "Found `num_iterations` in params. Will use it instead of argument\n",
      "categorical_feature in Dataset is overridden.\n",
      "New categorical_feature is ['age', 'anticipation', 'change_recent', 'country', 'defeat_recent', 'delayed', 'direct_recent', 'elected', 'election_now', 'election_recent', 'exec_ant', 'exec_recent', 'government', 'indirect_recent', 'irreg_lead_ant', 'lead_recent', 'leg_ant', 'leg_recent', 'male', 'militarycareer', 'month', 'nochange_recent', 'prev_conflict', 'pt_attempt', 'pt_suc', 'ref_ant', 'ref_recent', 'tenure_months', 'victory_recent', 'year']\n"
     ]
    },
    {
     "name": "stdout",
     "output_type": "stream",
     "text": [
      "[1]\tvalidation_set's binary_logloss: 0.0435023\n",
      "Training until validation scores don't improve for 4 rounds\n",
      "[2]\tvalidation_set's binary_logloss: 0.0442206\n",
      "[3]\tvalidation_set's binary_logloss: 0.044874\n",
      "[4]\tvalidation_set's binary_logloss: 0.0455773\n",
      "[5]\tvalidation_set's binary_logloss: 0.0456579\n",
      "Early stopping, best iteration is:\n",
      "[1]\tvalidation_set's binary_logloss: 0.0435023\n"
     ]
    },
    {
     "name": "stderr",
     "output_type": "stream",
     "text": [
      "Found `num_iterations` in params. Will use it instead of argument\n",
      "categorical_feature in Dataset is overridden.\n",
      "New categorical_feature is ['age', 'anticipation', 'change_recent', 'country', 'defeat_recent', 'delayed', 'direct_recent', 'elected', 'election_now', 'election_recent', 'exec_ant', 'exec_recent', 'government', 'indirect_recent', 'irreg_lead_ant', 'lead_recent', 'leg_ant', 'leg_recent', 'male', 'militarycareer', 'month', 'nochange_recent', 'prev_conflict', 'pt_attempt', 'pt_suc', 'ref_ant', 'ref_recent', 'tenure_months', 'victory_recent', 'year']\n"
     ]
    },
    {
     "name": "stdout",
     "output_type": "stream",
     "text": [
      "[1]\tvalidation_set's binary_logloss: 0.0451993\n",
      "Training until validation scores don't improve for 4 rounds\n",
      "[2]\tvalidation_set's binary_logloss: 0.0466495\n",
      "[3]\tvalidation_set's binary_logloss: 0.0470188\n",
      "[4]\tvalidation_set's binary_logloss: 0.04783\n",
      "[5]\tvalidation_set's binary_logloss: 0.0476285\n",
      "Early stopping, best iteration is:\n",
      "[1]\tvalidation_set's binary_logloss: 0.0451993\n"
     ]
    },
    {
     "name": "stderr",
     "output_type": "stream",
     "text": [
      "Found `num_iterations` in params. Will use it instead of argument\n",
      "categorical_feature in Dataset is overridden.\n",
      "New categorical_feature is ['age', 'anticipation', 'change_recent', 'country', 'defeat_recent', 'delayed', 'direct_recent', 'elected', 'election_now', 'election_recent', 'exec_ant', 'exec_recent', 'government', 'indirect_recent', 'irreg_lead_ant', 'lead_recent', 'leg_ant', 'leg_recent', 'male', 'militarycareer', 'month', 'nochange_recent', 'prev_conflict', 'pt_attempt', 'pt_suc', 'ref_ant', 'ref_recent', 'tenure_months', 'victory_recent', 'year']\n"
     ]
    },
    {
     "name": "stdout",
     "output_type": "stream",
     "text": [
      "[1]\tvalidation_set's binary_logloss: 0.0432474\n",
      "Training until validation scores don't improve for 4 rounds\n",
      "[2]\tvalidation_set's binary_logloss: 0.0444324\n",
      "[3]\tvalidation_set's binary_logloss: 0.0445496\n",
      "[4]\tvalidation_set's binary_logloss: 0.0446965\n",
      "[5]\tvalidation_set's binary_logloss: 0.045227\n",
      "Early stopping, best iteration is:\n",
      "[1]\tvalidation_set's binary_logloss: 0.0432474\n"
     ]
    },
    {
     "name": "stderr",
     "output_type": "stream",
     "text": [
      "Found `num_iterations` in params. Will use it instead of argument\n",
      "categorical_feature in Dataset is overridden.\n",
      "New categorical_feature is ['age', 'anticipation', 'change_recent', 'country', 'defeat_recent', 'delayed', 'direct_recent', 'elected', 'election_now', 'election_recent', 'exec_ant', 'exec_recent', 'government', 'indirect_recent', 'irreg_lead_ant', 'lead_recent', 'leg_ant', 'leg_recent', 'male', 'militarycareer', 'month', 'nochange_recent', 'prev_conflict', 'pt_attempt', 'pt_suc', 'ref_ant', 'ref_recent', 'tenure_months', 'victory_recent', 'year']\n"
     ]
    },
    {
     "name": "stdout",
     "output_type": "stream",
     "text": [
      "[1]\tvalidation_set's binary_logloss: 0.0430578\n",
      "Training until validation scores don't improve for 4 rounds\n",
      "[2]\tvalidation_set's binary_logloss: 0.0444365\n",
      "[3]\tvalidation_set's binary_logloss: 0.0465081\n",
      "[4]\tvalidation_set's binary_logloss: 0.0465205\n",
      "[5]\tvalidation_set's binary_logloss: 0.0469012\n",
      "Early stopping, best iteration is:\n",
      "[1]\tvalidation_set's binary_logloss: 0.0430578\n"
     ]
    },
    {
     "name": "stderr",
     "output_type": "stream",
     "text": [
      "Found `num_iterations` in params. Will use it instead of argument\n",
      "categorical_feature in Dataset is overridden.\n",
      "New categorical_feature is ['age', 'anticipation', 'change_recent', 'country', 'defeat_recent', 'delayed', 'direct_recent', 'elected', 'election_now', 'election_recent', 'exec_ant', 'exec_recent', 'government', 'indirect_recent', 'irreg_lead_ant', 'lead_recent', 'leg_ant', 'leg_recent', 'male', 'militarycareer', 'month', 'nochange_recent', 'prev_conflict', 'pt_attempt', 'pt_suc', 'ref_ant', 'ref_recent', 'tenure_months', 'victory_recent', 'year']\n"
     ]
    },
    {
     "name": "stdout",
     "output_type": "stream",
     "text": [
      "[1]\tvalidation_set's binary_logloss: 0.0431906\n",
      "Training until validation scores don't improve for 4 rounds\n",
      "[2]\tvalidation_set's binary_logloss: 0.04493\n",
      "[3]\tvalidation_set's binary_logloss: 0.0454502\n",
      "[4]\tvalidation_set's binary_logloss: 0.0469887\n",
      "[5]\tvalidation_set's binary_logloss: 0.0474109\n",
      "Early stopping, best iteration is:\n",
      "[1]\tvalidation_set's binary_logloss: 0.0431906\n"
     ]
    },
    {
     "name": "stderr",
     "output_type": "stream",
     "text": [
      "Found `num_iterations` in params. Will use it instead of argument\n",
      "categorical_feature in Dataset is overridden.\n",
      "New categorical_feature is ['age', 'anticipation', 'change_recent', 'country', 'defeat_recent', 'delayed', 'direct_recent', 'elected', 'election_now', 'election_recent', 'exec_ant', 'exec_recent', 'government', 'indirect_recent', 'irreg_lead_ant', 'lead_recent', 'leg_ant', 'leg_recent', 'male', 'militarycareer', 'month', 'nochange_recent', 'prev_conflict', 'pt_attempt', 'pt_suc', 'ref_ant', 'ref_recent', 'tenure_months', 'victory_recent', 'year']\n"
     ]
    },
    {
     "name": "stdout",
     "output_type": "stream",
     "text": [
      "[1]\tvalidation_set's binary_logloss: 0.0447379\n",
      "Training until validation scores don't improve for 4 rounds\n",
      "[2]\tvalidation_set's binary_logloss: 0.044524\n",
      "[3]\tvalidation_set's binary_logloss: 0.0457046\n",
      "[4]\tvalidation_set's binary_logloss: 0.0463124\n",
      "[5]\tvalidation_set's binary_logloss: 0.0468237\n",
      "[6]\tvalidation_set's binary_logloss: 0.047288\n",
      "Early stopping, best iteration is:\n",
      "[2]\tvalidation_set's binary_logloss: 0.044524\n"
     ]
    },
    {
     "name": "stderr",
     "output_type": "stream",
     "text": [
      "Found `num_iterations` in params. Will use it instead of argument\n",
      "categorical_feature in Dataset is overridden.\n",
      "New categorical_feature is ['age', 'anticipation', 'change_recent', 'country', 'defeat_recent', 'delayed', 'direct_recent', 'elected', 'election_now', 'election_recent', 'exec_ant', 'exec_recent', 'government', 'indirect_recent', 'irreg_lead_ant', 'lead_recent', 'leg_ant', 'leg_recent', 'male', 'militarycareer', 'month', 'nochange_recent', 'prev_conflict', 'pt_attempt', 'pt_suc', 'ref_ant', 'ref_recent', 'tenure_months', 'victory_recent', 'year']\n"
     ]
    },
    {
     "name": "stdout",
     "output_type": "stream",
     "text": [
      "[1]\tvalidation_set's binary_logloss: 0.0441672\n",
      "Training until validation scores don't improve for 4 rounds\n",
      "[2]\tvalidation_set's binary_logloss: 0.0455413\n",
      "[3]\tvalidation_set's binary_logloss: 0.0456768\n",
      "[4]\tvalidation_set's binary_logloss: 0.0459649\n",
      "[5]\tvalidation_set's binary_logloss: 0.0463581\n",
      "Early stopping, best iteration is:\n",
      "[1]\tvalidation_set's binary_logloss: 0.0441672\n"
     ]
    },
    {
     "name": "stderr",
     "output_type": "stream",
     "text": [
      "Found `num_iterations` in params. Will use it instead of argument\n",
      "categorical_feature in Dataset is overridden.\n",
      "New categorical_feature is ['age', 'anticipation', 'change_recent', 'country', 'defeat_recent', 'delayed', 'direct_recent', 'elected', 'election_now', 'election_recent', 'exec_ant', 'exec_recent', 'government', 'indirect_recent', 'irreg_lead_ant', 'lead_recent', 'leg_ant', 'leg_recent', 'male', 'militarycareer', 'month', 'nochange_recent', 'prev_conflict', 'pt_attempt', 'pt_suc', 'ref_ant', 'ref_recent', 'tenure_months', 'victory_recent', 'year']\n"
     ]
    },
    {
     "name": "stdout",
     "output_type": "stream",
     "text": [
      "[1]\tvalidation_set's binary_logloss: 0.0445029\n",
      "Training until validation scores don't improve for 4 rounds\n",
      "[2]\tvalidation_set's binary_logloss: 0.0442476\n",
      "[3]\tvalidation_set's binary_logloss: 0.0445919\n",
      "[4]\tvalidation_set's binary_logloss: 0.0453951\n",
      "[5]\tvalidation_set's binary_logloss: 0.0454674\n",
      "[6]\tvalidation_set's binary_logloss: 0.0455367\n",
      "Early stopping, best iteration is:\n",
      "[2]\tvalidation_set's binary_logloss: 0.0442476\n"
     ]
    },
    {
     "name": "stderr",
     "output_type": "stream",
     "text": [
      "Found `num_iterations` in params. Will use it instead of argument\n",
      "categorical_feature in Dataset is overridden.\n",
      "New categorical_feature is ['age', 'anticipation', 'change_recent', 'country', 'defeat_recent', 'delayed', 'direct_recent', 'elected', 'election_now', 'election_recent', 'exec_ant', 'exec_recent', 'government', 'indirect_recent', 'irreg_lead_ant', 'lead_recent', 'leg_ant', 'leg_recent', 'male', 'militarycareer', 'month', 'nochange_recent', 'prev_conflict', 'pt_attempt', 'pt_suc', 'ref_ant', 'ref_recent', 'tenure_months', 'victory_recent', 'year']\n"
     ]
    },
    {
     "name": "stdout",
     "output_type": "stream",
     "text": [
      "[1]\tvalidation_set's binary_logloss: 0.0453858\n",
      "Training until validation scores don't improve for 4 rounds\n",
      "[2]\tvalidation_set's binary_logloss: 0.0463443\n",
      "[3]\tvalidation_set's binary_logloss: 0.048174\n",
      "[4]\tvalidation_set's binary_logloss: 0.049064\n",
      "[5]\tvalidation_set's binary_logloss: 0.0495529\n",
      "Early stopping, best iteration is:\n",
      "[1]\tvalidation_set's binary_logloss: 0.0453858\n"
     ]
    },
    {
     "name": "stderr",
     "output_type": "stream",
     "text": [
      "Found `num_iterations` in params. Will use it instead of argument\n",
      "categorical_feature in Dataset is overridden.\n",
      "New categorical_feature is ['age', 'anticipation', 'change_recent', 'country', 'defeat_recent', 'delayed', 'direct_recent', 'elected', 'election_now', 'election_recent', 'exec_ant', 'exec_recent', 'government', 'indirect_recent', 'irreg_lead_ant', 'lead_recent', 'leg_ant', 'leg_recent', 'male', 'militarycareer', 'month', 'nochange_recent', 'prev_conflict', 'pt_attempt', 'pt_suc', 'ref_ant', 'ref_recent', 'tenure_months', 'victory_recent', 'year']\n"
     ]
    },
    {
     "name": "stdout",
     "output_type": "stream",
     "text": [
      "[1]\tvalidation_set's binary_logloss: 0.0432996\n",
      "Training until validation scores don't improve for 4 rounds\n",
      "[2]\tvalidation_set's binary_logloss: 0.0446098\n",
      "[3]\tvalidation_set's binary_logloss: 0.0459554\n",
      "[4]\tvalidation_set's binary_logloss: 0.0461021\n",
      "[5]\tvalidation_set's binary_logloss: 0.046451\n",
      "Early stopping, best iteration is:\n",
      "[1]\tvalidation_set's binary_logloss: 0.0432996\n"
     ]
    },
    {
     "name": "stderr",
     "output_type": "stream",
     "text": [
      "Found `num_iterations` in params. Will use it instead of argument\n",
      "categorical_feature in Dataset is overridden.\n",
      "New categorical_feature is ['age', 'anticipation', 'change_recent', 'country', 'defeat_recent', 'delayed', 'direct_recent', 'elected', 'election_now', 'election_recent', 'exec_ant', 'exec_recent', 'government', 'indirect_recent', 'irreg_lead_ant', 'lead_recent', 'leg_ant', 'leg_recent', 'male', 'militarycareer', 'month', 'nochange_recent', 'prev_conflict', 'pt_attempt', 'pt_suc', 'ref_ant', 'ref_recent', 'tenure_months', 'victory_recent', 'year']\n"
     ]
    },
    {
     "name": "stdout",
     "output_type": "stream",
     "text": [
      "[1]\tvalidation_set's binary_logloss: 0.0437869\n",
      "Training until validation scores don't improve for 4 rounds\n",
      "[2]\tvalidation_set's binary_logloss: 0.0445433\n",
      "[3]\tvalidation_set's binary_logloss: 0.0451831\n",
      "[4]\tvalidation_set's binary_logloss: 0.0461439\n",
      "[5]\tvalidation_set's binary_logloss: 0.0465899\n",
      "Early stopping, best iteration is:\n",
      "[1]\tvalidation_set's binary_logloss: 0.0437869\n"
     ]
    },
    {
     "name": "stderr",
     "output_type": "stream",
     "text": [
      "Found `num_iterations` in params. Will use it instead of argument\n",
      "categorical_feature in Dataset is overridden.\n",
      "New categorical_feature is ['age', 'anticipation', 'change_recent', 'country', 'defeat_recent', 'delayed', 'direct_recent', 'elected', 'election_now', 'election_recent', 'exec_ant', 'exec_recent', 'government', 'indirect_recent', 'irreg_lead_ant', 'lead_recent', 'leg_ant', 'leg_recent', 'male', 'militarycareer', 'month', 'nochange_recent', 'prev_conflict', 'pt_attempt', 'pt_suc', 'ref_ant', 'ref_recent', 'tenure_months', 'victory_recent', 'year']\n"
     ]
    },
    {
     "name": "stdout",
     "output_type": "stream",
     "text": [
      "[1]\tvalidation_set's binary_logloss: 0.0493219\n",
      "Training until validation scores don't improve for 4 rounds\n",
      "[2]\tvalidation_set's binary_logloss: 0.0497056\n",
      "[3]\tvalidation_set's binary_logloss: 0.0507047\n",
      "[4]\tvalidation_set's binary_logloss: 0.0516312\n",
      "[5]\tvalidation_set's binary_logloss: 0.0511834\n",
      "Early stopping, best iteration is:\n",
      "[1]\tvalidation_set's binary_logloss: 0.0493219\n"
     ]
    },
    {
     "name": "stderr",
     "output_type": "stream",
     "text": [
      "Found `num_iterations` in params. Will use it instead of argument\n",
      "categorical_feature in Dataset is overridden.\n",
      "New categorical_feature is ['age', 'anticipation', 'change_recent', 'country', 'defeat_recent', 'delayed', 'direct_recent', 'elected', 'election_now', 'election_recent', 'exec_ant', 'exec_recent', 'government', 'indirect_recent', 'irreg_lead_ant', 'lead_recent', 'leg_ant', 'leg_recent', 'male', 'militarycareer', 'month', 'nochange_recent', 'prev_conflict', 'pt_attempt', 'pt_suc', 'ref_ant', 'ref_recent', 'tenure_months', 'victory_recent', 'year']\n"
     ]
    },
    {
     "name": "stdout",
     "output_type": "stream",
     "text": [
      "[1]\tvalidation_set's binary_logloss: 0.0408727\n",
      "Training until validation scores don't improve for 4 rounds\n",
      "[2]\tvalidation_set's binary_logloss: 0.0412607\n",
      "[3]\tvalidation_set's binary_logloss: 0.0412224\n",
      "[4]\tvalidation_set's binary_logloss: 0.0415397\n",
      "[5]\tvalidation_set's binary_logloss: 0.0423775\n",
      "Early stopping, best iteration is:\n",
      "[1]\tvalidation_set's binary_logloss: 0.0408727\n"
     ]
    },
    {
     "name": "stderr",
     "output_type": "stream",
     "text": [
      "Found `num_iterations` in params. Will use it instead of argument\n",
      "categorical_feature in Dataset is overridden.\n",
      "New categorical_feature is ['age', 'anticipation', 'change_recent', 'country', 'defeat_recent', 'delayed', 'direct_recent', 'elected', 'election_now', 'election_recent', 'exec_ant', 'exec_recent', 'government', 'indirect_recent', 'irreg_lead_ant', 'lead_recent', 'leg_ant', 'leg_recent', 'male', 'militarycareer', 'month', 'nochange_recent', 'prev_conflict', 'pt_attempt', 'pt_suc', 'ref_ant', 'ref_recent', 'tenure_months', 'victory_recent', 'year']\n"
     ]
    },
    {
     "name": "stdout",
     "output_type": "stream",
     "text": [
      "[1]\tvalidation_set's binary_logloss: 0.0414662\n",
      "Training until validation scores don't improve for 4 rounds\n",
      "[2]\tvalidation_set's binary_logloss: 0.0419518\n",
      "[3]\tvalidation_set's binary_logloss: 0.0430338\n",
      "[4]\tvalidation_set's binary_logloss: 0.0435158\n",
      "[5]\tvalidation_set's binary_logloss: 0.0438338\n",
      "Early stopping, best iteration is:\n",
      "[1]\tvalidation_set's binary_logloss: 0.0414662\n"
     ]
    },
    {
     "name": "stderr",
     "output_type": "stream",
     "text": [
      "Found `num_iterations` in params. Will use it instead of argument\n",
      "categorical_feature in Dataset is overridden.\n",
      "New categorical_feature is ['age', 'anticipation', 'change_recent', 'country', 'defeat_recent', 'delayed', 'direct_recent', 'elected', 'election_now', 'election_recent', 'exec_ant', 'exec_recent', 'government', 'indirect_recent', 'irreg_lead_ant', 'lead_recent', 'leg_ant', 'leg_recent', 'male', 'militarycareer', 'month', 'nochange_recent', 'prev_conflict', 'pt_attempt', 'pt_suc', 'ref_ant', 'ref_recent', 'tenure_months', 'victory_recent', 'year']\n"
     ]
    },
    {
     "name": "stdout",
     "output_type": "stream",
     "text": [
      "[1]\tvalidation_set's binary_logloss: 0.0405669\n",
      "Training until validation scores don't improve for 4 rounds\n",
      "[2]\tvalidation_set's binary_logloss: 0.0415459\n",
      "[3]\tvalidation_set's binary_logloss: 0.0419824\n",
      "[4]\tvalidation_set's binary_logloss: 0.0431462\n",
      "[5]\tvalidation_set's binary_logloss: 0.0435969\n",
      "Early stopping, best iteration is:\n",
      "[1]\tvalidation_set's binary_logloss: 0.0405669\n"
     ]
    },
    {
     "name": "stderr",
     "output_type": "stream",
     "text": [
      "Found `num_iterations` in params. Will use it instead of argument\n",
      "categorical_feature in Dataset is overridden.\n",
      "New categorical_feature is ['age', 'anticipation', 'change_recent', 'country', 'defeat_recent', 'delayed', 'direct_recent', 'elected', 'election_now', 'election_recent', 'exec_ant', 'exec_recent', 'government', 'indirect_recent', 'irreg_lead_ant', 'lead_recent', 'leg_ant', 'leg_recent', 'male', 'militarycareer', 'month', 'nochange_recent', 'prev_conflict', 'pt_attempt', 'pt_suc', 'ref_ant', 'ref_recent', 'tenure_months', 'victory_recent', 'year']\n"
     ]
    },
    {
     "name": "stdout",
     "output_type": "stream",
     "text": [
      "[1]\tvalidation_set's binary_logloss: 0.0402169\n",
      "Training until validation scores don't improve for 4 rounds\n",
      "[2]\tvalidation_set's binary_logloss: 0.0424591\n",
      "[3]\tvalidation_set's binary_logloss: 0.0433177\n",
      "[4]\tvalidation_set's binary_logloss: 0.0436779\n",
      "[5]\tvalidation_set's binary_logloss: 0.0443865\n",
      "Early stopping, best iteration is:\n",
      "[1]\tvalidation_set's binary_logloss: 0.0402169\n"
     ]
    },
    {
     "name": "stderr",
     "output_type": "stream",
     "text": [
      "Found `num_iterations` in params. Will use it instead of argument\n",
      "categorical_feature in Dataset is overridden.\n",
      "New categorical_feature is ['age', 'anticipation', 'change_recent', 'country', 'defeat_recent', 'delayed', 'direct_recent', 'elected', 'election_now', 'election_recent', 'exec_ant', 'exec_recent', 'government', 'indirect_recent', 'irreg_lead_ant', 'lead_recent', 'leg_ant', 'leg_recent', 'male', 'militarycareer', 'month', 'nochange_recent', 'prev_conflict', 'pt_attempt', 'pt_suc', 'ref_ant', 'ref_recent', 'tenure_months', 'victory_recent', 'year']\n"
     ]
    },
    {
     "name": "stdout",
     "output_type": "stream",
     "text": [
      "[1]\tvalidation_set's binary_logloss: 0.0400283\n",
      "Training until validation scores don't improve for 4 rounds\n",
      "[2]\tvalidation_set's binary_logloss: 0.0415012\n",
      "[3]\tvalidation_set's binary_logloss: 0.0423775\n",
      "[4]\tvalidation_set's binary_logloss: 0.0428348\n",
      "[5]\tvalidation_set's binary_logloss: 0.0432877\n",
      "Early stopping, best iteration is:\n",
      "[1]\tvalidation_set's binary_logloss: 0.0400283\n"
     ]
    },
    {
     "name": "stderr",
     "output_type": "stream",
     "text": [
      "Found `num_iterations` in params. Will use it instead of argument\n",
      "categorical_feature in Dataset is overridden.\n",
      "New categorical_feature is ['age', 'anticipation', 'change_recent', 'country', 'defeat_recent', 'delayed', 'direct_recent', 'elected', 'election_now', 'election_recent', 'exec_ant', 'exec_recent', 'government', 'indirect_recent', 'irreg_lead_ant', 'lead_recent', 'leg_ant', 'leg_recent', 'male', 'militarycareer', 'month', 'nochange_recent', 'prev_conflict', 'pt_attempt', 'pt_suc', 'ref_ant', 'ref_recent', 'tenure_months', 'victory_recent', 'year']\n"
     ]
    },
    {
     "name": "stdout",
     "output_type": "stream",
     "text": [
      "[1]\tvalidation_set's binary_logloss: 0.0411566\n",
      "Training until validation scores don't improve for 4 rounds\n",
      "[2]\tvalidation_set's binary_logloss: 0.0418714\n",
      "[3]\tvalidation_set's binary_logloss: 0.042586\n",
      "[4]\tvalidation_set's binary_logloss: 0.0430986\n",
      "[5]\tvalidation_set's binary_logloss: 0.0435652\n",
      "Early stopping, best iteration is:\n",
      "[1]\tvalidation_set's binary_logloss: 0.0411566\n"
     ]
    },
    {
     "name": "stderr",
     "output_type": "stream",
     "text": [
      "Found `num_iterations` in params. Will use it instead of argument\n",
      "categorical_feature in Dataset is overridden.\n",
      "New categorical_feature is ['age', 'anticipation', 'change_recent', 'country', 'defeat_recent', 'delayed', 'direct_recent', 'elected', 'election_now', 'election_recent', 'exec_ant', 'exec_recent', 'government', 'indirect_recent', 'irreg_lead_ant', 'lead_recent', 'leg_ant', 'leg_recent', 'male', 'militarycareer', 'month', 'nochange_recent', 'prev_conflict', 'pt_attempt', 'pt_suc', 'ref_ant', 'ref_recent', 'tenure_months', 'victory_recent', 'year']\n"
     ]
    },
    {
     "name": "stdout",
     "output_type": "stream",
     "text": [
      "[1]\tvalidation_set's binary_logloss: 0.0409405\n",
      "Training until validation scores don't improve for 4 rounds\n",
      "[2]\tvalidation_set's binary_logloss: 0.0413506\n",
      "[3]\tvalidation_set's binary_logloss: 0.0414653\n",
      "[4]\tvalidation_set's binary_logloss: 0.0417182\n",
      "[5]\tvalidation_set's binary_logloss: 0.0420995\n",
      "Early stopping, best iteration is:\n",
      "[1]\tvalidation_set's binary_logloss: 0.0409405\n"
     ]
    },
    {
     "name": "stderr",
     "output_type": "stream",
     "text": [
      "Found `num_iterations` in params. Will use it instead of argument\n",
      "categorical_feature in Dataset is overridden.\n",
      "New categorical_feature is ['age', 'anticipation', 'change_recent', 'country', 'defeat_recent', 'delayed', 'direct_recent', 'elected', 'election_now', 'election_recent', 'exec_ant', 'exec_recent', 'government', 'indirect_recent', 'irreg_lead_ant', 'lead_recent', 'leg_ant', 'leg_recent', 'male', 'militarycareer', 'month', 'nochange_recent', 'prev_conflict', 'pt_attempt', 'pt_suc', 'ref_ant', 'ref_recent', 'tenure_months', 'victory_recent', 'year']\n"
     ]
    },
    {
     "name": "stdout",
     "output_type": "stream",
     "text": [
      "[1]\tvalidation_set's binary_logloss: 0.0410579\n",
      "Training until validation scores don't improve for 4 rounds\n",
      "[2]\tvalidation_set's binary_logloss: 0.0425868\n",
      "[3]\tvalidation_set's binary_logloss: 0.0429501\n",
      "[4]\tvalidation_set's binary_logloss: 0.0433172\n",
      "[5]\tvalidation_set's binary_logloss: 0.0431952\n",
      "Early stopping, best iteration is:\n",
      "[1]\tvalidation_set's binary_logloss: 0.0410579\n"
     ]
    },
    {
     "name": "stderr",
     "output_type": "stream",
     "text": [
      "Found `num_iterations` in params. Will use it instead of argument\n",
      "categorical_feature in Dataset is overridden.\n",
      "New categorical_feature is ['age', 'anticipation', 'change_recent', 'country', 'defeat_recent', 'delayed', 'direct_recent', 'elected', 'election_now', 'election_recent', 'exec_ant', 'exec_recent', 'government', 'indirect_recent', 'irreg_lead_ant', 'lead_recent', 'leg_ant', 'leg_recent', 'male', 'militarycareer', 'month', 'nochange_recent', 'prev_conflict', 'pt_attempt', 'pt_suc', 'ref_ant', 'ref_recent', 'tenure_months', 'victory_recent', 'year']\n"
     ]
    },
    {
     "name": "stdout",
     "output_type": "stream",
     "text": [
      "[1]\tvalidation_set's binary_logloss: 0.0407234\n",
      "Training until validation scores don't improve for 4 rounds\n",
      "[2]\tvalidation_set's binary_logloss: 0.0406724\n",
      "[3]\tvalidation_set's binary_logloss: 0.040904\n",
      "[4]\tvalidation_set's binary_logloss: 0.0410618\n",
      "[5]\tvalidation_set's binary_logloss: 0.0413557\n",
      "[6]\tvalidation_set's binary_logloss: 0.0411544\n",
      "Early stopping, best iteration is:\n",
      "[2]\tvalidation_set's binary_logloss: 0.0406724\n"
     ]
    },
    {
     "name": "stderr",
     "output_type": "stream",
     "text": [
      "Found `num_iterations` in params. Will use it instead of argument\n",
      "categorical_feature in Dataset is overridden.\n",
      "New categorical_feature is ['age', 'anticipation', 'change_recent', 'country', 'defeat_recent', 'delayed', 'direct_recent', 'elected', 'election_now', 'election_recent', 'exec_ant', 'exec_recent', 'government', 'indirect_recent', 'irreg_lead_ant', 'lead_recent', 'leg_ant', 'leg_recent', 'male', 'militarycareer', 'month', 'nochange_recent', 'prev_conflict', 'pt_attempt', 'pt_suc', 'ref_ant', 'ref_recent', 'tenure_months', 'victory_recent', 'year']\n"
     ]
    },
    {
     "name": "stdout",
     "output_type": "stream",
     "text": [
      "[1]\tvalidation_set's binary_logloss: 0.047578\n",
      "Training until validation scores don't improve for 4 rounds\n",
      "[2]\tvalidation_set's binary_logloss: 0.047594\n",
      "[3]\tvalidation_set's binary_logloss: 0.0473391\n",
      "[4]\tvalidation_set's binary_logloss: 0.0482845\n",
      "[5]\tvalidation_set's binary_logloss: 0.0484176\n",
      "[6]\tvalidation_set's binary_logloss: 0.0481604\n",
      "[7]\tvalidation_set's binary_logloss: 0.0477097\n",
      "Early stopping, best iteration is:\n",
      "[3]\tvalidation_set's binary_logloss: 0.0473391\n"
     ]
    },
    {
     "name": "stderr",
     "output_type": "stream",
     "text": [
      "Found `num_iterations` in params. Will use it instead of argument\n",
      "categorical_feature in Dataset is overridden.\n",
      "New categorical_feature is ['age', 'anticipation', 'change_recent', 'country', 'defeat_recent', 'delayed', 'direct_recent', 'elected', 'election_now', 'election_recent', 'exec_ant', 'exec_recent', 'government', 'indirect_recent', 'irreg_lead_ant', 'lead_recent', 'leg_ant', 'leg_recent', 'male', 'militarycareer', 'month', 'nochange_recent', 'prev_conflict', 'pt_attempt', 'pt_suc', 'ref_ant', 'ref_recent', 'tenure_months', 'victory_recent', 'year']\n"
     ]
    },
    {
     "name": "stdout",
     "output_type": "stream",
     "text": [
      "[1]\tvalidation_set's binary_logloss: 0.0416395\n",
      "Training until validation scores don't improve for 4 rounds\n",
      "[2]\tvalidation_set's binary_logloss: 0.0428448\n",
      "[3]\tvalidation_set's binary_logloss: 0.0444097\n",
      "[4]\tvalidation_set's binary_logloss: 0.045517\n",
      "[5]\tvalidation_set's binary_logloss: 0.0454223\n",
      "Early stopping, best iteration is:\n",
      "[1]\tvalidation_set's binary_logloss: 0.0416395\n"
     ]
    },
    {
     "name": "stderr",
     "output_type": "stream",
     "text": [
      "Found `num_iterations` in params. Will use it instead of argument\n",
      "categorical_feature in Dataset is overridden.\n",
      "New categorical_feature is ['age', 'anticipation', 'change_recent', 'country', 'defeat_recent', 'delayed', 'direct_recent', 'elected', 'election_now', 'election_recent', 'exec_ant', 'exec_recent', 'government', 'indirect_recent', 'irreg_lead_ant', 'lead_recent', 'leg_ant', 'leg_recent', 'male', 'militarycareer', 'month', 'nochange_recent', 'prev_conflict', 'pt_attempt', 'pt_suc', 'ref_ant', 'ref_recent', 'tenure_months', 'victory_recent', 'year']\n"
     ]
    },
    {
     "name": "stdout",
     "output_type": "stream",
     "text": [
      "[1]\tvalidation_set's binary_logloss: 0.0434231\n",
      "Training until validation scores don't improve for 4 rounds\n",
      "[2]\tvalidation_set's binary_logloss: 0.0428569\n",
      "[3]\tvalidation_set's binary_logloss: 0.0435732\n",
      "[4]\tvalidation_set's binary_logloss: 0.044069\n",
      "[5]\tvalidation_set's binary_logloss: 0.0437817\n",
      "[6]\tvalidation_set's binary_logloss: 0.0435696\n",
      "Early stopping, best iteration is:\n",
      "[2]\tvalidation_set's binary_logloss: 0.0428569\n"
     ]
    }
   ],
   "source": [
    "modeler = LGBSurvivalModeler(data=data_processor.data)\n",
    "modeler.build_model(parallelize=False)"
   ]
  },
  {
   "cell_type": "markdown",
   "metadata": {},
   "source": [
    "#### Forecasts\n",
    "Obtaining a forecast for every current leader is as simple as `modeler.forecast()`. We can also customize the column headers of the forecasts. Each value represents the probability that the given leader will still be in power at the start of the given month."
   ]
  },
  {
   "cell_type": "code",
   "execution_count": 8,
   "metadata": {},
   "outputs": [
    {
     "data": {
      "text/html": [
       "<div>\n",
       "<style scoped>\n",
       "    .dataframe tbody tr th:only-of-type {\n",
       "        vertical-align: middle;\n",
       "    }\n",
       "\n",
       "    .dataframe tbody tr th {\n",
       "        vertical-align: top;\n",
       "    }\n",
       "\n",
       "    .dataframe thead th {\n",
       "        text-align: right;\n",
       "    }\n",
       "</style>\n",
       "<table border=\"1\" class=\"dataframe\">\n",
       "  <thead>\n",
       "    <tr style=\"text-align: right;\">\n",
       "      <th></th>\n",
       "      <th>Aug 2020</th>\n",
       "      <th>Sep 2020</th>\n",
       "      <th>Oct 2020</th>\n",
       "      <th>Nov 2020</th>\n",
       "      <th>Dec 2020</th>\n",
       "      <th>Jan 2021</th>\n",
       "      <th>Feb 2021</th>\n",
       "      <th>Mar 2021</th>\n",
       "      <th>Apr 2021</th>\n",
       "      <th>May 2021</th>\n",
       "      <th>...</th>\n",
       "      <th>Dec 2039</th>\n",
       "      <th>Jan 2040</th>\n",
       "      <th>Feb 2040</th>\n",
       "      <th>Mar 2040</th>\n",
       "      <th>Apr 2040</th>\n",
       "      <th>May 2040</th>\n",
       "      <th>Jun 2040</th>\n",
       "      <th>Jul 2040</th>\n",
       "      <th>Aug 2040</th>\n",
       "      <th>Sep 2040</th>\n",
       "    </tr>\n",
       "    <tr>\n",
       "      <th>country-leader</th>\n",
       "      <th></th>\n",
       "      <th></th>\n",
       "      <th></th>\n",
       "      <th></th>\n",
       "      <th></th>\n",
       "      <th></th>\n",
       "      <th></th>\n",
       "      <th></th>\n",
       "      <th></th>\n",
       "      <th></th>\n",
       "      <th></th>\n",
       "      <th></th>\n",
       "      <th></th>\n",
       "      <th></th>\n",
       "      <th></th>\n",
       "      <th></th>\n",
       "      <th></th>\n",
       "      <th></th>\n",
       "      <th></th>\n",
       "      <th></th>\n",
       "      <th></th>\n",
       "    </tr>\n",
       "  </thead>\n",
       "  <tbody>\n",
       "    <tr>\n",
       "      <th>Afghanistan: Ashraf Ghani</th>\n",
       "      <td>0.993990</td>\n",
       "      <td>0.970821</td>\n",
       "      <td>0.946974</td>\n",
       "      <td>0.925935</td>\n",
       "      <td>0.912296</td>\n",
       "      <td>0.903354</td>\n",
       "      <td>0.898115</td>\n",
       "      <td>0.883586</td>\n",
       "      <td>0.876560</td>\n",
       "      <td>0.867222</td>\n",
       "      <td>...</td>\n",
       "      <td>0.016121</td>\n",
       "      <td>0.015504</td>\n",
       "      <td>0.015401</td>\n",
       "      <td>0.015211</td>\n",
       "      <td>0.013763</td>\n",
       "      <td>0.013671</td>\n",
       "      <td>0.013586</td>\n",
       "      <td>0.013509</td>\n",
       "      <td>0.013416</td>\n",
       "      <td>0.013333</td>\n",
       "    </tr>\n",
       "    <tr>\n",
       "      <th>Albania: Rama</th>\n",
       "      <td>0.994358</td>\n",
       "      <td>0.989848</td>\n",
       "      <td>0.986320</td>\n",
       "      <td>0.982195</td>\n",
       "      <td>0.974887</td>\n",
       "      <td>0.968206</td>\n",
       "      <td>0.960713</td>\n",
       "      <td>0.952167</td>\n",
       "      <td>0.941558</td>\n",
       "      <td>0.920376</td>\n",
       "      <td>...</td>\n",
       "      <td>0.005599</td>\n",
       "      <td>0.005563</td>\n",
       "      <td>0.005503</td>\n",
       "      <td>0.005465</td>\n",
       "      <td>0.005341</td>\n",
       "      <td>0.005305</td>\n",
       "      <td>0.005272</td>\n",
       "      <td>0.005242</td>\n",
       "      <td>0.005206</td>\n",
       "      <td>0.005167</td>\n",
       "    </tr>\n",
       "    <tr>\n",
       "      <th>Algeria: Tebboune</th>\n",
       "      <td>0.993810</td>\n",
       "      <td>0.979048</td>\n",
       "      <td>0.973364</td>\n",
       "      <td>0.958141</td>\n",
       "      <td>0.947408</td>\n",
       "      <td>0.933675</td>\n",
       "      <td>0.924000</td>\n",
       "      <td>0.914612</td>\n",
       "      <td>0.908370</td>\n",
       "      <td>0.898020</td>\n",
       "      <td>...</td>\n",
       "      <td>0.105963</td>\n",
       "      <td>0.105271</td>\n",
       "      <td>0.104574</td>\n",
       "      <td>0.103860</td>\n",
       "      <td>0.103159</td>\n",
       "      <td>0.102470</td>\n",
       "      <td>0.101829</td>\n",
       "      <td>0.101255</td>\n",
       "      <td>0.100558</td>\n",
       "      <td>0.099937</td>\n",
       "    </tr>\n",
       "    <tr>\n",
       "      <th>Andorra: Espot Zamora</th>\n",
       "      <td>0.985801</td>\n",
       "      <td>0.978421</td>\n",
       "      <td>0.970158</td>\n",
       "      <td>0.956953</td>\n",
       "      <td>0.946031</td>\n",
       "      <td>0.931912</td>\n",
       "      <td>0.926487</td>\n",
       "      <td>0.919690</td>\n",
       "      <td>0.910704</td>\n",
       "      <td>0.902226</td>\n",
       "      <td>...</td>\n",
       "      <td>0.023392</td>\n",
       "      <td>0.023238</td>\n",
       "      <td>0.023084</td>\n",
       "      <td>0.022927</td>\n",
       "      <td>0.022772</td>\n",
       "      <td>0.022620</td>\n",
       "      <td>0.022479</td>\n",
       "      <td>0.022352</td>\n",
       "      <td>0.022198</td>\n",
       "      <td>0.022024</td>\n",
       "    </tr>\n",
       "    <tr>\n",
       "      <th>Angola: Lourenco</th>\n",
       "      <td>0.975911</td>\n",
       "      <td>0.921862</td>\n",
       "      <td>0.909518</td>\n",
       "      <td>0.905946</td>\n",
       "      <td>0.897450</td>\n",
       "      <td>0.884904</td>\n",
       "      <td>0.878615</td>\n",
       "      <td>0.869160</td>\n",
       "      <td>0.861654</td>\n",
       "      <td>0.853856</td>\n",
       "      <td>...</td>\n",
       "      <td>0.059059</td>\n",
       "      <td>0.058673</td>\n",
       "      <td>0.058286</td>\n",
       "      <td>0.057889</td>\n",
       "      <td>0.055939</td>\n",
       "      <td>0.055566</td>\n",
       "      <td>0.055218</td>\n",
       "      <td>0.054907</td>\n",
       "      <td>0.054529</td>\n",
       "      <td>0.054186</td>\n",
       "    </tr>\n",
       "    <tr>\n",
       "      <th>...</th>\n",
       "      <td>...</td>\n",
       "      <td>...</td>\n",
       "      <td>...</td>\n",
       "      <td>...</td>\n",
       "      <td>...</td>\n",
       "      <td>...</td>\n",
       "      <td>...</td>\n",
       "      <td>...</td>\n",
       "      <td>...</td>\n",
       "      <td>...</td>\n",
       "      <td>...</td>\n",
       "      <td>...</td>\n",
       "      <td>...</td>\n",
       "      <td>...</td>\n",
       "      <td>...</td>\n",
       "      <td>...</td>\n",
       "      <td>...</td>\n",
       "      <td>...</td>\n",
       "      <td>...</td>\n",
       "      <td>...</td>\n",
       "      <td>...</td>\n",
       "    </tr>\n",
       "    <tr>\n",
       "      <th>Venezuela: Nicolas Maduro</th>\n",
       "      <td>0.997543</td>\n",
       "      <td>0.993290</td>\n",
       "      <td>0.990913</td>\n",
       "      <td>0.988686</td>\n",
       "      <td>0.984530</td>\n",
       "      <td>0.981881</td>\n",
       "      <td>0.978523</td>\n",
       "      <td>0.973407</td>\n",
       "      <td>0.939389</td>\n",
       "      <td>0.932764</td>\n",
       "      <td>...</td>\n",
       "      <td>0.083788</td>\n",
       "      <td>0.083239</td>\n",
       "      <td>0.082688</td>\n",
       "      <td>0.080565</td>\n",
       "      <td>0.078729</td>\n",
       "      <td>0.078215</td>\n",
       "      <td>0.077726</td>\n",
       "      <td>0.077287</td>\n",
       "      <td>0.076755</td>\n",
       "      <td>0.076282</td>\n",
       "    </tr>\n",
       "    <tr>\n",
       "      <th>Vietnam: Phu Trong</th>\n",
       "      <td>0.983186</td>\n",
       "      <td>0.976467</td>\n",
       "      <td>0.971653</td>\n",
       "      <td>0.818323</td>\n",
       "      <td>0.811781</td>\n",
       "      <td>0.795067</td>\n",
       "      <td>0.789577</td>\n",
       "      <td>0.780696</td>\n",
       "      <td>0.724950</td>\n",
       "      <td>0.720005</td>\n",
       "      <td>...</td>\n",
       "      <td>0.045882</td>\n",
       "      <td>0.045570</td>\n",
       "      <td>0.045259</td>\n",
       "      <td>0.044951</td>\n",
       "      <td>0.044647</td>\n",
       "      <td>0.044349</td>\n",
       "      <td>0.042229</td>\n",
       "      <td>0.041921</td>\n",
       "      <td>0.041632</td>\n",
       "      <td>0.041371</td>\n",
       "    </tr>\n",
       "    <tr>\n",
       "      <th>Yemen: Houthi</th>\n",
       "      <td>0.998209</td>\n",
       "      <td>0.983337</td>\n",
       "      <td>0.974691</td>\n",
       "      <td>0.966096</td>\n",
       "      <td>0.958313</td>\n",
       "      <td>0.946798</td>\n",
       "      <td>0.937605</td>\n",
       "      <td>0.927932</td>\n",
       "      <td>0.911492</td>\n",
       "      <td>0.901282</td>\n",
       "      <td>...</td>\n",
       "      <td>0.117645</td>\n",
       "      <td>0.116873</td>\n",
       "      <td>0.116099</td>\n",
       "      <td>0.115307</td>\n",
       "      <td>0.114528</td>\n",
       "      <td>0.113764</td>\n",
       "      <td>0.110606</td>\n",
       "      <td>0.109982</td>\n",
       "      <td>0.109242</td>\n",
       "      <td>0.108583</td>\n",
       "    </tr>\n",
       "    <tr>\n",
       "      <th>Zambia: Lungu</th>\n",
       "      <td>0.995848</td>\n",
       "      <td>0.991861</td>\n",
       "      <td>0.987909</td>\n",
       "      <td>0.984916</td>\n",
       "      <td>0.980770</td>\n",
       "      <td>0.978002</td>\n",
       "      <td>0.965524</td>\n",
       "      <td>0.958842</td>\n",
       "      <td>0.952631</td>\n",
       "      <td>0.944551</td>\n",
       "      <td>...</td>\n",
       "      <td>0.092689</td>\n",
       "      <td>0.092081</td>\n",
       "      <td>0.091472</td>\n",
       "      <td>0.090848</td>\n",
       "      <td>0.090234</td>\n",
       "      <td>0.089645</td>\n",
       "      <td>0.089084</td>\n",
       "      <td>0.087270</td>\n",
       "      <td>0.083358</td>\n",
       "      <td>0.082844</td>\n",
       "    </tr>\n",
       "    <tr>\n",
       "      <th>Zimbabwe: Mnangagwa</th>\n",
       "      <td>0.996678</td>\n",
       "      <td>0.991217</td>\n",
       "      <td>0.986049</td>\n",
       "      <td>0.982066</td>\n",
       "      <td>0.973813</td>\n",
       "      <td>0.969816</td>\n",
       "      <td>0.966284</td>\n",
       "      <td>0.961171</td>\n",
       "      <td>0.956522</td>\n",
       "      <td>0.950377</td>\n",
       "      <td>...</td>\n",
       "      <td>0.089848</td>\n",
       "      <td>0.089258</td>\n",
       "      <td>0.088667</td>\n",
       "      <td>0.088063</td>\n",
       "      <td>0.087468</td>\n",
       "      <td>0.086884</td>\n",
       "      <td>0.086353</td>\n",
       "      <td>0.085865</td>\n",
       "      <td>0.085274</td>\n",
       "      <td>0.084748</td>\n",
       "    </tr>\n",
       "  </tbody>\n",
       "</table>\n",
       "<p>194 rows × 242 columns</p>\n",
       "</div>"
      ],
      "text/plain": [
       "                           Aug 2020  Sep 2020  Oct 2020  Nov 2020  Dec 2020  \\\n",
       "country-leader                                                                \n",
       "Afghanistan: Ashraf Ghani  0.993990  0.970821  0.946974  0.925935  0.912296   \n",
       "Albania: Rama              0.994358  0.989848  0.986320  0.982195  0.974887   \n",
       "Algeria: Tebboune          0.993810  0.979048  0.973364  0.958141  0.947408   \n",
       "Andorra: Espot Zamora      0.985801  0.978421  0.970158  0.956953  0.946031   \n",
       "Angola: Lourenco           0.975911  0.921862  0.909518  0.905946  0.897450   \n",
       "...                             ...       ...       ...       ...       ...   \n",
       "Venezuela: Nicolas Maduro  0.997543  0.993290  0.990913  0.988686  0.984530   \n",
       "Vietnam: Phu Trong         0.983186  0.976467  0.971653  0.818323  0.811781   \n",
       "Yemen: Houthi              0.998209  0.983337  0.974691  0.966096  0.958313   \n",
       "Zambia: Lungu              0.995848  0.991861  0.987909  0.984916  0.980770   \n",
       "Zimbabwe: Mnangagwa        0.996678  0.991217  0.986049  0.982066  0.973813   \n",
       "\n",
       "                           Jan 2021  Feb 2021  Mar 2021  Apr 2021  May 2021  \\\n",
       "country-leader                                                                \n",
       "Afghanistan: Ashraf Ghani  0.903354  0.898115  0.883586  0.876560  0.867222   \n",
       "Albania: Rama              0.968206  0.960713  0.952167  0.941558  0.920376   \n",
       "Algeria: Tebboune          0.933675  0.924000  0.914612  0.908370  0.898020   \n",
       "Andorra: Espot Zamora      0.931912  0.926487  0.919690  0.910704  0.902226   \n",
       "Angola: Lourenco           0.884904  0.878615  0.869160  0.861654  0.853856   \n",
       "...                             ...       ...       ...       ...       ...   \n",
       "Venezuela: Nicolas Maduro  0.981881  0.978523  0.973407  0.939389  0.932764   \n",
       "Vietnam: Phu Trong         0.795067  0.789577  0.780696  0.724950  0.720005   \n",
       "Yemen: Houthi              0.946798  0.937605  0.927932  0.911492  0.901282   \n",
       "Zambia: Lungu              0.978002  0.965524  0.958842  0.952631  0.944551   \n",
       "Zimbabwe: Mnangagwa        0.969816  0.966284  0.961171  0.956522  0.950377   \n",
       "\n",
       "                           ...  Dec 2039  Jan 2040  Feb 2040  Mar 2040  \\\n",
       "country-leader             ...                                           \n",
       "Afghanistan: Ashraf Ghani  ...  0.016121  0.015504  0.015401  0.015211   \n",
       "Albania: Rama              ...  0.005599  0.005563  0.005503  0.005465   \n",
       "Algeria: Tebboune          ...  0.105963  0.105271  0.104574  0.103860   \n",
       "Andorra: Espot Zamora      ...  0.023392  0.023238  0.023084  0.022927   \n",
       "Angola: Lourenco           ...  0.059059  0.058673  0.058286  0.057889   \n",
       "...                        ...       ...       ...       ...       ...   \n",
       "Venezuela: Nicolas Maduro  ...  0.083788  0.083239  0.082688  0.080565   \n",
       "Vietnam: Phu Trong         ...  0.045882  0.045570  0.045259  0.044951   \n",
       "Yemen: Houthi              ...  0.117645  0.116873  0.116099  0.115307   \n",
       "Zambia: Lungu              ...  0.092689  0.092081  0.091472  0.090848   \n",
       "Zimbabwe: Mnangagwa        ...  0.089848  0.089258  0.088667  0.088063   \n",
       "\n",
       "                           Apr 2040  May 2040  Jun 2040  Jul 2040  Aug 2040  \\\n",
       "country-leader                                                                \n",
       "Afghanistan: Ashraf Ghani  0.013763  0.013671  0.013586  0.013509  0.013416   \n",
       "Albania: Rama              0.005341  0.005305  0.005272  0.005242  0.005206   \n",
       "Algeria: Tebboune          0.103159  0.102470  0.101829  0.101255  0.100558   \n",
       "Andorra: Espot Zamora      0.022772  0.022620  0.022479  0.022352  0.022198   \n",
       "Angola: Lourenco           0.055939  0.055566  0.055218  0.054907  0.054529   \n",
       "...                             ...       ...       ...       ...       ...   \n",
       "Venezuela: Nicolas Maduro  0.078729  0.078215  0.077726  0.077287  0.076755   \n",
       "Vietnam: Phu Trong         0.044647  0.044349  0.042229  0.041921  0.041632   \n",
       "Yemen: Houthi              0.114528  0.113764  0.110606  0.109982  0.109242   \n",
       "Zambia: Lungu              0.090234  0.089645  0.089084  0.087270  0.083358   \n",
       "Zimbabwe: Mnangagwa        0.087468  0.086884  0.086353  0.085865  0.085274   \n",
       "\n",
       "                           Sep 2040  \n",
       "country-leader                       \n",
       "Afghanistan: Ashraf Ghani  0.013333  \n",
       "Albania: Rama              0.005167  \n",
       "Algeria: Tebboune          0.099937  \n",
       "Andorra: Espot Zamora      0.022024  \n",
       "Angola: Lourenco           0.054186  \n",
       "...                             ...  \n",
       "Venezuela: Nicolas Maduro  0.076282  \n",
       "Vietnam: Phu Trong         0.041371  \n",
       "Yemen: Houthi              0.108583  \n",
       "Zambia: Lungu              0.082844  \n",
       "Zimbabwe: Mnangagwa        0.084748  \n",
       "\n",
       "[194 rows x 242 columns]"
      ]
     },
     "execution_count": 8,
     "metadata": {},
     "output_type": "execute_result"
    }
   ],
   "source": [
    "forecasts = modeler.forecast()\n",
    "custom_forecast_headers = date_range(data[\"year-month\"].max(),\n",
    "                                     periods=len(forecasts.columns) + 1,\n",
    "                                     freq=\"M\").strftime(\"%b %Y\")[1:]\n",
    "forecasts.columns = custom_forecast_headers\n",
    "forecasts"
   ]
  },
  {
   "cell_type": "markdown",
   "metadata": {},
   "source": [
    "We won't know how accurate these forecasts are until the future reveals itself to us. However, we can *pretend* to not have the most recent, say, 36 months of data, train a model, then evaluate that model's forecasts over those 36 months. Pretending to not have the most recent 36 months of data is as easy as specifying the TEST_INTERVALS configuration parameter and re-computing leadership spells."
   ]
  },
  {
   "cell_type": "code",
   "execution_count": 9,
   "metadata": {
    "scrolled": true
   },
   "outputs": [
    {
     "name": "stderr",
     "output_type": "stream",
     "text": [
      "Found `num_iterations` in params. Will use it instead of argument\n",
      "categorical_feature in Dataset is overridden.\n",
      "New categorical_feature is ['age', 'anticipation', 'change_recent', 'country', 'defeat_recent', 'delayed', 'direct_recent', 'elected', 'election_now', 'election_recent', 'exec_ant', 'exec_recent', 'government', 'indirect_recent', 'irreg_lead_ant', 'lead_recent', 'leg_ant', 'leg_recent', 'male', 'militarycareer', 'month', 'nochange_recent', 'prev_conflict', 'pt_attempt', 'pt_suc', 'ref_ant', 'ref_recent', 'tenure_months', 'victory_recent', 'year']\n"
     ]
    },
    {
     "name": "stdout",
     "output_type": "stream",
     "text": [
      "[1]\tvalidation_set's binary_logloss: 0.0641882\n",
      "Training until validation scores don't improve for 4 rounds\n",
      "[1]\tvalidation_set's binary_logloss: 0.0636675[1]\tvalidation_set's binary_logloss: 0.0636557[2]\tvalidation_set's binary_logloss: 0.0637513[1]\tvalidation_set's binary_logloss: 0.0646903[1]\tvalidation_set's binary_logloss: 0.0655738[1]\tvalidation_set's binary_logloss: 0.0647049[1]\tvalidation_set's binary_logloss: 0.0650748[1]\tvalidation_set's binary_logloss: 0.0656645[1]\tvalidation_set's binary_logloss: 0.0632047[1]\tvalidation_set's binary_logloss: 0.0679754[1]\tvalidation_set's binary_logloss: 0.0699245[1]\tvalidation_set's binary_logloss: 0.0685548\n",
      "\n",
      "\n",
      "\n",
      "\n",
      "\n",
      "\n",
      "\n",
      "\n",
      "\n",
      "Training until validation scores don't improve for 4 rounds\n",
      "[1]\tvalidation_set's binary_logloss: 0.0772675\n",
      "[1]\tvalidation_set's binary_logloss: 0.0665752Training until validation scores don't improve for 4 rounds[1]\tvalidation_set's binary_logloss: 0.064328Training until validation scores don't improve for 4 roundsTraining until validation scores don't improve for 4 roundsTraining until validation scores don't improve for 4 roundsTraining until validation scores don't improve for 4 roundsTraining until validation scores don't improve for 4 roundsTraining until validation scores don't improve for 4 rounds\n",
      "Training until validation scores don't improve for 4 rounds\n",
      "Training until validation scores don't improve for 4 rounds\n",
      "Training until validation scores don't improve for 4 rounds\n",
      "\n",
      "\n",
      "\n",
      "\n",
      "\n",
      "\n",
      "\n",
      "Training until validation scores don't improve for 4 rounds\n",
      "\n",
      "Training until validation scores don't improve for 4 rounds\n",
      "[1]\tvalidation_set's binary_logloss: 0.0648498Training until validation scores don't improve for 4 rounds\n",
      "\n",
      "\n",
      "\n",
      "Training until validation scores don't improve for 4 rounds\n",
      "[3]\tvalidation_set's binary_logloss: 0.0631458\n",
      "[2]\tvalidation_set's binary_logloss: 0.0630737\n",
      "[2]\tvalidation_set's binary_logloss: 0.0613378\n",
      "[2]\tvalidation_set's binary_logloss: 0.0641256[2]\tvalidation_set's binary_logloss: 0.0638462\n",
      "\n",
      "[2]\tvalidation_set's binary_logloss: 0.0630967\n",
      "[2]\tvalidation_set's binary_logloss: 0.0645199\n",
      "[2]\tvalidation_set's binary_logloss: 0.0739475[2]\tvalidation_set's binary_logloss: 0.0633024[2]\tvalidation_set's binary_logloss: 0.0638658\n",
      "\n",
      "\n",
      "[2]\tvalidation_set's binary_logloss: 0.0646776\n",
      "[2]\tvalidation_set's binary_logloss: 0.0653124[2]\tvalidation_set's binary_logloss: 0.0676807\n",
      "\n",
      "[2]\tvalidation_set's binary_logloss: 0.0684294\n",
      "[2]\tvalidation_set's binary_logloss: 0.0663631[2]\tvalidation_set's binary_logloss: 0.0696354\n",
      "\n",
      "[4]\tvalidation_set's binary_logloss: 0.0630623\n",
      "[3]\tvalidation_set's binary_logloss: 0.0630735\n",
      "[3]\tvalidation_set's binary_logloss: 0.0596733\n",
      "[3]\tvalidation_set's binary_logloss: 0.062835[3]\tvalidation_set's binary_logloss: 0.0635703\n",
      "\n",
      "[3]\tvalidation_set's binary_logloss: 0.0636548\n",
      "[3]\tvalidation_set's binary_logloss: 0.0625703\n",
      "[3]\tvalidation_set's binary_logloss: 0.0644325[3]\tvalidation_set's binary_logloss: 0.0679272\n",
      "\n",
      "[3]\tvalidation_set's binary_logloss: 0.0644439[3]\tvalidation_set's binary_logloss: 0.0724126\n",
      "[3]\tvalidation_set's binary_logloss: 0.0648469\n",
      "\n",
      "[3]\tvalidation_set's binary_logloss: 0.0662444\n",
      "[3]\tvalidation_set's binary_logloss: 0.0673613\n",
      "[3]\tvalidation_set's binary_logloss: 0.0635209\n",
      "[3]\tvalidation_set's binary_logloss: 0.0695346\n",
      "[5]\tvalidation_set's binary_logloss: 0.0630991\n",
      "[4]\tvalidation_set's binary_logloss: 0.0628765\n",
      "[4]\tvalidation_set's binary_logloss: 0.0626337[4]\tvalidation_set's binary_logloss: 0.0585085\n",
      "\n",
      "[4]\tvalidation_set's binary_logloss: 0.0633772[4]\tvalidation_set's binary_logloss: 0.063519\n",
      "\n",
      "[4]\tvalidation_set's binary_logloss: 0.0640766[4]\tvalidation_set's binary_logloss: 0.0636212[4]\tvalidation_set's binary_logloss: 0.0715438\n",
      "\n",
      "\n",
      "[4]\tvalidation_set's binary_logloss: 0.0642099\n",
      "[4]\tvalidation_set's binary_logloss: 0.0625295\n",
      "[4]\tvalidation_set's binary_logloss: 0.0678539\n",
      "[4]\tvalidation_set's binary_logloss: 0.0642011\n",
      "[4]\tvalidation_set's binary_logloss: 0.0659086\n",
      "[4]\tvalidation_set's binary_logloss: 0.0669558\n",
      "[4]\tvalidation_set's binary_logloss: 0.0695705\n",
      "[6]\tvalidation_set's binary_logloss: 0.0630528\n",
      "[5]\tvalidation_set's binary_logloss: 0.0627452\n",
      "[5]\tvalidation_set's binary_logloss: 0.0626185\n",
      "[5]\tvalidation_set's binary_logloss: 0.0633369[5]\tvalidation_set's binary_logloss: 0.0576829\n",
      "\n",
      "[5]\tvalidation_set's binary_logloss: 0.063108\n",
      "[5]\tvalidation_set's binary_logloss: 0.0675526\n",
      "[5]\tvalidation_set's binary_logloss: 0.0639834\n",
      "[5]\tvalidation_set's binary_logloss: 0.0634709[5]\tvalidation_set's binary_logloss: 0.0637916\n",
      "\n",
      "[5]\tvalidation_set's binary_logloss: 0.0706492\n",
      "[5]\tvalidation_set's binary_logloss: 0.0625688\n",
      "[5]\tvalidation_set's binary_logloss: 0.0641896\n",
      "[5]\tvalidation_set's binary_logloss: 0.0666386\n",
      "[5]\tvalidation_set's binary_logloss: 0.0656212[5]\tvalidation_set's binary_logloss: 0.0694763\n",
      "\n",
      "[7]\tvalidation_set's binary_logloss: 0.0630783\n",
      "[6]\tvalidation_set's binary_logloss: 0.0625122\n",
      "[6]\tvalidation_set's binary_logloss: 0.0633728\n",
      "[6]\tvalidation_set's binary_logloss: 0.0624902\n",
      "[6]\tvalidation_set's binary_logloss: 0.0568604\n",
      "[6]\tvalidation_set's binary_logloss: 0.0675289[6]\tvalidation_set's binary_logloss: 0.0630288\n",
      "\n",
      "[6]\tvalidation_set's binary_logloss: 0.0640419\n",
      "[6]\tvalidation_set's binary_logloss: 0.0640866\n",
      "[6]\tvalidation_set's binary_logloss: 0.0699495[6]\tvalidation_set's binary_logloss: 0.0634822[6]\tvalidation_set's binary_logloss: 0.0623619\n",
      "\n",
      "\n",
      "[6]\tvalidation_set's binary_logloss: 0.0637369\n",
      "[6]\tvalidation_set's binary_logloss: 0.0657759\n",
      "[6]\tvalidation_set's binary_logloss: 0.066454\n",
      "[6]\tvalidation_set's binary_logloss: 0.0695915\n",
      "[8]\tvalidation_set's binary_logloss: 0.0629251\n",
      "[7]\tvalidation_set's binary_logloss: 0.0625794\n",
      "[7]\tvalidation_set's binary_logloss: 0.0634821[7]\tvalidation_set's binary_logloss: 0.0625731\n",
      "\n",
      "[7]\tvalidation_set's binary_logloss: 0.0562649\n",
      "[7]\tvalidation_set's binary_logloss: 0.063865\n",
      "[7]\tvalidation_set's binary_logloss: 0.0629886\n",
      "[7]\tvalidation_set's binary_logloss: 0.063929[7]\tvalidation_set's binary_logloss: 0.0635994\n",
      "\n",
      "[7]\tvalidation_set's binary_logloss: 0.0674319\n",
      "[7]\tvalidation_set's binary_logloss: 0.0620996\n",
      "[7]\tvalidation_set's binary_logloss: 0.0693805\n",
      "[7]\tvalidation_set's binary_logloss: 0.063468\n",
      "[7]\tvalidation_set's binary_logloss: 0.0653668\n",
      "[7]\tvalidation_set's binary_logloss: 0.0691359\n",
      "[7]\tvalidation_set's binary_logloss: 0.0661252\n",
      "[9]\tvalidation_set's binary_logloss: 0.0629179[8]\tvalidation_set's binary_logloss: 0.0628192\n",
      "\n",
      "[8]\tvalidation_set's binary_logloss: 0.0635153[8]\tvalidation_set's binary_logloss: 0.0627337\n",
      "\n",
      "[8]\tvalidation_set's binary_logloss: 0.055876\n",
      "[8]\tvalidation_set's binary_logloss: 0.0640103\n",
      "[8]\tvalidation_set's binary_logloss: 0.0637591\n",
      "[8]\tvalidation_set's binary_logloss: 0.0673996\n",
      "[8]\tvalidation_set's binary_logloss: 0.063095\n",
      "[8]\tvalidation_set's binary_logloss: 0.069015\n",
      "[8]\tvalidation_set's binary_logloss: 0.0621884\n",
      "[8]\tvalidation_set's binary_logloss: 0.0635156\n",
      "[8]\tvalidation_set's binary_logloss: 0.0633587\n",
      "[8]\tvalidation_set's binary_logloss: 0.0654268\n",
      "[8]\tvalidation_set's binary_logloss: 0.0692345\n",
      "[8]\tvalidation_set's binary_logloss: 0.0660783\n",
      "[10]\tvalidation_set's binary_logloss: 0.062912[9]\tvalidation_set's binary_logloss: 0.0629387\n",
      "\n",
      "[9]\tvalidation_set's binary_logloss: 0.0634942\n",
      "[9]\tvalidation_set's binary_logloss: 0.0628531Early stopping, best iteration is:\n",
      "[5]\tvalidation_set's binary_logloss: 0.0633369\n",
      "\n",
      "[9]\tvalidation_set's binary_logloss: 0.0640961[9]\tvalidation_set's binary_logloss: 0.0632948[9]\tvalidation_set's binary_logloss: 0.0638295[9]\tvalidation_set's binary_logloss: 0.0671156\n",
      "[9]\tvalidation_set's binary_logloss: 0.0623664\n",
      "\n",
      "[9]\tvalidation_set's binary_logloss: 0.0555469\n",
      "[9]\tvalidation_set's binary_logloss: 0.0687486\n",
      "\n",
      "\n",
      "[9]\tvalidation_set's binary_logloss: 0.0635619\n",
      "Early stopping, best iteration is:\n",
      "[5]\tvalidation_set's binary_logloss: 0.0634709\n",
      "[9]\tvalidation_set's binary_logloss: 0.0635123\n",
      "[9]\tvalidation_set's binary_logloss: 0.0653807\n",
      "[9]\tvalidation_set's binary_logloss: 0.065926[9]\tvalidation_set's binary_logloss: 0.0688887\n",
      "\n",
      "[10]\tvalidation_set's binary_logloss: 0.0629932\n",
      "Early stopping, best iteration is:\n",
      "[6]\tvalidation_set's binary_logloss: 0.0625122[11]\tvalidation_set's binary_logloss: 0.0629303[10]\tvalidation_set's binary_logloss: 0.0630181\n",
      "[10]\tvalidation_set's binary_logloss: 0.0633697\n",
      "[10]\tvalidation_set's binary_logloss: 0.0639627[10]\tvalidation_set's binary_logloss: 0.0552204[10]\tvalidation_set's binary_logloss: 0.0624188\n",
      "[10]\tvalidation_set's binary_logloss: 0.0684353[10]\tvalidation_set's binary_logloss: 0.0670082[10]\tvalidation_set's binary_logloss: 0.0636348[10]\tvalidation_set's binary_logloss: 0.0684039[10]\tvalidation_set's binary_logloss: 0.0637084[10]\tvalidation_set's binary_logloss: 0.065878[10]\tvalidation_set's binary_logloss: 0.0654686\n",
      "\n",
      "\n",
      "Early stopping, best iteration is:\n",
      "[6]\tvalidation_set's binary_logloss: 0.0624902\n",
      "\n",
      "\n",
      "\n",
      "\n",
      "\n",
      "\n",
      "\n",
      "\n",
      "[12]\tvalidation_set's binary_logloss: 0.0629166\n",
      "[11]\tvalidation_set's binary_logloss: 0.0639411[11]\tvalidation_set's binary_logloss: 0.0634079\n",
      "[11]\tvalidation_set's binary_logloss: 0.0636379[11]\tvalidation_set's binary_logloss: 0.0669871Early stopping, best iteration is:\n",
      "[7]\tvalidation_set's binary_logloss: 0.063929\n",
      "[11]\tvalidation_set's binary_logloss: 0.06364[11]\tvalidation_set's binary_logloss: 0.0548904\n",
      "Early stopping, best iteration is:\n",
      "[7]\tvalidation_set's binary_logloss: 0.0629886[11]\tvalidation_set's binary_logloss: 0.0625357\n",
      "[11]\tvalidation_set's binary_logloss: 0.0655018[11]\tvalidation_set's binary_logloss: 0.06553\n",
      "[11]\tvalidation_set's binary_logloss: 0.0685476\n",
      "[11]\tvalidation_set's binary_logloss: 0.06827\n",
      "\n",
      "\n",
      "\n",
      "\n",
      "\n",
      "[13]\tvalidation_set's binary_logloss: 0.0631388[12]\tvalidation_set's binary_logloss: 0.0636453[12]\tvalidation_set's binary_logloss: 0.0636952\n",
      "Early stopping, best iteration is:\n",
      "[7]\tvalidation_set's binary_logloss: 0.0620996Early stopping, best iteration is:\n",
      "[7]\tvalidation_set's binary_logloss: 0.0653668\n",
      "\n",
      "\n",
      "\n",
      "\n",
      "Early stopping, best iteration is:\n",
      "[8]\tvalidation_set's binary_logloss: 0.0633587[12]\tvalidation_set's binary_logloss: 0.0656487[12]\tvalidation_set's binary_logloss: 0.0670945[12]\tvalidation_set's binary_logloss: 0.0543787\n",
      "[12]\tvalidation_set's binary_logloss: 0.0686684[14]\tvalidation_set's binary_logloss: 0.0631275[12]\tvalidation_set's binary_logloss: 0.067923[13]\tvalidation_set's binary_logloss: 0.0636145\n",
      "\n",
      "\n",
      "\n",
      "\n",
      "\n",
      "\n",
      "Early stopping, best iteration is:\n",
      "[10]\tvalidation_set's binary_logloss: 0.062912\n",
      "[13]\tvalidation_set's binary_logloss: 0.0539666[13]\tvalidation_set's binary_logloss: 0.0684241[13]\tvalidation_set's binary_logloss: 0.067844[13]\tvalidation_set's binary_logloss: 0.0653708[13]\tvalidation_set's binary_logloss: 0.0668358[14]\tvalidation_set's binary_logloss: 0.0637001\n",
      "\n",
      "\n",
      "\n",
      "\n",
      "\n",
      "[14]\tvalidation_set's binary_logloss: 0.0676482[14]\tvalidation_set's binary_logloss: 0.068574[14]\tvalidation_set's binary_logloss: 0.06698[14]\tvalidation_set's binary_logloss: 0.0537463[14]\tvalidation_set's binary_logloss: 0.0653787[15]\tvalidation_set's binary_logloss: 0.0637656\n",
      "\n",
      "\n",
      "\n",
      "\n",
      "\n",
      "Early stopping, best iteration is:\n",
      "[10]\tvalidation_set's binary_logloss: 0.0684039\n"
     ]
    },
    {
     "name": "stderr",
     "output_type": "stream",
     "text": [
      "Found `num_iterations` in params. Will use it instead of argument\n",
      "categorical_feature in Dataset is overridden.\n",
      "New categorical_feature is ['age', 'anticipation', 'change_recent', 'country', 'defeat_recent', 'delayed', 'direct_recent', 'elected', 'election_now', 'election_recent', 'exec_ant', 'exec_recent', 'government', 'indirect_recent', 'irreg_lead_ant', 'lead_recent', 'leg_ant', 'leg_recent', 'male', 'militarycareer', 'month', 'nochange_recent', 'prev_conflict', 'pt_attempt', 'pt_suc', 'ref_ant', 'ref_recent', 'tenure_months', 'victory_recent', 'year']\n"
     ]
    },
    {
     "name": "stdout",
     "output_type": "stream",
     "text": [
      "[16]\tvalidation_set's binary_logloss: 0.0636234[15]\tvalidation_set's binary_logloss: 0.0676264[15]\tvalidation_set's binary_logloss: 0.0670209[15]\tvalidation_set's binary_logloss: 0.0535864[15]\tvalidation_set's binary_logloss: 0.0655554"
     ]
    },
    {
     "name": "stderr",
     "output_type": "stream",
     "text": [
      "categorical_feature in Dataset is overridden.\n",
      "New categorical_feature is ['age', 'anticipation', 'change_recent', 'country', 'defeat_recent', 'delayed', 'direct_recent', 'elected', 'election_now', 'election_recent', 'exec_ant', 'exec_recent', 'government', 'indirect_recent', 'irreg_lead_ant', 'lead_recent', 'leg_ant', 'leg_recent', 'male', 'militarycareer', 'month', 'nochange_recent', 'prev_conflict', 'pt_attempt', 'pt_suc', 'ref_ant', 'ref_recent', 'tenure_months', 'victory_recent', 'year']\n"
     ]
    },
    {
     "name": "stdout",
     "output_type": "stream",
     "text": [
      "\n",
      "\n",
      "\n",
      "\n",
      "\n",
      "[17]\tvalidation_set's binary_logloss: 0.0636624[16]\tvalidation_set's binary_logloss: 0.0533724[16]\tvalidation_set's binary_logloss: 0.0670897[16]\tvalidation_set's binary_logloss: 0.0674607[16]\tvalidation_set's binary_logloss: 0.0653609\n",
      "\n",
      "\n",
      "\n",
      "\n",
      "Early stopping, best iteration is:\n",
      "[13]\tvalidation_set's binary_logloss: 0.0636145[17]\tvalidation_set's binary_logloss: 0.0530458"
     ]
    },
    {
     "name": "stderr",
     "output_type": "stream",
     "text": [
      "Found `num_iterations` in params. Will use it instead of argument\n"
     ]
    },
    {
     "name": "stdout",
     "output_type": "stream",
     "text": [
      "\n",
      "\n"
     ]
    },
    {
     "name": "stderr",
     "output_type": "stream",
     "text": [
      "categorical_feature in Dataset is overridden.\n",
      "New categorical_feature is ['age', 'anticipation', 'change_recent', 'country', 'defeat_recent', 'delayed', 'direct_recent', 'elected', 'election_now', 'election_recent', 'exec_ant', 'exec_recent', 'government', 'indirect_recent', 'irreg_lead_ant', 'lead_recent', 'leg_ant', 'leg_recent', 'male', 'militarycareer', 'month', 'nochange_recent', 'prev_conflict', 'pt_attempt', 'pt_suc', 'ref_ant', 'ref_recent', 'tenure_months', 'victory_recent', 'year']\n"
     ]
    },
    {
     "name": "stdout",
     "output_type": "stream",
     "text": [
      "[17]\tvalidation_set's binary_logloss: 0.06536[17]\tvalidation_set's binary_logloss: 0.0673884[17]\tvalidation_set's binary_logloss: 0.0668199[18]\tvalidation_set's binary_logloss: 0.0528605\n",
      "\n",
      "\n",
      "\n",
      "[18]\tvalidation_set's binary_logloss: 0.0654587[18]\tvalidation_set's binary_logloss: 0.0672603[18]\tvalidation_set's binary_logloss: 0.0668661[19]\tvalidation_set's binary_logloss: 0.0526376\n",
      "\n",
      "\n",
      "\n",
      "[19]\tvalidation_set's binary_logloss: 0.0653291\n",
      "[19]\tvalidation_set's binary_logloss: 0.0672076[19]\tvalidation_set's binary_logloss: 0.0670471[20]\tvalidation_set's binary_logloss: 0.0524891\n",
      "\n",
      "\n",
      "[20]\tvalidation_set's binary_logloss: 0.065308\n",
      "[21]\tvalidation_set's binary_logloss: 0.052361[20]\tvalidation_set's binary_logloss: 0.0672221\n",
      "[20]\tvalidation_set's binary_logloss: 0.0671603[21]\tvalidation_set's binary_logloss: 0.0651601\n",
      "\n",
      "\n",
      "[22]\tvalidation_set's binary_logloss: 0.0522717[21]\tvalidation_set's binary_logloss: 0.0673171[21]\tvalidation_set's binary_logloss: 0.0672053\n",
      "\n",
      "\n",
      "[22]\tvalidation_set's binary_logloss: 0.0651243Early stopping, best iteration is:\n",
      "[17]\tvalidation_set's binary_logloss: 0.0668199\n",
      "\n",
      "[22]\tvalidation_set's binary_logloss: 0.0672213[23]\tvalidation_set's binary_logloss: 0.0651117[23]\tvalidation_set's binary_logloss: 0.0522058\n",
      "\n",
      "\n"
     ]
    },
    {
     "name": "stderr",
     "output_type": "stream",
     "text": [
      "Found `num_iterations` in params. Will use it instead of argument\n",
      "categorical_feature in Dataset is overridden.\n",
      "New categorical_feature is ['age', 'anticipation', 'change_recent', 'country', 'defeat_recent', 'delayed', 'direct_recent', 'elected', 'election_now', 'election_recent', 'exec_ant', 'exec_recent', 'government', 'indirect_recent', 'irreg_lead_ant', 'lead_recent', 'leg_ant', 'leg_recent', 'male', 'militarycareer', 'month', 'nochange_recent', 'prev_conflict', 'pt_attempt', 'pt_suc', 'ref_ant', 'ref_recent', 'tenure_months', 'victory_recent', 'year']\n"
     ]
    },
    {
     "name": "stdout",
     "output_type": "stream",
     "text": [
      "[23]\tvalidation_set's binary_logloss: 0.0672174[24]\tvalidation_set's binary_logloss: 0.0651174[24]\tvalidation_set's binary_logloss: 0.0522003\n",
      "\n",
      "\n",
      "[25]\tvalidation_set's binary_logloss: 0.0651953[24]\tvalidation_set's binary_logloss: 0.0670799[25]\tvalidation_set's binary_logloss: 0.0521171\n",
      "\n",
      "\n",
      "[25]\tvalidation_set's binary_logloss: 0.0670736[26]\tvalidation_set's binary_logloss: 0.052023[26]\tvalidation_set's binary_logloss: 0.0652843\n",
      "\n",
      "\n",
      "[26]\tvalidation_set's binary_logloss: 0.0669883[27]\tvalidation_set's binary_logloss: 0.0519922[27]\tvalidation_set's binary_logloss: 0.0653382\n",
      "\n"
     ]
    },
    {
     "name": "stderr",
     "output_type": "stream",
     "text": [
      "Found `num_iterations` in params. Will use it instead of argument\n"
     ]
    },
    {
     "name": "stdout",
     "output_type": "stream",
     "text": [
      "\n"
     ]
    },
    {
     "name": "stderr",
     "output_type": "stream",
     "text": [
      "categorical_feature in Dataset is overridden.\n",
      "New categorical_feature is ['age', 'anticipation', 'change_recent', 'country', 'defeat_recent', 'delayed', 'direct_recent', 'elected', 'election_now', 'election_recent', 'exec_ant', 'exec_recent', 'government', 'indirect_recent', 'irreg_lead_ant', 'lead_recent', 'leg_ant', 'leg_recent', 'male', 'militarycareer', 'month', 'nochange_recent', 'prev_conflict', 'pt_attempt', 'pt_suc', 'ref_ant', 'ref_recent', 'tenure_months', 'victory_recent', 'year']\n"
     ]
    },
    {
     "name": "stdout",
     "output_type": "stream",
     "text": [
      "Early stopping, best iteration is:\n",
      "[23]\tvalidation_set's binary_logloss: 0.0651117[28]\tvalidation_set's binary_logloss: 0.051992[27]\tvalidation_set's binary_logloss: 0.0670069\n"
     ]
    },
    {
     "name": "stderr",
     "output_type": "stream",
     "text": [
      "Found `num_iterations` in params. Will use it instead of argument\n",
      "categorical_feature in Dataset is overridden.\n",
      "New categorical_feature is ['age', 'anticipation', 'change_recent', 'country', 'defeat_recent', 'delayed', 'direct_recent', 'elected', 'election_now', 'election_recent', 'exec_ant', 'exec_recent', 'government', 'indirect_recent', 'irreg_lead_ant', 'lead_recent', 'leg_ant', 'leg_recent', 'male', 'militarycareer', 'month', 'nochange_recent', 'prev_conflict', 'pt_attempt', 'pt_suc', 'ref_ant', 'ref_recent', 'tenure_months', 'victory_recent', 'year']\n"
     ]
    },
    {
     "name": "stdout",
     "output_type": "stream",
     "text": [
      "\n",
      "\n",
      "[29]\tvalidation_set's binary_logloss: 0.0519762[28]\tvalidation_set's binary_logloss: 0.0669728\n",
      "\n",
      "[29]\tvalidation_set's binary_logloss: 0.0669974[30]\tvalidation_set's binary_logloss: 0.0520065\n",
      "\n",
      "[1]\tvalidation_set's binary_logloss: 0.0638733\n",
      "[30]\tvalidation_set's binary_logloss: 0.0669912Training until validation scores don't improve for 4 rounds[1]\tvalidation_set's binary_logloss: 0.0647565[31]\tvalidation_set's binary_logloss: 0.0519095\n",
      "\n",
      "\n",
      "\n",
      "Training until validation scores don't improve for 4 rounds"
     ]
    },
    {
     "name": "stderr",
     "output_type": "stream",
     "text": [
      "Found `num_iterations` in params. Will use it instead of argument\n",
      "categorical_feature in Dataset is overridden.\n",
      "New categorical_feature is ['age', 'anticipation', 'change_recent', 'country', 'defeat_recent', 'delayed', 'direct_recent', 'elected', 'election_now', 'election_recent', 'exec_ant', 'exec_recent', 'government', 'indirect_recent', 'irreg_lead_ant', 'lead_recent', 'leg_ant', 'leg_recent', 'male', 'militarycareer', 'month', 'nochange_recent', 'prev_conflict', 'pt_attempt', 'pt_suc', 'ref_ant', 'ref_recent', 'tenure_months', 'victory_recent', 'year']\n"
     ]
    },
    {
     "name": "stdout",
     "output_type": "stream",
     "text": [
      "\n",
      "[2]\tvalidation_set's binary_logloss: 0.0630986[2]\tvalidation_set's binary_logloss: 0.0642111[31]\tvalidation_set's binary_logloss: 0.0670221\n",
      "\n",
      "[32]\tvalidation_set's binary_logloss: 0.0519024\n",
      "\n",
      "[3]\tvalidation_set's binary_logloss: 0.0624325"
     ]
    },
    {
     "name": "stderr",
     "output_type": "stream",
     "text": [
      "Found `num_iterations` in params. Will use it instead of argument\n"
     ]
    },
    {
     "name": "stdout",
     "output_type": "stream",
     "text": [
      "[3]\tvalidation_set's binary_logloss: 0.0636332[32]\tvalidation_set's binary_logloss: 0.0669577\n"
     ]
    },
    {
     "name": "stderr",
     "output_type": "stream",
     "text": [
      "categorical_feature in Dataset is overridden.\n",
      "New categorical_feature is ['age', 'anticipation', 'change_recent', 'country', 'defeat_recent', 'delayed', 'direct_recent', 'elected', 'election_now', 'election_recent', 'exec_ant', 'exec_recent', 'government', 'indirect_recent', 'irreg_lead_ant', 'lead_recent', 'leg_ant', 'leg_recent', 'male', 'militarycareer', 'month', 'nochange_recent', 'prev_conflict', 'pt_attempt', 'pt_suc', 'ref_ant', 'ref_recent', 'tenure_months', 'victory_recent', 'year']\n"
     ]
    },
    {
     "name": "stdout",
     "output_type": "stream",
     "text": [
      "[33]\tvalidation_set's binary_logloss: 0.0519551\n",
      "\n",
      "\n",
      "[4]\tvalidation_set's binary_logloss: 0.0622782\n",
      "[4]\tvalidation_set's binary_logloss: 0.06339\n",
      "[34]\tvalidation_set's binary_logloss: 0.0519274[33]\tvalidation_set's binary_logloss: 0.066932[5]\tvalidation_set's binary_logloss: 0.0633285[5]\tvalidation_set's binary_logloss: 0.0624626\n",
      "\n",
      "\n",
      "\n",
      "[6]\tvalidation_set's binary_logloss: 0.0622518[6]\tvalidation_set's binary_logloss: 0.063062[35]\tvalidation_set's binary_logloss: 0.0519206[34]\tvalidation_set's binary_logloss: 0.0669439\n",
      "\n",
      "\n",
      "\n",
      "[7]\tvalidation_set's binary_logloss: 0.0620709[35]\tvalidation_set's binary_logloss: 0.0668966[7]\tvalidation_set's binary_logloss: 0.0631041[36]\tvalidation_set's binary_logloss: 0.0518944[1]\tvalidation_set's binary_logloss: 0.0705391\n",
      "\n",
      "\n",
      "\n",
      "\n",
      "[8]\tvalidation_set's binary_logloss: 0.0632826[8]\tvalidation_set's binary_logloss: 0.0620128[37]\tvalidation_set's binary_logloss: 0.0517914[36]\tvalidation_set's binary_logloss: 0.0669057[1]\tvalidation_set's binary_logloss: 0.0721376Training until validation scores don't improve for 4 rounds\n",
      "\n",
      "\n",
      "\n",
      "\n",
      "\n",
      "Training until validation scores don't improve for 4 rounds\n",
      "[9]\tvalidation_set's binary_logloss: 0.0620275[9]\tvalidation_set's binary_logloss: 0.0632433[38]\tvalidation_set's binary_logloss: 0.0518552[37]\tvalidation_set's binary_logloss: 0.06689\n",
      "[2]\tvalidation_set's binary_logloss: 0.0693444\n",
      "\n",
      "\n",
      "\n",
      "[2]\tvalidation_set's binary_logloss: 0.070673\n",
      "[10]\tvalidation_set's binary_logloss: 0.0621328\n",
      "[39]\tvalidation_set's binary_logloss: 0.0518152[1]\tvalidation_set's binary_logloss: 0.0644855[10]\tvalidation_set's binary_logloss: 0.0633254[11]\tvalidation_set's binary_logloss: 0.061986[3]\tvalidation_set's binary_logloss: 0.0698431\n",
      "[3]\tvalidation_set's binary_logloss: 0.0684427[38]\tvalidation_set's binary_logloss: 0.066838\n",
      "\n",
      "Training until validation scores don't improve for 4 rounds\n",
      "Early stopping, best iteration is:\n",
      "[6]\tvalidation_set's binary_logloss: 0.063062\n",
      "\n",
      "\n",
      "\n",
      "\n",
      "[1]\tvalidation_set's binary_logloss: 0.0626085[1]\tvalidation_set's binary_logloss: 0.0654158\n",
      "\n",
      "Training until validation scores don't improve for 4 rounds[1]\tvalidation_set's binary_logloss: 0.0653665[1]\tvalidation_set's binary_logloss: 0.0752592Training until validation scores don't improve for 4 rounds\n",
      "\n",
      "\n",
      "[12]\tvalidation_set's binary_logloss: 0.0617955\n",
      "Training until validation scores don't improve for 4 roundsTraining until validation scores don't improve for 4 rounds\n",
      "[4]\tvalidation_set's binary_logloss: 0.067623\n",
      "\n",
      "[4]\tvalidation_set's binary_logloss: 0.069276[2]\tvalidation_set's binary_logloss: 0.0639782[40]\tvalidation_set's binary_logloss: 0.0518069[39]\tvalidation_set's binary_logloss: 0.0668936\n",
      "\n",
      "\n",
      "\n",
      "\n",
      "[2]\tvalidation_set's binary_logloss: 0.0625185\n"
     ]
    },
    {
     "name": "stderr",
     "output_type": "stream",
     "text": [
      "Found `num_iterations` in params. Will use it instead of argument\n",
      "categorical_feature in Dataset is overridden.\n",
      "New categorical_feature is ['age', 'anticipation', 'change_recent', 'country', 'defeat_recent', 'delayed', 'direct_recent', 'elected', 'election_now', 'election_recent', 'exec_ant', 'exec_recent', 'government', 'indirect_recent', 'irreg_lead_ant', 'lead_recent', 'leg_ant', 'leg_recent', 'male', 'militarycareer', 'month', 'nochange_recent', 'prev_conflict', 'pt_attempt', 'pt_suc', 'ref_ant', 'ref_recent', 'tenure_months', 'victory_recent', 'year']\n"
     ]
    },
    {
     "name": "stdout",
     "output_type": "stream",
     "text": [
      "[2]\tvalidation_set's binary_logloss: 0.0649868[2]\tvalidation_set's binary_logloss: 0.0652682[2]\tvalidation_set's binary_logloss: 0.0723756[13]\tvalidation_set's binary_logloss: 0.0619031\n",
      "[3]\tvalidation_set's binary_logloss: 0.063741\n",
      "[5]\tvalidation_set's binary_logloss: 0.0672352\n",
      "[5]\tvalidation_set's binary_logloss: 0.068829[3]\tvalidation_set's binary_logloss: 0.0624651[41]\tvalidation_set's binary_logloss: 0.051899\n",
      "\n",
      "\n",
      "\n",
      "\n",
      "[40]\tvalidation_set's binary_logloss: 0.0669199[3]\tvalidation_set's binary_logloss: 0.0710399[3]\tvalidation_set's binary_logloss: 0.0644212[14]\tvalidation_set's binary_logloss: 0.0619948\n",
      "\n",
      "\n",
      "\n",
      "\n",
      "Early stopping, best iteration is:\n",
      "[37]\tvalidation_set's binary_logloss: 0.0517914\n",
      "[4]\tvalidation_set's binary_logloss: 0.0621623[4]\tvalidation_set's binary_logloss: 0.0635348\n",
      "\n",
      "[3]\tvalidation_set's binary_logloss: 0.0649468[6]\tvalidation_set's binary_logloss: 0.0669625[4]\tvalidation_set's binary_logloss: 0.064088[4]\tvalidation_set's binary_logloss: 0.0701229[6]\tvalidation_set's binary_logloss: 0.0683235[15]\tvalidation_set's binary_logloss: 0.0621237[41]\tvalidation_set's binary_logloss: 0.0670065\n",
      "\n",
      "\n",
      "\n",
      "\n",
      "\n",
      "\n",
      "[1]\tvalidation_set's binary_logloss: 0.0775548[5]\tvalidation_set's binary_logloss: 0.0621135[1]\tvalidation_set's binary_logloss: 0.0689635[5]\tvalidation_set's binary_logloss: 0.0631204\n",
      "\n",
      "\n",
      "\n",
      "Training until validation scores don't improve for 4 roundsTraining until validation scores don't improve for 4 rounds\n",
      "\n",
      "[5]\tvalidation_set's binary_logloss: 0.063827[4]\tvalidation_set's binary_logloss: 0.0646331[7]\tvalidation_set's binary_logloss: 0.0681753[16]\tvalidation_set's binary_logloss: 0.0621941[42]\tvalidation_set's binary_logloss: 0.0670669[5]\tvalidation_set's binary_logloss: 0.0692296[7]\tvalidation_set's binary_logloss: 0.0664875[1]\tvalidation_set's binary_logloss: 0.0656424\n",
      "\n",
      "\n",
      "\n",
      "\n",
      "\n",
      "\n",
      "[6]\tvalidation_set's binary_logloss: 0.0619408Early stopping, best iteration is:\n",
      "[38]\tvalidation_set's binary_logloss: 0.066838\n",
      "Early stopping, best iteration is:\n",
      "[12]\tvalidation_set's binary_logloss: 0.0617955[6]\tvalidation_set's binary_logloss: 0.0629029[2]\tvalidation_set's binary_logloss: 0.0725397Training until validation scores don't improve for 4 rounds[2]\tvalidation_set's binary_logloss: 0.0684701\n",
      "\n",
      "\n",
      "\n",
      "\n",
      "\n",
      "\n",
      "[5]\tvalidation_set's binary_logloss: 0.0645402[6]\tvalidation_set's binary_logloss: 0.0638906[6]\tvalidation_set's binary_logloss: 0.0686783[8]\tvalidation_set's binary_logloss: 0.0678661[8]\tvalidation_set's binary_logloss: 0.0664536[7]\tvalidation_set's binary_logloss: 0.061953\n",
      "\n",
      "\n",
      "\n",
      "[7]\tvalidation_set's binary_logloss: 0.0627861\n",
      "\n",
      "\n",
      "[2]\tvalidation_set's binary_logloss: 0.0651637[3]\tvalidation_set's binary_logloss: 0.0677807\n",
      "[3]\tvalidation_set's binary_logloss: 0.0708902\n",
      "[6]\tvalidation_set's binary_logloss: 0.0645716[8]\tvalidation_set's binary_logloss: 0.0622349[7]\tvalidation_set's binary_logloss: 0.0681798[7]\tvalidation_set's binary_logloss: 0.0636323\n",
      "\n",
      "\n",
      "[9]\tvalidation_set's binary_logloss: 0.0676174[9]\tvalidation_set's binary_logloss: 0.0663417\n",
      "[8]\tvalidation_set's binary_logloss: 0.0627554\n",
      "\n",
      "\n",
      "\n",
      "[3]\tvalidation_set's binary_logloss: 0.0646382\n",
      "[4]\tvalidation_set's binary_logloss: 0.067706\n",
      "[9]\tvalidation_set's binary_logloss: 0.0623185[7]\tvalidation_set's binary_logloss: 0.0643168[9]\tvalidation_set's binary_logloss: 0.0626233[4]\tvalidation_set's binary_logloss: 0.0695946[8]\tvalidation_set's binary_logloss: 0.0675957[8]\tvalidation_set's binary_logloss: 0.0637241[10]\tvalidation_set's binary_logloss: 0.0661026[10]\tvalidation_set's binary_logloss: 0.0674593[4]\tvalidation_set's binary_logloss: 0.0639976\n",
      "[5]\tvalidation_set's binary_logloss: 0.0674149\n",
      "\n",
      "\n",
      "\n",
      "\n",
      "\n",
      "\n",
      "\n",
      "\n",
      "[1]\tvalidation_set's binary_logloss: 0.0726028\n",
      "Training until validation scores don't improve for 4 rounds\n",
      "[1]\tvalidation_set's binary_logloss: 0.0629071\n",
      "[8]\tvalidation_set's binary_logloss: 0.0641983Training until validation scores don't improve for 4 rounds\n",
      "\n",
      "[5]\tvalidation_set's binary_logloss: 0.0638324\n",
      "[9]\tvalidation_set's binary_logloss: 0.0638667[10]\tvalidation_set's binary_logloss: 0.0626248[10]\tvalidation_set's binary_logloss: 0.0623988[11]\tvalidation_set's binary_logloss: 0.06571[6]\tvalidation_set's binary_logloss: 0.0671561[9]\tvalidation_set's binary_logloss: 0.0671348[5]\tvalidation_set's binary_logloss: 0.0688069[11]\tvalidation_set's binary_logloss: 0.0672681\n",
      "\n",
      "\n",
      "\n",
      "\n",
      "\n",
      "[2]\tvalidation_set's binary_logloss: 0.0707856\n",
      "Early stopping, best iteration is:\n",
      "[6]\tvalidation_set's binary_logloss: 0.0619408\n"
     ]
    },
    {
     "name": "stderr",
     "output_type": "stream",
     "text": [
      "Found `num_iterations` in params. Will use it instead of argument\n"
     ]
    },
    {
     "name": "stdout",
     "output_type": "stream",
     "text": [
      "\n",
      "\n"
     ]
    },
    {
     "name": "stderr",
     "output_type": "stream",
     "text": [
      "categorical_feature in Dataset is overridden.\n",
      "New categorical_feature is ['age', 'anticipation', 'change_recent', 'country', 'defeat_recent', 'delayed', 'direct_recent', 'elected', 'election_now', 'election_recent', 'exec_ant', 'exec_recent', 'government', 'indirect_recent', 'irreg_lead_ant', 'lead_recent', 'leg_ant', 'leg_recent', 'male', 'militarycareer', 'month', 'nochange_recent', 'prev_conflict', 'pt_attempt', 'pt_suc', 'ref_ant', 'ref_recent', 'tenure_months', 'victory_recent', 'year']\n"
     ]
    },
    {
     "name": "stdout",
     "output_type": "stream",
     "text": [
      "[2]\tvalidation_set's binary_logloss: 0.0625557[9]\tvalidation_set's binary_logloss: 0.0643128[6]\tvalidation_set's binary_logloss: 0.0639811\n",
      "\n",
      "\n",
      "[7]\tvalidation_set's binary_logloss: 0.0669135[3]\tvalidation_set's binary_logloss: 0.0699886[11]\tvalidation_set's binary_logloss: 0.0626342[12]\tvalidation_set's binary_logloss: 0.0656897[10]\tvalidation_set's binary_logloss: 0.0669767[12]\tvalidation_set's binary_logloss: 0.067185[10]\tvalidation_set's binary_logloss: 0.0639157[6]\tvalidation_set's binary_logloss: 0.0680388\n",
      "\n",
      "\n",
      "\n",
      "\n",
      "\n",
      "\n",
      "\n",
      "[3]\tvalidation_set's binary_logloss: 0.0620061[10]\tvalidation_set's binary_logloss: 0.0643619\n",
      "[7]\tvalidation_set's binary_logloss: 0.0640302\n",
      "\n",
      "[12]\tvalidation_set's binary_logloss: 0.0627126[4]\tvalidation_set's binary_logloss: 0.0692421[8]\tvalidation_set's binary_logloss: 0.066685[11]\tvalidation_set's binary_logloss: 0.0668304\n",
      "[13]\tvalidation_set's binary_logloss: 0.0657493[7]\tvalidation_set's binary_logloss: 0.067294[11]\tvalidation_set's binary_logloss: 0.0640371\n",
      "\n",
      "\n",
      "\n",
      "\n",
      "\n",
      "[4]\tvalidation_set's binary_logloss: 0.0619189[13]\tvalidation_set's binary_logloss: 0.0671058Early stopping, best iteration is:\n",
      "[7]\tvalidation_set's binary_logloss: 0.0636323\n",
      "\n",
      "\n",
      "[11]\tvalidation_set's binary_logloss: 0.0644131[8]\tvalidation_set's binary_logloss: 0.0641117\n",
      "[5]\tvalidation_set's binary_logloss: 0.0686649\n",
      "[13]\tvalidation_set's binary_logloss: 0.0627398[9]\tvalidation_set's binary_logloss: 0.0664647[12]\tvalidation_set's binary_logloss: 0.0666082[5]\tvalidation_set's binary_logloss: 0.0618256[14]\tvalidation_set's binary_logloss: 0.0670405[8]\tvalidation_set's binary_logloss: 0.0667572[14]\tvalidation_set's binary_logloss: 0.0658538\n",
      "\n",
      "\n",
      "\n",
      "\n",
      "\n",
      "\n",
      "\n",
      "[12]\tvalidation_set's binary_logloss: 0.0644672[9]\tvalidation_set's binary_logloss: 0.0641479Early stopping, best iteration is:\n",
      "[9]\tvalidation_set's binary_logloss: 0.0626233\n",
      "\n",
      "\n",
      "Early stopping, best iteration is:\n",
      "[5]\tvalidation_set's binary_logloss: 0.0638324Early stopping, best iteration is:\n",
      "[8]\tvalidation_set's binary_logloss: 0.0641983\n",
      "\n"
     ]
    },
    {
     "name": "stderr",
     "output_type": "stream",
     "text": [
      "Found `num_iterations` in params. Will use it instead of argument\n",
      "categorical_feature in Dataset is overridden.\n",
      "New categorical_feature is ['age', 'anticipation', 'change_recent', 'country', 'defeat_recent', 'delayed', 'direct_recent', 'elected', 'election_now', 'election_recent', 'exec_ant', 'exec_recent', 'government', 'indirect_recent', 'irreg_lead_ant', 'lead_recent', 'leg_ant', 'leg_recent', 'male', 'militarycareer', 'month', 'nochange_recent', 'prev_conflict', 'pt_attempt', 'pt_suc', 'ref_ant', 'ref_recent', 'tenure_months', 'victory_recent', 'year']\n"
     ]
    },
    {
     "name": "stdout",
     "output_type": "stream",
     "text": [
      "[13]\tvalidation_set's binary_logloss: 0.0663364[15]\tvalidation_set's binary_logloss: 0.0658986[10]\tvalidation_set's binary_logloss: 0.0663112[15]\tvalidation_set's binary_logloss: 0.0669688[6]\tvalidation_set's binary_logloss: 0.0684924[9]\tvalidation_set's binary_logloss: 0.0660304[6]\tvalidation_set's binary_logloss: 0.0616009\n",
      "\n",
      "\n",
      "\n",
      "\n",
      "\n",
      "\n",
      "[7]\tvalidation_set's binary_logloss: 0.0616384[7]\tvalidation_set's binary_logloss: 0.0680126[14]\tvalidation_set's binary_logloss: 0.0662754\n",
      "[11]\tvalidation_set's binary_logloss: 0.0663102\n",
      "[10]\tvalidation_set's binary_logloss: 0.0656126[16]\tvalidation_set's binary_logloss: 0.0668784\n",
      "\n",
      "[16]\tvalidation_set's binary_logloss: 0.0657052\n",
      "\n",
      "\n",
      "[8]\tvalidation_set's binary_logloss: 0.0615761[8]\tvalidation_set's binary_logloss: 0.067722[12]\tvalidation_set's binary_logloss: 0.0667129[11]\tvalidation_set's binary_logloss: 0.065317[15]\tvalidation_set's binary_logloss: 0.0661989Early stopping, best iteration is:\n",
      "[12]\tvalidation_set's binary_logloss: 0.0656897\n",
      "[17]\tvalidation_set's binary_logloss: 0.0668209\n",
      "\n",
      "\n",
      "\n",
      "\n",
      "\n",
      "[9]\tvalidation_set's binary_logloss: 0.0616285\n",
      "[9]\tvalidation_set's binary_logloss: 0.0676712\n",
      "[12]\tvalidation_set's binary_logloss: 0.0648986[16]\tvalidation_set's binary_logloss: 0.0660107[18]\tvalidation_set's binary_logloss: 0.0668307[10]\tvalidation_set's binary_logloss: 0.0617627[13]\tvalidation_set's binary_logloss: 0.066614\n",
      "\n",
      "\n",
      "\n",
      "\n",
      "[10]\tvalidation_set's binary_logloss: 0.0674572\n",
      "[17]\tvalidation_set's binary_logloss: 0.0658542[14]\tvalidation_set's binary_logloss: 0.0666271[11]\tvalidation_set's binary_logloss: 0.0620268[19]\tvalidation_set's binary_logloss: 0.0668809\n",
      "[13]\tvalidation_set's binary_logloss: 0.064613\n",
      "\n",
      "[11]\tvalidation_set's binary_logloss: 0.0671422\n",
      "\n",
      "[18]\tvalidation_set's binary_logloss: 0.0657042\n",
      "[12]\tvalidation_set's binary_logloss: 0.0622646[20]\tvalidation_set's binary_logloss: 0.0668484\n",
      "\n",
      "\n",
      "Early stopping, best iteration is:\n",
      "[8]\tvalidation_set's binary_logloss: 0.0615761\n",
      "[15]\tvalidation_set's binary_logloss: 0.0665391\n",
      "[14]\tvalidation_set's binary_logloss: 0.0643054Early stopping, best iteration is:\n",
      "[11]\tvalidation_set's binary_logloss: 0.0663102\n",
      "\n",
      "[12]\tvalidation_set's binary_logloss: 0.067022\n"
     ]
    },
    {
     "name": "stderr",
     "output_type": "stream",
     "text": [
      "Found `num_iterations` in params. Will use it instead of argument\n",
      "categorical_feature in Dataset is overridden.\n",
      "New categorical_feature is ['age', 'anticipation', 'change_recent', 'country', 'defeat_recent', 'delayed', 'direct_recent', 'elected', 'election_now', 'election_recent', 'exec_ant', 'exec_recent', 'government', 'indirect_recent', 'irreg_lead_ant', 'lead_recent', 'leg_ant', 'leg_recent', 'male', 'militarycareer', 'month', 'nochange_recent', 'prev_conflict', 'pt_attempt', 'pt_suc', 'ref_ant', 'ref_recent', 'tenure_months', 'victory_recent', 'year']\n"
     ]
    },
    {
     "name": "stdout",
     "output_type": "stream",
     "text": [
      "[19]\tvalidation_set's binary_logloss: 0.0657369[21]\tvalidation_set's binary_logloss: 0.0667889[1]\tvalidation_set's binary_logloss: 0.0680586[13]\tvalidation_set's binary_logloss: 0.0667814\n",
      "[15]\tvalidation_set's binary_logloss: 0.0642342[1]\tvalidation_set's binary_logloss: 0.064714\n",
      "\n",
      "\n",
      "\n",
      "\n",
      "Training until validation scores don't improve for 4 roundsTraining until validation scores don't improve for 4 rounds\n",
      "\n",
      "[20]\tvalidation_set's binary_logloss: 0.0656506[22]\tvalidation_set's binary_logloss: 0.066783[16]\tvalidation_set's binary_logloss: 0.0639979[14]\tvalidation_set's binary_logloss: 0.0667869\n",
      "\n",
      "\n",
      "\n",
      "[2]\tvalidation_set's binary_logloss: 0.0677185[2]\tvalidation_set's binary_logloss: 0.0641161\n",
      "\n",
      "[21]\tvalidation_set's binary_logloss: 0.0654102\n",
      "[17]\tvalidation_set's binary_logloss: 0.0636758[23]\tvalidation_set's binary_logloss: 0.066776[15]\tvalidation_set's binary_logloss: 0.0666585\n",
      "\n",
      "\n",
      "[3]\tvalidation_set's binary_logloss: 0.0638473[3]\tvalidation_set's binary_logloss: 0.0674707\n",
      "\n",
      "[22]\tvalidation_set's binary_logloss: 0.0653482[24]\tvalidation_set's binary_logloss: 0.0667676[18]\tvalidation_set's binary_logloss: 0.0635052[16]\tvalidation_set's binary_logloss: 0.0668874\n",
      "\n",
      "\n",
      "\n",
      "[4]\tvalidation_set's binary_logloss: 0.0636548[4]\tvalidation_set's binary_logloss: 0.066711\n",
      "\n",
      "[19]\tvalidation_set's binary_logloss: 0.0634444[17]\tvalidation_set's binary_logloss: 0.0667568\n",
      "[23]\tvalidation_set's binary_logloss: 0.0653978\n",
      "\n",
      "[25]\tvalidation_set's binary_logloss: 0.0667798\n",
      "[5]\tvalidation_set's binary_logloss: 0.0632994[1]\tvalidation_set's binary_logloss: 0.0646032[1]\tvalidation_set's binary_logloss: 0.0660784[24]\tvalidation_set's binary_logloss: 0.0652363[18]\tvalidation_set's binary_logloss: 0.0667649[26]\tvalidation_set's binary_logloss: 0.0669063[20]\tvalidation_set's binary_logloss: 0.0634314[5]\tvalidation_set's binary_logloss: 0.066279\n",
      "\n",
      "\n",
      "\n",
      "\n",
      "\n",
      "\n",
      "\n",
      "Training until validation scores don't improve for 4 roundsTraining until validation scores don't improve for 4 rounds\n",
      "\n",
      "[6]\tvalidation_set's binary_logloss: 0.0630473\n",
      "[2]\tvalidation_set's binary_logloss: 0.0655987\n",
      "[6]\tvalidation_set's binary_logloss: 0.0662599[2]\tvalidation_set's binary_logloss: 0.0645845\n",
      "[25]\tvalidation_set's binary_logloss: 0.0651947[19]\tvalidation_set's binary_logloss: 0.0668116[21]\tvalidation_set's binary_logloss: 0.0634043[27]\tvalidation_set's binary_logloss: 0.0669393\n",
      "\n",
      "\n",
      "\n",
      "\n",
      "[3]\tvalidation_set's binary_logloss: 0.0650608[7]\tvalidation_set's binary_logloss: 0.0630824Early stopping, best iteration is:\n",
      "[15]\tvalidation_set's binary_logloss: 0.0666585\n",
      "\n",
      "\n",
      "[3]\tvalidation_set's binary_logloss: 0.0639713[7]\tvalidation_set's binary_logloss: 0.0663505\n",
      "\n",
      "[28]\tvalidation_set's binary_logloss: 0.0669847\n",
      "Early stopping, best iteration is:\n",
      "[24]\tvalidation_set's binary_logloss: 0.0667676\n",
      "[26]\tvalidation_set's binary_logloss: 0.0651582[22]\tvalidation_set's binary_logloss: 0.0633461\n",
      "\n",
      "[8]\tvalidation_set's binary_logloss: 0.0629516[4]\tvalidation_set's binary_logloss: 0.0646878\n",
      "\n",
      "[4]\tvalidation_set's binary_logloss: 0.0637244\n",
      "[8]\tvalidation_set's binary_logloss: 0.0661457\n",
      "[1]\tvalidation_set's binary_logloss: 0.0627245\n",
      "Training until validation scores don't improve for 4 rounds\n",
      "[27]\tvalidation_set's binary_logloss: 0.0651113\n",
      "[23]\tvalidation_set's binary_logloss: 0.0631823\n",
      "[1]\tvalidation_set's binary_logloss: 0.0694709\n",
      "Training until validation scores don't improve for 4 rounds\n",
      "[5]\tvalidation_set's binary_logloss: 0.064491\n",
      "[9]\tvalidation_set's binary_logloss: 0.0630504\n",
      "[5]\tvalidation_set's binary_logloss: 0.0635374[9]\tvalidation_set's binary_logloss: 0.0661673[2]\tvalidation_set's binary_logloss: 0.0624108\n",
      "\n",
      "\n",
      "[24]\tvalidation_set's binary_logloss: 0.063095\n",
      "[28]\tvalidation_set's binary_logloss: 0.0651371\n",
      "[6]\tvalidation_set's binary_logloss: 0.0644168[2]\tvalidation_set's binary_logloss: 0.0693319\n",
      "\n",
      "[10]\tvalidation_set's binary_logloss: 0.0630797\n",
      "[6]\tvalidation_set's binary_logloss: 0.0634984\n",
      "[3]\tvalidation_set's binary_logloss: 0.0620139\n",
      "[10]\tvalidation_set's binary_logloss: 0.0660926\n",
      "[7]\tvalidation_set's binary_logloss: 0.0642594\n",
      "[29]\tvalidation_set's binary_logloss: 0.0651411\n",
      "[25]\tvalidation_set's binary_logloss: 0.0629657\n",
      "[3]\tvalidation_set's binary_logloss: 0.068923\n",
      "[11]\tvalidation_set's binary_logloss: 0.0632489\n",
      "[4]\tvalidation_set's binary_logloss: 0.0616534\n",
      "[7]\tvalidation_set's binary_logloss: 0.0633602\n",
      "[11]\tvalidation_set's binary_logloss: 0.0659667\n",
      "[8]\tvalidation_set's binary_logloss: 0.0643066\n",
      "[30]\tvalidation_set's binary_logloss: 0.065194[4]\tvalidation_set's binary_logloss: 0.0684808\n",
      "\n",
      "[26]\tvalidation_set's binary_logloss: 0.0629131\n",
      "[12]\tvalidation_set's binary_logloss: 0.0631009\n",
      "Early stopping, best iteration is:\n",
      "[8]\tvalidation_set's binary_logloss: 0.0629516\n",
      "[5]\tvalidation_set's binary_logloss: 0.0614237[8]\tvalidation_set's binary_logloss: 0.0633905\n",
      "\n",
      "[12]\tvalidation_set's binary_logloss: 0.066207\n",
      "[9]\tvalidation_set's binary_logloss: 0.0642744\n",
      "[5]\tvalidation_set's binary_logloss: 0.0682737\n",
      "[31]\tvalidation_set's binary_logloss: 0.0651874\n",
      "[27]\tvalidation_set's binary_logloss: 0.0629181Early stopping, best iteration is:\n",
      "[27]\tvalidation_set's binary_logloss: 0.0651113\n",
      "\n",
      "[6]\tvalidation_set's binary_logloss: 0.0614388\n",
      "[9]\tvalidation_set's binary_logloss: 0.0633461[13]\tvalidation_set's binary_logloss: 0.0662459\n",
      "\n",
      "[10]\tvalidation_set's binary_logloss: 0.0640817\n",
      "[6]\tvalidation_set's binary_logloss: 0.0678474\n",
      "[28]\tvalidation_set's binary_logloss: 0.0628375\n",
      "[7]\tvalidation_set's binary_logloss: 0.0613005\n",
      "[14]\tvalidation_set's binary_logloss: 0.0663687[10]\tvalidation_set's binary_logloss: 0.0633377\n",
      "\n",
      "[11]\tvalidation_set's binary_logloss: 0.0640674\n",
      "[7]\tvalidation_set's binary_logloss: 0.0676397\n",
      "[29]\tvalidation_set's binary_logloss: 0.0627815\n",
      "[8]\tvalidation_set's binary_logloss: 0.0612853\n",
      "[11]\tvalidation_set's binary_logloss: 0.0636325\n",
      "[15]\tvalidation_set's binary_logloss: 0.0662262\n",
      "Early stopping, best iteration is:\n",
      "[11]\tvalidation_set's binary_logloss: 0.0659667\n",
      "[12]\tvalidation_set's binary_logloss: 0.0640783\n",
      "[8]\tvalidation_set's binary_logloss: 0.0674561\n",
      "[30]\tvalidation_set's binary_logloss: 0.0627365\n",
      "[9]\tvalidation_set's binary_logloss: 0.0613051\n",
      "[12]\tvalidation_set's binary_logloss: 0.063487\n",
      "[13]\tvalidation_set's binary_logloss: 0.0641748\n",
      "[9]\tvalidation_set's binary_logloss: 0.0669915\n",
      "[10]\tvalidation_set's binary_logloss: 0.0612794\n",
      "[31]\tvalidation_set's binary_logloss: 0.0627448\n",
      "[13]\tvalidation_set's binary_logloss: 0.0636116\n",
      "[14]\tvalidation_set's binary_logloss: 0.0642968\n",
      "[10]\tvalidation_set's binary_logloss: 0.0669257\n",
      "[11]\tvalidation_set's binary_logloss: 0.0613186\n",
      "[32]\tvalidation_set's binary_logloss: 0.0627487\n",
      "[14]\tvalidation_set's binary_logloss: 0.0636043\n",
      "Early stopping, best iteration is:\n",
      "[10]\tvalidation_set's binary_logloss: 0.0633377\n",
      "[15]\tvalidation_set's binary_logloss: 0.0643643\n",
      "Early stopping, best iteration is:\n",
      "[11]\tvalidation_set's binary_logloss: 0.0640674\n",
      "[11]\tvalidation_set's binary_logloss: 0.0669325\n",
      "[12]\tvalidation_set's binary_logloss: 0.0615242\n",
      "[33]\tvalidation_set's binary_logloss: 0.0627164\n",
      "[12]\tvalidation_set's binary_logloss: 0.0669722\n",
      "[13]\tvalidation_set's binary_logloss: 0.0617882\n",
      "[34]\tvalidation_set's binary_logloss: 0.0626562\n",
      "[14]\tvalidation_set's binary_logloss: 0.0620934\n",
      "[13]\tvalidation_set's binary_logloss: 0.0669671Early stopping, best iteration is:\n",
      "[10]\tvalidation_set's binary_logloss: 0.0612794\n",
      "\n",
      "[35]\tvalidation_set's binary_logloss: 0.0627472\n",
      "[14]\tvalidation_set's binary_logloss: 0.0669635\n",
      "Early stopping, best iteration is:\n",
      "[10]\tvalidation_set's binary_logloss: 0.0669257\n",
      "[36]\tvalidation_set's binary_logloss: 0.0627489\n",
      "[37]\tvalidation_set's binary_logloss: 0.0627656\n",
      "[38]\tvalidation_set's binary_logloss: 0.0627685\n",
      "Early stopping, best iteration is:\n",
      "[34]\tvalidation_set's binary_logloss: 0.0626562\n"
     ]
    }
   ],
   "source": [
    "TEST_INTERVALS = 36\n",
    "data_processor.config[\"TEST_INTERVALS\"] = TEST_INTERVALS\n",
    "data_processor.build_reserved_cols()\n",
    "\n",
    "modeler = LGBSurvivalModeler(data=data_processor.data)\n",
    "modeler.build_model(n_intervals=TEST_INTERVALS)"
   ]
  },
  {
   "cell_type": "markdown",
   "metadata": {},
   "source": [
    "We want to evaluate our model on the set of leaders in July 2017, 36 months prior to the most recent month in our dataset. Doing so is as simple as `modeler.evaluate()`. For each time horizon (\"Lead Length\") we obtain a variety of binary classification metrics, including the [area under the receiver operating characteristic curve (AUROC)](https://en.wikipedia.org/wiki/Receiver_operating_characteristic#Area_under_the_curve). Our AUROC values hover around the low-to-mid 0.80's over the first 9 months into the future and around the low-to-mid 0.70's for longer time horizons. The [concordance index (\"C-Index\")](https://statisticaloddsandends.wordpress.com/2019/10/26/what-is-harrells-c-index/) provides a metric for model performance over all time horizons. Like AUROC, a C-index of 0.5 indicates a useless model, while a C-index of 1.0 is perfect."
   ]
  },
  {
   "cell_type": "code",
   "execution_count": 10,
   "metadata": {},
   "outputs": [
    {
     "data": {
      "text/html": [
       "<div>\n",
       "<style scoped>\n",
       "    .dataframe tbody tr th:only-of-type {\n",
       "        vertical-align: middle;\n",
       "    }\n",
       "\n",
       "    .dataframe tbody tr th {\n",
       "        vertical-align: top;\n",
       "    }\n",
       "\n",
       "    .dataframe thead th {\n",
       "        text-align: right;\n",
       "    }\n",
       "</style>\n",
       "<table border=\"1\" class=\"dataframe\">\n",
       "  <thead>\n",
       "    <tr style=\"text-align: right;\">\n",
       "      <th></th>\n",
       "      <th>AUROC</th>\n",
       "      <th>Predicted Share</th>\n",
       "      <th>Actual Share</th>\n",
       "      <th>True Positives</th>\n",
       "      <th>False Negatives</th>\n",
       "      <th>False Positives</th>\n",
       "      <th>True Negatives</th>\n",
       "      <th>Other Metrics:</th>\n",
       "      <th>C-Index</th>\n",
       "    </tr>\n",
       "    <tr>\n",
       "      <th>Lead Length</th>\n",
       "      <th></th>\n",
       "      <th></th>\n",
       "      <th></th>\n",
       "      <th></th>\n",
       "      <th></th>\n",
       "      <th></th>\n",
       "      <th></th>\n",
       "      <th></th>\n",
       "      <th></th>\n",
       "    </tr>\n",
       "  </thead>\n",
       "  <tbody>\n",
       "    <tr>\n",
       "      <th>1</th>\n",
       "      <td>0.844560</td>\n",
       "      <td>0.990449</td>\n",
       "      <td>0.984694</td>\n",
       "      <td>193</td>\n",
       "      <td>0</td>\n",
       "      <td>3</td>\n",
       "      <td>0</td>\n",
       "      <td></td>\n",
       "      <td>0.7009708737864078</td>\n",
       "    </tr>\n",
       "    <tr>\n",
       "      <th>2</th>\n",
       "      <td>0.924007</td>\n",
       "      <td>0.980002</td>\n",
       "      <td>0.984694</td>\n",
       "      <td>192</td>\n",
       "      <td>1</td>\n",
       "      <td>3</td>\n",
       "      <td>0</td>\n",
       "      <td></td>\n",
       "      <td></td>\n",
       "    </tr>\n",
       "    <tr>\n",
       "      <th>3</th>\n",
       "      <td>0.790576</td>\n",
       "      <td>0.969467</td>\n",
       "      <td>0.974490</td>\n",
       "      <td>191</td>\n",
       "      <td>0</td>\n",
       "      <td>4</td>\n",
       "      <td>1</td>\n",
       "      <td></td>\n",
       "      <td></td>\n",
       "    </tr>\n",
       "    <tr>\n",
       "      <th>4</th>\n",
       "      <td>0.837491</td>\n",
       "      <td>0.949735</td>\n",
       "      <td>0.964286</td>\n",
       "      <td>188</td>\n",
       "      <td>1</td>\n",
       "      <td>5</td>\n",
       "      <td>2</td>\n",
       "      <td></td>\n",
       "      <td></td>\n",
       "    </tr>\n",
       "    <tr>\n",
       "      <th>5</th>\n",
       "      <td>0.788496</td>\n",
       "      <td>0.933758</td>\n",
       "      <td>0.938776</td>\n",
       "      <td>183</td>\n",
       "      <td>1</td>\n",
       "      <td>10</td>\n",
       "      <td>2</td>\n",
       "      <td></td>\n",
       "      <td></td>\n",
       "    </tr>\n",
       "    <tr>\n",
       "      <th>6</th>\n",
       "      <td>0.821036</td>\n",
       "      <td>0.917104</td>\n",
       "      <td>0.928571</td>\n",
       "      <td>181</td>\n",
       "      <td>1</td>\n",
       "      <td>10</td>\n",
       "      <td>4</td>\n",
       "      <td></td>\n",
       "      <td></td>\n",
       "    </tr>\n",
       "    <tr>\n",
       "      <th>7</th>\n",
       "      <td>0.834254</td>\n",
       "      <td>0.899760</td>\n",
       "      <td>0.923469</td>\n",
       "      <td>179</td>\n",
       "      <td>2</td>\n",
       "      <td>10</td>\n",
       "      <td>5</td>\n",
       "      <td></td>\n",
       "      <td></td>\n",
       "    </tr>\n",
       "    <tr>\n",
       "      <th>8</th>\n",
       "      <td>0.832402</td>\n",
       "      <td>0.882514</td>\n",
       "      <td>0.913265</td>\n",
       "      <td>176</td>\n",
       "      <td>3</td>\n",
       "      <td>11</td>\n",
       "      <td>6</td>\n",
       "      <td></td>\n",
       "      <td></td>\n",
       "    </tr>\n",
       "    <tr>\n",
       "      <th>9</th>\n",
       "      <td>0.802177</td>\n",
       "      <td>0.866117</td>\n",
       "      <td>0.892857</td>\n",
       "      <td>171</td>\n",
       "      <td>4</td>\n",
       "      <td>14</td>\n",
       "      <td>7</td>\n",
       "      <td></td>\n",
       "      <td></td>\n",
       "    </tr>\n",
       "    <tr>\n",
       "      <th>10</th>\n",
       "      <td>0.732865</td>\n",
       "      <td>0.851932</td>\n",
       "      <td>0.872449</td>\n",
       "      <td>167</td>\n",
       "      <td>4</td>\n",
       "      <td>17</td>\n",
       "      <td>8</td>\n",
       "      <td></td>\n",
       "      <td></td>\n",
       "    </tr>\n",
       "    <tr>\n",
       "      <th>11</th>\n",
       "      <td>0.725978</td>\n",
       "      <td>0.836894</td>\n",
       "      <td>0.857143</td>\n",
       "      <td>164</td>\n",
       "      <td>4</td>\n",
       "      <td>20</td>\n",
       "      <td>8</td>\n",
       "      <td></td>\n",
       "      <td></td>\n",
       "    </tr>\n",
       "    <tr>\n",
       "      <th>12</th>\n",
       "      <td>0.710643</td>\n",
       "      <td>0.814037</td>\n",
       "      <td>0.846939</td>\n",
       "      <td>161</td>\n",
       "      <td>5</td>\n",
       "      <td>20</td>\n",
       "      <td>10</td>\n",
       "      <td></td>\n",
       "      <td></td>\n",
       "    </tr>\n",
       "    <tr>\n",
       "      <th>13</th>\n",
       "      <td>0.706225</td>\n",
       "      <td>0.800710</td>\n",
       "      <td>0.846939</td>\n",
       "      <td>160</td>\n",
       "      <td>6</td>\n",
       "      <td>20</td>\n",
       "      <td>10</td>\n",
       "      <td></td>\n",
       "      <td></td>\n",
       "    </tr>\n",
       "    <tr>\n",
       "      <th>14</th>\n",
       "      <td>0.718046</td>\n",
       "      <td>0.788695</td>\n",
       "      <td>0.826531</td>\n",
       "      <td>157</td>\n",
       "      <td>5</td>\n",
       "      <td>23</td>\n",
       "      <td>11</td>\n",
       "      <td></td>\n",
       "      <td></td>\n",
       "    </tr>\n",
       "    <tr>\n",
       "      <th>15</th>\n",
       "      <td>0.726042</td>\n",
       "      <td>0.775097</td>\n",
       "      <td>0.816327</td>\n",
       "      <td>155</td>\n",
       "      <td>5</td>\n",
       "      <td>24</td>\n",
       "      <td>12</td>\n",
       "      <td></td>\n",
       "      <td></td>\n",
       "    </tr>\n",
       "    <tr>\n",
       "      <th>16</th>\n",
       "      <td>0.733979</td>\n",
       "      <td>0.763000</td>\n",
       "      <td>0.811224</td>\n",
       "      <td>153</td>\n",
       "      <td>6</td>\n",
       "      <td>25</td>\n",
       "      <td>12</td>\n",
       "      <td></td>\n",
       "      <td></td>\n",
       "    </tr>\n",
       "    <tr>\n",
       "      <th>17</th>\n",
       "      <td>0.728401</td>\n",
       "      <td>0.750264</td>\n",
       "      <td>0.801020</td>\n",
       "      <td>150</td>\n",
       "      <td>7</td>\n",
       "      <td>25</td>\n",
       "      <td>14</td>\n",
       "      <td></td>\n",
       "      <td></td>\n",
       "    </tr>\n",
       "    <tr>\n",
       "      <th>18</th>\n",
       "      <td>0.741346</td>\n",
       "      <td>0.736582</td>\n",
       "      <td>0.795918</td>\n",
       "      <td>146</td>\n",
       "      <td>10</td>\n",
       "      <td>25</td>\n",
       "      <td>15</td>\n",
       "      <td></td>\n",
       "      <td></td>\n",
       "    </tr>\n",
       "    <tr>\n",
       "      <th>19</th>\n",
       "      <td>0.740842</td>\n",
       "      <td>0.724860</td>\n",
       "      <td>0.780612</td>\n",
       "      <td>143</td>\n",
       "      <td>10</td>\n",
       "      <td>26</td>\n",
       "      <td>17</td>\n",
       "      <td></td>\n",
       "      <td></td>\n",
       "    </tr>\n",
       "    <tr>\n",
       "      <th>20</th>\n",
       "      <td>0.737739</td>\n",
       "      <td>0.715916</td>\n",
       "      <td>0.775510</td>\n",
       "      <td>142</td>\n",
       "      <td>10</td>\n",
       "      <td>27</td>\n",
       "      <td>17</td>\n",
       "      <td></td>\n",
       "      <td></td>\n",
       "    </tr>\n",
       "    <tr>\n",
       "      <th>21</th>\n",
       "      <td>0.719205</td>\n",
       "      <td>0.706028</td>\n",
       "      <td>0.770408</td>\n",
       "      <td>140</td>\n",
       "      <td>11</td>\n",
       "      <td>28</td>\n",
       "      <td>17</td>\n",
       "      <td></td>\n",
       "      <td></td>\n",
       "    </tr>\n",
       "    <tr>\n",
       "      <th>22</th>\n",
       "      <td>0.715265</td>\n",
       "      <td>0.693939</td>\n",
       "      <td>0.760204</td>\n",
       "      <td>137</td>\n",
       "      <td>12</td>\n",
       "      <td>28</td>\n",
       "      <td>19</td>\n",
       "      <td></td>\n",
       "      <td></td>\n",
       "    </tr>\n",
       "    <tr>\n",
       "      <th>23</th>\n",
       "      <td>0.710886</td>\n",
       "      <td>0.674679</td>\n",
       "      <td>0.739796</td>\n",
       "      <td>131</td>\n",
       "      <td>14</td>\n",
       "      <td>31</td>\n",
       "      <td>20</td>\n",
       "      <td></td>\n",
       "      <td></td>\n",
       "    </tr>\n",
       "    <tr>\n",
       "      <th>24</th>\n",
       "      <td>0.722502</td>\n",
       "      <td>0.661084</td>\n",
       "      <td>0.719388</td>\n",
       "      <td>128</td>\n",
       "      <td>13</td>\n",
       "      <td>31</td>\n",
       "      <td>24</td>\n",
       "      <td></td>\n",
       "      <td></td>\n",
       "    </tr>\n",
       "    <tr>\n",
       "      <th>25</th>\n",
       "      <td>0.727696</td>\n",
       "      <td>0.647762</td>\n",
       "      <td>0.693878</td>\n",
       "      <td>121</td>\n",
       "      <td>15</td>\n",
       "      <td>34</td>\n",
       "      <td>26</td>\n",
       "      <td></td>\n",
       "      <td></td>\n",
       "    </tr>\n",
       "    <tr>\n",
       "      <th>26</th>\n",
       "      <td>0.725084</td>\n",
       "      <td>0.637556</td>\n",
       "      <td>0.683673</td>\n",
       "      <td>117</td>\n",
       "      <td>17</td>\n",
       "      <td>36</td>\n",
       "      <td>26</td>\n",
       "      <td></td>\n",
       "      <td></td>\n",
       "    </tr>\n",
       "    <tr>\n",
       "      <th>27</th>\n",
       "      <td>0.731297</td>\n",
       "      <td>0.627116</td>\n",
       "      <td>0.673469</td>\n",
       "      <td>116</td>\n",
       "      <td>16</td>\n",
       "      <td>35</td>\n",
       "      <td>29</td>\n",
       "      <td></td>\n",
       "      <td></td>\n",
       "    </tr>\n",
       "    <tr>\n",
       "      <th>28</th>\n",
       "      <td>0.740693</td>\n",
       "      <td>0.618041</td>\n",
       "      <td>0.668367</td>\n",
       "      <td>115</td>\n",
       "      <td>16</td>\n",
       "      <td>32</td>\n",
       "      <td>33</td>\n",
       "      <td></td>\n",
       "      <td></td>\n",
       "    </tr>\n",
       "    <tr>\n",
       "      <th>29</th>\n",
       "      <td>0.740137</td>\n",
       "      <td>0.608223</td>\n",
       "      <td>0.658163</td>\n",
       "      <td>108</td>\n",
       "      <td>21</td>\n",
       "      <td>34</td>\n",
       "      <td>33</td>\n",
       "      <td></td>\n",
       "      <td></td>\n",
       "    </tr>\n",
       "    <tr>\n",
       "      <th>30</th>\n",
       "      <td>0.746092</td>\n",
       "      <td>0.600053</td>\n",
       "      <td>0.647959</td>\n",
       "      <td>107</td>\n",
       "      <td>20</td>\n",
       "      <td>35</td>\n",
       "      <td>34</td>\n",
       "      <td></td>\n",
       "      <td></td>\n",
       "    </tr>\n",
       "    <tr>\n",
       "      <th>31</th>\n",
       "      <td>0.736274</td>\n",
       "      <td>0.585906</td>\n",
       "      <td>0.627551</td>\n",
       "      <td>101</td>\n",
       "      <td>22</td>\n",
       "      <td>36</td>\n",
       "      <td>37</td>\n",
       "      <td></td>\n",
       "      <td></td>\n",
       "    </tr>\n",
       "    <tr>\n",
       "      <th>32</th>\n",
       "      <td>0.741803</td>\n",
       "      <td>0.574640</td>\n",
       "      <td>0.622449</td>\n",
       "      <td>98</td>\n",
       "      <td>24</td>\n",
       "      <td>34</td>\n",
       "      <td>40</td>\n",
       "      <td></td>\n",
       "      <td></td>\n",
       "    </tr>\n",
       "    <tr>\n",
       "      <th>33</th>\n",
       "      <td>0.741047</td>\n",
       "      <td>0.563116</td>\n",
       "      <td>0.617347</td>\n",
       "      <td>96</td>\n",
       "      <td>25</td>\n",
       "      <td>34</td>\n",
       "      <td>41</td>\n",
       "      <td></td>\n",
       "      <td></td>\n",
       "    </tr>\n",
       "    <tr>\n",
       "      <th>34</th>\n",
       "      <td>0.751974</td>\n",
       "      <td>0.553101</td>\n",
       "      <td>0.612245</td>\n",
       "      <td>96</td>\n",
       "      <td>24</td>\n",
       "      <td>32</td>\n",
       "      <td>44</td>\n",
       "      <td></td>\n",
       "      <td></td>\n",
       "    </tr>\n",
       "    <tr>\n",
       "      <th>35</th>\n",
       "      <td>0.750737</td>\n",
       "      <td>0.544706</td>\n",
       "      <td>0.607143</td>\n",
       "      <td>95</td>\n",
       "      <td>24</td>\n",
       "      <td>31</td>\n",
       "      <td>46</td>\n",
       "      <td></td>\n",
       "      <td></td>\n",
       "    </tr>\n",
       "    <tr>\n",
       "      <th>36</th>\n",
       "      <td>0.751832</td>\n",
       "      <td>0.537697</td>\n",
       "      <td>0.591837</td>\n",
       "      <td>92</td>\n",
       "      <td>24</td>\n",
       "      <td>33</td>\n",
       "      <td>47</td>\n",
       "      <td></td>\n",
       "      <td></td>\n",
       "    </tr>\n",
       "  </tbody>\n",
       "</table>\n",
       "</div>"
      ],
      "text/plain": [
       "                AUROC  Predicted Share  Actual Share  True Positives  \\\n",
       "Lead Length                                                            \n",
       "1            0.844560         0.990449      0.984694             193   \n",
       "2            0.924007         0.980002      0.984694             192   \n",
       "3            0.790576         0.969467      0.974490             191   \n",
       "4            0.837491         0.949735      0.964286             188   \n",
       "5            0.788496         0.933758      0.938776             183   \n",
       "6            0.821036         0.917104      0.928571             181   \n",
       "7            0.834254         0.899760      0.923469             179   \n",
       "8            0.832402         0.882514      0.913265             176   \n",
       "9            0.802177         0.866117      0.892857             171   \n",
       "10           0.732865         0.851932      0.872449             167   \n",
       "11           0.725978         0.836894      0.857143             164   \n",
       "12           0.710643         0.814037      0.846939             161   \n",
       "13           0.706225         0.800710      0.846939             160   \n",
       "14           0.718046         0.788695      0.826531             157   \n",
       "15           0.726042         0.775097      0.816327             155   \n",
       "16           0.733979         0.763000      0.811224             153   \n",
       "17           0.728401         0.750264      0.801020             150   \n",
       "18           0.741346         0.736582      0.795918             146   \n",
       "19           0.740842         0.724860      0.780612             143   \n",
       "20           0.737739         0.715916      0.775510             142   \n",
       "21           0.719205         0.706028      0.770408             140   \n",
       "22           0.715265         0.693939      0.760204             137   \n",
       "23           0.710886         0.674679      0.739796             131   \n",
       "24           0.722502         0.661084      0.719388             128   \n",
       "25           0.727696         0.647762      0.693878             121   \n",
       "26           0.725084         0.637556      0.683673             117   \n",
       "27           0.731297         0.627116      0.673469             116   \n",
       "28           0.740693         0.618041      0.668367             115   \n",
       "29           0.740137         0.608223      0.658163             108   \n",
       "30           0.746092         0.600053      0.647959             107   \n",
       "31           0.736274         0.585906      0.627551             101   \n",
       "32           0.741803         0.574640      0.622449              98   \n",
       "33           0.741047         0.563116      0.617347              96   \n",
       "34           0.751974         0.553101      0.612245              96   \n",
       "35           0.750737         0.544706      0.607143              95   \n",
       "36           0.751832         0.537697      0.591837              92   \n",
       "\n",
       "             False Negatives  False Positives  True Negatives Other Metrics:  \\\n",
       "Lead Length                                                                    \n",
       "1                          0                3               0                  \n",
       "2                          1                3               0                  \n",
       "3                          0                4               1                  \n",
       "4                          1                5               2                  \n",
       "5                          1               10               2                  \n",
       "6                          1               10               4                  \n",
       "7                          2               10               5                  \n",
       "8                          3               11               6                  \n",
       "9                          4               14               7                  \n",
       "10                         4               17               8                  \n",
       "11                         4               20               8                  \n",
       "12                         5               20              10                  \n",
       "13                         6               20              10                  \n",
       "14                         5               23              11                  \n",
       "15                         5               24              12                  \n",
       "16                         6               25              12                  \n",
       "17                         7               25              14                  \n",
       "18                        10               25              15                  \n",
       "19                        10               26              17                  \n",
       "20                        10               27              17                  \n",
       "21                        11               28              17                  \n",
       "22                        12               28              19                  \n",
       "23                        14               31              20                  \n",
       "24                        13               31              24                  \n",
       "25                        15               34              26                  \n",
       "26                        17               36              26                  \n",
       "27                        16               35              29                  \n",
       "28                        16               32              33                  \n",
       "29                        21               34              33                  \n",
       "30                        20               35              34                  \n",
       "31                        22               36              37                  \n",
       "32                        24               34              40                  \n",
       "33                        25               34              41                  \n",
       "34                        24               32              44                  \n",
       "35                        24               31              46                  \n",
       "36                        24               33              47                  \n",
       "\n",
       "                        C-Index  \n",
       "Lead Length                      \n",
       "1            0.7009708737864078  \n",
       "2                                \n",
       "3                                \n",
       "4                                \n",
       "5                                \n",
       "6                                \n",
       "7                                \n",
       "8                                \n",
       "9                                \n",
       "10                               \n",
       "11                               \n",
       "12                               \n",
       "13                               \n",
       "14                               \n",
       "15                               \n",
       "16                               \n",
       "17                               \n",
       "18                               \n",
       "19                               \n",
       "20                               \n",
       "21                               \n",
       "22                               \n",
       "23                               \n",
       "24                               \n",
       "25                               \n",
       "26                               \n",
       "27                               \n",
       "28                               \n",
       "29                               \n",
       "30                               \n",
       "31                               \n",
       "32                               \n",
       "33                               \n",
       "34                               \n",
       "35                               \n",
       "36                               "
      ]
     },
     "execution_count": 10,
     "metadata": {},
     "output_type": "execute_result"
    }
   ],
   "source": [
    "metrics = modeler.evaluate()\n",
    "metrics"
   ]
  },
  {
   "cell_type": "markdown",
   "metadata": {},
   "source": [
    "The model we trained used default values for hyperparameters such as the maximum number of leaves per tree and the minimum number of observations in each leaf. There are likely other hyperparameter values that would yield better performance for each future period. Searching for those values and returning the best candidate set for each future period (according to performance on a validation set) is as simple as `modeler.hyperoptimize()`. The number of sets to consider, `n_trials`, defaults to 64, but we'll specify a value of 4 to accelerate this example."
   ]
  },
  {
   "cell_type": "code",
   "execution_count": 11,
   "metadata": {
    "scrolled": true
   },
   "outputs": [
    {
     "name": "stderr",
     "output_type": "stream",
     "text": [
      "[I 2020-08-28 16:30:20,509] Trial 0 finished with value: 0.06059920447311717 and parameters: {'num_iterations': 94, 'learning_rate': 0.4032261012568846, 'num_leaves': 121, 'max_depth': 19, 'min_data_in_leaf': 369, 'min_sum_hessian_in_leaf': 0.1364906231563803, 'bagging_freq': 0, 'bagging_fraction': 0.7271848812213663, 'feature_fraction': 0.6779042758880096, 'lambda_l1': 55.32233457830071, 'lambda_l2': 42.84656691186624, 'min_gain_to_split': 0.07127895884983065, 'min_data_per_group': 431, 'max_cat_threshold': 70, 'cat_l2': 41.37300385050969, 'cat_smooth': 1229.1342054498475, 'max_cat_to_onehot': 16, 'max_bin': 326, 'min_data_in_bin': 37}. Best is trial 0 with value: 0.06059920447311717.\n",
      "[I 2020-08-28 16:30:20,751] Trial 1 finished with value: 0.06054656727625292 and parameters: {'num_iterations': 67, 'learning_rate': 0.03746294609752311, 'num_leaves': 158, 'max_depth': 12, 'min_data_in_leaf': 32, 'min_sum_hessian_in_leaf': 0.14511985173887948, 'bagging_freq': 0, 'bagging_fraction': 0.675761436394881, 'feature_fraction': 0.6330760786411519, 'lambda_l1': 29.782572825444007, 'lambda_l2': 5.1211225902930835, 'min_gain_to_split': 0.18030446870444447, 'min_data_per_group': 346, 'max_cat_threshold': 268, 'cat_l2': 62.50914642127281, 'cat_smooth': 379.560142094743, 'max_cat_to_onehot': 10, 'max_bin': 702, 'min_data_in_bin': 33}. Best is trial 1 with value: 0.06054656727625292.\n",
      "[I 2020-08-28 16:30:21,224] Trial 2 finished with value: 0.05709848604317869 and parameters: {'num_iterations': 91, 'learning_rate': 0.08081207670528569, 'num_leaves': 45, 'max_depth': 30, 'min_data_in_leaf': 52, 'min_sum_hessian_in_leaf': 0.14564408551350866, 'bagging_freq': 1, 'bagging_fraction': 0.7421054227078454, 'feature_fraction': 0.9553626362706973, 'lambda_l1': 33.48323382484937, 'lambda_l2': 25.91037545717554, 'min_gain_to_split': 0.039619274608901967, 'min_data_per_group': 284, 'max_cat_threshold': 377, 'cat_l2': 11.820566283956346, 'cat_smooth': 119.75451760945361, 'max_cat_to_onehot': 11, 'max_bin': 150, 'min_data_in_bin': 10}. Best is trial 2 with value: 0.05709848604317869.\n",
      "[I 2020-08-28 16:30:21,403] Trial 3 finished with value: 0.057890965497983574 and parameters: {'num_iterations': 98, 'learning_rate': 0.48221228650561615, 'num_leaves': 222, 'max_depth': 14, 'min_data_in_leaf': 343, 'min_sum_hessian_in_leaf': 0.16336286068921954, 'bagging_freq': 0, 'bagging_fraction': 0.9794991100182464, 'feature_fraction': 0.63728942034678, 'lambda_l1': 38.02920861460169, 'lambda_l2': 39.83162229799324, 'min_gain_to_split': 0.056989793815496015, 'min_data_per_group': 227, 'max_cat_threshold': 485, 'cat_l2': 45.413369095139196, 'cat_smooth': 87.08565525956897, 'max_cat_to_onehot': 27, 'max_bin': 632, 'min_data_in_bin': 34}. Best is trial 2 with value: 0.05709848604317869.\n",
      "[I 2020-08-28 16:30:22,481] Trial 0 finished with value: 0.06629434719813375 and parameters: {'num_iterations': 94, 'learning_rate': 0.4032261012568846, 'num_leaves': 121, 'max_depth': 19, 'min_data_in_leaf': 369, 'min_sum_hessian_in_leaf': 0.1364906231563803, 'bagging_freq': 0, 'bagging_fraction': 0.7271848812213663, 'feature_fraction': 0.6779042758880096, 'lambda_l1': 55.32233457830071, 'lambda_l2': 42.84656691186624, 'min_gain_to_split': 0.07127895884983065, 'min_data_per_group': 431, 'max_cat_threshold': 70, 'cat_l2': 41.37300385050969, 'cat_smooth': 1229.1342054498475, 'max_cat_to_onehot': 16, 'max_bin': 326, 'min_data_in_bin': 37}. Best is trial 0 with value: 0.06629434719813375.\n",
      "[I 2020-08-28 16:30:22,722] Trial 1 finished with value: 0.06659708882276157 and parameters: {'num_iterations': 67, 'learning_rate': 0.03746294609752311, 'num_leaves': 158, 'max_depth': 12, 'min_data_in_leaf': 32, 'min_sum_hessian_in_leaf': 0.14511985173887948, 'bagging_freq': 0, 'bagging_fraction': 0.675761436394881, 'feature_fraction': 0.6330760786411519, 'lambda_l1': 29.782572825444007, 'lambda_l2': 5.1211225902930835, 'min_gain_to_split': 0.18030446870444447, 'min_data_per_group': 346, 'max_cat_threshold': 268, 'cat_l2': 62.50914642127281, 'cat_smooth': 379.560142094743, 'max_cat_to_onehot': 10, 'max_bin': 702, 'min_data_in_bin': 33}. Best is trial 0 with value: 0.06629434719813375.\n",
      "[I 2020-08-28 16:30:23,162] Trial 2 finished with value: 0.06401981668268121 and parameters: {'num_iterations': 91, 'learning_rate': 0.08081207670528569, 'num_leaves': 45, 'max_depth': 30, 'min_data_in_leaf': 52, 'min_sum_hessian_in_leaf': 0.14564408551350866, 'bagging_freq': 1, 'bagging_fraction': 0.7421054227078454, 'feature_fraction': 0.9553626362706973, 'lambda_l1': 33.48323382484937, 'lambda_l2': 25.91037545717554, 'min_gain_to_split': 0.039619274608901967, 'min_data_per_group': 284, 'max_cat_threshold': 377, 'cat_l2': 11.820566283956346, 'cat_smooth': 119.75451760945361, 'max_cat_to_onehot': 11, 'max_bin': 150, 'min_data_in_bin': 10}. Best is trial 2 with value: 0.06401981668268121.\n",
      "[I 2020-08-28 16:30:23,324] Trial 3 finished with value: 0.06372267455601952 and parameters: {'num_iterations': 98, 'learning_rate': 0.48221228650561615, 'num_leaves': 222, 'max_depth': 14, 'min_data_in_leaf': 343, 'min_sum_hessian_in_leaf': 0.16336286068921954, 'bagging_freq': 0, 'bagging_fraction': 0.9794991100182464, 'feature_fraction': 0.63728942034678, 'lambda_l1': 38.02920861460169, 'lambda_l2': 39.83162229799324, 'min_gain_to_split': 0.056989793815496015, 'min_data_per_group': 227, 'max_cat_threshold': 485, 'cat_l2': 45.413369095139196, 'cat_smooth': 87.08565525956897, 'max_cat_to_onehot': 27, 'max_bin': 632, 'min_data_in_bin': 34}. Best is trial 3 with value: 0.06372267455601952.\n",
      "[I 2020-08-28 16:30:24,309] Trial 0 finished with value: 0.06966741088593474 and parameters: {'num_iterations': 94, 'learning_rate': 0.4032261012568846, 'num_leaves': 121, 'max_depth': 19, 'min_data_in_leaf': 369, 'min_sum_hessian_in_leaf': 0.1364906231563803, 'bagging_freq': 0, 'bagging_fraction': 0.7271848812213663, 'feature_fraction': 0.6779042758880096, 'lambda_l1': 55.32233457830071, 'lambda_l2': 42.84656691186624, 'min_gain_to_split': 0.07127895884983065, 'min_data_per_group': 431, 'max_cat_threshold': 70, 'cat_l2': 41.37300385050969, 'cat_smooth': 1229.1342054498475, 'max_cat_to_onehot': 16, 'max_bin': 326, 'min_data_in_bin': 37}. Best is trial 0 with value: 0.06966741088593474.\n",
      "[I 2020-08-28 16:30:24,552] Trial 1 finished with value: 0.07118364432020925 and parameters: {'num_iterations': 67, 'learning_rate': 0.03746294609752311, 'num_leaves': 158, 'max_depth': 12, 'min_data_in_leaf': 32, 'min_sum_hessian_in_leaf': 0.14511985173887948, 'bagging_freq': 0, 'bagging_fraction': 0.675761436394881, 'feature_fraction': 0.6330760786411519, 'lambda_l1': 29.782572825444007, 'lambda_l2': 5.1211225902930835, 'min_gain_to_split': 0.18030446870444447, 'min_data_per_group': 346, 'max_cat_threshold': 268, 'cat_l2': 62.50914642127281, 'cat_smooth': 379.560142094743, 'max_cat_to_onehot': 10, 'max_bin': 702, 'min_data_in_bin': 33}. Best is trial 0 with value: 0.06966741088593474.\n",
      "[I 2020-08-28 16:30:24,986] Trial 2 finished with value: 0.06795776932350663 and parameters: {'num_iterations': 91, 'learning_rate': 0.08081207670528569, 'num_leaves': 45, 'max_depth': 30, 'min_data_in_leaf': 52, 'min_sum_hessian_in_leaf': 0.14564408551350866, 'bagging_freq': 1, 'bagging_fraction': 0.7421054227078454, 'feature_fraction': 0.9553626362706973, 'lambda_l1': 33.48323382484937, 'lambda_l2': 25.91037545717554, 'min_gain_to_split': 0.039619274608901967, 'min_data_per_group': 284, 'max_cat_threshold': 377, 'cat_l2': 11.820566283956346, 'cat_smooth': 119.75451760945361, 'max_cat_to_onehot': 11, 'max_bin': 150, 'min_data_in_bin': 10}. Best is trial 2 with value: 0.06795776932350663.\n",
      "[I 2020-08-28 16:30:25,164] Trial 3 finished with value: 0.0683468686517883 and parameters: {'num_iterations': 98, 'learning_rate': 0.48221228650561615, 'num_leaves': 222, 'max_depth': 14, 'min_data_in_leaf': 343, 'min_sum_hessian_in_leaf': 0.16336286068921954, 'bagging_freq': 0, 'bagging_fraction': 0.9794991100182464, 'feature_fraction': 0.63728942034678, 'lambda_l1': 38.02920861460169, 'lambda_l2': 39.83162229799324, 'min_gain_to_split': 0.056989793815496015, 'min_data_per_group': 227, 'max_cat_threshold': 485, 'cat_l2': 45.413369095139196, 'cat_smooth': 87.08565525956897, 'max_cat_to_onehot': 27, 'max_bin': 632, 'min_data_in_bin': 34}. Best is trial 2 with value: 0.06795776932350663.\n",
      "[I 2020-08-28 16:30:26,156] Trial 0 finished with value: 0.07143270800070965 and parameters: {'num_iterations': 94, 'learning_rate': 0.4032261012568846, 'num_leaves': 121, 'max_depth': 19, 'min_data_in_leaf': 369, 'min_sum_hessian_in_leaf': 0.1364906231563803, 'bagging_freq': 0, 'bagging_fraction': 0.7271848812213663, 'feature_fraction': 0.6779042758880096, 'lambda_l1': 55.32233457830071, 'lambda_l2': 42.84656691186624, 'min_gain_to_split': 0.07127895884983065, 'min_data_per_group': 431, 'max_cat_threshold': 70, 'cat_l2': 41.37300385050969, 'cat_smooth': 1229.1342054498475, 'max_cat_to_onehot': 16, 'max_bin': 326, 'min_data_in_bin': 37}. Best is trial 0 with value: 0.07143270800070965.\n",
      "[I 2020-08-28 16:30:26,385] Trial 1 finished with value: 0.07067826267813043 and parameters: {'num_iterations': 67, 'learning_rate': 0.03746294609752311, 'num_leaves': 158, 'max_depth': 12, 'min_data_in_leaf': 32, 'min_sum_hessian_in_leaf': 0.14511985173887948, 'bagging_freq': 0, 'bagging_fraction': 0.675761436394881, 'feature_fraction': 0.6330760786411519, 'lambda_l1': 29.782572825444007, 'lambda_l2': 5.1211225902930835, 'min_gain_to_split': 0.18030446870444447, 'min_data_per_group': 346, 'max_cat_threshold': 268, 'cat_l2': 62.50914642127281, 'cat_smooth': 379.560142094743, 'max_cat_to_onehot': 10, 'max_bin': 702, 'min_data_in_bin': 33}. Best is trial 1 with value: 0.07067826267813043.\n",
      "[I 2020-08-28 16:30:26,805] Trial 2 finished with value: 0.06942930517268943 and parameters: {'num_iterations': 91, 'learning_rate': 0.08081207670528569, 'num_leaves': 45, 'max_depth': 30, 'min_data_in_leaf': 52, 'min_sum_hessian_in_leaf': 0.14564408551350866, 'bagging_freq': 1, 'bagging_fraction': 0.7421054227078454, 'feature_fraction': 0.9553626362706973, 'lambda_l1': 33.48323382484937, 'lambda_l2': 25.91037545717554, 'min_gain_to_split': 0.039619274608901967, 'min_data_per_group': 284, 'max_cat_threshold': 377, 'cat_l2': 11.820566283956346, 'cat_smooth': 119.75451760945361, 'max_cat_to_onehot': 11, 'max_bin': 150, 'min_data_in_bin': 10}. Best is trial 2 with value: 0.06942930517268943.\n",
      "[I 2020-08-28 16:30:26,971] Trial 3 finished with value: 0.06873558472145004 and parameters: {'num_iterations': 98, 'learning_rate': 0.48221228650561615, 'num_leaves': 222, 'max_depth': 14, 'min_data_in_leaf': 343, 'min_sum_hessian_in_leaf': 0.16336286068921954, 'bagging_freq': 0, 'bagging_fraction': 0.9794991100182464, 'feature_fraction': 0.63728942034678, 'lambda_l1': 38.02920861460169, 'lambda_l2': 39.83162229799324, 'min_gain_to_split': 0.056989793815496015, 'min_data_per_group': 227, 'max_cat_threshold': 485, 'cat_l2': 45.413369095139196, 'cat_smooth': 87.08565525956897, 'max_cat_to_onehot': 27, 'max_bin': 632, 'min_data_in_bin': 34}. Best is trial 3 with value: 0.06873558472145004.\n",
      "[I 2020-08-28 16:30:28,001] Trial 0 finished with value: 0.07102243802731589 and parameters: {'num_iterations': 94, 'learning_rate': 0.4032261012568846, 'num_leaves': 121, 'max_depth': 19, 'min_data_in_leaf': 369, 'min_sum_hessian_in_leaf': 0.1364906231563803, 'bagging_freq': 0, 'bagging_fraction': 0.7271848812213663, 'feature_fraction': 0.6779042758880096, 'lambda_l1': 55.32233457830071, 'lambda_l2': 42.84656691186624, 'min_gain_to_split': 0.07127895884983065, 'min_data_per_group': 431, 'max_cat_threshold': 70, 'cat_l2': 41.37300385050969, 'cat_smooth': 1229.1342054498475, 'max_cat_to_onehot': 16, 'max_bin': 326, 'min_data_in_bin': 37}. Best is trial 0 with value: 0.07102243802731589.\n",
      "[I 2020-08-28 16:30:28,271] Trial 1 finished with value: 0.06961809677656393 and parameters: {'num_iterations': 67, 'learning_rate': 0.03746294609752311, 'num_leaves': 158, 'max_depth': 12, 'min_data_in_leaf': 32, 'min_sum_hessian_in_leaf': 0.14511985173887948, 'bagging_freq': 0, 'bagging_fraction': 0.675761436394881, 'feature_fraction': 0.6330760786411519, 'lambda_l1': 29.782572825444007, 'lambda_l2': 5.1211225902930835, 'min_gain_to_split': 0.18030446870444447, 'min_data_per_group': 346, 'max_cat_threshold': 268, 'cat_l2': 62.50914642127281, 'cat_smooth': 379.560142094743, 'max_cat_to_onehot': 10, 'max_bin': 702, 'min_data_in_bin': 33}. Best is trial 1 with value: 0.06961809677656393.\n",
      "[I 2020-08-28 16:30:28,759] Trial 2 finished with value: 0.06842590794350611 and parameters: {'num_iterations': 91, 'learning_rate': 0.08081207670528569, 'num_leaves': 45, 'max_depth': 30, 'min_data_in_leaf': 52, 'min_sum_hessian_in_leaf': 0.14564408551350866, 'bagging_freq': 1, 'bagging_fraction': 0.7421054227078454, 'feature_fraction': 0.9553626362706973, 'lambda_l1': 33.48323382484937, 'lambda_l2': 25.91037545717554, 'min_gain_to_split': 0.039619274608901967, 'min_data_per_group': 284, 'max_cat_threshold': 377, 'cat_l2': 11.820566283956346, 'cat_smooth': 119.75451760945361, 'max_cat_to_onehot': 11, 'max_bin': 150, 'min_data_in_bin': 10}. Best is trial 2 with value: 0.06842590794350611.\n",
      "[I 2020-08-28 16:30:28,940] Trial 3 finished with value: 0.06747550917930918 and parameters: {'num_iterations': 98, 'learning_rate': 0.48221228650561615, 'num_leaves': 222, 'max_depth': 14, 'min_data_in_leaf': 343, 'min_sum_hessian_in_leaf': 0.16336286068921954, 'bagging_freq': 0, 'bagging_fraction': 0.9794991100182464, 'feature_fraction': 0.63728942034678, 'lambda_l1': 38.02920861460169, 'lambda_l2': 39.83162229799324, 'min_gain_to_split': 0.056989793815496015, 'min_data_per_group': 227, 'max_cat_threshold': 485, 'cat_l2': 45.413369095139196, 'cat_smooth': 87.08565525956897, 'max_cat_to_onehot': 27, 'max_bin': 632, 'min_data_in_bin': 34}. Best is trial 3 with value: 0.06747550917930918.\n",
      "[I 2020-08-28 16:30:29,992] Trial 0 finished with value: 0.06971892627136739 and parameters: {'num_iterations': 94, 'learning_rate': 0.4032261012568846, 'num_leaves': 121, 'max_depth': 19, 'min_data_in_leaf': 369, 'min_sum_hessian_in_leaf': 0.1364906231563803, 'bagging_freq': 0, 'bagging_fraction': 0.7271848812213663, 'feature_fraction': 0.6779042758880096, 'lambda_l1': 55.32233457830071, 'lambda_l2': 42.84656691186624, 'min_gain_to_split': 0.07127895884983065, 'min_data_per_group': 431, 'max_cat_threshold': 70, 'cat_l2': 41.37300385050969, 'cat_smooth': 1229.1342054498475, 'max_cat_to_onehot': 16, 'max_bin': 326, 'min_data_in_bin': 37}. Best is trial 0 with value: 0.06971892627136739.\n",
      "[I 2020-08-28 16:30:30,225] Trial 1 finished with value: 0.06916704802045089 and parameters: {'num_iterations': 67, 'learning_rate': 0.03746294609752311, 'num_leaves': 158, 'max_depth': 12, 'min_data_in_leaf': 32, 'min_sum_hessian_in_leaf': 0.14511985173887948, 'bagging_freq': 0, 'bagging_fraction': 0.675761436394881, 'feature_fraction': 0.6330760786411519, 'lambda_l1': 29.782572825444007, 'lambda_l2': 5.1211225902930835, 'min_gain_to_split': 0.18030446870444447, 'min_data_per_group': 346, 'max_cat_threshold': 268, 'cat_l2': 62.50914642127281, 'cat_smooth': 379.560142094743, 'max_cat_to_onehot': 10, 'max_bin': 702, 'min_data_in_bin': 33}. Best is trial 1 with value: 0.06916704802045089.\n",
      "[I 2020-08-28 16:30:30,623] Trial 2 finished with value: 0.06762167629125508 and parameters: {'num_iterations': 91, 'learning_rate': 0.08081207670528569, 'num_leaves': 45, 'max_depth': 30, 'min_data_in_leaf': 52, 'min_sum_hessian_in_leaf': 0.14564408551350866, 'bagging_freq': 1, 'bagging_fraction': 0.7421054227078454, 'feature_fraction': 0.9553626362706973, 'lambda_l1': 33.48323382484937, 'lambda_l2': 25.91037545717554, 'min_gain_to_split': 0.039619274608901967, 'min_data_per_group': 284, 'max_cat_threshold': 377, 'cat_l2': 11.820566283956346, 'cat_smooth': 119.75451760945361, 'max_cat_to_onehot': 11, 'max_bin': 150, 'min_data_in_bin': 10}. Best is trial 2 with value: 0.06762167629125508.\n",
      "[I 2020-08-28 16:30:30,817] Trial 3 finished with value: 0.06611982266579622 and parameters: {'num_iterations': 98, 'learning_rate': 0.48221228650561615, 'num_leaves': 222, 'max_depth': 14, 'min_data_in_leaf': 343, 'min_sum_hessian_in_leaf': 0.16336286068921954, 'bagging_freq': 0, 'bagging_fraction': 0.9794991100182464, 'feature_fraction': 0.63728942034678, 'lambda_l1': 38.02920861460169, 'lambda_l2': 39.83162229799324, 'min_gain_to_split': 0.056989793815496015, 'min_data_per_group': 227, 'max_cat_threshold': 485, 'cat_l2': 45.413369095139196, 'cat_smooth': 87.08565525956897, 'max_cat_to_onehot': 27, 'max_bin': 632, 'min_data_in_bin': 34}. Best is trial 3 with value: 0.06611982266579622.\n",
      "[I 2020-08-28 16:30:31,893] Trial 0 finished with value: 0.06893687866675273 and parameters: {'num_iterations': 94, 'learning_rate': 0.4032261012568846, 'num_leaves': 121, 'max_depth': 19, 'min_data_in_leaf': 369, 'min_sum_hessian_in_leaf': 0.1364906231563803, 'bagging_freq': 0, 'bagging_fraction': 0.7271848812213663, 'feature_fraction': 0.6779042758880096, 'lambda_l1': 55.32233457830071, 'lambda_l2': 42.84656691186624, 'min_gain_to_split': 0.07127895884983065, 'min_data_per_group': 431, 'max_cat_threshold': 70, 'cat_l2': 41.37300385050969, 'cat_smooth': 1229.1342054498475, 'max_cat_to_onehot': 16, 'max_bin': 326, 'min_data_in_bin': 37}. Best is trial 0 with value: 0.06893687866675273.\n",
      "[I 2020-08-28 16:30:32,122] Trial 1 finished with value: 0.0682459630533066 and parameters: {'num_iterations': 67, 'learning_rate': 0.03746294609752311, 'num_leaves': 158, 'max_depth': 12, 'min_data_in_leaf': 32, 'min_sum_hessian_in_leaf': 0.14511985173887948, 'bagging_freq': 0, 'bagging_fraction': 0.675761436394881, 'feature_fraction': 0.6330760786411519, 'lambda_l1': 29.782572825444007, 'lambda_l2': 5.1211225902930835, 'min_gain_to_split': 0.18030446870444447, 'min_data_per_group': 346, 'max_cat_threshold': 268, 'cat_l2': 62.50914642127281, 'cat_smooth': 379.560142094743, 'max_cat_to_onehot': 10, 'max_bin': 702, 'min_data_in_bin': 33}. Best is trial 1 with value: 0.0682459630533066.\n",
      "[I 2020-08-28 16:30:32,523] Trial 2 finished with value: 0.0667930609962457 and parameters: {'num_iterations': 91, 'learning_rate': 0.08081207670528569, 'num_leaves': 45, 'max_depth': 30, 'min_data_in_leaf': 52, 'min_sum_hessian_in_leaf': 0.14564408551350866, 'bagging_freq': 1, 'bagging_fraction': 0.7421054227078454, 'feature_fraction': 0.9553626362706973, 'lambda_l1': 33.48323382484937, 'lambda_l2': 25.91037545717554, 'min_gain_to_split': 0.039619274608901967, 'min_data_per_group': 284, 'max_cat_threshold': 377, 'cat_l2': 11.820566283956346, 'cat_smooth': 119.75451760945361, 'max_cat_to_onehot': 11, 'max_bin': 150, 'min_data_in_bin': 10}. Best is trial 2 with value: 0.0667930609962457.\n",
      "[I 2020-08-28 16:30:32,688] Trial 3 finished with value: 0.0656649578713781 and parameters: {'num_iterations': 98, 'learning_rate': 0.48221228650561615, 'num_leaves': 222, 'max_depth': 14, 'min_data_in_leaf': 343, 'min_sum_hessian_in_leaf': 0.16336286068921954, 'bagging_freq': 0, 'bagging_fraction': 0.9794991100182464, 'feature_fraction': 0.63728942034678, 'lambda_l1': 38.02920861460169, 'lambda_l2': 39.83162229799324, 'min_gain_to_split': 0.056989793815496015, 'min_data_per_group': 227, 'max_cat_threshold': 485, 'cat_l2': 45.413369095139196, 'cat_smooth': 87.08565525956897, 'max_cat_to_onehot': 27, 'max_bin': 632, 'min_data_in_bin': 34}. Best is trial 3 with value: 0.0656649578713781.\n",
      "[I 2020-08-28 16:30:33,727] Trial 0 finished with value: 0.07038540167622412 and parameters: {'num_iterations': 94, 'learning_rate': 0.4032261012568846, 'num_leaves': 121, 'max_depth': 19, 'min_data_in_leaf': 369, 'min_sum_hessian_in_leaf': 0.1364906231563803, 'bagging_freq': 0, 'bagging_fraction': 0.7271848812213663, 'feature_fraction': 0.6779042758880096, 'lambda_l1': 55.32233457830071, 'lambda_l2': 42.84656691186624, 'min_gain_to_split': 0.07127895884983065, 'min_data_per_group': 431, 'max_cat_threshold': 70, 'cat_l2': 41.37300385050969, 'cat_smooth': 1229.1342054498475, 'max_cat_to_onehot': 16, 'max_bin': 326, 'min_data_in_bin': 37}. Best is trial 0 with value: 0.07038540167622412.\n",
      "[I 2020-08-28 16:30:33,934] Trial 1 finished with value: 0.06953299187258243 and parameters: {'num_iterations': 67, 'learning_rate': 0.03746294609752311, 'num_leaves': 158, 'max_depth': 12, 'min_data_in_leaf': 32, 'min_sum_hessian_in_leaf': 0.14511985173887948, 'bagging_freq': 0, 'bagging_fraction': 0.675761436394881, 'feature_fraction': 0.6330760786411519, 'lambda_l1': 29.782572825444007, 'lambda_l2': 5.1211225902930835, 'min_gain_to_split': 0.18030446870444447, 'min_data_per_group': 346, 'max_cat_threshold': 268, 'cat_l2': 62.50914642127281, 'cat_smooth': 379.560142094743, 'max_cat_to_onehot': 10, 'max_bin': 702, 'min_data_in_bin': 33}. Best is trial 1 with value: 0.06953299187258243.\n",
      "[I 2020-08-28 16:30:34,309] Trial 2 finished with value: 0.06821286651510948 and parameters: {'num_iterations': 91, 'learning_rate': 0.08081207670528569, 'num_leaves': 45, 'max_depth': 30, 'min_data_in_leaf': 52, 'min_sum_hessian_in_leaf': 0.14564408551350866, 'bagging_freq': 1, 'bagging_fraction': 0.7421054227078454, 'feature_fraction': 0.9553626362706973, 'lambda_l1': 33.48323382484937, 'lambda_l2': 25.91037545717554, 'min_gain_to_split': 0.039619274608901967, 'min_data_per_group': 284, 'max_cat_threshold': 377, 'cat_l2': 11.820566283956346, 'cat_smooth': 119.75451760945361, 'max_cat_to_onehot': 11, 'max_bin': 150, 'min_data_in_bin': 10}. Best is trial 2 with value: 0.06821286651510948.\n",
      "[I 2020-08-28 16:30:34,473] Trial 3 finished with value: 0.06687722503815781 and parameters: {'num_iterations': 98, 'learning_rate': 0.48221228650561615, 'num_leaves': 222, 'max_depth': 14, 'min_data_in_leaf': 343, 'min_sum_hessian_in_leaf': 0.16336286068921954, 'bagging_freq': 0, 'bagging_fraction': 0.9794991100182464, 'feature_fraction': 0.63728942034678, 'lambda_l1': 38.02920861460169, 'lambda_l2': 39.83162229799324, 'min_gain_to_split': 0.056989793815496015, 'min_data_per_group': 227, 'max_cat_threshold': 485, 'cat_l2': 45.413369095139196, 'cat_smooth': 87.08565525956897, 'max_cat_to_onehot': 27, 'max_bin': 632, 'min_data_in_bin': 34}. Best is trial 3 with value: 0.06687722503815781.\n",
      "[I 2020-08-28 16:30:35,489] Trial 0 finished with value: 0.07271234976621246 and parameters: {'num_iterations': 94, 'learning_rate': 0.4032261012568846, 'num_leaves': 121, 'max_depth': 19, 'min_data_in_leaf': 369, 'min_sum_hessian_in_leaf': 0.1364906231563803, 'bagging_freq': 0, 'bagging_fraction': 0.7271848812213663, 'feature_fraction': 0.6779042758880096, 'lambda_l1': 55.32233457830071, 'lambda_l2': 42.84656691186624, 'min_gain_to_split': 0.07127895884983065, 'min_data_per_group': 431, 'max_cat_threshold': 70, 'cat_l2': 41.37300385050969, 'cat_smooth': 1229.1342054498475, 'max_cat_to_onehot': 16, 'max_bin': 326, 'min_data_in_bin': 37}. Best is trial 0 with value: 0.07271234976621246.\n",
      "[I 2020-08-28 16:30:35,703] Trial 1 finished with value: 0.0714302575700381 and parameters: {'num_iterations': 67, 'learning_rate': 0.03746294609752311, 'num_leaves': 158, 'max_depth': 12, 'min_data_in_leaf': 32, 'min_sum_hessian_in_leaf': 0.14511985173887948, 'bagging_freq': 0, 'bagging_fraction': 0.675761436394881, 'feature_fraction': 0.6330760786411519, 'lambda_l1': 29.782572825444007, 'lambda_l2': 5.1211225902930835, 'min_gain_to_split': 0.18030446870444447, 'min_data_per_group': 346, 'max_cat_threshold': 268, 'cat_l2': 62.50914642127281, 'cat_smooth': 379.560142094743, 'max_cat_to_onehot': 10, 'max_bin': 702, 'min_data_in_bin': 33}. Best is trial 1 with value: 0.0714302575700381.\n",
      "[I 2020-08-28 16:30:36,080] Trial 2 finished with value: 0.07146722562626498 and parameters: {'num_iterations': 91, 'learning_rate': 0.08081207670528569, 'num_leaves': 45, 'max_depth': 30, 'min_data_in_leaf': 52, 'min_sum_hessian_in_leaf': 0.14564408551350866, 'bagging_freq': 1, 'bagging_fraction': 0.7421054227078454, 'feature_fraction': 0.9553626362706973, 'lambda_l1': 33.48323382484937, 'lambda_l2': 25.91037545717554, 'min_gain_to_split': 0.039619274608901967, 'min_data_per_group': 284, 'max_cat_threshold': 377, 'cat_l2': 11.820566283956346, 'cat_smooth': 119.75451760945361, 'max_cat_to_onehot': 11, 'max_bin': 150, 'min_data_in_bin': 10}. Best is trial 1 with value: 0.0714302575700381.\n",
      "[I 2020-08-28 16:30:36,244] Trial 3 finished with value: 0.07071737654603273 and parameters: {'num_iterations': 98, 'learning_rate': 0.48221228650561615, 'num_leaves': 222, 'max_depth': 14, 'min_data_in_leaf': 343, 'min_sum_hessian_in_leaf': 0.16336286068921954, 'bagging_freq': 0, 'bagging_fraction': 0.9794991100182464, 'feature_fraction': 0.63728942034678, 'lambda_l1': 38.02920861460169, 'lambda_l2': 39.83162229799324, 'min_gain_to_split': 0.056989793815496015, 'min_data_per_group': 227, 'max_cat_threshold': 485, 'cat_l2': 45.413369095139196, 'cat_smooth': 87.08565525956897, 'max_cat_to_onehot': 27, 'max_bin': 632, 'min_data_in_bin': 34}. Best is trial 3 with value: 0.07071737654603273.\n",
      "[I 2020-08-28 16:30:37,295] Trial 0 finished with value: 0.07283922771384618 and parameters: {'num_iterations': 94, 'learning_rate': 0.4032261012568846, 'num_leaves': 121, 'max_depth': 19, 'min_data_in_leaf': 369, 'min_sum_hessian_in_leaf': 0.1364906231563803, 'bagging_freq': 0, 'bagging_fraction': 0.7271848812213663, 'feature_fraction': 0.6779042758880096, 'lambda_l1': 55.32233457830071, 'lambda_l2': 42.84656691186624, 'min_gain_to_split': 0.07127895884983065, 'min_data_per_group': 431, 'max_cat_threshold': 70, 'cat_l2': 41.37300385050969, 'cat_smooth': 1229.1342054498475, 'max_cat_to_onehot': 16, 'max_bin': 326, 'min_data_in_bin': 37}. Best is trial 0 with value: 0.07283922771384618.\n",
      "[I 2020-08-28 16:30:37,500] Trial 1 finished with value: 0.07054607382164785 and parameters: {'num_iterations': 67, 'learning_rate': 0.03746294609752311, 'num_leaves': 158, 'max_depth': 12, 'min_data_in_leaf': 32, 'min_sum_hessian_in_leaf': 0.14511985173887948, 'bagging_freq': 0, 'bagging_fraction': 0.675761436394881, 'feature_fraction': 0.6330760786411519, 'lambda_l1': 29.782572825444007, 'lambda_l2': 5.1211225902930835, 'min_gain_to_split': 0.18030446870444447, 'min_data_per_group': 346, 'max_cat_threshold': 268, 'cat_l2': 62.50914642127281, 'cat_smooth': 379.560142094743, 'max_cat_to_onehot': 10, 'max_bin': 702, 'min_data_in_bin': 33}. Best is trial 1 with value: 0.07054607382164785.\n",
      "[I 2020-08-28 16:30:37,878] Trial 2 finished with value: 0.07036698092680088 and parameters: {'num_iterations': 91, 'learning_rate': 0.08081207670528569, 'num_leaves': 45, 'max_depth': 30, 'min_data_in_leaf': 52, 'min_sum_hessian_in_leaf': 0.14564408551350866, 'bagging_freq': 1, 'bagging_fraction': 0.7421054227078454, 'feature_fraction': 0.9553626362706973, 'lambda_l1': 33.48323382484937, 'lambda_l2': 25.91037545717554, 'min_gain_to_split': 0.039619274608901967, 'min_data_per_group': 284, 'max_cat_threshold': 377, 'cat_l2': 11.820566283956346, 'cat_smooth': 119.75451760945361, 'max_cat_to_onehot': 11, 'max_bin': 150, 'min_data_in_bin': 10}. Best is trial 2 with value: 0.07036698092680088.\n",
      "[I 2020-08-28 16:30:38,043] Trial 3 finished with value: 0.06944022090317865 and parameters: {'num_iterations': 98, 'learning_rate': 0.48221228650561615, 'num_leaves': 222, 'max_depth': 14, 'min_data_in_leaf': 343, 'min_sum_hessian_in_leaf': 0.16336286068921954, 'bagging_freq': 0, 'bagging_fraction': 0.9794991100182464, 'feature_fraction': 0.63728942034678, 'lambda_l1': 38.02920861460169, 'lambda_l2': 39.83162229799324, 'min_gain_to_split': 0.056989793815496015, 'min_data_per_group': 227, 'max_cat_threshold': 485, 'cat_l2': 45.413369095139196, 'cat_smooth': 87.08565525956897, 'max_cat_to_onehot': 27, 'max_bin': 632, 'min_data_in_bin': 34}. Best is trial 3 with value: 0.06944022090317865.\n",
      "[I 2020-08-28 16:30:39,072] Trial 0 finished with value: 0.07237787476340105 and parameters: {'num_iterations': 94, 'learning_rate': 0.4032261012568846, 'num_leaves': 121, 'max_depth': 19, 'min_data_in_leaf': 369, 'min_sum_hessian_in_leaf': 0.1364906231563803, 'bagging_freq': 0, 'bagging_fraction': 0.7271848812213663, 'feature_fraction': 0.6779042758880096, 'lambda_l1': 55.32233457830071, 'lambda_l2': 42.84656691186624, 'min_gain_to_split': 0.07127895884983065, 'min_data_per_group': 431, 'max_cat_threshold': 70, 'cat_l2': 41.37300385050969, 'cat_smooth': 1229.1342054498475, 'max_cat_to_onehot': 16, 'max_bin': 326, 'min_data_in_bin': 37}. Best is trial 0 with value: 0.07237787476340105.\n",
      "[I 2020-08-28 16:30:39,313] Trial 1 finished with value: 0.07039808603016973 and parameters: {'num_iterations': 67, 'learning_rate': 0.03746294609752311, 'num_leaves': 158, 'max_depth': 12, 'min_data_in_leaf': 32, 'min_sum_hessian_in_leaf': 0.14511985173887948, 'bagging_freq': 0, 'bagging_fraction': 0.675761436394881, 'feature_fraction': 0.6330760786411519, 'lambda_l1': 29.782572825444007, 'lambda_l2': 5.1211225902930835, 'min_gain_to_split': 0.18030446870444447, 'min_data_per_group': 346, 'max_cat_threshold': 268, 'cat_l2': 62.50914642127281, 'cat_smooth': 379.560142094743, 'max_cat_to_onehot': 10, 'max_bin': 702, 'min_data_in_bin': 33}. Best is trial 1 with value: 0.07039808603016973.\n",
      "[I 2020-08-28 16:30:39,699] Trial 2 finished with value: 0.07068917547977664 and parameters: {'num_iterations': 91, 'learning_rate': 0.08081207670528569, 'num_leaves': 45, 'max_depth': 30, 'min_data_in_leaf': 52, 'min_sum_hessian_in_leaf': 0.14564408551350866, 'bagging_freq': 1, 'bagging_fraction': 0.7421054227078454, 'feature_fraction': 0.9553626362706973, 'lambda_l1': 33.48323382484937, 'lambda_l2': 25.91037545717554, 'min_gain_to_split': 0.039619274608901967, 'min_data_per_group': 284, 'max_cat_threshold': 377, 'cat_l2': 11.820566283956346, 'cat_smooth': 119.75451760945361, 'max_cat_to_onehot': 11, 'max_bin': 150, 'min_data_in_bin': 10}. Best is trial 1 with value: 0.07039808603016973.\n",
      "[I 2020-08-28 16:30:39,854] Trial 3 finished with value: 0.0699399064070108 and parameters: {'num_iterations': 98, 'learning_rate': 0.48221228650561615, 'num_leaves': 222, 'max_depth': 14, 'min_data_in_leaf': 343, 'min_sum_hessian_in_leaf': 0.16336286068921954, 'bagging_freq': 0, 'bagging_fraction': 0.9794991100182464, 'feature_fraction': 0.63728942034678, 'lambda_l1': 38.02920861460169, 'lambda_l2': 39.83162229799324, 'min_gain_to_split': 0.056989793815496015, 'min_data_per_group': 227, 'max_cat_threshold': 485, 'cat_l2': 45.413369095139196, 'cat_smooth': 87.08565525956897, 'max_cat_to_onehot': 27, 'max_bin': 632, 'min_data_in_bin': 34}. Best is trial 3 with value: 0.0699399064070108.\n",
      "[I 2020-08-28 16:30:41,017] Trial 0 finished with value: 0.0726141631062603 and parameters: {'num_iterations': 94, 'learning_rate': 0.4032261012568846, 'num_leaves': 121, 'max_depth': 19, 'min_data_in_leaf': 369, 'min_sum_hessian_in_leaf': 0.1364906231563803, 'bagging_freq': 0, 'bagging_fraction': 0.7271848812213663, 'feature_fraction': 0.6779042758880096, 'lambda_l1': 55.32233457830071, 'lambda_l2': 42.84656691186624, 'min_gain_to_split': 0.07127895884983065, 'min_data_per_group': 431, 'max_cat_threshold': 70, 'cat_l2': 41.37300385050969, 'cat_smooth': 1229.1342054498475, 'max_cat_to_onehot': 16, 'max_bin': 326, 'min_data_in_bin': 37}. Best is trial 0 with value: 0.0726141631062603.\n",
      "[I 2020-08-28 16:30:41,246] Trial 1 finished with value: 0.07193871273728797 and parameters: {'num_iterations': 67, 'learning_rate': 0.03746294609752311, 'num_leaves': 158, 'max_depth': 12, 'min_data_in_leaf': 32, 'min_sum_hessian_in_leaf': 0.14511985173887948, 'bagging_freq': 0, 'bagging_fraction': 0.675761436394881, 'feature_fraction': 0.6330760786411519, 'lambda_l1': 29.782572825444007, 'lambda_l2': 5.1211225902930835, 'min_gain_to_split': 0.18030446870444447, 'min_data_per_group': 346, 'max_cat_threshold': 268, 'cat_l2': 62.50914642127281, 'cat_smooth': 379.560142094743, 'max_cat_to_onehot': 10, 'max_bin': 702, 'min_data_in_bin': 33}. Best is trial 1 with value: 0.07193871273728797.\n",
      "[I 2020-08-28 16:30:41,633] Trial 2 finished with value: 0.07104335636711495 and parameters: {'num_iterations': 91, 'learning_rate': 0.08081207670528569, 'num_leaves': 45, 'max_depth': 30, 'min_data_in_leaf': 52, 'min_sum_hessian_in_leaf': 0.14564408551350866, 'bagging_freq': 1, 'bagging_fraction': 0.7421054227078454, 'feature_fraction': 0.9553626362706973, 'lambda_l1': 33.48323382484937, 'lambda_l2': 25.91037545717554, 'min_gain_to_split': 0.039619274608901967, 'min_data_per_group': 284, 'max_cat_threshold': 377, 'cat_l2': 11.820566283956346, 'cat_smooth': 119.75451760945361, 'max_cat_to_onehot': 11, 'max_bin': 150, 'min_data_in_bin': 10}. Best is trial 2 with value: 0.07104335636711495.\n",
      "[I 2020-08-28 16:30:41,791] Trial 3 finished with value: 0.06957550293951904 and parameters: {'num_iterations': 98, 'learning_rate': 0.48221228650561615, 'num_leaves': 222, 'max_depth': 14, 'min_data_in_leaf': 343, 'min_sum_hessian_in_leaf': 0.16336286068921954, 'bagging_freq': 0, 'bagging_fraction': 0.9794991100182464, 'feature_fraction': 0.63728942034678, 'lambda_l1': 38.02920861460169, 'lambda_l2': 39.83162229799324, 'min_gain_to_split': 0.056989793815496015, 'min_data_per_group': 227, 'max_cat_threshold': 485, 'cat_l2': 45.413369095139196, 'cat_smooth': 87.08565525956897, 'max_cat_to_onehot': 27, 'max_bin': 632, 'min_data_in_bin': 34}. Best is trial 3 with value: 0.06957550293951904.\n",
      "[I 2020-08-28 16:30:42,813] Trial 0 finished with value: 0.07116394035507995 and parameters: {'num_iterations': 94, 'learning_rate': 0.4032261012568846, 'num_leaves': 121, 'max_depth': 19, 'min_data_in_leaf': 369, 'min_sum_hessian_in_leaf': 0.1364906231563803, 'bagging_freq': 0, 'bagging_fraction': 0.7271848812213663, 'feature_fraction': 0.6779042758880096, 'lambda_l1': 55.32233457830071, 'lambda_l2': 42.84656691186624, 'min_gain_to_split': 0.07127895884983065, 'min_data_per_group': 431, 'max_cat_threshold': 70, 'cat_l2': 41.37300385050969, 'cat_smooth': 1229.1342054498475, 'max_cat_to_onehot': 16, 'max_bin': 326, 'min_data_in_bin': 37}. Best is trial 0 with value: 0.07116394035507995.\n",
      "[I 2020-08-28 16:30:43,022] Trial 1 finished with value: 0.07096050492954005 and parameters: {'num_iterations': 67, 'learning_rate': 0.03746294609752311, 'num_leaves': 158, 'max_depth': 12, 'min_data_in_leaf': 32, 'min_sum_hessian_in_leaf': 0.14511985173887948, 'bagging_freq': 0, 'bagging_fraction': 0.675761436394881, 'feature_fraction': 0.6330760786411519, 'lambda_l1': 29.782572825444007, 'lambda_l2': 5.1211225902930835, 'min_gain_to_split': 0.18030446870444447, 'min_data_per_group': 346, 'max_cat_threshold': 268, 'cat_l2': 62.50914642127281, 'cat_smooth': 379.560142094743, 'max_cat_to_onehot': 10, 'max_bin': 702, 'min_data_in_bin': 33}. Best is trial 1 with value: 0.07096050492954005.\n",
      "[I 2020-08-28 16:30:43,389] Trial 2 finished with value: 0.06979940886658975 and parameters: {'num_iterations': 91, 'learning_rate': 0.08081207670528569, 'num_leaves': 45, 'max_depth': 30, 'min_data_in_leaf': 52, 'min_sum_hessian_in_leaf': 0.14564408551350866, 'bagging_freq': 1, 'bagging_fraction': 0.7421054227078454, 'feature_fraction': 0.9553626362706973, 'lambda_l1': 33.48323382484937, 'lambda_l2': 25.91037545717554, 'min_gain_to_split': 0.039619274608901967, 'min_data_per_group': 284, 'max_cat_threshold': 377, 'cat_l2': 11.820566283956346, 'cat_smooth': 119.75451760945361, 'max_cat_to_onehot': 11, 'max_bin': 150, 'min_data_in_bin': 10}. Best is trial 2 with value: 0.06979940886658975.\n",
      "[I 2020-08-28 16:30:43,560] Trial 3 finished with value: 0.06886358503559066 and parameters: {'num_iterations': 98, 'learning_rate': 0.48221228650561615, 'num_leaves': 222, 'max_depth': 14, 'min_data_in_leaf': 343, 'min_sum_hessian_in_leaf': 0.16336286068921954, 'bagging_freq': 0, 'bagging_fraction': 0.9794991100182464, 'feature_fraction': 0.63728942034678, 'lambda_l1': 38.02920861460169, 'lambda_l2': 39.83162229799324, 'min_gain_to_split': 0.056989793815496015, 'min_data_per_group': 227, 'max_cat_threshold': 485, 'cat_l2': 45.413369095139196, 'cat_smooth': 87.08565525956897, 'max_cat_to_onehot': 27, 'max_bin': 632, 'min_data_in_bin': 34}. Best is trial 3 with value: 0.06886358503559066.\n",
      "[I 2020-08-28 16:30:44,580] Trial 0 finished with value: 0.06983192769443408 and parameters: {'num_iterations': 94, 'learning_rate': 0.4032261012568846, 'num_leaves': 121, 'max_depth': 19, 'min_data_in_leaf': 369, 'min_sum_hessian_in_leaf': 0.1364906231563803, 'bagging_freq': 0, 'bagging_fraction': 0.7271848812213663, 'feature_fraction': 0.6779042758880096, 'lambda_l1': 55.32233457830071, 'lambda_l2': 42.84656691186624, 'min_gain_to_split': 0.07127895884983065, 'min_data_per_group': 431, 'max_cat_threshold': 70, 'cat_l2': 41.37300385050969, 'cat_smooth': 1229.1342054498475, 'max_cat_to_onehot': 16, 'max_bin': 326, 'min_data_in_bin': 37}. Best is trial 0 with value: 0.06983192769443408.\n",
      "[I 2020-08-28 16:30:44,774] Trial 1 finished with value: 0.07004866250476476 and parameters: {'num_iterations': 67, 'learning_rate': 0.03746294609752311, 'num_leaves': 158, 'max_depth': 12, 'min_data_in_leaf': 32, 'min_sum_hessian_in_leaf': 0.14511985173887948, 'bagging_freq': 0, 'bagging_fraction': 0.675761436394881, 'feature_fraction': 0.6330760786411519, 'lambda_l1': 29.782572825444007, 'lambda_l2': 5.1211225902930835, 'min_gain_to_split': 0.18030446870444447, 'min_data_per_group': 346, 'max_cat_threshold': 268, 'cat_l2': 62.50914642127281, 'cat_smooth': 379.560142094743, 'max_cat_to_onehot': 10, 'max_bin': 702, 'min_data_in_bin': 33}. Best is trial 0 with value: 0.06983192769443408.\n",
      "[I 2020-08-28 16:30:45,152] Trial 2 finished with value: 0.06832060822280704 and parameters: {'num_iterations': 91, 'learning_rate': 0.08081207670528569, 'num_leaves': 45, 'max_depth': 30, 'min_data_in_leaf': 52, 'min_sum_hessian_in_leaf': 0.14564408551350866, 'bagging_freq': 1, 'bagging_fraction': 0.7421054227078454, 'feature_fraction': 0.9553626362706973, 'lambda_l1': 33.48323382484937, 'lambda_l2': 25.91037545717554, 'min_gain_to_split': 0.039619274608901967, 'min_data_per_group': 284, 'max_cat_threshold': 377, 'cat_l2': 11.820566283956346, 'cat_smooth': 119.75451760945361, 'max_cat_to_onehot': 11, 'max_bin': 150, 'min_data_in_bin': 10}. Best is trial 2 with value: 0.06832060822280704.\n",
      "[I 2020-08-28 16:30:45,326] Trial 3 finished with value: 0.06837800641203466 and parameters: {'num_iterations': 98, 'learning_rate': 0.48221228650561615, 'num_leaves': 222, 'max_depth': 14, 'min_data_in_leaf': 343, 'min_sum_hessian_in_leaf': 0.16336286068921954, 'bagging_freq': 0, 'bagging_fraction': 0.9794991100182464, 'feature_fraction': 0.63728942034678, 'lambda_l1': 38.02920861460169, 'lambda_l2': 39.83162229799324, 'min_gain_to_split': 0.056989793815496015, 'min_data_per_group': 227, 'max_cat_threshold': 485, 'cat_l2': 45.413369095139196, 'cat_smooth': 87.08565525956897, 'max_cat_to_onehot': 27, 'max_bin': 632, 'min_data_in_bin': 34}. Best is trial 2 with value: 0.06832060822280704.\n",
      "[I 2020-08-28 16:30:46,370] Trial 0 finished with value: 0.0695290176335461 and parameters: {'num_iterations': 94, 'learning_rate': 0.4032261012568846, 'num_leaves': 121, 'max_depth': 19, 'min_data_in_leaf': 369, 'min_sum_hessian_in_leaf': 0.1364906231563803, 'bagging_freq': 0, 'bagging_fraction': 0.7271848812213663, 'feature_fraction': 0.6779042758880096, 'lambda_l1': 55.32233457830071, 'lambda_l2': 42.84656691186624, 'min_gain_to_split': 0.07127895884983065, 'min_data_per_group': 431, 'max_cat_threshold': 70, 'cat_l2': 41.37300385050969, 'cat_smooth': 1229.1342054498475, 'max_cat_to_onehot': 16, 'max_bin': 326, 'min_data_in_bin': 37}. Best is trial 0 with value: 0.0695290176335461.\n",
      "[I 2020-08-28 16:30:46,551] Trial 1 finished with value: 0.07022496274366923 and parameters: {'num_iterations': 67, 'learning_rate': 0.03746294609752311, 'num_leaves': 158, 'max_depth': 12, 'min_data_in_leaf': 32, 'min_sum_hessian_in_leaf': 0.14511985173887948, 'bagging_freq': 0, 'bagging_fraction': 0.675761436394881, 'feature_fraction': 0.6330760786411519, 'lambda_l1': 29.782572825444007, 'lambda_l2': 5.1211225902930835, 'min_gain_to_split': 0.18030446870444447, 'min_data_per_group': 346, 'max_cat_threshold': 268, 'cat_l2': 62.50914642127281, 'cat_smooth': 379.560142094743, 'max_cat_to_onehot': 10, 'max_bin': 702, 'min_data_in_bin': 33}. Best is trial 0 with value: 0.0695290176335461.\n",
      "[I 2020-08-28 16:30:46,944] Trial 2 finished with value: 0.06859033145138223 and parameters: {'num_iterations': 91, 'learning_rate': 0.08081207670528569, 'num_leaves': 45, 'max_depth': 30, 'min_data_in_leaf': 52, 'min_sum_hessian_in_leaf': 0.14564408551350866, 'bagging_freq': 1, 'bagging_fraction': 0.7421054227078454, 'feature_fraction': 0.9553626362706973, 'lambda_l1': 33.48323382484937, 'lambda_l2': 25.91037545717554, 'min_gain_to_split': 0.039619274608901967, 'min_data_per_group': 284, 'max_cat_threshold': 377, 'cat_l2': 11.820566283956346, 'cat_smooth': 119.75451760945361, 'max_cat_to_onehot': 11, 'max_bin': 150, 'min_data_in_bin': 10}. Best is trial 2 with value: 0.06859033145138223.\n",
      "[I 2020-08-28 16:30:47,089] Trial 3 finished with value: 0.06868455052861738 and parameters: {'num_iterations': 98, 'learning_rate': 0.48221228650561615, 'num_leaves': 222, 'max_depth': 14, 'min_data_in_leaf': 343, 'min_sum_hessian_in_leaf': 0.16336286068921954, 'bagging_freq': 0, 'bagging_fraction': 0.9794991100182464, 'feature_fraction': 0.63728942034678, 'lambda_l1': 38.02920861460169, 'lambda_l2': 39.83162229799324, 'min_gain_to_split': 0.056989793815496015, 'min_data_per_group': 227, 'max_cat_threshold': 485, 'cat_l2': 45.413369095139196, 'cat_smooth': 87.08565525956897, 'max_cat_to_onehot': 27, 'max_bin': 632, 'min_data_in_bin': 34}. Best is trial 2 with value: 0.06859033145138223.\n",
      "[I 2020-08-28 16:30:48,058] Trial 0 finished with value: 0.06987801664131822 and parameters: {'num_iterations': 94, 'learning_rate': 0.4032261012568846, 'num_leaves': 121, 'max_depth': 19, 'min_data_in_leaf': 369, 'min_sum_hessian_in_leaf': 0.1364906231563803, 'bagging_freq': 0, 'bagging_fraction': 0.7271848812213663, 'feature_fraction': 0.6779042758880096, 'lambda_l1': 55.32233457830071, 'lambda_l2': 42.84656691186624, 'min_gain_to_split': 0.07127895884983065, 'min_data_per_group': 431, 'max_cat_threshold': 70, 'cat_l2': 41.37300385050969, 'cat_smooth': 1229.1342054498475, 'max_cat_to_onehot': 16, 'max_bin': 326, 'min_data_in_bin': 37}. Best is trial 0 with value: 0.06987801664131822.\n",
      "[I 2020-08-28 16:30:48,238] Trial 1 finished with value: 0.06953323316027664 and parameters: {'num_iterations': 67, 'learning_rate': 0.03746294609752311, 'num_leaves': 158, 'max_depth': 12, 'min_data_in_leaf': 32, 'min_sum_hessian_in_leaf': 0.14511985173887948, 'bagging_freq': 0, 'bagging_fraction': 0.675761436394881, 'feature_fraction': 0.6330760786411519, 'lambda_l1': 29.782572825444007, 'lambda_l2': 5.1211225902930835, 'min_gain_to_split': 0.18030446870444447, 'min_data_per_group': 346, 'max_cat_threshold': 268, 'cat_l2': 62.50914642127281, 'cat_smooth': 379.560142094743, 'max_cat_to_onehot': 10, 'max_bin': 702, 'min_data_in_bin': 33}. Best is trial 1 with value: 0.06953323316027664.\n",
      "[I 2020-08-28 16:30:48,578] Trial 2 finished with value: 0.06825603644919052 and parameters: {'num_iterations': 91, 'learning_rate': 0.08081207670528569, 'num_leaves': 45, 'max_depth': 30, 'min_data_in_leaf': 52, 'min_sum_hessian_in_leaf': 0.14564408551350866, 'bagging_freq': 1, 'bagging_fraction': 0.7421054227078454, 'feature_fraction': 0.9553626362706973, 'lambda_l1': 33.48323382484937, 'lambda_l2': 25.91037545717554, 'min_gain_to_split': 0.039619274608901967, 'min_data_per_group': 284, 'max_cat_threshold': 377, 'cat_l2': 11.820566283956346, 'cat_smooth': 119.75451760945361, 'max_cat_to_onehot': 11, 'max_bin': 150, 'min_data_in_bin': 10}. Best is trial 2 with value: 0.06825603644919052.\n",
      "[I 2020-08-28 16:30:48,714] Trial 3 finished with value: 0.06809232262989029 and parameters: {'num_iterations': 98, 'learning_rate': 0.48221228650561615, 'num_leaves': 222, 'max_depth': 14, 'min_data_in_leaf': 343, 'min_sum_hessian_in_leaf': 0.16336286068921954, 'bagging_freq': 0, 'bagging_fraction': 0.9794991100182464, 'feature_fraction': 0.63728942034678, 'lambda_l1': 38.02920861460169, 'lambda_l2': 39.83162229799324, 'min_gain_to_split': 0.056989793815496015, 'min_data_per_group': 227, 'max_cat_threshold': 485, 'cat_l2': 45.413369095139196, 'cat_smooth': 87.08565525956897, 'max_cat_to_onehot': 27, 'max_bin': 632, 'min_data_in_bin': 34}. Best is trial 3 with value: 0.06809232262989029.\n",
      "[I 2020-08-28 16:30:49,643] Trial 0 finished with value: 0.06937493287629315 and parameters: {'num_iterations': 94, 'learning_rate': 0.4032261012568846, 'num_leaves': 121, 'max_depth': 19, 'min_data_in_leaf': 369, 'min_sum_hessian_in_leaf': 0.1364906231563803, 'bagging_freq': 0, 'bagging_fraction': 0.7271848812213663, 'feature_fraction': 0.6779042758880096, 'lambda_l1': 55.32233457830071, 'lambda_l2': 42.84656691186624, 'min_gain_to_split': 0.07127895884983065, 'min_data_per_group': 431, 'max_cat_threshold': 70, 'cat_l2': 41.37300385050969, 'cat_smooth': 1229.1342054498475, 'max_cat_to_onehot': 16, 'max_bin': 326, 'min_data_in_bin': 37}. Best is trial 0 with value: 0.06937493287629315.\n",
      "[I 2020-08-28 16:30:49,818] Trial 1 finished with value: 0.0688154790594637 and parameters: {'num_iterations': 67, 'learning_rate': 0.03746294609752311, 'num_leaves': 158, 'max_depth': 12, 'min_data_in_leaf': 32, 'min_sum_hessian_in_leaf': 0.14511985173887948, 'bagging_freq': 0, 'bagging_fraction': 0.675761436394881, 'feature_fraction': 0.6330760786411519, 'lambda_l1': 29.782572825444007, 'lambda_l2': 5.1211225902930835, 'min_gain_to_split': 0.18030446870444447, 'min_data_per_group': 346, 'max_cat_threshold': 268, 'cat_l2': 62.50914642127281, 'cat_smooth': 379.560142094743, 'max_cat_to_onehot': 10, 'max_bin': 702, 'min_data_in_bin': 33}. Best is trial 1 with value: 0.0688154790594637.\n",
      "[I 2020-08-28 16:30:50,156] Trial 2 finished with value: 0.06821587692649307 and parameters: {'num_iterations': 91, 'learning_rate': 0.08081207670528569, 'num_leaves': 45, 'max_depth': 30, 'min_data_in_leaf': 52, 'min_sum_hessian_in_leaf': 0.14564408551350866, 'bagging_freq': 1, 'bagging_fraction': 0.7421054227078454, 'feature_fraction': 0.9553626362706973, 'lambda_l1': 33.48323382484937, 'lambda_l2': 25.91037545717554, 'min_gain_to_split': 0.039619274608901967, 'min_data_per_group': 284, 'max_cat_threshold': 377, 'cat_l2': 11.820566283956346, 'cat_smooth': 119.75451760945361, 'max_cat_to_onehot': 11, 'max_bin': 150, 'min_data_in_bin': 10}. Best is trial 2 with value: 0.06821587692649307.\n",
      "[I 2020-08-28 16:30:50,296] Trial 3 finished with value: 0.06745315991812585 and parameters: {'num_iterations': 98, 'learning_rate': 0.48221228650561615, 'num_leaves': 222, 'max_depth': 14, 'min_data_in_leaf': 343, 'min_sum_hessian_in_leaf': 0.16336286068921954, 'bagging_freq': 0, 'bagging_fraction': 0.9794991100182464, 'feature_fraction': 0.63728942034678, 'lambda_l1': 38.02920861460169, 'lambda_l2': 39.83162229799324, 'min_gain_to_split': 0.056989793815496015, 'min_data_per_group': 227, 'max_cat_threshold': 485, 'cat_l2': 45.413369095139196, 'cat_smooth': 87.08565525956897, 'max_cat_to_onehot': 27, 'max_bin': 632, 'min_data_in_bin': 34}. Best is trial 3 with value: 0.06745315991812585.\n",
      "[I 2020-08-28 16:30:51,244] Trial 0 finished with value: 0.06946994691731519 and parameters: {'num_iterations': 94, 'learning_rate': 0.4032261012568846, 'num_leaves': 121, 'max_depth': 19, 'min_data_in_leaf': 369, 'min_sum_hessian_in_leaf': 0.1364906231563803, 'bagging_freq': 0, 'bagging_fraction': 0.7271848812213663, 'feature_fraction': 0.6779042758880096, 'lambda_l1': 55.32233457830071, 'lambda_l2': 42.84656691186624, 'min_gain_to_split': 0.07127895884983065, 'min_data_per_group': 431, 'max_cat_threshold': 70, 'cat_l2': 41.37300385050969, 'cat_smooth': 1229.1342054498475, 'max_cat_to_onehot': 16, 'max_bin': 326, 'min_data_in_bin': 37}. Best is trial 0 with value: 0.06946994691731519.\n",
      "[I 2020-08-28 16:30:51,418] Trial 1 finished with value: 0.06910549734940326 and parameters: {'num_iterations': 67, 'learning_rate': 0.03746294609752311, 'num_leaves': 158, 'max_depth': 12, 'min_data_in_leaf': 32, 'min_sum_hessian_in_leaf': 0.14511985173887948, 'bagging_freq': 0, 'bagging_fraction': 0.675761436394881, 'feature_fraction': 0.6330760786411519, 'lambda_l1': 29.782572825444007, 'lambda_l2': 5.1211225902930835, 'min_gain_to_split': 0.18030446870444447, 'min_data_per_group': 346, 'max_cat_threshold': 268, 'cat_l2': 62.50914642127281, 'cat_smooth': 379.560142094743, 'max_cat_to_onehot': 10, 'max_bin': 702, 'min_data_in_bin': 33}. Best is trial 1 with value: 0.06910549734940326.\n",
      "[I 2020-08-28 16:30:51,748] Trial 2 finished with value: 0.06843609019511117 and parameters: {'num_iterations': 91, 'learning_rate': 0.08081207670528569, 'num_leaves': 45, 'max_depth': 30, 'min_data_in_leaf': 52, 'min_sum_hessian_in_leaf': 0.14564408551350866, 'bagging_freq': 1, 'bagging_fraction': 0.7421054227078454, 'feature_fraction': 0.9553626362706973, 'lambda_l1': 33.48323382484937, 'lambda_l2': 25.91037545717554, 'min_gain_to_split': 0.039619274608901967, 'min_data_per_group': 284, 'max_cat_threshold': 377, 'cat_l2': 11.820566283956346, 'cat_smooth': 119.75451760945361, 'max_cat_to_onehot': 11, 'max_bin': 150, 'min_data_in_bin': 10}. Best is trial 2 with value: 0.06843609019511117.\n",
      "[I 2020-08-28 16:30:51,881] Trial 3 finished with value: 0.06807496407122615 and parameters: {'num_iterations': 98, 'learning_rate': 0.48221228650561615, 'num_leaves': 222, 'max_depth': 14, 'min_data_in_leaf': 343, 'min_sum_hessian_in_leaf': 0.16336286068921954, 'bagging_freq': 0, 'bagging_fraction': 0.9794991100182464, 'feature_fraction': 0.63728942034678, 'lambda_l1': 38.02920861460169, 'lambda_l2': 39.83162229799324, 'min_gain_to_split': 0.056989793815496015, 'min_data_per_group': 227, 'max_cat_threshold': 485, 'cat_l2': 45.413369095139196, 'cat_smooth': 87.08565525956897, 'max_cat_to_onehot': 27, 'max_bin': 632, 'min_data_in_bin': 34}. Best is trial 3 with value: 0.06807496407122615.\n",
      "[I 2020-08-28 16:30:52,904] Trial 0 finished with value: 0.07006446617614867 and parameters: {'num_iterations': 94, 'learning_rate': 0.4032261012568846, 'num_leaves': 121, 'max_depth': 19, 'min_data_in_leaf': 369, 'min_sum_hessian_in_leaf': 0.1364906231563803, 'bagging_freq': 0, 'bagging_fraction': 0.7271848812213663, 'feature_fraction': 0.6779042758880096, 'lambda_l1': 55.32233457830071, 'lambda_l2': 42.84656691186624, 'min_gain_to_split': 0.07127895884983065, 'min_data_per_group': 431, 'max_cat_threshold': 70, 'cat_l2': 41.37300385050969, 'cat_smooth': 1229.1342054498475, 'max_cat_to_onehot': 16, 'max_bin': 326, 'min_data_in_bin': 37}. Best is trial 0 with value: 0.07006446617614867.\n",
      "[I 2020-08-28 16:30:53,081] Trial 1 finished with value: 0.06964644113329008 and parameters: {'num_iterations': 67, 'learning_rate': 0.03746294609752311, 'num_leaves': 158, 'max_depth': 12, 'min_data_in_leaf': 32, 'min_sum_hessian_in_leaf': 0.14511985173887948, 'bagging_freq': 0, 'bagging_fraction': 0.675761436394881, 'feature_fraction': 0.6330760786411519, 'lambda_l1': 29.782572825444007, 'lambda_l2': 5.1211225902930835, 'min_gain_to_split': 0.18030446870444447, 'min_data_per_group': 346, 'max_cat_threshold': 268, 'cat_l2': 62.50914642127281, 'cat_smooth': 379.560142094743, 'max_cat_to_onehot': 10, 'max_bin': 702, 'min_data_in_bin': 33}. Best is trial 1 with value: 0.06964644113329008.\n",
      "[I 2020-08-28 16:30:53,421] Trial 2 finished with value: 0.06917576828293714 and parameters: {'num_iterations': 91, 'learning_rate': 0.08081207670528569, 'num_leaves': 45, 'max_depth': 30, 'min_data_in_leaf': 52, 'min_sum_hessian_in_leaf': 0.14564408551350866, 'bagging_freq': 1, 'bagging_fraction': 0.7421054227078454, 'feature_fraction': 0.9553626362706973, 'lambda_l1': 33.48323382484937, 'lambda_l2': 25.91037545717554, 'min_gain_to_split': 0.039619274608901967, 'min_data_per_group': 284, 'max_cat_threshold': 377, 'cat_l2': 11.820566283956346, 'cat_smooth': 119.75451760945361, 'max_cat_to_onehot': 11, 'max_bin': 150, 'min_data_in_bin': 10}. Best is trial 2 with value: 0.06917576828293714.\n",
      "[I 2020-08-28 16:30:53,568] Trial 3 finished with value: 0.06887138643197604 and parameters: {'num_iterations': 98, 'learning_rate': 0.48221228650561615, 'num_leaves': 222, 'max_depth': 14, 'min_data_in_leaf': 343, 'min_sum_hessian_in_leaf': 0.16336286068921954, 'bagging_freq': 0, 'bagging_fraction': 0.9794991100182464, 'feature_fraction': 0.63728942034678, 'lambda_l1': 38.02920861460169, 'lambda_l2': 39.83162229799324, 'min_gain_to_split': 0.056989793815496015, 'min_data_per_group': 227, 'max_cat_threshold': 485, 'cat_l2': 45.413369095139196, 'cat_smooth': 87.08565525956897, 'max_cat_to_onehot': 27, 'max_bin': 632, 'min_data_in_bin': 34}. Best is trial 3 with value: 0.06887138643197604.\n",
      "[I 2020-08-28 16:30:54,540] Trial 0 finished with value: 0.06951473342498889 and parameters: {'num_iterations': 94, 'learning_rate': 0.4032261012568846, 'num_leaves': 121, 'max_depth': 19, 'min_data_in_leaf': 369, 'min_sum_hessian_in_leaf': 0.1364906231563803, 'bagging_freq': 0, 'bagging_fraction': 0.7271848812213663, 'feature_fraction': 0.6779042758880096, 'lambda_l1': 55.32233457830071, 'lambda_l2': 42.84656691186624, 'min_gain_to_split': 0.07127895884983065, 'min_data_per_group': 431, 'max_cat_threshold': 70, 'cat_l2': 41.37300385050969, 'cat_smooth': 1229.1342054498475, 'max_cat_to_onehot': 16, 'max_bin': 326, 'min_data_in_bin': 37}. Best is trial 0 with value: 0.06951473342498889.\n",
      "[I 2020-08-28 16:30:54,702] Trial 1 finished with value: 0.06843457551846799 and parameters: {'num_iterations': 67, 'learning_rate': 0.03746294609752311, 'num_leaves': 158, 'max_depth': 12, 'min_data_in_leaf': 32, 'min_sum_hessian_in_leaf': 0.14511985173887948, 'bagging_freq': 0, 'bagging_fraction': 0.675761436394881, 'feature_fraction': 0.6330760786411519, 'lambda_l1': 29.782572825444007, 'lambda_l2': 5.1211225902930835, 'min_gain_to_split': 0.18030446870444447, 'min_data_per_group': 346, 'max_cat_threshold': 268, 'cat_l2': 62.50914642127281, 'cat_smooth': 379.560142094743, 'max_cat_to_onehot': 10, 'max_bin': 702, 'min_data_in_bin': 33}. Best is trial 1 with value: 0.06843457551846799.\n",
      "[I 2020-08-28 16:30:55,037] Trial 2 finished with value: 0.06988766411386509 and parameters: {'num_iterations': 91, 'learning_rate': 0.08081207670528569, 'num_leaves': 45, 'max_depth': 30, 'min_data_in_leaf': 52, 'min_sum_hessian_in_leaf': 0.14564408551350866, 'bagging_freq': 1, 'bagging_fraction': 0.7421054227078454, 'feature_fraction': 0.9553626362706973, 'lambda_l1': 33.48323382484937, 'lambda_l2': 25.91037545717554, 'min_gain_to_split': 0.039619274608901967, 'min_data_per_group': 284, 'max_cat_threshold': 377, 'cat_l2': 11.820566283956346, 'cat_smooth': 119.75451760945361, 'max_cat_to_onehot': 11, 'max_bin': 150, 'min_data_in_bin': 10}. Best is trial 1 with value: 0.06843457551846799.\n",
      "[I 2020-08-28 16:30:55,169] Trial 3 finished with value: 0.0685387104483714 and parameters: {'num_iterations': 98, 'learning_rate': 0.48221228650561615, 'num_leaves': 222, 'max_depth': 14, 'min_data_in_leaf': 343, 'min_sum_hessian_in_leaf': 0.16336286068921954, 'bagging_freq': 0, 'bagging_fraction': 0.9794991100182464, 'feature_fraction': 0.63728942034678, 'lambda_l1': 38.02920861460169, 'lambda_l2': 39.83162229799324, 'min_gain_to_split': 0.056989793815496015, 'min_data_per_group': 227, 'max_cat_threshold': 485, 'cat_l2': 45.413369095139196, 'cat_smooth': 87.08565525956897, 'max_cat_to_onehot': 27, 'max_bin': 632, 'min_data_in_bin': 34}. Best is trial 1 with value: 0.06843457551846799.\n",
      "[I 2020-08-28 16:30:56,069] Trial 0 finished with value: 0.0697712757993946 and parameters: {'num_iterations': 94, 'learning_rate': 0.4032261012568846, 'num_leaves': 121, 'max_depth': 19, 'min_data_in_leaf': 369, 'min_sum_hessian_in_leaf': 0.1364906231563803, 'bagging_freq': 0, 'bagging_fraction': 0.7271848812213663, 'feature_fraction': 0.6779042758880096, 'lambda_l1': 55.32233457830071, 'lambda_l2': 42.84656691186624, 'min_gain_to_split': 0.07127895884983065, 'min_data_per_group': 431, 'max_cat_threshold': 70, 'cat_l2': 41.37300385050969, 'cat_smooth': 1229.1342054498475, 'max_cat_to_onehot': 16, 'max_bin': 326, 'min_data_in_bin': 37}. Best is trial 0 with value: 0.0697712757993946.\n",
      "[I 2020-08-28 16:30:56,227] Trial 1 finished with value: 0.06850191264046578 and parameters: {'num_iterations': 67, 'learning_rate': 0.03746294609752311, 'num_leaves': 158, 'max_depth': 12, 'min_data_in_leaf': 32, 'min_sum_hessian_in_leaf': 0.14511985173887948, 'bagging_freq': 0, 'bagging_fraction': 0.675761436394881, 'feature_fraction': 0.6330760786411519, 'lambda_l1': 29.782572825444007, 'lambda_l2': 5.1211225902930835, 'min_gain_to_split': 0.18030446870444447, 'min_data_per_group': 346, 'max_cat_threshold': 268, 'cat_l2': 62.50914642127281, 'cat_smooth': 379.560142094743, 'max_cat_to_onehot': 10, 'max_bin': 702, 'min_data_in_bin': 33}. Best is trial 1 with value: 0.06850191264046578.\n",
      "[I 2020-08-28 16:30:56,550] Trial 2 finished with value: 0.06914461751321792 and parameters: {'num_iterations': 91, 'learning_rate': 0.08081207670528569, 'num_leaves': 45, 'max_depth': 30, 'min_data_in_leaf': 52, 'min_sum_hessian_in_leaf': 0.14564408551350866, 'bagging_freq': 1, 'bagging_fraction': 0.7421054227078454, 'feature_fraction': 0.9553626362706973, 'lambda_l1': 33.48323382484937, 'lambda_l2': 25.91037545717554, 'min_gain_to_split': 0.039619274608901967, 'min_data_per_group': 284, 'max_cat_threshold': 377, 'cat_l2': 11.820566283956346, 'cat_smooth': 119.75451760945361, 'max_cat_to_onehot': 11, 'max_bin': 150, 'min_data_in_bin': 10}. Best is trial 1 with value: 0.06850191264046578.\n",
      "[I 2020-08-28 16:30:56,693] Trial 3 finished with value: 0.068807477548264 and parameters: {'num_iterations': 98, 'learning_rate': 0.48221228650561615, 'num_leaves': 222, 'max_depth': 14, 'min_data_in_leaf': 343, 'min_sum_hessian_in_leaf': 0.16336286068921954, 'bagging_freq': 0, 'bagging_fraction': 0.9794991100182464, 'feature_fraction': 0.63728942034678, 'lambda_l1': 38.02920861460169, 'lambda_l2': 39.83162229799324, 'min_gain_to_split': 0.056989793815496015, 'min_data_per_group': 227, 'max_cat_threshold': 485, 'cat_l2': 45.413369095139196, 'cat_smooth': 87.08565525956897, 'max_cat_to_onehot': 27, 'max_bin': 632, 'min_data_in_bin': 34}. Best is trial 1 with value: 0.06850191264046578.\n",
      "[I 2020-08-28 16:30:57,758] Trial 0 finished with value: 0.06988185689293741 and parameters: {'num_iterations': 94, 'learning_rate': 0.4032261012568846, 'num_leaves': 121, 'max_depth': 19, 'min_data_in_leaf': 369, 'min_sum_hessian_in_leaf': 0.1364906231563803, 'bagging_freq': 0, 'bagging_fraction': 0.7271848812213663, 'feature_fraction': 0.6779042758880096, 'lambda_l1': 55.32233457830071, 'lambda_l2': 42.84656691186624, 'min_gain_to_split': 0.07127895884983065, 'min_data_per_group': 431, 'max_cat_threshold': 70, 'cat_l2': 41.37300385050969, 'cat_smooth': 1229.1342054498475, 'max_cat_to_onehot': 16, 'max_bin': 326, 'min_data_in_bin': 37}. Best is trial 0 with value: 0.06988185689293741.\n",
      "[I 2020-08-28 16:30:57,933] Trial 1 finished with value: 0.06826638234567116 and parameters: {'num_iterations': 67, 'learning_rate': 0.03746294609752311, 'num_leaves': 158, 'max_depth': 12, 'min_data_in_leaf': 32, 'min_sum_hessian_in_leaf': 0.14511985173887948, 'bagging_freq': 0, 'bagging_fraction': 0.675761436394881, 'feature_fraction': 0.6330760786411519, 'lambda_l1': 29.782572825444007, 'lambda_l2': 5.1211225902930835, 'min_gain_to_split': 0.18030446870444447, 'min_data_per_group': 346, 'max_cat_threshold': 268, 'cat_l2': 62.50914642127281, 'cat_smooth': 379.560142094743, 'max_cat_to_onehot': 10, 'max_bin': 702, 'min_data_in_bin': 33}. Best is trial 1 with value: 0.06826638234567116.\n",
      "[I 2020-08-28 16:30:58,247] Trial 2 finished with value: 0.06876558119392343 and parameters: {'num_iterations': 91, 'learning_rate': 0.08081207670528569, 'num_leaves': 45, 'max_depth': 30, 'min_data_in_leaf': 52, 'min_sum_hessian_in_leaf': 0.14564408551350866, 'bagging_freq': 1, 'bagging_fraction': 0.7421054227078454, 'feature_fraction': 0.9553626362706973, 'lambda_l1': 33.48323382484937, 'lambda_l2': 25.91037545717554, 'min_gain_to_split': 0.039619274608901967, 'min_data_per_group': 284, 'max_cat_threshold': 377, 'cat_l2': 11.820566283956346, 'cat_smooth': 119.75451760945361, 'max_cat_to_onehot': 11, 'max_bin': 150, 'min_data_in_bin': 10}. Best is trial 1 with value: 0.06826638234567116.\n",
      "[I 2020-08-28 16:30:58,381] Trial 3 finished with value: 0.06857694414893041 and parameters: {'num_iterations': 98, 'learning_rate': 0.48221228650561615, 'num_leaves': 222, 'max_depth': 14, 'min_data_in_leaf': 343, 'min_sum_hessian_in_leaf': 0.16336286068921954, 'bagging_freq': 0, 'bagging_fraction': 0.9794991100182464, 'feature_fraction': 0.63728942034678, 'lambda_l1': 38.02920861460169, 'lambda_l2': 39.83162229799324, 'min_gain_to_split': 0.056989793815496015, 'min_data_per_group': 227, 'max_cat_threshold': 485, 'cat_l2': 45.413369095139196, 'cat_smooth': 87.08565525956897, 'max_cat_to_onehot': 27, 'max_bin': 632, 'min_data_in_bin': 34}. Best is trial 1 with value: 0.06826638234567116.\n",
      "[I 2020-08-28 16:30:59,287] Trial 0 finished with value: 0.07007999761353097 and parameters: {'num_iterations': 94, 'learning_rate': 0.4032261012568846, 'num_leaves': 121, 'max_depth': 19, 'min_data_in_leaf': 369, 'min_sum_hessian_in_leaf': 0.1364906231563803, 'bagging_freq': 0, 'bagging_fraction': 0.7271848812213663, 'feature_fraction': 0.6779042758880096, 'lambda_l1': 55.32233457830071, 'lambda_l2': 42.84656691186624, 'min_gain_to_split': 0.07127895884983065, 'min_data_per_group': 431, 'max_cat_threshold': 70, 'cat_l2': 41.37300385050969, 'cat_smooth': 1229.1342054498475, 'max_cat_to_onehot': 16, 'max_bin': 326, 'min_data_in_bin': 37}. Best is trial 0 with value: 0.07007999761353097.\n",
      "[I 2020-08-28 16:30:59,453] Trial 1 finished with value: 0.06777324250741854 and parameters: {'num_iterations': 67, 'learning_rate': 0.03746294609752311, 'num_leaves': 158, 'max_depth': 12, 'min_data_in_leaf': 32, 'min_sum_hessian_in_leaf': 0.14511985173887948, 'bagging_freq': 0, 'bagging_fraction': 0.675761436394881, 'feature_fraction': 0.6330760786411519, 'lambda_l1': 29.782572825444007, 'lambda_l2': 5.1211225902930835, 'min_gain_to_split': 0.18030446870444447, 'min_data_per_group': 346, 'max_cat_threshold': 268, 'cat_l2': 62.50914642127281, 'cat_smooth': 379.560142094743, 'max_cat_to_onehot': 10, 'max_bin': 702, 'min_data_in_bin': 33}. Best is trial 1 with value: 0.06777324250741854.\n",
      "[I 2020-08-28 16:30:59,753] Trial 2 finished with value: 0.06904933542682364 and parameters: {'num_iterations': 91, 'learning_rate': 0.08081207670528569, 'num_leaves': 45, 'max_depth': 30, 'min_data_in_leaf': 52, 'min_sum_hessian_in_leaf': 0.14564408551350866, 'bagging_freq': 1, 'bagging_fraction': 0.7421054227078454, 'feature_fraction': 0.9553626362706973, 'lambda_l1': 33.48323382484937, 'lambda_l2': 25.91037545717554, 'min_gain_to_split': 0.039619274608901967, 'min_data_per_group': 284, 'max_cat_threshold': 377, 'cat_l2': 11.820566283956346, 'cat_smooth': 119.75451760945361, 'max_cat_to_onehot': 11, 'max_bin': 150, 'min_data_in_bin': 10}. Best is trial 1 with value: 0.06777324250741854.\n",
      "[I 2020-08-28 16:30:59,886] Trial 3 finished with value: 0.06880898528618834 and parameters: {'num_iterations': 98, 'learning_rate': 0.48221228650561615, 'num_leaves': 222, 'max_depth': 14, 'min_data_in_leaf': 343, 'min_sum_hessian_in_leaf': 0.16336286068921954, 'bagging_freq': 0, 'bagging_fraction': 0.9794991100182464, 'feature_fraction': 0.63728942034678, 'lambda_l1': 38.02920861460169, 'lambda_l2': 39.83162229799324, 'min_gain_to_split': 0.056989793815496015, 'min_data_per_group': 227, 'max_cat_threshold': 485, 'cat_l2': 45.413369095139196, 'cat_smooth': 87.08565525956897, 'max_cat_to_onehot': 27, 'max_bin': 632, 'min_data_in_bin': 34}. Best is trial 1 with value: 0.06777324250741854.\n",
      "[I 2020-08-28 16:31:00,750] Trial 0 finished with value: 0.07035398759540859 and parameters: {'num_iterations': 94, 'learning_rate': 0.4032261012568846, 'num_leaves': 121, 'max_depth': 19, 'min_data_in_leaf': 369, 'min_sum_hessian_in_leaf': 0.1364906231563803, 'bagging_freq': 0, 'bagging_fraction': 0.7271848812213663, 'feature_fraction': 0.6779042758880096, 'lambda_l1': 55.32233457830071, 'lambda_l2': 42.84656691186624, 'min_gain_to_split': 0.07127895884983065, 'min_data_per_group': 431, 'max_cat_threshold': 70, 'cat_l2': 41.37300385050969, 'cat_smooth': 1229.1342054498475, 'max_cat_to_onehot': 16, 'max_bin': 326, 'min_data_in_bin': 37}. Best is trial 0 with value: 0.07035398759540859.\n",
      "[I 2020-08-28 16:31:00,908] Trial 1 finished with value: 0.06781446457483256 and parameters: {'num_iterations': 67, 'learning_rate': 0.03746294609752311, 'num_leaves': 158, 'max_depth': 12, 'min_data_in_leaf': 32, 'min_sum_hessian_in_leaf': 0.14511985173887948, 'bagging_freq': 0, 'bagging_fraction': 0.675761436394881, 'feature_fraction': 0.6330760786411519, 'lambda_l1': 29.782572825444007, 'lambda_l2': 5.1211225902930835, 'min_gain_to_split': 0.18030446870444447, 'min_data_per_group': 346, 'max_cat_threshold': 268, 'cat_l2': 62.50914642127281, 'cat_smooth': 379.560142094743, 'max_cat_to_onehot': 10, 'max_bin': 702, 'min_data_in_bin': 33}. Best is trial 1 with value: 0.06781446457483256.\n",
      "[I 2020-08-28 16:31:01,206] Trial 2 finished with value: 0.07001194980675458 and parameters: {'num_iterations': 91, 'learning_rate': 0.08081207670528569, 'num_leaves': 45, 'max_depth': 30, 'min_data_in_leaf': 52, 'min_sum_hessian_in_leaf': 0.14564408551350866, 'bagging_freq': 1, 'bagging_fraction': 0.7421054227078454, 'feature_fraction': 0.9553626362706973, 'lambda_l1': 33.48323382484937, 'lambda_l2': 25.91037545717554, 'min_gain_to_split': 0.039619274608901967, 'min_data_per_group': 284, 'max_cat_threshold': 377, 'cat_l2': 11.820566283956346, 'cat_smooth': 119.75451760945361, 'max_cat_to_onehot': 11, 'max_bin': 150, 'min_data_in_bin': 10}. Best is trial 1 with value: 0.06781446457483256.\n",
      "[I 2020-08-28 16:31:01,339] Trial 3 finished with value: 0.06951879981836688 and parameters: {'num_iterations': 98, 'learning_rate': 0.48221228650561615, 'num_leaves': 222, 'max_depth': 14, 'min_data_in_leaf': 343, 'min_sum_hessian_in_leaf': 0.16336286068921954, 'bagging_freq': 0, 'bagging_fraction': 0.9794991100182464, 'feature_fraction': 0.63728942034678, 'lambda_l1': 38.02920861460169, 'lambda_l2': 39.83162229799324, 'min_gain_to_split': 0.056989793815496015, 'min_data_per_group': 227, 'max_cat_threshold': 485, 'cat_l2': 45.413369095139196, 'cat_smooth': 87.08565525956897, 'max_cat_to_onehot': 27, 'max_bin': 632, 'min_data_in_bin': 34}. Best is trial 1 with value: 0.06781446457483256.\n",
      "[I 2020-08-28 16:31:02,229] Trial 0 finished with value: 0.07106433595245937 and parameters: {'num_iterations': 94, 'learning_rate': 0.4032261012568846, 'num_leaves': 121, 'max_depth': 19, 'min_data_in_leaf': 369, 'min_sum_hessian_in_leaf': 0.1364906231563803, 'bagging_freq': 0, 'bagging_fraction': 0.7271848812213663, 'feature_fraction': 0.6779042758880096, 'lambda_l1': 55.32233457830071, 'lambda_l2': 42.84656691186624, 'min_gain_to_split': 0.07127895884983065, 'min_data_per_group': 431, 'max_cat_threshold': 70, 'cat_l2': 41.37300385050969, 'cat_smooth': 1229.1342054498475, 'max_cat_to_onehot': 16, 'max_bin': 326, 'min_data_in_bin': 37}. Best is trial 0 with value: 0.07106433595245937.\n",
      "[I 2020-08-28 16:31:02,387] Trial 1 finished with value: 0.0685142443346158 and parameters: {'num_iterations': 67, 'learning_rate': 0.03746294609752311, 'num_leaves': 158, 'max_depth': 12, 'min_data_in_leaf': 32, 'min_sum_hessian_in_leaf': 0.14511985173887948, 'bagging_freq': 0, 'bagging_fraction': 0.675761436394881, 'feature_fraction': 0.6330760786411519, 'lambda_l1': 29.782572825444007, 'lambda_l2': 5.1211225902930835, 'min_gain_to_split': 0.18030446870444447, 'min_data_per_group': 346, 'max_cat_threshold': 268, 'cat_l2': 62.50914642127281, 'cat_smooth': 379.560142094743, 'max_cat_to_onehot': 10, 'max_bin': 702, 'min_data_in_bin': 33}. Best is trial 1 with value: 0.0685142443346158.\n",
      "[I 2020-08-28 16:31:02,687] Trial 2 finished with value: 0.07016569921823011 and parameters: {'num_iterations': 91, 'learning_rate': 0.08081207670528569, 'num_leaves': 45, 'max_depth': 30, 'min_data_in_leaf': 52, 'min_sum_hessian_in_leaf': 0.14564408551350866, 'bagging_freq': 1, 'bagging_fraction': 0.7421054227078454, 'feature_fraction': 0.9553626362706973, 'lambda_l1': 33.48323382484937, 'lambda_l2': 25.91037545717554, 'min_gain_to_split': 0.039619274608901967, 'min_data_per_group': 284, 'max_cat_threshold': 377, 'cat_l2': 11.820566283956346, 'cat_smooth': 119.75451760945361, 'max_cat_to_onehot': 11, 'max_bin': 150, 'min_data_in_bin': 10}. Best is trial 1 with value: 0.0685142443346158.\n",
      "[I 2020-08-28 16:31:02,819] Trial 3 finished with value: 0.0695318702580754 and parameters: {'num_iterations': 98, 'learning_rate': 0.48221228650561615, 'num_leaves': 222, 'max_depth': 14, 'min_data_in_leaf': 343, 'min_sum_hessian_in_leaf': 0.16336286068921954, 'bagging_freq': 0, 'bagging_fraction': 0.9794991100182464, 'feature_fraction': 0.63728942034678, 'lambda_l1': 38.02920861460169, 'lambda_l2': 39.83162229799324, 'min_gain_to_split': 0.056989793815496015, 'min_data_per_group': 227, 'max_cat_threshold': 485, 'cat_l2': 45.413369095139196, 'cat_smooth': 87.08565525956897, 'max_cat_to_onehot': 27, 'max_bin': 632, 'min_data_in_bin': 34}. Best is trial 1 with value: 0.0685142443346158.\n",
      "[I 2020-08-28 16:31:03,676] Trial 0 finished with value: 0.07035050189402149 and parameters: {'num_iterations': 94, 'learning_rate': 0.4032261012568846, 'num_leaves': 121, 'max_depth': 19, 'min_data_in_leaf': 369, 'min_sum_hessian_in_leaf': 0.1364906231563803, 'bagging_freq': 0, 'bagging_fraction': 0.7271848812213663, 'feature_fraction': 0.6779042758880096, 'lambda_l1': 55.32233457830071, 'lambda_l2': 42.84656691186624, 'min_gain_to_split': 0.07127895884983065, 'min_data_per_group': 431, 'max_cat_threshold': 70, 'cat_l2': 41.37300385050969, 'cat_smooth': 1229.1342054498475, 'max_cat_to_onehot': 16, 'max_bin': 326, 'min_data_in_bin': 37}. Best is trial 0 with value: 0.07035050189402149.\n",
      "[I 2020-08-28 16:31:03,832] Trial 1 finished with value: 0.06801274629983327 and parameters: {'num_iterations': 67, 'learning_rate': 0.03746294609752311, 'num_leaves': 158, 'max_depth': 12, 'min_data_in_leaf': 32, 'min_sum_hessian_in_leaf': 0.14511985173887948, 'bagging_freq': 0, 'bagging_fraction': 0.675761436394881, 'feature_fraction': 0.6330760786411519, 'lambda_l1': 29.782572825444007, 'lambda_l2': 5.1211225902930835, 'min_gain_to_split': 0.18030446870444447, 'min_data_per_group': 346, 'max_cat_threshold': 268, 'cat_l2': 62.50914642127281, 'cat_smooth': 379.560142094743, 'max_cat_to_onehot': 10, 'max_bin': 702, 'min_data_in_bin': 33}. Best is trial 1 with value: 0.06801274629983327.\n",
      "[I 2020-08-28 16:31:04,133] Trial 2 finished with value: 0.06881438598047902 and parameters: {'num_iterations': 91, 'learning_rate': 0.08081207670528569, 'num_leaves': 45, 'max_depth': 30, 'min_data_in_leaf': 52, 'min_sum_hessian_in_leaf': 0.14564408551350866, 'bagging_freq': 1, 'bagging_fraction': 0.7421054227078454, 'feature_fraction': 0.9553626362706973, 'lambda_l1': 33.48323382484937, 'lambda_l2': 25.91037545717554, 'min_gain_to_split': 0.039619274608901967, 'min_data_per_group': 284, 'max_cat_threshold': 377, 'cat_l2': 11.820566283956346, 'cat_smooth': 119.75451760945361, 'max_cat_to_onehot': 11, 'max_bin': 150, 'min_data_in_bin': 10}. Best is trial 1 with value: 0.06801274629983327.\n",
      "[I 2020-08-28 16:31:04,273] Trial 3 finished with value: 0.06945419652389079 and parameters: {'num_iterations': 98, 'learning_rate': 0.48221228650561615, 'num_leaves': 222, 'max_depth': 14, 'min_data_in_leaf': 343, 'min_sum_hessian_in_leaf': 0.16336286068921954, 'bagging_freq': 0, 'bagging_fraction': 0.9794991100182464, 'feature_fraction': 0.63728942034678, 'lambda_l1': 38.02920861460169, 'lambda_l2': 39.83162229799324, 'min_gain_to_split': 0.056989793815496015, 'min_data_per_group': 227, 'max_cat_threshold': 485, 'cat_l2': 45.413369095139196, 'cat_smooth': 87.08565525956897, 'max_cat_to_onehot': 27, 'max_bin': 632, 'min_data_in_bin': 34}. Best is trial 1 with value: 0.06801274629983327.\n",
      "[I 2020-08-28 16:31:05,167] Trial 0 finished with value: 0.06970529042894265 and parameters: {'num_iterations': 94, 'learning_rate': 0.4032261012568846, 'num_leaves': 121, 'max_depth': 19, 'min_data_in_leaf': 369, 'min_sum_hessian_in_leaf': 0.1364906231563803, 'bagging_freq': 0, 'bagging_fraction': 0.7271848812213663, 'feature_fraction': 0.6779042758880096, 'lambda_l1': 55.32233457830071, 'lambda_l2': 42.84656691186624, 'min_gain_to_split': 0.07127895884983065, 'min_data_per_group': 431, 'max_cat_threshold': 70, 'cat_l2': 41.37300385050969, 'cat_smooth': 1229.1342054498475, 'max_cat_to_onehot': 16, 'max_bin': 326, 'min_data_in_bin': 37}. Best is trial 0 with value: 0.06970529042894265.\n",
      "[I 2020-08-28 16:31:05,324] Trial 1 finished with value: 0.06758269767666263 and parameters: {'num_iterations': 67, 'learning_rate': 0.03746294609752311, 'num_leaves': 158, 'max_depth': 12, 'min_data_in_leaf': 32, 'min_sum_hessian_in_leaf': 0.14511985173887948, 'bagging_freq': 0, 'bagging_fraction': 0.675761436394881, 'feature_fraction': 0.6330760786411519, 'lambda_l1': 29.782572825444007, 'lambda_l2': 5.1211225902930835, 'min_gain_to_split': 0.18030446870444447, 'min_data_per_group': 346, 'max_cat_threshold': 268, 'cat_l2': 62.50914642127281, 'cat_smooth': 379.560142094743, 'max_cat_to_onehot': 10, 'max_bin': 702, 'min_data_in_bin': 33}. Best is trial 1 with value: 0.06758269767666263.\n",
      "[I 2020-08-28 16:31:05,610] Trial 2 finished with value: 0.06898642319730042 and parameters: {'num_iterations': 91, 'learning_rate': 0.08081207670528569, 'num_leaves': 45, 'max_depth': 30, 'min_data_in_leaf': 52, 'min_sum_hessian_in_leaf': 0.14564408551350866, 'bagging_freq': 1, 'bagging_fraction': 0.7421054227078454, 'feature_fraction': 0.9553626362706973, 'lambda_l1': 33.48323382484937, 'lambda_l2': 25.91037545717554, 'min_gain_to_split': 0.039619274608901967, 'min_data_per_group': 284, 'max_cat_threshold': 377, 'cat_l2': 11.820566283956346, 'cat_smooth': 119.75451760945361, 'max_cat_to_onehot': 11, 'max_bin': 150, 'min_data_in_bin': 10}. Best is trial 1 with value: 0.06758269767666263.\n",
      "[I 2020-08-28 16:31:05,726] Trial 3 finished with value: 0.06856477361900867 and parameters: {'num_iterations': 98, 'learning_rate': 0.48221228650561615, 'num_leaves': 222, 'max_depth': 14, 'min_data_in_leaf': 343, 'min_sum_hessian_in_leaf': 0.16336286068921954, 'bagging_freq': 0, 'bagging_fraction': 0.9794991100182464, 'feature_fraction': 0.63728942034678, 'lambda_l1': 38.02920861460169, 'lambda_l2': 39.83162229799324, 'min_gain_to_split': 0.056989793815496015, 'min_data_per_group': 227, 'max_cat_threshold': 485, 'cat_l2': 45.413369095139196, 'cat_smooth': 87.08565525956897, 'max_cat_to_onehot': 27, 'max_bin': 632, 'min_data_in_bin': 34}. Best is trial 1 with value: 0.06758269767666263.\n",
      "[I 2020-08-28 16:31:06,598] Trial 0 finished with value: 0.07009829960079048 and parameters: {'num_iterations': 94, 'learning_rate': 0.4032261012568846, 'num_leaves': 121, 'max_depth': 19, 'min_data_in_leaf': 369, 'min_sum_hessian_in_leaf': 0.1364906231563803, 'bagging_freq': 0, 'bagging_fraction': 0.7271848812213663, 'feature_fraction': 0.6779042758880096, 'lambda_l1': 55.32233457830071, 'lambda_l2': 42.84656691186624, 'min_gain_to_split': 0.07127895884983065, 'min_data_per_group': 431, 'max_cat_threshold': 70, 'cat_l2': 41.37300385050969, 'cat_smooth': 1229.1342054498475, 'max_cat_to_onehot': 16, 'max_bin': 326, 'min_data_in_bin': 37}. Best is trial 0 with value: 0.07009829960079048.\n",
      "[I 2020-08-28 16:31:06,747] Trial 1 finished with value: 0.06779542531210091 and parameters: {'num_iterations': 67, 'learning_rate': 0.03746294609752311, 'num_leaves': 158, 'max_depth': 12, 'min_data_in_leaf': 32, 'min_sum_hessian_in_leaf': 0.14511985173887948, 'bagging_freq': 0, 'bagging_fraction': 0.675761436394881, 'feature_fraction': 0.6330760786411519, 'lambda_l1': 29.782572825444007, 'lambda_l2': 5.1211225902930835, 'min_gain_to_split': 0.18030446870444447, 'min_data_per_group': 346, 'max_cat_threshold': 268, 'cat_l2': 62.50914642127281, 'cat_smooth': 379.560142094743, 'max_cat_to_onehot': 10, 'max_bin': 702, 'min_data_in_bin': 33}. Best is trial 1 with value: 0.06779542531210091.\n",
      "[I 2020-08-28 16:31:07,046] Trial 2 finished with value: 0.06890372465491502 and parameters: {'num_iterations': 91, 'learning_rate': 0.08081207670528569, 'num_leaves': 45, 'max_depth': 30, 'min_data_in_leaf': 52, 'min_sum_hessian_in_leaf': 0.14564408551350866, 'bagging_freq': 1, 'bagging_fraction': 0.7421054227078454, 'feature_fraction': 0.9553626362706973, 'lambda_l1': 33.48323382484937, 'lambda_l2': 25.91037545717554, 'min_gain_to_split': 0.039619274608901967, 'min_data_per_group': 284, 'max_cat_threshold': 377, 'cat_l2': 11.820566283956346, 'cat_smooth': 119.75451760945361, 'max_cat_to_onehot': 11, 'max_bin': 150, 'min_data_in_bin': 10}. Best is trial 1 with value: 0.06779542531210091.\n",
      "[I 2020-08-28 16:31:07,175] Trial 3 finished with value: 0.06838808742064525 and parameters: {'num_iterations': 98, 'learning_rate': 0.48221228650561615, 'num_leaves': 222, 'max_depth': 14, 'min_data_in_leaf': 343, 'min_sum_hessian_in_leaf': 0.16336286068921954, 'bagging_freq': 0, 'bagging_fraction': 0.9794991100182464, 'feature_fraction': 0.63728942034678, 'lambda_l1': 38.02920861460169, 'lambda_l2': 39.83162229799324, 'min_gain_to_split': 0.056989793815496015, 'min_data_per_group': 227, 'max_cat_threshold': 485, 'cat_l2': 45.413369095139196, 'cat_smooth': 87.08565525956897, 'max_cat_to_onehot': 27, 'max_bin': 632, 'min_data_in_bin': 34}. Best is trial 1 with value: 0.06779542531210091.\n",
      "[I 2020-08-28 16:31:08,010] Trial 0 finished with value: 0.06993541715255869 and parameters: {'num_iterations': 94, 'learning_rate': 0.4032261012568846, 'num_leaves': 121, 'max_depth': 19, 'min_data_in_leaf': 369, 'min_sum_hessian_in_leaf': 0.1364906231563803, 'bagging_freq': 0, 'bagging_fraction': 0.7271848812213663, 'feature_fraction': 0.6779042758880096, 'lambda_l1': 55.32233457830071, 'lambda_l2': 42.84656691186624, 'min_gain_to_split': 0.07127895884983065, 'min_data_per_group': 431, 'max_cat_threshold': 70, 'cat_l2': 41.37300385050969, 'cat_smooth': 1229.1342054498475, 'max_cat_to_onehot': 16, 'max_bin': 326, 'min_data_in_bin': 37}. Best is trial 0 with value: 0.06993541715255869.\n",
      "[I 2020-08-28 16:31:08,166] Trial 1 finished with value: 0.06757877947153038 and parameters: {'num_iterations': 67, 'learning_rate': 0.03746294609752311, 'num_leaves': 158, 'max_depth': 12, 'min_data_in_leaf': 32, 'min_sum_hessian_in_leaf': 0.14511985173887948, 'bagging_freq': 0, 'bagging_fraction': 0.675761436394881, 'feature_fraction': 0.6330760786411519, 'lambda_l1': 29.782572825444007, 'lambda_l2': 5.1211225902930835, 'min_gain_to_split': 0.18030446870444447, 'min_data_per_group': 346, 'max_cat_threshold': 268, 'cat_l2': 62.50914642127281, 'cat_smooth': 379.560142094743, 'max_cat_to_onehot': 10, 'max_bin': 702, 'min_data_in_bin': 33}. Best is trial 1 with value: 0.06757877947153038.\n",
      "[I 2020-08-28 16:31:08,476] Trial 2 finished with value: 0.06943510548659541 and parameters: {'num_iterations': 91, 'learning_rate': 0.08081207670528569, 'num_leaves': 45, 'max_depth': 30, 'min_data_in_leaf': 52, 'min_sum_hessian_in_leaf': 0.14564408551350866, 'bagging_freq': 1, 'bagging_fraction': 0.7421054227078454, 'feature_fraction': 0.9553626362706973, 'lambda_l1': 33.48323382484937, 'lambda_l2': 25.91037545717554, 'min_gain_to_split': 0.039619274608901967, 'min_data_per_group': 284, 'max_cat_threshold': 377, 'cat_l2': 11.820566283956346, 'cat_smooth': 119.75451760945361, 'max_cat_to_onehot': 11, 'max_bin': 150, 'min_data_in_bin': 10}. Best is trial 1 with value: 0.06757877947153038.\n",
      "[I 2020-08-28 16:31:08,608] Trial 3 finished with value: 0.06907875061018143 and parameters: {'num_iterations': 98, 'learning_rate': 0.48221228650561615, 'num_leaves': 222, 'max_depth': 14, 'min_data_in_leaf': 343, 'min_sum_hessian_in_leaf': 0.16336286068921954, 'bagging_freq': 0, 'bagging_fraction': 0.9794991100182464, 'feature_fraction': 0.63728942034678, 'lambda_l1': 38.02920861460169, 'lambda_l2': 39.83162229799324, 'min_gain_to_split': 0.056989793815496015, 'min_data_per_group': 227, 'max_cat_threshold': 485, 'cat_l2': 45.413369095139196, 'cat_smooth': 87.08565525956897, 'max_cat_to_onehot': 27, 'max_bin': 632, 'min_data_in_bin': 34}. Best is trial 1 with value: 0.06757877947153038.\n",
      "[I 2020-08-28 16:31:09,487] Trial 0 finished with value: 0.06932527431157509 and parameters: {'num_iterations': 94, 'learning_rate': 0.4032261012568846, 'num_leaves': 121, 'max_depth': 19, 'min_data_in_leaf': 369, 'min_sum_hessian_in_leaf': 0.1364906231563803, 'bagging_freq': 0, 'bagging_fraction': 0.7271848812213663, 'feature_fraction': 0.6779042758880096, 'lambda_l1': 55.32233457830071, 'lambda_l2': 42.84656691186624, 'min_gain_to_split': 0.07127895884983065, 'min_data_per_group': 431, 'max_cat_threshold': 70, 'cat_l2': 41.37300385050969, 'cat_smooth': 1229.1342054498475, 'max_cat_to_onehot': 16, 'max_bin': 326, 'min_data_in_bin': 37}. Best is trial 0 with value: 0.06932527431157509.\n",
      "[I 2020-08-28 16:31:09,644] Trial 1 finished with value: 0.0673710057271001 and parameters: {'num_iterations': 67, 'learning_rate': 0.03746294609752311, 'num_leaves': 158, 'max_depth': 12, 'min_data_in_leaf': 32, 'min_sum_hessian_in_leaf': 0.14511985173887948, 'bagging_freq': 0, 'bagging_fraction': 0.675761436394881, 'feature_fraction': 0.6330760786411519, 'lambda_l1': 29.782572825444007, 'lambda_l2': 5.1211225902930835, 'min_gain_to_split': 0.18030446870444447, 'min_data_per_group': 346, 'max_cat_threshold': 268, 'cat_l2': 62.50914642127281, 'cat_smooth': 379.560142094743, 'max_cat_to_onehot': 10, 'max_bin': 702, 'min_data_in_bin': 33}. Best is trial 1 with value: 0.0673710057271001.\n",
      "[I 2020-08-28 16:31:09,932] Trial 2 finished with value: 0.06900475204854357 and parameters: {'num_iterations': 91, 'learning_rate': 0.08081207670528569, 'num_leaves': 45, 'max_depth': 30, 'min_data_in_leaf': 52, 'min_sum_hessian_in_leaf': 0.14564408551350866, 'bagging_freq': 1, 'bagging_fraction': 0.7421054227078454, 'feature_fraction': 0.9553626362706973, 'lambda_l1': 33.48323382484937, 'lambda_l2': 25.91037545717554, 'min_gain_to_split': 0.039619274608901967, 'min_data_per_group': 284, 'max_cat_threshold': 377, 'cat_l2': 11.820566283956346, 'cat_smooth': 119.75451760945361, 'max_cat_to_onehot': 11, 'max_bin': 150, 'min_data_in_bin': 10}. Best is trial 1 with value: 0.0673710057271001.\n",
      "[I 2020-08-28 16:31:10,056] Trial 3 finished with value: 0.06825372918160634 and parameters: {'num_iterations': 98, 'learning_rate': 0.48221228650561615, 'num_leaves': 222, 'max_depth': 14, 'min_data_in_leaf': 343, 'min_sum_hessian_in_leaf': 0.16336286068921954, 'bagging_freq': 0, 'bagging_fraction': 0.9794991100182464, 'feature_fraction': 0.63728942034678, 'lambda_l1': 38.02920861460169, 'lambda_l2': 39.83162229799324, 'min_gain_to_split': 0.056989793815496015, 'min_data_per_group': 227, 'max_cat_threshold': 485, 'cat_l2': 45.413369095139196, 'cat_smooth': 87.08565525956897, 'max_cat_to_onehot': 27, 'max_bin': 632, 'min_data_in_bin': 34}. Best is trial 1 with value: 0.0673710057271001.\n",
      "[I 2020-08-28 16:31:10,898] Trial 0 finished with value: 0.069596903178377 and parameters: {'num_iterations': 94, 'learning_rate': 0.4032261012568846, 'num_leaves': 121, 'max_depth': 19, 'min_data_in_leaf': 369, 'min_sum_hessian_in_leaf': 0.1364906231563803, 'bagging_freq': 0, 'bagging_fraction': 0.7271848812213663, 'feature_fraction': 0.6779042758880096, 'lambda_l1': 55.32233457830071, 'lambda_l2': 42.84656691186624, 'min_gain_to_split': 0.07127895884983065, 'min_data_per_group': 431, 'max_cat_threshold': 70, 'cat_l2': 41.37300385050969, 'cat_smooth': 1229.1342054498475, 'max_cat_to_onehot': 16, 'max_bin': 326, 'min_data_in_bin': 37}. Best is trial 0 with value: 0.069596903178377.\n",
      "[I 2020-08-28 16:31:11,047] Trial 1 finished with value: 0.06768214901367793 and parameters: {'num_iterations': 67, 'learning_rate': 0.03746294609752311, 'num_leaves': 158, 'max_depth': 12, 'min_data_in_leaf': 32, 'min_sum_hessian_in_leaf': 0.14511985173887948, 'bagging_freq': 0, 'bagging_fraction': 0.675761436394881, 'feature_fraction': 0.6330760786411519, 'lambda_l1': 29.782572825444007, 'lambda_l2': 5.1211225902930835, 'min_gain_to_split': 0.18030446870444447, 'min_data_per_group': 346, 'max_cat_threshold': 268, 'cat_l2': 62.50914642127281, 'cat_smooth': 379.560142094743, 'max_cat_to_onehot': 10, 'max_bin': 702, 'min_data_in_bin': 33}. Best is trial 1 with value: 0.06768214901367793.\n",
      "[I 2020-08-28 16:31:11,324] Trial 2 finished with value: 0.06903492662645629 and parameters: {'num_iterations': 91, 'learning_rate': 0.08081207670528569, 'num_leaves': 45, 'max_depth': 30, 'min_data_in_leaf': 52, 'min_sum_hessian_in_leaf': 0.14564408551350866, 'bagging_freq': 1, 'bagging_fraction': 0.7421054227078454, 'feature_fraction': 0.9553626362706973, 'lambda_l1': 33.48323382484937, 'lambda_l2': 25.91037545717554, 'min_gain_to_split': 0.039619274608901967, 'min_data_per_group': 284, 'max_cat_threshold': 377, 'cat_l2': 11.820566283956346, 'cat_smooth': 119.75451760945361, 'max_cat_to_onehot': 11, 'max_bin': 150, 'min_data_in_bin': 10}. Best is trial 1 with value: 0.06768214901367793.\n",
      "[I 2020-08-28 16:31:11,446] Trial 3 finished with value: 0.06756263319891205 and parameters: {'num_iterations': 98, 'learning_rate': 0.48221228650561615, 'num_leaves': 222, 'max_depth': 14, 'min_data_in_leaf': 343, 'min_sum_hessian_in_leaf': 0.16336286068921954, 'bagging_freq': 0, 'bagging_fraction': 0.9794991100182464, 'feature_fraction': 0.63728942034678, 'lambda_l1': 38.02920861460169, 'lambda_l2': 39.83162229799324, 'min_gain_to_split': 0.056989793815496015, 'min_data_per_group': 227, 'max_cat_threshold': 485, 'cat_l2': 45.413369095139196, 'cat_smooth': 87.08565525956897, 'max_cat_to_onehot': 27, 'max_bin': 632, 'min_data_in_bin': 34}. Best is trial 3 with value: 0.06756263319891205.\n",
      "[I 2020-08-28 16:31:12,291] Trial 0 finished with value: 0.06988545557231612 and parameters: {'num_iterations': 94, 'learning_rate': 0.4032261012568846, 'num_leaves': 121, 'max_depth': 19, 'min_data_in_leaf': 369, 'min_sum_hessian_in_leaf': 0.1364906231563803, 'bagging_freq': 0, 'bagging_fraction': 0.7271848812213663, 'feature_fraction': 0.6779042758880096, 'lambda_l1': 55.32233457830071, 'lambda_l2': 42.84656691186624, 'min_gain_to_split': 0.07127895884983065, 'min_data_per_group': 431, 'max_cat_threshold': 70, 'cat_l2': 41.37300385050969, 'cat_smooth': 1229.1342054498475, 'max_cat_to_onehot': 16, 'max_bin': 326, 'min_data_in_bin': 37}. Best is trial 0 with value: 0.06988545557231612.\n",
      "[I 2020-08-28 16:31:12,457] Trial 1 finished with value: 0.06817034647111019 and parameters: {'num_iterations': 67, 'learning_rate': 0.03746294609752311, 'num_leaves': 158, 'max_depth': 12, 'min_data_in_leaf': 32, 'min_sum_hessian_in_leaf': 0.14511985173887948, 'bagging_freq': 0, 'bagging_fraction': 0.675761436394881, 'feature_fraction': 0.6330760786411519, 'lambda_l1': 29.782572825444007, 'lambda_l2': 5.1211225902930835, 'min_gain_to_split': 0.18030446870444447, 'min_data_per_group': 346, 'max_cat_threshold': 268, 'cat_l2': 62.50914642127281, 'cat_smooth': 379.560142094743, 'max_cat_to_onehot': 10, 'max_bin': 702, 'min_data_in_bin': 33}. Best is trial 1 with value: 0.06817034647111019.\n",
      "[I 2020-08-28 16:31:12,727] Trial 2 finished with value: 0.0683463472448168 and parameters: {'num_iterations': 91, 'learning_rate': 0.08081207670528569, 'num_leaves': 45, 'max_depth': 30, 'min_data_in_leaf': 52, 'min_sum_hessian_in_leaf': 0.14564408551350866, 'bagging_freq': 1, 'bagging_fraction': 0.7421054227078454, 'feature_fraction': 0.9553626362706973, 'lambda_l1': 33.48323382484937, 'lambda_l2': 25.91037545717554, 'min_gain_to_split': 0.039619274608901967, 'min_data_per_group': 284, 'max_cat_threshold': 377, 'cat_l2': 11.820566283956346, 'cat_smooth': 119.75451760945361, 'max_cat_to_onehot': 11, 'max_bin': 150, 'min_data_in_bin': 10}. Best is trial 1 with value: 0.06817034647111019.\n",
      "[I 2020-08-28 16:31:12,843] Trial 3 finished with value: 0.06797820257517315 and parameters: {'num_iterations': 98, 'learning_rate': 0.48221228650561615, 'num_leaves': 222, 'max_depth': 14, 'min_data_in_leaf': 343, 'min_sum_hessian_in_leaf': 0.16336286068921954, 'bagging_freq': 0, 'bagging_fraction': 0.9794991100182464, 'feature_fraction': 0.63728942034678, 'lambda_l1': 38.02920861460169, 'lambda_l2': 39.83162229799324, 'min_gain_to_split': 0.056989793815496015, 'min_data_per_group': 227, 'max_cat_threshold': 485, 'cat_l2': 45.413369095139196, 'cat_smooth': 87.08565525956897, 'max_cat_to_onehot': 27, 'max_bin': 632, 'min_data_in_bin': 34}. Best is trial 3 with value: 0.06797820257517315.\n",
      "[I 2020-08-28 16:31:13,665] Trial 0 finished with value: 0.07050309534376159 and parameters: {'num_iterations': 94, 'learning_rate': 0.4032261012568846, 'num_leaves': 121, 'max_depth': 19, 'min_data_in_leaf': 369, 'min_sum_hessian_in_leaf': 0.1364906231563803, 'bagging_freq': 0, 'bagging_fraction': 0.7271848812213663, 'feature_fraction': 0.6779042758880096, 'lambda_l1': 55.32233457830071, 'lambda_l2': 42.84656691186624, 'min_gain_to_split': 0.07127895884983065, 'min_data_per_group': 431, 'max_cat_threshold': 70, 'cat_l2': 41.37300385050969, 'cat_smooth': 1229.1342054498475, 'max_cat_to_onehot': 16, 'max_bin': 326, 'min_data_in_bin': 37}. Best is trial 0 with value: 0.07050309534376159.\n",
      "[I 2020-08-28 16:31:13,821] Trial 1 finished with value: 0.06864716345484492 and parameters: {'num_iterations': 67, 'learning_rate': 0.03746294609752311, 'num_leaves': 158, 'max_depth': 12, 'min_data_in_leaf': 32, 'min_sum_hessian_in_leaf': 0.14511985173887948, 'bagging_freq': 0, 'bagging_fraction': 0.675761436394881, 'feature_fraction': 0.6330760786411519, 'lambda_l1': 29.782572825444007, 'lambda_l2': 5.1211225902930835, 'min_gain_to_split': 0.18030446870444447, 'min_data_per_group': 346, 'max_cat_threshold': 268, 'cat_l2': 62.50914642127281, 'cat_smooth': 379.560142094743, 'max_cat_to_onehot': 10, 'max_bin': 702, 'min_data_in_bin': 33}. Best is trial 1 with value: 0.06864716345484492.\n",
      "[I 2020-08-28 16:31:14,097] Trial 2 finished with value: 0.06866491831225491 and parameters: {'num_iterations': 91, 'learning_rate': 0.08081207670528569, 'num_leaves': 45, 'max_depth': 30, 'min_data_in_leaf': 52, 'min_sum_hessian_in_leaf': 0.14564408551350866, 'bagging_freq': 1, 'bagging_fraction': 0.7421054227078454, 'feature_fraction': 0.9553626362706973, 'lambda_l1': 33.48323382484937, 'lambda_l2': 25.91037545717554, 'min_gain_to_split': 0.039619274608901967, 'min_data_per_group': 284, 'max_cat_threshold': 377, 'cat_l2': 11.820566283956346, 'cat_smooth': 119.75451760945361, 'max_cat_to_onehot': 11, 'max_bin': 150, 'min_data_in_bin': 10}. Best is trial 1 with value: 0.06864716345484492.\n",
      "[I 2020-08-28 16:31:14,214] Trial 3 finished with value: 0.06818717568106412 and parameters: {'num_iterations': 98, 'learning_rate': 0.48221228650561615, 'num_leaves': 222, 'max_depth': 14, 'min_data_in_leaf': 343, 'min_sum_hessian_in_leaf': 0.16336286068921954, 'bagging_freq': 0, 'bagging_fraction': 0.9794991100182464, 'feature_fraction': 0.63728942034678, 'lambda_l1': 38.02920861460169, 'lambda_l2': 39.83162229799324, 'min_gain_to_split': 0.056989793815496015, 'min_data_per_group': 227, 'max_cat_threshold': 485, 'cat_l2': 45.413369095139196, 'cat_smooth': 87.08565525956897, 'max_cat_to_onehot': 27, 'max_bin': 632, 'min_data_in_bin': 34}. Best is trial 3 with value: 0.06818717568106412.\n",
      "[I 2020-08-28 16:31:15,072] Trial 0 finished with value: 0.07009298240867992 and parameters: {'num_iterations': 94, 'learning_rate': 0.4032261012568846, 'num_leaves': 121, 'max_depth': 19, 'min_data_in_leaf': 369, 'min_sum_hessian_in_leaf': 0.1364906231563803, 'bagging_freq': 0, 'bagging_fraction': 0.7271848812213663, 'feature_fraction': 0.6779042758880096, 'lambda_l1': 55.32233457830071, 'lambda_l2': 42.84656691186624, 'min_gain_to_split': 0.07127895884983065, 'min_data_per_group': 431, 'max_cat_threshold': 70, 'cat_l2': 41.37300385050969, 'cat_smooth': 1229.1342054498475, 'max_cat_to_onehot': 16, 'max_bin': 326, 'min_data_in_bin': 37}. Best is trial 0 with value: 0.07009298240867992.\n",
      "[I 2020-08-28 16:31:15,223] Trial 1 finished with value: 0.06806425742289353 and parameters: {'num_iterations': 67, 'learning_rate': 0.03746294609752311, 'num_leaves': 158, 'max_depth': 12, 'min_data_in_leaf': 32, 'min_sum_hessian_in_leaf': 0.14511985173887948, 'bagging_freq': 0, 'bagging_fraction': 0.675761436394881, 'feature_fraction': 0.6330760786411519, 'lambda_l1': 29.782572825444007, 'lambda_l2': 5.1211225902930835, 'min_gain_to_split': 0.18030446870444447, 'min_data_per_group': 346, 'max_cat_threshold': 268, 'cat_l2': 62.50914642127281, 'cat_smooth': 379.560142094743, 'max_cat_to_onehot': 10, 'max_bin': 702, 'min_data_in_bin': 33}. Best is trial 1 with value: 0.06806425742289353.\n",
      "[I 2020-08-28 16:31:15,516] Trial 2 finished with value: 0.06876595043135127 and parameters: {'num_iterations': 91, 'learning_rate': 0.08081207670528569, 'num_leaves': 45, 'max_depth': 30, 'min_data_in_leaf': 52, 'min_sum_hessian_in_leaf': 0.14564408551350866, 'bagging_freq': 1, 'bagging_fraction': 0.7421054227078454, 'feature_fraction': 0.9553626362706973, 'lambda_l1': 33.48323382484937, 'lambda_l2': 25.91037545717554, 'min_gain_to_split': 0.039619274608901967, 'min_data_per_group': 284, 'max_cat_threshold': 377, 'cat_l2': 11.820566283956346, 'cat_smooth': 119.75451760945361, 'max_cat_to_onehot': 11, 'max_bin': 150, 'min_data_in_bin': 10}. Best is trial 1 with value: 0.06806425742289353.\n",
      "[I 2020-08-28 16:31:15,614] Trial 3 finished with value: 0.06822071545262959 and parameters: {'num_iterations': 98, 'learning_rate': 0.48221228650561615, 'num_leaves': 222, 'max_depth': 14, 'min_data_in_leaf': 343, 'min_sum_hessian_in_leaf': 0.16336286068921954, 'bagging_freq': 0, 'bagging_fraction': 0.9794991100182464, 'feature_fraction': 0.63728942034678, 'lambda_l1': 38.02920861460169, 'lambda_l2': 39.83162229799324, 'min_gain_to_split': 0.056989793815496015, 'min_data_per_group': 227, 'max_cat_threshold': 485, 'cat_l2': 45.413369095139196, 'cat_smooth': 87.08565525956897, 'max_cat_to_onehot': 27, 'max_bin': 632, 'min_data_in_bin': 34}. Best is trial 1 with value: 0.06806425742289353.\n",
      "[I 2020-08-28 16:31:16,416] Trial 0 finished with value: 0.07000409866482481 and parameters: {'num_iterations': 94, 'learning_rate': 0.4032261012568846, 'num_leaves': 121, 'max_depth': 19, 'min_data_in_leaf': 369, 'min_sum_hessian_in_leaf': 0.1364906231563803, 'bagging_freq': 0, 'bagging_fraction': 0.7271848812213663, 'feature_fraction': 0.6779042758880096, 'lambda_l1': 55.32233457830071, 'lambda_l2': 42.84656691186624, 'min_gain_to_split': 0.07127895884983065, 'min_data_per_group': 431, 'max_cat_threshold': 70, 'cat_l2': 41.37300385050969, 'cat_smooth': 1229.1342054498475, 'max_cat_to_onehot': 16, 'max_bin': 326, 'min_data_in_bin': 37}. Best is trial 0 with value: 0.07000409866482481.\n",
      "[I 2020-08-28 16:31:16,548] Trial 1 finished with value: 0.06777402185647921 and parameters: {'num_iterations': 67, 'learning_rate': 0.03746294609752311, 'num_leaves': 158, 'max_depth': 12, 'min_data_in_leaf': 32, 'min_sum_hessian_in_leaf': 0.14511985173887948, 'bagging_freq': 0, 'bagging_fraction': 0.675761436394881, 'feature_fraction': 0.6330760786411519, 'lambda_l1': 29.782572825444007, 'lambda_l2': 5.1211225902930835, 'min_gain_to_split': 0.18030446870444447, 'min_data_per_group': 346, 'max_cat_threshold': 268, 'cat_l2': 62.50914642127281, 'cat_smooth': 379.560142094743, 'max_cat_to_onehot': 10, 'max_bin': 702, 'min_data_in_bin': 33}. Best is trial 1 with value: 0.06777402185647921.\n",
      "[I 2020-08-28 16:31:16,794] Trial 2 finished with value: 0.07036488152693346 and parameters: {'num_iterations': 91, 'learning_rate': 0.08081207670528569, 'num_leaves': 45, 'max_depth': 30, 'min_data_in_leaf': 52, 'min_sum_hessian_in_leaf': 0.14564408551350866, 'bagging_freq': 1, 'bagging_fraction': 0.7421054227078454, 'feature_fraction': 0.9553626362706973, 'lambda_l1': 33.48323382484937, 'lambda_l2': 25.91037545717554, 'min_gain_to_split': 0.039619274608901967, 'min_data_per_group': 284, 'max_cat_threshold': 377, 'cat_l2': 11.820566283956346, 'cat_smooth': 119.75451760945361, 'max_cat_to_onehot': 11, 'max_bin': 150, 'min_data_in_bin': 10}. Best is trial 1 with value: 0.06777402185647921.\n",
      "[I 2020-08-28 16:31:16,892] Trial 3 finished with value: 0.06887262351293943 and parameters: {'num_iterations': 98, 'learning_rate': 0.48221228650561615, 'num_leaves': 222, 'max_depth': 14, 'min_data_in_leaf': 343, 'min_sum_hessian_in_leaf': 0.16336286068921954, 'bagging_freq': 0, 'bagging_fraction': 0.9794991100182464, 'feature_fraction': 0.63728942034678, 'lambda_l1': 38.02920861460169, 'lambda_l2': 39.83162229799324, 'min_gain_to_split': 0.056989793815496015, 'min_data_per_group': 227, 'max_cat_threshold': 485, 'cat_l2': 45.413369095139196, 'cat_smooth': 87.08565525956897, 'max_cat_to_onehot': 27, 'max_bin': 632, 'min_data_in_bin': 34}. Best is trial 1 with value: 0.06777402185647921.\n",
      "[I 2020-08-28 16:31:17,667] Trial 0 finished with value: 0.07039129833877682 and parameters: {'num_iterations': 94, 'learning_rate': 0.4032261012568846, 'num_leaves': 121, 'max_depth': 19, 'min_data_in_leaf': 369, 'min_sum_hessian_in_leaf': 0.1364906231563803, 'bagging_freq': 0, 'bagging_fraction': 0.7271848812213663, 'feature_fraction': 0.6779042758880096, 'lambda_l1': 55.32233457830071, 'lambda_l2': 42.84656691186624, 'min_gain_to_split': 0.07127895884983065, 'min_data_per_group': 431, 'max_cat_threshold': 70, 'cat_l2': 41.37300385050969, 'cat_smooth': 1229.1342054498475, 'max_cat_to_onehot': 16, 'max_bin': 326, 'min_data_in_bin': 37}. Best is trial 0 with value: 0.07039129833877682.\n",
      "[I 2020-08-28 16:31:17,777] Trial 1 finished with value: 0.06951278941727952 and parameters: {'num_iterations': 67, 'learning_rate': 0.03746294609752311, 'num_leaves': 158, 'max_depth': 12, 'min_data_in_leaf': 32, 'min_sum_hessian_in_leaf': 0.14511985173887948, 'bagging_freq': 0, 'bagging_fraction': 0.675761436394881, 'feature_fraction': 0.6330760786411519, 'lambda_l1': 29.782572825444007, 'lambda_l2': 5.1211225902930835, 'min_gain_to_split': 0.18030446870444447, 'min_data_per_group': 346, 'max_cat_threshold': 268, 'cat_l2': 62.50914642127281, 'cat_smooth': 379.560142094743, 'max_cat_to_onehot': 10, 'max_bin': 702, 'min_data_in_bin': 33}. Best is trial 1 with value: 0.06951278941727952.\n",
      "[I 2020-08-28 16:31:17,998] Trial 2 finished with value: 0.0693800505990913 and parameters: {'num_iterations': 91, 'learning_rate': 0.08081207670528569, 'num_leaves': 45, 'max_depth': 30, 'min_data_in_leaf': 52, 'min_sum_hessian_in_leaf': 0.14564408551350866, 'bagging_freq': 1, 'bagging_fraction': 0.7421054227078454, 'feature_fraction': 0.9553626362706973, 'lambda_l1': 33.48323382484937, 'lambda_l2': 25.91037545717554, 'min_gain_to_split': 0.039619274608901967, 'min_data_per_group': 284, 'max_cat_threshold': 377, 'cat_l2': 11.820566283956346, 'cat_smooth': 119.75451760945361, 'max_cat_to_onehot': 11, 'max_bin': 150, 'min_data_in_bin': 10}. Best is trial 2 with value: 0.0693800505990913.\n",
      "[I 2020-08-28 16:31:18,086] Trial 3 finished with value: 0.06949048661345 and parameters: {'num_iterations': 98, 'learning_rate': 0.48221228650561615, 'num_leaves': 222, 'max_depth': 14, 'min_data_in_leaf': 343, 'min_sum_hessian_in_leaf': 0.16336286068921954, 'bagging_freq': 0, 'bagging_fraction': 0.9794991100182464, 'feature_fraction': 0.63728942034678, 'lambda_l1': 38.02920861460169, 'lambda_l2': 39.83162229799324, 'min_gain_to_split': 0.056989793815496015, 'min_data_per_group': 227, 'max_cat_threshold': 485, 'cat_l2': 45.413369095139196, 'cat_smooth': 87.08565525956897, 'max_cat_to_onehot': 27, 'max_bin': 632, 'min_data_in_bin': 34}. Best is trial 2 with value: 0.0693800505990913.\n"
     ]
    },
    {
     "data": {
      "text/plain": [
       "{0: {'num_iterations': 91,\n",
       "  'learning_rate': 0.08081207670528569,\n",
       "  'num_leaves': 45,\n",
       "  'max_depth': 30,\n",
       "  'min_data_in_leaf': 52,\n",
       "  'min_sum_hessian_in_leaf': 0.14564408551350866,\n",
       "  'bagging_freq': 1,\n",
       "  'bagging_fraction': 0.7421054227078454,\n",
       "  'feature_fraction': 0.9553626362706973,\n",
       "  'lambda_l1': 33.48323382484937,\n",
       "  'lambda_l2': 25.91037545717554,\n",
       "  'min_gain_to_split': 0.039619274608901967,\n",
       "  'min_data_per_group': 284,\n",
       "  'max_cat_threshold': 377,\n",
       "  'cat_l2': 11.820566283956346,\n",
       "  'cat_smooth': 119.75451760945361,\n",
       "  'max_cat_to_onehot': 11,\n",
       "  'max_bin': 150,\n",
       "  'min_data_in_bin': 10,\n",
       "  'objective': 'binary'},\n",
       " 1: {'num_iterations': 98,\n",
       "  'learning_rate': 0.48221228650561615,\n",
       "  'num_leaves': 222,\n",
       "  'max_depth': 14,\n",
       "  'min_data_in_leaf': 343,\n",
       "  'min_sum_hessian_in_leaf': 0.16336286068921954,\n",
       "  'bagging_freq': 0,\n",
       "  'bagging_fraction': 0.9794991100182464,\n",
       "  'feature_fraction': 0.63728942034678,\n",
       "  'lambda_l1': 38.02920861460169,\n",
       "  'lambda_l2': 39.83162229799324,\n",
       "  'min_gain_to_split': 0.056989793815496015,\n",
       "  'min_data_per_group': 227,\n",
       "  'max_cat_threshold': 485,\n",
       "  'cat_l2': 45.413369095139196,\n",
       "  'cat_smooth': 87.08565525956897,\n",
       "  'max_cat_to_onehot': 27,\n",
       "  'max_bin': 632,\n",
       "  'min_data_in_bin': 34,\n",
       "  'objective': 'binary'},\n",
       " 2: {'num_iterations': 91,\n",
       "  'learning_rate': 0.08081207670528569,\n",
       "  'num_leaves': 45,\n",
       "  'max_depth': 30,\n",
       "  'min_data_in_leaf': 52,\n",
       "  'min_sum_hessian_in_leaf': 0.14564408551350866,\n",
       "  'bagging_freq': 1,\n",
       "  'bagging_fraction': 0.7421054227078454,\n",
       "  'feature_fraction': 0.9553626362706973,\n",
       "  'lambda_l1': 33.48323382484937,\n",
       "  'lambda_l2': 25.91037545717554,\n",
       "  'min_gain_to_split': 0.039619274608901967,\n",
       "  'min_data_per_group': 284,\n",
       "  'max_cat_threshold': 377,\n",
       "  'cat_l2': 11.820566283956346,\n",
       "  'cat_smooth': 119.75451760945361,\n",
       "  'max_cat_to_onehot': 11,\n",
       "  'max_bin': 150,\n",
       "  'min_data_in_bin': 10,\n",
       "  'objective': 'binary'},\n",
       " 3: {'num_iterations': 98,\n",
       "  'learning_rate': 0.48221228650561615,\n",
       "  'num_leaves': 222,\n",
       "  'max_depth': 14,\n",
       "  'min_data_in_leaf': 343,\n",
       "  'min_sum_hessian_in_leaf': 0.16336286068921954,\n",
       "  'bagging_freq': 0,\n",
       "  'bagging_fraction': 0.9794991100182464,\n",
       "  'feature_fraction': 0.63728942034678,\n",
       "  'lambda_l1': 38.02920861460169,\n",
       "  'lambda_l2': 39.83162229799324,\n",
       "  'min_gain_to_split': 0.056989793815496015,\n",
       "  'min_data_per_group': 227,\n",
       "  'max_cat_threshold': 485,\n",
       "  'cat_l2': 45.413369095139196,\n",
       "  'cat_smooth': 87.08565525956897,\n",
       "  'max_cat_to_onehot': 27,\n",
       "  'max_bin': 632,\n",
       "  'min_data_in_bin': 34,\n",
       "  'objective': 'binary'},\n",
       " 4: {'num_iterations': 98,\n",
       "  'learning_rate': 0.48221228650561615,\n",
       "  'num_leaves': 222,\n",
       "  'max_depth': 14,\n",
       "  'min_data_in_leaf': 343,\n",
       "  'min_sum_hessian_in_leaf': 0.16336286068921954,\n",
       "  'bagging_freq': 0,\n",
       "  'bagging_fraction': 0.9794991100182464,\n",
       "  'feature_fraction': 0.63728942034678,\n",
       "  'lambda_l1': 38.02920861460169,\n",
       "  'lambda_l2': 39.83162229799324,\n",
       "  'min_gain_to_split': 0.056989793815496015,\n",
       "  'min_data_per_group': 227,\n",
       "  'max_cat_threshold': 485,\n",
       "  'cat_l2': 45.413369095139196,\n",
       "  'cat_smooth': 87.08565525956897,\n",
       "  'max_cat_to_onehot': 27,\n",
       "  'max_bin': 632,\n",
       "  'min_data_in_bin': 34,\n",
       "  'objective': 'binary'},\n",
       " 5: {'num_iterations': 98,\n",
       "  'learning_rate': 0.48221228650561615,\n",
       "  'num_leaves': 222,\n",
       "  'max_depth': 14,\n",
       "  'min_data_in_leaf': 343,\n",
       "  'min_sum_hessian_in_leaf': 0.16336286068921954,\n",
       "  'bagging_freq': 0,\n",
       "  'bagging_fraction': 0.9794991100182464,\n",
       "  'feature_fraction': 0.63728942034678,\n",
       "  'lambda_l1': 38.02920861460169,\n",
       "  'lambda_l2': 39.83162229799324,\n",
       "  'min_gain_to_split': 0.056989793815496015,\n",
       "  'min_data_per_group': 227,\n",
       "  'max_cat_threshold': 485,\n",
       "  'cat_l2': 45.413369095139196,\n",
       "  'cat_smooth': 87.08565525956897,\n",
       "  'max_cat_to_onehot': 27,\n",
       "  'max_bin': 632,\n",
       "  'min_data_in_bin': 34,\n",
       "  'objective': 'binary'},\n",
       " 6: {'num_iterations': 98,\n",
       "  'learning_rate': 0.48221228650561615,\n",
       "  'num_leaves': 222,\n",
       "  'max_depth': 14,\n",
       "  'min_data_in_leaf': 343,\n",
       "  'min_sum_hessian_in_leaf': 0.16336286068921954,\n",
       "  'bagging_freq': 0,\n",
       "  'bagging_fraction': 0.9794991100182464,\n",
       "  'feature_fraction': 0.63728942034678,\n",
       "  'lambda_l1': 38.02920861460169,\n",
       "  'lambda_l2': 39.83162229799324,\n",
       "  'min_gain_to_split': 0.056989793815496015,\n",
       "  'min_data_per_group': 227,\n",
       "  'max_cat_threshold': 485,\n",
       "  'cat_l2': 45.413369095139196,\n",
       "  'cat_smooth': 87.08565525956897,\n",
       "  'max_cat_to_onehot': 27,\n",
       "  'max_bin': 632,\n",
       "  'min_data_in_bin': 34,\n",
       "  'objective': 'binary'},\n",
       " 7: {'num_iterations': 98,\n",
       "  'learning_rate': 0.48221228650561615,\n",
       "  'num_leaves': 222,\n",
       "  'max_depth': 14,\n",
       "  'min_data_in_leaf': 343,\n",
       "  'min_sum_hessian_in_leaf': 0.16336286068921954,\n",
       "  'bagging_freq': 0,\n",
       "  'bagging_fraction': 0.9794991100182464,\n",
       "  'feature_fraction': 0.63728942034678,\n",
       "  'lambda_l1': 38.02920861460169,\n",
       "  'lambda_l2': 39.83162229799324,\n",
       "  'min_gain_to_split': 0.056989793815496015,\n",
       "  'min_data_per_group': 227,\n",
       "  'max_cat_threshold': 485,\n",
       "  'cat_l2': 45.413369095139196,\n",
       "  'cat_smooth': 87.08565525956897,\n",
       "  'max_cat_to_onehot': 27,\n",
       "  'max_bin': 632,\n",
       "  'min_data_in_bin': 34,\n",
       "  'objective': 'binary'},\n",
       " 8: {'num_iterations': 98,\n",
       "  'learning_rate': 0.48221228650561615,\n",
       "  'num_leaves': 222,\n",
       "  'max_depth': 14,\n",
       "  'min_data_in_leaf': 343,\n",
       "  'min_sum_hessian_in_leaf': 0.16336286068921954,\n",
       "  'bagging_freq': 0,\n",
       "  'bagging_fraction': 0.9794991100182464,\n",
       "  'feature_fraction': 0.63728942034678,\n",
       "  'lambda_l1': 38.02920861460169,\n",
       "  'lambda_l2': 39.83162229799324,\n",
       "  'min_gain_to_split': 0.056989793815496015,\n",
       "  'min_data_per_group': 227,\n",
       "  'max_cat_threshold': 485,\n",
       "  'cat_l2': 45.413369095139196,\n",
       "  'cat_smooth': 87.08565525956897,\n",
       "  'max_cat_to_onehot': 27,\n",
       "  'max_bin': 632,\n",
       "  'min_data_in_bin': 34,\n",
       "  'objective': 'binary'},\n",
       " 9: {'num_iterations': 98,\n",
       "  'learning_rate': 0.48221228650561615,\n",
       "  'num_leaves': 222,\n",
       "  'max_depth': 14,\n",
       "  'min_data_in_leaf': 343,\n",
       "  'min_sum_hessian_in_leaf': 0.16336286068921954,\n",
       "  'bagging_freq': 0,\n",
       "  'bagging_fraction': 0.9794991100182464,\n",
       "  'feature_fraction': 0.63728942034678,\n",
       "  'lambda_l1': 38.02920861460169,\n",
       "  'lambda_l2': 39.83162229799324,\n",
       "  'min_gain_to_split': 0.056989793815496015,\n",
       "  'min_data_per_group': 227,\n",
       "  'max_cat_threshold': 485,\n",
       "  'cat_l2': 45.413369095139196,\n",
       "  'cat_smooth': 87.08565525956897,\n",
       "  'max_cat_to_onehot': 27,\n",
       "  'max_bin': 632,\n",
       "  'min_data_in_bin': 34,\n",
       "  'objective': 'binary'},\n",
       " 10: {'num_iterations': 98,\n",
       "  'learning_rate': 0.48221228650561615,\n",
       "  'num_leaves': 222,\n",
       "  'max_depth': 14,\n",
       "  'min_data_in_leaf': 343,\n",
       "  'min_sum_hessian_in_leaf': 0.16336286068921954,\n",
       "  'bagging_freq': 0,\n",
       "  'bagging_fraction': 0.9794991100182464,\n",
       "  'feature_fraction': 0.63728942034678,\n",
       "  'lambda_l1': 38.02920861460169,\n",
       "  'lambda_l2': 39.83162229799324,\n",
       "  'min_gain_to_split': 0.056989793815496015,\n",
       "  'min_data_per_group': 227,\n",
       "  'max_cat_threshold': 485,\n",
       "  'cat_l2': 45.413369095139196,\n",
       "  'cat_smooth': 87.08565525956897,\n",
       "  'max_cat_to_onehot': 27,\n",
       "  'max_bin': 632,\n",
       "  'min_data_in_bin': 34,\n",
       "  'objective': 'binary'},\n",
       " 11: {'num_iterations': 98,\n",
       "  'learning_rate': 0.48221228650561615,\n",
       "  'num_leaves': 222,\n",
       "  'max_depth': 14,\n",
       "  'min_data_in_leaf': 343,\n",
       "  'min_sum_hessian_in_leaf': 0.16336286068921954,\n",
       "  'bagging_freq': 0,\n",
       "  'bagging_fraction': 0.9794991100182464,\n",
       "  'feature_fraction': 0.63728942034678,\n",
       "  'lambda_l1': 38.02920861460169,\n",
       "  'lambda_l2': 39.83162229799324,\n",
       "  'min_gain_to_split': 0.056989793815496015,\n",
       "  'min_data_per_group': 227,\n",
       "  'max_cat_threshold': 485,\n",
       "  'cat_l2': 45.413369095139196,\n",
       "  'cat_smooth': 87.08565525956897,\n",
       "  'max_cat_to_onehot': 27,\n",
       "  'max_bin': 632,\n",
       "  'min_data_in_bin': 34,\n",
       "  'objective': 'binary'},\n",
       " 12: {'num_iterations': 98,\n",
       "  'learning_rate': 0.48221228650561615,\n",
       "  'num_leaves': 222,\n",
       "  'max_depth': 14,\n",
       "  'min_data_in_leaf': 343,\n",
       "  'min_sum_hessian_in_leaf': 0.16336286068921954,\n",
       "  'bagging_freq': 0,\n",
       "  'bagging_fraction': 0.9794991100182464,\n",
       "  'feature_fraction': 0.63728942034678,\n",
       "  'lambda_l1': 38.02920861460169,\n",
       "  'lambda_l2': 39.83162229799324,\n",
       "  'min_gain_to_split': 0.056989793815496015,\n",
       "  'min_data_per_group': 227,\n",
       "  'max_cat_threshold': 485,\n",
       "  'cat_l2': 45.413369095139196,\n",
       "  'cat_smooth': 87.08565525956897,\n",
       "  'max_cat_to_onehot': 27,\n",
       "  'max_bin': 632,\n",
       "  'min_data_in_bin': 34,\n",
       "  'objective': 'binary'},\n",
       " 13: {'num_iterations': 91,\n",
       "  'learning_rate': 0.08081207670528569,\n",
       "  'num_leaves': 45,\n",
       "  'max_depth': 30,\n",
       "  'min_data_in_leaf': 52,\n",
       "  'min_sum_hessian_in_leaf': 0.14564408551350866,\n",
       "  'bagging_freq': 1,\n",
       "  'bagging_fraction': 0.7421054227078454,\n",
       "  'feature_fraction': 0.9553626362706973,\n",
       "  'lambda_l1': 33.48323382484937,\n",
       "  'lambda_l2': 25.91037545717554,\n",
       "  'min_gain_to_split': 0.039619274608901967,\n",
       "  'min_data_per_group': 284,\n",
       "  'max_cat_threshold': 377,\n",
       "  'cat_l2': 11.820566283956346,\n",
       "  'cat_smooth': 119.75451760945361,\n",
       "  'max_cat_to_onehot': 11,\n",
       "  'max_bin': 150,\n",
       "  'min_data_in_bin': 10,\n",
       "  'objective': 'binary'},\n",
       " 14: {'num_iterations': 91,\n",
       "  'learning_rate': 0.08081207670528569,\n",
       "  'num_leaves': 45,\n",
       "  'max_depth': 30,\n",
       "  'min_data_in_leaf': 52,\n",
       "  'min_sum_hessian_in_leaf': 0.14564408551350866,\n",
       "  'bagging_freq': 1,\n",
       "  'bagging_fraction': 0.7421054227078454,\n",
       "  'feature_fraction': 0.9553626362706973,\n",
       "  'lambda_l1': 33.48323382484937,\n",
       "  'lambda_l2': 25.91037545717554,\n",
       "  'min_gain_to_split': 0.039619274608901967,\n",
       "  'min_data_per_group': 284,\n",
       "  'max_cat_threshold': 377,\n",
       "  'cat_l2': 11.820566283956346,\n",
       "  'cat_smooth': 119.75451760945361,\n",
       "  'max_cat_to_onehot': 11,\n",
       "  'max_bin': 150,\n",
       "  'min_data_in_bin': 10,\n",
       "  'objective': 'binary'},\n",
       " 15: {'num_iterations': 98,\n",
       "  'learning_rate': 0.48221228650561615,\n",
       "  'num_leaves': 222,\n",
       "  'max_depth': 14,\n",
       "  'min_data_in_leaf': 343,\n",
       "  'min_sum_hessian_in_leaf': 0.16336286068921954,\n",
       "  'bagging_freq': 0,\n",
       "  'bagging_fraction': 0.9794991100182464,\n",
       "  'feature_fraction': 0.63728942034678,\n",
       "  'lambda_l1': 38.02920861460169,\n",
       "  'lambda_l2': 39.83162229799324,\n",
       "  'min_gain_to_split': 0.056989793815496015,\n",
       "  'min_data_per_group': 227,\n",
       "  'max_cat_threshold': 485,\n",
       "  'cat_l2': 45.413369095139196,\n",
       "  'cat_smooth': 87.08565525956897,\n",
       "  'max_cat_to_onehot': 27,\n",
       "  'max_bin': 632,\n",
       "  'min_data_in_bin': 34,\n",
       "  'objective': 'binary'},\n",
       " 16: {'num_iterations': 98,\n",
       "  'learning_rate': 0.48221228650561615,\n",
       "  'num_leaves': 222,\n",
       "  'max_depth': 14,\n",
       "  'min_data_in_leaf': 343,\n",
       "  'min_sum_hessian_in_leaf': 0.16336286068921954,\n",
       "  'bagging_freq': 0,\n",
       "  'bagging_fraction': 0.9794991100182464,\n",
       "  'feature_fraction': 0.63728942034678,\n",
       "  'lambda_l1': 38.02920861460169,\n",
       "  'lambda_l2': 39.83162229799324,\n",
       "  'min_gain_to_split': 0.056989793815496015,\n",
       "  'min_data_per_group': 227,\n",
       "  'max_cat_threshold': 485,\n",
       "  'cat_l2': 45.413369095139196,\n",
       "  'cat_smooth': 87.08565525956897,\n",
       "  'max_cat_to_onehot': 27,\n",
       "  'max_bin': 632,\n",
       "  'min_data_in_bin': 34,\n",
       "  'objective': 'binary'},\n",
       " 17: {'num_iterations': 98,\n",
       "  'learning_rate': 0.48221228650561615,\n",
       "  'num_leaves': 222,\n",
       "  'max_depth': 14,\n",
       "  'min_data_in_leaf': 343,\n",
       "  'min_sum_hessian_in_leaf': 0.16336286068921954,\n",
       "  'bagging_freq': 0,\n",
       "  'bagging_fraction': 0.9794991100182464,\n",
       "  'feature_fraction': 0.63728942034678,\n",
       "  'lambda_l1': 38.02920861460169,\n",
       "  'lambda_l2': 39.83162229799324,\n",
       "  'min_gain_to_split': 0.056989793815496015,\n",
       "  'min_data_per_group': 227,\n",
       "  'max_cat_threshold': 485,\n",
       "  'cat_l2': 45.413369095139196,\n",
       "  'cat_smooth': 87.08565525956897,\n",
       "  'max_cat_to_onehot': 27,\n",
       "  'max_bin': 632,\n",
       "  'min_data_in_bin': 34,\n",
       "  'objective': 'binary'},\n",
       " 18: {'num_iterations': 98,\n",
       "  'learning_rate': 0.48221228650561615,\n",
       "  'num_leaves': 222,\n",
       "  'max_depth': 14,\n",
       "  'min_data_in_leaf': 343,\n",
       "  'min_sum_hessian_in_leaf': 0.16336286068921954,\n",
       "  'bagging_freq': 0,\n",
       "  'bagging_fraction': 0.9794991100182464,\n",
       "  'feature_fraction': 0.63728942034678,\n",
       "  'lambda_l1': 38.02920861460169,\n",
       "  'lambda_l2': 39.83162229799324,\n",
       "  'min_gain_to_split': 0.056989793815496015,\n",
       "  'min_data_per_group': 227,\n",
       "  'max_cat_threshold': 485,\n",
       "  'cat_l2': 45.413369095139196,\n",
       "  'cat_smooth': 87.08565525956897,\n",
       "  'max_cat_to_onehot': 27,\n",
       "  'max_bin': 632,\n",
       "  'min_data_in_bin': 34,\n",
       "  'objective': 'binary'},\n",
       " 19: {'num_iterations': 67,\n",
       "  'learning_rate': 0.03746294609752311,\n",
       "  'num_leaves': 158,\n",
       "  'max_depth': 12,\n",
       "  'min_data_in_leaf': 32,\n",
       "  'min_sum_hessian_in_leaf': 0.14511985173887948,\n",
       "  'bagging_freq': 0,\n",
       "  'bagging_fraction': 0.675761436394881,\n",
       "  'feature_fraction': 0.6330760786411519,\n",
       "  'lambda_l1': 29.782572825444007,\n",
       "  'lambda_l2': 5.1211225902930835,\n",
       "  'min_gain_to_split': 0.18030446870444447,\n",
       "  'min_data_per_group': 346,\n",
       "  'max_cat_threshold': 268,\n",
       "  'cat_l2': 62.50914642127281,\n",
       "  'cat_smooth': 379.560142094743,\n",
       "  'max_cat_to_onehot': 10,\n",
       "  'max_bin': 702,\n",
       "  'min_data_in_bin': 33,\n",
       "  'objective': 'binary'},\n",
       " 20: {'num_iterations': 67,\n",
       "  'learning_rate': 0.03746294609752311,\n",
       "  'num_leaves': 158,\n",
       "  'max_depth': 12,\n",
       "  'min_data_in_leaf': 32,\n",
       "  'min_sum_hessian_in_leaf': 0.14511985173887948,\n",
       "  'bagging_freq': 0,\n",
       "  'bagging_fraction': 0.675761436394881,\n",
       "  'feature_fraction': 0.6330760786411519,\n",
       "  'lambda_l1': 29.782572825444007,\n",
       "  'lambda_l2': 5.1211225902930835,\n",
       "  'min_gain_to_split': 0.18030446870444447,\n",
       "  'min_data_per_group': 346,\n",
       "  'max_cat_threshold': 268,\n",
       "  'cat_l2': 62.50914642127281,\n",
       "  'cat_smooth': 379.560142094743,\n",
       "  'max_cat_to_onehot': 10,\n",
       "  'max_bin': 702,\n",
       "  'min_data_in_bin': 33,\n",
       "  'objective': 'binary'},\n",
       " 21: {'num_iterations': 67,\n",
       "  'learning_rate': 0.03746294609752311,\n",
       "  'num_leaves': 158,\n",
       "  'max_depth': 12,\n",
       "  'min_data_in_leaf': 32,\n",
       "  'min_sum_hessian_in_leaf': 0.14511985173887948,\n",
       "  'bagging_freq': 0,\n",
       "  'bagging_fraction': 0.675761436394881,\n",
       "  'feature_fraction': 0.6330760786411519,\n",
       "  'lambda_l1': 29.782572825444007,\n",
       "  'lambda_l2': 5.1211225902930835,\n",
       "  'min_gain_to_split': 0.18030446870444447,\n",
       "  'min_data_per_group': 346,\n",
       "  'max_cat_threshold': 268,\n",
       "  'cat_l2': 62.50914642127281,\n",
       "  'cat_smooth': 379.560142094743,\n",
       "  'max_cat_to_onehot': 10,\n",
       "  'max_bin': 702,\n",
       "  'min_data_in_bin': 33,\n",
       "  'objective': 'binary'},\n",
       " 22: {'num_iterations': 67,\n",
       "  'learning_rate': 0.03746294609752311,\n",
       "  'num_leaves': 158,\n",
       "  'max_depth': 12,\n",
       "  'min_data_in_leaf': 32,\n",
       "  'min_sum_hessian_in_leaf': 0.14511985173887948,\n",
       "  'bagging_freq': 0,\n",
       "  'bagging_fraction': 0.675761436394881,\n",
       "  'feature_fraction': 0.6330760786411519,\n",
       "  'lambda_l1': 29.782572825444007,\n",
       "  'lambda_l2': 5.1211225902930835,\n",
       "  'min_gain_to_split': 0.18030446870444447,\n",
       "  'min_data_per_group': 346,\n",
       "  'max_cat_threshold': 268,\n",
       "  'cat_l2': 62.50914642127281,\n",
       "  'cat_smooth': 379.560142094743,\n",
       "  'max_cat_to_onehot': 10,\n",
       "  'max_bin': 702,\n",
       "  'min_data_in_bin': 33,\n",
       "  'objective': 'binary'},\n",
       " 23: {'num_iterations': 67,\n",
       "  'learning_rate': 0.03746294609752311,\n",
       "  'num_leaves': 158,\n",
       "  'max_depth': 12,\n",
       "  'min_data_in_leaf': 32,\n",
       "  'min_sum_hessian_in_leaf': 0.14511985173887948,\n",
       "  'bagging_freq': 0,\n",
       "  'bagging_fraction': 0.675761436394881,\n",
       "  'feature_fraction': 0.6330760786411519,\n",
       "  'lambda_l1': 29.782572825444007,\n",
       "  'lambda_l2': 5.1211225902930835,\n",
       "  'min_gain_to_split': 0.18030446870444447,\n",
       "  'min_data_per_group': 346,\n",
       "  'max_cat_threshold': 268,\n",
       "  'cat_l2': 62.50914642127281,\n",
       "  'cat_smooth': 379.560142094743,\n",
       "  'max_cat_to_onehot': 10,\n",
       "  'max_bin': 702,\n",
       "  'min_data_in_bin': 33,\n",
       "  'objective': 'binary'},\n",
       " 24: {'num_iterations': 67,\n",
       "  'learning_rate': 0.03746294609752311,\n",
       "  'num_leaves': 158,\n",
       "  'max_depth': 12,\n",
       "  'min_data_in_leaf': 32,\n",
       "  'min_sum_hessian_in_leaf': 0.14511985173887948,\n",
       "  'bagging_freq': 0,\n",
       "  'bagging_fraction': 0.675761436394881,\n",
       "  'feature_fraction': 0.6330760786411519,\n",
       "  'lambda_l1': 29.782572825444007,\n",
       "  'lambda_l2': 5.1211225902930835,\n",
       "  'min_gain_to_split': 0.18030446870444447,\n",
       "  'min_data_per_group': 346,\n",
       "  'max_cat_threshold': 268,\n",
       "  'cat_l2': 62.50914642127281,\n",
       "  'cat_smooth': 379.560142094743,\n",
       "  'max_cat_to_onehot': 10,\n",
       "  'max_bin': 702,\n",
       "  'min_data_in_bin': 33,\n",
       "  'objective': 'binary'},\n",
       " 25: {'num_iterations': 67,\n",
       "  'learning_rate': 0.03746294609752311,\n",
       "  'num_leaves': 158,\n",
       "  'max_depth': 12,\n",
       "  'min_data_in_leaf': 32,\n",
       "  'min_sum_hessian_in_leaf': 0.14511985173887948,\n",
       "  'bagging_freq': 0,\n",
       "  'bagging_fraction': 0.675761436394881,\n",
       "  'feature_fraction': 0.6330760786411519,\n",
       "  'lambda_l1': 29.782572825444007,\n",
       "  'lambda_l2': 5.1211225902930835,\n",
       "  'min_gain_to_split': 0.18030446870444447,\n",
       "  'min_data_per_group': 346,\n",
       "  'max_cat_threshold': 268,\n",
       "  'cat_l2': 62.50914642127281,\n",
       "  'cat_smooth': 379.560142094743,\n",
       "  'max_cat_to_onehot': 10,\n",
       "  'max_bin': 702,\n",
       "  'min_data_in_bin': 33,\n",
       "  'objective': 'binary'},\n",
       " 26: {'num_iterations': 67,\n",
       "  'learning_rate': 0.03746294609752311,\n",
       "  'num_leaves': 158,\n",
       "  'max_depth': 12,\n",
       "  'min_data_in_leaf': 32,\n",
       "  'min_sum_hessian_in_leaf': 0.14511985173887948,\n",
       "  'bagging_freq': 0,\n",
       "  'bagging_fraction': 0.675761436394881,\n",
       "  'feature_fraction': 0.6330760786411519,\n",
       "  'lambda_l1': 29.782572825444007,\n",
       "  'lambda_l2': 5.1211225902930835,\n",
       "  'min_gain_to_split': 0.18030446870444447,\n",
       "  'min_data_per_group': 346,\n",
       "  'max_cat_threshold': 268,\n",
       "  'cat_l2': 62.50914642127281,\n",
       "  'cat_smooth': 379.560142094743,\n",
       "  'max_cat_to_onehot': 10,\n",
       "  'max_bin': 702,\n",
       "  'min_data_in_bin': 33,\n",
       "  'objective': 'binary'},\n",
       " 27: {'num_iterations': 67,\n",
       "  'learning_rate': 0.03746294609752311,\n",
       "  'num_leaves': 158,\n",
       "  'max_depth': 12,\n",
       "  'min_data_in_leaf': 32,\n",
       "  'min_sum_hessian_in_leaf': 0.14511985173887948,\n",
       "  'bagging_freq': 0,\n",
       "  'bagging_fraction': 0.675761436394881,\n",
       "  'feature_fraction': 0.6330760786411519,\n",
       "  'lambda_l1': 29.782572825444007,\n",
       "  'lambda_l2': 5.1211225902930835,\n",
       "  'min_gain_to_split': 0.18030446870444447,\n",
       "  'min_data_per_group': 346,\n",
       "  'max_cat_threshold': 268,\n",
       "  'cat_l2': 62.50914642127281,\n",
       "  'cat_smooth': 379.560142094743,\n",
       "  'max_cat_to_onehot': 10,\n",
       "  'max_bin': 702,\n",
       "  'min_data_in_bin': 33,\n",
       "  'objective': 'binary'},\n",
       " 28: {'num_iterations': 67,\n",
       "  'learning_rate': 0.03746294609752311,\n",
       "  'num_leaves': 158,\n",
       "  'max_depth': 12,\n",
       "  'min_data_in_leaf': 32,\n",
       "  'min_sum_hessian_in_leaf': 0.14511985173887948,\n",
       "  'bagging_freq': 0,\n",
       "  'bagging_fraction': 0.675761436394881,\n",
       "  'feature_fraction': 0.6330760786411519,\n",
       "  'lambda_l1': 29.782572825444007,\n",
       "  'lambda_l2': 5.1211225902930835,\n",
       "  'min_gain_to_split': 0.18030446870444447,\n",
       "  'min_data_per_group': 346,\n",
       "  'max_cat_threshold': 268,\n",
       "  'cat_l2': 62.50914642127281,\n",
       "  'cat_smooth': 379.560142094743,\n",
       "  'max_cat_to_onehot': 10,\n",
       "  'max_bin': 702,\n",
       "  'min_data_in_bin': 33,\n",
       "  'objective': 'binary'},\n",
       " 29: {'num_iterations': 67,\n",
       "  'learning_rate': 0.03746294609752311,\n",
       "  'num_leaves': 158,\n",
       "  'max_depth': 12,\n",
       "  'min_data_in_leaf': 32,\n",
       "  'min_sum_hessian_in_leaf': 0.14511985173887948,\n",
       "  'bagging_freq': 0,\n",
       "  'bagging_fraction': 0.675761436394881,\n",
       "  'feature_fraction': 0.6330760786411519,\n",
       "  'lambda_l1': 29.782572825444007,\n",
       "  'lambda_l2': 5.1211225902930835,\n",
       "  'min_gain_to_split': 0.18030446870444447,\n",
       "  'min_data_per_group': 346,\n",
       "  'max_cat_threshold': 268,\n",
       "  'cat_l2': 62.50914642127281,\n",
       "  'cat_smooth': 379.560142094743,\n",
       "  'max_cat_to_onehot': 10,\n",
       "  'max_bin': 702,\n",
       "  'min_data_in_bin': 33,\n",
       "  'objective': 'binary'},\n",
       " 30: {'num_iterations': 98,\n",
       "  'learning_rate': 0.48221228650561615,\n",
       "  'num_leaves': 222,\n",
       "  'max_depth': 14,\n",
       "  'min_data_in_leaf': 343,\n",
       "  'min_sum_hessian_in_leaf': 0.16336286068921954,\n",
       "  'bagging_freq': 0,\n",
       "  'bagging_fraction': 0.9794991100182464,\n",
       "  'feature_fraction': 0.63728942034678,\n",
       "  'lambda_l1': 38.02920861460169,\n",
       "  'lambda_l2': 39.83162229799324,\n",
       "  'min_gain_to_split': 0.056989793815496015,\n",
       "  'min_data_per_group': 227,\n",
       "  'max_cat_threshold': 485,\n",
       "  'cat_l2': 45.413369095139196,\n",
       "  'cat_smooth': 87.08565525956897,\n",
       "  'max_cat_to_onehot': 27,\n",
       "  'max_bin': 632,\n",
       "  'min_data_in_bin': 34,\n",
       "  'objective': 'binary'},\n",
       " 31: {'num_iterations': 98,\n",
       "  'learning_rate': 0.48221228650561615,\n",
       "  'num_leaves': 222,\n",
       "  'max_depth': 14,\n",
       "  'min_data_in_leaf': 343,\n",
       "  'min_sum_hessian_in_leaf': 0.16336286068921954,\n",
       "  'bagging_freq': 0,\n",
       "  'bagging_fraction': 0.9794991100182464,\n",
       "  'feature_fraction': 0.63728942034678,\n",
       "  'lambda_l1': 38.02920861460169,\n",
       "  'lambda_l2': 39.83162229799324,\n",
       "  'min_gain_to_split': 0.056989793815496015,\n",
       "  'min_data_per_group': 227,\n",
       "  'max_cat_threshold': 485,\n",
       "  'cat_l2': 45.413369095139196,\n",
       "  'cat_smooth': 87.08565525956897,\n",
       "  'max_cat_to_onehot': 27,\n",
       "  'max_bin': 632,\n",
       "  'min_data_in_bin': 34,\n",
       "  'objective': 'binary'},\n",
       " 32: {'num_iterations': 98,\n",
       "  'learning_rate': 0.48221228650561615,\n",
       "  'num_leaves': 222,\n",
       "  'max_depth': 14,\n",
       "  'min_data_in_leaf': 343,\n",
       "  'min_sum_hessian_in_leaf': 0.16336286068921954,\n",
       "  'bagging_freq': 0,\n",
       "  'bagging_fraction': 0.9794991100182464,\n",
       "  'feature_fraction': 0.63728942034678,\n",
       "  'lambda_l1': 38.02920861460169,\n",
       "  'lambda_l2': 39.83162229799324,\n",
       "  'min_gain_to_split': 0.056989793815496015,\n",
       "  'min_data_per_group': 227,\n",
       "  'max_cat_threshold': 485,\n",
       "  'cat_l2': 45.413369095139196,\n",
       "  'cat_smooth': 87.08565525956897,\n",
       "  'max_cat_to_onehot': 27,\n",
       "  'max_bin': 632,\n",
       "  'min_data_in_bin': 34,\n",
       "  'objective': 'binary'},\n",
       " 33: {'num_iterations': 67,\n",
       "  'learning_rate': 0.03746294609752311,\n",
       "  'num_leaves': 158,\n",
       "  'max_depth': 12,\n",
       "  'min_data_in_leaf': 32,\n",
       "  'min_sum_hessian_in_leaf': 0.14511985173887948,\n",
       "  'bagging_freq': 0,\n",
       "  'bagging_fraction': 0.675761436394881,\n",
       "  'feature_fraction': 0.6330760786411519,\n",
       "  'lambda_l1': 29.782572825444007,\n",
       "  'lambda_l2': 5.1211225902930835,\n",
       "  'min_gain_to_split': 0.18030446870444447,\n",
       "  'min_data_per_group': 346,\n",
       "  'max_cat_threshold': 268,\n",
       "  'cat_l2': 62.50914642127281,\n",
       "  'cat_smooth': 379.560142094743,\n",
       "  'max_cat_to_onehot': 10,\n",
       "  'max_bin': 702,\n",
       "  'min_data_in_bin': 33,\n",
       "  'objective': 'binary'},\n",
       " 34: {'num_iterations': 67,\n",
       "  'learning_rate': 0.03746294609752311,\n",
       "  'num_leaves': 158,\n",
       "  'max_depth': 12,\n",
       "  'min_data_in_leaf': 32,\n",
       "  'min_sum_hessian_in_leaf': 0.14511985173887948,\n",
       "  'bagging_freq': 0,\n",
       "  'bagging_fraction': 0.675761436394881,\n",
       "  'feature_fraction': 0.6330760786411519,\n",
       "  'lambda_l1': 29.782572825444007,\n",
       "  'lambda_l2': 5.1211225902930835,\n",
       "  'min_gain_to_split': 0.18030446870444447,\n",
       "  'min_data_per_group': 346,\n",
       "  'max_cat_threshold': 268,\n",
       "  'cat_l2': 62.50914642127281,\n",
       "  'cat_smooth': 379.560142094743,\n",
       "  'max_cat_to_onehot': 10,\n",
       "  'max_bin': 702,\n",
       "  'min_data_in_bin': 33,\n",
       "  'objective': 'binary'},\n",
       " 35: {'num_iterations': 91,\n",
       "  'learning_rate': 0.08081207670528569,\n",
       "  'num_leaves': 45,\n",
       "  'max_depth': 30,\n",
       "  'min_data_in_leaf': 52,\n",
       "  'min_sum_hessian_in_leaf': 0.14564408551350866,\n",
       "  'bagging_freq': 1,\n",
       "  'bagging_fraction': 0.7421054227078454,\n",
       "  'feature_fraction': 0.9553626362706973,\n",
       "  'lambda_l1': 33.48323382484937,\n",
       "  'lambda_l2': 25.91037545717554,\n",
       "  'min_gain_to_split': 0.039619274608901967,\n",
       "  'min_data_per_group': 284,\n",
       "  'max_cat_threshold': 377,\n",
       "  'cat_l2': 11.820566283956346,\n",
       "  'cat_smooth': 119.75451760945361,\n",
       "  'max_cat_to_onehot': 11,\n",
       "  'max_bin': 150,\n",
       "  'min_data_in_bin': 10,\n",
       "  'objective': 'binary'}}"
      ]
     },
     "execution_count": 11,
     "metadata": {},
     "output_type": "execute_result"
    }
   ],
   "source": [
    "N_TRIALS = 4\n",
    "params = modeler.hyperoptimize(n_trials=N_TRIALS)\n",
    "params"
   ]
  },
  {
   "cell_type": "markdown",
   "metadata": {},
   "source": [
    "Using our new hyperparameter sets is as simple as passing them to build_model. Because the number of trees to train was one of our hyperparameters, we don't use early stopping and don't need a validation set."
   ]
  },
  {
   "cell_type": "code",
   "execution_count": 12,
   "metadata": {
    "scrolled": true
   },
   "outputs": [
    {
     "name": "stderr",
     "output_type": "stream",
     "text": [
      "Found `num_iterations` in params. Will use it instead of argument\n",
      "categorical_feature in Dataset is overridden.\n",
      "New categorical_feature is ['age', 'anticipation', 'change_recent', 'country', 'defeat_recent', 'delayed', 'direct_recent', 'elected', 'election_now', 'election_recent', 'exec_ant', 'exec_recent', 'government', 'indirect_recent', 'irreg_lead_ant', 'lead_recent', 'leg_ant', 'leg_recent', 'male', 'militarycareer', 'month', 'nochange_recent', 'prev_conflict', 'pt_attempt', 'pt_suc', 'ref_ant', 'ref_recent', 'tenure_months', 'victory_recent', 'year']\n",
      "Found `num_iterations` in params. Will use it instead of argument\n",
      "categorical_feature in Dataset is overridden.\n",
      "New categorical_feature is ['age', 'anticipation', 'change_recent', 'country', 'defeat_recent', 'delayed', 'direct_recent', 'elected', 'election_now', 'election_recent', 'exec_ant', 'exec_recent', 'government', 'indirect_recent', 'irreg_lead_ant', 'lead_recent', 'leg_ant', 'leg_recent', 'male', 'militarycareer', 'month', 'nochange_recent', 'prev_conflict', 'pt_attempt', 'pt_suc', 'ref_ant', 'ref_recent', 'tenure_months', 'victory_recent', 'year']\n",
      "Found `num_iterations` in params. Will use it instead of argument\n",
      "categorical_feature in Dataset is overridden.\n",
      "New categorical_feature is ['age', 'anticipation', 'change_recent', 'country', 'defeat_recent', 'delayed', 'direct_recent', 'elected', 'election_now', 'election_recent', 'exec_ant', 'exec_recent', 'government', 'indirect_recent', 'irreg_lead_ant', 'lead_recent', 'leg_ant', 'leg_recent', 'male', 'militarycareer', 'month', 'nochange_recent', 'prev_conflict', 'pt_attempt', 'pt_suc', 'ref_ant', 'ref_recent', 'tenure_months', 'victory_recent', 'year']\n",
      "Found `num_iterations` in params. Will use it instead of argument\n",
      "categorical_feature in Dataset is overridden.\n",
      "New categorical_feature is ['age', 'anticipation', 'change_recent', 'country', 'defeat_recent', 'delayed', 'direct_recent', 'elected', 'election_now', 'election_recent', 'exec_ant', 'exec_recent', 'government', 'indirect_recent', 'irreg_lead_ant', 'lead_recent', 'leg_ant', 'leg_recent', 'male', 'militarycareer', 'month', 'nochange_recent', 'prev_conflict', 'pt_attempt', 'pt_suc', 'ref_ant', 'ref_recent', 'tenure_months', 'victory_recent', 'year']\n",
      "Found `num_iterations` in params. Will use it instead of argument\n",
      "categorical_feature in Dataset is overridden.\n",
      "New categorical_feature is ['age', 'anticipation', 'change_recent', 'country', 'defeat_recent', 'delayed', 'direct_recent', 'elected', 'election_now', 'election_recent', 'exec_ant', 'exec_recent', 'government', 'indirect_recent', 'irreg_lead_ant', 'lead_recent', 'leg_ant', 'leg_recent', 'male', 'militarycareer', 'month', 'nochange_recent', 'prev_conflict', 'pt_attempt', 'pt_suc', 'ref_ant', 'ref_recent', 'tenure_months', 'victory_recent', 'year']\n",
      "Found `num_iterations` in params. Will use it instead of argument\n",
      "categorical_feature in Dataset is overridden.\n",
      "New categorical_feature is ['age', 'anticipation', 'change_recent', 'country', 'defeat_recent', 'delayed', 'direct_recent', 'elected', 'election_now', 'election_recent', 'exec_ant', 'exec_recent', 'government', 'indirect_recent', 'irreg_lead_ant', 'lead_recent', 'leg_ant', 'leg_recent', 'male', 'militarycareer', 'month', 'nochange_recent', 'prev_conflict', 'pt_attempt', 'pt_suc', 'ref_ant', 'ref_recent', 'tenure_months', 'victory_recent', 'year']\n",
      "Found `num_iterations` in params. Will use it instead of argument\n",
      "categorical_feature in Dataset is overridden.\n",
      "New categorical_feature is ['age', 'anticipation', 'change_recent', 'country', 'defeat_recent', 'delayed', 'direct_recent', 'elected', 'election_now', 'election_recent', 'exec_ant', 'exec_recent', 'government', 'indirect_recent', 'irreg_lead_ant', 'lead_recent', 'leg_ant', 'leg_recent', 'male', 'militarycareer', 'month', 'nochange_recent', 'prev_conflict', 'pt_attempt', 'pt_suc', 'ref_ant', 'ref_recent', 'tenure_months', 'victory_recent', 'year']\n",
      "Found `num_iterations` in params. Will use it instead of argument\n",
      "categorical_feature in Dataset is overridden.\n",
      "New categorical_feature is ['age', 'anticipation', 'change_recent', 'country', 'defeat_recent', 'delayed', 'direct_recent', 'elected', 'election_now', 'election_recent', 'exec_ant', 'exec_recent', 'government', 'indirect_recent', 'irreg_lead_ant', 'lead_recent', 'leg_ant', 'leg_recent', 'male', 'militarycareer', 'month', 'nochange_recent', 'prev_conflict', 'pt_attempt', 'pt_suc', 'ref_ant', 'ref_recent', 'tenure_months', 'victory_recent', 'year']\n",
      "Found `num_iterations` in params. Will use it instead of argument\n",
      "categorical_feature in Dataset is overridden.\n",
      "New categorical_feature is ['age', 'anticipation', 'change_recent', 'country', 'defeat_recent', 'delayed', 'direct_recent', 'elected', 'election_now', 'election_recent', 'exec_ant', 'exec_recent', 'government', 'indirect_recent', 'irreg_lead_ant', 'lead_recent', 'leg_ant', 'leg_recent', 'male', 'militarycareer', 'month', 'nochange_recent', 'prev_conflict', 'pt_attempt', 'pt_suc', 'ref_ant', 'ref_recent', 'tenure_months', 'victory_recent', 'year']\n",
      "Found `num_iterations` in params. Will use it instead of argument\n",
      "categorical_feature in Dataset is overridden.\n",
      "New categorical_feature is ['age', 'anticipation', 'change_recent', 'country', 'defeat_recent', 'delayed', 'direct_recent', 'elected', 'election_now', 'election_recent', 'exec_ant', 'exec_recent', 'government', 'indirect_recent', 'irreg_lead_ant', 'lead_recent', 'leg_ant', 'leg_recent', 'male', 'militarycareer', 'month', 'nochange_recent', 'prev_conflict', 'pt_attempt', 'pt_suc', 'ref_ant', 'ref_recent', 'tenure_months', 'victory_recent', 'year']\n",
      "Found `num_iterations` in params. Will use it instead of argument\n",
      "categorical_feature in Dataset is overridden.\n",
      "New categorical_feature is ['age', 'anticipation', 'change_recent', 'country', 'defeat_recent', 'delayed', 'direct_recent', 'elected', 'election_now', 'election_recent', 'exec_ant', 'exec_recent', 'government', 'indirect_recent', 'irreg_lead_ant', 'lead_recent', 'leg_ant', 'leg_recent', 'male', 'militarycareer', 'month', 'nochange_recent', 'prev_conflict', 'pt_attempt', 'pt_suc', 'ref_ant', 'ref_recent', 'tenure_months', 'victory_recent', 'year']\n",
      "Found `num_iterations` in params. Will use it instead of argument\n",
      "categorical_feature in Dataset is overridden.\n",
      "New categorical_feature is ['age', 'anticipation', 'change_recent', 'country', 'defeat_recent', 'delayed', 'direct_recent', 'elected', 'election_now', 'election_recent', 'exec_ant', 'exec_recent', 'government', 'indirect_recent', 'irreg_lead_ant', 'lead_recent', 'leg_ant', 'leg_recent', 'male', 'militarycareer', 'month', 'nochange_recent', 'prev_conflict', 'pt_attempt', 'pt_suc', 'ref_ant', 'ref_recent', 'tenure_months', 'victory_recent', 'year']\n",
      "Found `num_iterations` in params. Will use it instead of argument\n",
      "categorical_feature in Dataset is overridden.\n",
      "New categorical_feature is ['age', 'anticipation', 'change_recent', 'country', 'defeat_recent', 'delayed', 'direct_recent', 'elected', 'election_now', 'election_recent', 'exec_ant', 'exec_recent', 'government', 'indirect_recent', 'irreg_lead_ant', 'lead_recent', 'leg_ant', 'leg_recent', 'male', 'militarycareer', 'month', 'nochange_recent', 'prev_conflict', 'pt_attempt', 'pt_suc', 'ref_ant', 'ref_recent', 'tenure_months', 'victory_recent', 'year']\n",
      "Found `num_iterations` in params. Will use it instead of argument\n",
      "categorical_feature in Dataset is overridden.\n",
      "New categorical_feature is ['age', 'anticipation', 'change_recent', 'country', 'defeat_recent', 'delayed', 'direct_recent', 'elected', 'election_now', 'election_recent', 'exec_ant', 'exec_recent', 'government', 'indirect_recent', 'irreg_lead_ant', 'lead_recent', 'leg_ant', 'leg_recent', 'male', 'militarycareer', 'month', 'nochange_recent', 'prev_conflict', 'pt_attempt', 'pt_suc', 'ref_ant', 'ref_recent', 'tenure_months', 'victory_recent', 'year']\n",
      "Found `num_iterations` in params. Will use it instead of argument\n",
      "categorical_feature in Dataset is overridden.\n",
      "New categorical_feature is ['age', 'anticipation', 'change_recent', 'country', 'defeat_recent', 'delayed', 'direct_recent', 'elected', 'election_now', 'election_recent', 'exec_ant', 'exec_recent', 'government', 'indirect_recent', 'irreg_lead_ant', 'lead_recent', 'leg_ant', 'leg_recent', 'male', 'militarycareer', 'month', 'nochange_recent', 'prev_conflict', 'pt_attempt', 'pt_suc', 'ref_ant', 'ref_recent', 'tenure_months', 'victory_recent', 'year']\n"
     ]
    }
   ],
   "source": [
    "modeler.build_model(n_intervals=TEST_INTERVALS, params=params)"
   ]
  },
  {
   "cell_type": "markdown",
   "metadata": {},
   "source": [
    "We can now evaluate our new model and directly compare it to our default model. The hyperparameters that performed best on a validation set don't always outperform the default parameters on the test set, but in this case they do. We see that our new hyperparameters yield higher AUROCs and a higher C-Index than the defaults."
   ]
  },
  {
   "cell_type": "code",
   "execution_count": 13,
   "metadata": {},
   "outputs": [
    {
     "data": {
      "text/html": [
       "<div>\n",
       "<style scoped>\n",
       "    .dataframe tbody tr th:only-of-type {\n",
       "        vertical-align: middle;\n",
       "    }\n",
       "\n",
       "    .dataframe tbody tr th {\n",
       "        vertical-align: top;\n",
       "    }\n",
       "\n",
       "    .dataframe thead th {\n",
       "        text-align: right;\n",
       "    }\n",
       "</style>\n",
       "<table border=\"1\" class=\"dataframe\">\n",
       "  <thead>\n",
       "    <tr style=\"text-align: right;\">\n",
       "      <th></th>\n",
       "      <th>AUROC</th>\n",
       "      <th>Predicted Share</th>\n",
       "      <th>Actual Share</th>\n",
       "      <th>True Positives</th>\n",
       "      <th>False Negatives</th>\n",
       "      <th>False Positives</th>\n",
       "      <th>True Negatives</th>\n",
       "      <th>Other Metrics:</th>\n",
       "      <th>C-Index</th>\n",
       "    </tr>\n",
       "    <tr>\n",
       "      <th>Lead Length</th>\n",
       "      <th></th>\n",
       "      <th></th>\n",
       "      <th></th>\n",
       "      <th></th>\n",
       "      <th></th>\n",
       "      <th></th>\n",
       "      <th></th>\n",
       "      <th></th>\n",
       "      <th></th>\n",
       "    </tr>\n",
       "  </thead>\n",
       "  <tbody>\n",
       "    <tr>\n",
       "      <th>1</th>\n",
       "      <td>0.913644</td>\n",
       "      <td>0.985811</td>\n",
       "      <td>0.984694</td>\n",
       "      <td>193</td>\n",
       "      <td>0</td>\n",
       "      <td>3</td>\n",
       "      <td>0</td>\n",
       "      <td></td>\n",
       "      <td>0.7276699029126213</td>\n",
       "    </tr>\n",
       "    <tr>\n",
       "      <th>2</th>\n",
       "      <td>0.892919</td>\n",
       "      <td>0.976030</td>\n",
       "      <td>0.984694</td>\n",
       "      <td>192</td>\n",
       "      <td>1</td>\n",
       "      <td>3</td>\n",
       "      <td>0</td>\n",
       "      <td></td>\n",
       "      <td></td>\n",
       "    </tr>\n",
       "    <tr>\n",
       "      <th>3</th>\n",
       "      <td>0.805236</td>\n",
       "      <td>0.965558</td>\n",
       "      <td>0.974490</td>\n",
       "      <td>191</td>\n",
       "      <td>0</td>\n",
       "      <td>4</td>\n",
       "      <td>1</td>\n",
       "      <td></td>\n",
       "      <td></td>\n",
       "    </tr>\n",
       "    <tr>\n",
       "      <th>4</th>\n",
       "      <td>0.857143</td>\n",
       "      <td>0.945799</td>\n",
       "      <td>0.964286</td>\n",
       "      <td>189</td>\n",
       "      <td>0</td>\n",
       "      <td>5</td>\n",
       "      <td>2</td>\n",
       "      <td></td>\n",
       "      <td></td>\n",
       "    </tr>\n",
       "    <tr>\n",
       "      <th>5</th>\n",
       "      <td>0.776268</td>\n",
       "      <td>0.923812</td>\n",
       "      <td>0.938776</td>\n",
       "      <td>183</td>\n",
       "      <td>1</td>\n",
       "      <td>8</td>\n",
       "      <td>4</td>\n",
       "      <td></td>\n",
       "      <td></td>\n",
       "    </tr>\n",
       "    <tr>\n",
       "      <th>6</th>\n",
       "      <td>0.821821</td>\n",
       "      <td>0.903341</td>\n",
       "      <td>0.928571</td>\n",
       "      <td>181</td>\n",
       "      <td>1</td>\n",
       "      <td>9</td>\n",
       "      <td>5</td>\n",
       "      <td></td>\n",
       "      <td></td>\n",
       "    </tr>\n",
       "    <tr>\n",
       "      <th>7</th>\n",
       "      <td>0.843831</td>\n",
       "      <td>0.885503</td>\n",
       "      <td>0.923469</td>\n",
       "      <td>179</td>\n",
       "      <td>2</td>\n",
       "      <td>7</td>\n",
       "      <td>8</td>\n",
       "      <td></td>\n",
       "      <td></td>\n",
       "    </tr>\n",
       "    <tr>\n",
       "      <th>8</th>\n",
       "      <td>0.831745</td>\n",
       "      <td>0.872482</td>\n",
       "      <td>0.913265</td>\n",
       "      <td>176</td>\n",
       "      <td>3</td>\n",
       "      <td>9</td>\n",
       "      <td>8</td>\n",
       "      <td></td>\n",
       "      <td></td>\n",
       "    </tr>\n",
       "    <tr>\n",
       "      <th>9</th>\n",
       "      <td>0.844354</td>\n",
       "      <td>0.857054</td>\n",
       "      <td>0.892857</td>\n",
       "      <td>170</td>\n",
       "      <td>5</td>\n",
       "      <td>11</td>\n",
       "      <td>10</td>\n",
       "      <td></td>\n",
       "      <td></td>\n",
       "    </tr>\n",
       "    <tr>\n",
       "      <th>10</th>\n",
       "      <td>0.788304</td>\n",
       "      <td>0.846568</td>\n",
       "      <td>0.872449</td>\n",
       "      <td>165</td>\n",
       "      <td>6</td>\n",
       "      <td>14</td>\n",
       "      <td>11</td>\n",
       "      <td></td>\n",
       "      <td></td>\n",
       "    </tr>\n",
       "    <tr>\n",
       "      <th>11</th>\n",
       "      <td>0.786139</td>\n",
       "      <td>0.826749</td>\n",
       "      <td>0.857143</td>\n",
       "      <td>162</td>\n",
       "      <td>6</td>\n",
       "      <td>16</td>\n",
       "      <td>12</td>\n",
       "      <td></td>\n",
       "      <td></td>\n",
       "    </tr>\n",
       "    <tr>\n",
       "      <th>12</th>\n",
       "      <td>0.782129</td>\n",
       "      <td>0.811692</td>\n",
       "      <td>0.846939</td>\n",
       "      <td>160</td>\n",
       "      <td>6</td>\n",
       "      <td>17</td>\n",
       "      <td>13</td>\n",
       "      <td></td>\n",
       "      <td></td>\n",
       "    </tr>\n",
       "    <tr>\n",
       "      <th>13</th>\n",
       "      <td>0.771888</td>\n",
       "      <td>0.796733</td>\n",
       "      <td>0.846939</td>\n",
       "      <td>159</td>\n",
       "      <td>7</td>\n",
       "      <td>16</td>\n",
       "      <td>14</td>\n",
       "      <td></td>\n",
       "      <td></td>\n",
       "    </tr>\n",
       "    <tr>\n",
       "      <th>14</th>\n",
       "      <td>0.790850</td>\n",
       "      <td>0.781655</td>\n",
       "      <td>0.826531</td>\n",
       "      <td>155</td>\n",
       "      <td>7</td>\n",
       "      <td>18</td>\n",
       "      <td>16</td>\n",
       "      <td></td>\n",
       "      <td></td>\n",
       "    </tr>\n",
       "    <tr>\n",
       "      <th>15</th>\n",
       "      <td>0.785417</td>\n",
       "      <td>0.768068</td>\n",
       "      <td>0.816327</td>\n",
       "      <td>153</td>\n",
       "      <td>7</td>\n",
       "      <td>19</td>\n",
       "      <td>17</td>\n",
       "      <td></td>\n",
       "      <td></td>\n",
       "    </tr>\n",
       "    <tr>\n",
       "      <th>16</th>\n",
       "      <td>0.794663</td>\n",
       "      <td>0.753704</td>\n",
       "      <td>0.811224</td>\n",
       "      <td>150</td>\n",
       "      <td>9</td>\n",
       "      <td>19</td>\n",
       "      <td>18</td>\n",
       "      <td></td>\n",
       "      <td></td>\n",
       "    </tr>\n",
       "    <tr>\n",
       "      <th>17</th>\n",
       "      <td>0.784419</td>\n",
       "      <td>0.742249</td>\n",
       "      <td>0.801020</td>\n",
       "      <td>144</td>\n",
       "      <td>13</td>\n",
       "      <td>21</td>\n",
       "      <td>18</td>\n",
       "      <td></td>\n",
       "      <td></td>\n",
       "    </tr>\n",
       "    <tr>\n",
       "      <th>18</th>\n",
       "      <td>0.789904</td>\n",
       "      <td>0.726466</td>\n",
       "      <td>0.795918</td>\n",
       "      <td>141</td>\n",
       "      <td>15</td>\n",
       "      <td>21</td>\n",
       "      <td>19</td>\n",
       "      <td></td>\n",
       "      <td></td>\n",
       "    </tr>\n",
       "    <tr>\n",
       "      <th>19</th>\n",
       "      <td>0.786594</td>\n",
       "      <td>0.712457</td>\n",
       "      <td>0.780612</td>\n",
       "      <td>135</td>\n",
       "      <td>18</td>\n",
       "      <td>22</td>\n",
       "      <td>21</td>\n",
       "      <td></td>\n",
       "      <td></td>\n",
       "    </tr>\n",
       "    <tr>\n",
       "      <th>20</th>\n",
       "      <td>0.779605</td>\n",
       "      <td>0.703027</td>\n",
       "      <td>0.775510</td>\n",
       "      <td>134</td>\n",
       "      <td>18</td>\n",
       "      <td>23</td>\n",
       "      <td>21</td>\n",
       "      <td></td>\n",
       "      <td></td>\n",
       "    </tr>\n",
       "    <tr>\n",
       "      <th>21</th>\n",
       "      <td>0.762178</td>\n",
       "      <td>0.693466</td>\n",
       "      <td>0.770408</td>\n",
       "      <td>133</td>\n",
       "      <td>18</td>\n",
       "      <td>24</td>\n",
       "      <td>21</td>\n",
       "      <td></td>\n",
       "      <td></td>\n",
       "    </tr>\n",
       "    <tr>\n",
       "      <th>22</th>\n",
       "      <td>0.750250</td>\n",
       "      <td>0.684225</td>\n",
       "      <td>0.760204</td>\n",
       "      <td>131</td>\n",
       "      <td>18</td>\n",
       "      <td>26</td>\n",
       "      <td>21</td>\n",
       "      <td></td>\n",
       "      <td></td>\n",
       "    </tr>\n",
       "    <tr>\n",
       "      <th>23</th>\n",
       "      <td>0.744828</td>\n",
       "      <td>0.672628</td>\n",
       "      <td>0.739796</td>\n",
       "      <td>127</td>\n",
       "      <td>18</td>\n",
       "      <td>30</td>\n",
       "      <td>21</td>\n",
       "      <td></td>\n",
       "      <td></td>\n",
       "    </tr>\n",
       "    <tr>\n",
       "      <th>24</th>\n",
       "      <td>0.756931</td>\n",
       "      <td>0.661415</td>\n",
       "      <td>0.719388</td>\n",
       "      <td>123</td>\n",
       "      <td>18</td>\n",
       "      <td>31</td>\n",
       "      <td>24</td>\n",
       "      <td></td>\n",
       "      <td></td>\n",
       "    </tr>\n",
       "    <tr>\n",
       "      <th>25</th>\n",
       "      <td>0.757721</td>\n",
       "      <td>0.651825</td>\n",
       "      <td>0.693878</td>\n",
       "      <td>120</td>\n",
       "      <td>16</td>\n",
       "      <td>32</td>\n",
       "      <td>28</td>\n",
       "      <td></td>\n",
       "      <td></td>\n",
       "    </tr>\n",
       "    <tr>\n",
       "      <th>26</th>\n",
       "      <td>0.752768</td>\n",
       "      <td>0.642001</td>\n",
       "      <td>0.683673</td>\n",
       "      <td>117</td>\n",
       "      <td>17</td>\n",
       "      <td>31</td>\n",
       "      <td>31</td>\n",
       "      <td></td>\n",
       "      <td></td>\n",
       "    </tr>\n",
       "    <tr>\n",
       "      <th>27</th>\n",
       "      <td>0.756510</td>\n",
       "      <td>0.633323</td>\n",
       "      <td>0.673469</td>\n",
       "      <td>115</td>\n",
       "      <td>17</td>\n",
       "      <td>31</td>\n",
       "      <td>33</td>\n",
       "      <td></td>\n",
       "      <td></td>\n",
       "    </tr>\n",
       "    <tr>\n",
       "      <th>28</th>\n",
       "      <td>0.762067</td>\n",
       "      <td>0.624966</td>\n",
       "      <td>0.668367</td>\n",
       "      <td>112</td>\n",
       "      <td>19</td>\n",
       "      <td>31</td>\n",
       "      <td>34</td>\n",
       "      <td></td>\n",
       "      <td></td>\n",
       "    </tr>\n",
       "    <tr>\n",
       "      <th>29</th>\n",
       "      <td>0.761078</td>\n",
       "      <td>0.616044</td>\n",
       "      <td>0.658163</td>\n",
       "      <td>109</td>\n",
       "      <td>20</td>\n",
       "      <td>31</td>\n",
       "      <td>36</td>\n",
       "      <td></td>\n",
       "      <td></td>\n",
       "    </tr>\n",
       "    <tr>\n",
       "      <th>30</th>\n",
       "      <td>0.765720</td>\n",
       "      <td>0.606844</td>\n",
       "      <td>0.647959</td>\n",
       "      <td>108</td>\n",
       "      <td>19</td>\n",
       "      <td>32</td>\n",
       "      <td>37</td>\n",
       "      <td></td>\n",
       "      <td></td>\n",
       "    </tr>\n",
       "    <tr>\n",
       "      <th>31</th>\n",
       "      <td>0.762000</td>\n",
       "      <td>0.594220</td>\n",
       "      <td>0.627551</td>\n",
       "      <td>102</td>\n",
       "      <td>21</td>\n",
       "      <td>33</td>\n",
       "      <td>40</td>\n",
       "      <td></td>\n",
       "      <td></td>\n",
       "    </tr>\n",
       "    <tr>\n",
       "      <th>32</th>\n",
       "      <td>0.759969</td>\n",
       "      <td>0.585621</td>\n",
       "      <td>0.622449</td>\n",
       "      <td>102</td>\n",
       "      <td>20</td>\n",
       "      <td>32</td>\n",
       "      <td>42</td>\n",
       "      <td></td>\n",
       "      <td></td>\n",
       "    </tr>\n",
       "    <tr>\n",
       "      <th>33</th>\n",
       "      <td>0.763747</td>\n",
       "      <td>0.575702</td>\n",
       "      <td>0.617347</td>\n",
       "      <td>102</td>\n",
       "      <td>19</td>\n",
       "      <td>32</td>\n",
       "      <td>43</td>\n",
       "      <td></td>\n",
       "      <td></td>\n",
       "    </tr>\n",
       "    <tr>\n",
       "      <th>34</th>\n",
       "      <td>0.767434</td>\n",
       "      <td>0.566931</td>\n",
       "      <td>0.612245</td>\n",
       "      <td>101</td>\n",
       "      <td>19</td>\n",
       "      <td>31</td>\n",
       "      <td>45</td>\n",
       "      <td></td>\n",
       "      <td></td>\n",
       "    </tr>\n",
       "    <tr>\n",
       "      <th>35</th>\n",
       "      <td>0.767107</td>\n",
       "      <td>0.557543</td>\n",
       "      <td>0.607143</td>\n",
       "      <td>98</td>\n",
       "      <td>21</td>\n",
       "      <td>30</td>\n",
       "      <td>47</td>\n",
       "      <td></td>\n",
       "      <td></td>\n",
       "    </tr>\n",
       "    <tr>\n",
       "      <th>36</th>\n",
       "      <td>0.762608</td>\n",
       "      <td>0.547239</td>\n",
       "      <td>0.591837</td>\n",
       "      <td>93</td>\n",
       "      <td>23</td>\n",
       "      <td>30</td>\n",
       "      <td>50</td>\n",
       "      <td></td>\n",
       "      <td></td>\n",
       "    </tr>\n",
       "  </tbody>\n",
       "</table>\n",
       "</div>"
      ],
      "text/plain": [
       "                AUROC  Predicted Share  Actual Share  True Positives  \\\n",
       "Lead Length                                                            \n",
       "1            0.913644         0.985811      0.984694             193   \n",
       "2            0.892919         0.976030      0.984694             192   \n",
       "3            0.805236         0.965558      0.974490             191   \n",
       "4            0.857143         0.945799      0.964286             189   \n",
       "5            0.776268         0.923812      0.938776             183   \n",
       "6            0.821821         0.903341      0.928571             181   \n",
       "7            0.843831         0.885503      0.923469             179   \n",
       "8            0.831745         0.872482      0.913265             176   \n",
       "9            0.844354         0.857054      0.892857             170   \n",
       "10           0.788304         0.846568      0.872449             165   \n",
       "11           0.786139         0.826749      0.857143             162   \n",
       "12           0.782129         0.811692      0.846939             160   \n",
       "13           0.771888         0.796733      0.846939             159   \n",
       "14           0.790850         0.781655      0.826531             155   \n",
       "15           0.785417         0.768068      0.816327             153   \n",
       "16           0.794663         0.753704      0.811224             150   \n",
       "17           0.784419         0.742249      0.801020             144   \n",
       "18           0.789904         0.726466      0.795918             141   \n",
       "19           0.786594         0.712457      0.780612             135   \n",
       "20           0.779605         0.703027      0.775510             134   \n",
       "21           0.762178         0.693466      0.770408             133   \n",
       "22           0.750250         0.684225      0.760204             131   \n",
       "23           0.744828         0.672628      0.739796             127   \n",
       "24           0.756931         0.661415      0.719388             123   \n",
       "25           0.757721         0.651825      0.693878             120   \n",
       "26           0.752768         0.642001      0.683673             117   \n",
       "27           0.756510         0.633323      0.673469             115   \n",
       "28           0.762067         0.624966      0.668367             112   \n",
       "29           0.761078         0.616044      0.658163             109   \n",
       "30           0.765720         0.606844      0.647959             108   \n",
       "31           0.762000         0.594220      0.627551             102   \n",
       "32           0.759969         0.585621      0.622449             102   \n",
       "33           0.763747         0.575702      0.617347             102   \n",
       "34           0.767434         0.566931      0.612245             101   \n",
       "35           0.767107         0.557543      0.607143              98   \n",
       "36           0.762608         0.547239      0.591837              93   \n",
       "\n",
       "             False Negatives  False Positives  True Negatives Other Metrics:  \\\n",
       "Lead Length                                                                    \n",
       "1                          0                3               0                  \n",
       "2                          1                3               0                  \n",
       "3                          0                4               1                  \n",
       "4                          0                5               2                  \n",
       "5                          1                8               4                  \n",
       "6                          1                9               5                  \n",
       "7                          2                7               8                  \n",
       "8                          3                9               8                  \n",
       "9                          5               11              10                  \n",
       "10                         6               14              11                  \n",
       "11                         6               16              12                  \n",
       "12                         6               17              13                  \n",
       "13                         7               16              14                  \n",
       "14                         7               18              16                  \n",
       "15                         7               19              17                  \n",
       "16                         9               19              18                  \n",
       "17                        13               21              18                  \n",
       "18                        15               21              19                  \n",
       "19                        18               22              21                  \n",
       "20                        18               23              21                  \n",
       "21                        18               24              21                  \n",
       "22                        18               26              21                  \n",
       "23                        18               30              21                  \n",
       "24                        18               31              24                  \n",
       "25                        16               32              28                  \n",
       "26                        17               31              31                  \n",
       "27                        17               31              33                  \n",
       "28                        19               31              34                  \n",
       "29                        20               31              36                  \n",
       "30                        19               32              37                  \n",
       "31                        21               33              40                  \n",
       "32                        20               32              42                  \n",
       "33                        19               32              43                  \n",
       "34                        19               31              45                  \n",
       "35                        21               30              47                  \n",
       "36                        23               30              50                  \n",
       "\n",
       "                        C-Index  \n",
       "Lead Length                      \n",
       "1            0.7276699029126213  \n",
       "2                                \n",
       "3                                \n",
       "4                                \n",
       "5                                \n",
       "6                                \n",
       "7                                \n",
       "8                                \n",
       "9                                \n",
       "10                               \n",
       "11                               \n",
       "12                               \n",
       "13                               \n",
       "14                               \n",
       "15                               \n",
       "16                               \n",
       "17                               \n",
       "18                               \n",
       "19                               \n",
       "20                               \n",
       "21                               \n",
       "22                               \n",
       "23                               \n",
       "24                               \n",
       "25                               \n",
       "26                               \n",
       "27                               \n",
       "28                               \n",
       "29                               \n",
       "30                               \n",
       "31                               \n",
       "32                               \n",
       "33                               \n",
       "34                               \n",
       "35                               \n",
       "36                               "
      ]
     },
     "execution_count": 13,
     "metadata": {},
     "output_type": "execute_result"
    }
   ],
   "source": [
    "hyperoptimized_metrics = modeler.evaluate()\n",
    "hyperoptimized_metrics"
   ]
  },
  {
   "cell_type": "markdown",
   "metadata": {},
   "source": [
    "To use our new hyperparameters to get forecasts, we re-train our model with the most recent 36 months included. However, because we only obtained hyperparameters for time horizons up through 36 months, we can only forecast that far ahead."
   ]
  },
  {
   "cell_type": "code",
   "execution_count": 14,
   "metadata": {
    "scrolled": true
   },
   "outputs": [
    {
     "name": "stderr",
     "output_type": "stream",
     "text": [
      "Found `num_iterations` in params. Will use it instead of argument\n",
      "categorical_feature in Dataset is overridden.\n",
      "New categorical_feature is ['age', 'anticipation', 'change_recent', 'country', 'defeat_recent', 'delayed', 'direct_recent', 'elected', 'election_now', 'election_recent', 'exec_ant', 'exec_recent', 'government', 'indirect_recent', 'irreg_lead_ant', 'lead_recent', 'leg_ant', 'leg_recent', 'male', 'militarycareer', 'month', 'nochange_recent', 'prev_conflict', 'pt_attempt', 'pt_suc', 'ref_ant', 'ref_recent', 'tenure_months', 'victory_recent', 'year']\n",
      "Found `num_iterations` in params. Will use it instead of argument\n",
      "categorical_feature in Dataset is overridden.\n",
      "New categorical_feature is ['age', 'anticipation', 'change_recent', 'country', 'defeat_recent', 'delayed', 'direct_recent', 'elected', 'election_now', 'election_recent', 'exec_ant', 'exec_recent', 'government', 'indirect_recent', 'irreg_lead_ant', 'lead_recent', 'leg_ant', 'leg_recent', 'male', 'militarycareer', 'month', 'nochange_recent', 'prev_conflict', 'pt_attempt', 'pt_suc', 'ref_ant', 'ref_recent', 'tenure_months', 'victory_recent', 'year']\n",
      "Found `num_iterations` in params. Will use it instead of argument\n",
      "categorical_feature in Dataset is overridden.\n",
      "New categorical_feature is ['age', 'anticipation', 'change_recent', 'country', 'defeat_recent', 'delayed', 'direct_recent', 'elected', 'election_now', 'election_recent', 'exec_ant', 'exec_recent', 'government', 'indirect_recent', 'irreg_lead_ant', 'lead_recent', 'leg_ant', 'leg_recent', 'male', 'militarycareer', 'month', 'nochange_recent', 'prev_conflict', 'pt_attempt', 'pt_suc', 'ref_ant', 'ref_recent', 'tenure_months', 'victory_recent', 'year']\n",
      "Found `num_iterations` in params. Will use it instead of argument\n",
      "categorical_feature in Dataset is overridden.\n",
      "New categorical_feature is ['age', 'anticipation', 'change_recent', 'country', 'defeat_recent', 'delayed', 'direct_recent', 'elected', 'election_now', 'election_recent', 'exec_ant', 'exec_recent', 'government', 'indirect_recent', 'irreg_lead_ant', 'lead_recent', 'leg_ant', 'leg_recent', 'male', 'militarycareer', 'month', 'nochange_recent', 'prev_conflict', 'pt_attempt', 'pt_suc', 'ref_ant', 'ref_recent', 'tenure_months', 'victory_recent', 'year']\n",
      "Found `num_iterations` in params. Will use it instead of argument\n",
      "categorical_feature in Dataset is overridden.\n",
      "New categorical_feature is ['age', 'anticipation', 'change_recent', 'country', 'defeat_recent', 'delayed', 'direct_recent', 'elected', 'election_now', 'election_recent', 'exec_ant', 'exec_recent', 'government', 'indirect_recent', 'irreg_lead_ant', 'lead_recent', 'leg_ant', 'leg_recent', 'male', 'militarycareer', 'month', 'nochange_recent', 'prev_conflict', 'pt_attempt', 'pt_suc', 'ref_ant', 'ref_recent', 'tenure_months', 'victory_recent', 'year']\n",
      "Found `num_iterations` in params. Will use it instead of argument\n",
      "categorical_feature in Dataset is overridden.\n",
      "New categorical_feature is ['age', 'anticipation', 'change_recent', 'country', 'defeat_recent', 'delayed', 'direct_recent', 'elected', 'election_now', 'election_recent', 'exec_ant', 'exec_recent', 'government', 'indirect_recent', 'irreg_lead_ant', 'lead_recent', 'leg_ant', 'leg_recent', 'male', 'militarycareer', 'month', 'nochange_recent', 'prev_conflict', 'pt_attempt', 'pt_suc', 'ref_ant', 'ref_recent', 'tenure_months', 'victory_recent', 'year']\n",
      "Found `num_iterations` in params. Will use it instead of argument\n",
      "categorical_feature in Dataset is overridden.\n",
      "New categorical_feature is ['age', 'anticipation', 'change_recent', 'country', 'defeat_recent', 'delayed', 'direct_recent', 'elected', 'election_now', 'election_recent', 'exec_ant', 'exec_recent', 'government', 'indirect_recent', 'irreg_lead_ant', 'lead_recent', 'leg_ant', 'leg_recent', 'male', 'militarycareer', 'month', 'nochange_recent', 'prev_conflict', 'pt_attempt', 'pt_suc', 'ref_ant', 'ref_recent', 'tenure_months', 'victory_recent', 'year']\n",
      "Found `num_iterations` in params. Will use it instead of argument\n",
      "categorical_feature in Dataset is overridden.\n",
      "New categorical_feature is ['age', 'anticipation', 'change_recent', 'country', 'defeat_recent', 'delayed', 'direct_recent', 'elected', 'election_now', 'election_recent', 'exec_ant', 'exec_recent', 'government', 'indirect_recent', 'irreg_lead_ant', 'lead_recent', 'leg_ant', 'leg_recent', 'male', 'militarycareer', 'month', 'nochange_recent', 'prev_conflict', 'pt_attempt', 'pt_suc', 'ref_ant', 'ref_recent', 'tenure_months', 'victory_recent', 'year']\n",
      "Found `num_iterations` in params. Will use it instead of argument\n",
      "categorical_feature in Dataset is overridden.\n",
      "New categorical_feature is ['age', 'anticipation', 'change_recent', 'country', 'defeat_recent', 'delayed', 'direct_recent', 'elected', 'election_now', 'election_recent', 'exec_ant', 'exec_recent', 'government', 'indirect_recent', 'irreg_lead_ant', 'lead_recent', 'leg_ant', 'leg_recent', 'male', 'militarycareer', 'month', 'nochange_recent', 'prev_conflict', 'pt_attempt', 'pt_suc', 'ref_ant', 'ref_recent', 'tenure_months', 'victory_recent', 'year']\n",
      "Found `num_iterations` in params. Will use it instead of argument\n",
      "categorical_feature in Dataset is overridden.\n",
      "New categorical_feature is ['age', 'anticipation', 'change_recent', 'country', 'defeat_recent', 'delayed', 'direct_recent', 'elected', 'election_now', 'election_recent', 'exec_ant', 'exec_recent', 'government', 'indirect_recent', 'irreg_lead_ant', 'lead_recent', 'leg_ant', 'leg_recent', 'male', 'militarycareer', 'month', 'nochange_recent', 'prev_conflict', 'pt_attempt', 'pt_suc', 'ref_ant', 'ref_recent', 'tenure_months', 'victory_recent', 'year']\n",
      "Found `num_iterations` in params. Will use it instead of argument\n",
      "categorical_feature in Dataset is overridden.\n",
      "New categorical_feature is ['age', 'anticipation', 'change_recent', 'country', 'defeat_recent', 'delayed', 'direct_recent', 'elected', 'election_now', 'election_recent', 'exec_ant', 'exec_recent', 'government', 'indirect_recent', 'irreg_lead_ant', 'lead_recent', 'leg_ant', 'leg_recent', 'male', 'militarycareer', 'month', 'nochange_recent', 'prev_conflict', 'pt_attempt', 'pt_suc', 'ref_ant', 'ref_recent', 'tenure_months', 'victory_recent', 'year']\n",
      "Found `num_iterations` in params. Will use it instead of argument\n",
      "categorical_feature in Dataset is overridden.\n",
      "New categorical_feature is ['age', 'anticipation', 'change_recent', 'country', 'defeat_recent', 'delayed', 'direct_recent', 'elected', 'election_now', 'election_recent', 'exec_ant', 'exec_recent', 'government', 'indirect_recent', 'irreg_lead_ant', 'lead_recent', 'leg_ant', 'leg_recent', 'male', 'militarycareer', 'month', 'nochange_recent', 'prev_conflict', 'pt_attempt', 'pt_suc', 'ref_ant', 'ref_recent', 'tenure_months', 'victory_recent', 'year']\n",
      "Found `num_iterations` in params. Will use it instead of argument\n",
      "categorical_feature in Dataset is overridden.\n",
      "New categorical_feature is ['age', 'anticipation', 'change_recent', 'country', 'defeat_recent', 'delayed', 'direct_recent', 'elected', 'election_now', 'election_recent', 'exec_ant', 'exec_recent', 'government', 'indirect_recent', 'irreg_lead_ant', 'lead_recent', 'leg_ant', 'leg_recent', 'male', 'militarycareer', 'month', 'nochange_recent', 'prev_conflict', 'pt_attempt', 'pt_suc', 'ref_ant', 'ref_recent', 'tenure_months', 'victory_recent', 'year']\n",
      "Found `num_iterations` in params. Will use it instead of argument\n",
      "categorical_feature in Dataset is overridden.\n",
      "New categorical_feature is ['age', 'anticipation', 'change_recent', 'country', 'defeat_recent', 'delayed', 'direct_recent', 'elected', 'election_now', 'election_recent', 'exec_ant', 'exec_recent', 'government', 'indirect_recent', 'irreg_lead_ant', 'lead_recent', 'leg_ant', 'leg_recent', 'male', 'militarycareer', 'month', 'nochange_recent', 'prev_conflict', 'pt_attempt', 'pt_suc', 'ref_ant', 'ref_recent', 'tenure_months', 'victory_recent', 'year']\n",
      "Found `num_iterations` in params. Will use it instead of argument\n",
      "categorical_feature in Dataset is overridden.\n",
      "New categorical_feature is ['age', 'anticipation', 'change_recent', 'country', 'defeat_recent', 'delayed', 'direct_recent', 'elected', 'election_now', 'election_recent', 'exec_ant', 'exec_recent', 'government', 'indirect_recent', 'irreg_lead_ant', 'lead_recent', 'leg_ant', 'leg_recent', 'male', 'militarycareer', 'month', 'nochange_recent', 'prev_conflict', 'pt_attempt', 'pt_suc', 'ref_ant', 'ref_recent', 'tenure_months', 'victory_recent', 'year']\n",
      "Found `num_iterations` in params. Will use it instead of argument\n",
      "categorical_feature in Dataset is overridden.\n",
      "New categorical_feature is ['age', 'anticipation', 'change_recent', 'country', 'defeat_recent', 'delayed', 'direct_recent', 'elected', 'election_now', 'election_recent', 'exec_ant', 'exec_recent', 'government', 'indirect_recent', 'irreg_lead_ant', 'lead_recent', 'leg_ant', 'leg_recent', 'male', 'militarycareer', 'month', 'nochange_recent', 'prev_conflict', 'pt_attempt', 'pt_suc', 'ref_ant', 'ref_recent', 'tenure_months', 'victory_recent', 'year']\n",
      "Found `num_iterations` in params. Will use it instead of argument\n",
      "categorical_feature in Dataset is overridden.\n",
      "New categorical_feature is ['age', 'anticipation', 'change_recent', 'country', 'defeat_recent', 'delayed', 'direct_recent', 'elected', 'election_now', 'election_recent', 'exec_ant', 'exec_recent', 'government', 'indirect_recent', 'irreg_lead_ant', 'lead_recent', 'leg_ant', 'leg_recent', 'male', 'militarycareer', 'month', 'nochange_recent', 'prev_conflict', 'pt_attempt', 'pt_suc', 'ref_ant', 'ref_recent', 'tenure_months', 'victory_recent', 'year']\n",
      "Found `num_iterations` in params. Will use it instead of argument\n",
      "categorical_feature in Dataset is overridden.\n",
      "New categorical_feature is ['age', 'anticipation', 'change_recent', 'country', 'defeat_recent', 'delayed', 'direct_recent', 'elected', 'election_now', 'election_recent', 'exec_ant', 'exec_recent', 'government', 'indirect_recent', 'irreg_lead_ant', 'lead_recent', 'leg_ant', 'leg_recent', 'male', 'militarycareer', 'month', 'nochange_recent', 'prev_conflict', 'pt_attempt', 'pt_suc', 'ref_ant', 'ref_recent', 'tenure_months', 'victory_recent', 'year']\n",
      "Found `num_iterations` in params. Will use it instead of argument\n",
      "categorical_feature in Dataset is overridden.\n",
      "New categorical_feature is ['age', 'anticipation', 'change_recent', 'country', 'defeat_recent', 'delayed', 'direct_recent', 'elected', 'election_now', 'election_recent', 'exec_ant', 'exec_recent', 'government', 'indirect_recent', 'irreg_lead_ant', 'lead_recent', 'leg_ant', 'leg_recent', 'male', 'militarycareer', 'month', 'nochange_recent', 'prev_conflict', 'pt_attempt', 'pt_suc', 'ref_ant', 'ref_recent', 'tenure_months', 'victory_recent', 'year']\n",
      "Found `num_iterations` in params. Will use it instead of argument\n",
      "categorical_feature in Dataset is overridden.\n",
      "New categorical_feature is ['age', 'anticipation', 'change_recent', 'country', 'defeat_recent', 'delayed', 'direct_recent', 'elected', 'election_now', 'election_recent', 'exec_ant', 'exec_recent', 'government', 'indirect_recent', 'irreg_lead_ant', 'lead_recent', 'leg_ant', 'leg_recent', 'male', 'militarycareer', 'month', 'nochange_recent', 'prev_conflict', 'pt_attempt', 'pt_suc', 'ref_ant', 'ref_recent', 'tenure_months', 'victory_recent', 'year']\n"
     ]
    }
   ],
   "source": [
    "data_processor.config[\"TEST_INTERVALS\"] = 0\n",
    "data_processor.build_reserved_cols()\n",
    "modeler = LGBSurvivalModeler(data=data_processor.data)\n",
    "modeler.build_model(n_intervals=TEST_INTERVALS, params=params)"
   ]
  },
  {
   "cell_type": "markdown",
   "metadata": {},
   "source": [
    "Obtaining forecasts is as easy as before."
   ]
  },
  {
   "cell_type": "code",
   "execution_count": null,
   "metadata": {},
   "outputs": [],
   "source": []
  },
  {
   "cell_type": "code",
   "execution_count": 15,
   "metadata": {},
   "outputs": [
    {
     "data": {
      "text/html": [
       "<div>\n",
       "<style scoped>\n",
       "    .dataframe tbody tr th:only-of-type {\n",
       "        vertical-align: middle;\n",
       "    }\n",
       "\n",
       "    .dataframe tbody tr th {\n",
       "        vertical-align: top;\n",
       "    }\n",
       "\n",
       "    .dataframe thead th {\n",
       "        text-align: right;\n",
       "    }\n",
       "</style>\n",
       "<table border=\"1\" class=\"dataframe\">\n",
       "  <thead>\n",
       "    <tr style=\"text-align: right;\">\n",
       "      <th></th>\n",
       "      <th>Aug 2020</th>\n",
       "      <th>Sep 2020</th>\n",
       "      <th>Oct 2020</th>\n",
       "      <th>Nov 2020</th>\n",
       "      <th>Dec 2020</th>\n",
       "      <th>Jan 2021</th>\n",
       "      <th>Feb 2021</th>\n",
       "      <th>Mar 2021</th>\n",
       "      <th>Apr 2021</th>\n",
       "      <th>May 2021</th>\n",
       "      <th>...</th>\n",
       "      <th>Oct 2022</th>\n",
       "      <th>Nov 2022</th>\n",
       "      <th>Dec 2022</th>\n",
       "      <th>Jan 2023</th>\n",
       "      <th>Feb 2023</th>\n",
       "      <th>Mar 2023</th>\n",
       "      <th>Apr 2023</th>\n",
       "      <th>May 2023</th>\n",
       "      <th>Jun 2023</th>\n",
       "      <th>Jul 2023</th>\n",
       "    </tr>\n",
       "    <tr>\n",
       "      <th>country-leader</th>\n",
       "      <th></th>\n",
       "      <th></th>\n",
       "      <th></th>\n",
       "      <th></th>\n",
       "      <th></th>\n",
       "      <th></th>\n",
       "      <th></th>\n",
       "      <th></th>\n",
       "      <th></th>\n",
       "      <th></th>\n",
       "      <th></th>\n",
       "      <th></th>\n",
       "      <th></th>\n",
       "      <th></th>\n",
       "      <th></th>\n",
       "      <th></th>\n",
       "      <th></th>\n",
       "      <th></th>\n",
       "      <th></th>\n",
       "      <th></th>\n",
       "      <th></th>\n",
       "    </tr>\n",
       "  </thead>\n",
       "  <tbody>\n",
       "    <tr>\n",
       "      <th>Afghanistan: Ashraf Ghani</th>\n",
       "      <td>0.992963</td>\n",
       "      <td>0.981697</td>\n",
       "      <td>0.961879</td>\n",
       "      <td>0.953849</td>\n",
       "      <td>0.946131</td>\n",
       "      <td>0.935087</td>\n",
       "      <td>0.925610</td>\n",
       "      <td>0.905549</td>\n",
       "      <td>0.899499</td>\n",
       "      <td>0.893231</td>\n",
       "      <td>...</td>\n",
       "      <td>0.743198</td>\n",
       "      <td>0.733864</td>\n",
       "      <td>0.724791</td>\n",
       "      <td>0.715469</td>\n",
       "      <td>0.713219</td>\n",
       "      <td>0.704937</td>\n",
       "      <td>0.697270</td>\n",
       "      <td>0.688140</td>\n",
       "      <td>0.678353</td>\n",
       "      <td>0.668372</td>\n",
       "    </tr>\n",
       "    <tr>\n",
       "      <th>Albania: Rama</th>\n",
       "      <td>0.994842</td>\n",
       "      <td>0.988446</td>\n",
       "      <td>0.979828</td>\n",
       "      <td>0.977302</td>\n",
       "      <td>0.963571</td>\n",
       "      <td>0.935421</td>\n",
       "      <td>0.931109</td>\n",
       "      <td>0.926147</td>\n",
       "      <td>0.922034</td>\n",
       "      <td>0.900521</td>\n",
       "      <td>...</td>\n",
       "      <td>0.564641</td>\n",
       "      <td>0.553395</td>\n",
       "      <td>0.544010</td>\n",
       "      <td>0.537616</td>\n",
       "      <td>0.532650</td>\n",
       "      <td>0.520952</td>\n",
       "      <td>0.517667</td>\n",
       "      <td>0.512088</td>\n",
       "      <td>0.506248</td>\n",
       "      <td>0.501393</td>\n",
       "    </tr>\n",
       "    <tr>\n",
       "      <th>Algeria: Tebboune</th>\n",
       "      <td>0.987983</td>\n",
       "      <td>0.982174</td>\n",
       "      <td>0.972357</td>\n",
       "      <td>0.956653</td>\n",
       "      <td>0.951243</td>\n",
       "      <td>0.943842</td>\n",
       "      <td>0.936244</td>\n",
       "      <td>0.932785</td>\n",
       "      <td>0.928903</td>\n",
       "      <td>0.925106</td>\n",
       "      <td>...</td>\n",
       "      <td>0.768865</td>\n",
       "      <td>0.759895</td>\n",
       "      <td>0.750201</td>\n",
       "      <td>0.741392</td>\n",
       "      <td>0.735561</td>\n",
       "      <td>0.729317</td>\n",
       "      <td>0.726451</td>\n",
       "      <td>0.718173</td>\n",
       "      <td>0.711028</td>\n",
       "      <td>0.706557</td>\n",
       "    </tr>\n",
       "    <tr>\n",
       "      <th>Andorra: Espot Zamora</th>\n",
       "      <td>0.991076</td>\n",
       "      <td>0.984545</td>\n",
       "      <td>0.976307</td>\n",
       "      <td>0.973311</td>\n",
       "      <td>0.967607</td>\n",
       "      <td>0.957102</td>\n",
       "      <td>0.952409</td>\n",
       "      <td>0.948324</td>\n",
       "      <td>0.934205</td>\n",
       "      <td>0.926678</td>\n",
       "      <td>...</td>\n",
       "      <td>0.691257</td>\n",
       "      <td>0.680294</td>\n",
       "      <td>0.669543</td>\n",
       "      <td>0.659521</td>\n",
       "      <td>0.652747</td>\n",
       "      <td>0.647812</td>\n",
       "      <td>0.644114</td>\n",
       "      <td>0.631460</td>\n",
       "      <td>0.530091</td>\n",
       "      <td>0.519022</td>\n",
       "    </tr>\n",
       "    <tr>\n",
       "      <th>Angola: Lourenco</th>\n",
       "      <td>0.996215</td>\n",
       "      <td>0.995258</td>\n",
       "      <td>0.989787</td>\n",
       "      <td>0.987044</td>\n",
       "      <td>0.984465</td>\n",
       "      <td>0.981338</td>\n",
       "      <td>0.979790</td>\n",
       "      <td>0.977643</td>\n",
       "      <td>0.976260</td>\n",
       "      <td>0.974738</td>\n",
       "      <td>...</td>\n",
       "      <td>0.858105</td>\n",
       "      <td>0.848666</td>\n",
       "      <td>0.841719</td>\n",
       "      <td>0.834672</td>\n",
       "      <td>0.830514</td>\n",
       "      <td>0.825537</td>\n",
       "      <td>0.821610</td>\n",
       "      <td>0.813451</td>\n",
       "      <td>0.806598</td>\n",
       "      <td>0.802034</td>\n",
       "    </tr>\n",
       "    <tr>\n",
       "      <th>...</th>\n",
       "      <td>...</td>\n",
       "      <td>...</td>\n",
       "      <td>...</td>\n",
       "      <td>...</td>\n",
       "      <td>...</td>\n",
       "      <td>...</td>\n",
       "      <td>...</td>\n",
       "      <td>...</td>\n",
       "      <td>...</td>\n",
       "      <td>...</td>\n",
       "      <td>...</td>\n",
       "      <td>...</td>\n",
       "      <td>...</td>\n",
       "      <td>...</td>\n",
       "      <td>...</td>\n",
       "      <td>...</td>\n",
       "      <td>...</td>\n",
       "      <td>...</td>\n",
       "      <td>...</td>\n",
       "      <td>...</td>\n",
       "      <td>...</td>\n",
       "    </tr>\n",
       "    <tr>\n",
       "      <th>Venezuela: Nicolas Maduro</th>\n",
       "      <td>0.995536</td>\n",
       "      <td>0.993568</td>\n",
       "      <td>0.991869</td>\n",
       "      <td>0.990174</td>\n",
       "      <td>0.986145</td>\n",
       "      <td>0.984045</td>\n",
       "      <td>0.983489</td>\n",
       "      <td>0.980619</td>\n",
       "      <td>0.970149</td>\n",
       "      <td>0.968902</td>\n",
       "      <td>...</td>\n",
       "      <td>0.825330</td>\n",
       "      <td>0.814304</td>\n",
       "      <td>0.801257</td>\n",
       "      <td>0.788188</td>\n",
       "      <td>0.771623</td>\n",
       "      <td>0.749391</td>\n",
       "      <td>0.479278</td>\n",
       "      <td>0.472753</td>\n",
       "      <td>0.466025</td>\n",
       "      <td>0.452853</td>\n",
       "    </tr>\n",
       "    <tr>\n",
       "      <th>Vietnam: Phu Trong</th>\n",
       "      <td>0.989908</td>\n",
       "      <td>0.984599</td>\n",
       "      <td>0.974808</td>\n",
       "      <td>0.967434</td>\n",
       "      <td>0.964458</td>\n",
       "      <td>0.950400</td>\n",
       "      <td>0.870821</td>\n",
       "      <td>0.854662</td>\n",
       "      <td>0.840046</td>\n",
       "      <td>0.836471</td>\n",
       "      <td>...</td>\n",
       "      <td>0.600065</td>\n",
       "      <td>0.592665</td>\n",
       "      <td>0.584874</td>\n",
       "      <td>0.577657</td>\n",
       "      <td>0.557608</td>\n",
       "      <td>0.551623</td>\n",
       "      <td>0.548083</td>\n",
       "      <td>0.541254</td>\n",
       "      <td>0.534234</td>\n",
       "      <td>0.526488</td>\n",
       "    </tr>\n",
       "    <tr>\n",
       "      <th>Yemen: Houthi</th>\n",
       "      <td>0.992958</td>\n",
       "      <td>0.990865</td>\n",
       "      <td>0.982822</td>\n",
       "      <td>0.970978</td>\n",
       "      <td>0.967616</td>\n",
       "      <td>0.956121</td>\n",
       "      <td>0.946688</td>\n",
       "      <td>0.894732</td>\n",
       "      <td>0.891542</td>\n",
       "      <td>0.888650</td>\n",
       "      <td>...</td>\n",
       "      <td>0.744439</td>\n",
       "      <td>0.734522</td>\n",
       "      <td>0.723578</td>\n",
       "      <td>0.712411</td>\n",
       "      <td>0.698817</td>\n",
       "      <td>0.686234</td>\n",
       "      <td>0.678565</td>\n",
       "      <td>0.670468</td>\n",
       "      <td>0.660760</td>\n",
       "      <td>0.656959</td>\n",
       "    </tr>\n",
       "    <tr>\n",
       "      <th>Zambia: Lungu</th>\n",
       "      <td>0.994011</td>\n",
       "      <td>0.985258</td>\n",
       "      <td>0.979747</td>\n",
       "      <td>0.978685</td>\n",
       "      <td>0.975204</td>\n",
       "      <td>0.970213</td>\n",
       "      <td>0.925075</td>\n",
       "      <td>0.919858</td>\n",
       "      <td>0.916426</td>\n",
       "      <td>0.912738</td>\n",
       "      <td>...</td>\n",
       "      <td>0.724818</td>\n",
       "      <td>0.715034</td>\n",
       "      <td>0.705350</td>\n",
       "      <td>0.694198</td>\n",
       "      <td>0.568668</td>\n",
       "      <td>0.566247</td>\n",
       "      <td>0.563021</td>\n",
       "      <td>0.556105</td>\n",
       "      <td>0.548764</td>\n",
       "      <td>0.534220</td>\n",
       "    </tr>\n",
       "    <tr>\n",
       "      <th>Zimbabwe: Mnangagwa</th>\n",
       "      <td>0.994920</td>\n",
       "      <td>0.992757</td>\n",
       "      <td>0.986969</td>\n",
       "      <td>0.981329</td>\n",
       "      <td>0.970487</td>\n",
       "      <td>0.968713</td>\n",
       "      <td>0.964583</td>\n",
       "      <td>0.962933</td>\n",
       "      <td>0.959632</td>\n",
       "      <td>0.956389</td>\n",
       "      <td>...</td>\n",
       "      <td>0.865349</td>\n",
       "      <td>0.857501</td>\n",
       "      <td>0.828798</td>\n",
       "      <td>0.820405</td>\n",
       "      <td>0.816469</td>\n",
       "      <td>0.809617</td>\n",
       "      <td>0.806973</td>\n",
       "      <td>0.800717</td>\n",
       "      <td>0.794421</td>\n",
       "      <td>0.790056</td>\n",
       "    </tr>\n",
       "  </tbody>\n",
       "</table>\n",
       "<p>194 rows × 36 columns</p>\n",
       "</div>"
      ],
      "text/plain": [
       "                           Aug 2020  Sep 2020  Oct 2020  Nov 2020  Dec 2020  \\\n",
       "country-leader                                                                \n",
       "Afghanistan: Ashraf Ghani  0.992963  0.981697  0.961879  0.953849  0.946131   \n",
       "Albania: Rama              0.994842  0.988446  0.979828  0.977302  0.963571   \n",
       "Algeria: Tebboune          0.987983  0.982174  0.972357  0.956653  0.951243   \n",
       "Andorra: Espot Zamora      0.991076  0.984545  0.976307  0.973311  0.967607   \n",
       "Angola: Lourenco           0.996215  0.995258  0.989787  0.987044  0.984465   \n",
       "...                             ...       ...       ...       ...       ...   \n",
       "Venezuela: Nicolas Maduro  0.995536  0.993568  0.991869  0.990174  0.986145   \n",
       "Vietnam: Phu Trong         0.989908  0.984599  0.974808  0.967434  0.964458   \n",
       "Yemen: Houthi              0.992958  0.990865  0.982822  0.970978  0.967616   \n",
       "Zambia: Lungu              0.994011  0.985258  0.979747  0.978685  0.975204   \n",
       "Zimbabwe: Mnangagwa        0.994920  0.992757  0.986969  0.981329  0.970487   \n",
       "\n",
       "                           Jan 2021  Feb 2021  Mar 2021  Apr 2021  May 2021  \\\n",
       "country-leader                                                                \n",
       "Afghanistan: Ashraf Ghani  0.935087  0.925610  0.905549  0.899499  0.893231   \n",
       "Albania: Rama              0.935421  0.931109  0.926147  0.922034  0.900521   \n",
       "Algeria: Tebboune          0.943842  0.936244  0.932785  0.928903  0.925106   \n",
       "Andorra: Espot Zamora      0.957102  0.952409  0.948324  0.934205  0.926678   \n",
       "Angola: Lourenco           0.981338  0.979790  0.977643  0.976260  0.974738   \n",
       "...                             ...       ...       ...       ...       ...   \n",
       "Venezuela: Nicolas Maduro  0.984045  0.983489  0.980619  0.970149  0.968902   \n",
       "Vietnam: Phu Trong         0.950400  0.870821  0.854662  0.840046  0.836471   \n",
       "Yemen: Houthi              0.956121  0.946688  0.894732  0.891542  0.888650   \n",
       "Zambia: Lungu              0.970213  0.925075  0.919858  0.916426  0.912738   \n",
       "Zimbabwe: Mnangagwa        0.968713  0.964583  0.962933  0.959632  0.956389   \n",
       "\n",
       "                           ...  Oct 2022  Nov 2022  Dec 2022  Jan 2023  \\\n",
       "country-leader             ...                                           \n",
       "Afghanistan: Ashraf Ghani  ...  0.743198  0.733864  0.724791  0.715469   \n",
       "Albania: Rama              ...  0.564641  0.553395  0.544010  0.537616   \n",
       "Algeria: Tebboune          ...  0.768865  0.759895  0.750201  0.741392   \n",
       "Andorra: Espot Zamora      ...  0.691257  0.680294  0.669543  0.659521   \n",
       "Angola: Lourenco           ...  0.858105  0.848666  0.841719  0.834672   \n",
       "...                        ...       ...       ...       ...       ...   \n",
       "Venezuela: Nicolas Maduro  ...  0.825330  0.814304  0.801257  0.788188   \n",
       "Vietnam: Phu Trong         ...  0.600065  0.592665  0.584874  0.577657   \n",
       "Yemen: Houthi              ...  0.744439  0.734522  0.723578  0.712411   \n",
       "Zambia: Lungu              ...  0.724818  0.715034  0.705350  0.694198   \n",
       "Zimbabwe: Mnangagwa        ...  0.865349  0.857501  0.828798  0.820405   \n",
       "\n",
       "                           Feb 2023  Mar 2023  Apr 2023  May 2023  Jun 2023  \\\n",
       "country-leader                                                                \n",
       "Afghanistan: Ashraf Ghani  0.713219  0.704937  0.697270  0.688140  0.678353   \n",
       "Albania: Rama              0.532650  0.520952  0.517667  0.512088  0.506248   \n",
       "Algeria: Tebboune          0.735561  0.729317  0.726451  0.718173  0.711028   \n",
       "Andorra: Espot Zamora      0.652747  0.647812  0.644114  0.631460  0.530091   \n",
       "Angola: Lourenco           0.830514  0.825537  0.821610  0.813451  0.806598   \n",
       "...                             ...       ...       ...       ...       ...   \n",
       "Venezuela: Nicolas Maduro  0.771623  0.749391  0.479278  0.472753  0.466025   \n",
       "Vietnam: Phu Trong         0.557608  0.551623  0.548083  0.541254  0.534234   \n",
       "Yemen: Houthi              0.698817  0.686234  0.678565  0.670468  0.660760   \n",
       "Zambia: Lungu              0.568668  0.566247  0.563021  0.556105  0.548764   \n",
       "Zimbabwe: Mnangagwa        0.816469  0.809617  0.806973  0.800717  0.794421   \n",
       "\n",
       "                           Jul 2023  \n",
       "country-leader                       \n",
       "Afghanistan: Ashraf Ghani  0.668372  \n",
       "Albania: Rama              0.501393  \n",
       "Algeria: Tebboune          0.706557  \n",
       "Andorra: Espot Zamora      0.519022  \n",
       "Angola: Lourenco           0.802034  \n",
       "...                             ...  \n",
       "Venezuela: Nicolas Maduro  0.452853  \n",
       "Vietnam: Phu Trong         0.526488  \n",
       "Yemen: Houthi              0.656959  \n",
       "Zambia: Lungu              0.534220  \n",
       "Zimbabwe: Mnangagwa        0.790056  \n",
       "\n",
       "[194 rows x 36 columns]"
      ]
     },
     "execution_count": 15,
     "metadata": {},
     "output_type": "execute_result"
    }
   ],
   "source": [
    "forecasts = modeler.forecast()\n",
    "forecasts.columns = custom_forecast_headers[:len(forecasts.columns)]\n",
    "forecasts"
   ]
  }
 ],
 "metadata": {
  "kernelspec": {
   "display_name": "Python 3",
   "language": "python",
   "name": "python3"
  },
  "language_info": {
   "codemirror_mode": {
    "name": "ipython",
    "version": 3
   },
   "file_extension": ".py",
   "mimetype": "text/x-python",
   "name": "python",
   "nbconvert_exporter": "python",
   "pygments_lexer": "ipython3",
   "version": "3.7.7"
  }
 },
 "nbformat": 4,
 "nbformat_minor": 4
}
