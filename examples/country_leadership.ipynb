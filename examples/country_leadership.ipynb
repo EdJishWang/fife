{
 "cells": [
  {
   "cell_type": "markdown",
   "metadata": {},
   "source": [
    "This notebook demonstrates the Finite-Interval Forecasting Engine (FIFE).\n",
    "\n",
    "FIFE is a Python package developed by the Institute for Defense Analyses in a research partnership with the U.S. Office of the Undersecretary of Defense for Personnel and Readiness.\n",
    "\n",
    "FIFE applies state-of-the-art forecasting methods to [panel data](https://en.wikipedia.org/wiki/Panel_data). A panel dataset contains periodic observations of subjects. In a given period, subjects may enter or exit the panel; subjects that do not exit survive to be observed in later periods. FIFE can forecast subject-specific probabilities of survival, future states of survival, and circumstances of exit for each future period up to a given or inferred maximum time horizon.\n",
    "\n",
    "In this example we forecast when each leader of the world's countries will lose power. To skip past how FIFE works to what FIFE can produce, see the [Forecasts section](#Forecasts)."
   ]
  },
  {
   "cell_type": "code",
   "execution_count": 1,
   "metadata": {},
   "outputs": [],
   "source": [
    "from fife.utils import make_results_reproducible\n",
    "from fife.processors import PanelDataProcessor\n",
    "from fife.lgb_modelers import LGBSurvivalModeler\n",
    "import pandas as pd"
   ]
  },
  {
   "cell_type": "markdown",
   "metadata": {},
   "source": [
    "Let's make sure we get the same results each time we execute this code from top to bottom."
   ]
  },
  {
   "cell_type": "code",
   "execution_count": 2,
   "metadata": {},
   "outputs": [],
   "source": [
    "SEED = 9999\n",
    "make_results_reproducible(SEED)"
   ]
  },
  {
   "cell_type": "markdown",
   "metadata": {},
   "source": [
    "We use the July 2020 edition of the [Rulers, Elections, and Irregular Governance dataset (REIGN)](https://oefdatascience.github.io/REIGN.github.io/), a monthly panel of national leaders and political conditions since January 1950. We load the REIGN data directly from its online archive. If you plan to execute this notebook repeatedly, please avoid spamming the REIGN archive with requests by saving the data locally, then changing the file path in the cell below to your local path."
   ]
  },
  {
   "cell_type": "code",
   "execution_count": 3,
   "metadata": {},
   "outputs": [
    {
     "data": {
      "text/html": [
       "<div>\n",
       "<style scoped>\n",
       "    .dataframe tbody tr th:only-of-type {\n",
       "        vertical-align: middle;\n",
       "    }\n",
       "\n",
       "    .dataframe tbody tr th {\n",
       "        vertical-align: top;\n",
       "    }\n",
       "\n",
       "    .dataframe thead th {\n",
       "        text-align: right;\n",
       "    }\n",
       "</style>\n",
       "<table border=\"1\" class=\"dataframe\">\n",
       "  <thead>\n",
       "    <tr style=\"text-align: right;\">\n",
       "      <th></th>\n",
       "      <th>ccode</th>\n",
       "      <th>country</th>\n",
       "      <th>leader</th>\n",
       "      <th>year</th>\n",
       "      <th>month</th>\n",
       "      <th>elected</th>\n",
       "      <th>age</th>\n",
       "      <th>male</th>\n",
       "      <th>militarycareer</th>\n",
       "      <th>tenure_months</th>\n",
       "      <th>...</th>\n",
       "      <th>delayed</th>\n",
       "      <th>lastelection</th>\n",
       "      <th>loss</th>\n",
       "      <th>irregular</th>\n",
       "      <th>prev_conflict</th>\n",
       "      <th>pt_suc</th>\n",
       "      <th>pt_attempt</th>\n",
       "      <th>precip</th>\n",
       "      <th>couprisk</th>\n",
       "      <th>pctile_risk</th>\n",
       "    </tr>\n",
       "  </thead>\n",
       "  <tbody>\n",
       "    <tr>\n",
       "      <th>0</th>\n",
       "      <td>2.0</td>\n",
       "      <td>USA</td>\n",
       "      <td>Truman</td>\n",
       "      <td>1950.0</td>\n",
       "      <td>1.0</td>\n",
       "      <td>1.0</td>\n",
       "      <td>66.0</td>\n",
       "      <td>1</td>\n",
       "      <td>0.0</td>\n",
       "      <td>58.0</td>\n",
       "      <td>...</td>\n",
       "      <td>0.0</td>\n",
       "      <td>2.639057</td>\n",
       "      <td>5.327876</td>\n",
       "      <td>7.565793</td>\n",
       "      <td>0.0</td>\n",
       "      <td>0.0</td>\n",
       "      <td>0.0</td>\n",
       "      <td>-0.069058</td>\n",
       "      <td>NaN</td>\n",
       "      <td>NaN</td>\n",
       "    </tr>\n",
       "    <tr>\n",
       "      <th>1</th>\n",
       "      <td>2.0</td>\n",
       "      <td>USA</td>\n",
       "      <td>Truman</td>\n",
       "      <td>1950.0</td>\n",
       "      <td>2.0</td>\n",
       "      <td>1.0</td>\n",
       "      <td>66.0</td>\n",
       "      <td>1</td>\n",
       "      <td>0.0</td>\n",
       "      <td>59.0</td>\n",
       "      <td>...</td>\n",
       "      <td>0.0</td>\n",
       "      <td>2.708050</td>\n",
       "      <td>5.332719</td>\n",
       "      <td>7.566311</td>\n",
       "      <td>0.0</td>\n",
       "      <td>0.0</td>\n",
       "      <td>0.0</td>\n",
       "      <td>-0.113721</td>\n",
       "      <td>NaN</td>\n",
       "      <td>NaN</td>\n",
       "    </tr>\n",
       "    <tr>\n",
       "      <th>2</th>\n",
       "      <td>2.0</td>\n",
       "      <td>USA</td>\n",
       "      <td>Truman</td>\n",
       "      <td>1950.0</td>\n",
       "      <td>3.0</td>\n",
       "      <td>1.0</td>\n",
       "      <td>66.0</td>\n",
       "      <td>1</td>\n",
       "      <td>0.0</td>\n",
       "      <td>60.0</td>\n",
       "      <td>...</td>\n",
       "      <td>0.0</td>\n",
       "      <td>2.772589</td>\n",
       "      <td>5.337538</td>\n",
       "      <td>7.566829</td>\n",
       "      <td>0.0</td>\n",
       "      <td>0.0</td>\n",
       "      <td>0.0</td>\n",
       "      <td>-0.108042</td>\n",
       "      <td>NaN</td>\n",
       "      <td>NaN</td>\n",
       "    </tr>\n",
       "    <tr>\n",
       "      <th>3</th>\n",
       "      <td>2.0</td>\n",
       "      <td>USA</td>\n",
       "      <td>Truman</td>\n",
       "      <td>1950.0</td>\n",
       "      <td>4.0</td>\n",
       "      <td>1.0</td>\n",
       "      <td>66.0</td>\n",
       "      <td>1</td>\n",
       "      <td>0.0</td>\n",
       "      <td>61.0</td>\n",
       "      <td>...</td>\n",
       "      <td>0.0</td>\n",
       "      <td>2.833213</td>\n",
       "      <td>5.342334</td>\n",
       "      <td>7.567346</td>\n",
       "      <td>0.0</td>\n",
       "      <td>0.0</td>\n",
       "      <td>0.0</td>\n",
       "      <td>-0.041600</td>\n",
       "      <td>NaN</td>\n",
       "      <td>NaN</td>\n",
       "    </tr>\n",
       "    <tr>\n",
       "      <th>4</th>\n",
       "      <td>2.0</td>\n",
       "      <td>USA</td>\n",
       "      <td>Truman</td>\n",
       "      <td>1950.0</td>\n",
       "      <td>5.0</td>\n",
       "      <td>1.0</td>\n",
       "      <td>66.0</td>\n",
       "      <td>1</td>\n",
       "      <td>0.0</td>\n",
       "      <td>62.0</td>\n",
       "      <td>...</td>\n",
       "      <td>0.0</td>\n",
       "      <td>2.890372</td>\n",
       "      <td>5.347107</td>\n",
       "      <td>7.567863</td>\n",
       "      <td>0.0</td>\n",
       "      <td>0.0</td>\n",
       "      <td>0.0</td>\n",
       "      <td>-0.129703</td>\n",
       "      <td>NaN</td>\n",
       "      <td>NaN</td>\n",
       "    </tr>\n",
       "  </tbody>\n",
       "</table>\n",
       "<p>5 rows × 38 columns</p>\n",
       "</div>"
      ],
      "text/plain": [
       "   ccode country  leader    year  month  elected   age  male  militarycareer  \\\n",
       "0    2.0     USA  Truman  1950.0    1.0      1.0  66.0     1             0.0   \n",
       "1    2.0     USA  Truman  1950.0    2.0      1.0  66.0     1             0.0   \n",
       "2    2.0     USA  Truman  1950.0    3.0      1.0  66.0     1             0.0   \n",
       "3    2.0     USA  Truman  1950.0    4.0      1.0  66.0     1             0.0   \n",
       "4    2.0     USA  Truman  1950.0    5.0      1.0  66.0     1             0.0   \n",
       "\n",
       "   tenure_months  ... delayed  lastelection      loss  irregular  \\\n",
       "0           58.0  ...     0.0      2.639057  5.327876   7.565793   \n",
       "1           59.0  ...     0.0      2.708050  5.332719   7.566311   \n",
       "2           60.0  ...     0.0      2.772589  5.337538   7.566829   \n",
       "3           61.0  ...     0.0      2.833213  5.342334   7.567346   \n",
       "4           62.0  ...     0.0      2.890372  5.347107   7.567863   \n",
       "\n",
       "   prev_conflict  pt_suc  pt_attempt    precip  couprisk  pctile_risk  \n",
       "0            0.0     0.0         0.0 -0.069058       NaN          NaN  \n",
       "1            0.0     0.0         0.0 -0.113721       NaN          NaN  \n",
       "2            0.0     0.0         0.0 -0.108042       NaN          NaN  \n",
       "3            0.0     0.0         0.0 -0.041600       NaN          NaN  \n",
       "4            0.0     0.0         0.0 -0.129703       NaN          NaN  \n",
       "\n",
       "[5 rows x 38 columns]"
      ]
     },
     "execution_count": 3,
     "metadata": {},
     "output_type": "execute_result"
    }
   ],
   "source": [
    "data = pd.read_csv(\"https://www.dl.dropboxusercontent.com/s/3tdswu2jfgwp4xw/REIGN_2020_7.csv?dl=0\")\n",
    "data.head()"
   ]
  },
  {
   "cell_type": "markdown",
   "metadata": {},
   "source": [
    "The data need only minimal pre-processing to be ready for FIFE. Panel data are defined by two identifiers: individual and time. In the REIGN data, we can identify an individual by their name and the country they lead. We can identify time by year and month. FIFE will automatically infer the individual and time identifiers as the two left-most columns in the data, so we rearrange the columns accordingly. Along the way we drop the redundant columns `ccode` (a numeric code for country) and `leader`."
   ]
  },
  {
   "cell_type": "code",
   "execution_count": 4,
   "metadata": {},
   "outputs": [
    {
     "data": {
      "text/html": [
       "<div>\n",
       "<style scoped>\n",
       "    .dataframe tbody tr th:only-of-type {\n",
       "        vertical-align: middle;\n",
       "    }\n",
       "\n",
       "    .dataframe tbody tr th {\n",
       "        vertical-align: top;\n",
       "    }\n",
       "\n",
       "    .dataframe thead th {\n",
       "        text-align: right;\n",
       "    }\n",
       "</style>\n",
       "<table border=\"1\" class=\"dataframe\">\n",
       "  <thead>\n",
       "    <tr style=\"text-align: right;\">\n",
       "      <th></th>\n",
       "      <th>country-leader</th>\n",
       "      <th>year-month</th>\n",
       "      <th>country</th>\n",
       "      <th>year</th>\n",
       "      <th>month</th>\n",
       "      <th>elected</th>\n",
       "      <th>age</th>\n",
       "      <th>male</th>\n",
       "      <th>militarycareer</th>\n",
       "      <th>tenure_months</th>\n",
       "      <th>...</th>\n",
       "      <th>delayed</th>\n",
       "      <th>lastelection</th>\n",
       "      <th>loss</th>\n",
       "      <th>irregular</th>\n",
       "      <th>prev_conflict</th>\n",
       "      <th>pt_suc</th>\n",
       "      <th>pt_attempt</th>\n",
       "      <th>precip</th>\n",
       "      <th>couprisk</th>\n",
       "      <th>pctile_risk</th>\n",
       "    </tr>\n",
       "  </thead>\n",
       "  <tbody>\n",
       "    <tr>\n",
       "      <th>0</th>\n",
       "      <td>USA: Truman</td>\n",
       "      <td>1950-01-01</td>\n",
       "      <td>USA</td>\n",
       "      <td>1950.0</td>\n",
       "      <td>1.0</td>\n",
       "      <td>1.0</td>\n",
       "      <td>66.0</td>\n",
       "      <td>1</td>\n",
       "      <td>0.0</td>\n",
       "      <td>58.0</td>\n",
       "      <td>...</td>\n",
       "      <td>0.0</td>\n",
       "      <td>2.639057</td>\n",
       "      <td>5.327876</td>\n",
       "      <td>7.565793</td>\n",
       "      <td>0.0</td>\n",
       "      <td>0.0</td>\n",
       "      <td>0.0</td>\n",
       "      <td>-0.069058</td>\n",
       "      <td>NaN</td>\n",
       "      <td>NaN</td>\n",
       "    </tr>\n",
       "    <tr>\n",
       "      <th>1</th>\n",
       "      <td>USA: Truman</td>\n",
       "      <td>1950-02-01</td>\n",
       "      <td>USA</td>\n",
       "      <td>1950.0</td>\n",
       "      <td>2.0</td>\n",
       "      <td>1.0</td>\n",
       "      <td>66.0</td>\n",
       "      <td>1</td>\n",
       "      <td>0.0</td>\n",
       "      <td>59.0</td>\n",
       "      <td>...</td>\n",
       "      <td>0.0</td>\n",
       "      <td>2.708050</td>\n",
       "      <td>5.332719</td>\n",
       "      <td>7.566311</td>\n",
       "      <td>0.0</td>\n",
       "      <td>0.0</td>\n",
       "      <td>0.0</td>\n",
       "      <td>-0.113721</td>\n",
       "      <td>NaN</td>\n",
       "      <td>NaN</td>\n",
       "    </tr>\n",
       "    <tr>\n",
       "      <th>2</th>\n",
       "      <td>USA: Truman</td>\n",
       "      <td>1950-03-01</td>\n",
       "      <td>USA</td>\n",
       "      <td>1950.0</td>\n",
       "      <td>3.0</td>\n",
       "      <td>1.0</td>\n",
       "      <td>66.0</td>\n",
       "      <td>1</td>\n",
       "      <td>0.0</td>\n",
       "      <td>60.0</td>\n",
       "      <td>...</td>\n",
       "      <td>0.0</td>\n",
       "      <td>2.772589</td>\n",
       "      <td>5.337538</td>\n",
       "      <td>7.566829</td>\n",
       "      <td>0.0</td>\n",
       "      <td>0.0</td>\n",
       "      <td>0.0</td>\n",
       "      <td>-0.108042</td>\n",
       "      <td>NaN</td>\n",
       "      <td>NaN</td>\n",
       "    </tr>\n",
       "    <tr>\n",
       "      <th>3</th>\n",
       "      <td>USA: Truman</td>\n",
       "      <td>1950-04-01</td>\n",
       "      <td>USA</td>\n",
       "      <td>1950.0</td>\n",
       "      <td>4.0</td>\n",
       "      <td>1.0</td>\n",
       "      <td>66.0</td>\n",
       "      <td>1</td>\n",
       "      <td>0.0</td>\n",
       "      <td>61.0</td>\n",
       "      <td>...</td>\n",
       "      <td>0.0</td>\n",
       "      <td>2.833213</td>\n",
       "      <td>5.342334</td>\n",
       "      <td>7.567346</td>\n",
       "      <td>0.0</td>\n",
       "      <td>0.0</td>\n",
       "      <td>0.0</td>\n",
       "      <td>-0.041600</td>\n",
       "      <td>NaN</td>\n",
       "      <td>NaN</td>\n",
       "    </tr>\n",
       "    <tr>\n",
       "      <th>4</th>\n",
       "      <td>USA: Truman</td>\n",
       "      <td>1950-05-01</td>\n",
       "      <td>USA</td>\n",
       "      <td>1950.0</td>\n",
       "      <td>5.0</td>\n",
       "      <td>1.0</td>\n",
       "      <td>66.0</td>\n",
       "      <td>1</td>\n",
       "      <td>0.0</td>\n",
       "      <td>62.0</td>\n",
       "      <td>...</td>\n",
       "      <td>0.0</td>\n",
       "      <td>2.890372</td>\n",
       "      <td>5.347107</td>\n",
       "      <td>7.567863</td>\n",
       "      <td>0.0</td>\n",
       "      <td>0.0</td>\n",
       "      <td>0.0</td>\n",
       "      <td>-0.129703</td>\n",
       "      <td>NaN</td>\n",
       "      <td>NaN</td>\n",
       "    </tr>\n",
       "  </tbody>\n",
       "</table>\n",
       "<p>5 rows × 38 columns</p>\n",
       "</div>"
      ],
      "text/plain": [
       "  country-leader year-month country    year  month  elected   age  male  \\\n",
       "0    USA: Truman 1950-01-01     USA  1950.0    1.0      1.0  66.0     1   \n",
       "1    USA: Truman 1950-02-01     USA  1950.0    2.0      1.0  66.0     1   \n",
       "2    USA: Truman 1950-03-01     USA  1950.0    3.0      1.0  66.0     1   \n",
       "3    USA: Truman 1950-04-01     USA  1950.0    4.0      1.0  66.0     1   \n",
       "4    USA: Truman 1950-05-01     USA  1950.0    5.0      1.0  66.0     1   \n",
       "\n",
       "   militarycareer  tenure_months  ... delayed  lastelection      loss  \\\n",
       "0             0.0           58.0  ...     0.0      2.639057  5.327876   \n",
       "1             0.0           59.0  ...     0.0      2.708050  5.332719   \n",
       "2             0.0           60.0  ...     0.0      2.772589  5.337538   \n",
       "3             0.0           61.0  ...     0.0      2.833213  5.342334   \n",
       "4             0.0           62.0  ...     0.0      2.890372  5.347107   \n",
       "\n",
       "   irregular  prev_conflict  pt_suc  pt_attempt    precip  couprisk  \\\n",
       "0   7.565793            0.0     0.0         0.0 -0.069058       NaN   \n",
       "1   7.566311            0.0     0.0         0.0 -0.113721       NaN   \n",
       "2   7.566829            0.0     0.0         0.0 -0.108042       NaN   \n",
       "3   7.567346            0.0     0.0         0.0 -0.041600       NaN   \n",
       "4   7.567863            0.0     0.0         0.0 -0.129703       NaN   \n",
       "\n",
       "   pctile_risk  \n",
       "0          NaN  \n",
       "1          NaN  \n",
       "2          NaN  \n",
       "3          NaN  \n",
       "4          NaN  \n",
       "\n",
       "[5 rows x 38 columns]"
      ]
     },
     "execution_count": 4,
     "metadata": {},
     "output_type": "execute_result"
    }
   ],
   "source": [
    "data[\"country-leader\"] = data[\"country\"] + \": \" + data[\"leader\"]\n",
    "data[\"year-month\"] = data[\"year\"].astype(int).astype(str) + data[\"month\"].astype(int).astype(str).str.zfill(2)\n",
    "data[\"year-month\"] = pd.to_datetime(data[\"year-month\"], format=\"%Y%m\")\n",
    "data = pd.concat([data[[\"country-leader\", \"year-month\"]],\n",
    "                  data.drop([\"ccode\", \"country-leader\", \"leader\", \"year-month\"],\n",
    "                            axis=1)],\n",
    "                 axis=1)\n",
    "data.head()"
   ]
  },
  {
   "cell_type": "markdown",
   "metadata": {},
   "source": [
    "By definition, each unique pair of identifier values identifies a single observation. REIGN contains a few violations of this definition, due to leaders losing and regaining power in a given month. We keep only the last observation of a given leader in a given month, thereby ignoring intra-month lapses in power."
   ]
  },
  {
   "cell_type": "code",
   "execution_count": 5,
   "metadata": {},
   "outputs": [
    {
     "name": "stdout",
     "output_type": "stream",
     "text": [
      "7 observations with a duplicated identifier pair deleted.\n"
     ]
    }
   ],
   "source": [
    "total_obs = len(data)\n",
    "data = data.drop_duplicates([\"country-leader\", \"year-month\"], keep=\"last\")\n",
    "n_duplicates = total_obs - len(data)\n",
    "print(f\"{n_duplicates} observations with a duplicated identifier pair deleted.\")"
   ]
  },
  {
   "cell_type": "markdown",
   "metadata": {},
   "source": [
    "FIFE's PanelDataProcessor will do the rest of our data processing for us, including dropping any degenerate features, identifying which features are categorical, and computing which leadership spells ended and when."
   ]
  },
  {
   "cell_type": "code",
   "execution_count": 6,
   "metadata": {},
   "outputs": [
    {
     "name": "stdout",
     "output_type": "stream",
     "text": [
      "Time identifier column name not given; assumed to be second-leftmost column (year-month)\n",
      "Individual identifier column name not given; assumed to be leftmost column (country-leader)\n"
     ]
    }
   ],
   "source": [
    "data_processor = PanelDataProcessor(data=data)\n",
    "data_processor.build_processed_data()"
   ]
  },
  {
   "cell_type": "markdown",
   "metadata": {},
   "source": [
    "We pass the processed data to FIFE's LGBSurvivalModeler, which trains gradient-boosted tree models using [LightGBM](https://lightgbm.readthedocs.io/en/latest/). FIFE trains one model for each time horizon up to some maximum. In the absence of a specified maximum, FIFE will train up to the time horizon for which there are no more than 64 training observations that survived that long."
   ]
  },
  {
   "cell_type": "code",
   "execution_count": 7,
   "metadata": {
    "scrolled": true
   },
   "outputs": [
    {
     "name": "stdout",
     "output_type": "stream",
     "text": [
      "Time identifier column name not given; assumed to be second-leftmost column (year-month)\n",
      "Individual identifier column name not given; assumed to be leftmost column (country-leader)\n"
     ]
    },
    {
     "name": "stderr",
     "output_type": "stream",
     "text": [
      "Found `num_iterations` in params. Will use it instead of argument\n",
      "categorical_feature in Dataset is overridden.\n",
      "New categorical_feature is ['age', 'anticipation', 'change_recent', 'country', 'defeat_recent', 'delayed', 'direct_recent', 'elected', 'election_now', 'election_recent', 'exec_ant', 'exec_recent', 'government', 'indirect_recent', 'irreg_lead_ant', 'lead_recent', 'leg_ant', 'leg_recent', 'male', 'militarycareer', 'month', 'nochange_recent', 'prev_conflict', 'pt_attempt', 'pt_suc', 'ref_ant', 'ref_recent', 'tenure_months', 'victory_recent', 'year']\n"
     ]
    },
    {
     "name": "stdout",
     "output_type": "stream",
     "text": [
      "[1]\tvalidation_set's binary_logloss: 0.0450614\n",
      "Training until validation scores don't improve for 4 rounds\n",
      "[1]\tvalidation_set's binary_logloss: 0.0446671[2]\tvalidation_set's binary_logloss: 0.0454517\n",
      "Training until validation scores don't improve for 4 rounds\n",
      "\n",
      "[3]\tvalidation_set's binary_logloss: 0.045389\n",
      "[2]\tvalidation_set's binary_logloss: 0.0451477\n",
      "[4]\tvalidation_set's binary_logloss: 0.0463014[3]\tvalidation_set's binary_logloss: 0.0455293\n",
      "\n",
      "[4]\tvalidation_set's binary_logloss: 0.0457212\n",
      "[5]\tvalidation_set's binary_logloss: 0.0464527\n",
      "[5]\tvalidation_set's binary_logloss: 0.0461752Early stopping, best iteration is:\n",
      "[1]\tvalidation_set's binary_logloss: 0.0450614\n",
      "\n",
      "Early stopping, best iteration is:\n",
      "[1]\tvalidation_set's binary_logloss: 0.0446671\n",
      "[1]\tvalidation_set's binary_logloss: 0.0494178\n",
      "Training until validation scores don't improve for 4 rounds\n",
      "[1]\tvalidation_set's binary_logloss: 0.0516978[2]\tvalidation_set's binary_logloss: 0.0516761\n",
      "\n",
      "Training until validation scores don't improve for 4 rounds\n",
      "[3]\tvalidation_set's binary_logloss: 0.0522239\n",
      "[2]\tvalidation_set's binary_logloss: 0.0536708\n",
      "[4]\tvalidation_set's binary_logloss: 0.0526882[1]\tvalidation_set's binary_logloss: 0.0538028\n",
      "[3]\tvalidation_set's binary_logloss: 0.054282\n",
      "[5]\tvalidation_set's binary_logloss: 0.053103\n",
      "Training until validation scores don't improve for 4 rounds\n",
      "\n",
      "Early stopping, best iteration is:\n",
      "[1]\tvalidation_set's binary_logloss: 0.0494178[4]\tvalidation_set's binary_logloss: 0.054998\n",
      "\n",
      "[2]\tvalidation_set's binary_logloss: 0.0550721[5]\tvalidation_set's binary_logloss: 0.0552225\n",
      "\n",
      "Early stopping, best iteration is:\n",
      "[1]\tvalidation_set's binary_logloss: 0.0516978\n",
      "[3]\tvalidation_set's binary_logloss: 0.0553085\n",
      "[4]\tvalidation_set's binary_logloss: 0.0556684\n",
      "[5]\tvalidation_set's binary_logloss: 0.0564954\n",
      "Early stopping, best iteration is:\n",
      "[1]\tvalidation_set's binary_logloss: 0.0538028\n",
      "[1]\tvalidation_set's binary_logloss: 0.0536674\n",
      "Training until validation scores don't improve for 4 rounds\n",
      "[2]\tvalidation_set's binary_logloss: 0.0538776\n",
      "[3]\tvalidation_set's binary_logloss: 0.0544168\n",
      "[4]\tvalidation_set's binary_logloss: 0.0546874\n",
      "[5]\tvalidation_set's binary_logloss: 0.0552332\n",
      "Early stopping, best iteration is:\n",
      "[1]\tvalidation_set's binary_logloss: 0.0536674\n",
      "[1]\tvalidation_set's binary_logloss: 0.0542532\n",
      "Training until validation scores don't improve for 4 rounds\n",
      "[2]\tvalidation_set's binary_logloss: 0.0544632\n",
      "[3]\tvalidation_set's binary_logloss: 0.0543298\n",
      "[4]\tvalidation_set's binary_logloss: 0.0543584\n",
      "[5]\tvalidation_set's binary_logloss: 0.0545363\n",
      "Early stopping, best iteration is:\n",
      "[1]\tvalidation_set's binary_logloss: 0.0542532\n"
     ]
    },
    {
     "name": "stderr",
     "output_type": "stream",
     "text": [
      "Found `num_iterations` in params. Will use it instead of argument\n",
      "categorical_feature in Dataset is overridden.\n",
      "New categorical_feature is ['age', 'anticipation', 'change_recent', 'country', 'defeat_recent', 'delayed', 'direct_recent', 'elected', 'election_now', 'election_recent', 'exec_ant', 'exec_recent', 'government', 'indirect_recent', 'irreg_lead_ant', 'lead_recent', 'leg_ant', 'leg_recent', 'male', 'militarycareer', 'month', 'nochange_recent', 'prev_conflict', 'pt_attempt', 'pt_suc', 'ref_ant', 'ref_recent', 'tenure_months', 'victory_recent', 'year']\n"
     ]
    },
    {
     "name": "stdout",
     "output_type": "stream",
     "text": [
      "[1]\tvalidation_set's binary_logloss: 0.0666623\n",
      "Training until validation scores don't improve for 4 rounds\n",
      "[2]\tvalidation_set's binary_logloss: 0.0660299"
     ]
    },
    {
     "name": "stderr",
     "output_type": "stream",
     "text": [
      "Found `num_iterations` in params. Will use it instead of argument\n"
     ]
    },
    {
     "name": "stdout",
     "output_type": "stream",
     "text": [
      "\n"
     ]
    },
    {
     "name": "stderr",
     "output_type": "stream",
     "text": [
      "categorical_feature in Dataset is overridden.\n",
      "New categorical_feature is ['age', 'anticipation', 'change_recent', 'country', 'defeat_recent', 'delayed', 'direct_recent', 'elected', 'election_now', 'election_recent', 'exec_ant', 'exec_recent', 'government', 'indirect_recent', 'irreg_lead_ant', 'lead_recent', 'leg_ant', 'leg_recent', 'male', 'militarycareer', 'month', 'nochange_recent', 'prev_conflict', 'pt_attempt', 'pt_suc', 'ref_ant', 'ref_recent', 'tenure_months', 'victory_recent', 'year']\n"
     ]
    },
    {
     "name": "stdout",
     "output_type": "stream",
     "text": [
      "[3]\tvalidation_set's binary_logloss: 0.0657004\n",
      "[4]\tvalidation_set's binary_logloss: 0.0655955\n",
      "[5]\tvalidation_set's binary_logloss: 0.0653195\n",
      "[6]\tvalidation_set's binary_logloss: 0.0649401\n",
      "[7]\tvalidation_set's binary_logloss: 0.0646397\n",
      "[8]\tvalidation_set's binary_logloss: 0.0646058\n",
      "[9]\tvalidation_set's binary_logloss: 0.0644834\n",
      "[10]\tvalidation_set's binary_logloss: 0.0644412\n",
      "[11]\tvalidation_set's binary_logloss: 0.0643597\n",
      "[12]\tvalidation_set's binary_logloss: 0.0642483"
     ]
    },
    {
     "name": "stderr",
     "output_type": "stream",
     "text": [
      "Found `num_iterations` in params. Will use it instead of argument\n"
     ]
    },
    {
     "name": "stdout",
     "output_type": "stream",
     "text": [
      "\n"
     ]
    },
    {
     "name": "stderr",
     "output_type": "stream",
     "text": [
      "categorical_feature in Dataset is overridden.\n",
      "New categorical_feature is ['age', 'anticipation', 'change_recent', 'country', 'defeat_recent', 'delayed', 'direct_recent', 'elected', 'election_now', 'election_recent', 'exec_ant', 'exec_recent', 'government', 'indirect_recent', 'irreg_lead_ant', 'lead_recent', 'leg_ant', 'leg_recent', 'male', 'militarycareer', 'month', 'nochange_recent', 'prev_conflict', 'pt_attempt', 'pt_suc', 'ref_ant', 'ref_recent', 'tenure_months', 'victory_recent', 'year']\n"
     ]
    },
    {
     "name": "stdout",
     "output_type": "stream",
     "text": [
      "[13]\tvalidation_set's binary_logloss: 0.0641173\n",
      "[14]\tvalidation_set's binary_logloss: 0.0638746\n",
      "[15]\tvalidation_set's binary_logloss: 0.0638387\n",
      "[16]\tvalidation_set's binary_logloss: 0.0638076\n",
      "[17]\tvalidation_set's binary_logloss: 0.0638894\n",
      "[18]\tvalidation_set's binary_logloss: 0.0637897\n",
      "[19]\tvalidation_set's binary_logloss: 0.0638408\n",
      "[20]\tvalidation_set's binary_logloss: 0.0638466\n",
      "[21]\tvalidation_set's binary_logloss: 0.0638315\n",
      "[22]\tvalidation_set's binary_logloss: 0.063849\n",
      "Early stopping, best iteration is:\n",
      "[18]\tvalidation_set's binary_logloss: 0.0637897\n",
      "[1]\tvalidation_set's binary_logloss: 0.0620557\n",
      "Training until validation scores don't improve for 4 rounds\n",
      "[1]\tvalidation_set's binary_logloss: 0.0643148\n",
      "Training until validation scores don't improve for 4 rounds[2]\tvalidation_set's binary_logloss: 0.0615305\n",
      "\n",
      "[3]\tvalidation_set's binary_logloss: 0.0614351[2]\tvalidation_set's binary_logloss: 0.0644624\n",
      "\n",
      "[3]\tvalidation_set's binary_logloss: 0.0643233[4]\tvalidation_set's binary_logloss: 0.0613801\n",
      "\n",
      "[4]\tvalidation_set's binary_logloss: 0.0640112[5]\tvalidation_set's binary_logloss: 0.061201\n",
      "\n",
      "[6]\tvalidation_set's binary_logloss: 0.0610739\n",
      "[5]\tvalidation_set's binary_logloss: 0.0636004\n",
      "[7]\tvalidation_set's binary_logloss: 0.0608625[6]\tvalidation_set's binary_logloss: 0.0632961[1]\tvalidation_set's binary_logloss: 0.0494663\n",
      "\n",
      "\n",
      "[8]\tvalidation_set's binary_logloss: 0.060974Training until validation scores don't improve for 4 rounds[7]\tvalidation_set's binary_logloss: 0.0633267\n",
      "\n",
      "\n",
      "[2]\tvalidation_set's binary_logloss: 0.049954\n",
      "[8]\tvalidation_set's binary_logloss: 0.0630769[9]\tvalidation_set's binary_logloss: 0.0607436[3]\tvalidation_set's binary_logloss: 0.0508162\n",
      "\n",
      "\n",
      "[4]\tvalidation_set's binary_logloss: 0.0518517[10]\tvalidation_set's binary_logloss: 0.060791[9]\tvalidation_set's binary_logloss: 0.0630562\n",
      "\n",
      "\n",
      "[1]\tvalidation_set's binary_logloss: 0.0598563\n",
      "Training until validation scores don't improve for 4 rounds\n"
     ]
    },
    {
     "name": "stderr",
     "output_type": "stream",
     "text": [
      "Found `num_iterations` in params. Will use it instead of argument\n",
      "categorical_feature in Dataset is overridden.\n",
      "New categorical_feature is ['age', 'anticipation', 'change_recent', 'country', 'defeat_recent', 'delayed', 'direct_recent', 'elected', 'election_now', 'election_recent', 'exec_ant', 'exec_recent', 'government', 'indirect_recent', 'irreg_lead_ant', 'lead_recent', 'leg_ant', 'leg_recent', 'male', 'militarycareer', 'month', 'nochange_recent', 'prev_conflict', 'pt_attempt', 'pt_suc', 'ref_ant', 'ref_recent', 'tenure_months', 'victory_recent', 'year']\n"
     ]
    },
    {
     "name": "stdout",
     "output_type": "stream",
     "text": [
      "[2]\tvalidation_set's binary_logloss: 0.0594285[1]\tvalidation_set's binary_logloss: 0.0621792[11]\tvalidation_set's binary_logloss: 0.0609421[1]\tvalidation_set's binary_logloss: 0.046986[5]\tvalidation_set's binary_logloss: 0.0527003[10]\tvalidation_set's binary_logloss: 0.0629092\n",
      "\n",
      "\n",
      "\n",
      "Early stopping, best iteration is:\n",
      "[1]\tvalidation_set's binary_logloss: 0.0494663\n",
      "Training until validation scores don't improve for 4 rounds\n",
      "\n",
      "\n",
      "Training until validation scores don't improve for 4 rounds\n",
      "[3]\tvalidation_set's binary_logloss: 0.0591378[12]\tvalidation_set's binary_logloss: 0.0610106[11]\tvalidation_set's binary_logloss: 0.0630236\n",
      "[2]\tvalidation_set's binary_logloss: 0.0617269[2]\tvalidation_set's binary_logloss: 0.048032\n",
      "\n",
      "\n",
      "\n",
      "[4]\tvalidation_set's binary_logloss: 0.0590351[3]\tvalidation_set's binary_logloss: 0.0488854[3]\tvalidation_set's binary_logloss: 0.0613097[12]\tvalidation_set's binary_logloss: 0.0629514[13]\tvalidation_set's binary_logloss: 0.0610997\n",
      "\n",
      "\n",
      "\n",
      "\n",
      "Early stopping, best iteration is:\n",
      "[9]\tvalidation_set's binary_logloss: 0.0607436\n",
      "[4]\tvalidation_set's binary_logloss: 0.0491881[5]\tvalidation_set's binary_logloss: 0.058939[4]\tvalidation_set's binary_logloss: 0.0609112\n",
      "[13]\tvalidation_set's binary_logloss: 0.0629075\n",
      "\n",
      "\n",
      "[5]\tvalidation_set's binary_logloss: 0.0495176[6]\tvalidation_set's binary_logloss: 0.0588832[5]\tvalidation_set's binary_logloss: 0.0607287\n",
      "[14]\tvalidation_set's binary_logloss: 0.0628755\n",
      "Early stopping, best iteration is:\n",
      "[1]\tvalidation_set's binary_logloss: 0.046986\n",
      "\n",
      "[7]\tvalidation_set's binary_logloss: 0.0588475\n",
      "\n",
      "[6]\tvalidation_set's binary_logloss: 0.0605584[15]\tvalidation_set's binary_logloss: 0.0629073\n",
      "[8]\tvalidation_set's binary_logloss: 0.0590472\n",
      "\n",
      "[9]\tvalidation_set's binary_logloss: 0.0591234[7]\tvalidation_set's binary_logloss: 0.0603411[16]\tvalidation_set's binary_logloss: 0.062785\n",
      "\n",
      "\n",
      "[1]\tvalidation_set's binary_logloss: 0.0617175\n",
      "Training until validation scores don't improve for 4 rounds[8]\tvalidation_set's binary_logloss: 0.060432[17]\tvalidation_set's binary_logloss: 0.0627859[10]\tvalidation_set's binary_logloss: 0.0592921\n",
      "\n",
      "\n",
      "\n",
      "[9]\tvalidation_set's binary_logloss: 0.0603422\n",
      "[11]\tvalidation_set's binary_logloss: 0.0594373[2]\tvalidation_set's binary_logloss: 0.0610661\n",
      "Early stopping, best iteration is:\n",
      "[7]\tvalidation_set's binary_logloss: 0.0588475\n",
      "[18]\tvalidation_set's binary_logloss: 0.0628785\n",
      "[10]\tvalidation_set's binary_logloss: 0.0603495[3]\tvalidation_set's binary_logloss: 0.0607014\n",
      "\n",
      "\n",
      "[19]\tvalidation_set's binary_logloss: 0.0627209[11]\tvalidation_set's binary_logloss: 0.0600798[4]\tvalidation_set's binary_logloss: 0.0605545\n",
      "\n",
      "\n",
      "[12]\tvalidation_set's binary_logloss: 0.0600316[5]\tvalidation_set's binary_logloss: 0.0603203[20]\tvalidation_set's binary_logloss: 0.0627013\n",
      "\n",
      "\n",
      "[13]\tvalidation_set's binary_logloss: 0.0600972[6]\tvalidation_set's binary_logloss: 0.0602219[21]\tvalidation_set's binary_logloss: 0.0628094\n",
      "\n",
      "\n",
      "[1]\tvalidation_set's binary_logloss: 0.0483995\n",
      "Training until validation scores don't improve for 4 rounds\n",
      "[14]\tvalidation_set's binary_logloss: 0.060219[22]\tvalidation_set's binary_logloss: 0.0627317[2]\tvalidation_set's binary_logloss: 0.0508123[7]\tvalidation_set's binary_logloss: 0.0602081\n",
      "\n",
      "\n",
      "\n",
      "[3]\tvalidation_set's binary_logloss: 0.0513988[8]\tvalidation_set's binary_logloss: 0.0601396[15]\tvalidation_set's binary_logloss: 0.0603141\n",
      "\n",
      "[23]\tvalidation_set's binary_logloss: 0.062794\n",
      "\n",
      "[4]\tvalidation_set's binary_logloss: 0.0522328\n",
      "[9]\tvalidation_set's binary_logloss: 0.0601993\n",
      "[16]\tvalidation_set's binary_logloss: 0.0604863[24]\tvalidation_set's binary_logloss: 0.0628308\n",
      "\n",
      "Early stopping, best iteration is:\n",
      "[12]\tvalidation_set's binary_logloss: 0.0600316Early stopping, best iteration is:\n",
      "[20]\tvalidation_set's binary_logloss: 0.0627013\n",
      "\n",
      "[5]\tvalidation_set's binary_logloss: 0.0526407\n",
      "[10]\tvalidation_set's binary_logloss: 0.0602086Early stopping, best iteration is:\n",
      "[1]\tvalidation_set's binary_logloss: 0.0483995\n",
      "\n",
      "[11]\tvalidation_set's binary_logloss: 0.0601712\n",
      "[12]\tvalidation_set's binary_logloss: 0.0601367\n",
      "[13]\tvalidation_set's binary_logloss: 0.0601646"
     ]
    },
    {
     "name": "stderr",
     "output_type": "stream",
     "text": [
      "Found `num_iterations` in params. Will use it instead of argument\n"
     ]
    },
    {
     "name": "stdout",
     "output_type": "stream",
     "text": [
      "\n"
     ]
    },
    {
     "name": "stderr",
     "output_type": "stream",
     "text": [
      "categorical_feature in Dataset is overridden.\n",
      "New categorical_feature is ['age', 'anticipation', 'change_recent', 'country', 'defeat_recent', 'delayed', 'direct_recent', 'elected', 'election_now', 'election_recent', 'exec_ant', 'exec_recent', 'government', 'indirect_recent', 'irreg_lead_ant', 'lead_recent', 'leg_ant', 'leg_recent', 'male', 'militarycareer', 'month', 'nochange_recent', 'prev_conflict', 'pt_attempt', 'pt_suc', 'ref_ant', 'ref_recent', 'tenure_months', 'victory_recent', 'year']\n"
     ]
    },
    {
     "name": "stdout",
     "output_type": "stream",
     "text": [
      "[14]\tvalidation_set's binary_logloss: 0.0602272\n",
      "[15]\tvalidation_set's binary_logloss: 0.0602212\n",
      "[16]\tvalidation_set's binary_logloss: 0.0601803"
     ]
    },
    {
     "name": "stderr",
     "output_type": "stream",
     "text": [
      "Found `num_iterations` in params. Will use it instead of argument\n"
     ]
    },
    {
     "name": "stdout",
     "output_type": "stream",
     "text": [
      "\n",
      "Early stopping, best iteration is:\n",
      "[12]\tvalidation_set's binary_logloss: 0.0601367\n"
     ]
    },
    {
     "name": "stderr",
     "output_type": "stream",
     "text": [
      "Found `num_iterations` in params. Will use it instead of argument\n",
      "categorical_feature in Dataset is overridden.\n",
      "New categorical_feature is ['age', 'anticipation', 'change_recent', 'country', 'defeat_recent', 'delayed', 'direct_recent', 'elected', 'election_now', 'election_recent', 'exec_ant', 'exec_recent', 'government', 'indirect_recent', 'irreg_lead_ant', 'lead_recent', 'leg_ant', 'leg_recent', 'male', 'militarycareer', 'month', 'nochange_recent', 'prev_conflict', 'pt_attempt', 'pt_suc', 'ref_ant', 'ref_recent', 'tenure_months', 'victory_recent', 'year']\n"
     ]
    },
    {
     "name": "stdout",
     "output_type": "stream",
     "text": [
      "[1]\tvalidation_set's binary_logloss: 0.0435023\n",
      "Training until validation scores don't improve for 4 rounds\n",
      "[2]\tvalidation_set's binary_logloss: 0.0442206\n",
      "[3]\tvalidation_set's binary_logloss: 0.044874\n",
      "[4]\tvalidation_set's binary_logloss: 0.0455773\n",
      "[5]\tvalidation_set's binary_logloss: 0.0456579\n",
      "Early stopping, best iteration is:\n",
      "[1]\tvalidation_set's binary_logloss: 0.0435023\n",
      "[1]\tvalidation_set's binary_logloss: 0.0569176\n",
      "Training until validation scores don't improve for 4 rounds\n",
      "[2]\tvalidation_set's binary_logloss: 0.0565952\n"
     ]
    },
    {
     "name": "stderr",
     "output_type": "stream",
     "text": [
      "Found `num_iterations` in params. Will use it instead of argument\n"
     ]
    },
    {
     "name": "stdout",
     "output_type": "stream",
     "text": [
      "[3]\tvalidation_set's binary_logloss: 0.0565767"
     ]
    },
    {
     "name": "stderr",
     "output_type": "stream",
     "text": [
      "categorical_feature in Dataset is overridden.\n",
      "New categorical_feature is ['age', 'anticipation', 'change_recent', 'country', 'defeat_recent', 'delayed', 'direct_recent', 'elected', 'election_now', 'election_recent', 'exec_ant', 'exec_recent', 'government', 'indirect_recent', 'irreg_lead_ant', 'lead_recent', 'leg_ant', 'leg_recent', 'male', 'militarycareer', 'month', 'nochange_recent', 'prev_conflict', 'pt_attempt', 'pt_suc', 'ref_ant', 'ref_recent', 'tenure_months', 'victory_recent', 'year']\n"
     ]
    },
    {
     "name": "stdout",
     "output_type": "stream",
     "text": [
      "\n",
      "[4]\tvalidation_set's binary_logloss: 0.0566178\n",
      "[5]\tvalidation_set's binary_logloss: 0.0566306\n",
      "[6]\tvalidation_set's binary_logloss: 0.0565373\n",
      "[7]\tvalidation_set's binary_logloss: 0.0567505\n",
      "[1]\tvalidation_set's binary_logloss: 0.0603633\n",
      "Training until validation scores don't improve for 4 rounds[1]\tvalidation_set's binary_logloss: 0.0475075[8]\tvalidation_set's binary_logloss: 0.0568102\n",
      "\n",
      "\n"
     ]
    },
    {
     "name": "stderr",
     "output_type": "stream",
     "text": [
      "Found `num_iterations` in params. Will use it instead of argument\n"
     ]
    },
    {
     "name": "stdout",
     "output_type": "stream",
     "text": [
      "Training until validation scores don't improve for 4 rounds"
     ]
    },
    {
     "name": "stderr",
     "output_type": "stream",
     "text": [
      "categorical_feature in Dataset is overridden.\n",
      "New categorical_feature is ['age', 'anticipation', 'change_recent', 'country', 'defeat_recent', 'delayed', 'direct_recent', 'elected', 'election_now', 'election_recent', 'exec_ant', 'exec_recent', 'government', 'indirect_recent', 'irreg_lead_ant', 'lead_recent', 'leg_ant', 'leg_recent', 'male', 'militarycareer', 'month', 'nochange_recent', 'prev_conflict', 'pt_attempt', 'pt_suc', 'ref_ant', 'ref_recent', 'tenure_months', 'victory_recent', 'year']\n"
     ]
    },
    {
     "name": "stdout",
     "output_type": "stream",
     "text": [
      "\n",
      "[2]\tvalidation_set's binary_logloss: 0.0598044[9]\tvalidation_set's binary_logloss: 0.056988\n",
      "\n",
      "[2]\tvalidation_set's binary_logloss: 0.0485298\n",
      "[3]\tvalidation_set's binary_logloss: 0.0488561[3]\tvalidation_set's binary_logloss: 0.0599056[10]\tvalidation_set's binary_logloss: 0.0569834\n",
      "\n",
      "\n",
      "Early stopping, best iteration is:\n",
      "[6]\tvalidation_set's binary_logloss: 0.0565373\n",
      "[4]\tvalidation_set's binary_logloss: 0.049532[4]\tvalidation_set's binary_logloss: 0.0598145\n",
      "\n",
      "[5]\tvalidation_set's binary_logloss: 0.06012[5]\tvalidation_set's binary_logloss: 0.050132\n",
      "\n",
      "Early stopping, best iteration is:\n",
      "[1]\tvalidation_set's binary_logloss: 0.0475075\n",
      "[6]\tvalidation_set's binary_logloss: 0.0600736\n",
      "Early stopping, best iteration is:\n",
      "[2]\tvalidation_set's binary_logloss: 0.0598044\n",
      "[1]\tvalidation_set's binary_logloss: 0.0468813[1]\tvalidation_set's binary_logloss: 0.0450492\n",
      "\n",
      "Training until validation scores don't improve for 4 roundsTraining until validation scores don't improve for 4 rounds\n",
      "\n",
      "[2]\tvalidation_set's binary_logloss: 0.0472017[2]\tvalidation_set's binary_logloss: 0.0454843\n",
      "[3]\tvalidation_set's binary_logloss: 0.048184\n",
      "\n",
      "[4]\tvalidation_set's binary_logloss: 0.0486341[3]\tvalidation_set's binary_logloss: 0.0455824\n",
      "\n",
      "[4]\tvalidation_set's binary_logloss: 0.0463957[5]\tvalidation_set's binary_logloss: 0.0491801\n",
      "\n",
      "[5]\tvalidation_set's binary_logloss: 0.0465244Early stopping, best iteration is:\n",
      "[1]\tvalidation_set's binary_logloss: 0.0468813\n",
      "Early stopping, best iteration is:\n",
      "[1]\tvalidation_set's binary_logloss: 0.0450492\n",
      "\n"
     ]
    },
    {
     "name": "stderr",
     "output_type": "stream",
     "text": [
      "Found `num_iterations` in params. Will use it instead of argument\n",
      "categorical_feature in Dataset is overridden.\n",
      "New categorical_feature is ['age', 'anticipation', 'change_recent', 'country', 'defeat_recent', 'delayed', 'direct_recent', 'elected', 'election_now', 'election_recent', 'exec_ant', 'exec_recent', 'government', 'indirect_recent', 'irreg_lead_ant', 'lead_recent', 'leg_ant', 'leg_recent', 'male', 'militarycareer', 'month', 'nochange_recent', 'prev_conflict', 'pt_attempt', 'pt_suc', 'ref_ant', 'ref_recent', 'tenure_months', 'victory_recent', 'year']\n"
     ]
    },
    {
     "name": "stdout",
     "output_type": "stream",
     "text": [
      "[1]\tvalidation_set's binary_logloss: 0.0473284\n",
      "Training until validation scores don't improve for 4 rounds\n",
      "[2]\tvalidation_set's binary_logloss: 0.0480746\n",
      "[3]\tvalidation_set's binary_logloss: 0.0480182\n",
      "[4]\tvalidation_set's binary_logloss: 0.0482466\n",
      "[5]\tvalidation_set's binary_logloss: 0.0485148\n",
      "Early stopping, best iteration is:\n",
      "[1]\tvalidation_set's binary_logloss: 0.0473284\n",
      "[1]\tvalidation_set's binary_logloss: 0.0619506\n",
      "Training until validation scores don't improve for 4 rounds\n",
      "[2]\tvalidation_set's binary_logloss: 0.0611564\n",
      "[3]\tvalidation_set's binary_logloss: 0.0607968\n",
      "[4]\tvalidation_set's binary_logloss: 0.0604269[1]\tvalidation_set's binary_logloss: 0.0446863\n",
      "\n",
      "Training until validation scores don't improve for 4 rounds\n",
      "[5]\tvalidation_set's binary_logloss: 0.0602631[2]\tvalidation_set's binary_logloss: 0.0450551\n",
      "\n",
      "[6]\tvalidation_set's binary_logloss: 0.0602309[3]\tvalidation_set's binary_logloss: 0.0452141\n",
      "\n",
      "[4]\tvalidation_set's binary_logloss: 0.0461214[7]\tvalidation_set's binary_logloss: 0.0601504\n",
      "\n",
      "[5]\tvalidation_set's binary_logloss: 0.0464396\n",
      "Early stopping, best iteration is:\n",
      "[1]\tvalidation_set's binary_logloss: 0.0446863[8]\tvalidation_set's binary_logloss: 0.060087\n"
     ]
    },
    {
     "name": "stderr",
     "output_type": "stream",
     "text": [
      "Found `num_iterations` in params. Will use it instead of argument\n"
     ]
    },
    {
     "name": "stdout",
     "output_type": "stream",
     "text": [
      "\n"
     ]
    },
    {
     "name": "stderr",
     "output_type": "stream",
     "text": [
      "categorical_feature in Dataset is overridden.\n",
      "New categorical_feature is ['age', 'anticipation', 'change_recent', 'country', 'defeat_recent', 'delayed', 'direct_recent', 'elected', 'election_now', 'election_recent', 'exec_ant', 'exec_recent', 'government', 'indirect_recent', 'irreg_lead_ant', 'lead_recent', 'leg_ant', 'leg_recent', 'male', 'militarycareer', 'month', 'nochange_recent', 'prev_conflict', 'pt_attempt', 'pt_suc', 'ref_ant', 'ref_recent', 'tenure_months', 'victory_recent', 'year']\n"
     ]
    },
    {
     "name": "stdout",
     "output_type": "stream",
     "text": [
      "[9]\tvalidation_set's binary_logloss: 0.0600346\n",
      "[10]\tvalidation_set's binary_logloss: 0.0600313\n",
      "[11]\tvalidation_set's binary_logloss: 0.0600291"
     ]
    },
    {
     "name": "stderr",
     "output_type": "stream",
     "text": [
      "Found `num_iterations` in params. Will use it instead of argument\n"
     ]
    },
    {
     "name": "stdout",
     "output_type": "stream",
     "text": [
      "\n"
     ]
    },
    {
     "name": "stderr",
     "output_type": "stream",
     "text": [
      "categorical_feature in Dataset is overridden.\n",
      "New categorical_feature is ['age', 'anticipation', 'change_recent', 'country', 'defeat_recent', 'delayed', 'direct_recent', 'elected', 'election_now', 'election_recent', 'exec_ant', 'exec_recent', 'government', 'indirect_recent', 'irreg_lead_ant', 'lead_recent', 'leg_ant', 'leg_recent', 'male', 'militarycareer', 'month', 'nochange_recent', 'prev_conflict', 'pt_attempt', 'pt_suc', 'ref_ant', 'ref_recent', 'tenure_months', 'victory_recent', 'year']\n"
     ]
    },
    {
     "name": "stdout",
     "output_type": "stream",
     "text": [
      "[12]\tvalidation_set's binary_logloss: 0.0600053\n",
      "[13]\tvalidation_set's binary_logloss: 0.0600415\n",
      "[14]\tvalidation_set's binary_logloss: 0.0601216\n",
      "[15]\tvalidation_set's binary_logloss: 0.0602949\n",
      "[16]\tvalidation_set's binary_logloss: 0.0602742\n",
      "Early stopping, best iteration is:\n",
      "[12]\tvalidation_set's binary_logloss: 0.0600053\n"
     ]
    },
    {
     "name": "stderr",
     "output_type": "stream",
     "text": [
      "Found `num_iterations` in params. Will use it instead of argument\n",
      "categorical_feature in Dataset is overridden.\n",
      "New categorical_feature is ['age', 'anticipation', 'change_recent', 'country', 'defeat_recent', 'delayed', 'direct_recent', 'elected', 'election_now', 'election_recent', 'exec_ant', 'exec_recent', 'government', 'indirect_recent', 'irreg_lead_ant', 'lead_recent', 'leg_ant', 'leg_recent', 'male', 'militarycareer', 'month', 'nochange_recent', 'prev_conflict', 'pt_attempt', 'pt_suc', 'ref_ant', 'ref_recent', 'tenure_months', 'victory_recent', 'year']\n",
      "Found `num_iterations` in params. Will use it instead of argument\n",
      "categorical_feature in Dataset is overridden.\n",
      "New categorical_feature is ['age', 'anticipation', 'change_recent', 'country', 'defeat_recent', 'delayed', 'direct_recent', 'elected', 'election_now', 'election_recent', 'exec_ant', 'exec_recent', 'government', 'indirect_recent', 'irreg_lead_ant', 'lead_recent', 'leg_ant', 'leg_recent', 'male', 'militarycareer', 'month', 'nochange_recent', 'prev_conflict', 'pt_attempt', 'pt_suc', 'ref_ant', 'ref_recent', 'tenure_months', 'victory_recent', 'year']\n",
      "Found `num_iterations` in params. Will use it instead of argument\n",
      "categorical_feature in Dataset is overridden.\n",
      "New categorical_feature is ['age', 'anticipation', 'change_recent', 'country', 'defeat_recent', 'delayed', 'direct_recent', 'elected', 'election_now', 'election_recent', 'exec_ant', 'exec_recent', 'government', 'indirect_recent', 'irreg_lead_ant', 'lead_recent', 'leg_ant', 'leg_recent', 'male', 'militarycareer', 'month', 'nochange_recent', 'prev_conflict', 'pt_attempt', 'pt_suc', 'ref_ant', 'ref_recent', 'tenure_months', 'victory_recent', 'year']\n"
     ]
    },
    {
     "name": "stdout",
     "output_type": "stream",
     "text": [
      "[1]\tvalidation_set's binary_logloss: 0.0529326[1]\tvalidation_set's binary_logloss: 0.0538325\n",
      "\n",
      "Training until validation scores don't improve for 4 roundsTraining until validation scores don't improve for 4 rounds\n",
      "\n",
      "[2]\tvalidation_set's binary_logloss: 0.053362[2]\tvalidation_set's binary_logloss: 0.0545634\n",
      "\n",
      "[3]\tvalidation_set's binary_logloss: 0.0538399[3]\tvalidation_set's binary_logloss: 0.0551021\n",
      "\n",
      "[4]\tvalidation_set's binary_logloss: 0.0542581[4]\tvalidation_set's binary_logloss: 0.0558989\n",
      "\n",
      "[5]\tvalidation_set's binary_logloss: 0.0548848[5]\tvalidation_set's binary_logloss: 0.0562066\n",
      "\n",
      "Early stopping, best iteration is:\n",
      "[1]\tvalidation_set's binary_logloss: 0.0538325Early stopping, best iteration is:\n",
      "[1]\tvalidation_set's binary_logloss: 0.0529326\n",
      "\n",
      "[1]\tvalidation_set's binary_logloss: 0.0603586\n",
      "Training until validation scores don't improve for 4 rounds\n",
      "[2]\tvalidation_set's binary_logloss: 0.0597197\n",
      "[1]\tvalidation_set's binary_logloss: 0.0501384[3]\tvalidation_set's binary_logloss: 0.0596059\n",
      "\n",
      "Training until validation scores don't improve for 4 rounds[4]\tvalidation_set's binary_logloss: 0.0597854\n",
      "\n",
      "[2]\tvalidation_set's binary_logloss: 0.0507659[5]\tvalidation_set's binary_logloss: 0.0598168\n"
     ]
    },
    {
     "name": "stderr",
     "output_type": "stream",
     "text": [
      "Found `num_iterations` in params. Will use it instead of argument\n"
     ]
    },
    {
     "name": "stdout",
     "output_type": "stream",
     "text": [
      "\n"
     ]
    },
    {
     "name": "stderr",
     "output_type": "stream",
     "text": [
      "categorical_feature in Dataset is overridden.\n",
      "New categorical_feature is ['age', 'anticipation', 'change_recent', 'country', 'defeat_recent', 'delayed', 'direct_recent', 'elected', 'election_now', 'election_recent', 'exec_ant', 'exec_recent', 'government', 'indirect_recent', 'irreg_lead_ant', 'lead_recent', 'leg_ant', 'leg_recent', 'male', 'militarycareer', 'month', 'nochange_recent', 'prev_conflict', 'pt_attempt', 'pt_suc', 'ref_ant', 'ref_recent', 'tenure_months', 'victory_recent', 'year']\n"
     ]
    },
    {
     "name": "stdout",
     "output_type": "stream",
     "text": [
      "[3]\tvalidation_set's binary_logloss: 0.0513732\n"
     ]
    },
    {
     "name": "stderr",
     "output_type": "stream",
     "text": [
      "categorical_feature in Dataset is overridden.\n",
      "New categorical_feature is ['age', 'anticipation', 'change_recent', 'country', 'defeat_recent', 'delayed', 'direct_recent', 'elected', 'election_now', 'election_recent', 'exec_ant', 'exec_recent', 'government', 'indirect_recent', 'irreg_lead_ant', 'lead_recent', 'leg_ant', 'leg_recent', 'male', 'militarycareer', 'month', 'nochange_recent', 'prev_conflict', 'pt_attempt', 'pt_suc', 'ref_ant', 'ref_recent', 'tenure_months', 'victory_recent', 'year']\n"
     ]
    },
    {
     "name": "stdout",
     "output_type": "stream",
     "text": [
      "[6]\tvalidation_set's binary_logloss: 0.0597883\n",
      "[4]\tvalidation_set's binary_logloss: 0.0519016\n",
      "[5]\tvalidation_set's binary_logloss: 0.0526864[7]\tvalidation_set's binary_logloss: 0.0598998\n",
      "\n",
      "Early stopping, best iteration is:\n",
      "[1]\tvalidation_set's binary_logloss: 0.0501384\n",
      "Early stopping, best iteration is:\n",
      "[3]\tvalidation_set's binary_logloss: 0.0596059\n",
      "[1]\tvalidation_set's binary_logloss: 0.0546044\n",
      "Training until validation scores don't improve for 4 rounds\n",
      "[2]\tvalidation_set's binary_logloss: 0.0551142\n",
      "[1]\tvalidation_set's binary_logloss: 0.0621353[3]\tvalidation_set's binary_logloss: 0.0560389\n",
      "\n",
      "Training until validation scores don't improve for 4 rounds\n",
      "[1]\tvalidation_set's binary_logloss: 0.0494556[2]\tvalidation_set's binary_logloss: 0.06163\n",
      "\n",
      "[4]\tvalidation_set's binary_logloss: 0.0563259Training until validation scores don't improve for 4 rounds\n",
      "\n",
      "[5]\tvalidation_set's binary_logloss: 0.0564549[2]\tvalidation_set's binary_logloss: 0.0508795[3]\tvalidation_set's binary_logloss: 0.061437\n",
      "\n",
      "\n",
      "Early stopping, best iteration is:\n",
      "[1]\tvalidation_set's binary_logloss: 0.0546044[3]\tvalidation_set's binary_logloss: 0.0514085\n",
      "\n",
      "[4]\tvalidation_set's binary_logloss: 0.0612341\n",
      "[4]\tvalidation_set's binary_logloss: 0.0519755\n",
      "[5]\tvalidation_set's binary_logloss: 0.0520912[5]\tvalidation_set's binary_logloss: 0.0609711\n",
      "\n",
      "Early stopping, best iteration is:\n",
      "[1]\tvalidation_set's binary_logloss: 0.0494556\n",
      "[6]\tvalidation_set's binary_logloss: 0.0611884\n",
      "[7]\tvalidation_set's binary_logloss: 0.0610918\n",
      "[8]\tvalidation_set's binary_logloss: 0.0612416\n",
      "[1]\tvalidation_set's binary_logloss: 0.0483459\n",
      "Training until validation scores don't improve for 4 rounds"
     ]
    },
    {
     "name": "stderr",
     "output_type": "stream",
     "text": [
      "Found `num_iterations` in params. Will use it instead of argument\n"
     ]
    },
    {
     "name": "stdout",
     "output_type": "stream",
     "text": [
      "\n",
      "[9]\tvalidation_set's binary_logloss: 0.0611429\n"
     ]
    },
    {
     "name": "stderr",
     "output_type": "stream",
     "text": [
      "categorical_feature in Dataset is overridden.\n",
      "New categorical_feature is ['age', 'anticipation', 'change_recent', 'country', 'defeat_recent', 'delayed', 'direct_recent', 'elected', 'election_now', 'election_recent', 'exec_ant', 'exec_recent', 'government', 'indirect_recent', 'irreg_lead_ant', 'lead_recent', 'leg_ant', 'leg_recent', 'male', 'militarycareer', 'month', 'nochange_recent', 'prev_conflict', 'pt_attempt', 'pt_suc', 'ref_ant', 'ref_recent', 'tenure_months', 'victory_recent', 'year']\n"
     ]
    },
    {
     "name": "stdout",
     "output_type": "stream",
     "text": [
      "[2]\tvalidation_set's binary_logloss: 0.0493123Early stopping, best iteration is:\n",
      "[5]\tvalidation_set's binary_logloss: 0.0609711\n",
      "\n",
      "[3]\tvalidation_set's binary_logloss: 0.0500026\n",
      "[4]\tvalidation_set's binary_logloss: 0.050768\n",
      "[5]\tvalidation_set's binary_logloss: 0.0510711\n",
      "Early stopping, best iteration is:\n",
      "[1]\tvalidation_set's binary_logloss: 0.0483459\n"
     ]
    },
    {
     "name": "stderr",
     "output_type": "stream",
     "text": [
      "Found `num_iterations` in params. Will use it instead of argument\n",
      "categorical_feature in Dataset is overridden.\n",
      "New categorical_feature is ['age', 'anticipation', 'change_recent', 'country', 'defeat_recent', 'delayed', 'direct_recent', 'elected', 'election_now', 'election_recent', 'exec_ant', 'exec_recent', 'government', 'indirect_recent', 'irreg_lead_ant', 'lead_recent', 'leg_ant', 'leg_recent', 'male', 'militarycareer', 'month', 'nochange_recent', 'prev_conflict', 'pt_attempt', 'pt_suc', 'ref_ant', 'ref_recent', 'tenure_months', 'victory_recent', 'year']\n",
      "Found `num_iterations` in params. Will use it instead of argument\n",
      "categorical_feature in Dataset is overridden.\n",
      "New categorical_feature is ['age', 'anticipation', 'change_recent', 'country', 'defeat_recent', 'delayed', 'direct_recent', 'elected', 'election_now', 'election_recent', 'exec_ant', 'exec_recent', 'government', 'indirect_recent', 'irreg_lead_ant', 'lead_recent', 'leg_ant', 'leg_recent', 'male', 'militarycareer', 'month', 'nochange_recent', 'prev_conflict', 'pt_attempt', 'pt_suc', 'ref_ant', 'ref_recent', 'tenure_months', 'victory_recent', 'year']\n"
     ]
    },
    {
     "name": "stdout",
     "output_type": "stream",
     "text": [
      "[1]\tvalidation_set's binary_logloss: 0.0487793\n",
      "Training until validation scores don't improve for 4 rounds\n",
      "[2]\tvalidation_set's binary_logloss: 0.0503167\n",
      "[3]\tvalidation_set's binary_logloss: 0.0512452\n",
      "[4]\tvalidation_set's binary_logloss: 0.0524463\n",
      "[5]\tvalidation_set's binary_logloss: 0.053266\n",
      "Early stopping, best iteration is:\n",
      "[1]\tvalidation_set's binary_logloss: 0.0487793\n"
     ]
    },
    {
     "name": "stderr",
     "output_type": "stream",
     "text": [
      "Found `num_iterations` in params. Will use it instead of argument\n",
      "categorical_feature in Dataset is overridden.\n",
      "New categorical_feature is ['age', 'anticipation', 'change_recent', 'country', 'defeat_recent', 'delayed', 'direct_recent', 'elected', 'election_now', 'election_recent', 'exec_ant', 'exec_recent', 'government', 'indirect_recent', 'irreg_lead_ant', 'lead_recent', 'leg_ant', 'leg_recent', 'male', 'militarycareer', 'month', 'nochange_recent', 'prev_conflict', 'pt_attempt', 'pt_suc', 'ref_ant', 'ref_recent', 'tenure_months', 'victory_recent', 'year']\n"
     ]
    },
    {
     "name": "stdout",
     "output_type": "stream",
     "text": [
      "[1]\tvalidation_set's binary_logloss: 0.051246[1]\tvalidation_set's binary_logloss: 0.0597804\n",
      "\n",
      "Training until validation scores don't improve for 4 roundsTraining until validation scores don't improve for 4 rounds\n",
      "\n",
      "[2]\tvalidation_set's binary_logloss: 0.0594451\n",
      "[2]\tvalidation_set's binary_logloss: 0.0525207\n",
      "[3]\tvalidation_set's binary_logloss: 0.0593244[3]\tvalidation_set's binary_logloss: 0.0537359\n",
      "\n",
      "[4]\tvalidation_set's binary_logloss: 0.0543878[4]\tvalidation_set's binary_logloss: 0.0591999\n"
     ]
    },
    {
     "name": "stderr",
     "output_type": "stream",
     "text": [
      "Found `num_iterations` in params. Will use it instead of argument\n"
     ]
    },
    {
     "name": "stdout",
     "output_type": "stream",
     "text": [
      "\n"
     ]
    },
    {
     "name": "stderr",
     "output_type": "stream",
     "text": [
      "categorical_feature in Dataset is overridden.\n",
      "New categorical_feature is ['age', 'anticipation', 'change_recent', 'country', 'defeat_recent', 'delayed', 'direct_recent', 'elected', 'election_now', 'election_recent', 'exec_ant', 'exec_recent', 'government', 'indirect_recent', 'irreg_lead_ant', 'lead_recent', 'leg_ant', 'leg_recent', 'male', 'militarycareer', 'month', 'nochange_recent', 'prev_conflict', 'pt_attempt', 'pt_suc', 'ref_ant', 'ref_recent', 'tenure_months', 'victory_recent', 'year']\n"
     ]
    },
    {
     "name": "stdout",
     "output_type": "stream",
     "text": [
      "[5]\tvalidation_set's binary_logloss: 0.0594507[5]\tvalidation_set's binary_logloss: 0.0550117\n",
      "\n",
      "Early stopping, best iteration is:\n",
      "[1]\tvalidation_set's binary_logloss: 0.051246\n",
      "[6]\tvalidation_set's binary_logloss: 0.0595559\n",
      "[7]\tvalidation_set's binary_logloss: 0.0596122\n",
      "[8]\tvalidation_set's binary_logloss: 0.059688\n",
      "Early stopping, best iteration is:\n",
      "[4]\tvalidation_set's binary_logloss: 0.0591999"
     ]
    },
    {
     "name": "stderr",
     "output_type": "stream",
     "text": [
      "Found `num_iterations` in params. Will use it instead of argument\n"
     ]
    },
    {
     "name": "stdout",
     "output_type": "stream",
     "text": [
      "\n"
     ]
    },
    {
     "name": "stderr",
     "output_type": "stream",
     "text": [
      "categorical_feature in Dataset is overridden.\n",
      "New categorical_feature is ['age', 'anticipation', 'change_recent', 'country', 'defeat_recent', 'delayed', 'direct_recent', 'elected', 'election_now', 'election_recent', 'exec_ant', 'exec_recent', 'government', 'indirect_recent', 'irreg_lead_ant', 'lead_recent', 'leg_ant', 'leg_recent', 'male', 'militarycareer', 'month', 'nochange_recent', 'prev_conflict', 'pt_attempt', 'pt_suc', 'ref_ant', 'ref_recent', 'tenure_months', 'victory_recent', 'year']\n"
     ]
    },
    {
     "name": "stdout",
     "output_type": "stream",
     "text": [
      "[1]\tvalidation_set's binary_logloss: 0.059862\n",
      "Training until validation scores don't improve for 4 rounds\n",
      "[2]\tvalidation_set's binary_logloss: 0.0591852\n",
      "[3]\tvalidation_set's binary_logloss: 0.0592783\n",
      "[4]\tvalidation_set's binary_logloss: 0.0594615\n",
      "[5]\tvalidation_set's binary_logloss: 0.0594195\n",
      "[6]\tvalidation_set's binary_logloss: 0.0594329\n",
      "Early stopping, best iteration is:\n",
      "[2]\tvalidation_set's binary_logloss: 0.0591852\n",
      "[1]\tvalidation_set's binary_logloss: 0.0569554\n",
      "Training until validation scores don't improve for 4 rounds\n",
      "[2]\tvalidation_set's binary_logloss: 0.0576541\n",
      "[3]\tvalidation_set's binary_logloss: 0.0583269\n"
     ]
    },
    {
     "name": "stderr",
     "output_type": "stream",
     "text": [
      "Found `num_iterations` in params. Will use it instead of argument\n",
      "categorical_feature in Dataset is overridden.\n",
      "New categorical_feature is ['age', 'anticipation', 'change_recent', 'country', 'defeat_recent', 'delayed', 'direct_recent', 'elected', 'election_now', 'election_recent', 'exec_ant', 'exec_recent', 'government', 'indirect_recent', 'irreg_lead_ant', 'lead_recent', 'leg_ant', 'leg_recent', 'male', 'militarycareer', 'month', 'nochange_recent', 'prev_conflict', 'pt_attempt', 'pt_suc', 'ref_ant', 'ref_recent', 'tenure_months', 'victory_recent', 'year']\n"
     ]
    },
    {
     "name": "stdout",
     "output_type": "stream",
     "text": [
      "[4]\tvalidation_set's binary_logloss: 0.0588181\n",
      "[1]\tvalidation_set's binary_logloss: 0.0611437[5]\tvalidation_set's binary_logloss: 0.0590907[1]\tvalidation_set's binary_logloss: 0.0565951\n",
      "\n",
      "\n",
      "Early stopping, best iteration is:\n",
      "[1]\tvalidation_set's binary_logloss: 0.0569554Training until validation scores don't improve for 4 roundsTraining until validation scores don't improve for 4 rounds\n",
      "\n",
      "\n",
      "[2]\tvalidation_set's binary_logloss: 0.0578593[2]\tvalidation_set's binary_logloss: 0.0605735\n",
      "\n",
      "[3]\tvalidation_set's binary_logloss: 0.0584327[3]\tvalidation_set's binary_logloss: 0.0605539\n",
      "\n",
      "[4]\tvalidation_set's binary_logloss: 0.0589826[4]\tvalidation_set's binary_logloss: 0.0604977\n",
      "\n",
      "[5]\tvalidation_set's binary_logloss: 0.0593159\n",
      "Early stopping, best iteration is:\n",
      "[1]\tvalidation_set's binary_logloss: 0.0565951[5]\tvalidation_set's binary_logloss: 0.0602367\n",
      "\n",
      "[6]\tvalidation_set's binary_logloss: 0.0603646\n",
      "[7]\tvalidation_set's binary_logloss: 0.0602452\n"
     ]
    },
    {
     "name": "stderr",
     "output_type": "stream",
     "text": [
      "Found `num_iterations` in params. Will use it instead of argument\n",
      "Found `num_iterations` in params. Will use it instead of argument\n",
      "categorical_feature in Dataset is overridden.\n",
      "New categorical_feature is ['age', 'anticipation', 'change_recent', 'country', 'defeat_recent', 'delayed', 'direct_recent', 'elected', 'election_now', 'election_recent', 'exec_ant', 'exec_recent', 'government', 'indirect_recent', 'irreg_lead_ant', 'lead_recent', 'leg_ant', 'leg_recent', 'male', 'militarycareer', 'month', 'nochange_recent', 'prev_conflict', 'pt_attempt', 'pt_suc', 'ref_ant', 'ref_recent', 'tenure_months', 'victory_recent', 'year']\n"
     ]
    },
    {
     "name": "stdout",
     "output_type": "stream",
     "text": [
      "[8]\tvalidation_set's binary_logloss: 0.060278\n",
      "[1]\tvalidation_set's binary_logloss: 0.0570336\n",
      "[9]\tvalidation_set's binary_logloss: 0.0601489Training until validation scores don't improve for 4 rounds\n",
      "\n",
      "[10]\tvalidation_set's binary_logloss: 0.0603052\n",
      "[2]\tvalidation_set's binary_logloss: 0.0571489\n",
      "[11]\tvalidation_set's binary_logloss: 0.0604282[3]\tvalidation_set's binary_logloss: 0.0569174\n",
      "\n",
      "[12]\tvalidation_set's binary_logloss: 0.0604232\n",
      "[4]\tvalidation_set's binary_logloss: 0.0567185\n",
      "[13]\tvalidation_set's binary_logloss: 0.0605586[5]\tvalidation_set's binary_logloss: 0.0570394\n",
      "\n",
      "Early stopping, best iteration is:\n",
      "[9]\tvalidation_set's binary_logloss: 0.0601489\n",
      "[6]\tvalidation_set's binary_logloss: 0.0569084\n",
      "[7]\tvalidation_set's binary_logloss: 0.0569356\n",
      "[1]\tvalidation_set's binary_logloss: 0.051904\n",
      "Training until validation scores don't improve for 4 rounds[8]\tvalidation_set's binary_logloss: 0.0569875\n",
      "\n"
     ]
    },
    {
     "name": "stderr",
     "output_type": "stream",
     "text": [
      "Found `num_iterations` in params. Will use it instead of argument\n",
      "categorical_feature in Dataset is overridden.\n",
      "New categorical_feature is ['age', 'anticipation', 'change_recent', 'country', 'defeat_recent', 'delayed', 'direct_recent', 'elected', 'election_now', 'election_recent', 'exec_ant', 'exec_recent', 'government', 'indirect_recent', 'irreg_lead_ant', 'lead_recent', 'leg_ant', 'leg_recent', 'male', 'militarycareer', 'month', 'nochange_recent', 'prev_conflict', 'pt_attempt', 'pt_suc', 'ref_ant', 'ref_recent', 'tenure_months', 'victory_recent', 'year']\n"
     ]
    },
    {
     "name": "stdout",
     "output_type": "stream",
     "text": [
      "Early stopping, best iteration is:\n",
      "[4]\tvalidation_set's binary_logloss: 0.0567185\n",
      "[2]\tvalidation_set's binary_logloss: 0.0523376\n",
      "[3]\tvalidation_set's binary_logloss: 0.0526762\n",
      "[4]\tvalidation_set's binary_logloss: 0.0532079\n",
      "[5]\tvalidation_set's binary_logloss: 0.0538965[1]\tvalidation_set's binary_logloss: 0.0453858\n",
      "\n",
      "Early stopping, best iteration is:\n",
      "[1]\tvalidation_set's binary_logloss: 0.051904Training until validation scores don't improve for 4 rounds\n",
      "\n",
      "[2]\tvalidation_set's binary_logloss: 0.0463443\n",
      "[3]\tvalidation_set's binary_logloss: 0.0481749\n",
      "[1]\tvalidation_set's binary_logloss: 0.0488088\n",
      "Training until validation scores don't improve for 4 rounds\n",
      "[4]\tvalidation_set's binary_logloss: 0.0490649\n",
      "[2]\tvalidation_set's binary_logloss: 0.0510442[5]\tvalidation_set's binary_logloss: 0.0495538\n",
      "\n",
      "Early stopping, best iteration is:\n",
      "[1]\tvalidation_set's binary_logloss: 0.0453858[3]\tvalidation_set's binary_logloss: 0.0531189\n",
      "\n",
      "[4]\tvalidation_set's binary_logloss: 0.0534424\n"
     ]
    },
    {
     "name": "stderr",
     "output_type": "stream",
     "text": [
      "Found `num_iterations` in params. Will use it instead of argument\n"
     ]
    },
    {
     "name": "stdout",
     "output_type": "stream",
     "text": [
      "[5]\tvalidation_set's binary_logloss: 0.054756"
     ]
    },
    {
     "name": "stderr",
     "output_type": "stream",
     "text": [
      "categorical_feature in Dataset is overridden.\n",
      "New categorical_feature is ['age', 'anticipation', 'change_recent', 'country', 'defeat_recent', 'delayed', 'direct_recent', 'elected', 'election_now', 'election_recent', 'exec_ant', 'exec_recent', 'government', 'indirect_recent', 'irreg_lead_ant', 'lead_recent', 'leg_ant', 'leg_recent', 'male', 'militarycareer', 'month', 'nochange_recent', 'prev_conflict', 'pt_attempt', 'pt_suc', 'ref_ant', 'ref_recent', 'tenure_months', 'victory_recent', 'year']\n"
     ]
    },
    {
     "name": "stdout",
     "output_type": "stream",
     "text": [
      "\n",
      "Early stopping, best iteration is:\n",
      "[1]\tvalidation_set's binary_logloss: 0.0488088\n"
     ]
    },
    {
     "name": "stderr",
     "output_type": "stream",
     "text": [
      "Found `num_iterations` in params. Will use it instead of argument\n",
      "categorical_feature in Dataset is overridden.\n",
      "New categorical_feature is ['age', 'anticipation', 'change_recent', 'country', 'defeat_recent', 'delayed', 'direct_recent', 'elected', 'election_now', 'election_recent', 'exec_ant', 'exec_recent', 'government', 'indirect_recent', 'irreg_lead_ant', 'lead_recent', 'leg_ant', 'leg_recent', 'male', 'militarycareer', 'month', 'nochange_recent', 'prev_conflict', 'pt_attempt', 'pt_suc', 'ref_ant', 'ref_recent', 'tenure_months', 'victory_recent', 'year']\n"
     ]
    },
    {
     "name": "stdout",
     "output_type": "stream",
     "text": [
      "[1]\tvalidation_set's binary_logloss: 0.049268\n",
      "Training until validation scores don't improve for 4 rounds\n",
      "[2]\tvalidation_set's binary_logloss: 0.0503444\n",
      "[3]\tvalidation_set's binary_logloss: 0.0513505\n",
      "[4]\tvalidation_set's binary_logloss: 0.052177\n",
      "[5]\tvalidation_set's binary_logloss: 0.0527879"
     ]
    },
    {
     "name": "stderr",
     "output_type": "stream",
     "text": [
      "Found `num_iterations` in params. Will use it instead of argument\n"
     ]
    },
    {
     "name": "stdout",
     "output_type": "stream",
     "text": [
      "\n"
     ]
    },
    {
     "name": "stderr",
     "output_type": "stream",
     "text": [
      "categorical_feature in Dataset is overridden.\n",
      "New categorical_feature is ['age', 'anticipation', 'change_recent', 'country', 'defeat_recent', 'delayed', 'direct_recent', 'elected', 'election_now', 'election_recent', 'exec_ant', 'exec_recent', 'government', 'indirect_recent', 'irreg_lead_ant', 'lead_recent', 'leg_ant', 'leg_recent', 'male', 'militarycareer', 'month', 'nochange_recent', 'prev_conflict', 'pt_attempt', 'pt_suc', 'ref_ant', 'ref_recent', 'tenure_months', 'victory_recent', 'year']\n"
     ]
    },
    {
     "name": "stdout",
     "output_type": "stream",
     "text": [
      "Early stopping, best iteration is:\n",
      "[1]\tvalidation_set's binary_logloss: 0.049268\n",
      "[1]\tvalidation_set's binary_logloss: 0.0441836\n",
      "Training until validation scores don't improve for 4 rounds\n",
      "[2]\tvalidation_set's binary_logloss: 0.0454322\n",
      "[3]\tvalidation_set's binary_logloss: 0.045466\n",
      "[4]\tvalidation_set's binary_logloss: 0.0458701\n",
      "[5]\tvalidation_set's binary_logloss: 0.0464319\n"
     ]
    },
    {
     "name": "stderr",
     "output_type": "stream",
     "text": [
      "Found `num_iterations` in params. Will use it instead of argument\n"
     ]
    },
    {
     "name": "stdout",
     "output_type": "stream",
     "text": [
      "Early stopping, best iteration is:\n",
      "[1]\tvalidation_set's binary_logloss: 0.0441836\n"
     ]
    },
    {
     "name": "stderr",
     "output_type": "stream",
     "text": [
      "categorical_feature in Dataset is overridden.\n",
      "New categorical_feature is ['age', 'anticipation', 'change_recent', 'country', 'defeat_recent', 'delayed', 'direct_recent', 'elected', 'election_now', 'election_recent', 'exec_ant', 'exec_recent', 'government', 'indirect_recent', 'irreg_lead_ant', 'lead_recent', 'leg_ant', 'leg_recent', 'male', 'militarycareer', 'month', 'nochange_recent', 'prev_conflict', 'pt_attempt', 'pt_suc', 'ref_ant', 'ref_recent', 'tenure_months', 'victory_recent', 'year']\n"
     ]
    },
    {
     "name": "stdout",
     "output_type": "stream",
     "text": [
      "[1]\tvalidation_set's binary_logloss: 0.058022\n"
     ]
    },
    {
     "name": "stderr",
     "output_type": "stream",
     "text": [
      "Found `num_iterations` in params. Will use it instead of argument\n"
     ]
    },
    {
     "name": "stdout",
     "output_type": "stream",
     "text": [
      "Training until validation scores don't improve for 4 rounds"
     ]
    },
    {
     "name": "stderr",
     "output_type": "stream",
     "text": [
      "categorical_feature in Dataset is overridden.\n",
      "New categorical_feature is ['age', 'anticipation', 'change_recent', 'country', 'defeat_recent', 'delayed', 'direct_recent', 'elected', 'election_now', 'election_recent', 'exec_ant', 'exec_recent', 'government', 'indirect_recent', 'irreg_lead_ant', 'lead_recent', 'leg_ant', 'leg_recent', 'male', 'militarycareer', 'month', 'nochange_recent', 'prev_conflict', 'pt_attempt', 'pt_suc', 'ref_ant', 'ref_recent', 'tenure_months', 'victory_recent', 'year']\n"
     ]
    },
    {
     "name": "stdout",
     "output_type": "stream",
     "text": [
      "\n",
      "[2]\tvalidation_set's binary_logloss: 0.0582307\n",
      "[3]\tvalidation_set's binary_logloss: 0.0599232\n",
      "[4]\tvalidation_set's binary_logloss: 0.0602423[1]\tvalidation_set's binary_logloss: 0.044893\n",
      "\n",
      "Training until validation scores don't improve for 4 rounds\n",
      "[5]\tvalidation_set's binary_logloss: 0.0613303\n",
      "[2]\tvalidation_set's binary_logloss: 0.0447734Early stopping, best iteration is:\n",
      "[1]\tvalidation_set's binary_logloss: 0.058022\n",
      "\n",
      "[3]\tvalidation_set's binary_logloss: 0.0449765"
     ]
    },
    {
     "name": "stderr",
     "output_type": "stream",
     "text": [
      "Found `num_iterations` in params. Will use it instead of argument\n"
     ]
    },
    {
     "name": "stdout",
     "output_type": "stream",
     "text": [
      "\n"
     ]
    },
    {
     "name": "stderr",
     "output_type": "stream",
     "text": [
      "categorical_feature in Dataset is overridden.\n",
      "New categorical_feature is ['age', 'anticipation', 'change_recent', 'country', 'defeat_recent', 'delayed', 'direct_recent', 'elected', 'election_now', 'election_recent', 'exec_ant', 'exec_recent', 'government', 'indirect_recent', 'irreg_lead_ant', 'lead_recent', 'leg_ant', 'leg_recent', 'male', 'militarycareer', 'month', 'nochange_recent', 'prev_conflict', 'pt_attempt', 'pt_suc', 'ref_ant', 'ref_recent', 'tenure_months', 'victory_recent', 'year']\n"
     ]
    },
    {
     "name": "stdout",
     "output_type": "stream",
     "text": [
      "[4]\tvalidation_set's binary_logloss: 0.045398\n",
      "[5]\tvalidation_set's binary_logloss: 0.0456124\n",
      "[6]\tvalidation_set's binary_logloss: 0.0457573\n",
      "Early stopping, best iteration is:\n",
      "[2]\tvalidation_set's binary_logloss: 0.0447734\n",
      "[1]\tvalidation_set's binary_logloss: 0.0476336\n",
      "Training until validation scores don't improve for 4 rounds\n",
      "[2]\tvalidation_set's binary_logloss: 0.048341\n",
      "[3]\tvalidation_set's binary_logloss: 0.0497212\n",
      "[4]\tvalidation_set's binary_logloss: 0.0503252\n",
      "[5]\tvalidation_set's binary_logloss: 0.0508284\n",
      "Early stopping, best iteration is:\n",
      "[1]\tvalidation_set's binary_logloss: 0.0476336\n"
     ]
    },
    {
     "name": "stderr",
     "output_type": "stream",
     "text": [
      "Found `num_iterations` in params. Will use it instead of argument\n",
      "categorical_feature in Dataset is overridden.\n",
      "New categorical_feature is ['age', 'anticipation', 'change_recent', 'country', 'defeat_recent', 'delayed', 'direct_recent', 'elected', 'election_now', 'election_recent', 'exec_ant', 'exec_recent', 'government', 'indirect_recent', 'irreg_lead_ant', 'lead_recent', 'leg_ant', 'leg_recent', 'male', 'militarycareer', 'month', 'nochange_recent', 'prev_conflict', 'pt_attempt', 'pt_suc', 'ref_ant', 'ref_recent', 'tenure_months', 'victory_recent', 'year']\n",
      "categorical_feature in Dataset is overridden.\n",
      "New categorical_feature is ['age', 'anticipation', 'change_recent', 'country', 'defeat_recent', 'delayed', 'direct_recent', 'elected', 'election_now', 'election_recent', 'exec_ant', 'exec_recent', 'government', 'indirect_recent', 'irreg_lead_ant', 'lead_recent', 'leg_ant', 'leg_recent', 'male', 'militarycareer', 'month', 'nochange_recent', 'prev_conflict', 'pt_attempt', 'pt_suc', 'ref_ant', 'ref_recent', 'tenure_months', 'victory_recent', 'year']\n"
     ]
    },
    {
     "name": "stdout",
     "output_type": "stream",
     "text": [
      "[1]\tvalidation_set's binary_logloss: 0.0576171\n",
      "Training until validation scores don't improve for 4 rounds\n"
     ]
    },
    {
     "name": "stderr",
     "output_type": "stream",
     "text": [
      "Found `num_iterations` in params. Will use it instead of argument\n",
      "categorical_feature in Dataset is overridden.\n",
      "New categorical_feature is ['age', 'anticipation', 'change_recent', 'country', 'defeat_recent', 'delayed', 'direct_recent', 'elected', 'election_now', 'election_recent', 'exec_ant', 'exec_recent', 'government', 'indirect_recent', 'irreg_lead_ant', 'lead_recent', 'leg_ant', 'leg_recent', 'male', 'militarycareer', 'month', 'nochange_recent', 'prev_conflict', 'pt_attempt', 'pt_suc', 'ref_ant', 'ref_recent', 'tenure_months', 'victory_recent', 'year']\n"
     ]
    },
    {
     "name": "stdout",
     "output_type": "stream",
     "text": [
      "[2]\tvalidation_set's binary_logloss: 0.0576248[1]\tvalidation_set's binary_logloss: 0.0491743\n",
      "\n",
      "[1]\tvalidation_set's binary_logloss: 0.0519139Training until validation scores don't improve for 4 rounds\n",
      "\n",
      "[3]\tvalidation_set's binary_logloss: 0.0581898Training until validation scores don't improve for 4 rounds\n",
      "[2]\tvalidation_set's binary_logloss: 0.0504852\n",
      "[4]\tvalidation_set's binary_logloss: 0.0579581\n",
      "\n",
      "[2]\tvalidation_set's binary_logloss: 0.0526598\n",
      "[3]\tvalidation_set's binary_logloss: 0.0522354[5]\tvalidation_set's binary_logloss: 0.0582276\n",
      "\n",
      "[3]\tvalidation_set's binary_logloss: 0.0538684Early stopping, best iteration is:\n",
      "[1]\tvalidation_set's binary_logloss: 0.0576171\n",
      "\n",
      "[4]\tvalidation_set's binary_logloss: 0.0520251\n",
      "[4]\tvalidation_set's binary_logloss: 0.05487\n",
      "[5]\tvalidation_set's binary_logloss: 0.0530773\n",
      "Early stopping, best iteration is:\n",
      "[1]\tvalidation_set's binary_logloss: 0.0491743[5]\tvalidation_set's binary_logloss: 0.0553735\n",
      "\n",
      "Early stopping, best iteration is:\n",
      "[1]\tvalidation_set's binary_logloss: 0.0519139\n"
     ]
    },
    {
     "name": "stderr",
     "output_type": "stream",
     "text": [
      "Found `num_iterations` in params. Will use it instead of argument\n",
      "categorical_feature in Dataset is overridden.\n",
      "New categorical_feature is ['age', 'anticipation', 'change_recent', 'country', 'defeat_recent', 'delayed', 'direct_recent', 'elected', 'election_now', 'election_recent', 'exec_ant', 'exec_recent', 'government', 'indirect_recent', 'irreg_lead_ant', 'lead_recent', 'leg_ant', 'leg_recent', 'male', 'militarycareer', 'month', 'nochange_recent', 'prev_conflict', 'pt_attempt', 'pt_suc', 'ref_ant', 'ref_recent', 'tenure_months', 'victory_recent', 'year']\n",
      "Found `num_iterations` in params. Will use it instead of argument\n",
      "categorical_feature in Dataset is overridden.\n",
      "New categorical_feature is ['age', 'anticipation', 'change_recent', 'country', 'defeat_recent', 'delayed', 'direct_recent', 'elected', 'election_now', 'election_recent', 'exec_ant', 'exec_recent', 'government', 'indirect_recent', 'irreg_lead_ant', 'lead_recent', 'leg_ant', 'leg_recent', 'male', 'militarycareer', 'month', 'nochange_recent', 'prev_conflict', 'pt_attempt', 'pt_suc', 'ref_ant', 'ref_recent', 'tenure_months', 'victory_recent', 'year']\n",
      "categorical_feature in Dataset is overridden.\n",
      "New categorical_feature is ['age', 'anticipation', 'change_recent', 'country', 'defeat_recent', 'delayed', 'direct_recent', 'elected', 'election_now', 'election_recent', 'exec_ant', 'exec_recent', 'government', 'indirect_recent', 'irreg_lead_ant', 'lead_recent', 'leg_ant', 'leg_recent', 'male', 'militarycareer', 'month', 'nochange_recent', 'prev_conflict', 'pt_attempt', 'pt_suc', 'ref_ant', 'ref_recent', 'tenure_months', 'victory_recent', 'year']\n"
     ]
    },
    {
     "name": "stdout",
     "output_type": "stream",
     "text": [
      "[1]\tvalidation_set's binary_logloss: 0.059897\n",
      "Training until validation scores don't improve for 4 rounds\n",
      "[2]\tvalidation_set's binary_logloss: 0.0593985\n",
      "[3]\tvalidation_set's binary_logloss: 0.0590143\n",
      "[4]\tvalidation_set's binary_logloss: 0.0587728[1]\tvalidation_set's binary_logloss: 0.0536602"
     ]
    },
    {
     "name": "stderr",
     "output_type": "stream",
     "text": [
      "Found `num_iterations` in params. Will use it instead of argument\n"
     ]
    },
    {
     "name": "stdout",
     "output_type": "stream",
     "text": [
      "\n",
      "\n",
      "Training until validation scores don't improve for 4 rounds\n",
      "[5]\tvalidation_set's binary_logloss: 0.0589669[2]\tvalidation_set's binary_logloss: 0.0536419\n",
      "\n",
      "[3]\tvalidation_set's binary_logloss: 0.0541491[6]\tvalidation_set's binary_logloss: 0.0589952\n",
      "\n",
      "[4]\tvalidation_set's binary_logloss: 0.0546153[7]\tvalidation_set's binary_logloss: 0.0588734\n",
      "\n",
      "[5]\tvalidation_set's binary_logloss: 0.0554232\n",
      "[8]\tvalidation_set's binary_logloss: 0.0588574\n",
      "[6]\tvalidation_set's binary_logloss: 0.0558186Early stopping, best iteration is:\n",
      "[4]\tvalidation_set's binary_logloss: 0.0587728\n",
      "\n",
      "Early stopping, best iteration is:\n",
      "[2]\tvalidation_set's binary_logloss: 0.0536419\n",
      "[1]\tvalidation_set's binary_logloss: 0.0541168\n",
      "Training until validation scores don't improve for 4 rounds"
     ]
    },
    {
     "name": "stderr",
     "output_type": "stream",
     "text": [
      "Found `num_iterations` in params. Will use it instead of argument\n"
     ]
    },
    {
     "name": "stdout",
     "output_type": "stream",
     "text": [
      "\n"
     ]
    },
    {
     "name": "stderr",
     "output_type": "stream",
     "text": [
      "categorical_feature in Dataset is overridden.\n",
      "New categorical_feature is ['age', 'anticipation', 'change_recent', 'country', 'defeat_recent', 'delayed', 'direct_recent', 'elected', 'election_now', 'election_recent', 'exec_ant', 'exec_recent', 'government', 'indirect_recent', 'irreg_lead_ant', 'lead_recent', 'leg_ant', 'leg_recent', 'male', 'militarycareer', 'month', 'nochange_recent', 'prev_conflict', 'pt_attempt', 'pt_suc', 'ref_ant', 'ref_recent', 'tenure_months', 'victory_recent', 'year']\n"
     ]
    },
    {
     "name": "stdout",
     "output_type": "stream",
     "text": [
      "[2]\tvalidation_set's binary_logloss: 0.054688\n",
      "[3]\tvalidation_set's binary_logloss: 0.0553047\n",
      "[4]\tvalidation_set's binary_logloss: 0.055717\n",
      "[5]\tvalidation_set's binary_logloss: 0.0561698\n",
      "Early stopping, best iteration is:\n",
      "[1]\tvalidation_set's binary_logloss: 0.0541168\n",
      "[1]\tvalidation_set's binary_logloss: 0.0629111\n",
      "Training until validation scores don't improve for 4 rounds\n",
      "[2]\tvalidation_set's binary_logloss: 0.0623479\n",
      "[3]\tvalidation_set's binary_logloss: 0.0617718\n",
      "[4]\tvalidation_set's binary_logloss: 0.0614993\n",
      "[5]\tvalidation_set's binary_logloss: 0.061115[1]\tvalidation_set's binary_logloss: 0.0534965\n",
      "\n",
      "Training until validation scores don't improve for 4 rounds\n",
      "[6]\tvalidation_set's binary_logloss: 0.060968\n",
      "[2]\tvalidation_set's binary_logloss: 0.0539805\n",
      "[7]\tvalidation_set's binary_logloss: 0.0608815\n",
      "[3]\tvalidation_set's binary_logloss: 0.0545716[8]\tvalidation_set's binary_logloss: 0.0608764\n",
      "\n",
      "[4]\tvalidation_set's binary_logloss: 0.0547944\n",
      "[9]\tvalidation_set's binary_logloss: 0.0606884[5]\tvalidation_set's binary_logloss: 0.0551379\n",
      "Early stopping, best iteration is:\n",
      "[1]\tvalidation_set's binary_logloss: 0.0534965\n",
      "\n",
      "[10]\tvalidation_set's binary_logloss: 0.0607983\n"
     ]
    },
    {
     "name": "stderr",
     "output_type": "stream",
     "text": [
      "Found `num_iterations` in params. Will use it instead of argument\n",
      "categorical_feature in Dataset is overridden.\n",
      "New categorical_feature is ['age', 'anticipation', 'change_recent', 'country', 'defeat_recent', 'delayed', 'direct_recent', 'elected', 'election_now', 'election_recent', 'exec_ant', 'exec_recent', 'government', 'indirect_recent', 'irreg_lead_ant', 'lead_recent', 'leg_ant', 'leg_recent', 'male', 'militarycareer', 'month', 'nochange_recent', 'prev_conflict', 'pt_attempt', 'pt_suc', 'ref_ant', 'ref_recent', 'tenure_months', 'victory_recent', 'year']\n"
     ]
    },
    {
     "name": "stdout",
     "output_type": "stream",
     "text": [
      "[11]\tvalidation_set's binary_logloss: 0.0606497\n",
      "[12]\tvalidation_set's binary_logloss: 0.0606321\n",
      "[13]\tvalidation_set's binary_logloss: 0.0606268\n",
      "[14]\tvalidation_set's binary_logloss: 0.0607051\n",
      "[15]\tvalidation_set's binary_logloss: 0.0607053\n",
      "[16]\tvalidation_set's binary_logloss: 0.0607377\n",
      "[17]\tvalidation_set's binary_logloss: 0.0607852\n",
      "Early stopping, best iteration is:\n",
      "[13]\tvalidation_set's binary_logloss: 0.0606268\n",
      "[1]\tvalidation_set's binary_logloss: 0.0558638\n",
      "Training until validation scores don't improve for 4 rounds\n",
      "[2]\tvalidation_set's binary_logloss: 0.0551039\n",
      "[3]\tvalidation_set's binary_logloss: 0.0549147\n",
      "[1]\tvalidation_set's binary_logloss: 0.0606672\n",
      "Training until validation scores don't improve for 4 rounds\n",
      "[4]\tvalidation_set's binary_logloss: 0.0548258\n",
      "[2]\tvalidation_set's binary_logloss: 0.0602671\n",
      "[5]\tvalidation_set's binary_logloss: 0.0549068"
     ]
    },
    {
     "name": "stderr",
     "output_type": "stream",
     "text": [
      "Found `num_iterations` in params. Will use it instead of argument\n"
     ]
    },
    {
     "name": "stdout",
     "output_type": "stream",
     "text": [
      "[1]\tvalidation_set's binary_logloss: 0.0484091\n"
     ]
    },
    {
     "name": "stderr",
     "output_type": "stream",
     "text": [
      "categorical_feature in Dataset is overridden.\n",
      "New categorical_feature is ['age', 'anticipation', 'change_recent', 'country', 'defeat_recent', 'delayed', 'direct_recent', 'elected', 'election_now', 'election_recent', 'exec_ant', 'exec_recent', 'government', 'indirect_recent', 'irreg_lead_ant', 'lead_recent', 'leg_ant', 'leg_recent', 'male', 'militarycareer', 'month', 'nochange_recent', 'prev_conflict', 'pt_attempt', 'pt_suc', 'ref_ant', 'ref_recent', 'tenure_months', 'victory_recent', 'year']\n"
     ]
    },
    {
     "name": "stdout",
     "output_type": "stream",
     "text": [
      "[3]\tvalidation_set's binary_logloss: 0.0603497\n",
      "[1]\tvalidation_set's binary_logloss: 0.0699691\n",
      "Training until validation scores don't improve for 4 rounds\n",
      "\n",
      "Training until validation scores don't improve for 4 rounds\n",
      "[2]\tvalidation_set's binary_logloss: 0.049979[6]\tvalidation_set's binary_logloss: 0.0550001\n",
      "[4]\tvalidation_set's binary_logloss: 0.0602828\n",
      "\n",
      "[2]\tvalidation_set's binary_logloss: 0.0679603\n",
      "[3]\tvalidation_set's binary_logloss: 0.0515393[5]\tvalidation_set's binary_logloss: 0.0604203[7]\tvalidation_set's binary_logloss: 0.0550539\n",
      "\n",
      "[3]\tvalidation_set's binary_logloss: 0.0669422\n",
      "\n"
     ]
    },
    {
     "name": "stderr",
     "output_type": "stream",
     "text": [
      "Found `num_iterations` in params. Will use it instead of argument\n"
     ]
    },
    {
     "name": "stdout",
     "output_type": "stream",
     "text": [
      "[4]\tvalidation_set's binary_logloss: 0.0520948[8]\tvalidation_set's binary_logloss: 0.0553393[4]\tvalidation_set's binary_logloss: 0.0662242[6]\tvalidation_set's binary_logloss: 0.0605254\n",
      "\n",
      "[1]\tvalidation_set's binary_logloss: 0.0601475\n",
      "\n",
      "Early stopping, best iteration is:\n",
      "[4]\tvalidation_set's binary_logloss: 0.0548258Early stopping, best iteration is:\n",
      "[2]\tvalidation_set's binary_logloss: 0.0602671\n",
      "\n",
      "Training until validation scores don't improve for 4 rounds[5]\tvalidation_set's binary_logloss: 0.0526938\n",
      "\n",
      "\n",
      "[5]\tvalidation_set's binary_logloss: 0.0657276Early stopping, best iteration is:\n",
      "[1]\tvalidation_set's binary_logloss: 0.0484091\n",
      "[2]\tvalidation_set's binary_logloss: 0.0597071\n",
      "\n",
      "[3]\tvalidation_set's binary_logloss: 0.0597775[6]\tvalidation_set's binary_logloss: 0.0653126\n",
      "\n",
      "[4]\tvalidation_set's binary_logloss: 0.0596545\n",
      "[7]\tvalidation_set's binary_logloss: 0.0648138\n",
      "[5]\tvalidation_set's binary_logloss: 0.0596659\n",
      "[8]\tvalidation_set's binary_logloss: 0.0643937[6]\tvalidation_set's binary_logloss: 0.0596835\n",
      "\n"
     ]
    },
    {
     "name": "stderr",
     "output_type": "stream",
     "text": [
      "Found `num_iterations` in params. Will use it instead of argument\n",
      "categorical_feature in Dataset is overridden.\n",
      "New categorical_feature is ['age', 'anticipation', 'change_recent', 'country', 'defeat_recent', 'delayed', 'direct_recent', 'elected', 'election_now', 'election_recent', 'exec_ant', 'exec_recent', 'government', 'indirect_recent', 'irreg_lead_ant', 'lead_recent', 'leg_ant', 'leg_recent', 'male', 'militarycareer', 'month', 'nochange_recent', 'prev_conflict', 'pt_attempt', 'pt_suc', 'ref_ant', 'ref_recent', 'tenure_months', 'victory_recent', 'year']\n"
     ]
    },
    {
     "name": "stdout",
     "output_type": "stream",
     "text": [
      "[7]\tvalidation_set's binary_logloss: 0.0597291[9]\tvalidation_set's binary_logloss: 0.0641403\n",
      "\n",
      "[8]\tvalidation_set's binary_logloss: 0.0599843[10]\tvalidation_set's binary_logloss: 0.0638459\n",
      "\n",
      "[11]\tvalidation_set's binary_logloss: 0.0636799Early stopping, best iteration is:\n",
      "[4]\tvalidation_set's binary_logloss: 0.0596545\n",
      "\n",
      "[12]\tvalidation_set's binary_logloss: 0.0634942\n",
      "[13]\tvalidation_set's binary_logloss: 0.0633625\n",
      "[14]\tvalidation_set's binary_logloss: 0.0632574\n",
      "[15]\tvalidation_set's binary_logloss: 0.0630012\n",
      "[16]\tvalidation_set's binary_logloss: 0.0629491\n",
      "[1]\tvalidation_set's binary_logloss: 0.0560661\n",
      "Training until validation scores don't improve for 4 rounds[17]\tvalidation_set's binary_logloss: 0.0628982\n",
      "\n",
      "[2]\tvalidation_set's binary_logloss: 0.0569084\n",
      "[18]\tvalidation_set's binary_logloss: 0.0628985\n",
      "[3]\tvalidation_set's binary_logloss: 0.06044[19]\tvalidation_set's binary_logloss: 0.0627797\n",
      "\n",
      "[4]\tvalidation_set's binary_logloss: 0.0638681\n",
      "[5]\tvalidation_set's binary_logloss: 0.0664282[20]\tvalidation_set's binary_logloss: 0.0627798\n",
      "\n",
      "Early stopping, best iteration is:\n",
      "[1]\tvalidation_set's binary_logloss: 0.0560661\n",
      "[1]\tvalidation_set's binary_logloss: 0.0621942[21]\tvalidation_set's binary_logloss: 0.0627255\n",
      "\n"
     ]
    },
    {
     "name": "stderr",
     "output_type": "stream",
     "text": [
      "Found `num_iterations` in params. Will use it instead of argument\n"
     ]
    },
    {
     "name": "stdout",
     "output_type": "stream",
     "text": [
      "Training until validation scores don't improve for 4 rounds"
     ]
    },
    {
     "name": "stderr",
     "output_type": "stream",
     "text": [
      "categorical_feature in Dataset is overridden.\n",
      "New categorical_feature is ['age', 'anticipation', 'change_recent', 'country', 'defeat_recent', 'delayed', 'direct_recent', 'elected', 'election_now', 'election_recent', 'exec_ant', 'exec_recent', 'government', 'indirect_recent', 'irreg_lead_ant', 'lead_recent', 'leg_ant', 'leg_recent', 'male', 'militarycareer', 'month', 'nochange_recent', 'prev_conflict', 'pt_attempt', 'pt_suc', 'ref_ant', 'ref_recent', 'tenure_months', 'victory_recent', 'year']\n"
     ]
    },
    {
     "name": "stdout",
     "output_type": "stream",
     "text": [
      "\n",
      "[22]\tvalidation_set's binary_logloss: 0.062543\n",
      "[2]\tvalidation_set's binary_logloss: 0.0620722\n",
      "[23]\tvalidation_set's binary_logloss: 0.0625394\n",
      "[3]\tvalidation_set's binary_logloss: 0.0615613[24]\tvalidation_set's binary_logloss: 0.062512\n",
      "\n",
      "[4]\tvalidation_set's binary_logloss: 0.0612185[25]\tvalidation_set's binary_logloss: 0.0624275\n",
      "\n"
     ]
    },
    {
     "name": "stderr",
     "output_type": "stream",
     "text": [
      "Found `num_iterations` in params. Will use it instead of argument\n",
      "categorical_feature in Dataset is overridden.\n",
      "New categorical_feature is ['age', 'anticipation', 'change_recent', 'country', 'defeat_recent', 'delayed', 'direct_recent', 'elected', 'election_now', 'election_recent', 'exec_ant', 'exec_recent', 'government', 'indirect_recent', 'irreg_lead_ant', 'lead_recent', 'leg_ant', 'leg_recent', 'male', 'militarycareer', 'month', 'nochange_recent', 'prev_conflict', 'pt_attempt', 'pt_suc', 'ref_ant', 'ref_recent', 'tenure_months', 'victory_recent', 'year']\n"
     ]
    },
    {
     "name": "stdout",
     "output_type": "stream",
     "text": [
      "[5]\tvalidation_set's binary_logloss: 0.0608104\n",
      "[26]\tvalidation_set's binary_logloss: 0.0623121\n",
      "[27]\tvalidation_set's binary_logloss: 0.0623068[6]\tvalidation_set's binary_logloss: 0.0607892\n",
      "\n"
     ]
    },
    {
     "name": "stderr",
     "output_type": "stream",
     "text": [
      "Found `num_iterations` in params. Will use it instead of argument\n"
     ]
    },
    {
     "name": "stdout",
     "output_type": "stream",
     "text": [
      "[28]\tvalidation_set's binary_logloss: 0.062332"
     ]
    },
    {
     "name": "stderr",
     "output_type": "stream",
     "text": [
      "categorical_feature in Dataset is overridden.\n",
      "New categorical_feature is ['age', 'anticipation', 'change_recent', 'country', 'defeat_recent', 'delayed', 'direct_recent', 'elected', 'election_now', 'election_recent', 'exec_ant', 'exec_recent', 'government', 'indirect_recent', 'irreg_lead_ant', 'lead_recent', 'leg_ant', 'leg_recent', 'male', 'militarycareer', 'month', 'nochange_recent', 'prev_conflict', 'pt_attempt', 'pt_suc', 'ref_ant', 'ref_recent', 'tenure_months', 'victory_recent', 'year']\n"
     ]
    },
    {
     "name": "stdout",
     "output_type": "stream",
     "text": [
      "\n",
      "[7]\tvalidation_set's binary_logloss: 0.0606666\n",
      "[29]\tvalidation_set's binary_logloss: 0.0623439\n",
      "[8]\tvalidation_set's binary_logloss: 0.0606653\n",
      "[30]\tvalidation_set's binary_logloss: 0.0622608\n",
      "[31]\tvalidation_set's binary_logloss: 0.0622546[9]\tvalidation_set's binary_logloss: 0.0608215[1]\tvalidation_set's binary_logloss: 0.0569045\n",
      "\n",
      "\n",
      "Training until validation scores don't improve for 4 rounds\n",
      "[32]\tvalidation_set's binary_logloss: 0.0623074[10]\tvalidation_set's binary_logloss: 0.0607466[2]\tvalidation_set's binary_logloss: 0.0564245\n",
      "\n",
      "\n",
      "[11]\tvalidation_set's binary_logloss: 0.060701[33]\tvalidation_set's binary_logloss: 0.0623286[3]\tvalidation_set's binary_logloss: 0.0566502\n",
      "\n",
      "\n",
      "[12]\tvalidation_set's binary_logloss: 0.0606586[4]\tvalidation_set's binary_logloss: 0.0565497[34]\tvalidation_set's binary_logloss: 0.0623056\n",
      "\n",
      "\n",
      "[13]\tvalidation_set's binary_logloss: 0.0607298[5]\tvalidation_set's binary_logloss: 0.0564544[35]\tvalidation_set's binary_logloss: 0.0623435\n",
      "\n",
      "\n",
      "Early stopping, best iteration is:\n",
      "[31]\tvalidation_set's binary_logloss: 0.0622546\n",
      "[14]\tvalidation_set's binary_logloss: 0.0607244[6]\tvalidation_set's binary_logloss: 0.0565182[1]\tvalidation_set's binary_logloss: 0.0487445\n",
      "\n",
      "\n",
      "Training until validation scores don't improve for 4 roundsEarly stopping, best iteration is:\n",
      "[2]\tvalidation_set's binary_logloss: 0.0564245\n",
      "\n",
      "[15]\tvalidation_set's binary_logloss: 0.0608365\n",
      "[2]\tvalidation_set's binary_logloss: 0.0501328\n",
      "[16]\tvalidation_set's binary_logloss: 0.0608557\n",
      "Early stopping, best iteration is:\n",
      "[12]\tvalidation_set's binary_logloss: 0.0606586\n"
     ]
    },
    {
     "name": "stderr",
     "output_type": "stream",
     "text": [
      "Found `num_iterations` in params. Will use it instead of argument\n",
      "categorical_feature in Dataset is overridden.\n",
      "New categorical_feature is ['age', 'anticipation', 'change_recent', 'country', 'defeat_recent', 'delayed', 'direct_recent', 'elected', 'election_now', 'election_recent', 'exec_ant', 'exec_recent', 'government', 'indirect_recent', 'irreg_lead_ant', 'lead_recent', 'leg_ant', 'leg_recent', 'male', 'militarycareer', 'month', 'nochange_recent', 'prev_conflict', 'pt_attempt', 'pt_suc', 'ref_ant', 'ref_recent', 'tenure_months', 'victory_recent', 'year']\n"
     ]
    },
    {
     "name": "stdout",
     "output_type": "stream",
     "text": [
      "[3]\tvalidation_set's binary_logloss: 0.0516081\n",
      "[4]\tvalidation_set's binary_logloss: 0.0523902\n",
      "[5]\tvalidation_set's binary_logloss: 0.053499\n",
      "Early stopping, best iteration is:\n",
      "[1]\tvalidation_set's binary_logloss: 0.0487445\n",
      "[1]\tvalidation_set's binary_logloss: 0.0458859\n",
      "Training until validation scores don't improve for 4 rounds\n",
      "[2]\tvalidation_set's binary_logloss: 0.0465045\n",
      "[1]\tvalidation_set's binary_logloss: 0.062279\n",
      "[3]\tvalidation_set's binary_logloss: 0.0466324\n",
      "Training until validation scores don't improve for 4 rounds[4]\tvalidation_set's binary_logloss: 0.0466724\n",
      "\n",
      "[2]\tvalidation_set's binary_logloss: 0.0617845\n",
      "[5]\tvalidation_set's binary_logloss: 0.0466649\n",
      "Early stopping, best iteration is:\n",
      "[1]\tvalidation_set's binary_logloss: 0.0458859\n",
      "[3]\tvalidation_set's binary_logloss: 0.06152\n",
      "[1]\tvalidation_set's binary_logloss: 0.0619677\n",
      "[4]\tvalidation_set's binary_logloss: 0.0613166Training until validation scores don't improve for 4 rounds\n",
      "\n",
      "[1]\tvalidation_set's binary_logloss: 0.0497974[5]\tvalidation_set's binary_logloss: 0.061121[2]\tvalidation_set's binary_logloss: 0.0583409\n",
      "\n",
      "\n",
      "Training until validation scores don't improve for 4 rounds\n",
      "[2]\tvalidation_set's binary_logloss: 0.0498211[6]\tvalidation_set's binary_logloss: 0.0609406\n",
      "[3]\tvalidation_set's binary_logloss: 0.0568859\n",
      "\n",
      "[3]\tvalidation_set's binary_logloss: 0.0500721[4]\tvalidation_set's binary_logloss: 0.0559035\n",
      "[7]\tvalidation_set's binary_logloss: 0.0608084\n",
      "\n",
      "[4]\tvalidation_set's binary_logloss: 0.050283\n",
      "[5]\tvalidation_set's binary_logloss: 0.050433[5]\tvalidation_set's binary_logloss: 0.0551228[8]\tvalidation_set's binary_logloss: 0.060703\n",
      "\n"
     ]
    },
    {
     "name": "stderr",
     "output_type": "stream",
     "text": [
      "Found `num_iterations` in params. Will use it instead of argument\n"
     ]
    },
    {
     "name": "stdout",
     "output_type": "stream",
     "text": [
      "\n",
      "Early stopping, best iteration is:\n",
      "[1]\tvalidation_set's binary_logloss: 0.0497974"
     ]
    },
    {
     "name": "stderr",
     "output_type": "stream",
     "text": [
      "categorical_feature in Dataset is overridden.\n",
      "New categorical_feature is ['age', 'anticipation', 'change_recent', 'country', 'defeat_recent', 'delayed', 'direct_recent', 'elected', 'election_now', 'election_recent', 'exec_ant', 'exec_recent', 'government', 'indirect_recent', 'irreg_lead_ant', 'lead_recent', 'leg_ant', 'leg_recent', 'male', 'militarycareer', 'month', 'nochange_recent', 'prev_conflict', 'pt_attempt', 'pt_suc', 'ref_ant', 'ref_recent', 'tenure_months', 'victory_recent', 'year']\n"
     ]
    },
    {
     "name": "stdout",
     "output_type": "stream",
     "text": [
      "\n",
      "[9]\tvalidation_set's binary_logloss: 0.0606398[6]\tvalidation_set's binary_logloss: 0.0544061\n",
      "\n",
      "[10]\tvalidation_set's binary_logloss: 0.0604789[7]\tvalidation_set's binary_logloss: 0.0538378\n",
      "\n"
     ]
    },
    {
     "name": "stderr",
     "output_type": "stream",
     "text": [
      "Found `num_iterations` in params. Will use it instead of argument\n",
      "categorical_feature in Dataset is overridden.\n",
      "New categorical_feature is ['age', 'anticipation', 'change_recent', 'country', 'defeat_recent', 'delayed', 'direct_recent', 'elected', 'election_now', 'election_recent', 'exec_ant', 'exec_recent', 'government', 'indirect_recent', 'irreg_lead_ant', 'lead_recent', 'leg_ant', 'leg_recent', 'male', 'militarycareer', 'month', 'nochange_recent', 'prev_conflict', 'pt_attempt', 'pt_suc', 'ref_ant', 'ref_recent', 'tenure_months', 'victory_recent', 'year']\n"
     ]
    },
    {
     "name": "stdout",
     "output_type": "stream",
     "text": [
      "[11]\tvalidation_set's binary_logloss: 0.0605668[8]\tvalidation_set's binary_logloss: 0.053402\n",
      "\n",
      "[12]\tvalidation_set's binary_logloss: 0.0604769[9]\tvalidation_set's binary_logloss: 0.0530305\n",
      "\n",
      "[10]\tvalidation_set's binary_logloss: 0.0528047[13]\tvalidation_set's binary_logloss: 0.0606938\n",
      "\n",
      "[11]\tvalidation_set's binary_logloss: 0.0524502\n",
      "[14]\tvalidation_set's binary_logloss: 0.0607443\n",
      "[15]\tvalidation_set's binary_logloss: 0.0606544[12]\tvalidation_set's binary_logloss: 0.0521649\n",
      "\n",
      "[13]\tvalidation_set's binary_logloss: 0.0518778[16]\tvalidation_set's binary_logloss: 0.0607021\n",
      "\n",
      "[14]\tvalidation_set's binary_logloss: 0.0515881Early stopping, best iteration is:\n",
      "[12]\tvalidation_set's binary_logloss: 0.0604769\n",
      "\n",
      "[15]\tvalidation_set's binary_logloss: 0.0513566\n",
      "[16]\tvalidation_set's binary_logloss: 0.0511864\n",
      "[17]\tvalidation_set's binary_logloss: 0.0509961\n"
     ]
    },
    {
     "name": "stderr",
     "output_type": "stream",
     "text": [
      "Found `num_iterations` in params. Will use it instead of argument\n",
      "categorical_feature in Dataset is overridden.\n",
      "New categorical_feature is ['age', 'anticipation', 'change_recent', 'country', 'defeat_recent', 'delayed', 'direct_recent', 'elected', 'election_now', 'election_recent', 'exec_ant', 'exec_recent', 'government', 'indirect_recent', 'irreg_lead_ant', 'lead_recent', 'leg_ant', 'leg_recent', 'male', 'militarycareer', 'month', 'nochange_recent', 'prev_conflict', 'pt_attempt', 'pt_suc', 'ref_ant', 'ref_recent', 'tenure_months', 'victory_recent', 'year']\n"
     ]
    },
    {
     "name": "stdout",
     "output_type": "stream",
     "text": [
      "[18]\tvalidation_set's binary_logloss: 0.0508603\n",
      "[19]\tvalidation_set's binary_logloss: 0.0506884\n",
      "[20]\tvalidation_set's binary_logloss: 0.0506271\n",
      "[21]\tvalidation_set's binary_logloss: 0.0505337\n",
      "[22]\tvalidation_set's binary_logloss: 0.0504255\n",
      "[23]\tvalidation_set's binary_logloss: 0.0503712\n",
      "[24]\tvalidation_set's binary_logloss: 0.0503176\n",
      "[1]\tvalidation_set's binary_logloss: 0.0400568[1]\tvalidation_set's binary_logloss: 0.0486293\n",
      "\n",
      "[25]\tvalidation_set's binary_logloss: 0.0502618Training until validation scores don't improve for 4 rounds[1]\tvalidation_set's binary_logloss: 0.0515472\n",
      "Training until validation scores don't improve for 4 rounds\n",
      "\n",
      "\n",
      "Training until validation scores don't improve for 4 rounds[2]\tvalidation_set's binary_logloss: 0.0409293[2]\tvalidation_set's binary_logloss: 0.0490098[26]\tvalidation_set's binary_logloss: 0.0502193\n",
      "\n",
      "\n",
      "\n",
      "[3]\tvalidation_set's binary_logloss: 0.0412466[3]\tvalidation_set's binary_logloss: 0.0497684[2]\tvalidation_set's binary_logloss: 0.0526639\n",
      "\n",
      "\n",
      "[27]\tvalidation_set's binary_logloss: 0.0501396[4]\tvalidation_set's binary_logloss: 0.0413354\n",
      "\n"
     ]
    },
    {
     "name": "stderr",
     "output_type": "stream",
     "text": [
      "Found `num_iterations` in params. Will use it instead of argument\n",
      "categorical_feature in Dataset is overridden.\n",
      "New categorical_feature is ['age', 'anticipation', 'change_recent', 'country', 'defeat_recent', 'delayed', 'direct_recent', 'elected', 'election_now', 'election_recent', 'exec_ant', 'exec_recent', 'government', 'indirect_recent', 'irreg_lead_ant', 'lead_recent', 'leg_ant', 'leg_recent', 'male', 'militarycareer', 'month', 'nochange_recent', 'prev_conflict', 'pt_attempt', 'pt_suc', 'ref_ant', 'ref_recent', 'tenure_months', 'victory_recent', 'year']\n"
     ]
    },
    {
     "name": "stdout",
     "output_type": "stream",
     "text": [
      "[4]\tvalidation_set's binary_logloss: 0.0497261[3]\tvalidation_set's binary_logloss: 0.0534113\n",
      "\n",
      "[5]\tvalidation_set's binary_logloss: 0.0411293\n",
      "[5]\tvalidation_set's binary_logloss: 0.0496862[4]\tvalidation_set's binary_logloss: 0.0538966[28]\tvalidation_set's binary_logloss: 0.0500075\n",
      "\n",
      "\n",
      "[1]\tvalidation_set's binary_logloss: 0.0614093Early stopping, best iteration is:\n",
      "[1]\tvalidation_set's binary_logloss: 0.0400568Early stopping, best iteration is:\n",
      "[1]\tvalidation_set's binary_logloss: 0.0486293\n",
      "\n",
      "[5]\tvalidation_set's binary_logloss: 0.0544893[29]\tvalidation_set's binary_logloss: 0.0500417\n",
      "Training until validation scores don't improve for 4 rounds\n",
      "\n",
      "\n",
      "Early stopping, best iteration is:\n",
      "[1]\tvalidation_set's binary_logloss: 0.0515472[2]\tvalidation_set's binary_logloss: 0.0609114\n",
      "[30]\tvalidation_set's binary_logloss: 0.0500835\n",
      "\n",
      "[3]\tvalidation_set's binary_logloss: 0.0604503[31]\tvalidation_set's binary_logloss: 0.0500732\n",
      "\n",
      "[4]\tvalidation_set's binary_logloss: 0.0602116[32]\tvalidation_set's binary_logloss: 0.0499889\n",
      "\n",
      "[5]\tvalidation_set's binary_logloss: 0.0601015\n",
      "[33]\tvalidation_set's binary_logloss: 0.0500092\n",
      "[6]\tvalidation_set's binary_logloss: 0.0600619[34]\tvalidation_set's binary_logloss: 0.0499748\n",
      "\n",
      "[1]\tvalidation_set's binary_logloss: 0.0503329\n",
      "[7]\tvalidation_set's binary_logloss: 0.059957Training until validation scores don't improve for 4 rounds[35]\tvalidation_set's binary_logloss: 0.049998\n",
      "\n",
      "\n",
      "[8]\tvalidation_set's binary_logloss: 0.0600473"
     ]
    },
    {
     "name": "stderr",
     "output_type": "stream",
     "text": [
      "Found `num_iterations` in params. Will use it instead of argument\n"
     ]
    },
    {
     "name": "stdout",
     "output_type": "stream",
     "text": [
      "[36]\tvalidation_set's binary_logloss: 0.0499907[2]\tvalidation_set's binary_logloss: 0.0518782[1]\tvalidation_set's binary_logloss: 0.0437869\n",
      "\n",
      "\n"
     ]
    },
    {
     "name": "stderr",
     "output_type": "stream",
     "text": [
      "categorical_feature in Dataset is overridden.\n",
      "New categorical_feature is ['age', 'anticipation', 'change_recent', 'country', 'defeat_recent', 'delayed', 'direct_recent', 'elected', 'election_now', 'election_recent', 'exec_ant', 'exec_recent', 'government', 'indirect_recent', 'irreg_lead_ant', 'lead_recent', 'leg_ant', 'leg_recent', 'male', 'militarycareer', 'month', 'nochange_recent', 'prev_conflict', 'pt_attempt', 'pt_suc', 'ref_ant', 'ref_recent', 'tenure_months', 'victory_recent', 'year']\n"
     ]
    },
    {
     "name": "stdout",
     "output_type": "stream",
     "text": [
      "\n",
      "Training until validation scores don't improve for 4 rounds\n",
      "[3]\tvalidation_set's binary_logloss: 0.0526915[2]\tvalidation_set's binary_logloss: 0.0445433[37]\tvalidation_set's binary_logloss: 0.0500274[9]\tvalidation_set's binary_logloss: 0.0600914\n",
      "\n",
      "\n",
      "\n",
      "[4]\tvalidation_set's binary_logloss: 0.0529628[3]\tvalidation_set's binary_logloss: 0.0451831[10]\tvalidation_set's binary_logloss: 0.0601706[38]\tvalidation_set's binary_logloss: 0.0499813\n",
      "\n",
      "\n",
      "\n",
      "Early stopping, best iteration is:\n",
      "[34]\tvalidation_set's binary_logloss: 0.0499748\n",
      "[11]\tvalidation_set's binary_logloss: 0.0602895[5]\tvalidation_set's binary_logloss: 0.0534615[4]\tvalidation_set's binary_logloss: 0.0461439\n",
      "\n",
      "\n",
      "Early stopping, best iteration is:\n",
      "[7]\tvalidation_set's binary_logloss: 0.059957Early stopping, best iteration is:\n",
      "[1]\tvalidation_set's binary_logloss: 0.0503329\n",
      "[5]\tvalidation_set's binary_logloss: 0.04659\n",
      "\n",
      "Early stopping, best iteration is:\n",
      "[1]\tvalidation_set's binary_logloss: 0.0437869\n",
      "[1]\tvalidation_set's binary_logloss: 0.0438107\n",
      "Training until validation scores don't improve for 4 rounds\n",
      "[2]\tvalidation_set's binary_logloss: 0.0454883\n",
      "[3]\tvalidation_set's binary_logloss: 0.046861\n",
      "[4]\tvalidation_set's binary_logloss: 0.0463853\n",
      "[5]\tvalidation_set's binary_logloss: 0.0475488\n",
      "Early stopping, best iteration is:\n",
      "[1]\tvalidation_set's binary_logloss: 0.0438107"
     ]
    },
    {
     "name": "stderr",
     "output_type": "stream",
     "text": [
      "Found `num_iterations` in params. Will use it instead of argument\n"
     ]
    },
    {
     "name": "stdout",
     "output_type": "stream",
     "text": [
      "\n"
     ]
    },
    {
     "name": "stderr",
     "output_type": "stream",
     "text": [
      "categorical_feature in Dataset is overridden.\n",
      "New categorical_feature is ['age', 'anticipation', 'change_recent', 'country', 'defeat_recent', 'delayed', 'direct_recent', 'elected', 'election_now', 'election_recent', 'exec_ant', 'exec_recent', 'government', 'indirect_recent', 'irreg_lead_ant', 'lead_recent', 'leg_ant', 'leg_recent', 'male', 'militarycareer', 'month', 'nochange_recent', 'prev_conflict', 'pt_attempt', 'pt_suc', 'ref_ant', 'ref_recent', 'tenure_months', 'victory_recent', 'year']\n",
      "Found `num_iterations` in params. Will use it instead of argument\n",
      "categorical_feature in Dataset is overridden.\n",
      "New categorical_feature is ['age', 'anticipation', 'change_recent', 'country', 'defeat_recent', 'delayed', 'direct_recent', 'elected', 'election_now', 'election_recent', 'exec_ant', 'exec_recent', 'government', 'indirect_recent', 'irreg_lead_ant', 'lead_recent', 'leg_ant', 'leg_recent', 'male', 'militarycareer', 'month', 'nochange_recent', 'prev_conflict', 'pt_attempt', 'pt_suc', 'ref_ant', 'ref_recent', 'tenure_months', 'victory_recent', 'year']\n"
     ]
    },
    {
     "name": "stdout",
     "output_type": "stream",
     "text": [
      "[1]\tvalidation_set's binary_logloss: 0.0447379\n",
      "Training until validation scores don't improve for 4 rounds\n",
      "[2]\tvalidation_set's binary_logloss: 0.044524\n",
      "[3]\tvalidation_set's binary_logloss: 0.0457046\n",
      "[4]\tvalidation_set's binary_logloss: 0.0463124\n",
      "[5]\tvalidation_set's binary_logloss: 0.0468237\n",
      "[6]\tvalidation_set's binary_logloss: 0.047288\n",
      "Early stopping, best iteration is:\n",
      "[2]\tvalidation_set's binary_logloss: 0.044524\n",
      "[1]\tvalidation_set's binary_logloss: 0.0568349[1]\tvalidation_set's binary_logloss: 0.0486752\n",
      "[1]\tvalidation_set's binary_logloss: 0.0600316\n",
      "Training until validation scores don't improve for 4 roundsTraining until validation scores don't improve for 4 rounds\n",
      "\n",
      "Training until validation scores don't improve for 4 rounds\n",
      "\n",
      "[2]\tvalidation_set's binary_logloss: 0.0564426[2]\tvalidation_set's binary_logloss: 0.0505994\n",
      "\n",
      "[2]\tvalidation_set's binary_logloss: 0.0596023[3]\tvalidation_set's binary_logloss: 0.0514614[3]\tvalidation_set's binary_logloss: 0.0563843"
     ]
    },
    {
     "name": "stderr",
     "output_type": "stream",
     "text": [
      "Found `num_iterations` in params. Will use it instead of argument\n"
     ]
    },
    {
     "name": "stdout",
     "output_type": "stream",
     "text": [
      "\n",
      "\n",
      "\n"
     ]
    },
    {
     "name": "stderr",
     "output_type": "stream",
     "text": [
      "categorical_feature in Dataset is overridden.\n",
      "New categorical_feature is ['age', 'anticipation', 'change_recent', 'country', 'defeat_recent', 'delayed', 'direct_recent', 'elected', 'election_now', 'election_recent', 'exec_ant', 'exec_recent', 'government', 'indirect_recent', 'irreg_lead_ant', 'lead_recent', 'leg_ant', 'leg_recent', 'male', 'militarycareer', 'month', 'nochange_recent', 'prev_conflict', 'pt_attempt', 'pt_suc', 'ref_ant', 'ref_recent', 'tenure_months', 'victory_recent', 'year']\n",
      "categorical_feature in Dataset is overridden.\n",
      "New categorical_feature is ['age', 'anticipation', 'change_recent', 'country', 'defeat_recent', 'delayed', 'direct_recent', 'elected', 'election_now', 'election_recent', 'exec_ant', 'exec_recent', 'government', 'indirect_recent', 'irreg_lead_ant', 'lead_recent', 'leg_ant', 'leg_recent', 'male', 'militarycareer', 'month', 'nochange_recent', 'prev_conflict', 'pt_attempt', 'pt_suc', 'ref_ant', 'ref_recent', 'tenure_months', 'victory_recent', 'year']\n"
     ]
    },
    {
     "name": "stdout",
     "output_type": "stream",
     "text": [
      "[4]\tvalidation_set's binary_logloss: 0.0519823[4]\tvalidation_set's binary_logloss: 0.0564823[3]\tvalidation_set's binary_logloss: 0.0596184\n",
      "\n",
      "\n",
      "[5]\tvalidation_set's binary_logloss: 0.0523882[4]\tvalidation_set's binary_logloss: 0.0598705\n",
      "\n",
      "Early stopping, best iteration is:\n",
      "[1]\tvalidation_set's binary_logloss: 0.0486752[5]\tvalidation_set's binary_logloss: 0.0566446[5]\tvalidation_set's binary_logloss: 0.0600282\n",
      "\n",
      "\n",
      "[1]\tvalidation_set's binary_logloss: 0.0529706[6]\tvalidation_set's binary_logloss: 0.0567039[6]\tvalidation_set's binary_logloss: 0.0598025\n",
      "Training until validation scores don't improve for 4 rounds\n",
      "\n",
      "\n",
      "Early stopping, best iteration is:\n",
      "[2]\tvalidation_set's binary_logloss: 0.0596023\n",
      "[2]\tvalidation_set's binary_logloss: 0.0534897[7]\tvalidation_set's binary_logloss: 0.0566683\n",
      "\n",
      "Early stopping, best iteration is:\n",
      "[3]\tvalidation_set's binary_logloss: 0.0563843\n",
      "[3]\tvalidation_set's binary_logloss: 0.0538483\n",
      "[1]\tvalidation_set's binary_logloss: 0.0566348\n",
      "[4]\tvalidation_set's binary_logloss: 0.0542568Training until validation scores don't improve for 4 rounds\n",
      "\n",
      "[5]\tvalidation_set's binary_logloss: 0.054454[2]\tvalidation_set's binary_logloss: 0.0568194\n",
      "Early stopping, best iteration is:\n",
      "[1]\tvalidation_set's binary_logloss: 0.0529706\n",
      "\n",
      "[3]\tvalidation_set's binary_logloss: 0.0573388\n",
      "[4]\tvalidation_set's binary_logloss: 0.0585838\n",
      "[5]\tvalidation_set's binary_logloss: 0.0591211\n",
      "Early stopping, best iteration is:\n",
      "[1]\tvalidation_set's binary_logloss: 0.0566348\n",
      "[1]\tvalidation_set's binary_logloss: 0.0609758\n",
      "Training until validation scores don't improve for 4 rounds\n",
      "[2]\tvalidation_set's binary_logloss: 0.0605652\n",
      "[3]\tvalidation_set's binary_logloss: 0.0603438\n",
      "[4]\tvalidation_set's binary_logloss: 0.0601451\n",
      "[5]\tvalidation_set's binary_logloss: 0.0599937\n",
      "[6]\tvalidation_set's binary_logloss: 0.0600153\n"
     ]
    },
    {
     "name": "stderr",
     "output_type": "stream",
     "text": [
      "Found `num_iterations` in params. Will use it instead of argument\n",
      "categorical_feature in Dataset is overridden.\n",
      "New categorical_feature is ['age', 'anticipation', 'change_recent', 'country', 'defeat_recent', 'delayed', 'direct_recent', 'elected', 'election_now', 'election_recent', 'exec_ant', 'exec_recent', 'government', 'indirect_recent', 'irreg_lead_ant', 'lead_recent', 'leg_ant', 'leg_recent', 'male', 'militarycareer', 'month', 'nochange_recent', 'prev_conflict', 'pt_attempt', 'pt_suc', 'ref_ant', 'ref_recent', 'tenure_months', 'victory_recent', 'year']\n"
     ]
    },
    {
     "name": "stdout",
     "output_type": "stream",
     "text": [
      "[7]\tvalidation_set's binary_logloss: 0.0598346\n",
      "[8]\tvalidation_set's binary_logloss: 0.0597738\n",
      "[9]\tvalidation_set's binary_logloss: 0.0598407\n",
      "[10]\tvalidation_set's binary_logloss: 0.0600087[1]\tvalidation_set's binary_logloss: 0.0545404\n",
      "\n",
      "Training until validation scores don't improve for 4 rounds[11]\tvalidation_set's binary_logloss: 0.0599186\n",
      "\n",
      "[2]\tvalidation_set's binary_logloss: 0.0571301[12]\tvalidation_set's binary_logloss: 0.0600758\n",
      "\n",
      "Early stopping, best iteration is:\n",
      "[8]\tvalidation_set's binary_logloss: 0.0597738\n",
      "[3]\tvalidation_set's binary_logloss: 0.0579798\n",
      "[4]\tvalidation_set's binary_logloss: 0.0587283\n",
      "[5]\tvalidation_set's binary_logloss: 0.0602445\n",
      "Early stopping, best iteration is:\n",
      "[1]\tvalidation_set's binary_logloss: 0.0545404\n"
     ]
    },
    {
     "name": "stderr",
     "output_type": "stream",
     "text": [
      "Found `num_iterations` in params. Will use it instead of argument\n",
      "categorical_feature in Dataset is overridden.\n",
      "New categorical_feature is ['age', 'anticipation', 'change_recent', 'country', 'defeat_recent', 'delayed', 'direct_recent', 'elected', 'election_now', 'election_recent', 'exec_ant', 'exec_recent', 'government', 'indirect_recent', 'irreg_lead_ant', 'lead_recent', 'leg_ant', 'leg_recent', 'male', 'militarycareer', 'month', 'nochange_recent', 'prev_conflict', 'pt_attempt', 'pt_suc', 'ref_ant', 'ref_recent', 'tenure_months', 'victory_recent', 'year']\n",
      "Found `num_iterations` in params. Will use it instead of argument\n",
      "categorical_feature in Dataset is overridden.\n",
      "New categorical_feature is ['age', 'anticipation', 'change_recent', 'country', 'defeat_recent', 'delayed', 'direct_recent', 'elected', 'election_now', 'election_recent', 'exec_ant', 'exec_recent', 'government', 'indirect_recent', 'irreg_lead_ant', 'lead_recent', 'leg_ant', 'leg_recent', 'male', 'militarycareer', 'month', 'nochange_recent', 'prev_conflict', 'pt_attempt', 'pt_suc', 'ref_ant', 'ref_recent', 'tenure_months', 'victory_recent', 'year']\n",
      "Found `num_iterations` in params. Will use it instead of argument\n",
      "categorical_feature in Dataset is overridden.\n",
      "New categorical_feature is ['age', 'anticipation', 'change_recent', 'country', 'defeat_recent', 'delayed', 'direct_recent', 'elected', 'election_now', 'election_recent', 'exec_ant', 'exec_recent', 'government', 'indirect_recent', 'irreg_lead_ant', 'lead_recent', 'leg_ant', 'leg_recent', 'male', 'militarycareer', 'month', 'nochange_recent', 'prev_conflict', 'pt_attempt', 'pt_suc', 'ref_ant', 'ref_recent', 'tenure_months', 'victory_recent', 'year']\n"
     ]
    },
    {
     "name": "stdout",
     "output_type": "stream",
     "text": [
      "[1]\tvalidation_set's binary_logloss: 0.0402169[1]\tvalidation_set's binary_logloss: 0.0453122\n",
      "\n",
      "Training until validation scores don't improve for 4 roundsTraining until validation scores don't improve for 4 rounds\n",
      "\n",
      "[1]\tvalidation_set's binary_logloss: 0.0572108[2]\tvalidation_set's binary_logloss: 0.0463265\n",
      "\n",
      "[2]\tvalidation_set's binary_logloss: 0.0424591\n",
      "Training until validation scores don't improve for 4 rounds\n",
      "[3]\tvalidation_set's binary_logloss: 0.047097[2]\tvalidation_set's binary_logloss: 0.0574178[3]\tvalidation_set's binary_logloss: 0.0433177\n",
      "\n",
      "\n",
      "[4]\tvalidation_set's binary_logloss: 0.0436779[4]\tvalidation_set's binary_logloss: 0.0476797[3]\tvalidation_set's binary_logloss: 0.0574153\n",
      "\n",
      "\n",
      "[4]\tvalidation_set's binary_logloss: 0.0571019[5]\tvalidation_set's binary_logloss: 0.0443865[5]\tvalidation_set's binary_logloss: 0.0478011\n",
      "\n",
      "\n",
      "Early stopping, best iteration is:\n",
      "[1]\tvalidation_set's binary_logloss: 0.0453122Early stopping, best iteration is:\n",
      "[1]\tvalidation_set's binary_logloss: 0.0402169\n",
      "[5]\tvalidation_set's binary_logloss: 0.0568216\n",
      "\n",
      "[6]\tvalidation_set's binary_logloss: 0.0569139\n",
      "[7]\tvalidation_set's binary_logloss: 0.05689\n",
      "[8]\tvalidation_set's binary_logloss: 0.056925\n",
      "[9]\tvalidation_set's binary_logloss: 0.0570835[1]\tvalidation_set's binary_logloss: 0.0432474\n",
      "Training until validation scores don't improve for 4 rounds\n",
      "Early stopping, best iteration is:\n",
      "[5]\tvalidation_set's binary_logloss: 0.0568216\n",
      "\n",
      "[2]\tvalidation_set's binary_logloss: 0.0444324\n",
      "[3]\tvalidation_set's binary_logloss: 0.0445496\n",
      "[4]\tvalidation_set's binary_logloss: 0.0446965\n"
     ]
    },
    {
     "name": "stderr",
     "output_type": "stream",
     "text": [
      "Found `num_iterations` in params. Will use it instead of argument\n"
     ]
    },
    {
     "name": "stdout",
     "output_type": "stream",
     "text": [
      "[5]\tvalidation_set's binary_logloss: 0.045227"
     ]
    },
    {
     "name": "stderr",
     "output_type": "stream",
     "text": [
      "categorical_feature in Dataset is overridden.\n",
      "New categorical_feature is ['age', 'anticipation', 'change_recent', 'country', 'defeat_recent', 'delayed', 'direct_recent', 'elected', 'election_now', 'election_recent', 'exec_ant', 'exec_recent', 'government', 'indirect_recent', 'irreg_lead_ant', 'lead_recent', 'leg_ant', 'leg_recent', 'male', 'militarycareer', 'month', 'nochange_recent', 'prev_conflict', 'pt_attempt', 'pt_suc', 'ref_ant', 'ref_recent', 'tenure_months', 'victory_recent', 'year']\n"
     ]
    },
    {
     "name": "stdout",
     "output_type": "stream",
     "text": [
      "[1]\tvalidation_set's binary_logloss: 0.0579924\n"
     ]
    },
    {
     "name": "stderr",
     "output_type": "stream",
     "text": [
      "categorical_feature in Dataset is overridden.\n",
      "New categorical_feature is ['age', 'anticipation', 'change_recent', 'country', 'defeat_recent', 'delayed', 'direct_recent', 'elected', 'election_now', 'election_recent', 'exec_ant', 'exec_recent', 'government', 'indirect_recent', 'irreg_lead_ant', 'lead_recent', 'leg_ant', 'leg_recent', 'male', 'militarycareer', 'month', 'nochange_recent', 'prev_conflict', 'pt_attempt', 'pt_suc', 'ref_ant', 'ref_recent', 'tenure_months', 'victory_recent', 'year']\n"
     ]
    },
    {
     "name": "stdout",
     "output_type": "stream",
     "text": [
      "\n",
      "Early stopping, best iteration is:\n",
      "[1]\tvalidation_set's binary_logloss: 0.0432474Training until validation scores don't improve for 4 rounds\n",
      "\n"
     ]
    },
    {
     "name": "stderr",
     "output_type": "stream",
     "text": [
      "Found `num_iterations` in params. Will use it instead of argument\n"
     ]
    },
    {
     "name": "stdout",
     "output_type": "stream",
     "text": [
      "[2]\tvalidation_set's binary_logloss: 0.0576629\n",
      "[3]\tvalidation_set's binary_logloss: 0.0573318\n",
      "[4]\tvalidation_set's binary_logloss: 0.0580632\n",
      "[5]\tvalidation_set's binary_logloss: 0.0579316\n",
      "[6]\tvalidation_set's binary_logloss: 0.0580322\n",
      "[7]\tvalidation_set's binary_logloss: 0.058153\n",
      "Early stopping, best iteration is:\n",
      "[3]\tvalidation_set's binary_logloss: 0.0573318\n",
      "[1]\tvalidation_set's binary_logloss: 0.0668066\n",
      "Training until validation scores don't improve for 4 rounds\n",
      "[2]\tvalidation_set's binary_logloss: 0.0659314\n",
      "[3]\tvalidation_set's binary_logloss: 0.0651142\n",
      "[4]\tvalidation_set's binary_logloss: 0.0645164\n",
      "[5]\tvalidation_set's binary_logloss: 0.0641693\n",
      "[6]\tvalidation_set's binary_logloss: 0.0638768\n"
     ]
    },
    {
     "name": "stderr",
     "output_type": "stream",
     "text": [
      "Found `num_iterations` in params. Will use it instead of argument\n",
      "categorical_feature in Dataset is overridden.\n",
      "New categorical_feature is ['age', 'anticipation', 'change_recent', 'country', 'defeat_recent', 'delayed', 'direct_recent', 'elected', 'election_now', 'election_recent', 'exec_ant', 'exec_recent', 'government', 'indirect_recent', 'irreg_lead_ant', 'lead_recent', 'leg_ant', 'leg_recent', 'male', 'militarycareer', 'month', 'nochange_recent', 'prev_conflict', 'pt_attempt', 'pt_suc', 'ref_ant', 'ref_recent', 'tenure_months', 'victory_recent', 'year']\n"
     ]
    },
    {
     "name": "stdout",
     "output_type": "stream",
     "text": [
      "[7]\tvalidation_set's binary_logloss: 0.0636557\n",
      "[8]\tvalidation_set's binary_logloss: 0.0634691\n",
      "[9]\tvalidation_set's binary_logloss: 0.0633102\n",
      "[10]\tvalidation_set's binary_logloss: 0.063126\n",
      "[11]\tvalidation_set's binary_logloss: 0.0629936\n",
      "[12]\tvalidation_set's binary_logloss: 0.062961\n",
      "[13]\tvalidation_set's binary_logloss: 0.0627941\n",
      "[14]\tvalidation_set's binary_logloss: 0.0627222\n",
      "[15]\tvalidation_set's binary_logloss: 0.0624685\n",
      "[16]\tvalidation_set's binary_logloss: 0.0623448\n",
      "[17]\tvalidation_set's binary_logloss: 0.0623311\n",
      "[18]\tvalidation_set's binary_logloss: 0.0622199\n",
      "[19]\tvalidation_set's binary_logloss: 0.0622154\n",
      "[20]\tvalidation_set's binary_logloss: 0.0622603[1]\tvalidation_set's binary_logloss: 0.0694984\n",
      "\n",
      "[1]\tvalidation_set's binary_logloss: 0.0619159Training until validation scores don't improve for 4 rounds\n",
      "\n",
      "[21]\tvalidation_set's binary_logloss: 0.0622443[1]\tvalidation_set's binary_logloss: 0.0480679Training until validation scores don't improve for 4 rounds\n",
      "\n",
      "\n",
      "[2]\tvalidation_set's binary_logloss: 0.0674635Training until validation scores don't improve for 4 rounds[22]\tvalidation_set's binary_logloss: 0.0622085\n",
      "\n",
      "\n",
      "[2]\tvalidation_set's binary_logloss: 0.0613691[2]\tvalidation_set's binary_logloss: 0.0484781\n",
      "[3]\tvalidation_set's binary_logloss: 0.0665385[23]\tvalidation_set's binary_logloss: 0.0622834\n",
      "\n",
      "\n",
      "[1]\tvalidation_set's binary_logloss: 0.0534088[3]\tvalidation_set's binary_logloss: 0.0480562[3]\tvalidation_set's binary_logloss: 0.0609195\n",
      "[4]\tvalidation_set's binary_logloss: 0.0657527\n",
      "\n",
      "Training until validation scores don't improve for 4 rounds[24]\tvalidation_set's binary_logloss: 0.062295\n",
      "\n",
      "\n",
      "[4]\tvalidation_set's binary_logloss: 0.0490837[2]\tvalidation_set's binary_logloss: 0.0539326[4]\tvalidation_set's binary_logloss: 0.0608772\n",
      "[5]\tvalidation_set's binary_logloss: 0.0650519[25]\tvalidation_set's binary_logloss: 0.0622799\n",
      "\n",
      "\n",
      "\n",
      "[5]\tvalidation_set's binary_logloss: 0.0495641\n",
      "[3]\tvalidation_set's binary_logloss: 0.0549049\n",
      "[6]\tvalidation_set's binary_logloss: 0.0644697\n",
      "[5]\tvalidation_set's binary_logloss: 0.0606456[26]\tvalidation_set's binary_logloss: 0.062332\n",
      "\n",
      "Early stopping, best iteration is:\n",
      "[22]\tvalidation_set's binary_logloss: 0.0622085\n",
      "[6]\tvalidation_set's binary_logloss: 0.0496169[4]\tvalidation_set's binary_logloss: 0.0550755[6]\tvalidation_set's binary_logloss: 0.0604787\n",
      "\n",
      "[7]\tvalidation_set's binary_logloss: 0.0639381\n",
      "\n",
      "[1]\tvalidation_set's binary_logloss: 0.0537679[7]\tvalidation_set's binary_logloss: 0.0501999[5]\tvalidation_set's binary_logloss: 0.0552859[7]\tvalidation_set's binary_logloss: 0.0604115\n",
      "\n",
      "\n",
      "\n",
      "[8]\tvalidation_set's binary_logloss: 0.0636286Training until validation scores don't improve for 4 rounds\n",
      "Early stopping, best iteration is:\n",
      "[1]\tvalidation_set's binary_logloss: 0.0534088Early stopping, best iteration is:\n",
      "[3]\tvalidation_set's binary_logloss: 0.0480562\n",
      "\n",
      "\n",
      "[8]\tvalidation_set's binary_logloss: 0.0603771[9]\tvalidation_set's binary_logloss: 0.0633674\n",
      "\n",
      "[2]\tvalidation_set's binary_logloss: 0.0540969\n",
      "[10]\tvalidation_set's binary_logloss: 0.0630758\n",
      "[9]\tvalidation_set's binary_logloss: 0.0603158[3]\tvalidation_set's binary_logloss: 0.0543653\n",
      "\n",
      "[1]\tvalidation_set's binary_logloss: 0.0523922\n",
      "Training until validation scores don't improve for 4 rounds\n",
      "[11]\tvalidation_set's binary_logloss: 0.062811[4]\tvalidation_set's binary_logloss: 0.0545041\n",
      "\n",
      "[10]\tvalidation_set's binary_logloss: 0.0603738[2]\tvalidation_set's binary_logloss: 0.0523706\n",
      "\n",
      "[3]\tvalidation_set's binary_logloss: 0.0517112\n",
      "[5]\tvalidation_set's binary_logloss: 0.0547263\n",
      "Early stopping, best iteration is:\n",
      "[1]\tvalidation_set's binary_logloss: 0.0537679[11]\tvalidation_set's binary_logloss: 0.0603156[12]\tvalidation_set's binary_logloss: 0.0626798\n",
      "\n",
      "\n",
      "[4]\tvalidation_set's binary_logloss: 0.0519409[13]\tvalidation_set's binary_logloss: 0.0625921[1]\tvalidation_set's binary_logloss: 0.0575866[12]\tvalidation_set's binary_logloss: 0.0603469\n",
      "\n",
      "\n",
      "\n",
      "Training until validation scores don't improve for 4 rounds\n",
      "[5]\tvalidation_set's binary_logloss: 0.0521685\n",
      "[2]\tvalidation_set's binary_logloss: 0.0581428[13]\tvalidation_set's binary_logloss: 0.060368\n",
      "\n",
      "[14]\tvalidation_set's binary_logloss: 0.062461\n",
      "[6]\tvalidation_set's binary_logloss: 0.0522634\n",
      "[3]\tvalidation_set's binary_logloss: 0.0587906[14]\tvalidation_set's binary_logloss: 0.0603371[15]\tvalidation_set's binary_logloss: 0.0623655[7]\tvalidation_set's binary_logloss: 0.0525542\n",
      "\n",
      "\n",
      "\n",
      "Early stopping, best iteration is:\n",
      "[3]\tvalidation_set's binary_logloss: 0.0517112\n",
      "[4]\tvalidation_set's binary_logloss: 0.0588756[16]\tvalidation_set's binary_logloss: 0.0623061[15]\tvalidation_set's binary_logloss: 0.0603789\n",
      "\n",
      "\n",
      "Early stopping, best iteration is:\n",
      "[11]\tvalidation_set's binary_logloss: 0.0603156\n",
      "[5]\tvalidation_set's binary_logloss: 0.0592415\n",
      "[17]\tvalidation_set's binary_logloss: 0.0622602Early stopping, best iteration is:\n",
      "[1]\tvalidation_set's binary_logloss: 0.0575866\n",
      "\n",
      "[18]\tvalidation_set's binary_logloss: 0.0621106\n",
      "[19]\tvalidation_set's binary_logloss: 0.062054\n"
     ]
    },
    {
     "name": "stderr",
     "output_type": "stream",
     "text": [
      "Found `num_iterations` in params. Will use it instead of argument\n",
      "categorical_feature in Dataset is overridden.\n",
      "New categorical_feature is ['age', 'anticipation', 'change_recent', 'country', 'defeat_recent', 'delayed', 'direct_recent', 'elected', 'election_now', 'election_recent', 'exec_ant', 'exec_recent', 'government', 'indirect_recent', 'irreg_lead_ant', 'lead_recent', 'leg_ant', 'leg_recent', 'male', 'militarycareer', 'month', 'nochange_recent', 'prev_conflict', 'pt_attempt', 'pt_suc', 'ref_ant', 'ref_recent', 'tenure_months', 'victory_recent', 'year']\n"
     ]
    },
    {
     "name": "stdout",
     "output_type": "stream",
     "text": [
      "[20]\tvalidation_set's binary_logloss: 0.0620085\n",
      "[21]\tvalidation_set's binary_logloss: 0.0618525\n",
      "[22]\tvalidation_set's binary_logloss: 0.061819\n",
      "[23]\tvalidation_set's binary_logloss: 0.0618254\n",
      "[24]\tvalidation_set's binary_logloss: 0.0616654\n"
     ]
    },
    {
     "name": "stderr",
     "output_type": "stream",
     "text": [
      "Found `num_iterations` in params. Will use it instead of argument\n",
      "categorical_feature in Dataset is overridden.\n",
      "New categorical_feature is ['age', 'anticipation', 'change_recent', 'country', 'defeat_recent', 'delayed', 'direct_recent', 'elected', 'election_now', 'election_recent', 'exec_ant', 'exec_recent', 'government', 'indirect_recent', 'irreg_lead_ant', 'lead_recent', 'leg_ant', 'leg_recent', 'male', 'militarycareer', 'month', 'nochange_recent', 'prev_conflict', 'pt_attempt', 'pt_suc', 'ref_ant', 'ref_recent', 'tenure_months', 'victory_recent', 'year']\n"
     ]
    },
    {
     "name": "stdout",
     "output_type": "stream",
     "text": [
      "[25]\tvalidation_set's binary_logloss: 0.0616343\n"
     ]
    },
    {
     "name": "stderr",
     "output_type": "stream",
     "text": [
      "categorical_feature in Dataset is overridden.\n",
      "New categorical_feature is ['age', 'anticipation', 'change_recent', 'country', 'defeat_recent', 'delayed', 'direct_recent', 'elected', 'election_now', 'election_recent', 'exec_ant', 'exec_recent', 'government', 'indirect_recent', 'irreg_lead_ant', 'lead_recent', 'leg_ant', 'leg_recent', 'male', 'militarycareer', 'month', 'nochange_recent', 'prev_conflict', 'pt_attempt', 'pt_suc', 'ref_ant', 'ref_recent', 'tenure_months', 'victory_recent', 'year']\n"
     ]
    },
    {
     "name": "stdout",
     "output_type": "stream",
     "text": [
      "[26]\tvalidation_set's binary_logloss: 0.0616244\n",
      "[27]\tvalidation_set's binary_logloss: 0.0616913\n"
     ]
    },
    {
     "name": "stderr",
     "output_type": "stream",
     "text": [
      "Found `num_iterations` in params. Will use it instead of argument\n"
     ]
    },
    {
     "name": "stdout",
     "output_type": "stream",
     "text": [
      "[28]\tvalidation_set's binary_logloss: 0.0616551"
     ]
    },
    {
     "name": "stderr",
     "output_type": "stream",
     "text": [
      "categorical_feature in Dataset is overridden.\n",
      "New categorical_feature is ['age', 'anticipation', 'change_recent', 'country', 'defeat_recent', 'delayed', 'direct_recent', 'elected', 'election_now', 'election_recent', 'exec_ant', 'exec_recent', 'government', 'indirect_recent', 'irreg_lead_ant', 'lead_recent', 'leg_ant', 'leg_recent', 'male', 'militarycareer', 'month', 'nochange_recent', 'prev_conflict', 'pt_attempt', 'pt_suc', 'ref_ant', 'ref_recent', 'tenure_months', 'victory_recent', 'year']\n"
     ]
    },
    {
     "name": "stdout",
     "output_type": "stream",
     "text": [
      "\n",
      "[29]\tvalidation_set's binary_logloss: 0.0616649\n",
      "[30]\tvalidation_set's binary_logloss: 0.0616791\n",
      "Early stopping, best iteration is:\n",
      "[26]\tvalidation_set's binary_logloss: 0.0616244\n"
     ]
    },
    {
     "name": "stderr",
     "output_type": "stream",
     "text": [
      "Found `num_iterations` in params. Will use it instead of argument\n",
      "categorical_feature in Dataset is overridden.\n",
      "New categorical_feature is ['age', 'anticipation', 'change_recent', 'country', 'defeat_recent', 'delayed', 'direct_recent', 'elected', 'election_now', 'election_recent', 'exec_ant', 'exec_recent', 'government', 'indirect_recent', 'irreg_lead_ant', 'lead_recent', 'leg_ant', 'leg_recent', 'male', 'militarycareer', 'month', 'nochange_recent', 'prev_conflict', 'pt_attempt', 'pt_suc', 'ref_ant', 'ref_recent', 'tenure_months', 'victory_recent', 'year']\n"
     ]
    },
    {
     "name": "stdout",
     "output_type": "stream",
     "text": [
      "[1]\tvalidation_set's binary_logloss: 0.0521561\n",
      "Training until validation scores don't improve for 4 rounds\n",
      "[2]\tvalidation_set's binary_logloss: 0.0540461\n",
      "[3]\tvalidation_set's binary_logloss: 0.0547362\n",
      "[4]\tvalidation_set's binary_logloss: 0.055119\n",
      "[1]\tvalidation_set's binary_logloss: 0.0444174\n",
      "Training until validation scores don't improve for 4 rounds[5]\tvalidation_set's binary_logloss: 0.0551152\n",
      "\n",
      "Early stopping, best iteration is:\n",
      "[1]\tvalidation_set's binary_logloss: 0.0521561[2]\tvalidation_set's binary_logloss: 0.0457384\n",
      "\n",
      "[3]\tvalidation_set's binary_logloss: 0.0464684\n",
      "[4]\tvalidation_set's binary_logloss: 0.0470946\n",
      "[5]\tvalidation_set's binary_logloss: 0.047505\n",
      "Early stopping, best iteration is:\n",
      "[1]\tvalidation_set's binary_logloss: 0.0444174\n"
     ]
    },
    {
     "name": "stderr",
     "output_type": "stream",
     "text": [
      "Found `num_iterations` in params. Will use it instead of argument\n",
      "categorical_feature in Dataset is overridden.\n",
      "New categorical_feature is ['age', 'anticipation', 'change_recent', 'country', 'defeat_recent', 'delayed', 'direct_recent', 'elected', 'election_now', 'election_recent', 'exec_ant', 'exec_recent', 'government', 'indirect_recent', 'irreg_lead_ant', 'lead_recent', 'leg_ant', 'leg_recent', 'male', 'militarycareer', 'month', 'nochange_recent', 'prev_conflict', 'pt_attempt', 'pt_suc', 'ref_ant', 'ref_recent', 'tenure_months', 'victory_recent', 'year']\n"
     ]
    },
    {
     "name": "stdout",
     "output_type": "stream",
     "text": [
      "[1]\tvalidation_set's binary_logloss: 0.0454341\n",
      "Training until validation scores don't improve for 4 rounds\n",
      "[2]\tvalidation_set's binary_logloss: 0.0470642\n"
     ]
    },
    {
     "name": "stderr",
     "output_type": "stream",
     "text": [
      "Found `num_iterations` in params. Will use it instead of argument\n"
     ]
    },
    {
     "name": "stdout",
     "output_type": "stream",
     "text": [
      "[1]\tvalidation_set's binary_logloss: 0.0531144[3]\tvalidation_set's binary_logloss: 0.0479468\n",
      "\n"
     ]
    },
    {
     "name": "stderr",
     "output_type": "stream",
     "text": [
      "categorical_feature in Dataset is overridden.\n",
      "New categorical_feature is ['age', 'anticipation', 'change_recent', 'country', 'defeat_recent', 'delayed', 'direct_recent', 'elected', 'election_now', 'election_recent', 'exec_ant', 'exec_recent', 'government', 'indirect_recent', 'irreg_lead_ant', 'lead_recent', 'leg_ant', 'leg_recent', 'male', 'militarycareer', 'month', 'nochange_recent', 'prev_conflict', 'pt_attempt', 'pt_suc', 'ref_ant', 'ref_recent', 'tenure_months', 'victory_recent', 'year']\n"
     ]
    },
    {
     "name": "stdout",
     "output_type": "stream",
     "text": [
      "Training until validation scores don't improve for 4 rounds\n",
      "[4]\tvalidation_set's binary_logloss: 0.0486213[2]\tvalidation_set's binary_logloss: 0.0530316\n",
      "\n",
      "[5]\tvalidation_set's binary_logloss: 0.0485471[3]\tvalidation_set's binary_logloss: 0.0534289\n",
      "\n",
      "Early stopping, best iteration is:\n",
      "[1]\tvalidation_set's binary_logloss: 0.0454341[4]\tvalidation_set's binary_logloss: 0.0536247\n",
      "\n",
      "[5]\tvalidation_set's binary_logloss: 0.0541872\n",
      "[6]\tvalidation_set's binary_logloss: 0.0545674\n",
      "Early stopping, best iteration is:\n",
      "[2]\tvalidation_set's binary_logloss: 0.0530316\n"
     ]
    },
    {
     "name": "stderr",
     "output_type": "stream",
     "text": [
      "Found `num_iterations` in params. Will use it instead of argument\n",
      "categorical_feature in Dataset is overridden.\n",
      "New categorical_feature is ['age', 'anticipation', 'change_recent', 'country', 'defeat_recent', 'delayed', 'direct_recent', 'elected', 'election_now', 'election_recent', 'exec_ant', 'exec_recent', 'government', 'indirect_recent', 'irreg_lead_ant', 'lead_recent', 'leg_ant', 'leg_recent', 'male', 'militarycareer', 'month', 'nochange_recent', 'prev_conflict', 'pt_attempt', 'pt_suc', 'ref_ant', 'ref_recent', 'tenure_months', 'victory_recent', 'year']\n"
     ]
    },
    {
     "name": "stdout",
     "output_type": "stream",
     "text": [
      "[1]\tvalidation_set's binary_logloss: 0.0561215\n",
      "Training until validation scores don't improve for 4 rounds\n",
      "[2]\tvalidation_set's binary_logloss: 0.0574196\n",
      "[3]\tvalidation_set's binary_logloss: 0.0579178\n",
      "[4]\tvalidation_set's binary_logloss: 0.0586612[1]\tvalidation_set's binary_logloss: 0.0499514\n",
      "\n",
      "Training until validation scores don't improve for 4 rounds\n",
      "[2]\tvalidation_set's binary_logloss: 0.0510759[5]\tvalidation_set's binary_logloss: 0.058576\n",
      "\n",
      "Early stopping, best iteration is:\n",
      "[1]\tvalidation_set's binary_logloss: 0.0561215\n",
      "[3]\tvalidation_set's binary_logloss: 0.0519037\n",
      "[4]\tvalidation_set's binary_logloss: 0.0524211\n",
      "[5]\tvalidation_set's binary_logloss: 0.0529365\n",
      "Early stopping, best iteration is:\n",
      "[1]\tvalidation_set's binary_logloss: 0.0499514\n"
     ]
    },
    {
     "name": "stderr",
     "output_type": "stream",
     "text": [
      "Found `num_iterations` in params. Will use it instead of argument\n",
      "categorical_feature in Dataset is overridden.\n",
      "New categorical_feature is ['age', 'anticipation', 'change_recent', 'country', 'defeat_recent', 'delayed', 'direct_recent', 'elected', 'election_now', 'election_recent', 'exec_ant', 'exec_recent', 'government', 'indirect_recent', 'irreg_lead_ant', 'lead_recent', 'leg_ant', 'leg_recent', 'male', 'militarycareer', 'month', 'nochange_recent', 'prev_conflict', 'pt_attempt', 'pt_suc', 'ref_ant', 'ref_recent', 'tenure_months', 'victory_recent', 'year']\n",
      "categorical_feature in Dataset is overridden.\n",
      "New categorical_feature is ['age', 'anticipation', 'change_recent', 'country', 'defeat_recent', 'delayed', 'direct_recent', 'elected', 'election_now', 'election_recent', 'exec_ant', 'exec_recent', 'government', 'indirect_recent', 'irreg_lead_ant', 'lead_recent', 'leg_ant', 'leg_recent', 'male', 'militarycareer', 'month', 'nochange_recent', 'prev_conflict', 'pt_attempt', 'pt_suc', 'ref_ant', 'ref_recent', 'tenure_months', 'victory_recent', 'year']\n"
     ]
    },
    {
     "name": "stdout",
     "output_type": "stream",
     "text": [
      "[1]\tvalidation_set's binary_logloss: 0.0475519\n",
      "Training until validation scores don't improve for 4 rounds\n",
      "[2]\tvalidation_set's binary_logloss: 0.0482705\n",
      "[3]\tvalidation_set's binary_logloss: 0.0491861\n",
      "[4]\tvalidation_set's binary_logloss: 0.0494078\n",
      "[5]\tvalidation_set's binary_logloss: 0.0497126\n",
      "Early stopping, best iteration is:\n",
      "[1]\tvalidation_set's binary_logloss: 0.0475519\n",
      "[1]\tvalidation_set's binary_logloss: 0.0674096\n",
      "Training until validation scores don't improve for 4 rounds\n"
     ]
    },
    {
     "name": "stderr",
     "output_type": "stream",
     "text": [
      "Found `num_iterations` in params. Will use it instead of argument\n"
     ]
    },
    {
     "name": "stdout",
     "output_type": "stream",
     "text": [
      "[2]\tvalidation_set's binary_logloss: 0.0663128"
     ]
    },
    {
     "name": "stderr",
     "output_type": "stream",
     "text": [
      "categorical_feature in Dataset is overridden.\n",
      "New categorical_feature is ['age', 'anticipation', 'change_recent', 'country', 'defeat_recent', 'delayed', 'direct_recent', 'elected', 'election_now', 'election_recent', 'exec_ant', 'exec_recent', 'government', 'indirect_recent', 'irreg_lead_ant', 'lead_recent', 'leg_ant', 'leg_recent', 'male', 'militarycareer', 'month', 'nochange_recent', 'prev_conflict', 'pt_attempt', 'pt_suc', 'ref_ant', 'ref_recent', 'tenure_months', 'victory_recent', 'year']\n"
     ]
    },
    {
     "name": "stdout",
     "output_type": "stream",
     "text": [
      "\n"
     ]
    },
    {
     "name": "stderr",
     "output_type": "stream",
     "text": [
      "categorical_feature in Dataset is overridden.\n",
      "New categorical_feature is ['age', 'anticipation', 'change_recent', 'country', 'defeat_recent', 'delayed', 'direct_recent', 'elected', 'election_now', 'election_recent', 'exec_ant', 'exec_recent', 'government', 'indirect_recent', 'irreg_lead_ant', 'lead_recent', 'leg_ant', 'leg_recent', 'male', 'militarycareer', 'month', 'nochange_recent', 'prev_conflict', 'pt_attempt', 'pt_suc', 'ref_ant', 'ref_recent', 'tenure_months', 'victory_recent', 'year']\n"
     ]
    },
    {
     "name": "stdout",
     "output_type": "stream",
     "text": [
      "[3]\tvalidation_set's binary_logloss: 0.0656353"
     ]
    },
    {
     "name": "stderr",
     "output_type": "stream",
     "text": [
      "Found `num_iterations` in params. Will use it instead of argument\n"
     ]
    },
    {
     "name": "stdout",
     "output_type": "stream",
     "text": [
      "\n",
      "[4]\tvalidation_set's binary_logloss: 0.0653061\n",
      "[5]\tvalidation_set's binary_logloss: 0.0647088\n",
      "[6]\tvalidation_set's binary_logloss: 0.0644139\n",
      "[7]\tvalidation_set's binary_logloss: 0.0640919\n",
      "[8]\tvalidation_set's binary_logloss: 0.0639132\n",
      "[9]\tvalidation_set's binary_logloss: 0.0637068\n",
      "[10]\tvalidation_set's binary_logloss: 0.0636723[1]\tvalidation_set's binary_logloss: 0.0481963\n",
      "\n",
      "Training until validation scores don't improve for 4 rounds\n",
      "[2]\tvalidation_set's binary_logloss: 0.0490362\n",
      "[11]\tvalidation_set's binary_logloss: 0.0635429\n",
      "[3]\tvalidation_set's binary_logloss: 0.0491802\n",
      "[12]\tvalidation_set's binary_logloss: 0.0635277\n",
      "[4]\tvalidation_set's binary_logloss: 0.0495959\n",
      "[13]\tvalidation_set's binary_logloss: 0.0635826[5]\tvalidation_set's binary_logloss: 0.0500968\n",
      "\n",
      "[14]\tvalidation_set's binary_logloss: 0.0635915Early stopping, best iteration is:\n",
      "[1]\tvalidation_set's binary_logloss: 0.0481963\n",
      "\n",
      "[15]\tvalidation_set's binary_logloss: 0.0635494\n",
      "[16]\tvalidation_set's binary_logloss: 0.0635104"
     ]
    },
    {
     "name": "stderr",
     "output_type": "stream",
     "text": [
      "Found `num_iterations` in params. Will use it instead of argument\n",
      "categorical_feature in Dataset is overridden.\n",
      "New categorical_feature is ['age', 'anticipation', 'change_recent', 'country', 'defeat_recent', 'delayed', 'direct_recent', 'elected', 'election_now', 'election_recent', 'exec_ant', 'exec_recent', 'government', 'indirect_recent', 'irreg_lead_ant', 'lead_recent', 'leg_ant', 'leg_recent', 'male', 'militarycareer', 'month', 'nochange_recent', 'prev_conflict', 'pt_attempt', 'pt_suc', 'ref_ant', 'ref_recent', 'tenure_months', 'victory_recent', 'year']\n"
     ]
    },
    {
     "name": "stdout",
     "output_type": "stream",
     "text": [
      "\n"
     ]
    },
    {
     "name": "stderr",
     "output_type": "stream",
     "text": [
      "categorical_feature in Dataset is overridden.\n",
      "New categorical_feature is ['age', 'anticipation', 'change_recent', 'country', 'defeat_recent', 'delayed', 'direct_recent', 'elected', 'election_now', 'election_recent', 'exec_ant', 'exec_recent', 'government', 'indirect_recent', 'irreg_lead_ant', 'lead_recent', 'leg_ant', 'leg_recent', 'male', 'militarycareer', 'month', 'nochange_recent', 'prev_conflict', 'pt_attempt', 'pt_suc', 'ref_ant', 'ref_recent', 'tenure_months', 'victory_recent', 'year']\n"
     ]
    },
    {
     "name": "stdout",
     "output_type": "stream",
     "text": [
      "[17]\tvalidation_set's binary_logloss: 0.0633848\n",
      "[18]\tvalidation_set's binary_logloss: 0.0635511"
     ]
    },
    {
     "name": "stderr",
     "output_type": "stream",
     "text": [
      "Found `num_iterations` in params. Will use it instead of argument\n"
     ]
    },
    {
     "name": "stdout",
     "output_type": "stream",
     "text": [
      "[1]\tvalidation_set's binary_logloss: 0.0472572\n",
      "\n",
      "[19]\tvalidation_set's binary_logloss: 0.0635531Training until validation scores don't improve for 4 rounds\n",
      "\n",
      "[20]\tvalidation_set's binary_logloss: 0.0635029[2]\tvalidation_set's binary_logloss: 0.0488107\n",
      "\n",
      "[21]\tvalidation_set's binary_logloss: 0.0633697[1]\tvalidation_set's binary_logloss: 0.0716011\n",
      "[3]\tvalidation_set's binary_logloss: 0.0502208\n",
      "\n",
      "Training until validation scores don't improve for 4 rounds\n",
      "[22]\tvalidation_set's binary_logloss: 0.0634342[4]\tvalidation_set's binary_logloss: 0.0511677\n",
      "\n",
      "[2]\tvalidation_set's binary_logloss: 0.0694186[5]\tvalidation_set's binary_logloss: 0.0518357\n",
      "\n",
      "Early stopping, best iteration is:\n",
      "[1]\tvalidation_set's binary_logloss: 0.0472572[23]\tvalidation_set's binary_logloss: 0.0635434\n",
      "\n",
      "[3]\tvalidation_set's binary_logloss: 0.0679354\n",
      "[24]\tvalidation_set's binary_logloss: 0.0635994\n",
      "[4]\tvalidation_set's binary_logloss: 0.0669344\n"
     ]
    },
    {
     "name": "stderr",
     "output_type": "stream",
     "text": [
      "Found `num_iterations` in params. Will use it instead of argument\n"
     ]
    },
    {
     "name": "stdout",
     "output_type": "stream",
     "text": [
      "[25]\tvalidation_set's binary_logloss: 0.0636132[5]\tvalidation_set's binary_logloss: 0.0661143"
     ]
    },
    {
     "name": "stderr",
     "output_type": "stream",
     "text": [
      "categorical_feature in Dataset is overridden.\n",
      "New categorical_feature is ['age', 'anticipation', 'change_recent', 'country', 'defeat_recent', 'delayed', 'direct_recent', 'elected', 'election_now', 'election_recent', 'exec_ant', 'exec_recent', 'government', 'indirect_recent', 'irreg_lead_ant', 'lead_recent', 'leg_ant', 'leg_recent', 'male', 'militarycareer', 'month', 'nochange_recent', 'prev_conflict', 'pt_attempt', 'pt_suc', 'ref_ant', 'ref_recent', 'tenure_months', 'victory_recent', 'year']\n"
     ]
    },
    {
     "name": "stdout",
     "output_type": "stream",
     "text": [
      "\n",
      "\n",
      "Early stopping, best iteration is:\n",
      "[21]\tvalidation_set's binary_logloss: 0.0633697\n",
      "[6]\tvalidation_set's binary_logloss: 0.0654476\n",
      "[1]\tvalidation_set's binary_logloss: 0.0537024\n",
      "[7]\tvalidation_set's binary_logloss: 0.0648551Training until validation scores don't improve for 4 rounds\n",
      "\n",
      "[2]\tvalidation_set's binary_logloss: 0.0541477[8]\tvalidation_set's binary_logloss: 0.0642568\n",
      "\n",
      "[3]\tvalidation_set's binary_logloss: 0.0544026[1]\tvalidation_set's binary_logloss: 0.0410579[9]\tvalidation_set's binary_logloss: 0.0637847\n",
      "\n",
      "\n",
      "Training until validation scores don't improve for 4 rounds\n",
      "[4]\tvalidation_set's binary_logloss: 0.0552179[2]\tvalidation_set's binary_logloss: 0.0425868[10]\tvalidation_set's binary_logloss: 0.0634319\n",
      "\n",
      "\n",
      "[3]\tvalidation_set's binary_logloss: 0.0429501[5]\tvalidation_set's binary_logloss: 0.05535\n",
      "\n",
      "Early stopping, best iteration is:\n",
      "[1]\tvalidation_set's binary_logloss: 0.0537024[4]\tvalidation_set's binary_logloss: 0.0433172[11]\tvalidation_set's binary_logloss: 0.0630748\n",
      "\n",
      "\n",
      "[5]\tvalidation_set's binary_logloss: 0.0431952\n",
      "[12]\tvalidation_set's binary_logloss: 0.0627124Early stopping, best iteration is:\n",
      "[1]\tvalidation_set's binary_logloss: 0.0410579\n",
      "\n",
      "[13]\tvalidation_set's binary_logloss: 0.0623409\n",
      "[14]\tvalidation_set's binary_logloss: 0.0621565\n",
      "[15]\tvalidation_set's binary_logloss: 0.0619917\n"
     ]
    },
    {
     "name": "stderr",
     "output_type": "stream",
     "text": [
      "Found `num_iterations` in params. Will use it instead of argument\n",
      "categorical_feature in Dataset is overridden.\n",
      "New categorical_feature is ['age', 'anticipation', 'change_recent', 'country', 'defeat_recent', 'delayed', 'direct_recent', 'elected', 'election_now', 'election_recent', 'exec_ant', 'exec_recent', 'government', 'indirect_recent', 'irreg_lead_ant', 'lead_recent', 'leg_ant', 'leg_recent', 'male', 'militarycareer', 'month', 'nochange_recent', 'prev_conflict', 'pt_attempt', 'pt_suc', 'ref_ant', 'ref_recent', 'tenure_months', 'victory_recent', 'year']\n"
     ]
    },
    {
     "name": "stdout",
     "output_type": "stream",
     "text": [
      "[1]\tvalidation_set's binary_logloss: 0.0533185\n",
      "[16]\tvalidation_set's binary_logloss: 0.0618308Training until validation scores don't improve for 4 rounds\n",
      "\n",
      "[2]\tvalidation_set's binary_logloss: 0.0536866[17]\tvalidation_set's binary_logloss: 0.0617039\n",
      "\n",
      "[3]\tvalidation_set's binary_logloss: 0.0542189[18]\tvalidation_set's binary_logloss: 0.0615824\n",
      "\n",
      "[4]\tvalidation_set's binary_logloss: 0.0545499[19]\tvalidation_set's binary_logloss: 0.0613774\n",
      "\n",
      "[5]\tvalidation_set's binary_logloss: 0.0546313\n",
      "[20]\tvalidation_set's binary_logloss: 0.0613091Early stopping, best iteration is:\n",
      "[1]\tvalidation_set's binary_logloss: 0.0533185\n",
      "\n",
      "[21]\tvalidation_set's binary_logloss: 0.0612111\n",
      "[22]\tvalidation_set's binary_logloss: 0.0611079\n",
      "[23]\tvalidation_set's binary_logloss: 0.0611372\n",
      "[24]\tvalidation_set's binary_logloss: 0.0610483\n",
      "[25]\tvalidation_set's binary_logloss: 0.0609905\n",
      "[26]\tvalidation_set's binary_logloss: 0.0609258\n",
      "[1]\tvalidation_set's binary_logloss: 0.0449963\n",
      "Training until validation scores don't improve for 4 rounds[27]\tvalidation_set's binary_logloss: 0.0608437[1]\tvalidation_set's binary_logloss: 0.0570395"
     ]
    },
    {
     "name": "stderr",
     "output_type": "stream",
     "text": [
      "Found `num_iterations` in params. Will use it instead of argument\n"
     ]
    },
    {
     "name": "stdout",
     "output_type": "stream",
     "text": [
      "\n",
      "\n",
      "\n"
     ]
    },
    {
     "name": "stderr",
     "output_type": "stream",
     "text": [
      "categorical_feature in Dataset is overridden.\n",
      "New categorical_feature is ['age', 'anticipation', 'change_recent', 'country', 'defeat_recent', 'delayed', 'direct_recent', 'elected', 'election_now', 'election_recent', 'exec_ant', 'exec_recent', 'government', 'indirect_recent', 'irreg_lead_ant', 'lead_recent', 'leg_ant', 'leg_recent', 'male', 'militarycareer', 'month', 'nochange_recent', 'prev_conflict', 'pt_attempt', 'pt_suc', 'ref_ant', 'ref_recent', 'tenure_months', 'victory_recent', 'year']\n"
     ]
    },
    {
     "name": "stdout",
     "output_type": "stream",
     "text": [
      "Training until validation scores don't improve for 4 rounds\n",
      "[2]\tvalidation_set's binary_logloss: 0.0457627[28]\tvalidation_set's binary_logloss: 0.0608312\n",
      "\n",
      "[3]\tvalidation_set's binary_logloss: 0.0480392[2]\tvalidation_set's binary_logloss: 0.0570969\n",
      "\n",
      "[29]\tvalidation_set's binary_logloss: 0.0608386\n",
      "[4]\tvalidation_set's binary_logloss: 0.0493901[3]\tvalidation_set's binary_logloss: 0.0571331\n",
      "\n",
      "[30]\tvalidation_set's binary_logloss: 0.0609249\n",
      "[4]\tvalidation_set's binary_logloss: 0.0569473[5]\tvalidation_set's binary_logloss: 0.0498291\n",
      "\n",
      "Early stopping, best iteration is:\n",
      "[1]\tvalidation_set's binary_logloss: 0.0449963\n",
      "[5]\tvalidation_set's binary_logloss: 0.0571223[31]\tvalidation_set's binary_logloss: 0.0608922\n",
      "\n",
      "[6]\tvalidation_set's binary_logloss: 0.0569649[32]\tvalidation_set's binary_logloss: 0.0608958\n",
      "\n",
      "Early stopping, best iteration is:\n",
      "[28]\tvalidation_set's binary_logloss: 0.0608312\n",
      "[7]\tvalidation_set's binary_logloss: 0.0570579\n",
      "[8]\tvalidation_set's binary_logloss: 0.0571639\n",
      "Early stopping, best iteration is:\n",
      "[4]\tvalidation_set's binary_logloss: 0.0569473\n"
     ]
    },
    {
     "name": "stderr",
     "output_type": "stream",
     "text": [
      "Found `num_iterations` in params. Will use it instead of argument\n",
      "categorical_feature in Dataset is overridden.\n",
      "New categorical_feature is ['age', 'anticipation', 'change_recent', 'country', 'defeat_recent', 'delayed', 'direct_recent', 'elected', 'election_now', 'election_recent', 'exec_ant', 'exec_recent', 'government', 'indirect_recent', 'irreg_lead_ant', 'lead_recent', 'leg_ant', 'leg_recent', 'male', 'militarycareer', 'month', 'nochange_recent', 'prev_conflict', 'pt_attempt', 'pt_suc', 'ref_ant', 'ref_recent', 'tenure_months', 'victory_recent', 'year']\n"
     ]
    },
    {
     "name": "stdout",
     "output_type": "stream",
     "text": [
      "[1]\tvalidation_set's binary_logloss: 0.0451993\n",
      "Training until validation scores don't improve for 4 rounds\n",
      "[2]\tvalidation_set's binary_logloss: 0.0466495\n",
      "[3]\tvalidation_set's binary_logloss: 0.0470188\n",
      "[4]\tvalidation_set's binary_logloss: 0.04783\n",
      "[5]\tvalidation_set's binary_logloss: 0.0476284\n",
      "Early stopping, best iteration is:\n",
      "[1]\tvalidation_set's binary_logloss: 0.0451993\n",
      "[1]\tvalidation_set's binary_logloss: 0.0450486"
     ]
    },
    {
     "name": "stderr",
     "output_type": "stream",
     "text": [
      "Found `num_iterations` in params. Will use it instead of argument\n"
     ]
    },
    {
     "name": "stdout",
     "output_type": "stream",
     "text": [
      "\n"
     ]
    },
    {
     "name": "stderr",
     "output_type": "stream",
     "text": [
      "categorical_feature in Dataset is overridden.\n",
      "New categorical_feature is ['age', 'anticipation', 'change_recent', 'country', 'defeat_recent', 'delayed', 'direct_recent', 'elected', 'election_now', 'election_recent', 'exec_ant', 'exec_recent', 'government', 'indirect_recent', 'irreg_lead_ant', 'lead_recent', 'leg_ant', 'leg_recent', 'male', 'militarycareer', 'month', 'nochange_recent', 'prev_conflict', 'pt_attempt', 'pt_suc', 'ref_ant', 'ref_recent', 'tenure_months', 'victory_recent', 'year']\n"
     ]
    },
    {
     "name": "stdout",
     "output_type": "stream",
     "text": [
      "Training until validation scores don't improve for 4 rounds\n",
      "[2]\tvalidation_set's binary_logloss: 0.0460514\n",
      "[3]\tvalidation_set's binary_logloss: 0.046398\n",
      "[4]\tvalidation_set's binary_logloss: 0.0466665\n",
      "[5]\tvalidation_set's binary_logloss: 0.047153\n",
      "Early stopping, best iteration is:\n",
      "[1]\tvalidation_set's binary_logloss: 0.0450486\n",
      "[1]\tvalidation_set's binary_logloss: 0.0620113\n",
      "Training until validation scores don't improve for 4 rounds\n",
      "[2]\tvalidation_set's binary_logloss: 0.0615354\n",
      "[3]\tvalidation_set's binary_logloss: 0.0611831\n",
      "[4]\tvalidation_set's binary_logloss: 0.0608658\n"
     ]
    },
    {
     "name": "stderr",
     "output_type": "stream",
     "text": [
      "Found `num_iterations` in params. Will use it instead of argument\n",
      "categorical_feature in Dataset is overridden.\n",
      "New categorical_feature is ['age', 'anticipation', 'change_recent', 'country', 'defeat_recent', 'delayed', 'direct_recent', 'elected', 'election_now', 'election_recent', 'exec_ant', 'exec_recent', 'government', 'indirect_recent', 'irreg_lead_ant', 'lead_recent', 'leg_ant', 'leg_recent', 'male', 'militarycareer', 'month', 'nochange_recent', 'prev_conflict', 'pt_attempt', 'pt_suc', 'ref_ant', 'ref_recent', 'tenure_months', 'victory_recent', 'year']\n"
     ]
    },
    {
     "name": "stdout",
     "output_type": "stream",
     "text": [
      "[1]\tvalidation_set's binary_logloss: 0.0565165[5]\tvalidation_set's binary_logloss: 0.0607265\n",
      "\n"
     ]
    },
    {
     "name": "stderr",
     "output_type": "stream",
     "text": [
      "Found `num_iterations` in params. Will use it instead of argument\n"
     ]
    },
    {
     "name": "stdout",
     "output_type": "stream",
     "text": [
      "Training until validation scores don't improve for 4 rounds"
     ]
    },
    {
     "name": "stderr",
     "output_type": "stream",
     "text": [
      "categorical_feature in Dataset is overridden.\n",
      "New categorical_feature is ['age', 'anticipation', 'change_recent', 'country', 'defeat_recent', 'delayed', 'direct_recent', 'elected', 'election_now', 'election_recent', 'exec_ant', 'exec_recent', 'government', 'indirect_recent', 'irreg_lead_ant', 'lead_recent', 'leg_ant', 'leg_recent', 'male', 'militarycareer', 'month', 'nochange_recent', 'prev_conflict', 'pt_attempt', 'pt_suc', 'ref_ant', 'ref_recent', 'tenure_months', 'victory_recent', 'year']\n"
     ]
    },
    {
     "name": "stdout",
     "output_type": "stream",
     "text": [
      "[6]\tvalidation_set's binary_logloss: 0.0605727\n",
      "\n",
      "[2]\tvalidation_set's binary_logloss: 0.0563198[7]\tvalidation_set's binary_logloss: 0.0605536\n",
      "\n",
      "[8]\tvalidation_set's binary_logloss: 0.0604307[3]\tvalidation_set's binary_logloss: 0.0563792\n",
      "\n",
      "[9]\tvalidation_set's binary_logloss: 0.0604799[4]\tvalidation_set's binary_logloss: 0.0564031\n",
      "\n",
      "[10]\tvalidation_set's binary_logloss: 0.0605656[5]\tvalidation_set's binary_logloss: 0.0562971\n",
      "\n",
      "[6]\tvalidation_set's binary_logloss: 0.0564497[11]\tvalidation_set's binary_logloss: 0.0606697\n",
      "\n",
      "[7]\tvalidation_set's binary_logloss: 0.0566087\n",
      "[8]\tvalidation_set's binary_logloss: 0.0565221[12]\tvalidation_set's binary_logloss: 0.0607536\n",
      "[1]\tvalidation_set's binary_logloss: 0.0537142\n",
      "\n",
      "Early stopping, best iteration is:\n",
      "[8]\tvalidation_set's binary_logloss: 0.0604307[9]\tvalidation_set's binary_logloss: 0.0566575Training until validation scores don't improve for 4 rounds\n",
      "\n",
      "\n",
      "Early stopping, best iteration is:\n",
      "[5]\tvalidation_set's binary_logloss: 0.0562971[2]\tvalidation_set's binary_logloss: 0.0546146\n",
      "\n",
      "[3]\tvalidation_set's binary_logloss: 0.0553424\n",
      "[4]\tvalidation_set's binary_logloss: 0.0556605\n",
      "[5]\tvalidation_set's binary_logloss: 0.0560409\n",
      "Early stopping, best iteration is:\n",
      "[1]\tvalidation_set's binary_logloss: 0.0537142\n",
      "[1]\tvalidation_set's binary_logloss: 0.0405669\n",
      "Training until validation scores don't improve for 4 rounds\n",
      "[2]\tvalidation_set's binary_logloss: 0.0415459\n",
      "[3]\tvalidation_set's binary_logloss: 0.0419824\n",
      "[4]\tvalidation_set's binary_logloss: 0.0431462\n",
      "[5]\tvalidation_set's binary_logloss: 0.0435969\n",
      "Early stopping, best iteration is:\n",
      "[1]\tvalidation_set's binary_logloss: 0.0405669\n",
      "[1]\tvalidation_set's binary_logloss: 0.0474754\n",
      "Training until validation scores don't improve for 4 rounds"
     ]
    },
    {
     "name": "stderr",
     "output_type": "stream",
     "text": [
      "Found `num_iterations` in params. Will use it instead of argument\n",
      "categorical_feature in Dataset is overridden.\n",
      "New categorical_feature is ['age', 'anticipation', 'change_recent', 'country', 'defeat_recent', 'delayed', 'direct_recent', 'elected', 'election_now', 'election_recent', 'exec_ant', 'exec_recent', 'government', 'indirect_recent', 'irreg_lead_ant', 'lead_recent', 'leg_ant', 'leg_recent', 'male', 'militarycareer', 'month', 'nochange_recent', 'prev_conflict', 'pt_attempt', 'pt_suc', 'ref_ant', 'ref_recent', 'tenure_months', 'victory_recent', 'year']\n"
     ]
    },
    {
     "name": "stdout",
     "output_type": "stream",
     "text": [
      "\n"
     ]
    },
    {
     "name": "stderr",
     "output_type": "stream",
     "text": [
      "categorical_feature in Dataset is overridden.\n",
      "New categorical_feature is ['age', 'anticipation', 'change_recent', 'country', 'defeat_recent', 'delayed', 'direct_recent', 'elected', 'election_now', 'election_recent', 'exec_ant', 'exec_recent', 'government', 'indirect_recent', 'irreg_lead_ant', 'lead_recent', 'leg_ant', 'leg_recent', 'male', 'militarycareer', 'month', 'nochange_recent', 'prev_conflict', 'pt_attempt', 'pt_suc', 'ref_ant', 'ref_recent', 'tenure_months', 'victory_recent', 'year']\n"
     ]
    },
    {
     "name": "stdout",
     "output_type": "stream",
     "text": [
      "[2]\tvalidation_set's binary_logloss: 0.0481676[1]\tvalidation_set's binary_logloss: 0.0554612\n",
      "\n",
      "Training until validation scores don't improve for 4 rounds[3]\tvalidation_set's binary_logloss: 0.0482152\n",
      "\n",
      "[2]\tvalidation_set's binary_logloss: 0.0561076[4]\tvalidation_set's binary_logloss: 0.0488332\n",
      "\n",
      "[5]\tvalidation_set's binary_logloss: 0.0491958[3]\tvalidation_set's binary_logloss: 0.0562892\n",
      "\n",
      "Early stopping, best iteration is:\n",
      "[1]\tvalidation_set's binary_logloss: 0.0474754[4]\tvalidation_set's binary_logloss: 0.0563627\n",
      "\n",
      "[5]\tvalidation_set's binary_logloss: 0.0565925\n",
      "Early stopping, best iteration is:\n",
      "[1]\tvalidation_set's binary_logloss: 0.0554612\n",
      "[1]\tvalidation_set's binary_logloss: 0.0490932\n",
      "Training until validation scores don't improve for 4 rounds\n",
      "[2]\tvalidation_set's binary_logloss: 0.0510498\n",
      "[3]\tvalidation_set's binary_logloss: 0.0514631\n",
      "[4]\tvalidation_set's binary_logloss: 0.0519396\n",
      "[5]\tvalidation_set's binary_logloss: 0.0526942\n",
      "Early stopping, best iteration is:\n",
      "[1]\tvalidation_set's binary_logloss: 0.0490932\n",
      "[1]\tvalidation_set's binary_logloss: 0.0495177\n",
      "Training until validation scores don't improve for 4 rounds\n",
      "[2]\tvalidation_set's binary_logloss: 0.0510239"
     ]
    },
    {
     "name": "stderr",
     "output_type": "stream",
     "text": [
      "Found `num_iterations` in params. Will use it instead of argument\n"
     ]
    },
    {
     "name": "stdout",
     "output_type": "stream",
     "text": [
      "\n"
     ]
    },
    {
     "name": "stderr",
     "output_type": "stream",
     "text": [
      "categorical_feature in Dataset is overridden.\n",
      "New categorical_feature is ['age', 'anticipation', 'change_recent', 'country', 'defeat_recent', 'delayed', 'direct_recent', 'elected', 'election_now', 'election_recent', 'exec_ant', 'exec_recent', 'government', 'indirect_recent', 'irreg_lead_ant', 'lead_recent', 'leg_ant', 'leg_recent', 'male', 'militarycareer', 'month', 'nochange_recent', 'prev_conflict', 'pt_attempt', 'pt_suc', 'ref_ant', 'ref_recent', 'tenure_months', 'victory_recent', 'year']\n"
     ]
    },
    {
     "name": "stdout",
     "output_type": "stream",
     "text": [
      "[3]\tvalidation_set's binary_logloss: 0.0518538\n",
      "[4]\tvalidation_set's binary_logloss: 0.0526165\n",
      "[5]\tvalidation_set's binary_logloss: 0.0534127\n",
      "Early stopping, best iteration is:\n",
      "[1]\tvalidation_set's binary_logloss: 0.0495177\n"
     ]
    },
    {
     "name": "stderr",
     "output_type": "stream",
     "text": [
      "Found `num_iterations` in params. Will use it instead of argument\n",
      "categorical_feature in Dataset is overridden.\n",
      "New categorical_feature is ['age', 'anticipation', 'change_recent', 'country', 'defeat_recent', 'delayed', 'direct_recent', 'elected', 'election_now', 'election_recent', 'exec_ant', 'exec_recent', 'government', 'indirect_recent', 'irreg_lead_ant', 'lead_recent', 'leg_ant', 'leg_recent', 'male', 'militarycareer', 'month', 'nochange_recent', 'prev_conflict', 'pt_attempt', 'pt_suc', 'ref_ant', 'ref_recent', 'tenure_months', 'victory_recent', 'year']\n",
      "Found `num_iterations` in params. Will use it instead of argument\n",
      "categorical_feature in Dataset is overridden.\n",
      "New categorical_feature is ['age', 'anticipation', 'change_recent', 'country', 'defeat_recent', 'delayed', 'direct_recent', 'elected', 'election_now', 'election_recent', 'exec_ant', 'exec_recent', 'government', 'indirect_recent', 'irreg_lead_ant', 'lead_recent', 'leg_ant', 'leg_recent', 'male', 'militarycareer', 'month', 'nochange_recent', 'prev_conflict', 'pt_attempt', 'pt_suc', 'ref_ant', 'ref_recent', 'tenure_months', 'victory_recent', 'year']\n",
      "Found `num_iterations` in params. Will use it instead of argument\n",
      "categorical_feature in Dataset is overridden.\n",
      "New categorical_feature is ['age', 'anticipation', 'change_recent', 'country', 'defeat_recent', 'delayed', 'direct_recent', 'elected', 'election_now', 'election_recent', 'exec_ant', 'exec_recent', 'government', 'indirect_recent', 'irreg_lead_ant', 'lead_recent', 'leg_ant', 'leg_recent', 'male', 'militarycareer', 'month', 'nochange_recent', 'prev_conflict', 'pt_attempt', 'pt_suc', 'ref_ant', 'ref_recent', 'tenure_months', 'victory_recent', 'year']\n"
     ]
    },
    {
     "name": "stdout",
     "output_type": "stream",
     "text": [
      "[1]\tvalidation_set's binary_logloss: 0.0534286\n",
      "Training until validation scores don't improve for 4 rounds\n",
      "[2]\tvalidation_set's binary_logloss: 0.0536934\n",
      "[3]\tvalidation_set's binary_logloss: 0.0539827\n",
      "[4]\tvalidation_set's binary_logloss: 0.0540765\n",
      "[5]\tvalidation_set's binary_logloss: 0.0541938\n",
      "Early stopping, best iteration is:\n",
      "[1]\tvalidation_set's binary_logloss: 0.0534286\n",
      "[1]\tvalidation_set's binary_logloss: 0.0524583\n",
      "Training until validation scores don't improve for 4 rounds\n",
      "[2]\tvalidation_set's binary_logloss: 0.0534735[1]\tvalidation_set's binary_logloss: 0.0619182\n",
      "\n",
      "[1]\tvalidation_set's binary_logloss: 0.0618984Training until validation scores don't improve for 4 rounds\n",
      "[3]\tvalidation_set's binary_logloss: 0.0543101Training until validation scores don't improve for 4 rounds\n",
      "\n",
      "\n",
      "[4]\tvalidation_set's binary_logloss: 0.0547582[2]\tvalidation_set's binary_logloss: 0.0617232[2]\tvalidation_set's binary_logloss: 0.0618702\n",
      "\n",
      "\n",
      "[5]\tvalidation_set's binary_logloss: 0.0554972[3]\tvalidation_set's binary_logloss: 0.061587[3]\tvalidation_set's binary_logloss: 0.061564"
     ]
    },
    {
     "name": "stderr",
     "output_type": "stream",
     "text": [
      "Found `num_iterations` in params. Will use it instead of argument\n"
     ]
    },
    {
     "name": "stdout",
     "output_type": "stream",
     "text": [
      "\n",
      "\n",
      "\n"
     ]
    },
    {
     "name": "stderr",
     "output_type": "stream",
     "text": [
      "categorical_feature in Dataset is overridden.\n",
      "New categorical_feature is ['age', 'anticipation', 'change_recent', 'country', 'defeat_recent', 'delayed', 'direct_recent', 'elected', 'election_now', 'election_recent', 'exec_ant', 'exec_recent', 'government', 'indirect_recent', 'irreg_lead_ant', 'lead_recent', 'leg_ant', 'leg_recent', 'male', 'militarycareer', 'month', 'nochange_recent', 'prev_conflict', 'pt_attempt', 'pt_suc', 'ref_ant', 'ref_recent', 'tenure_months', 'victory_recent', 'year']\n"
     ]
    },
    {
     "name": "stdout",
     "output_type": "stream",
     "text": [
      "Early stopping, best iteration is:\n",
      "[1]\tvalidation_set's binary_logloss: 0.0524583[4]\tvalidation_set's binary_logloss: 0.0613582[4]\tvalidation_set's binary_logloss: 0.0612907\n",
      "\n",
      "\n",
      "[5]\tvalidation_set's binary_logloss: 0.0611905[5]\tvalidation_set's binary_logloss: 0.061244\n",
      "\n",
      "[6]\tvalidation_set's binary_logloss: 0.0612053[1]\tvalidation_set's binary_logloss: 0.0502236[6]\tvalidation_set's binary_logloss: 0.0611573\n",
      "\n",
      "\n",
      "Training until validation scores don't improve for 4 rounds[7]\tvalidation_set's binary_logloss: 0.0612142[7]\tvalidation_set's binary_logloss: 0.0612171\n",
      "\n",
      "\n",
      "[8]\tvalidation_set's binary_logloss: 0.0611107[8]\tvalidation_set's binary_logloss: 0.0613744[2]\tvalidation_set's binary_logloss: 0.0509654\n",
      "\n",
      "\n",
      "[3]\tvalidation_set's binary_logloss: 0.0517649[1]\tvalidation_set's binary_logloss: 0.0527029\n",
      "\n",
      "Training until validation scores don't improve for 4 rounds[9]\tvalidation_set's binary_logloss: 0.061602[9]\tvalidation_set's binary_logloss: 0.0610343\n",
      "\n",
      "\n",
      "[2]\tvalidation_set's binary_logloss: 0.0532811[4]\tvalidation_set's binary_logloss: 0.0522915[10]\tvalidation_set's binary_logloss: 0.0615888[10]\tvalidation_set's binary_logloss: 0.0610133\n",
      "\n",
      "\n",
      "\n",
      "Early stopping, best iteration is:\n",
      "[6]\tvalidation_set's binary_logloss: 0.0611573\n",
      "[5]\tvalidation_set's binary_logloss: 0.0527422[3]\tvalidation_set's binary_logloss: 0.0541717[11]\tvalidation_set's binary_logloss: 0.0610933\n",
      "\n",
      "\n",
      "Early stopping, best iteration is:\n",
      "[1]\tvalidation_set's binary_logloss: 0.0502236\n",
      "[4]\tvalidation_set's binary_logloss: 0.0548372[12]\tvalidation_set's binary_logloss: 0.0611057\n",
      "\n",
      "[5]\tvalidation_set's binary_logloss: 0.055287[13]\tvalidation_set's binary_logloss: 0.0611783\n",
      "\n",
      "Early stopping, best iteration is:\n",
      "[1]\tvalidation_set's binary_logloss: 0.0527029\n",
      "[14]\tvalidation_set's binary_logloss: 0.0612834\n",
      "Early stopping, best iteration is:\n",
      "[10]\tvalidation_set's binary_logloss: 0.0610133\n"
     ]
    },
    {
     "name": "stderr",
     "output_type": "stream",
     "text": [
      "Found `num_iterations` in params. Will use it instead of argument\n",
      "categorical_feature in Dataset is overridden.\n",
      "New categorical_feature is ['age', 'anticipation', 'change_recent', 'country', 'defeat_recent', 'delayed', 'direct_recent', 'elected', 'election_now', 'election_recent', 'exec_ant', 'exec_recent', 'government', 'indirect_recent', 'irreg_lead_ant', 'lead_recent', 'leg_ant', 'leg_recent', 'male', 'militarycareer', 'month', 'nochange_recent', 'prev_conflict', 'pt_attempt', 'pt_suc', 'ref_ant', 'ref_recent', 'tenure_months', 'victory_recent', 'year']\n"
     ]
    },
    {
     "name": "stdout",
     "output_type": "stream",
     "text": [
      "[1]\tvalidation_set's binary_logloss: 0.0532304\n",
      "Training until validation scores don't improve for 4 rounds\n",
      "[2]\tvalidation_set's binary_logloss: 0.0541752\n",
      "[3]\tvalidation_set's binary_logloss: 0.0548691\n",
      "[4]\tvalidation_set's binary_logloss: 0.0553277\n",
      "[5]\tvalidation_set's binary_logloss: 0.0555683\n",
      "Early stopping, best iteration is:\n",
      "[1]\tvalidation_set's binary_logloss: 0.0532304\n",
      "[1]\tvalidation_set's binary_logloss: 0.0616337\n",
      "Training until validation scores don't improve for 4 rounds\n"
     ]
    },
    {
     "name": "stderr",
     "output_type": "stream",
     "text": [
      "Found `num_iterations` in params. Will use it instead of argument\n"
     ]
    },
    {
     "name": "stdout",
     "output_type": "stream",
     "text": [
      "[2]\tvalidation_set's binary_logloss: 0.0616393"
     ]
    },
    {
     "name": "stderr",
     "output_type": "stream",
     "text": [
      "categorical_feature in Dataset is overridden.\n",
      "New categorical_feature is ['age', 'anticipation', 'change_recent', 'country', 'defeat_recent', 'delayed', 'direct_recent', 'elected', 'election_now', 'election_recent', 'exec_ant', 'exec_recent', 'government', 'indirect_recent', 'irreg_lead_ant', 'lead_recent', 'leg_ant', 'leg_recent', 'male', 'militarycareer', 'month', 'nochange_recent', 'prev_conflict', 'pt_attempt', 'pt_suc', 'ref_ant', 'ref_recent', 'tenure_months', 'victory_recent', 'year']\n"
     ]
    },
    {
     "name": "stdout",
     "output_type": "stream",
     "text": [
      "\n",
      "[3]\tvalidation_set's binary_logloss: 0.0613451\n",
      "[4]\tvalidation_set's binary_logloss: 0.0611418\n",
      "[5]\tvalidation_set's binary_logloss: 0.0610653\n",
      "[6]\tvalidation_set's binary_logloss: 0.0609252\n",
      "[7]\tvalidation_set's binary_logloss: 0.0606935[1]\tvalidation_set's binary_logloss: 0.048528\n",
      "\n",
      "Training until validation scores don't improve for 4 rounds\n",
      "[2]\tvalidation_set's binary_logloss: 0.0496936[8]\tvalidation_set's binary_logloss: 0.0607116\n",
      "\n",
      "[3]\tvalidation_set's binary_logloss: 0.0505694[9]\tvalidation_set's binary_logloss: 0.0606008\n",
      "\n"
     ]
    },
    {
     "name": "stderr",
     "output_type": "stream",
     "text": [
      "Found `num_iterations` in params. Will use it instead of argument\n"
     ]
    },
    {
     "name": "stdout",
     "output_type": "stream",
     "text": [
      "[4]\tvalidation_set's binary_logloss: 0.051113"
     ]
    },
    {
     "name": "stderr",
     "output_type": "stream",
     "text": [
      "categorical_feature in Dataset is overridden.\n",
      "New categorical_feature is ['age', 'anticipation', 'change_recent', 'country', 'defeat_recent', 'delayed', 'direct_recent', 'elected', 'election_now', 'election_recent', 'exec_ant', 'exec_recent', 'government', 'indirect_recent', 'irreg_lead_ant', 'lead_recent', 'leg_ant', 'leg_recent', 'male', 'militarycareer', 'month', 'nochange_recent', 'prev_conflict', 'pt_attempt', 'pt_suc', 'ref_ant', 'ref_recent', 'tenure_months', 'victory_recent', 'year']\n"
     ]
    },
    {
     "name": "stdout",
     "output_type": "stream",
     "text": [
      "\n",
      "[10]\tvalidation_set's binary_logloss: 0.0606847\n",
      "[5]\tvalidation_set's binary_logloss: 0.0515268\n",
      "Early stopping, best iteration is:\n",
      "[1]\tvalidation_set's binary_logloss: 0.048528[11]\tvalidation_set's binary_logloss: 0.0606524\n",
      "\n",
      "[12]\tvalidation_set's binary_logloss: 0.0606448\n",
      "[13]\tvalidation_set's binary_logloss: 0.0607403\n",
      "Early stopping, best iteration is:\n",
      "[9]\tvalidation_set's binary_logloss: 0.0606008"
     ]
    },
    {
     "name": "stderr",
     "output_type": "stream",
     "text": [
      "Found `num_iterations` in params. Will use it instead of argument\n",
      "categorical_feature in Dataset is overridden.\n",
      "New categorical_feature is ['age', 'anticipation', 'change_recent', 'country', 'defeat_recent', 'delayed', 'direct_recent', 'elected', 'election_now', 'election_recent', 'exec_ant', 'exec_recent', 'government', 'indirect_recent', 'irreg_lead_ant', 'lead_recent', 'leg_ant', 'leg_recent', 'male', 'militarycareer', 'month', 'nochange_recent', 'prev_conflict', 'pt_attempt', 'pt_suc', 'ref_ant', 'ref_recent', 'tenure_months', 'victory_recent', 'year']\n"
     ]
    },
    {
     "name": "stdout",
     "output_type": "stream",
     "text": [
      "\n"
     ]
    },
    {
     "name": "stderr",
     "output_type": "stream",
     "text": [
      "Found `num_iterations` in params. Will use it instead of argument\n",
      "Found `num_iterations` in params. Will use it instead of argument\n",
      "categorical_feature in Dataset is overridden.\n",
      "New categorical_feature is ['age', 'anticipation', 'change_recent', 'country', 'defeat_recent', 'delayed', 'direct_recent', 'elected', 'election_now', 'election_recent', 'exec_ant', 'exec_recent', 'government', 'indirect_recent', 'irreg_lead_ant', 'lead_recent', 'leg_ant', 'leg_recent', 'male', 'militarycareer', 'month', 'nochange_recent', 'prev_conflict', 'pt_attempt', 'pt_suc', 'ref_ant', 'ref_recent', 'tenure_months', 'victory_recent', 'year']\n"
     ]
    },
    {
     "name": "stdout",
     "output_type": "stream",
     "text": [
      "[1]\tvalidation_set's binary_logloss: 0.0482984\n",
      "Training until validation scores don't improve for 4 rounds\n",
      "[2]\tvalidation_set's binary_logloss: 0.0496123\n",
      "[3]\tvalidation_set's binary_logloss: 0.0505846\n",
      "[4]\tvalidation_set's binary_logloss: 0.0507198\n",
      "[5]\tvalidation_set's binary_logloss: 0.0511157[1]\tvalidation_set's binary_logloss: 0.0493502\n",
      "Early stopping, best iteration is:\n",
      "[1]\tvalidation_set's binary_logloss: 0.0482984\n",
      "Training until validation scores don't improve for 4 rounds\n",
      "\n",
      "[2]\tvalidation_set's binary_logloss: 0.0503118\n",
      "[3]\tvalidation_set's binary_logloss: 0.0512212[1]\tvalidation_set's binary_logloss: 0.0506125\n",
      "\n",
      "Training until validation scores don't improve for 4 rounds\n",
      "[2]\tvalidation_set's binary_logloss: 0.0510152\n",
      "[4]\tvalidation_set's binary_logloss: 0.0517323\n",
      "[3]\tvalidation_set's binary_logloss: 0.0512779[1]\tvalidation_set's binary_logloss: 0.0432996[5]\tvalidation_set's binary_logloss: 0.0523323\n",
      "\n",
      "\n",
      "[4]\tvalidation_set's binary_logloss: 0.0521663Training until validation scores don't improve for 4 roundsEarly stopping, best iteration is:\n",
      "[1]\tvalidation_set's binary_logloss: 0.0493502\n"
     ]
    },
    {
     "name": "stderr",
     "output_type": "stream",
     "text": [
      "Found `num_iterations` in params. Will use it instead of argument\n"
     ]
    },
    {
     "name": "stdout",
     "output_type": "stream",
     "text": [
      "\n",
      "\n"
     ]
    },
    {
     "name": "stderr",
     "output_type": "stream",
     "text": [
      "categorical_feature in Dataset is overridden.\n",
      "New categorical_feature is ['age', 'anticipation', 'change_recent', 'country', 'defeat_recent', 'delayed', 'direct_recent', 'elected', 'election_now', 'election_recent', 'exec_ant', 'exec_recent', 'government', 'indirect_recent', 'irreg_lead_ant', 'lead_recent', 'leg_ant', 'leg_recent', 'male', 'militarycareer', 'month', 'nochange_recent', 'prev_conflict', 'pt_attempt', 'pt_suc', 'ref_ant', 'ref_recent', 'tenure_months', 'victory_recent', 'year']\n"
     ]
    },
    {
     "name": "stdout",
     "output_type": "stream",
     "text": [
      "[5]\tvalidation_set's binary_logloss: 0.0527821[2]\tvalidation_set's binary_logloss: 0.0446119\n",
      "\n",
      "Early stopping, best iteration is:\n",
      "[1]\tvalidation_set's binary_logloss: 0.0506125\n",
      "[3]\tvalidation_set's binary_logloss: 0.0459561\n",
      "[4]\tvalidation_set's binary_logloss: 0.0461044\n",
      "[5]\tvalidation_set's binary_logloss: 0.0462097\n",
      "Early stopping, best iteration is:\n",
      "[1]\tvalidation_set's binary_logloss: 0.0432996\n",
      "[1]\tvalidation_set's binary_logloss: 0.0542603\n",
      "Training until validation scores don't improve for 4 rounds\n",
      "[2]\tvalidation_set's binary_logloss: 0.0549633\n",
      "[3]\tvalidation_set's binary_logloss: 0.0556502\n",
      "[4]\tvalidation_set's binary_logloss: 0.0561079\n",
      "[5]\tvalidation_set's binary_logloss: 0.0563916\n",
      "[1]\tvalidation_set's binary_logloss: 0.061656\n",
      "Early stopping, best iteration is:\n",
      "[1]\tvalidation_set's binary_logloss: 0.0542603Training until validation scores don't improve for 4 rounds\n",
      "\n",
      "[2]\tvalidation_set's binary_logloss: 0.0614436\n",
      "[3]\tvalidation_set's binary_logloss: 0.0613196\n",
      "[4]\tvalidation_set's binary_logloss: 0.061003\n",
      "[5]\tvalidation_set's binary_logloss: 0.0607539\n",
      "[6]\tvalidation_set's binary_logloss: 0.0606361\n",
      "[7]\tvalidation_set's binary_logloss: 0.0604308"
     ]
    },
    {
     "name": "stderr",
     "output_type": "stream",
     "text": [
      "Found `num_iterations` in params. Will use it instead of argument\n"
     ]
    },
    {
     "name": "stdout",
     "output_type": "stream",
     "text": [
      "\n"
     ]
    },
    {
     "name": "stderr",
     "output_type": "stream",
     "text": [
      "categorical_feature in Dataset is overridden.\n",
      "New categorical_feature is ['age', 'anticipation', 'change_recent', 'country', 'defeat_recent', 'delayed', 'direct_recent', 'elected', 'election_now', 'election_recent', 'exec_ant', 'exec_recent', 'government', 'indirect_recent', 'irreg_lead_ant', 'lead_recent', 'leg_ant', 'leg_recent', 'male', 'militarycareer', 'month', 'nochange_recent', 'prev_conflict', 'pt_attempt', 'pt_suc', 'ref_ant', 'ref_recent', 'tenure_months', 'victory_recent', 'year']\n"
     ]
    },
    {
     "name": "stdout",
     "output_type": "stream",
     "text": [
      "[1]\tvalidation_set's binary_logloss: 0.0491548\n",
      "Training until validation scores don't improve for 4 rounds\n",
      "[1]\tvalidation_set's binary_logloss: 0.0490349\n",
      "[8]\tvalidation_set's binary_logloss: 0.0603262[2]\tvalidation_set's binary_logloss: 0.0500384\n",
      "\n",
      "Training until validation scores don't improve for 4 rounds\n",
      "[3]\tvalidation_set's binary_logloss: 0.0510566[9]\tvalidation_set's binary_logloss: 0.0604468\n",
      "\n",
      "[2]\tvalidation_set's binary_logloss: 0.0506792[10]\tvalidation_set's binary_logloss: 0.0604923\n",
      "[4]\tvalidation_set's binary_logloss: 0.0511879\n",
      "\n",
      "[3]\tvalidation_set's binary_logloss: 0.0515474\n",
      "[11]\tvalidation_set's binary_logloss: 0.0606885\n",
      "[4]\tvalidation_set's binary_logloss: 0.052275[5]\tvalidation_set's binary_logloss: 0.0512153\n",
      "\n",
      "Early stopping, best iteration is:\n",
      "[1]\tvalidation_set's binary_logloss: 0.0491548\n",
      "[5]\tvalidation_set's binary_logloss: 0.0527215[12]\tvalidation_set's binary_logloss: 0.0606502\n",
      "Early stopping, best iteration is:\n",
      "[1]\tvalidation_set's binary_logloss: 0.0490349\n",
      "\n",
      "Early stopping, best iteration is:\n",
      "[8]\tvalidation_set's binary_logloss: 0.0603262\n"
     ]
    },
    {
     "name": "stderr",
     "output_type": "stream",
     "text": [
      "Found `num_iterations` in params. Will use it instead of argument\n",
      "categorical_feature in Dataset is overridden.\n",
      "New categorical_feature is ['age', 'anticipation', 'change_recent', 'country', 'defeat_recent', 'delayed', 'direct_recent', 'elected', 'election_now', 'election_recent', 'exec_ant', 'exec_recent', 'government', 'indirect_recent', 'irreg_lead_ant', 'lead_recent', 'leg_ant', 'leg_recent', 'male', 'militarycareer', 'month', 'nochange_recent', 'prev_conflict', 'pt_attempt', 'pt_suc', 'ref_ant', 'ref_recent', 'tenure_months', 'victory_recent', 'year']\n",
      "categorical_feature in Dataset is overridden.\n",
      "New categorical_feature is ['age', 'anticipation', 'change_recent', 'country', 'defeat_recent', 'delayed', 'direct_recent', 'elected', 'election_now', 'election_recent', 'exec_ant', 'exec_recent', 'government', 'indirect_recent', 'irreg_lead_ant', 'lead_recent', 'leg_ant', 'leg_recent', 'male', 'militarycareer', 'month', 'nochange_recent', 'prev_conflict', 'pt_attempt', 'pt_suc', 'ref_ant', 'ref_recent', 'tenure_months', 'victory_recent', 'year']\n",
      "Found `num_iterations` in params. Will use it instead of argument\n",
      "categorical_feature in Dataset is overridden.\n",
      "New categorical_feature is ['age', 'anticipation', 'change_recent', 'country', 'defeat_recent', 'delayed', 'direct_recent', 'elected', 'election_now', 'election_recent', 'exec_ant', 'exec_recent', 'government', 'indirect_recent', 'irreg_lead_ant', 'lead_recent', 'leg_ant', 'leg_recent', 'male', 'militarycareer', 'month', 'nochange_recent', 'prev_conflict', 'pt_attempt', 'pt_suc', 'ref_ant', 'ref_recent', 'tenure_months', 'victory_recent', 'year']\n",
      "Found `num_iterations` in params. Will use it instead of argument\n",
      "categorical_feature in Dataset is overridden.\n",
      "New categorical_feature is ['age', 'anticipation', 'change_recent', 'country', 'defeat_recent', 'delayed', 'direct_recent', 'elected', 'election_now', 'election_recent', 'exec_ant', 'exec_recent', 'government', 'indirect_recent', 'irreg_lead_ant', 'lead_recent', 'leg_ant', 'leg_recent', 'male', 'militarycareer', 'month', 'nochange_recent', 'prev_conflict', 'pt_attempt', 'pt_suc', 'ref_ant', 'ref_recent', 'tenure_months', 'victory_recent', 'year']\n"
     ]
    },
    {
     "name": "stdout",
     "output_type": "stream",
     "text": [
      "[1]\tvalidation_set's binary_logloss: 0.0456819\n",
      "Training until validation scores don't improve for 4 rounds\n",
      "[2]\tvalidation_set's binary_logloss: 0.047704\n",
      "[3]\tvalidation_set's binary_logloss: 0.0474731\n",
      "[4]\tvalidation_set's binary_logloss: 0.0477925\n",
      "[5]\tvalidation_set's binary_logloss: 0.0483186\n",
      "Early stopping, best iteration is:\n",
      "[1]\tvalidation_set's binary_logloss: 0.0456819\n"
     ]
    },
    {
     "name": "stderr",
     "output_type": "stream",
     "text": [
      "Found `num_iterations` in params. Will use it instead of argument\n"
     ]
    },
    {
     "name": "stdout",
     "output_type": "stream",
     "text": [
      "[1]\tvalidation_set's binary_logloss: 0.0477037\n"
     ]
    },
    {
     "name": "stderr",
     "output_type": "stream",
     "text": [
      "categorical_feature in Dataset is overridden.\n",
      "New categorical_feature is ['age', 'anticipation', 'change_recent', 'country', 'defeat_recent', 'delayed', 'direct_recent', 'elected', 'election_now', 'election_recent', 'exec_ant', 'exec_recent', 'government', 'indirect_recent', 'irreg_lead_ant', 'lead_recent', 'leg_ant', 'leg_recent', 'male', 'militarycareer', 'month', 'nochange_recent', 'prev_conflict', 'pt_attempt', 'pt_suc', 'ref_ant', 'ref_recent', 'tenure_months', 'victory_recent', 'year']\n"
     ]
    },
    {
     "name": "stdout",
     "output_type": "stream",
     "text": [
      "Training until validation scores don't improve for 4 rounds\n",
      "[1]\tvalidation_set's binary_logloss: 0.0469828[2]\tvalidation_set's binary_logloss: 0.0494285\n",
      "\n",
      "Training until validation scores don't improve for 4 rounds\n",
      "[3]\tvalidation_set's binary_logloss: 0.0502165\n",
      "[2]\tvalidation_set's binary_logloss: 0.0493945[4]\tvalidation_set's binary_logloss: 0.0508522\n",
      "\n",
      "[5]\tvalidation_set's binary_logloss: 0.051396[3]\tvalidation_set's binary_logloss: 0.0489913\n",
      "\n",
      "Early stopping, best iteration is:\n",
      "[1]\tvalidation_set's binary_logloss: 0.0477037\n",
      "[4]\tvalidation_set's binary_logloss: 0.0498633[1]\tvalidation_set's binary_logloss: 0.0477956\n",
      "\n",
      "Training until validation scores don't improve for 4 rounds[5]\tvalidation_set's binary_logloss: 0.0498915\n",
      "\n",
      "Early stopping, best iteration is:\n",
      "[1]\tvalidation_set's binary_logloss: 0.0469828\n",
      "[2]\tvalidation_set's binary_logloss: 0.0484878\n",
      "[3]\tvalidation_set's binary_logloss: 0.0494675\n",
      "[4]\tvalidation_set's binary_logloss: 0.0497008\n",
      "[5]\tvalidation_set's binary_logloss: 0.0497337\n",
      "Early stopping, best iteration is:\n",
      "[1]\tvalidation_set's binary_logloss: 0.0477956\n"
     ]
    },
    {
     "name": "stderr",
     "output_type": "stream",
     "text": [
      "Found `num_iterations` in params. Will use it instead of argument\n",
      "categorical_feature in Dataset is overridden.\n",
      "New categorical_feature is ['age', 'anticipation', 'change_recent', 'country', 'defeat_recent', 'delayed', 'direct_recent', 'elected', 'election_now', 'election_recent', 'exec_ant', 'exec_recent', 'government', 'indirect_recent', 'irreg_lead_ant', 'lead_recent', 'leg_ant', 'leg_recent', 'male', 'militarycareer', 'month', 'nochange_recent', 'prev_conflict', 'pt_attempt', 'pt_suc', 'ref_ant', 'ref_recent', 'tenure_months', 'victory_recent', 'year']\n",
      "Found `num_iterations` in params. Will use it instead of argument\n",
      "categorical_feature in Dataset is overridden.\n",
      "New categorical_feature is ['age', 'anticipation', 'change_recent', 'country', 'defeat_recent', 'delayed', 'direct_recent', 'elected', 'election_now', 'election_recent', 'exec_ant', 'exec_recent', 'government', 'indirect_recent', 'irreg_lead_ant', 'lead_recent', 'leg_ant', 'leg_recent', 'male', 'militarycareer', 'month', 'nochange_recent', 'prev_conflict', 'pt_attempt', 'pt_suc', 'ref_ant', 'ref_recent', 'tenure_months', 'victory_recent', 'year']\n"
     ]
    },
    {
     "name": "stdout",
     "output_type": "stream",
     "text": [
      "[1]\tvalidation_set's binary_logloss: 0.0522279\n",
      "Training until validation scores don't improve for 4 rounds\n",
      "[2]\tvalidation_set's binary_logloss: 0.0531573\n",
      "[3]\tvalidation_set's binary_logloss: 0.0543785\n",
      "[4]\tvalidation_set's binary_logloss: 0.0544067\n",
      "[5]\tvalidation_set's binary_logloss: 0.0549399\n",
      "Early stopping, best iteration is:\n",
      "[1]\tvalidation_set's binary_logloss: 0.0522279\n",
      "[1]\tvalidation_set's binary_logloss: 0.0450788\n",
      "Training until validation scores don't improve for 4 rounds\n",
      "[2]\tvalidation_set's binary_logloss: 0.0457148\n"
     ]
    },
    {
     "name": "stderr",
     "output_type": "stream",
     "text": [
      "Found `num_iterations` in params. Will use it instead of argument\n",
      "categorical_feature in Dataset is overridden.\n",
      "New categorical_feature is ['age', 'anticipation', 'change_recent', 'country', 'defeat_recent', 'delayed', 'direct_recent', 'elected', 'election_now', 'election_recent', 'exec_ant', 'exec_recent', 'government', 'indirect_recent', 'irreg_lead_ant', 'lead_recent', 'leg_ant', 'leg_recent', 'male', 'militarycareer', 'month', 'nochange_recent', 'prev_conflict', 'pt_attempt', 'pt_suc', 'ref_ant', 'ref_recent', 'tenure_months', 'victory_recent', 'year']\n"
     ]
    },
    {
     "name": "stdout",
     "output_type": "stream",
     "text": [
      "[3]\tvalidation_set's binary_logloss: 0.0458596\n",
      "[4]\tvalidation_set's binary_logloss: 0.0458753\n",
      "[5]\tvalidation_set's binary_logloss: 0.0456004\n",
      "Early stopping, best iteration is:\n",
      "[1]\tvalidation_set's binary_logloss: 0.0450788\n",
      "[1]\tvalidation_set's binary_logloss: 0.0489731\n",
      "Training until validation scores don't improve for 4 rounds\n",
      "[2]\tvalidation_set's binary_logloss: 0.0499841\n",
      "[3]\tvalidation_set's binary_logloss: 0.0506947\n",
      "[4]\tvalidation_set's binary_logloss: 0.0514772"
     ]
    },
    {
     "name": "stderr",
     "output_type": "stream",
     "text": [
      "Found `num_iterations` in params. Will use it instead of argument\n",
      "categorical_feature in Dataset is overridden.\n",
      "New categorical_feature is ['age', 'anticipation', 'change_recent', 'country', 'defeat_recent', 'delayed', 'direct_recent', 'elected', 'election_now', 'election_recent', 'exec_ant', 'exec_recent', 'government', 'indirect_recent', 'irreg_lead_ant', 'lead_recent', 'leg_ant', 'leg_recent', 'male', 'militarycareer', 'month', 'nochange_recent', 'prev_conflict', 'pt_attempt', 'pt_suc', 'ref_ant', 'ref_recent', 'tenure_months', 'victory_recent', 'year']\n"
     ]
    },
    {
     "name": "stdout",
     "output_type": "stream",
     "text": [
      "\n",
      "[5]\tvalidation_set's binary_logloss: 0.051965[1]\tvalidation_set's binary_logloss: 0.0546684\n",
      "\n",
      "Early stopping, best iteration is:\n",
      "[1]\tvalidation_set's binary_logloss: 0.0489731Training until validation scores don't improve for 4 rounds\n",
      "\n",
      "[2]\tvalidation_set's binary_logloss: 0.0552107\n",
      "[3]\tvalidation_set's binary_logloss: 0.0555404\n",
      "[4]\tvalidation_set's binary_logloss: 0.0558492\n",
      "[5]\tvalidation_set's binary_logloss: 0.0558119\n",
      "Early stopping, best iteration is:\n",
      "[1]\tvalidation_set's binary_logloss: 0.0546684\n"
     ]
    },
    {
     "name": "stderr",
     "output_type": "stream",
     "text": [
      "Found `num_iterations` in params. Will use it instead of argument\n",
      "categorical_feature in Dataset is overridden.\n",
      "New categorical_feature is ['age', 'anticipation', 'change_recent', 'country', 'defeat_recent', 'delayed', 'direct_recent', 'elected', 'election_now', 'election_recent', 'exec_ant', 'exec_recent', 'government', 'indirect_recent', 'irreg_lead_ant', 'lead_recent', 'leg_ant', 'leg_recent', 'male', 'militarycareer', 'month', 'nochange_recent', 'prev_conflict', 'pt_attempt', 'pt_suc', 'ref_ant', 'ref_recent', 'tenure_months', 'victory_recent', 'year']\n",
      "Found `num_iterations` in params. Will use it instead of argument\n",
      "categorical_feature in Dataset is overridden.\n",
      "New categorical_feature is ['age', 'anticipation', 'change_recent', 'country', 'defeat_recent', 'delayed', 'direct_recent', 'elected', 'election_now', 'election_recent', 'exec_ant', 'exec_recent', 'government', 'indirect_recent', 'irreg_lead_ant', 'lead_recent', 'leg_ant', 'leg_recent', 'male', 'militarycareer', 'month', 'nochange_recent', 'prev_conflict', 'pt_attempt', 'pt_suc', 'ref_ant', 'ref_recent', 'tenure_months', 'victory_recent', 'year']\n"
     ]
    },
    {
     "name": "stdout",
     "output_type": "stream",
     "text": [
      "[1]\tvalidation_set's binary_logloss: 0.0540382\n",
      "[1]\tvalidation_set's binary_logloss: 0.045189Training until validation scores don't improve for 4 rounds\n",
      "\n",
      "Training until validation scores don't improve for 4 rounds\n",
      "[2]\tvalidation_set's binary_logloss: 0.0545555[2]\tvalidation_set's binary_logloss: 0.0460379\n",
      "\n",
      "[3]\tvalidation_set's binary_logloss: 0.0466811[3]\tvalidation_set's binary_logloss: 0.0553719\n",
      "\n",
      "[4]\tvalidation_set's binary_logloss: 0.0469271[4]\tvalidation_set's binary_logloss: 0.0553834\n",
      "\n",
      "[5]\tvalidation_set's binary_logloss: 0.0474774\n",
      "[5]\tvalidation_set's binary_logloss: 0.0562686\n",
      "Early stopping, best iteration is:\n",
      "[1]\tvalidation_set's binary_logloss: 0.045189Early stopping, best iteration is:\n",
      "[1]\tvalidation_set's binary_logloss: 0.0540382\n",
      "\n"
     ]
    },
    {
     "name": "stderr",
     "output_type": "stream",
     "text": [
      "Found `num_iterations` in params. Will use it instead of argument\n",
      "categorical_feature in Dataset is overridden.\n",
      "New categorical_feature is ['age', 'anticipation', 'change_recent', 'country', 'defeat_recent', 'delayed', 'direct_recent', 'elected', 'election_now', 'election_recent', 'exec_ant', 'exec_recent', 'government', 'indirect_recent', 'irreg_lead_ant', 'lead_recent', 'leg_ant', 'leg_recent', 'male', 'militarycareer', 'month', 'nochange_recent', 'prev_conflict', 'pt_attempt', 'pt_suc', 'ref_ant', 'ref_recent', 'tenure_months', 'victory_recent', 'year']\n"
     ]
    },
    {
     "name": "stdout",
     "output_type": "stream",
     "text": [
      "[1]\tvalidation_set's binary_logloss: 0.0543969\n",
      "[1]\tvalidation_set's binary_logloss: 0.0493219Training until validation scores don't improve for 4 rounds\n",
      "Training until validation scores don't improve for 4 rounds\n",
      "\n",
      "[2]\tvalidation_set's binary_logloss: 0.0547886[2]\tvalidation_set's binary_logloss: 0.0497056\n",
      "\n",
      "[3]\tvalidation_set's binary_logloss: 0.0552621[3]\tvalidation_set's binary_logloss: 0.0507048\n",
      "\n",
      "[4]\tvalidation_set's binary_logloss: 0.0555625[4]\tvalidation_set's binary_logloss: 0.0516312"
     ]
    },
    {
     "name": "stderr",
     "output_type": "stream",
     "text": [
      "Found `num_iterations` in params. Will use it instead of argument\n"
     ]
    },
    {
     "name": "stdout",
     "output_type": "stream",
     "text": [
      "\n",
      "\n"
     ]
    },
    {
     "name": "stderr",
     "output_type": "stream",
     "text": [
      "categorical_feature in Dataset is overridden.\n",
      "New categorical_feature is ['age', 'anticipation', 'change_recent', 'country', 'defeat_recent', 'delayed', 'direct_recent', 'elected', 'election_now', 'election_recent', 'exec_ant', 'exec_recent', 'government', 'indirect_recent', 'irreg_lead_ant', 'lead_recent', 'leg_ant', 'leg_recent', 'male', 'militarycareer', 'month', 'nochange_recent', 'prev_conflict', 'pt_attempt', 'pt_suc', 'ref_ant', 'ref_recent', 'tenure_months', 'victory_recent', 'year']\n"
     ]
    },
    {
     "name": "stdout",
     "output_type": "stream",
     "text": [
      "[5]\tvalidation_set's binary_logloss: 0.0511834[5]\tvalidation_set's binary_logloss: 0.0555788\n",
      "\n",
      "Early stopping, best iteration is:\n",
      "[1]\tvalidation_set's binary_logloss: 0.0493219Early stopping, best iteration is:\n",
      "[1]\tvalidation_set's binary_logloss: 0.0543969\n",
      "\n"
     ]
    },
    {
     "name": "stderr",
     "output_type": "stream",
     "text": [
      "Found `num_iterations` in params. Will use it instead of argument\n",
      "categorical_feature in Dataset is overridden.\n",
      "New categorical_feature is ['age', 'anticipation', 'change_recent', 'country', 'defeat_recent', 'delayed', 'direct_recent', 'elected', 'election_now', 'election_recent', 'exec_ant', 'exec_recent', 'government', 'indirect_recent', 'irreg_lead_ant', 'lead_recent', 'leg_ant', 'leg_recent', 'male', 'militarycareer', 'month', 'nochange_recent', 'prev_conflict', 'pt_attempt', 'pt_suc', 'ref_ant', 'ref_recent', 'tenure_months', 'victory_recent', 'year']\n",
      "categorical_feature in Dataset is overridden.\n",
      "New categorical_feature is ['age', 'anticipation', 'change_recent', 'country', 'defeat_recent', 'delayed', 'direct_recent', 'elected', 'election_now', 'election_recent', 'exec_ant', 'exec_recent', 'government', 'indirect_recent', 'irreg_lead_ant', 'lead_recent', 'leg_ant', 'leg_recent', 'male', 'militarycareer', 'month', 'nochange_recent', 'prev_conflict', 'pt_attempt', 'pt_suc', 'ref_ant', 'ref_recent', 'tenure_months', 'victory_recent', 'year']\n"
     ]
    },
    {
     "name": "stdout",
     "output_type": "stream",
     "text": [
      "[1]\tvalidation_set's binary_logloss: 0.0620501\n",
      "Training until validation scores don't improve for 4 rounds\n",
      "[2]\tvalidation_set's binary_logloss: 0.0617288\n",
      "[3]\tvalidation_set's binary_logloss: 0.0614886\n",
      "[4]\tvalidation_set's binary_logloss: 0.0612451\n",
      "[5]\tvalidation_set's binary_logloss: 0.0610763\n",
      "[6]\tvalidation_set's binary_logloss: 0.0610628\n",
      "[7]\tvalidation_set's binary_logloss: 0.0607866\n",
      "[1]\tvalidation_set's binary_logloss: 0.0438458[1]\tvalidation_set's binary_logloss: 0.0493971[8]\tvalidation_set's binary_logloss: 0.0608599\n",
      "\n",
      "Training until validation scores don't improve for 4 rounds\n",
      "Training until validation scores don't improve for 4 rounds\n",
      "[9]\tvalidation_set's binary_logloss: 0.0608055\n",
      "[2]\tvalidation_set's binary_logloss: 0.0459138\n",
      "[2]\tvalidation_set's binary_logloss: 0.0504952\n",
      "\n",
      "[3]\tvalidation_set's binary_logloss: 0.0463574\n",
      "[10]\tvalidation_set's binary_logloss: 0.0608607[3]\tvalidation_set's binary_logloss: 0.0514365\n",
      "\n",
      "[4]\tvalidation_set's binary_logloss: 0.0462938\n",
      "[4]\tvalidation_set's binary_logloss: 0.0524497[5]\tvalidation_set's binary_logloss: 0.0466436\n",
      "\n",
      "[11]\tvalidation_set's binary_logloss: 0.0608547[1]\tvalidation_set's binary_logloss: 0.0439156Early stopping, best iteration is:\n",
      "[1]\tvalidation_set's binary_logloss: 0.0438458[5]\tvalidation_set's binary_logloss: 0.052496\n",
      "\n",
      "\n",
      "Training until validation scores don't improve for 4 rounds\n",
      "Early stopping, best iteration is:\n",
      "[7]\tvalidation_set's binary_logloss: 0.0607866\n"
     ]
    },
    {
     "name": "stderr",
     "output_type": "stream",
     "text": [
      "Found `num_iterations` in params. Will use it instead of argument\n"
     ]
    },
    {
     "name": "stdout",
     "output_type": "stream",
     "text": [
      "Early stopping, best iteration is:\n",
      "[1]\tvalidation_set's binary_logloss: 0.0493971\n",
      "\n"
     ]
    },
    {
     "name": "stderr",
     "output_type": "stream",
     "text": [
      "categorical_feature in Dataset is overridden.\n",
      "New categorical_feature is ['age', 'anticipation', 'change_recent', 'country', 'defeat_recent', 'delayed', 'direct_recent', 'elected', 'election_now', 'election_recent', 'exec_ant', 'exec_recent', 'government', 'indirect_recent', 'irreg_lead_ant', 'lead_recent', 'leg_ant', 'leg_recent', 'male', 'militarycareer', 'month', 'nochange_recent', 'prev_conflict', 'pt_attempt', 'pt_suc', 'ref_ant', 'ref_recent', 'tenure_months', 'victory_recent', 'year']\n"
     ]
    },
    {
     "name": "stdout",
     "output_type": "stream",
     "text": [
      "[2]\tvalidation_set's binary_logloss: 0.0446368\n",
      "[3]\tvalidation_set's binary_logloss: 0.0444534\n",
      "[4]\tvalidation_set's binary_logloss: 0.0448842\n"
     ]
    },
    {
     "name": "stderr",
     "output_type": "stream",
     "text": [
      "Found `num_iterations` in params. Will use it instead of argument\n",
      "categorical_feature in Dataset is overridden.\n",
      "New categorical_feature is ['age', 'anticipation', 'change_recent', 'country', 'defeat_recent', 'delayed', 'direct_recent', 'elected', 'election_now', 'election_recent', 'exec_ant', 'exec_recent', 'government', 'indirect_recent', 'irreg_lead_ant', 'lead_recent', 'leg_ant', 'leg_recent', 'male', 'militarycareer', 'month', 'nochange_recent', 'prev_conflict', 'pt_attempt', 'pt_suc', 'ref_ant', 'ref_recent', 'tenure_months', 'victory_recent', 'year']\n"
     ]
    },
    {
     "name": "stdout",
     "output_type": "stream",
     "text": [
      "[5]\tvalidation_set's binary_logloss: 0.0447486\n",
      "Early stopping, best iteration is:\n",
      "[1]\tvalidation_set's binary_logloss: 0.0439156\n"
     ]
    },
    {
     "name": "stderr",
     "output_type": "stream",
     "text": [
      "Found `num_iterations` in params. Will use it instead of argument\n",
      "categorical_feature in Dataset is overridden.\n",
      "New categorical_feature is ['age', 'anticipation', 'change_recent', 'country', 'defeat_recent', 'delayed', 'direct_recent', 'elected', 'election_now', 'election_recent', 'exec_ant', 'exec_recent', 'government', 'indirect_recent', 'irreg_lead_ant', 'lead_recent', 'leg_ant', 'leg_recent', 'male', 'militarycareer', 'month', 'nochange_recent', 'prev_conflict', 'pt_attempt', 'pt_suc', 'ref_ant', 'ref_recent', 'tenure_months', 'victory_recent', 'year']\n"
     ]
    },
    {
     "name": "stdout",
     "output_type": "stream",
     "text": [
      "[1]\tvalidation_set's binary_logloss: 0.051442\n",
      "Training until validation scores don't improve for 4 rounds\n",
      "[2]\tvalidation_set's binary_logloss: 0.0528532\n",
      "[3]\tvalidation_set's binary_logloss: 0.0536531\n",
      "[4]\tvalidation_set's binary_logloss: 0.0542793\n",
      "[5]\tvalidation_set's binary_logloss: 0.0545428\n",
      "Early stopping, best iteration is:\n",
      "[1]\tvalidation_set's binary_logloss: 0.051442\n"
     ]
    },
    {
     "name": "stderr",
     "output_type": "stream",
     "text": [
      "Found `num_iterations` in params. Will use it instead of argument\n",
      "categorical_feature in Dataset is overridden.\n",
      "New categorical_feature is ['age', 'anticipation', 'change_recent', 'country', 'defeat_recent', 'delayed', 'direct_recent', 'elected', 'election_now', 'election_recent', 'exec_ant', 'exec_recent', 'government', 'indirect_recent', 'irreg_lead_ant', 'lead_recent', 'leg_ant', 'leg_recent', 'male', 'militarycareer', 'month', 'nochange_recent', 'prev_conflict', 'pt_attempt', 'pt_suc', 'ref_ant', 'ref_recent', 'tenure_months', 'victory_recent', 'year']\n"
     ]
    },
    {
     "name": "stdout",
     "output_type": "stream",
     "text": [
      "[1]\tvalidation_set's binary_logloss: 0.0567898\n",
      "[1]\tvalidation_set's binary_logloss: 0.063295Training until validation scores don't improve for 4 rounds\n",
      "Training until validation scores don't improve for 4 rounds\n",
      "\n",
      "[2]\tvalidation_set's binary_logloss: 0.0573247"
     ]
    },
    {
     "name": "stderr",
     "output_type": "stream",
     "text": [
      "Found `num_iterations` in params. Will use it instead of argument\n"
     ]
    },
    {
     "name": "stdout",
     "output_type": "stream",
     "text": [
      "[2]\tvalidation_set's binary_logloss: 0.0627592\n"
     ]
    },
    {
     "name": "stderr",
     "output_type": "stream",
     "text": [
      "categorical_feature in Dataset is overridden.\n",
      "New categorical_feature is ['age', 'anticipation', 'change_recent', 'country', 'defeat_recent', 'delayed', 'direct_recent', 'elected', 'election_now', 'election_recent', 'exec_ant', 'exec_recent', 'government', 'indirect_recent', 'irreg_lead_ant', 'lead_recent', 'leg_ant', 'leg_recent', 'male', 'militarycareer', 'month', 'nochange_recent', 'prev_conflict', 'pt_attempt', 'pt_suc', 'ref_ant', 'ref_recent', 'tenure_months', 'victory_recent', 'year']\n"
     ]
    },
    {
     "name": "stdout",
     "output_type": "stream",
     "text": [
      "\n",
      "[3]\tvalidation_set's binary_logloss: 0.0579181\n",
      "[3]\tvalidation_set's binary_logloss: 0.0624238\n",
      "[4]\tvalidation_set's binary_logloss: 0.058189\n",
      "[4]\tvalidation_set's binary_logloss: 0.0619071\n",
      "[5]\tvalidation_set's binary_logloss: 0.058589[1]\tvalidation_set's binary_logloss: 0.0684144[5]\tvalidation_set's binary_logloss: 0.0616966\n",
      "\n",
      "\n",
      "Early stopping, best iteration is:\n",
      "[1]\tvalidation_set's binary_logloss: 0.0567898Training until validation scores don't improve for 4 rounds\n",
      "\n",
      "[6]\tvalidation_set's binary_logloss: 0.0615432\n",
      "[2]\tvalidation_set's binary_logloss: 0.0673082[7]\tvalidation_set's binary_logloss: 0.0615612\n",
      "\n"
     ]
    },
    {
     "name": "stderr",
     "output_type": "stream",
     "text": [
      "Found `num_iterations` in params. Will use it instead of argument\n",
      "categorical_feature in Dataset is overridden.\n",
      "New categorical_feature is ['age', 'anticipation', 'change_recent', 'country', 'defeat_recent', 'delayed', 'direct_recent', 'elected', 'election_now', 'election_recent', 'exec_ant', 'exec_recent', 'government', 'indirect_recent', 'irreg_lead_ant', 'lead_recent', 'leg_ant', 'leg_recent', 'male', 'militarycareer', 'month', 'nochange_recent', 'prev_conflict', 'pt_attempt', 'pt_suc', 'ref_ant', 'ref_recent', 'tenure_months', 'victory_recent', 'year']\n"
     ]
    },
    {
     "name": "stdout",
     "output_type": "stream",
     "text": [
      "[8]\tvalidation_set's binary_logloss: 0.0614511[3]\tvalidation_set's binary_logloss: 0.0664039\n",
      "\n",
      "[9]\tvalidation_set's binary_logloss: 0.061488\n",
      "[4]\tvalidation_set's binary_logloss: 0.0656151\n",
      "[10]\tvalidation_set's binary_logloss: 0.0614021[5]\tvalidation_set's binary_logloss: 0.0648768\n",
      "\n",
      "[1]\tvalidation_set's binary_logloss: 0.0416395[6]\tvalidation_set's binary_logloss: 0.0644144[11]\tvalidation_set's binary_logloss: 0.06141\n",
      "\n",
      "\n",
      "Training until validation scores don't improve for 4 rounds\n",
      "[7]\tvalidation_set's binary_logloss: 0.0640673[2]\tvalidation_set's binary_logloss: 0.0428448\n",
      "\n",
      "[12]\tvalidation_set's binary_logloss: 0.0614032\n",
      "[3]\tvalidation_set's binary_logloss: 0.0444095[13]\tvalidation_set's binary_logloss: 0.0614725[8]\tvalidation_set's binary_logloss: 0.0637563\n",
      "\n",
      "\n",
      "[4]\tvalidation_set's binary_logloss: 0.045517\n",
      "[14]\tvalidation_set's binary_logloss: 0.061536[9]\tvalidation_set's binary_logloss: 0.0636453\n",
      "\n",
      "[5]\tvalidation_set's binary_logloss: 0.0454223Early stopping, best iteration is:\n",
      "[10]\tvalidation_set's binary_logloss: 0.0614021\n",
      "[10]\tvalidation_set's binary_logloss: 0.0633851Early stopping, best iteration is:\n",
      "[1]\tvalidation_set's binary_logloss: 0.0416395\n",
      "\n",
      "\n",
      "[11]\tvalidation_set's binary_logloss: 0.0631742\n",
      "[1]\tvalidation_set's binary_logloss: 0.0489712[12]\tvalidation_set's binary_logloss: 0.0629832\n",
      "\n",
      "Training until validation scores don't improve for 4 rounds\n",
      "[13]\tvalidation_set's binary_logloss: 0.0628962[2]\tvalidation_set's binary_logloss: 0.0493225\n",
      "\n",
      "[3]\tvalidation_set's binary_logloss: 0.0501548\n",
      "[1]\tvalidation_set's binary_logloss: 0.0492195\n",
      "[14]\tvalidation_set's binary_logloss: 0.0626718Training until validation scores don't improve for 4 rounds\n",
      "[4]\tvalidation_set's binary_logloss: 0.0506524\n",
      "\n",
      "[15]\tvalidation_set's binary_logloss: 0.0625537[5]\tvalidation_set's binary_logloss: 0.0514972[2]\tvalidation_set's binary_logloss: 0.0513222\n",
      "\n",
      "\n",
      "[16]\tvalidation_set's binary_logloss: 0.0625176Early stopping, best iteration is:\n",
      "[1]\tvalidation_set's binary_logloss: 0.0489712[3]\tvalidation_set's binary_logloss: 0.0524581\n",
      "\n",
      "\n"
     ]
    },
    {
     "name": "stderr",
     "output_type": "stream",
     "text": [
      "Found `num_iterations` in params. Will use it instead of argument\n",
      "categorical_feature in Dataset is overridden.\n",
      "New categorical_feature is ['age', 'anticipation', 'change_recent', 'country', 'defeat_recent', 'delayed', 'direct_recent', 'elected', 'election_now', 'election_recent', 'exec_ant', 'exec_recent', 'government', 'indirect_recent', 'irreg_lead_ant', 'lead_recent', 'leg_ant', 'leg_recent', 'male', 'militarycareer', 'month', 'nochange_recent', 'prev_conflict', 'pt_attempt', 'pt_suc', 'ref_ant', 'ref_recent', 'tenure_months', 'victory_recent', 'year']\n"
     ]
    },
    {
     "name": "stdout",
     "output_type": "stream",
     "text": [
      "[4]\tvalidation_set's binary_logloss: 0.053492[17]\tvalidation_set's binary_logloss: 0.0624108\n",
      "\n",
      "[5]\tvalidation_set's binary_logloss: 0.0544104\n",
      "[18]\tvalidation_set's binary_logloss: 0.0623035Early stopping, best iteration is:\n",
      "[1]\tvalidation_set's binary_logloss: 0.0492195\n",
      "\n",
      "[19]\tvalidation_set's binary_logloss: 0.0621706\n",
      "[20]\tvalidation_set's binary_logloss: 0.062038\n",
      "[1]\tvalidation_set's binary_logloss: 0.0540212\n",
      "Training until validation scores don't improve for 4 rounds\n",
      "[21]\tvalidation_set's binary_logloss: 0.0618848\n",
      "[2]\tvalidation_set's binary_logloss: 0.0547954\n",
      "[3]\tvalidation_set's binary_logloss: 0.0552296"
     ]
    },
    {
     "name": "stderr",
     "output_type": "stream",
     "text": [
      "Found `num_iterations` in params. Will use it instead of argument\n"
     ]
    },
    {
     "name": "stdout",
     "output_type": "stream",
     "text": [
      "[22]\tvalidation_set's binary_logloss: 0.0618201"
     ]
    },
    {
     "name": "stderr",
     "output_type": "stream",
     "text": [
      "categorical_feature in Dataset is overridden.\n",
      "New categorical_feature is ['age', 'anticipation', 'change_recent', 'country', 'defeat_recent', 'delayed', 'direct_recent', 'elected', 'election_now', 'election_recent', 'exec_ant', 'exec_recent', 'government', 'indirect_recent', 'irreg_lead_ant', 'lead_recent', 'leg_ant', 'leg_recent', 'male', 'militarycareer', 'month', 'nochange_recent', 'prev_conflict', 'pt_attempt', 'pt_suc', 'ref_ant', 'ref_recent', 'tenure_months', 'victory_recent', 'year']\n"
     ]
    },
    {
     "name": "stdout",
     "output_type": "stream",
     "text": [
      "\n",
      "\n"
     ]
    },
    {
     "name": "stderr",
     "output_type": "stream",
     "text": [
      "categorical_feature in Dataset is overridden.\n",
      "New categorical_feature is ['age', 'anticipation', 'change_recent', 'country', 'defeat_recent', 'delayed', 'direct_recent', 'elected', 'election_now', 'election_recent', 'exec_ant', 'exec_recent', 'government', 'indirect_recent', 'irreg_lead_ant', 'lead_recent', 'leg_ant', 'leg_recent', 'male', 'militarycareer', 'month', 'nochange_recent', 'prev_conflict', 'pt_attempt', 'pt_suc', 'ref_ant', 'ref_recent', 'tenure_months', 'victory_recent', 'year']\n"
     ]
    },
    {
     "name": "stdout",
     "output_type": "stream",
     "text": [
      "[4]\tvalidation_set's binary_logloss: 0.056169[23]\tvalidation_set's binary_logloss: 0.0616529\n",
      "\n",
      "[5]\tvalidation_set's binary_logloss: 0.0568243\n",
      "[24]\tvalidation_set's binary_logloss: 0.0616425\n",
      "Early stopping, best iteration is:\n",
      "[1]\tvalidation_set's binary_logloss: 0.0540212\n",
      "[25]\tvalidation_set's binary_logloss: 0.0615787\n",
      "[26]\tvalidation_set's binary_logloss: 0.0616144\n",
      "[27]\tvalidation_set's binary_logloss: 0.0615395\n",
      "[1]\tvalidation_set's binary_logloss: 0.047578[28]\tvalidation_set's binary_logloss: 0.0615874\n",
      "\n",
      "Training until validation scores don't improve for 4 rounds\n",
      "[29]\tvalidation_set's binary_logloss: 0.0615505[2]\tvalidation_set's binary_logloss: 0.047594\n",
      "\n",
      "[3]\tvalidation_set's binary_logloss: 0.0473391\n",
      "[30]\tvalidation_set's binary_logloss: 0.0615473[4]\tvalidation_set's binary_logloss: 0.0482845\n",
      "\n",
      "[5]\tvalidation_set's binary_logloss: 0.0484176\n",
      "[31]\tvalidation_set's binary_logloss: 0.0615763\n",
      "Early stopping, best iteration is:\n",
      "[27]\tvalidation_set's binary_logloss: 0.0615395[6]\tvalidation_set's binary_logloss: 0.0481604\n",
      "\n"
     ]
    },
    {
     "name": "stderr",
     "output_type": "stream",
     "text": [
      "Found `num_iterations` in params. Will use it instead of argument\n"
     ]
    },
    {
     "name": "stdout",
     "output_type": "stream",
     "text": [
      "[7]\tvalidation_set's binary_logloss: 0.0477097"
     ]
    },
    {
     "name": "stderr",
     "output_type": "stream",
     "text": [
      "categorical_feature in Dataset is overridden.\n",
      "New categorical_feature is ['age', 'anticipation', 'change_recent', 'country', 'defeat_recent', 'delayed', 'direct_recent', 'elected', 'election_now', 'election_recent', 'exec_ant', 'exec_recent', 'government', 'indirect_recent', 'irreg_lead_ant', 'lead_recent', 'leg_ant', 'leg_recent', 'male', 'militarycareer', 'month', 'nochange_recent', 'prev_conflict', 'pt_attempt', 'pt_suc', 'ref_ant', 'ref_recent', 'tenure_months', 'victory_recent', 'year']\n"
     ]
    },
    {
     "name": "stdout",
     "output_type": "stream",
     "text": [
      "\n"
     ]
    },
    {
     "name": "stderr",
     "output_type": "stream",
     "text": [
      "categorical_feature in Dataset is overridden.\n",
      "New categorical_feature is ['age', 'anticipation', 'change_recent', 'country', 'defeat_recent', 'delayed', 'direct_recent', 'elected', 'election_now', 'election_recent', 'exec_ant', 'exec_recent', 'government', 'indirect_recent', 'irreg_lead_ant', 'lead_recent', 'leg_ant', 'leg_recent', 'male', 'militarycareer', 'month', 'nochange_recent', 'prev_conflict', 'pt_attempt', 'pt_suc', 'ref_ant', 'ref_recent', 'tenure_months', 'victory_recent', 'year']\n"
     ]
    },
    {
     "name": "stdout",
     "output_type": "stream",
     "text": [
      "Early stopping, best iteration is:\n",
      "[3]\tvalidation_set's binary_logloss: 0.0473391\n"
     ]
    },
    {
     "name": "stderr",
     "output_type": "stream",
     "text": [
      "Found `num_iterations` in params. Will use it instead of argument\n"
     ]
    },
    {
     "name": "stdout",
     "output_type": "stream",
     "text": [
      "[1]\tvalidation_set's binary_logloss: 0.0431939\n",
      "Training until validation scores don't improve for 4 rounds\n",
      "[2]\tvalidation_set's binary_logloss: 0.045192\n",
      "[3]\tvalidation_set's binary_logloss: 0.0460912\n",
      "[4]\tvalidation_set's binary_logloss: 0.0467604\n",
      "[5]\tvalidation_set's binary_logloss: 0.0480516\n",
      "Early stopping, best iteration is:\n",
      "[1]\tvalidation_set's binary_logloss: 0.0431939\n"
     ]
    },
    {
     "name": "stderr",
     "output_type": "stream",
     "text": [
      "Found `num_iterations` in params. Will use it instead of argument\n",
      "categorical_feature in Dataset is overridden.\n",
      "New categorical_feature is ['age', 'anticipation', 'change_recent', 'country', 'defeat_recent', 'delayed', 'direct_recent', 'elected', 'election_now', 'election_recent', 'exec_ant', 'exec_recent', 'government', 'indirect_recent', 'irreg_lead_ant', 'lead_recent', 'leg_ant', 'leg_recent', 'male', 'militarycareer', 'month', 'nochange_recent', 'prev_conflict', 'pt_attempt', 'pt_suc', 'ref_ant', 'ref_recent', 'tenure_months', 'victory_recent', 'year']\n"
     ]
    },
    {
     "name": "stdout",
     "output_type": "stream",
     "text": [
      "[1]\tvalidation_set's binary_logloss: 0.0540474[1]\tvalidation_set's binary_logloss: 0.0489196\n",
      "\n",
      "Training until validation scores don't improve for 4 roundsTraining until validation scores don't improve for 4 rounds\n",
      "\n"
     ]
    },
    {
     "name": "stderr",
     "output_type": "stream",
     "text": [
      "Found `num_iterations` in params. Will use it instead of argument\n",
      "categorical_feature in Dataset is overridden.\n",
      "New categorical_feature is ['age', 'anticipation', 'change_recent', 'country', 'defeat_recent', 'delayed', 'direct_recent', 'elected', 'election_now', 'election_recent', 'exec_ant', 'exec_recent', 'government', 'indirect_recent', 'irreg_lead_ant', 'lead_recent', 'leg_ant', 'leg_recent', 'male', 'militarycareer', 'month', 'nochange_recent', 'prev_conflict', 'pt_attempt', 'pt_suc', 'ref_ant', 'ref_recent', 'tenure_months', 'victory_recent', 'year']\n"
     ]
    },
    {
     "name": "stdout",
     "output_type": "stream",
     "text": [
      "[2]\tvalidation_set's binary_logloss: 0.0498584[2]\tvalidation_set's binary_logloss: 0.0544834\n",
      "\n",
      "[3]\tvalidation_set's binary_logloss: 0.0559699[3]\tvalidation_set's binary_logloss: 0.0505091[1]\tvalidation_set's binary_logloss: 0.0450211\n",
      "\n",
      "\n",
      "Training until validation scores don't improve for 4 rounds[4]\tvalidation_set's binary_logloss: 0.0509997\n",
      "[4]\tvalidation_set's binary_logloss: 0.056282\n",
      "\n",
      "[5]\tvalidation_set's binary_logloss: 0.0514552[2]\tvalidation_set's binary_logloss: 0.0467457\n",
      "\n",
      "[5]\tvalidation_set's binary_logloss: 0.0568497[3]\tvalidation_set's binary_logloss: 0.0481071Early stopping, best iteration is:\n",
      "[1]\tvalidation_set's binary_logloss: 0.0489196\n",
      "\n",
      "\n",
      "Early stopping, best iteration is:\n",
      "[1]\tvalidation_set's binary_logloss: 0.0540474[4]\tvalidation_set's binary_logloss: 0.0482163\n",
      "\n",
      "[5]\tvalidation_set's binary_logloss: 0.0488101\n",
      "Early stopping, best iteration is:\n",
      "[1]\tvalidation_set's binary_logloss: 0.0450211\n",
      "[1]\tvalidation_set's binary_logloss: 0.0552329\n"
     ]
    },
    {
     "name": "stderr",
     "output_type": "stream",
     "text": [
      "Found `num_iterations` in params. Will use it instead of argument\n"
     ]
    },
    {
     "name": "stdout",
     "output_type": "stream",
     "text": [
      "Training until validation scores don't improve for 4 rounds"
     ]
    },
    {
     "name": "stderr",
     "output_type": "stream",
     "text": [
      "categorical_feature in Dataset is overridden.\n",
      "New categorical_feature is ['age', 'anticipation', 'change_recent', 'country', 'defeat_recent', 'delayed', 'direct_recent', 'elected', 'election_now', 'election_recent', 'exec_ant', 'exec_recent', 'government', 'indirect_recent', 'irreg_lead_ant', 'lead_recent', 'leg_ant', 'leg_recent', 'male', 'militarycareer', 'month', 'nochange_recent', 'prev_conflict', 'pt_attempt', 'pt_suc', 'ref_ant', 'ref_recent', 'tenure_months', 'victory_recent', 'year']\n"
     ]
    },
    {
     "name": "stdout",
     "output_type": "stream",
     "text": [
      "\n",
      "[2]\tvalidation_set's binary_logloss: 0.0556064\n",
      "[3]\tvalidation_set's binary_logloss: 0.0565271\n",
      "[4]\tvalidation_set's binary_logloss: 0.0568112\n",
      "[5]\tvalidation_set's binary_logloss: 0.0571289"
     ]
    },
    {
     "name": "stderr",
     "output_type": "stream",
     "text": [
      "Found `num_iterations` in params. Will use it instead of argument\n",
      "categorical_feature in Dataset is overridden.\n",
      "New categorical_feature is ['age', 'anticipation', 'change_recent', 'country', 'defeat_recent', 'delayed', 'direct_recent', 'elected', 'election_now', 'election_recent', 'exec_ant', 'exec_recent', 'government', 'indirect_recent', 'irreg_lead_ant', 'lead_recent', 'leg_ant', 'leg_recent', 'male', 'militarycareer', 'month', 'nochange_recent', 'prev_conflict', 'pt_attempt', 'pt_suc', 'ref_ant', 'ref_recent', 'tenure_months', 'victory_recent', 'year']\n"
     ]
    },
    {
     "name": "stdout",
     "output_type": "stream",
     "text": [
      "\n"
     ]
    },
    {
     "name": "stderr",
     "output_type": "stream",
     "text": [
      "categorical_feature in Dataset is overridden.\n",
      "New categorical_feature is ['age', 'anticipation', 'change_recent', 'country', 'defeat_recent', 'delayed', 'direct_recent', 'elected', 'election_now', 'election_recent', 'exec_ant', 'exec_recent', 'government', 'indirect_recent', 'irreg_lead_ant', 'lead_recent', 'leg_ant', 'leg_recent', 'male', 'militarycareer', 'month', 'nochange_recent', 'prev_conflict', 'pt_attempt', 'pt_suc', 'ref_ant', 'ref_recent', 'tenure_months', 'victory_recent', 'year']\n"
     ]
    },
    {
     "name": "stdout",
     "output_type": "stream",
     "text": [
      "Early stopping, best iteration is:\n",
      "[1]\tvalidation_set's binary_logloss: 0.0552329\n",
      "[1]\tvalidation_set's binary_logloss: 0.0537525\n",
      "Training until validation scores don't improve for 4 rounds\n",
      "[2]\tvalidation_set's binary_logloss: 0.0538422\n",
      "[3]\tvalidation_set's binary_logloss: 0.0537316\n",
      "[4]\tvalidation_set's binary_logloss: 0.0538283\n",
      "[5]\tvalidation_set's binary_logloss: 0.0546717\n",
      "[6]\tvalidation_set's binary_logloss: 0.0545159"
     ]
    },
    {
     "name": "stderr",
     "output_type": "stream",
     "text": [
      "Found `num_iterations` in params. Will use it instead of argument\n"
     ]
    },
    {
     "name": "stdout",
     "output_type": "stream",
     "text": [
      "\n"
     ]
    },
    {
     "name": "stderr",
     "output_type": "stream",
     "text": [
      "categorical_feature in Dataset is overridden.\n",
      "New categorical_feature is ['age', 'anticipation', 'change_recent', 'country', 'defeat_recent', 'delayed', 'direct_recent', 'elected', 'election_now', 'election_recent', 'exec_ant', 'exec_recent', 'government', 'indirect_recent', 'irreg_lead_ant', 'lead_recent', 'leg_ant', 'leg_recent', 'male', 'militarycareer', 'month', 'nochange_recent', 'prev_conflict', 'pt_attempt', 'pt_suc', 'ref_ant', 'ref_recent', 'tenure_months', 'victory_recent', 'year']\n"
     ]
    },
    {
     "name": "stdout",
     "output_type": "stream",
     "text": [
      "[7]\tvalidation_set's binary_logloss: 0.0546658\n",
      "Early stopping, best iteration is:\n",
      "[3]\tvalidation_set's binary_logloss: 0.0537316\n",
      "[1]\tvalidation_set's binary_logloss: 0.0529752\n",
      "Training until validation scores don't improve for 4 rounds\n",
      "[2]\tvalidation_set's binary_logloss: 0.0532859\n",
      "[3]\tvalidation_set's binary_logloss: 0.0540958\n",
      "[4]\tvalidation_set's binary_logloss: 0.054873\n",
      "[5]\tvalidation_set's binary_logloss: 0.0551125\n",
      "Early stopping, best iteration is:\n",
      "[1]\tvalidation_set's binary_logloss: 0.0529752\n"
     ]
    },
    {
     "name": "stderr",
     "output_type": "stream",
     "text": [
      "Found `num_iterations` in params. Will use it instead of argument\n",
      "categorical_feature in Dataset is overridden.\n",
      "New categorical_feature is ['age', 'anticipation', 'change_recent', 'country', 'defeat_recent', 'delayed', 'direct_recent', 'elected', 'election_now', 'election_recent', 'exec_ant', 'exec_recent', 'government', 'indirect_recent', 'irreg_lead_ant', 'lead_recent', 'leg_ant', 'leg_recent', 'male', 'militarycareer', 'month', 'nochange_recent', 'prev_conflict', 'pt_attempt', 'pt_suc', 'ref_ant', 'ref_recent', 'tenure_months', 'victory_recent', 'year']\n"
     ]
    },
    {
     "name": "stdout",
     "output_type": "stream",
     "text": [
      "[1]\tvalidation_set's binary_logloss: 0.061449\n",
      "Training until validation scores don't improve for 4 rounds[1]\tvalidation_set's binary_logloss: 0.0611882\n",
      "\n",
      "[2]\tvalidation_set's binary_logloss: 0.061125Training until validation scores don't improve for 4 rounds\n",
      "\n",
      "[3]\tvalidation_set's binary_logloss: 0.0608481[2]\tvalidation_set's binary_logloss: 0.0609311\n",
      "\n",
      "[4]\tvalidation_set's binary_logloss: 0.0607213[3]\tvalidation_set's binary_logloss: 0.0607877\n",
      "\n",
      "[4]\tvalidation_set's binary_logloss: 0.0605362[5]\tvalidation_set's binary_logloss: 0.060644\n",
      "\n"
     ]
    },
    {
     "name": "stderr",
     "output_type": "stream",
     "text": [
      "Found `num_iterations` in params. Will use it instead of argument\n",
      "categorical_feature in Dataset is overridden.\n",
      "New categorical_feature is ['age', 'anticipation', 'change_recent', 'country', 'defeat_recent', 'delayed', 'direct_recent', 'elected', 'election_now', 'election_recent', 'exec_ant', 'exec_recent', 'government', 'indirect_recent', 'irreg_lead_ant', 'lead_recent', 'leg_ant', 'leg_recent', 'male', 'militarycareer', 'month', 'nochange_recent', 'prev_conflict', 'pt_attempt', 'pt_suc', 'ref_ant', 'ref_recent', 'tenure_months', 'victory_recent', 'year']\n"
     ]
    },
    {
     "name": "stdout",
     "output_type": "stream",
     "text": [
      "[6]\tvalidation_set's binary_logloss: 0.0606613[5]\tvalidation_set's binary_logloss: 0.0603805"
     ]
    },
    {
     "name": "stderr",
     "output_type": "stream",
     "text": [
      "categorical_feature in Dataset is overridden.\n",
      "New categorical_feature is ['age', 'anticipation', 'change_recent', 'country', 'defeat_recent', 'delayed', 'direct_recent', 'elected', 'election_now', 'election_recent', 'exec_ant', 'exec_recent', 'government', 'indirect_recent', 'irreg_lead_ant', 'lead_recent', 'leg_ant', 'leg_recent', 'male', 'militarycareer', 'month', 'nochange_recent', 'prev_conflict', 'pt_attempt', 'pt_suc', 'ref_ant', 'ref_recent', 'tenure_months', 'victory_recent', 'year']\n"
     ]
    },
    {
     "name": "stdout",
     "output_type": "stream",
     "text": [
      "\n",
      "\n",
      "[7]\tvalidation_set's binary_logloss: 0.060776[6]\tvalidation_set's binary_logloss: 0.0603069\n",
      "\n",
      "[8]\tvalidation_set's binary_logloss: 0.0606677[1]\tvalidation_set's binary_logloss: 0.0484234\n",
      "\n",
      "[7]\tvalidation_set's binary_logloss: 0.0603947Training until validation scores don't improve for 4 rounds\n",
      "[9]\tvalidation_set's binary_logloss: 0.0605621\n",
      "\n",
      "[2]\tvalidation_set's binary_logloss: 0.0495193[8]\tvalidation_set's binary_logloss: 0.0603527\n",
      "\n",
      "[10]\tvalidation_set's binary_logloss: 0.060622\n",
      "[3]\tvalidation_set's binary_logloss: 0.0506758[9]\tvalidation_set's binary_logloss: 0.0605263[11]\tvalidation_set's binary_logloss: 0.0607115\n",
      "\n",
      "\n",
      "[4]\tvalidation_set's binary_logloss: 0.0513382[10]\tvalidation_set's binary_logloss: 0.0603979[12]\tvalidation_set's binary_logloss: 0.0606831\n",
      "[1]\tvalidation_set's binary_logloss: 0.0531913\n",
      "\n",
      "Early stopping, best iteration is:\n",
      "[6]\tvalidation_set's binary_logloss: 0.0603069\n",
      "\n",
      "Training until validation scores don't improve for 4 rounds\n",
      "[5]\tvalidation_set's binary_logloss: 0.0520475\n",
      "[13]\tvalidation_set's binary_logloss: 0.0607711Early stopping, best iteration is:\n",
      "[1]\tvalidation_set's binary_logloss: 0.0484234\n",
      "[2]\tvalidation_set's binary_logloss: 0.0533654Early stopping, best iteration is:\n",
      "[9]\tvalidation_set's binary_logloss: 0.0605621\n",
      "\n",
      "\n"
     ]
    },
    {
     "name": "stderr",
     "output_type": "stream",
     "text": [
      "Found `num_iterations` in params. Will use it instead of argument\n"
     ]
    },
    {
     "name": "stdout",
     "output_type": "stream",
     "text": [
      "[3]\tvalidation_set's binary_logloss: 0.0531511\n",
      "[4]\tvalidation_set's binary_logloss: 0.0527885\n",
      "[5]\tvalidation_set's binary_logloss: 0.0527663\n"
     ]
    },
    {
     "name": "stderr",
     "output_type": "stream",
     "text": [
      "Found `num_iterations` in params. Will use it instead of argument\n",
      "categorical_feature in Dataset is overridden.\n",
      "New categorical_feature is ['age', 'anticipation', 'change_recent', 'country', 'defeat_recent', 'delayed', 'direct_recent', 'elected', 'election_now', 'election_recent', 'exec_ant', 'exec_recent', 'government', 'indirect_recent', 'irreg_lead_ant', 'lead_recent', 'leg_ant', 'leg_recent', 'male', 'militarycareer', 'month', 'nochange_recent', 'prev_conflict', 'pt_attempt', 'pt_suc', 'ref_ant', 'ref_recent', 'tenure_months', 'victory_recent', 'year']\n"
     ]
    },
    {
     "name": "stdout",
     "output_type": "stream",
     "text": [
      "[6]\tvalidation_set's binary_logloss: 0.0529391\n"
     ]
    },
    {
     "name": "stderr",
     "output_type": "stream",
     "text": [
      "categorical_feature in Dataset is overridden.\n",
      "New categorical_feature is ['age', 'anticipation', 'change_recent', 'country', 'defeat_recent', 'delayed', 'direct_recent', 'elected', 'election_now', 'election_recent', 'exec_ant', 'exec_recent', 'government', 'indirect_recent', 'irreg_lead_ant', 'lead_recent', 'leg_ant', 'leg_recent', 'male', 'militarycareer', 'month', 'nochange_recent', 'prev_conflict', 'pt_attempt', 'pt_suc', 'ref_ant', 'ref_recent', 'tenure_months', 'victory_recent', 'year']\n"
     ]
    },
    {
     "name": "stdout",
     "output_type": "stream",
     "text": [
      "[7]\tvalidation_set's binary_logloss: 0.0531006\n",
      "[8]\tvalidation_set's binary_logloss: 0.0533133\n",
      "[9]\tvalidation_set's binary_logloss: 0.0534909\n",
      "Early stopping, best iteration is:\n",
      "[5]\tvalidation_set's binary_logloss: 0.0527663\n",
      "[1]\tvalidation_set's binary_logloss: 0.0526962\n",
      "Training until validation scores don't improve for 4 rounds\n",
      "[2]\tvalidation_set's binary_logloss: 0.0534819\n",
      "[1]\tvalidation_set's binary_logloss: 0.0614542\n",
      "Training until validation scores don't improve for 4 rounds[3]\tvalidation_set's binary_logloss: 0.0536717\n",
      "\n",
      "[4]\tvalidation_set's binary_logloss: 0.0545063\n",
      "[2]\tvalidation_set's binary_logloss: 0.0612078\n",
      "[5]\tvalidation_set's binary_logloss: 0.0557125\n",
      "Early stopping, best iteration is:\n",
      "[1]\tvalidation_set's binary_logloss: 0.0526962[3]\tvalidation_set's binary_logloss: 0.061076\n",
      "\n",
      "[4]\tvalidation_set's binary_logloss: 0.0605636\n",
      "[5]\tvalidation_set's binary_logloss: 0.0605406\n",
      "[6]\tvalidation_set's binary_logloss: 0.0604108\n",
      "[7]\tvalidation_set's binary_logloss: 0.0605127\n",
      "[8]\tvalidation_set's binary_logloss: 0.0604001\n",
      "[9]\tvalidation_set's binary_logloss: 0.0605613\n",
      "[10]\tvalidation_set's binary_logloss: 0.0607485\n",
      "[11]\tvalidation_set's binary_logloss: 0.0608455\n",
      "[12]\tvalidation_set's binary_logloss: 0.0608287\n",
      "Early stopping, best iteration is:\n",
      "[8]\tvalidation_set's binary_logloss: 0.0604001\n",
      "[1]\tvalidation_set's binary_logloss: 0.0503058\n",
      "Training until validation scores don't improve for 4 rounds\n",
      "[2]\tvalidation_set's binary_logloss: 0.052193\n",
      "[1]\tvalidation_set's binary_logloss: 0.054688\n",
      "[3]\tvalidation_set's binary_logloss: 0.0531129Training until validation scores don't improve for 4 rounds\n",
      "\n",
      "[4]\tvalidation_set's binary_logloss: 0.0535271\n",
      "[2]\tvalidation_set's binary_logloss: 0.0558351[5]\tvalidation_set's binary_logloss: 0.0541816\n",
      "\n",
      "Early stopping, best iteration is:\n",
      "[1]\tvalidation_set's binary_logloss: 0.0503058\n",
      "[3]\tvalidation_set's binary_logloss: 0.0569257\n"
     ]
    },
    {
     "name": "stderr",
     "output_type": "stream",
     "text": [
      "Found `num_iterations` in params. Will use it instead of argument\n",
      "categorical_feature in Dataset is overridden.\n",
      "New categorical_feature is ['age', 'anticipation', 'change_recent', 'country', 'defeat_recent', 'delayed', 'direct_recent', 'elected', 'election_now', 'election_recent', 'exec_ant', 'exec_recent', 'government', 'indirect_recent', 'irreg_lead_ant', 'lead_recent', 'leg_ant', 'leg_recent', 'male', 'militarycareer', 'month', 'nochange_recent', 'prev_conflict', 'pt_attempt', 'pt_suc', 'ref_ant', 'ref_recent', 'tenure_months', 'victory_recent', 'year']\n"
     ]
    },
    {
     "name": "stdout",
     "output_type": "stream",
     "text": [
      "[4]\tvalidation_set's binary_logloss: 0.057578\n",
      "[5]\tvalidation_set's binary_logloss: 0.0583214\n",
      "Early stopping, best iteration is:\n",
      "[1]\tvalidation_set's binary_logloss: 0.054688\n"
     ]
    },
    {
     "name": "stderr",
     "output_type": "stream",
     "text": [
      "Found `num_iterations` in params. Will use it instead of argument\n",
      "categorical_feature in Dataset is overridden.\n",
      "New categorical_feature is ['age', 'anticipation', 'change_recent', 'country', 'defeat_recent', 'delayed', 'direct_recent', 'elected', 'election_now', 'election_recent', 'exec_ant', 'exec_recent', 'government', 'indirect_recent', 'irreg_lead_ant', 'lead_recent', 'leg_ant', 'leg_recent', 'male', 'militarycareer', 'month', 'nochange_recent', 'prev_conflict', 'pt_attempt', 'pt_suc', 'ref_ant', 'ref_recent', 'tenure_months', 'victory_recent', 'year']\n",
      "Found `num_iterations` in params. Will use it instead of argument\n",
      "categorical_feature in Dataset is overridden.\n",
      "New categorical_feature is ['age', 'anticipation', 'change_recent', 'country', 'defeat_recent', 'delayed', 'direct_recent', 'elected', 'election_now', 'election_recent', 'exec_ant', 'exec_recent', 'government', 'indirect_recent', 'irreg_lead_ant', 'lead_recent', 'leg_ant', 'leg_recent', 'male', 'militarycareer', 'month', 'nochange_recent', 'prev_conflict', 'pt_attempt', 'pt_suc', 'ref_ant', 'ref_recent', 'tenure_months', 'victory_recent', 'year']\n"
     ]
    },
    {
     "name": "stdout",
     "output_type": "stream",
     "text": [
      "[1]\tvalidation_set's binary_logloss: 0.0480886\n",
      "Training until validation scores don't improve for 4 rounds\n",
      "[2]\tvalidation_set's binary_logloss: 0.0487293\n",
      "[3]\tvalidation_set's binary_logloss: 0.0489014\n",
      "[4]\tvalidation_set's binary_logloss: 0.0493633\n",
      "[5]\tvalidation_set's binary_logloss: 0.0494937\n",
      "Early stopping, best iteration is:\n",
      "[1]\tvalidation_set's binary_logloss: 0.0480886\n",
      "[1]\tvalidation_set's binary_logloss: 0.0471528\n",
      "Training until validation scores don't improve for 4 rounds\n"
     ]
    },
    {
     "name": "stderr",
     "output_type": "stream",
     "text": [
      "Found `num_iterations` in params. Will use it instead of argument\n"
     ]
    },
    {
     "name": "stdout",
     "output_type": "stream",
     "text": [
      "[1]\tvalidation_set's binary_logloss: 0.0500668[2]\tvalidation_set's binary_logloss: 0.0492343"
     ]
    },
    {
     "name": "stderr",
     "output_type": "stream",
     "text": [
      "categorical_feature in Dataset is overridden.\n",
      "New categorical_feature is ['age', 'anticipation', 'change_recent', 'country', 'defeat_recent', 'delayed', 'direct_recent', 'elected', 'election_now', 'election_recent', 'exec_ant', 'exec_recent', 'government', 'indirect_recent', 'irreg_lead_ant', 'lead_recent', 'leg_ant', 'leg_recent', 'male', 'militarycareer', 'month', 'nochange_recent', 'prev_conflict', 'pt_attempt', 'pt_suc', 'ref_ant', 'ref_recent', 'tenure_months', 'victory_recent', 'year']\n"
     ]
    },
    {
     "name": "stdout",
     "output_type": "stream",
     "text": [
      "\n",
      "\n",
      "[1]\tvalidation_set's binary_logloss: 0.0535902Training until validation scores don't improve for 4 rounds\n",
      "\n",
      "Training until validation scores don't improve for 4 rounds[3]\tvalidation_set's binary_logloss: 0.0494958\n",
      "[2]\tvalidation_set's binary_logloss: 0.0513644\n",
      "\n",
      "[2]\tvalidation_set's binary_logloss: 0.0536844[3]\tvalidation_set's binary_logloss: 0.0523737[4]\tvalidation_set's binary_logloss: 0.0498404\n",
      "\n",
      "\n",
      "[3]\tvalidation_set's binary_logloss: 0.0539551[5]\tvalidation_set's binary_logloss: 0.0505701[4]\tvalidation_set's binary_logloss: 0.0525622\n",
      "\n",
      "\n",
      "Early stopping, best iteration is:\n",
      "[1]\tvalidation_set's binary_logloss: 0.0471528\n",
      "[5]\tvalidation_set's binary_logloss: 0.053225[4]\tvalidation_set's binary_logloss: 0.0544866\n",
      "Early stopping, best iteration is:\n",
      "[1]\tvalidation_set's binary_logloss: 0.0500668\n",
      "\n"
     ]
    },
    {
     "name": "stderr",
     "output_type": "stream",
     "text": [
      "Found `num_iterations` in params. Will use it instead of argument\n",
      "categorical_feature in Dataset is overridden.\n",
      "New categorical_feature is ['age', 'anticipation', 'change_recent', 'country', 'defeat_recent', 'delayed', 'direct_recent', 'elected', 'election_now', 'election_recent', 'exec_ant', 'exec_recent', 'government', 'indirect_recent', 'irreg_lead_ant', 'lead_recent', 'leg_ant', 'leg_recent', 'male', 'militarycareer', 'month', 'nochange_recent', 'prev_conflict', 'pt_attempt', 'pt_suc', 'ref_ant', 'ref_recent', 'tenure_months', 'victory_recent', 'year']\n"
     ]
    },
    {
     "name": "stdout",
     "output_type": "stream",
     "text": [
      "[5]\tvalidation_set's binary_logloss: 0.0548512\n",
      "Early stopping, best iteration is:\n",
      "[1]\tvalidation_set's binary_logloss: 0.0535902\n"
     ]
    },
    {
     "name": "stderr",
     "output_type": "stream",
     "text": [
      "Found `num_iterations` in params. Will use it instead of argument\n",
      "categorical_feature in Dataset is overridden.\n",
      "New categorical_feature is ['age', 'anticipation', 'change_recent', 'country', 'defeat_recent', 'delayed', 'direct_recent', 'elected', 'election_now', 'election_recent', 'exec_ant', 'exec_recent', 'government', 'indirect_recent', 'irreg_lead_ant', 'lead_recent', 'leg_ant', 'leg_recent', 'male', 'militarycareer', 'month', 'nochange_recent', 'prev_conflict', 'pt_attempt', 'pt_suc', 'ref_ant', 'ref_recent', 'tenure_months', 'victory_recent', 'year']\n"
     ]
    },
    {
     "name": "stdout",
     "output_type": "stream",
     "text": [
      "[1]\tvalidation_set's binary_logloss: 0.0535994\n",
      "Training until validation scores don't improve for 4 rounds\n",
      "[2]\tvalidation_set's binary_logloss: 0.0544797\n",
      "[3]\tvalidation_set's binary_logloss: 0.0544411\n",
      "[1]\tvalidation_set's binary_logloss: 0.0579603[4]\tvalidation_set's binary_logloss: 0.0549889\n",
      "\n",
      "Training until validation scores don't improve for 4 rounds[5]\tvalidation_set's binary_logloss: 0.0555428\n",
      "\n",
      "[2]\tvalidation_set's binary_logloss: 0.0584668Early stopping, best iteration is:\n",
      "[1]\tvalidation_set's binary_logloss: 0.0535994\n",
      "\n",
      "[3]\tvalidation_set's binary_logloss: 0.0589368\n",
      "[1]\tvalidation_set's binary_logloss: 0.0454302\n",
      "Training until validation scores don't improve for 4 rounds[4]\tvalidation_set's binary_logloss: 0.0594301\n",
      "\n",
      "[2]\tvalidation_set's binary_logloss: 0.0457981[5]\tvalidation_set's binary_logloss: 0.0603585\n",
      "\n"
     ]
    },
    {
     "name": "stderr",
     "output_type": "stream",
     "text": [
      "Found `num_iterations` in params. Will use it instead of argument\n"
     ]
    },
    {
     "name": "stdout",
     "output_type": "stream",
     "text": [
      "Early stopping, best iteration is:\n",
      "[1]\tvalidation_set's binary_logloss: 0.0579603"
     ]
    },
    {
     "name": "stderr",
     "output_type": "stream",
     "text": [
      "categorical_feature in Dataset is overridden.\n",
      "New categorical_feature is ['age', 'anticipation', 'change_recent', 'country', 'defeat_recent', 'delayed', 'direct_recent', 'elected', 'election_now', 'election_recent', 'exec_ant', 'exec_recent', 'government', 'indirect_recent', 'irreg_lead_ant', 'lead_recent', 'leg_ant', 'leg_recent', 'male', 'militarycareer', 'month', 'nochange_recent', 'prev_conflict', 'pt_attempt', 'pt_suc', 'ref_ant', 'ref_recent', 'tenure_months', 'victory_recent', 'year']\n"
     ]
    },
    {
     "name": "stdout",
     "output_type": "stream",
     "text": [
      "\n",
      "[3]\tvalidation_set's binary_logloss: 0.0468435\n",
      "[4]\tvalidation_set's binary_logloss: 0.0471963\n",
      "[5]\tvalidation_set's binary_logloss: 0.0476299\n",
      "Early stopping, best iteration is:\n",
      "[1]\tvalidation_set's binary_logloss: 0.0454302\n",
      "[1]\tvalidation_set's binary_logloss: 0.0533967"
     ]
    },
    {
     "name": "stderr",
     "output_type": "stream",
     "text": [
      "Found `num_iterations` in params. Will use it instead of argument\n"
     ]
    },
    {
     "name": "stdout",
     "output_type": "stream",
     "text": [
      "\n"
     ]
    },
    {
     "name": "stderr",
     "output_type": "stream",
     "text": [
      "categorical_feature in Dataset is overridden.\n",
      "New categorical_feature is ['age', 'anticipation', 'change_recent', 'country', 'defeat_recent', 'delayed', 'direct_recent', 'elected', 'election_now', 'election_recent', 'exec_ant', 'exec_recent', 'government', 'indirect_recent', 'irreg_lead_ant', 'lead_recent', 'leg_ant', 'leg_recent', 'male', 'militarycareer', 'month', 'nochange_recent', 'prev_conflict', 'pt_attempt', 'pt_suc', 'ref_ant', 'ref_recent', 'tenure_months', 'victory_recent', 'year']\n"
     ]
    },
    {
     "name": "stdout",
     "output_type": "stream",
     "text": [
      "Training until validation scores don't improve for 4 rounds\n",
      "[2]\tvalidation_set's binary_logloss: 0.054475\n",
      "[3]\tvalidation_set's binary_logloss: 0.0549219\n",
      "[4]\tvalidation_set's binary_logloss: 0.0556844\n",
      "[5]\tvalidation_set's binary_logloss: 0.056425"
     ]
    },
    {
     "name": "stderr",
     "output_type": "stream",
     "text": [
      "Found `num_iterations` in params. Will use it instead of argument\n"
     ]
    },
    {
     "name": "stdout",
     "output_type": "stream",
     "text": [
      "\n",
      "Early stopping, best iteration is:\n",
      "[1]\tvalidation_set's binary_logloss: 0.0533967"
     ]
    },
    {
     "name": "stderr",
     "output_type": "stream",
     "text": [
      "categorical_feature in Dataset is overridden.\n",
      "New categorical_feature is ['age', 'anticipation', 'change_recent', 'country', 'defeat_recent', 'delayed', 'direct_recent', 'elected', 'election_now', 'election_recent', 'exec_ant', 'exec_recent', 'government', 'indirect_recent', 'irreg_lead_ant', 'lead_recent', 'leg_ant', 'leg_recent', 'male', 'militarycareer', 'month', 'nochange_recent', 'prev_conflict', 'pt_attempt', 'pt_suc', 'ref_ant', 'ref_recent', 'tenure_months', 'victory_recent', 'year']\n"
     ]
    },
    {
     "name": "stdout",
     "output_type": "stream",
     "text": [
      "\n",
      "[1]\tvalidation_set's binary_logloss: 0.0400283\n",
      "Training until validation scores don't improve for 4 rounds\n",
      "[2]\tvalidation_set's binary_logloss: 0.0414145\n",
      "[3]\tvalidation_set's binary_logloss: 0.0422781\n",
      "[4]\tvalidation_set's binary_logloss: 0.04255\n",
      "[5]\tvalidation_set's binary_logloss: 0.0423314\n",
      "Early stopping, best iteration is:\n",
      "[1]\tvalidation_set's binary_logloss: 0.0400283\n",
      "[1]\tvalidation_set's binary_logloss: 0.0450343\n",
      "Training until validation scores don't improve for 4 rounds\n",
      "[2]\tvalidation_set's binary_logloss: 0.0457872\n",
      "[3]\tvalidation_set's binary_logloss: 0.0461163\n",
      "[4]\tvalidation_set's binary_logloss: 0.0471545\n",
      "[5]\tvalidation_set's binary_logloss: 0.0469338\n",
      "Early stopping, best iteration is:\n",
      "[1]\tvalidation_set's binary_logloss: 0.0450343\n",
      "[1]\tvalidation_set's binary_logloss: 0.0490967"
     ]
    },
    {
     "name": "stderr",
     "output_type": "stream",
     "text": [
      "Found `num_iterations` in params. Will use it instead of argument\n"
     ]
    },
    {
     "name": "stdout",
     "output_type": "stream",
     "text": [
      "\n"
     ]
    },
    {
     "name": "stderr",
     "output_type": "stream",
     "text": [
      "categorical_feature in Dataset is overridden.\n",
      "New categorical_feature is ['age', 'anticipation', 'change_recent', 'country', 'defeat_recent', 'delayed', 'direct_recent', 'elected', 'election_now', 'election_recent', 'exec_ant', 'exec_recent', 'government', 'indirect_recent', 'irreg_lead_ant', 'lead_recent', 'leg_ant', 'leg_recent', 'male', 'militarycareer', 'month', 'nochange_recent', 'prev_conflict', 'pt_attempt', 'pt_suc', 'ref_ant', 'ref_recent', 'tenure_months', 'victory_recent', 'year']\n"
     ]
    },
    {
     "name": "stdout",
     "output_type": "stream",
     "text": [
      "Training until validation scores don't improve for 4 rounds\n",
      "[2]\tvalidation_set's binary_logloss: 0.0515076\n",
      "[3]\tvalidation_set's binary_logloss: 0.0522638\n",
      "[4]\tvalidation_set's binary_logloss: 0.0527111\n",
      "[5]\tvalidation_set's binary_logloss: 0.0533726\n",
      "Early stopping, best iteration is:\n",
      "[1]\tvalidation_set's binary_logloss: 0.0490967\n",
      "[1]\tvalidation_set's binary_logloss: 0.0602354"
     ]
    },
    {
     "name": "stderr",
     "output_type": "stream",
     "text": [
      "Found `num_iterations` in params. Will use it instead of argument\n"
     ]
    },
    {
     "name": "stdout",
     "output_type": "stream",
     "text": [
      "\n"
     ]
    },
    {
     "name": "stderr",
     "output_type": "stream",
     "text": [
      "categorical_feature in Dataset is overridden.\n",
      "New categorical_feature is ['age', 'anticipation', 'change_recent', 'country', 'defeat_recent', 'delayed', 'direct_recent', 'elected', 'election_now', 'election_recent', 'exec_ant', 'exec_recent', 'government', 'indirect_recent', 'irreg_lead_ant', 'lead_recent', 'leg_ant', 'leg_recent', 'male', 'militarycareer', 'month', 'nochange_recent', 'prev_conflict', 'pt_attempt', 'pt_suc', 'ref_ant', 'ref_recent', 'tenure_months', 'victory_recent', 'year']\n"
     ]
    },
    {
     "name": "stdout",
     "output_type": "stream",
     "text": [
      "Training until validation scores don't improve for 4 rounds\n",
      "[2]\tvalidation_set's binary_logloss: 0.0596609\n",
      "[3]\tvalidation_set's binary_logloss: 0.0596506\n",
      "[4]\tvalidation_set's binary_logloss: 0.0595937\n",
      "[5]\tvalidation_set's binary_logloss: 0.059398[1]\tvalidation_set's binary_logloss: 0.0445645\n",
      "\n",
      "Training until validation scores don't improve for 4 rounds\n",
      "[6]\tvalidation_set's binary_logloss: 0.0594841[2]\tvalidation_set's binary_logloss: 0.0441356\n",
      "\n",
      "[7]\tvalidation_set's binary_logloss: 0.0597617\n",
      "[3]\tvalidation_set's binary_logloss: 0.0443168\n",
      "[8]\tvalidation_set's binary_logloss: 0.0597012\n",
      "[4]\tvalidation_set's binary_logloss: 0.0449064\n",
      "[9]\tvalidation_set's binary_logloss: 0.0595694\n",
      "[5]\tvalidation_set's binary_logloss: 0.0452334Early stopping, best iteration is:\n",
      "[5]\tvalidation_set's binary_logloss: 0.059398\n",
      "\n",
      "[6]\tvalidation_set's binary_logloss: 0.0450912\n",
      "Early stopping, best iteration is:\n",
      "[2]\tvalidation_set's binary_logloss: 0.0441356\n"
     ]
    },
    {
     "name": "stderr",
     "output_type": "stream",
     "text": [
      "Found `num_iterations` in params. Will use it instead of argument\n",
      "categorical_feature in Dataset is overridden.\n",
      "New categorical_feature is ['age', 'anticipation', 'change_recent', 'country', 'defeat_recent', 'delayed', 'direct_recent', 'elected', 'election_now', 'election_recent', 'exec_ant', 'exec_recent', 'government', 'indirect_recent', 'irreg_lead_ant', 'lead_recent', 'leg_ant', 'leg_recent', 'male', 'militarycareer', 'month', 'nochange_recent', 'prev_conflict', 'pt_attempt', 'pt_suc', 'ref_ant', 'ref_recent', 'tenure_months', 'victory_recent', 'year']\n"
     ]
    },
    {
     "name": "stdout",
     "output_type": "stream",
     "text": [
      "[1]\tvalidation_set's binary_logloss: 0.0490195\n",
      "[1]\tvalidation_set's binary_logloss: 0.0456913Training until validation scores don't improve for 4 rounds\n",
      "\n",
      "Training until validation scores don't improve for 4 rounds[2]\tvalidation_set's binary_logloss: 0.0496213\n",
      "\n",
      "[3]\tvalidation_set's binary_logloss: 0.0507795[2]\tvalidation_set's binary_logloss: 0.0469753\n",
      "\n",
      "[3]\tvalidation_set's binary_logloss: 0.0474938[4]\tvalidation_set's binary_logloss: 0.0512321\n",
      "\n",
      "[4]\tvalidation_set's binary_logloss: 0.048326"
     ]
    },
    {
     "name": "stderr",
     "output_type": "stream",
     "text": [
      "Found `num_iterations` in params. Will use it instead of argument\n"
     ]
    },
    {
     "name": "stdout",
     "output_type": "stream",
     "text": [
      "[5]\tvalidation_set's binary_logloss: 0.0516837"
     ]
    },
    {
     "name": "stderr",
     "output_type": "stream",
     "text": [
      "categorical_feature in Dataset is overridden.\n",
      "New categorical_feature is ['age', 'anticipation', 'change_recent', 'country', 'defeat_recent', 'delayed', 'direct_recent', 'elected', 'election_now', 'election_recent', 'exec_ant', 'exec_recent', 'government', 'indirect_recent', 'irreg_lead_ant', 'lead_recent', 'leg_ant', 'leg_recent', 'male', 'militarycareer', 'month', 'nochange_recent', 'prev_conflict', 'pt_attempt', 'pt_suc', 'ref_ant', 'ref_recent', 'tenure_months', 'victory_recent', 'year']\n"
     ]
    },
    {
     "name": "stdout",
     "output_type": "stream",
     "text": [
      "\n",
      "\n",
      "Early stopping, best iteration is:\n",
      "[1]\tvalidation_set's binary_logloss: 0.0490195[5]\tvalidation_set's binary_logloss: 0.0493263[1]\tvalidation_set's binary_logloss: 0.0543131\n",
      "\n",
      "\n",
      "Early stopping, best iteration is:\n",
      "[1]\tvalidation_set's binary_logloss: 0.0456913Training until validation scores don't improve for 4 rounds\n",
      "\n",
      "[2]\tvalidation_set's binary_logloss: 0.0545444\n",
      "[3]\tvalidation_set's binary_logloss: 0.0550683\n",
      "[4]\tvalidation_set's binary_logloss: 0.0554745\n",
      "[5]\tvalidation_set's binary_logloss: 0.0558595"
     ]
    },
    {
     "name": "stderr",
     "output_type": "stream",
     "text": [
      "Found `num_iterations` in params. Will use it instead of argument\n"
     ]
    },
    {
     "name": "stdout",
     "output_type": "stream",
     "text": [
      "\n"
     ]
    },
    {
     "name": "stderr",
     "output_type": "stream",
     "text": [
      "categorical_feature in Dataset is overridden.\n",
      "New categorical_feature is ['age', 'anticipation', 'change_recent', 'country', 'defeat_recent', 'delayed', 'direct_recent', 'elected', 'election_now', 'election_recent', 'exec_ant', 'exec_recent', 'government', 'indirect_recent', 'irreg_lead_ant', 'lead_recent', 'leg_ant', 'leg_recent', 'male', 'militarycareer', 'month', 'nochange_recent', 'prev_conflict', 'pt_attempt', 'pt_suc', 'ref_ant', 'ref_recent', 'tenure_months', 'victory_recent', 'year']\n"
     ]
    },
    {
     "name": "stdout",
     "output_type": "stream",
     "text": [
      "Early stopping, best iteration is:\n",
      "[1]\tvalidation_set's binary_logloss: 0.0543131\n",
      "[1]\tvalidation_set's binary_logloss: 0.047711\n",
      "Training until validation scores don't improve for 4 rounds\n",
      "[2]\tvalidation_set's binary_logloss: 0.0475129\n",
      "[3]\tvalidation_set's binary_logloss: 0.0473165\n",
      "[4]\tvalidation_set's binary_logloss: 0.0474071\n",
      "[5]\tvalidation_set's binary_logloss: 0.0483246\n",
      "[6]\tvalidation_set's binary_logloss: 0.0489257\n",
      "[7]\tvalidation_set's binary_logloss: 0.0492569\n",
      "Early stopping, best iteration is:\n",
      "[3]\tvalidation_set's binary_logloss: 0.0473165\n",
      "[1]\tvalidation_set's binary_logloss: 0.0490781\n",
      "Training until validation scores don't improve for 4 rounds\n",
      "[2]\tvalidation_set's binary_logloss: 0.0498816\n",
      "[3]\tvalidation_set's binary_logloss: 0.0507556\n",
      "[4]\tvalidation_set's binary_logloss: 0.0515372\n",
      "[5]\tvalidation_set's binary_logloss: 0.0522896\n",
      "Early stopping, best iteration is:\n",
      "[1]\tvalidation_set's binary_logloss: 0.0490781\n",
      "[1]\tvalidation_set's binary_logloss: 0.0502503\n",
      "Training until validation scores don't improve for 4 rounds\n",
      "[2]\tvalidation_set's binary_logloss: 0.0506816\n",
      "[3]\tvalidation_set's binary_logloss: 0.0507942"
     ]
    },
    {
     "name": "stderr",
     "output_type": "stream",
     "text": [
      "Found `num_iterations` in params. Will use it instead of argument\n"
     ]
    },
    {
     "name": "stdout",
     "output_type": "stream",
     "text": [
      "\n"
     ]
    },
    {
     "name": "stderr",
     "output_type": "stream",
     "text": [
      "categorical_feature in Dataset is overridden.\n",
      "New categorical_feature is ['age', 'anticipation', 'change_recent', 'country', 'defeat_recent', 'delayed', 'direct_recent', 'elected', 'election_now', 'election_recent', 'exec_ant', 'exec_recent', 'government', 'indirect_recent', 'irreg_lead_ant', 'lead_recent', 'leg_ant', 'leg_recent', 'male', 'militarycareer', 'month', 'nochange_recent', 'prev_conflict', 'pt_attempt', 'pt_suc', 'ref_ant', 'ref_recent', 'tenure_months', 'victory_recent', 'year']\n"
     ]
    },
    {
     "name": "stdout",
     "output_type": "stream",
     "text": [
      "[4]\tvalidation_set's binary_logloss: 0.0506769\n",
      "[5]\tvalidation_set's binary_logloss: 0.0512322\n",
      "Early stopping, best iteration is:\n",
      "[1]\tvalidation_set's binary_logloss: 0.0502503\n"
     ]
    },
    {
     "name": "stderr",
     "output_type": "stream",
     "text": [
      "Found `num_iterations` in params. Will use it instead of argument\n",
      "categorical_feature in Dataset is overridden.\n",
      "New categorical_feature is ['age', 'anticipation', 'change_recent', 'country', 'defeat_recent', 'delayed', 'direct_recent', 'elected', 'election_now', 'election_recent', 'exec_ant', 'exec_recent', 'government', 'indirect_recent', 'irreg_lead_ant', 'lead_recent', 'leg_ant', 'leg_recent', 'male', 'militarycareer', 'month', 'nochange_recent', 'prev_conflict', 'pt_attempt', 'pt_suc', 'ref_ant', 'ref_recent', 'tenure_months', 'victory_recent', 'year']\n",
      "Found `num_iterations` in params. Will use it instead of argument\n",
      "categorical_feature in Dataset is overridden.\n",
      "New categorical_feature is ['age', 'anticipation', 'change_recent', 'country', 'defeat_recent', 'delayed', 'direct_recent', 'elected', 'election_now', 'election_recent', 'exec_ant', 'exec_recent', 'government', 'indirect_recent', 'irreg_lead_ant', 'lead_recent', 'leg_ant', 'leg_recent', 'male', 'militarycareer', 'month', 'nochange_recent', 'prev_conflict', 'pt_attempt', 'pt_suc', 'ref_ant', 'ref_recent', 'tenure_months', 'victory_recent', 'year']\n",
      "categorical_feature in Dataset is overridden.\n",
      "New categorical_feature is ['age', 'anticipation', 'change_recent', 'country', 'defeat_recent', 'delayed', 'direct_recent', 'elected', 'election_now', 'election_recent', 'exec_ant', 'exec_recent', 'government', 'indirect_recent', 'irreg_lead_ant', 'lead_recent', 'leg_ant', 'leg_recent', 'male', 'militarycareer', 'month', 'nochange_recent', 'prev_conflict', 'pt_attempt', 'pt_suc', 'ref_ant', 'ref_recent', 'tenure_months', 'victory_recent', 'year']\n",
      "Found `num_iterations` in params. Will use it instead of argument\n"
     ]
    },
    {
     "name": "stdout",
     "output_type": "stream",
     "text": [
      "[1]\tvalidation_set's binary_logloss: 0.0408727\n"
     ]
    },
    {
     "name": "stderr",
     "output_type": "stream",
     "text": [
      "Found `num_iterations` in params. Will use it instead of argument\n",
      "categorical_feature in Dataset is overridden.\n",
      "New categorical_feature is ['age', 'anticipation', 'change_recent', 'country', 'defeat_recent', 'delayed', 'direct_recent', 'elected', 'election_now', 'election_recent', 'exec_ant', 'exec_recent', 'government', 'indirect_recent', 'irreg_lead_ant', 'lead_recent', 'leg_ant', 'leg_recent', 'male', 'militarycareer', 'month', 'nochange_recent', 'prev_conflict', 'pt_attempt', 'pt_suc', 'ref_ant', 'ref_recent', 'tenure_months', 'victory_recent', 'year']\n"
     ]
    },
    {
     "name": "stdout",
     "output_type": "stream",
     "text": [
      "Training until validation scores don't improve for 4 rounds\n",
      "[2]\tvalidation_set's binary_logloss: 0.0412607\n",
      "[3]\tvalidation_set's binary_logloss: 0.0412224\n",
      "[4]\tvalidation_set's binary_logloss: 0.0415397\n",
      "[5]\tvalidation_set's binary_logloss: 0.0423775\n",
      "Early stopping, best iteration is:\n",
      "[1]\tvalidation_set's binary_logloss: 0.0408727\n",
      "[1]\tvalidation_set's binary_logloss: 0.0472869\n",
      "Training until validation scores don't improve for 4 rounds\n",
      "[2]\tvalidation_set's binary_logloss: 0.0490419\n",
      "[3]\tvalidation_set's binary_logloss: 0.0502455\n",
      "[4]\tvalidation_set's binary_logloss: 0.05063\n",
      "[5]\tvalidation_set's binary_logloss: 0.0509352\n"
     ]
    },
    {
     "name": "stderr",
     "output_type": "stream",
     "text": [
      "Found `num_iterations` in params. Will use it instead of argument\n"
     ]
    },
    {
     "name": "stdout",
     "output_type": "stream",
     "text": [
      "Early stopping, best iteration is:\n",
      "[1]\tvalidation_set's binary_logloss: 0.0472869"
     ]
    },
    {
     "name": "stderr",
     "output_type": "stream",
     "text": [
      "categorical_feature in Dataset is overridden.\n",
      "New categorical_feature is ['age', 'anticipation', 'change_recent', 'country', 'defeat_recent', 'delayed', 'direct_recent', 'elected', 'election_now', 'election_recent', 'exec_ant', 'exec_recent', 'government', 'indirect_recent', 'irreg_lead_ant', 'lead_recent', 'leg_ant', 'leg_recent', 'male', 'militarycareer', 'month', 'nochange_recent', 'prev_conflict', 'pt_attempt', 'pt_suc', 'ref_ant', 'ref_recent', 'tenure_months', 'victory_recent', 'year']\n"
     ]
    },
    {
     "name": "stdout",
     "output_type": "stream",
     "text": [
      "\n",
      "[1]\tvalidation_set's binary_logloss: 0.0527796\n",
      "Training until validation scores don't improve for 4 rounds\n"
     ]
    },
    {
     "name": "stderr",
     "output_type": "stream",
     "text": [
      "Found `num_iterations` in params. Will use it instead of argument\n",
      "categorical_feature in Dataset is overridden.\n",
      "New categorical_feature is ['age', 'anticipation', 'change_recent', 'country', 'defeat_recent', 'delayed', 'direct_recent', 'elected', 'election_now', 'election_recent', 'exec_ant', 'exec_recent', 'government', 'indirect_recent', 'irreg_lead_ant', 'lead_recent', 'leg_ant', 'leg_recent', 'male', 'militarycareer', 'month', 'nochange_recent', 'prev_conflict', 'pt_attempt', 'pt_suc', 'ref_ant', 'ref_recent', 'tenure_months', 'victory_recent', 'year']\n"
     ]
    },
    {
     "name": "stdout",
     "output_type": "stream",
     "text": [
      "[2]\tvalidation_set's binary_logloss: 0.0539689\n",
      "[3]\tvalidation_set's binary_logloss: 0.0547624\n",
      "[4]\tvalidation_set's binary_logloss: 0.0552607\n",
      "[5]\tvalidation_set's binary_logloss: 0.0560381\n",
      "[1]\tvalidation_set's binary_logloss: 0.0685683Early stopping, best iteration is:\n",
      "[1]\tvalidation_set's binary_logloss: 0.0527796\n",
      "Training until validation scores don't improve for 4 rounds\n",
      "\n",
      "[2]\tvalidation_set's binary_logloss: 0.0673263\n",
      "[3]\tvalidation_set's binary_logloss: 0.0664301\n",
      "[4]\tvalidation_set's binary_logloss: 0.0658552\n"
     ]
    },
    {
     "name": "stderr",
     "output_type": "stream",
     "text": [
      "Found `num_iterations` in params. Will use it instead of argument\n"
     ]
    },
    {
     "name": "stdout",
     "output_type": "stream",
     "text": [
      "[5]\tvalidation_set's binary_logloss: 0.0654035"
     ]
    },
    {
     "name": "stderr",
     "output_type": "stream",
     "text": [
      "categorical_feature in Dataset is overridden.\n",
      "New categorical_feature is ['age', 'anticipation', 'change_recent', 'country', 'defeat_recent', 'delayed', 'direct_recent', 'elected', 'election_now', 'election_recent', 'exec_ant', 'exec_recent', 'government', 'indirect_recent', 'irreg_lead_ant', 'lead_recent', 'leg_ant', 'leg_recent', 'male', 'militarycareer', 'month', 'nochange_recent', 'prev_conflict', 'pt_attempt', 'pt_suc', 'ref_ant', 'ref_recent', 'tenure_months', 'victory_recent', 'year']\n"
     ]
    },
    {
     "name": "stdout",
     "output_type": "stream",
     "text": [
      "\n",
      "[1]\tvalidation_set's binary_logloss: 0.0554943\n",
      "[6]\tvalidation_set's binary_logloss: 0.0650028\n",
      "Training until validation scores don't improve for 4 rounds[7]\tvalidation_set's binary_logloss: 0.0647604\n",
      "\n",
      "[2]\tvalidation_set's binary_logloss: 0.0558098\n",
      "[8]\tvalidation_set's binary_logloss: 0.0644418[3]\tvalidation_set's binary_logloss: 0.0564545\n",
      "\n",
      "[4]\tvalidation_set's binary_logloss: 0.0571264[9]\tvalidation_set's binary_logloss: 0.0641787\n",
      "\n",
      "[5]\tvalidation_set's binary_logloss: 0.0573882[10]\tvalidation_set's binary_logloss: 0.0640105\n",
      "\n",
      "Early stopping, best iteration is:\n",
      "[1]\tvalidation_set's binary_logloss: 0.0554943\n",
      "[11]\tvalidation_set's binary_logloss: 0.0637375\n",
      "[1]\tvalidation_set's binary_logloss: 0.0471346[12]\tvalidation_set's binary_logloss: 0.0635857\n",
      "[1]\tvalidation_set's binary_logloss: 0.05236\n",
      "Training until validation scores don't improve for 4 rounds\n",
      "\n",
      "Training until validation scores don't improve for 4 rounds[13]\tvalidation_set's binary_logloss: 0.0634491\n",
      "\n",
      "[2]\tvalidation_set's binary_logloss: 0.0472564[2]\tvalidation_set's binary_logloss: 0.0531279\n",
      "\n",
      "[14]\tvalidation_set's binary_logloss: 0.0634144\n",
      "[3]\tvalidation_set's binary_logloss: 0.0485738\n",
      "[3]\tvalidation_set's binary_logloss: 0.0538714"
     ]
    },
    {
     "name": "stderr",
     "output_type": "stream",
     "text": [
      "Found `num_iterations` in params. Will use it instead of argument\n"
     ]
    },
    {
     "name": "stdout",
     "output_type": "stream",
     "text": [
      "\n"
     ]
    },
    {
     "name": "stderr",
     "output_type": "stream",
     "text": [
      "categorical_feature in Dataset is overridden.\n",
      "New categorical_feature is ['age', 'anticipation', 'change_recent', 'country', 'defeat_recent', 'delayed', 'direct_recent', 'elected', 'election_now', 'election_recent', 'exec_ant', 'exec_recent', 'government', 'indirect_recent', 'irreg_lead_ant', 'lead_recent', 'leg_ant', 'leg_recent', 'male', 'militarycareer', 'month', 'nochange_recent', 'prev_conflict', 'pt_attempt', 'pt_suc', 'ref_ant', 'ref_recent', 'tenure_months', 'victory_recent', 'year']\n"
     ]
    },
    {
     "name": "stdout",
     "output_type": "stream",
     "text": [
      "[4]\tvalidation_set's binary_logloss: 0.0487114[4]\tvalidation_set's binary_logloss: 0.0542655[15]\tvalidation_set's binary_logloss: 0.063266\n",
      "\n",
      "\n",
      "[5]\tvalidation_set's binary_logloss: 0.0543939[16]\tvalidation_set's binary_logloss: 0.0631695[5]\tvalidation_set's binary_logloss: 0.0489143\n",
      "\n",
      "\n",
      "Early stopping, best iteration is:\n",
      "[1]\tvalidation_set's binary_logloss: 0.05236Early stopping, best iteration is:\n",
      "[1]\tvalidation_set's binary_logloss: 0.0471346"
     ]
    },
    {
     "name": "stderr",
     "output_type": "stream",
     "text": [
      "Found `num_iterations` in params. Will use it instead of argument\n"
     ]
    },
    {
     "name": "stdout",
     "output_type": "stream",
     "text": [
      "\n",
      "\n"
     ]
    },
    {
     "name": "stderr",
     "output_type": "stream",
     "text": [
      "categorical_feature in Dataset is overridden.\n",
      "New categorical_feature is ['age', 'anticipation', 'change_recent', 'country', 'defeat_recent', 'delayed', 'direct_recent', 'elected', 'election_now', 'election_recent', 'exec_ant', 'exec_recent', 'government', 'indirect_recent', 'irreg_lead_ant', 'lead_recent', 'leg_ant', 'leg_recent', 'male', 'militarycareer', 'month', 'nochange_recent', 'prev_conflict', 'pt_attempt', 'pt_suc', 'ref_ant', 'ref_recent', 'tenure_months', 'victory_recent', 'year']\n"
     ]
    },
    {
     "name": "stdout",
     "output_type": "stream",
     "text": [
      "[17]\tvalidation_set's binary_logloss: 0.0631224\n",
      "[18]\tvalidation_set's binary_logloss: 0.0631565\n",
      "[19]\tvalidation_set's binary_logloss: 0.0631097\n",
      "[20]\tvalidation_set's binary_logloss: 0.0630893\n",
      "[21]\tvalidation_set's binary_logloss: 0.0629711\n",
      "[22]\tvalidation_set's binary_logloss: 0.0629756\n",
      "[23]\tvalidation_set's binary_logloss: 0.0629495"
     ]
    },
    {
     "name": "stderr",
     "output_type": "stream",
     "text": [
      "Found `num_iterations` in params. Will use it instead of argument\n"
     ]
    },
    {
     "name": "stdout",
     "output_type": "stream",
     "text": [
      "\n"
     ]
    },
    {
     "name": "stderr",
     "output_type": "stream",
     "text": [
      "categorical_feature in Dataset is overridden.\n",
      "New categorical_feature is ['age', 'anticipation', 'change_recent', 'country', 'defeat_recent', 'delayed', 'direct_recent', 'elected', 'election_now', 'election_recent', 'exec_ant', 'exec_recent', 'government', 'indirect_recent', 'irreg_lead_ant', 'lead_recent', 'leg_ant', 'leg_recent', 'male', 'militarycareer', 'month', 'nochange_recent', 'prev_conflict', 'pt_attempt', 'pt_suc', 'ref_ant', 'ref_recent', 'tenure_months', 'victory_recent', 'year']\n"
     ]
    },
    {
     "name": "stdout",
     "output_type": "stream",
     "text": [
      "[24]\tvalidation_set's binary_logloss: 0.0629165\n",
      "[25]\tvalidation_set's binary_logloss: 0.0628393\n",
      "[26]\tvalidation_set's binary_logloss: 0.0628355\n",
      "[27]\tvalidation_set's binary_logloss: 0.0628362\n",
      "[28]\tvalidation_set's binary_logloss: 0.0627721\n",
      "[1]\tvalidation_set's binary_logloss: 0.0641086\n",
      "Training until validation scores don't improve for 4 rounds[29]\tvalidation_set's binary_logloss: 0.0627452\n",
      "\n",
      "[2]\tvalidation_set's binary_logloss: 0.06373[30]\tvalidation_set's binary_logloss: 0.0627755\n",
      "\n",
      "[3]\tvalidation_set's binary_logloss: 0.0634369[31]\tvalidation_set's binary_logloss: 0.0628083\n",
      "\n",
      "[4]\tvalidation_set's binary_logloss: 0.0629046[32]\tvalidation_set's binary_logloss: 0.0627744"
     ]
    },
    {
     "name": "stderr",
     "output_type": "stream",
     "text": [
      "Found `num_iterations` in params. Will use it instead of argument\n"
     ]
    },
    {
     "name": "stdout",
     "output_type": "stream",
     "text": [
      "[1]\tvalidation_set's binary_logloss: 0.0513369\n"
     ]
    },
    {
     "name": "stderr",
     "output_type": "stream",
     "text": [
      "categorical_feature in Dataset is overridden.\n",
      "New categorical_feature is ['age', 'anticipation', 'change_recent', 'country', 'defeat_recent', 'delayed', 'direct_recent', 'elected', 'election_now', 'election_recent', 'exec_ant', 'exec_recent', 'government', 'indirect_recent', 'irreg_lead_ant', 'lead_recent', 'leg_ant', 'leg_recent', 'male', 'militarycareer', 'month', 'nochange_recent', 'prev_conflict', 'pt_attempt', 'pt_suc', 'ref_ant', 'ref_recent', 'tenure_months', 'victory_recent', 'year']\n"
     ]
    },
    {
     "name": "stdout",
     "output_type": "stream",
     "text": [
      "\n",
      "\n",
      "Training until validation scores don't improve for 4 rounds\n",
      "[2]\tvalidation_set's binary_logloss: 0.0517182[33]\tvalidation_set's binary_logloss: 0.06284[5]\tvalidation_set's binary_logloss: 0.0628024\n",
      "\n",
      "\n",
      "Early stopping, best iteration is:\n",
      "[29]\tvalidation_set's binary_logloss: 0.0627452\n",
      "[3]\tvalidation_set's binary_logloss: 0.0526008[6]\tvalidation_set's binary_logloss: 0.062481[1]\tvalidation_set's binary_logloss: 0.0528542\n",
      "\n",
      "\n",
      "[4]\tvalidation_set's binary_logloss: 0.0529306[7]\tvalidation_set's binary_logloss: 0.0622843Training until validation scores don't improve for 4 rounds\n",
      "\n",
      "\n",
      "[5]\tvalidation_set's binary_logloss: 0.0530233[2]\tvalidation_set's binary_logloss: 0.0530943[8]\tvalidation_set's binary_logloss: 0.0622659\n",
      "\n",
      "\n",
      "Early stopping, best iteration is:\n",
      "[1]\tvalidation_set's binary_logloss: 0.0513369\n",
      "[9]\tvalidation_set's binary_logloss: 0.0620595[3]\tvalidation_set's binary_logloss: 0.0531609\n",
      "\n",
      "[4]\tvalidation_set's binary_logloss: 0.0532223\n",
      "[10]\tvalidation_set's binary_logloss: 0.0619879\n"
     ]
    },
    {
     "name": "stderr",
     "output_type": "stream",
     "text": [
      "Found `num_iterations` in params. Will use it instead of argument\n",
      "categorical_feature in Dataset is overridden.\n",
      "New categorical_feature is ['age', 'anticipation', 'change_recent', 'country', 'defeat_recent', 'delayed', 'direct_recent', 'elected', 'election_now', 'election_recent', 'exec_ant', 'exec_recent', 'government', 'indirect_recent', 'irreg_lead_ant', 'lead_recent', 'leg_ant', 'leg_recent', 'male', 'militarycareer', 'month', 'nochange_recent', 'prev_conflict', 'pt_attempt', 'pt_suc', 'ref_ant', 'ref_recent', 'tenure_months', 'victory_recent', 'year']\n"
     ]
    },
    {
     "name": "stdout",
     "output_type": "stream",
     "text": [
      "[5]\tvalidation_set's binary_logloss: 0.0534483[11]\tvalidation_set's binary_logloss: 0.0618524\n",
      "\n",
      "[1]\tvalidation_set's binary_logloss: 0.0529708Early stopping, best iteration is:\n",
      "[1]\tvalidation_set's binary_logloss: 0.0528542\n",
      "[12]\tvalidation_set's binary_logloss: 0.061887\n",
      "Training until validation scores don't improve for 4 rounds\n",
      "\n",
      "[13]\tvalidation_set's binary_logloss: 0.0619606\n",
      "[2]\tvalidation_set's binary_logloss: 0.0536874\n",
      "[14]\tvalidation_set's binary_logloss: 0.0620763\n",
      "[3]\tvalidation_set's binary_logloss: 0.054416\n",
      "[15]\tvalidation_set's binary_logloss: 0.0620395\n",
      "Early stopping, best iteration is:\n",
      "[11]\tvalidation_set's binary_logloss: 0.0618524[4]\tvalidation_set's binary_logloss: 0.0550847\n",
      "\n",
      "[5]\tvalidation_set's binary_logloss: 0.055443\n",
      "[1]\tvalidation_set's binary_logloss: 0.0441672Early stopping, best iteration is:\n",
      "[1]\tvalidation_set's binary_logloss: 0.0529708\n",
      "\n",
      "Training until validation scores don't improve for 4 rounds\n",
      "[2]\tvalidation_set's binary_logloss: 0.0455413\n",
      "[3]\tvalidation_set's binary_logloss: 0.0456765\n",
      "[4]\tvalidation_set's binary_logloss: 0.0459647\n",
      "[5]\tvalidation_set's binary_logloss: 0.0463579\n",
      "Early stopping, best iteration is:\n",
      "[1]\tvalidation_set's binary_logloss: 0.0441672\n",
      "[1]\tvalidation_set's binary_logloss: 0.0480265\n",
      "Training until validation scores don't improve for 4 rounds\n",
      "[2]\tvalidation_set's binary_logloss: 0.0492017\n",
      "[3]\tvalidation_set's binary_logloss: 0.0489982\n",
      "[4]\tvalidation_set's binary_logloss: 0.0491312[1]\tvalidation_set's binary_logloss: 0.0494742\n",
      "\n",
      "Training until validation scores don't improve for 4 rounds\n",
      "[5]\tvalidation_set's binary_logloss: 0.0492297\n",
      "Early stopping, best iteration is:\n",
      "[1]\tvalidation_set's binary_logloss: 0.0480265\n",
      "[2]\tvalidation_set's binary_logloss: 0.0523024\n",
      "[3]\tvalidation_set's binary_logloss: 0.0541015\n",
      "[4]\tvalidation_set's binary_logloss: 0.0549479\n",
      "[5]\tvalidation_set's binary_logloss: 0.0555835\n",
      "Early stopping, best iteration is:\n",
      "[1]\tvalidation_set's binary_logloss: 0.0494742\n"
     ]
    },
    {
     "name": "stderr",
     "output_type": "stream",
     "text": [
      "Found `num_iterations` in params. Will use it instead of argument\n",
      "categorical_feature in Dataset is overridden.\n",
      "New categorical_feature is ['age', 'anticipation', 'change_recent', 'country', 'defeat_recent', 'delayed', 'direct_recent', 'elected', 'election_now', 'election_recent', 'exec_ant', 'exec_recent', 'government', 'indirect_recent', 'irreg_lead_ant', 'lead_recent', 'leg_ant', 'leg_recent', 'male', 'militarycareer', 'month', 'nochange_recent', 'prev_conflict', 'pt_attempt', 'pt_suc', 'ref_ant', 'ref_recent', 'tenure_months', 'victory_recent', 'year']\n",
      "Found `num_iterations` in params. Will use it instead of argument\n",
      "Found `num_iterations` in params. Will use it instead of argument\n",
      "categorical_feature in Dataset is overridden.\n",
      "New categorical_feature is ['age', 'anticipation', 'change_recent', 'country', 'defeat_recent', 'delayed', 'direct_recent', 'elected', 'election_now', 'election_recent', 'exec_ant', 'exec_recent', 'government', 'indirect_recent', 'irreg_lead_ant', 'lead_recent', 'leg_ant', 'leg_recent', 'male', 'militarycareer', 'month', 'nochange_recent', 'prev_conflict', 'pt_attempt', 'pt_suc', 'ref_ant', 'ref_recent', 'tenure_months', 'victory_recent', 'year']\n",
      "categorical_feature in Dataset is overridden.\n",
      "New categorical_feature is ['age', 'anticipation', 'change_recent', 'country', 'defeat_recent', 'delayed', 'direct_recent', 'elected', 'election_now', 'election_recent', 'exec_ant', 'exec_recent', 'government', 'indirect_recent', 'irreg_lead_ant', 'lead_recent', 'leg_ant', 'leg_recent', 'male', 'militarycareer', 'month', 'nochange_recent', 'prev_conflict', 'pt_attempt', 'pt_suc', 'ref_ant', 'ref_recent', 'tenure_months', 'victory_recent', 'year']\n",
      "Found `num_iterations` in params. Will use it instead of argument\n"
     ]
    },
    {
     "name": "stdout",
     "output_type": "stream",
     "text": [
      "[1]\tvalidation_set's binary_logloss: 0.0479123[1]\tvalidation_set's binary_logloss: 0.0535354\n",
      "\n",
      "Training until validation scores don't improve for 4 rounds\n",
      "Training until validation scores don't improve for 4 rounds\n",
      "[2]\tvalidation_set's binary_logloss: 0.0498433\n",
      "[2]\tvalidation_set's binary_logloss: 0.0543799\n",
      "[3]\tvalidation_set's binary_logloss: 0.0505216\n",
      "[3]\tvalidation_set's binary_logloss: 0.0547458[4]\tvalidation_set's binary_logloss: 0.0512668\n",
      "\n",
      "[4]\tvalidation_set's binary_logloss: 0.0554112\n",
      "[5]\tvalidation_set's binary_logloss: 0.0516254[1]\tvalidation_set's binary_logloss: 0.0619941\n",
      "\n",
      "Early stopping, best iteration is:\n",
      "[1]\tvalidation_set's binary_logloss: 0.0479123[5]\tvalidation_set's binary_logloss: 0.0563665Training until validation scores don't improve for 4 rounds\n",
      "\n",
      "Early stopping, best iteration is:\n",
      "[1]\tvalidation_set's binary_logloss: 0.0535354\n",
      "[1]\tvalidation_set's binary_logloss: 0.0649709\n",
      "\n",
      "[2]\tvalidation_set's binary_logloss: 0.0614182Training until validation scores don't improve for 4 rounds\n",
      "\n",
      "[1]\tvalidation_set's binary_logloss: 0.0497015[3]\tvalidation_set's binary_logloss: 0.0614466\n",
      "[2]\tvalidation_set's binary_logloss: 0.0649326\n",
      "Training until validation scores don't improve for 4 rounds\n",
      "\n",
      "[4]\tvalidation_set's binary_logloss: 0.0611568[3]\tvalidation_set's binary_logloss: 0.064509\n",
      "[2]\tvalidation_set's binary_logloss: 0.0513188\n",
      "\n",
      "[4]\tvalidation_set's binary_logloss: 0.0640309[5]\tvalidation_set's binary_logloss: 0.0611356[3]\tvalidation_set's binary_logloss: 0.0519492\n",
      "\n",
      "\n",
      "[4]\tvalidation_set's binary_logloss: 0.0527618\n",
      "[6]\tvalidation_set's binary_logloss: 0.0613186\n",
      "[5]\tvalidation_set's binary_logloss: 0.0636754[5]\tvalidation_set's binary_logloss: 0.0531328\n",
      "\n",
      "Early stopping, best iteration is:\n",
      "[1]\tvalidation_set's binary_logloss: 0.0497015\n",
      "[6]\tvalidation_set's binary_logloss: 0.0635814[1]\tvalidation_set's binary_logloss: 0.0409405[7]\tvalidation_set's binary_logloss: 0.061287\n",
      "\n",
      "\n",
      "Training until validation scores don't improve for 4 rounds\n",
      "[1]\tvalidation_set's binary_logloss: 0.0612642[8]\tvalidation_set's binary_logloss: 0.0613317[7]\tvalidation_set's binary_logloss: 0.0633767\n",
      "\n",
      "[2]\tvalidation_set's binary_logloss: 0.0413505\n",
      "Training until validation scores don't improve for 4 rounds\n",
      "\n",
      "[8]\tvalidation_set's binary_logloss: 0.0634015\n",
      "[9]\tvalidation_set's binary_logloss: 0.0613159\n",
      "[3]\tvalidation_set's binary_logloss: 0.0412206Early stopping, best iteration is:\n",
      "[5]\tvalidation_set's binary_logloss: 0.0611356\n",
      "\n",
      "[2]\tvalidation_set's binary_logloss: 0.060634[4]\tvalidation_set's binary_logloss: 0.0414448[9]\tvalidation_set's binary_logloss: 0.0632576\n",
      "\n",
      "\n",
      "[5]\tvalidation_set's binary_logloss: 0.0416911[3]\tvalidation_set's binary_logloss: 0.0605462\n",
      "Early stopping, best iteration is:\n",
      "[1]\tvalidation_set's binary_logloss: 0.0409405\n",
      "\n",
      "[10]\tvalidation_set's binary_logloss: 0.0633359\n",
      "[4]\tvalidation_set's binary_logloss: 0.0607951\n",
      "[11]\tvalidation_set's binary_logloss: 0.0632706\n",
      "[12]\tvalidation_set's binary_logloss: 0.0631887[5]\tvalidation_set's binary_logloss: 0.0606524\n",
      "\n",
      "[6]\tvalidation_set's binary_logloss: 0.0606431[13]\tvalidation_set's binary_logloss: 0.0631847\n",
      "\n",
      "[14]\tvalidation_set's binary_logloss: 0.0632608[7]\tvalidation_set's binary_logloss: 0.0605681\n",
      "\n",
      "Early stopping, best iteration is:\n",
      "[3]\tvalidation_set's binary_logloss: 0.0605462\n",
      "[15]\tvalidation_set's binary_logloss: 0.063173\n",
      "[16]\tvalidation_set's binary_logloss: 0.0632198\n",
      "[17]\tvalidation_set's binary_logloss: 0.0632471\n",
      "[18]\tvalidation_set's binary_logloss: 0.0632765\n",
      "[19]\tvalidation_set's binary_logloss: 0.0634528\n",
      "Early stopping, best iteration is:\n",
      "[15]\tvalidation_set's binary_logloss: 0.063173\n"
     ]
    },
    {
     "name": "stderr",
     "output_type": "stream",
     "text": [
      "Found `num_iterations` in params. Will use it instead of argument\n",
      "categorical_feature in Dataset is overridden.\n",
      "New categorical_feature is ['age', 'anticipation', 'change_recent', 'country', 'defeat_recent', 'delayed', 'direct_recent', 'elected', 'election_now', 'election_recent', 'exec_ant', 'exec_recent', 'government', 'indirect_recent', 'irreg_lead_ant', 'lead_recent', 'leg_ant', 'leg_recent', 'male', 'militarycareer', 'month', 'nochange_recent', 'prev_conflict', 'pt_attempt', 'pt_suc', 'ref_ant', 'ref_recent', 'tenure_months', 'victory_recent', 'year']\n"
     ]
    },
    {
     "name": "stdout",
     "output_type": "stream",
     "text": [
      "[1]\tvalidation_set's binary_logloss: 0.061968\n",
      "Training until validation scores don't improve for 4 rounds\n",
      "[2]\tvalidation_set's binary_logloss: 0.061871\n",
      "[3]\tvalidation_set's binary_logloss: 0.0621741\n",
      "[4]\tvalidation_set's binary_logloss: 0.0621219\n",
      "[5]\tvalidation_set's binary_logloss: 0.062064\n",
      "[6]\tvalidation_set's binary_logloss: 0.0618798\n",
      "Early stopping, best iteration is:\n",
      "[2]\tvalidation_set's binary_logloss: 0.061871\n",
      "[1]\tvalidation_set's binary_logloss: 0.0434231\n",
      "Training until validation scores don't improve for 4 rounds\n",
      "[2]\tvalidation_set's binary_logloss: 0.0428569"
     ]
    },
    {
     "name": "stderr",
     "output_type": "stream",
     "text": [
      "Found `num_iterations` in params. Will use it instead of argument\n"
     ]
    },
    {
     "name": "stdout",
     "output_type": "stream",
     "text": [
      "\n"
     ]
    },
    {
     "name": "stderr",
     "output_type": "stream",
     "text": [
      "categorical_feature in Dataset is overridden.\n",
      "New categorical_feature is ['age', 'anticipation', 'change_recent', 'country', 'defeat_recent', 'delayed', 'direct_recent', 'elected', 'election_now', 'election_recent', 'exec_ant', 'exec_recent', 'government', 'indirect_recent', 'irreg_lead_ant', 'lead_recent', 'leg_ant', 'leg_recent', 'male', 'militarycareer', 'month', 'nochange_recent', 'prev_conflict', 'pt_attempt', 'pt_suc', 'ref_ant', 'ref_recent', 'tenure_months', 'victory_recent', 'year']\n"
     ]
    },
    {
     "name": "stdout",
     "output_type": "stream",
     "text": [
      "[3]\tvalidation_set's binary_logloss: 0.0435732\n",
      "[1]\tvalidation_set's binary_logloss: 0.0479737\n",
      "[4]\tvalidation_set's binary_logloss: 0.044069\n",
      "Training until validation scores don't improve for 4 rounds\n",
      "[5]\tvalidation_set's binary_logloss: 0.0437817[2]\tvalidation_set's binary_logloss: 0.0502092\n",
      "\n",
      "[6]\tvalidation_set's binary_logloss: 0.0435696[3]\tvalidation_set's binary_logloss: 0.0510783\n",
      "\n",
      "[4]\tvalidation_set's binary_logloss: 0.051023Early stopping, best iteration is:\n",
      "[2]\tvalidation_set's binary_logloss: 0.0428569\n",
      "\n",
      "[5]\tvalidation_set's binary_logloss: 0.0508034\n",
      "Early stopping, best iteration is:\n",
      "[1]\tvalidation_set's binary_logloss: 0.0479737\n"
     ]
    },
    {
     "name": "stderr",
     "output_type": "stream",
     "text": [
      "Found `num_iterations` in params. Will use it instead of argument\n"
     ]
    },
    {
     "name": "stdout",
     "output_type": "stream",
     "text": [
      "[1]\tvalidation_set's binary_logloss: 0.0411566"
     ]
    },
    {
     "name": "stderr",
     "output_type": "stream",
     "text": [
      "categorical_feature in Dataset is overridden.\n",
      "New categorical_feature is ['age', 'anticipation', 'change_recent', 'country', 'defeat_recent', 'delayed', 'direct_recent', 'elected', 'election_now', 'election_recent', 'exec_ant', 'exec_recent', 'government', 'indirect_recent', 'irreg_lead_ant', 'lead_recent', 'leg_ant', 'leg_recent', 'male', 'militarycareer', 'month', 'nochange_recent', 'prev_conflict', 'pt_attempt', 'pt_suc', 'ref_ant', 'ref_recent', 'tenure_months', 'victory_recent', 'year']\n"
     ]
    },
    {
     "name": "stdout",
     "output_type": "stream",
     "text": [
      "\n",
      "Training until validation scores don't improve for 4 rounds"
     ]
    },
    {
     "name": "stderr",
     "output_type": "stream",
     "text": [
      "categorical_feature in Dataset is overridden.\n",
      "New categorical_feature is ['age', 'anticipation', 'change_recent', 'country', 'defeat_recent', 'delayed', 'direct_recent', 'elected', 'election_now', 'election_recent', 'exec_ant', 'exec_recent', 'government', 'indirect_recent', 'irreg_lead_ant', 'lead_recent', 'leg_ant', 'leg_recent', 'male', 'militarycareer', 'month', 'nochange_recent', 'prev_conflict', 'pt_attempt', 'pt_suc', 'ref_ant', 'ref_recent', 'tenure_months', 'victory_recent', 'year']\n"
     ]
    },
    {
     "name": "stdout",
     "output_type": "stream",
     "text": [
      "\n"
     ]
    },
    {
     "name": "stderr",
     "output_type": "stream",
     "text": [
      "Found `num_iterations` in params. Will use it instead of argument\n",
      "categorical_feature in Dataset is overridden.\n",
      "New categorical_feature is ['age', 'anticipation', 'change_recent', 'country', 'defeat_recent', 'delayed', 'direct_recent', 'elected', 'election_now', 'election_recent', 'exec_ant', 'exec_recent', 'government', 'indirect_recent', 'irreg_lead_ant', 'lead_recent', 'leg_ant', 'leg_recent', 'male', 'militarycareer', 'month', 'nochange_recent', 'prev_conflict', 'pt_attempt', 'pt_suc', 'ref_ant', 'ref_recent', 'tenure_months', 'victory_recent', 'year']\n"
     ]
    },
    {
     "name": "stdout",
     "output_type": "stream",
     "text": [
      "[2]\tvalidation_set's binary_logloss: 0.0418714\n",
      "[3]\tvalidation_set's binary_logloss: 0.042586\n",
      "[4]\tvalidation_set's binary_logloss: 0.0430986\n",
      "[5]\tvalidation_set's binary_logloss: 0.0435652\n",
      "Early stopping, best iteration is:\n",
      "[1]\tvalidation_set's binary_logloss: 0.0411566\n",
      "[1]\tvalidation_set's binary_logloss: 0.0535793\n",
      "Training until validation scores don't improve for 4 rounds\n",
      "[2]\tvalidation_set's binary_logloss: 0.0537688\n",
      "[3]\tvalidation_set's binary_logloss: 0.0542462\n",
      "[4]\tvalidation_set's binary_logloss: 0.0550448\n",
      "[5]\tvalidation_set's binary_logloss: 0.0559933\n",
      "Early stopping, best iteration is:\n",
      "[1]\tvalidation_set's binary_logloss: 0.0535793\n",
      "[1]\tvalidation_set's binary_logloss: 0.0597561\n",
      "Training until validation scores don't improve for 4 rounds\n",
      "[2]\tvalidation_set's binary_logloss: 0.0590602"
     ]
    },
    {
     "name": "stderr",
     "output_type": "stream",
     "text": [
      "Found `num_iterations` in params. Will use it instead of argument\n"
     ]
    },
    {
     "name": "stdout",
     "output_type": "stream",
     "text": [
      "\n"
     ]
    },
    {
     "name": "stderr",
     "output_type": "stream",
     "text": [
      "categorical_feature in Dataset is overridden.\n",
      "New categorical_feature is ['age', 'anticipation', 'change_recent', 'country', 'defeat_recent', 'delayed', 'direct_recent', 'elected', 'election_now', 'election_recent', 'exec_ant', 'exec_recent', 'government', 'indirect_recent', 'irreg_lead_ant', 'lead_recent', 'leg_ant', 'leg_recent', 'male', 'militarycareer', 'month', 'nochange_recent', 'prev_conflict', 'pt_attempt', 'pt_suc', 'ref_ant', 'ref_recent', 'tenure_months', 'victory_recent', 'year']\n"
     ]
    },
    {
     "name": "stdout",
     "output_type": "stream",
     "text": [
      "[3]\tvalidation_set's binary_logloss: 0.0594655\n",
      "[4]\tvalidation_set's binary_logloss: 0.0594318\n",
      "[5]\tvalidation_set's binary_logloss: 0.0593628\n",
      "[6]\tvalidation_set's binary_logloss: 0.059246\n",
      "Early stopping, best iteration is:\n",
      "[2]\tvalidation_set's binary_logloss: 0.0590602[1]\tvalidation_set's binary_logloss: 0.0499958\n",
      "\n",
      "Training until validation scores don't improve for 4 rounds"
     ]
    },
    {
     "name": "stderr",
     "output_type": "stream",
     "text": [
      "Found `num_iterations` in params. Will use it instead of argument\n"
     ]
    },
    {
     "name": "stdout",
     "output_type": "stream",
     "text": [
      "\n"
     ]
    },
    {
     "name": "stderr",
     "output_type": "stream",
     "text": [
      "categorical_feature in Dataset is overridden.\n",
      "New categorical_feature is ['age', 'anticipation', 'change_recent', 'country', 'defeat_recent', 'delayed', 'direct_recent', 'elected', 'election_now', 'election_recent', 'exec_ant', 'exec_recent', 'government', 'indirect_recent', 'irreg_lead_ant', 'lead_recent', 'leg_ant', 'leg_recent', 'male', 'militarycareer', 'month', 'nochange_recent', 'prev_conflict', 'pt_attempt', 'pt_suc', 'ref_ant', 'ref_recent', 'tenure_months', 'victory_recent', 'year']\n"
     ]
    },
    {
     "name": "stdout",
     "output_type": "stream",
     "text": [
      "[2]\tvalidation_set's binary_logloss: 0.0514135\n",
      "[3]\tvalidation_set's binary_logloss: 0.0528697\n",
      "[4]\tvalidation_set's binary_logloss: 0.0533725\n",
      "[5]\tvalidation_set's binary_logloss: 0.0537994\n",
      "Early stopping, best iteration is:\n",
      "[1]\tvalidation_set's binary_logloss: 0.0499958\n",
      "[1]\tvalidation_set's binary_logloss: 0.0516123\n",
      "Training until validation scores don't improve for 4 rounds\n",
      "[2]\tvalidation_set's binary_logloss: 0.0516338\n",
      "[3]\tvalidation_set's binary_logloss: 0.052444\n",
      "[4]\tvalidation_set's binary_logloss: 0.0524335\n",
      "[5]\tvalidation_set's binary_logloss: 0.0524943\n",
      "Early stopping, best iteration is:\n",
      "[1]\tvalidation_set's binary_logloss: 0.0516123\n",
      "[1]\tvalidation_set's binary_logloss: 0.0430578\n",
      "Training until validation scores don't improve for 4 rounds\n"
     ]
    },
    {
     "name": "stderr",
     "output_type": "stream",
     "text": [
      "Found `num_iterations` in params. Will use it instead of argument\n",
      "categorical_feature in Dataset is overridden.\n",
      "New categorical_feature is ['age', 'anticipation', 'change_recent', 'country', 'defeat_recent', 'delayed', 'direct_recent', 'elected', 'election_now', 'election_recent', 'exec_ant', 'exec_recent', 'government', 'indirect_recent', 'irreg_lead_ant', 'lead_recent', 'leg_ant', 'leg_recent', 'male', 'militarycareer', 'month', 'nochange_recent', 'prev_conflict', 'pt_attempt', 'pt_suc', 'ref_ant', 'ref_recent', 'tenure_months', 'victory_recent', 'year']\n"
     ]
    },
    {
     "name": "stdout",
     "output_type": "stream",
     "text": [
      "[2]\tvalidation_set's binary_logloss: 0.0444365\n",
      "[3]\tvalidation_set's binary_logloss: 0.0465081\n",
      "[4]\tvalidation_set's binary_logloss: 0.0465204\n",
      "[5]\tvalidation_set's binary_logloss: 0.0469011\n",
      "Early stopping, best iteration is:\n",
      "[1]\tvalidation_set's binary_logloss: 0.0430578\n"
     ]
    },
    {
     "name": "stderr",
     "output_type": "stream",
     "text": [
      "Found `num_iterations` in params. Will use it instead of argument\n",
      "categorical_feature in Dataset is overridden.\n",
      "New categorical_feature is ['age', 'anticipation', 'change_recent', 'country', 'defeat_recent', 'delayed', 'direct_recent', 'elected', 'election_now', 'election_recent', 'exec_ant', 'exec_recent', 'government', 'indirect_recent', 'irreg_lead_ant', 'lead_recent', 'leg_ant', 'leg_recent', 'male', 'militarycareer', 'month', 'nochange_recent', 'prev_conflict', 'pt_attempt', 'pt_suc', 'ref_ant', 'ref_recent', 'tenure_months', 'victory_recent', 'year']\n"
     ]
    },
    {
     "name": "stdout",
     "output_type": "stream",
     "text": [
      "[1]\tvalidation_set's binary_logloss: 0.0530999[1]\tvalidation_set's binary_logloss: 0.0617936\n",
      "Training until validation scores don't improve for 4 rounds\n",
      "\n",
      "Training until validation scores don't improve for 4 rounds\n",
      "[2]\tvalidation_set's binary_logloss: 0.0531365\n",
      "[2]\tvalidation_set's binary_logloss: 0.0614048[3]\tvalidation_set's binary_logloss: 0.053804\n",
      "\n",
      "[4]\tvalidation_set's binary_logloss: 0.0543102[3]\tvalidation_set's binary_logloss: 0.0612534\n",
      "\n",
      "[5]\tvalidation_set's binary_logloss: 0.0545662[4]\tvalidation_set's binary_logloss: 0.06128\n",
      "\n",
      "Early stopping, best iteration is:\n",
      "[1]\tvalidation_set's binary_logloss: 0.0530999\n",
      "[5]\tvalidation_set's binary_logloss: 0.0611482\n",
      "[6]\tvalidation_set's binary_logloss: 0.0613431[1]\tvalidation_set's binary_logloss: 0.0456362\n",
      "\n",
      "Training until validation scores don't improve for 4 rounds\n",
      "[7]\tvalidation_set's binary_logloss: 0.0613428\n"
     ]
    },
    {
     "name": "stderr",
     "output_type": "stream",
     "text": [
      "Found `num_iterations` in params. Will use it instead of argument\n"
     ]
    },
    {
     "name": "stdout",
     "output_type": "stream",
     "text": [
      "[2]\tvalidation_set's binary_logloss: 0.0481501"
     ]
    },
    {
     "name": "stderr",
     "output_type": "stream",
     "text": [
      "categorical_feature in Dataset is overridden.\n",
      "New categorical_feature is ['age', 'anticipation', 'change_recent', 'country', 'defeat_recent', 'delayed', 'direct_recent', 'elected', 'election_now', 'election_recent', 'exec_ant', 'exec_recent', 'government', 'indirect_recent', 'irreg_lead_ant', 'lead_recent', 'leg_ant', 'leg_recent', 'male', 'militarycareer', 'month', 'nochange_recent', 'prev_conflict', 'pt_attempt', 'pt_suc', 'ref_ant', 'ref_recent', 'tenure_months', 'victory_recent', 'year']\n"
     ]
    },
    {
     "name": "stdout",
     "output_type": "stream",
     "text": [
      "[8]\tvalidation_set's binary_logloss: 0.0613905\n",
      "\n",
      "[3]\tvalidation_set's binary_logloss: 0.049618[9]\tvalidation_set's binary_logloss: 0.0612873\n",
      "\n",
      "Early stopping, best iteration is:\n",
      "[5]\tvalidation_set's binary_logloss: 0.0611482\n",
      "[4]\tvalidation_set's binary_logloss: 0.0497081\n",
      "[5]\tvalidation_set's binary_logloss: 0.0502232\n",
      "Early stopping, best iteration is:\n",
      "[1]\tvalidation_set's binary_logloss: 0.0456362\n",
      "[1]\tvalidation_set's binary_logloss: 0.0471149\n",
      "Training until validation scores don't improve for 4 rounds\n",
      "[2]\tvalidation_set's binary_logloss: 0.0476308\n",
      "[3]\tvalidation_set's binary_logloss: 0.0482606\n",
      "[4]\tvalidation_set's binary_logloss: 0.0485808\n",
      "[5]\tvalidation_set's binary_logloss: 0.0489201\n",
      "Early stopping, best iteration is:\n",
      "[1]\tvalidation_set's binary_logloss: 0.0471149\n"
     ]
    },
    {
     "name": "stderr",
     "output_type": "stream",
     "text": [
      "Found `num_iterations` in params. Will use it instead of argument\n",
      "categorical_feature in Dataset is overridden.\n",
      "New categorical_feature is ['age', 'anticipation', 'change_recent', 'country', 'defeat_recent', 'delayed', 'direct_recent', 'elected', 'election_now', 'election_recent', 'exec_ant', 'exec_recent', 'government', 'indirect_recent', 'irreg_lead_ant', 'lead_recent', 'leg_ant', 'leg_recent', 'male', 'militarycareer', 'month', 'nochange_recent', 'prev_conflict', 'pt_attempt', 'pt_suc', 'ref_ant', 'ref_recent', 'tenure_months', 'victory_recent', 'year']\n"
     ]
    },
    {
     "name": "stdout",
     "output_type": "stream",
     "text": [
      "[1]\tvalidation_set's binary_logloss: 0.0492351\n",
      "Training until validation scores don't improve for 4 rounds\n",
      "[2]\tvalidation_set's binary_logloss: 0.0495282\n",
      "[3]\tvalidation_set's binary_logloss: 0.0499765\n",
      "[1]\tvalidation_set's binary_logloss: 0.0449602\n",
      "[4]\tvalidation_set's binary_logloss: 0.0497722Training until validation scores don't improve for 4 rounds\n",
      "[5]\tvalidation_set's binary_logloss: 0.0502406\n",
      "\n",
      "Early stopping, best iteration is:\n",
      "[1]\tvalidation_set's binary_logloss: 0.0492351[2]\tvalidation_set's binary_logloss: 0.0461643\n",
      "\n",
      "[3]\tvalidation_set's binary_logloss: 0.0461854\n",
      "[4]\tvalidation_set's binary_logloss: 0.0464649\n",
      "[5]\tvalidation_set's binary_logloss: 0.0462984\n",
      "Early stopping, best iteration is:\n",
      "[1]\tvalidation_set's binary_logloss: 0.0449602\n"
     ]
    },
    {
     "name": "stderr",
     "output_type": "stream",
     "text": [
      "Found `num_iterations` in params. Will use it instead of argument\n",
      "categorical_feature in Dataset is overridden.\n",
      "New categorical_feature is ['age', 'anticipation', 'change_recent', 'country', 'defeat_recent', 'delayed', 'direct_recent', 'elected', 'election_now', 'election_recent', 'exec_ant', 'exec_recent', 'government', 'indirect_recent', 'irreg_lead_ant', 'lead_recent', 'leg_ant', 'leg_recent', 'male', 'militarycareer', 'month', 'nochange_recent', 'prev_conflict', 'pt_attempt', 'pt_suc', 'ref_ant', 'ref_recent', 'tenure_months', 'victory_recent', 'year']\n"
     ]
    },
    {
     "name": "stdout",
     "output_type": "stream",
     "text": [
      "[1]\tvalidation_set's binary_logloss: 0.0484633\n",
      "Training until validation scores don't improve for 4 rounds\n",
      "[2]\tvalidation_set's binary_logloss: 0.0483523\n",
      "[3]\tvalidation_set's binary_logloss: 0.0486443\n",
      "[4]\tvalidation_set's binary_logloss: 0.049105\n",
      "[5]\tvalidation_set's binary_logloss: 0.049426\n",
      "[6]\tvalidation_set's binary_logloss: 0.0498055\n",
      "Early stopping, best iteration is:\n",
      "[2]\tvalidation_set's binary_logloss: 0.0483523\n",
      "[1]\tvalidation_set's binary_logloss: 0.0579718\n",
      "Training until validation scores don't improve for 4 rounds\n",
      "[2]\tvalidation_set's binary_logloss: 0.0574876\n",
      "[3]\tvalidation_set's binary_logloss: 0.0576595\n",
      "[1]\tvalidation_set's binary_logloss: 0.0414249[4]\tvalidation_set's binary_logloss: 0.057774\n",
      "\n",
      "Training until validation scores don't improve for 4 rounds\n",
      "[2]\tvalidation_set's binary_logloss: 0.0419145[5]\tvalidation_set's binary_logloss: 0.0578908\n",
      "\n",
      "[3]\tvalidation_set's binary_logloss: 0.0421709[6]\tvalidation_set's binary_logloss: 0.0579768\n",
      "\n",
      "Early stopping, best iteration is:\n",
      "[2]\tvalidation_set's binary_logloss: 0.0574876[4]\tvalidation_set's binary_logloss: 0.0432721\n",
      "\n",
      "[5]\tvalidation_set's binary_logloss: 0.0431999\n",
      "Early stopping, best iteration is:\n",
      "[1]\tvalidation_set's binary_logloss: 0.0414249\n",
      "[1]\tvalidation_set's binary_logloss: 0.0565918\n",
      "Training until validation scores don't improve for 4 rounds\n",
      "[2]\tvalidation_set's binary_logloss: 0.0561829\n",
      "[1]\tvalidation_set's binary_logloss: 0.056913\n",
      "Training until validation scores don't improve for 4 rounds\n",
      "[2]\tvalidation_set's binary_logloss: 0.0592022[3]\tvalidation_set's binary_logloss: 0.0563522\n",
      "\n",
      "[3]\tvalidation_set's binary_logloss: 0.0594145[4]\tvalidation_set's binary_logloss: 0.056568\n",
      "\n",
      "[4]\tvalidation_set's binary_logloss: 0.0602465[5]\tvalidation_set's binary_logloss: 0.0569073\n",
      "\n",
      "[6]\tvalidation_set's binary_logloss: 0.0567111[5]\tvalidation_set's binary_logloss: 0.0607884\n",
      "\n",
      "Early stopping, best iteration is:\n",
      "[2]\tvalidation_set's binary_logloss: 0.0561829Early stopping, best iteration is:\n",
      "[1]\tvalidation_set's binary_logloss: 0.056913\n",
      "\n",
      "[1]\tvalidation_set's binary_logloss: 0.0562356\n",
      "Training until validation scores don't improve for 4 rounds\n",
      "[2]\tvalidation_set's binary_logloss: 0.0561801\n",
      "[3]\tvalidation_set's binary_logloss: 0.0569197\n",
      "[4]\tvalidation_set's binary_logloss: 0.0571851\n",
      "[5]\tvalidation_set's binary_logloss: 0.0579013\n",
      "[6]\tvalidation_set's binary_logloss: 0.0582228\n",
      "Early stopping, best iteration is:\n",
      "[2]\tvalidation_set's binary_logloss: 0.0561801\n"
     ]
    }
   ],
   "source": [
    "modeler = LGBSurvivalModeler(data=data_processor.data)\n",
    "modeler.build_model()"
   ]
  },
  {
   "cell_type": "markdown",
   "metadata": {},
   "source": [
    "#### Forecasts\n",
    "Obtaining a forecast for every current leader is as simple as `modeler.forecast()`. We also customize the column headers."
   ]
  },
  {
   "cell_type": "code",
   "execution_count": 8,
   "metadata": {},
   "outputs": [
    {
     "data": {
      "text/html": [
       "<div>\n",
       "<style scoped>\n",
       "    .dataframe tbody tr th:only-of-type {\n",
       "        vertical-align: middle;\n",
       "    }\n",
       "\n",
       "    .dataframe tbody tr th {\n",
       "        vertical-align: top;\n",
       "    }\n",
       "\n",
       "    .dataframe thead th {\n",
       "        text-align: right;\n",
       "    }\n",
       "</style>\n",
       "<table border=\"1\" class=\"dataframe\">\n",
       "  <thead>\n",
       "    <tr style=\"text-align: right;\">\n",
       "      <th></th>\n",
       "      <th>Aug 2020</th>\n",
       "      <th>Sep 2020</th>\n",
       "      <th>Oct 2020</th>\n",
       "      <th>Nov 2020</th>\n",
       "      <th>Dec 2020</th>\n",
       "      <th>Jan 2021</th>\n",
       "      <th>Feb 2021</th>\n",
       "      <th>Mar 2021</th>\n",
       "      <th>Apr 2021</th>\n",
       "      <th>May 2021</th>\n",
       "      <th>...</th>\n",
       "      <th>Dec 2039</th>\n",
       "      <th>Jan 2040</th>\n",
       "      <th>Feb 2040</th>\n",
       "      <th>Mar 2040</th>\n",
       "      <th>Apr 2040</th>\n",
       "      <th>May 2040</th>\n",
       "      <th>Jun 2040</th>\n",
       "      <th>Jul 2040</th>\n",
       "      <th>Aug 2040</th>\n",
       "      <th>Sep 2040</th>\n",
       "    </tr>\n",
       "    <tr>\n",
       "      <th>country-leader</th>\n",
       "      <th></th>\n",
       "      <th></th>\n",
       "      <th></th>\n",
       "      <th></th>\n",
       "      <th></th>\n",
       "      <th></th>\n",
       "      <th></th>\n",
       "      <th></th>\n",
       "      <th></th>\n",
       "      <th></th>\n",
       "      <th></th>\n",
       "      <th></th>\n",
       "      <th></th>\n",
       "      <th></th>\n",
       "      <th></th>\n",
       "      <th></th>\n",
       "      <th></th>\n",
       "      <th></th>\n",
       "      <th></th>\n",
       "      <th></th>\n",
       "      <th></th>\n",
       "    </tr>\n",
       "  </thead>\n",
       "  <tbody>\n",
       "    <tr>\n",
       "      <th>Afghanistan: Ashraf Ghani</th>\n",
       "      <td>0.993510</td>\n",
       "      <td>0.972192</td>\n",
       "      <td>0.947423</td>\n",
       "      <td>0.928553</td>\n",
       "      <td>0.910774</td>\n",
       "      <td>0.903915</td>\n",
       "      <td>0.898858</td>\n",
       "      <td>0.881401</td>\n",
       "      <td>0.875547</td>\n",
       "      <td>0.865219</td>\n",
       "      <td>...</td>\n",
       "      <td>0.021501</td>\n",
       "      <td>0.020679</td>\n",
       "      <td>0.020542</td>\n",
       "      <td>0.020289</td>\n",
       "      <td>0.018357</td>\n",
       "      <td>0.018235</td>\n",
       "      <td>0.018112</td>\n",
       "      <td>0.018009</td>\n",
       "      <td>0.017885</td>\n",
       "      <td>0.017775</td>\n",
       "    </tr>\n",
       "    <tr>\n",
       "      <th>Albania: Rama</th>\n",
       "      <td>0.994266</td>\n",
       "      <td>0.987576</td>\n",
       "      <td>0.979449</td>\n",
       "      <td>0.975458</td>\n",
       "      <td>0.970171</td>\n",
       "      <td>0.965339</td>\n",
       "      <td>0.959064</td>\n",
       "      <td>0.952718</td>\n",
       "      <td>0.943017</td>\n",
       "      <td>0.929097</td>\n",
       "      <td>...</td>\n",
       "      <td>0.004326</td>\n",
       "      <td>0.004298</td>\n",
       "      <td>0.004252</td>\n",
       "      <td>0.004223</td>\n",
       "      <td>0.004127</td>\n",
       "      <td>0.004099</td>\n",
       "      <td>0.004071</td>\n",
       "      <td>0.004048</td>\n",
       "      <td>0.004020</td>\n",
       "      <td>0.003990</td>\n",
       "    </tr>\n",
       "    <tr>\n",
       "      <th>Algeria: Tebboune</th>\n",
       "      <td>0.981568</td>\n",
       "      <td>0.954030</td>\n",
       "      <td>0.943877</td>\n",
       "      <td>0.930683</td>\n",
       "      <td>0.922343</td>\n",
       "      <td>0.913518</td>\n",
       "      <td>0.906216</td>\n",
       "      <td>0.900997</td>\n",
       "      <td>0.892311</td>\n",
       "      <td>0.880333</td>\n",
       "      <td>...</td>\n",
       "      <td>0.104825</td>\n",
       "      <td>0.104140</td>\n",
       "      <td>0.103450</td>\n",
       "      <td>0.102745</td>\n",
       "      <td>0.102051</td>\n",
       "      <td>0.101369</td>\n",
       "      <td>0.100686</td>\n",
       "      <td>0.100117</td>\n",
       "      <td>0.099428</td>\n",
       "      <td>0.098814</td>\n",
       "    </tr>\n",
       "    <tr>\n",
       "      <th>Andorra: Espot Zamora</th>\n",
       "      <td>0.988504</td>\n",
       "      <td>0.980634</td>\n",
       "      <td>0.973549</td>\n",
       "      <td>0.964426</td>\n",
       "      <td>0.955670</td>\n",
       "      <td>0.947639</td>\n",
       "      <td>0.934887</td>\n",
       "      <td>0.928751</td>\n",
       "      <td>0.920484</td>\n",
       "      <td>0.911905</td>\n",
       "      <td>...</td>\n",
       "      <td>0.020801</td>\n",
       "      <td>0.020665</td>\n",
       "      <td>0.020528</td>\n",
       "      <td>0.020388</td>\n",
       "      <td>0.020251</td>\n",
       "      <td>0.020115</td>\n",
       "      <td>0.019980</td>\n",
       "      <td>0.019867</td>\n",
       "      <td>0.019730</td>\n",
       "      <td>0.019575</td>\n",
       "    </tr>\n",
       "    <tr>\n",
       "      <th>Angola: Lourenco</th>\n",
       "      <td>0.986212</td>\n",
       "      <td>0.971566</td>\n",
       "      <td>0.963054</td>\n",
       "      <td>0.958269</td>\n",
       "      <td>0.951608</td>\n",
       "      <td>0.939726</td>\n",
       "      <td>0.935119</td>\n",
       "      <td>0.924575</td>\n",
       "      <td>0.901211</td>\n",
       "      <td>0.890643</td>\n",
       "      <td>...</td>\n",
       "      <td>0.062187</td>\n",
       "      <td>0.061780</td>\n",
       "      <td>0.061373</td>\n",
       "      <td>0.060954</td>\n",
       "      <td>0.058901</td>\n",
       "      <td>0.058508</td>\n",
       "      <td>0.058114</td>\n",
       "      <td>0.057786</td>\n",
       "      <td>0.057388</td>\n",
       "      <td>0.057027</td>\n",
       "    </tr>\n",
       "    <tr>\n",
       "      <th>...</th>\n",
       "      <td>...</td>\n",
       "      <td>...</td>\n",
       "      <td>...</td>\n",
       "      <td>...</td>\n",
       "      <td>...</td>\n",
       "      <td>...</td>\n",
       "      <td>...</td>\n",
       "      <td>...</td>\n",
       "      <td>...</td>\n",
       "      <td>...</td>\n",
       "      <td>...</td>\n",
       "      <td>...</td>\n",
       "      <td>...</td>\n",
       "      <td>...</td>\n",
       "      <td>...</td>\n",
       "      <td>...</td>\n",
       "      <td>...</td>\n",
       "      <td>...</td>\n",
       "      <td>...</td>\n",
       "      <td>...</td>\n",
       "      <td>...</td>\n",
       "    </tr>\n",
       "    <tr>\n",
       "      <th>Venezuela: Nicolas Maduro</th>\n",
       "      <td>0.996550</td>\n",
       "      <td>0.992178</td>\n",
       "      <td>0.988821</td>\n",
       "      <td>0.986147</td>\n",
       "      <td>0.982919</td>\n",
       "      <td>0.979942</td>\n",
       "      <td>0.976554</td>\n",
       "      <td>0.971374</td>\n",
       "      <td>0.942708</td>\n",
       "      <td>0.936070</td>\n",
       "      <td>...</td>\n",
       "      <td>0.081647</td>\n",
       "      <td>0.081111</td>\n",
       "      <td>0.080574</td>\n",
       "      <td>0.078506</td>\n",
       "      <td>0.076717</td>\n",
       "      <td>0.076216</td>\n",
       "      <td>0.075702</td>\n",
       "      <td>0.075275</td>\n",
       "      <td>0.074757</td>\n",
       "      <td>0.074295</td>\n",
       "    </tr>\n",
       "    <tr>\n",
       "      <th>Vietnam: Phu Trong</th>\n",
       "      <td>0.992936</td>\n",
       "      <td>0.987022</td>\n",
       "      <td>0.981365</td>\n",
       "      <td>0.910920</td>\n",
       "      <td>0.903252</td>\n",
       "      <td>0.893244</td>\n",
       "      <td>0.887394</td>\n",
       "      <td>0.875696</td>\n",
       "      <td>0.821941</td>\n",
       "      <td>0.816099</td>\n",
       "      <td>...</td>\n",
       "      <td>0.053048</td>\n",
       "      <td>0.052687</td>\n",
       "      <td>0.052328</td>\n",
       "      <td>0.051971</td>\n",
       "      <td>0.051620</td>\n",
       "      <td>0.051276</td>\n",
       "      <td>0.048573</td>\n",
       "      <td>0.048219</td>\n",
       "      <td>0.047887</td>\n",
       "      <td>0.047586</td>\n",
       "    </tr>\n",
       "    <tr>\n",
       "      <th>Yemen: Houthi</th>\n",
       "      <td>0.997050</td>\n",
       "      <td>0.982350</td>\n",
       "      <td>0.971474</td>\n",
       "      <td>0.959179</td>\n",
       "      <td>0.952695</td>\n",
       "      <td>0.942669</td>\n",
       "      <td>0.935131</td>\n",
       "      <td>0.928477</td>\n",
       "      <td>0.915261</td>\n",
       "      <td>0.903341</td>\n",
       "      <td>...</td>\n",
       "      <td>0.117514</td>\n",
       "      <td>0.116743</td>\n",
       "      <td>0.115970</td>\n",
       "      <td>0.115179</td>\n",
       "      <td>0.114401</td>\n",
       "      <td>0.113637</td>\n",
       "      <td>0.110038</td>\n",
       "      <td>0.109418</td>\n",
       "      <td>0.108681</td>\n",
       "      <td>0.108026</td>\n",
       "    </tr>\n",
       "    <tr>\n",
       "      <th>Zambia: Lungu</th>\n",
       "      <td>0.992571</td>\n",
       "      <td>0.987839</td>\n",
       "      <td>0.982829</td>\n",
       "      <td>0.980229</td>\n",
       "      <td>0.977553</td>\n",
       "      <td>0.975399</td>\n",
       "      <td>0.963962</td>\n",
       "      <td>0.957060</td>\n",
       "      <td>0.948228</td>\n",
       "      <td>0.939811</td>\n",
       "      <td>...</td>\n",
       "      <td>0.092164</td>\n",
       "      <td>0.091560</td>\n",
       "      <td>0.090954</td>\n",
       "      <td>0.090333</td>\n",
       "      <td>0.089723</td>\n",
       "      <td>0.089137</td>\n",
       "      <td>0.088536</td>\n",
       "      <td>0.086733</td>\n",
       "      <td>0.082845</td>\n",
       "      <td>0.082334</td>\n",
       "    </tr>\n",
       "    <tr>\n",
       "      <th>Zimbabwe: Mnangagwa</th>\n",
       "      <td>0.997570</td>\n",
       "      <td>0.991899</td>\n",
       "      <td>0.986293</td>\n",
       "      <td>0.981129</td>\n",
       "      <td>0.975298</td>\n",
       "      <td>0.970009</td>\n",
       "      <td>0.966326</td>\n",
       "      <td>0.960117</td>\n",
       "      <td>0.956149</td>\n",
       "      <td>0.949612</td>\n",
       "      <td>...</td>\n",
       "      <td>0.090383</td>\n",
       "      <td>0.089790</td>\n",
       "      <td>0.089196</td>\n",
       "      <td>0.088587</td>\n",
       "      <td>0.087989</td>\n",
       "      <td>0.087401</td>\n",
       "      <td>0.086825</td>\n",
       "      <td>0.086335</td>\n",
       "      <td>0.085740</td>\n",
       "      <td>0.085211</td>\n",
       "    </tr>\n",
       "  </tbody>\n",
       "</table>\n",
       "<p>194 rows × 242 columns</p>\n",
       "</div>"
      ],
      "text/plain": [
       "                           Aug 2020  Sep 2020  Oct 2020  Nov 2020  Dec 2020  \\\n",
       "country-leader                                                                \n",
       "Afghanistan: Ashraf Ghani  0.993510  0.972192  0.947423  0.928553  0.910774   \n",
       "Albania: Rama              0.994266  0.987576  0.979449  0.975458  0.970171   \n",
       "Algeria: Tebboune          0.981568  0.954030  0.943877  0.930683  0.922343   \n",
       "Andorra: Espot Zamora      0.988504  0.980634  0.973549  0.964426  0.955670   \n",
       "Angola: Lourenco           0.986212  0.971566  0.963054  0.958269  0.951608   \n",
       "...                             ...       ...       ...       ...       ...   \n",
       "Venezuela: Nicolas Maduro  0.996550  0.992178  0.988821  0.986147  0.982919   \n",
       "Vietnam: Phu Trong         0.992936  0.987022  0.981365  0.910920  0.903252   \n",
       "Yemen: Houthi              0.997050  0.982350  0.971474  0.959179  0.952695   \n",
       "Zambia: Lungu              0.992571  0.987839  0.982829  0.980229  0.977553   \n",
       "Zimbabwe: Mnangagwa        0.997570  0.991899  0.986293  0.981129  0.975298   \n",
       "\n",
       "                           Jan 2021  Feb 2021  Mar 2021  Apr 2021  May 2021  \\\n",
       "country-leader                                                                \n",
       "Afghanistan: Ashraf Ghani  0.903915  0.898858  0.881401  0.875547  0.865219   \n",
       "Albania: Rama              0.965339  0.959064  0.952718  0.943017  0.929097   \n",
       "Algeria: Tebboune          0.913518  0.906216  0.900997  0.892311  0.880333   \n",
       "Andorra: Espot Zamora      0.947639  0.934887  0.928751  0.920484  0.911905   \n",
       "Angola: Lourenco           0.939726  0.935119  0.924575  0.901211  0.890643   \n",
       "...                             ...       ...       ...       ...       ...   \n",
       "Venezuela: Nicolas Maduro  0.979942  0.976554  0.971374  0.942708  0.936070   \n",
       "Vietnam: Phu Trong         0.893244  0.887394  0.875696  0.821941  0.816099   \n",
       "Yemen: Houthi              0.942669  0.935131  0.928477  0.915261  0.903341   \n",
       "Zambia: Lungu              0.975399  0.963962  0.957060  0.948228  0.939811   \n",
       "Zimbabwe: Mnangagwa        0.970009  0.966326  0.960117  0.956149  0.949612   \n",
       "\n",
       "                           ...  Dec 2039  Jan 2040  Feb 2040  Mar 2040  \\\n",
       "country-leader             ...                                           \n",
       "Afghanistan: Ashraf Ghani  ...  0.021501  0.020679  0.020542  0.020289   \n",
       "Albania: Rama              ...  0.004326  0.004298  0.004252  0.004223   \n",
       "Algeria: Tebboune          ...  0.104825  0.104140  0.103450  0.102745   \n",
       "Andorra: Espot Zamora      ...  0.020801  0.020665  0.020528  0.020388   \n",
       "Angola: Lourenco           ...  0.062187  0.061780  0.061373  0.060954   \n",
       "...                        ...       ...       ...       ...       ...   \n",
       "Venezuela: Nicolas Maduro  ...  0.081647  0.081111  0.080574  0.078506   \n",
       "Vietnam: Phu Trong         ...  0.053048  0.052687  0.052328  0.051971   \n",
       "Yemen: Houthi              ...  0.117514  0.116743  0.115970  0.115179   \n",
       "Zambia: Lungu              ...  0.092164  0.091560  0.090954  0.090333   \n",
       "Zimbabwe: Mnangagwa        ...  0.090383  0.089790  0.089196  0.088587   \n",
       "\n",
       "                           Apr 2040  May 2040  Jun 2040  Jul 2040  Aug 2040  \\\n",
       "country-leader                                                                \n",
       "Afghanistan: Ashraf Ghani  0.018357  0.018235  0.018112  0.018009  0.017885   \n",
       "Albania: Rama              0.004127  0.004099  0.004071  0.004048  0.004020   \n",
       "Algeria: Tebboune          0.102051  0.101369  0.100686  0.100117  0.099428   \n",
       "Andorra: Espot Zamora      0.020251  0.020115  0.019980  0.019867  0.019730   \n",
       "Angola: Lourenco           0.058901  0.058508  0.058114  0.057786  0.057388   \n",
       "...                             ...       ...       ...       ...       ...   \n",
       "Venezuela: Nicolas Maduro  0.076717  0.076216  0.075702  0.075275  0.074757   \n",
       "Vietnam: Phu Trong         0.051620  0.051276  0.048573  0.048219  0.047887   \n",
       "Yemen: Houthi              0.114401  0.113637  0.110038  0.109418  0.108681   \n",
       "Zambia: Lungu              0.089723  0.089137  0.088536  0.086733  0.082845   \n",
       "Zimbabwe: Mnangagwa        0.087989  0.087401  0.086825  0.086335  0.085740   \n",
       "\n",
       "                           Sep 2040  \n",
       "country-leader                       \n",
       "Afghanistan: Ashraf Ghani  0.017775  \n",
       "Albania: Rama              0.003990  \n",
       "Algeria: Tebboune          0.098814  \n",
       "Andorra: Espot Zamora      0.019575  \n",
       "Angola: Lourenco           0.057027  \n",
       "...                             ...  \n",
       "Venezuela: Nicolas Maduro  0.074295  \n",
       "Vietnam: Phu Trong         0.047586  \n",
       "Yemen: Houthi              0.108026  \n",
       "Zambia: Lungu              0.082334  \n",
       "Zimbabwe: Mnangagwa        0.085211  \n",
       "\n",
       "[194 rows x 242 columns]"
      ]
     },
     "execution_count": 8,
     "metadata": {},
     "output_type": "execute_result"
    }
   ],
   "source": [
    "forecasts = modeler.forecast()\n",
    "forecasts.columns = pd.date_range(data[\"year-month\"].max(),\n",
    "                                  periods=len(forecasts.columns) + 1,\n",
    "                                  freq=\"M\",\n",
    "                                  ).strftime(\"%b %Y\")[1:]\n",
    "forecasts"
   ]
  },
  {
   "cell_type": "markdown",
   "metadata": {},
   "source": [
    "We won't know how accurate these forecasts are until the future reveals itself to us. However, we can *pretend* to not have the most recent, say, 36 months of data, train a model, then evaluate that model's forecasts over those 36 months. Doing so is as easy as specifying the TEST_INTERVALS configuration parameter."
   ]
  },
  {
   "cell_type": "code",
   "execution_count": 9,
   "metadata": {
    "scrolled": true
   },
   "outputs": [
    {
     "name": "stdout",
     "output_type": "stream",
     "text": [
      "Time identifier column name not given; assumed to be second-leftmost column (year-month)\n",
      "Individual identifier column name not given; assumed to be leftmost column (country-leader)\n"
     ]
    },
    {
     "name": "stderr",
     "output_type": "stream",
     "text": [
      "Found `num_iterations` in params. Will use it instead of argument\n",
      "categorical_feature in Dataset is overridden.\n",
      "New categorical_feature is ['age', 'anticipation', 'change_recent', 'country', 'defeat_recent', 'delayed', 'direct_recent', 'elected', 'election_now', 'election_recent', 'exec_ant', 'exec_recent', 'government', 'indirect_recent', 'irreg_lead_ant', 'lead_recent', 'leg_ant', 'leg_recent', 'male', 'militarycareer', 'month', 'nochange_recent', 'prev_conflict', 'pt_attempt', 'pt_suc', 'ref_ant', 'ref_recent', 'tenure_months', 'victory_recent', 'year']\n"
     ]
    },
    {
     "name": "stdout",
     "output_type": "stream",
     "text": [
      "[1]\tvalidation_set's binary_logloss: 0.0644855\n",
      "Training until validation scores don't improve for 4 rounds\n",
      "[2]\tvalidation_set's binary_logloss: 0.0639783\n",
      "[3]\tvalidation_set's binary_logloss: 0.0637411\n",
      "[4]\tvalidation_set's binary_logloss: 0.0634981[1]\tvalidation_set's binary_logloss: 0.0638733[1]\tvalidation_set's binary_logloss: 0.0636556[1]\tvalidation_set's binary_logloss: 0.0654157[1]\tvalidation_set's binary_logloss: 0.064328\n",
      "[1]\tvalidation_set's binary_logloss: 0.0647894\n",
      "\n",
      "\n",
      "\n",
      "\n",
      "Training until validation scores don't improve for 4 roundsTraining until validation scores don't improve for 4 roundsTraining until validation scores don't improve for 4 roundsTraining until validation scores don't improve for 4 rounds\n",
      "Training until validation scores don't improve for 4 rounds\n",
      "\n",
      "\n",
      "\n",
      "[1]\tvalidation_set's binary_logloss: 0.0647049[1]\tvalidation_set's binary_logloss: 0.0772667\n",
      "\n",
      "Training until validation scores don't improve for 4 roundsTraining until validation scores don't improve for 4 rounds[2]\tvalidation_set's binary_logloss: 0.0633023[2]\tvalidation_set's binary_logloss: 0.0630986\n",
      "\n",
      "\n",
      "\n",
      "[2]\tvalidation_set's binary_logloss: 0.0652682[5]\tvalidation_set's binary_logloss: 0.0632813[2]\tvalidation_set's binary_logloss: 0.0638462\n",
      "\n",
      "\n",
      "[2]\tvalidation_set's binary_logloss: 0.0611457\n",
      "[3]\tvalidation_set's binary_logloss: 0.0635863[3]\tvalidation_set's binary_logloss: 0.0624325\n",
      "\n",
      "[3]\tvalidation_set's binary_logloss: 0.0625701[2]\tvalidation_set's binary_logloss: 0.073947[6]\tvalidation_set's binary_logloss: 0.0630778\n",
      "\n",
      "\n",
      "[3]\tvalidation_set's binary_logloss: 0.0649467\n",
      "[2]\tvalidation_set's binary_logloss: 0.0638661\n",
      "[3]\tvalidation_set's binary_logloss: 0.0595636\n",
      "[4]\tvalidation_set's binary_logloss: 0.0622781[7]\tvalidation_set's binary_logloss: 0.0631457[4]\tvalidation_set's binary_logloss: 0.0633128\n",
      "\n",
      "[4]\tvalidation_set's binary_logloss: 0.0646332\n",
      "\n",
      "[3]\tvalidation_set's binary_logloss: 0.0724115\n",
      "[4]\tvalidation_set's binary_logloss: 0.0625294\n",
      "[3]\tvalidation_set's binary_logloss: 0.0635215\n",
      "[4]\tvalidation_set's binary_logloss: 0.0585462\n",
      "[5]\tvalidation_set's binary_logloss: 0.0632476[5]\tvalidation_set's binary_logloss: 0.0624625[8]\tvalidation_set's binary_logloss: 0.0632602\n",
      "[5]\tvalidation_set's binary_logloss: 0.0625686[5]\tvalidation_set's binary_logloss: 0.0645401\n",
      "\n",
      "[4]\tvalidation_set's binary_logloss: 0.0715426\n",
      "\n",
      "\n",
      "[4]\tvalidation_set's binary_logloss: 0.0636219\n",
      "[5]\tvalidation_set's binary_logloss: 0.0578397\n",
      "[6]\tvalidation_set's binary_logloss: 0.0622517\n",
      "[6]\tvalidation_set's binary_logloss: 0.0645715\n",
      "[9]\tvalidation_set's binary_logloss: 0.0629782\n",
      "[6]\tvalidation_set's binary_logloss: 0.0632973\n",
      "[5]\tvalidation_set's binary_logloss: 0.0706477\n",
      "[5]\tvalidation_set's binary_logloss: 0.0634717\n",
      "[6]\tvalidation_set's binary_logloss: 0.0623617\n",
      "[6]\tvalidation_set's binary_logloss: 0.0571031\n",
      "[7]\tvalidation_set's binary_logloss: 0.0620708[7]\tvalidation_set's binary_logloss: 0.0634715\n",
      "\n",
      "[10]\tvalidation_set's binary_logloss: 0.0629882\n",
      "[7]\tvalidation_set's binary_logloss: 0.0643168\n",
      "[6]\tvalidation_set's binary_logloss: 0.0634831\n",
      "[6]\tvalidation_set's binary_logloss: 0.0698782\n",
      "[7]\tvalidation_set's binary_logloss: 0.0620993\n",
      "[7]\tvalidation_set's binary_logloss: 0.0566652\n",
      "[8]\tvalidation_set's binary_logloss: 0.0635267[8]\tvalidation_set's binary_logloss: 0.0620127\n",
      "\n",
      "[7]\tvalidation_set's binary_logloss: 0.0636002[8]\tvalidation_set's binary_logloss: 0.0641983\n",
      "\n",
      "[8]\tvalidation_set's binary_logloss: 0.0621882\n",
      "[7]\tvalidation_set's binary_logloss: 0.0692003\n",
      "[11]\tvalidation_set's binary_logloss: 0.0630587\n",
      "[8]\tvalidation_set's binary_logloss: 0.0561105\n",
      "[9]\tvalidation_set's binary_logloss: 0.0620273[9]\tvalidation_set's binary_logloss: 0.0634334\n",
      "\n",
      "Early stopping, best iteration is:\n",
      "[5]\tvalidation_set's binary_logloss: 0.0632476\n",
      "[9]\tvalidation_set's binary_logloss: 0.0623661\n",
      "[9]\tvalidation_set's binary_logloss: 0.0643127[8]\tvalidation_set's binary_logloss: 0.0635075\n",
      "\n",
      "[12]\tvalidation_set's binary_logloss: 0.0630699\n",
      "[8]\tvalidation_set's binary_logloss: 0.0688021\n",
      "[9]\tvalidation_set's binary_logloss: 0.0557263\n",
      "[10]\tvalidation_set's binary_logloss: 0.0621327\n",
      "[10]\tvalidation_set's binary_logloss: 0.0624186\n",
      "[9]\tvalidation_set's binary_logloss: 0.0635203\n",
      "Early stopping, best iteration is:\n",
      "[5]\tvalidation_set's binary_logloss: 0.0634717\n",
      "[10]\tvalidation_set's binary_logloss: 0.0643618[13]\tvalidation_set's binary_logloss: 0.0631367\n",
      "\n",
      "Early stopping, best iteration is:\n",
      "[9]\tvalidation_set's binary_logloss: 0.0629782\n",
      "[9]\tvalidation_set's binary_logloss: 0.0686766\n",
      "[10]\tvalidation_set's binary_logloss: 0.0552875[11]\tvalidation_set's binary_logloss: 0.0619858[11]\tvalidation_set's binary_logloss: 0.0625353\n",
      "\n",
      "[11]\tvalidation_set's binary_logloss: 0.064413\n",
      "[10]\tvalidation_set's binary_logloss: 0.068526\n",
      "\n",
      "Early stopping, best iteration is:\n",
      "[7]\tvalidation_set's binary_logloss: 0.0620993\n",
      "[12]\tvalidation_set's binary_logloss: 0.0617527\n",
      "[12]\tvalidation_set's binary_logloss: 0.0644656[11]\tvalidation_set's binary_logloss: 0.0683173\n",
      "[11]\tvalidation_set's binary_logloss: 0.0549282\n",
      "Early stopping, best iteration is:\n",
      "[8]\tvalidation_set's binary_logloss: 0.0641983\n",
      "\n",
      "[13]\tvalidation_set's binary_logloss: 0.0618331[12]\tvalidation_set's binary_logloss: 0.06803[12]\tvalidation_set's binary_logloss: 0.054579\n",
      "\n",
      "\n",
      "[14]\tvalidation_set's binary_logloss: 0.0619042[13]\tvalidation_set's binary_logloss: 0.067917[13]\tvalidation_set's binary_logloss: 0.0542748\n",
      "\n",
      "\n",
      "[15]\tvalidation_set's binary_logloss: 0.0619452[14]\tvalidation_set's binary_logloss: 0.0677278[14]\tvalidation_set's binary_logloss: 0.0541144\n",
      "\n",
      "\n",
      "[16]\tvalidation_set's binary_logloss: 0.0620379\n",
      "[15]\tvalidation_set's binary_logloss: 0.0676124Early stopping, best iteration is:\n",
      "[12]\tvalidation_set's binary_logloss: 0.0617527[15]\tvalidation_set's binary_logloss: 0.0539506\n",
      "\n",
      "\n",
      "[16]\tvalidation_set's binary_logloss: 0.0675577\n",
      "[16]\tvalidation_set's binary_logloss: 0.0537326\n",
      "[17]\tvalidation_set's binary_logloss: 0.0676314\n",
      "[17]\tvalidation_set's binary_logloss: 0.0533973[18]\tvalidation_set's binary_logloss: 0.0675709\n",
      "\n",
      "[19]\tvalidation_set's binary_logloss: 0.0676289\n",
      "[18]\tvalidation_set's binary_logloss: 0.0532111\n",
      "[20]\tvalidation_set's binary_logloss: 0.0674601\n"
     ]
    },
    {
     "name": "stderr",
     "output_type": "stream",
     "text": [
      "Found `num_iterations` in params. Will use it instead of argument\n"
     ]
    },
    {
     "name": "stdout",
     "output_type": "stream",
     "text": [
      "[19]\tvalidation_set's binary_logloss: 0.0530511"
     ]
    },
    {
     "name": "stderr",
     "output_type": "stream",
     "text": [
      "categorical_feature in Dataset is overridden.\n",
      "New categorical_feature is ['age', 'anticipation', 'change_recent', 'country', 'defeat_recent', 'delayed', 'direct_recent', 'elected', 'election_now', 'election_recent', 'exec_ant', 'exec_recent', 'government', 'indirect_recent', 'irreg_lead_ant', 'lead_recent', 'leg_ant', 'leg_recent', 'male', 'militarycareer', 'month', 'nochange_recent', 'prev_conflict', 'pt_attempt', 'pt_suc', 'ref_ant', 'ref_recent', 'tenure_months', 'victory_recent', 'year']\n"
     ]
    },
    {
     "name": "stdout",
     "output_type": "stream",
     "text": [
      "[21]\tvalidation_set's binary_logloss: 0.0673336\n",
      "\n",
      "[22]\tvalidation_set's binary_logloss: 0.0672675[20]\tvalidation_set's binary_logloss: 0.0527717\n",
      "\n",
      "[21]\tvalidation_set's binary_logloss: 0.0525892\n",
      "[23]\tvalidation_set's binary_logloss: 0.067281\n",
      "[22]\tvalidation_set's binary_logloss: 0.0524859[24]\tvalidation_set's binary_logloss: 0.067189\n",
      "\n",
      "[25]\tvalidation_set's binary_logloss: 0.0671245[23]\tvalidation_set's binary_logloss: 0.0523502\n",
      "\n",
      "[24]\tvalidation_set's binary_logloss: 0.0523191[26]\tvalidation_set's binary_logloss: 0.0672043\n",
      "\n",
      "[27]\tvalidation_set's binary_logloss: 0.067203\n",
      "[25]\tvalidation_set's binary_logloss: 0.0521851\n",
      "[28]\tvalidation_set's binary_logloss: 0.0672534[26]\tvalidation_set's binary_logloss: 0.0521023\n",
      "\n",
      "[29]\tvalidation_set's binary_logloss: 0.0672729[27]\tvalidation_set's binary_logloss: 0.052051\n",
      "\n",
      "Early stopping, best iteration is:\n",
      "[25]\tvalidation_set's binary_logloss: 0.0671245[28]\tvalidation_set's binary_logloss: 0.05207"
     ]
    },
    {
     "name": "stderr",
     "output_type": "stream",
     "text": [
      "Found `num_iterations` in params. Will use it instead of argument\n"
     ]
    },
    {
     "name": "stdout",
     "output_type": "stream",
     "text": [
      "\n",
      "\n"
     ]
    },
    {
     "name": "stderr",
     "output_type": "stream",
     "text": [
      "categorical_feature in Dataset is overridden.\n",
      "New categorical_feature is ['age', 'anticipation', 'change_recent', 'country', 'defeat_recent', 'delayed', 'direct_recent', 'elected', 'election_now', 'election_recent', 'exec_ant', 'exec_recent', 'government', 'indirect_recent', 'irreg_lead_ant', 'lead_recent', 'leg_ant', 'leg_recent', 'male', 'militarycareer', 'month', 'nochange_recent', 'prev_conflict', 'pt_attempt', 'pt_suc', 'ref_ant', 'ref_recent', 'tenure_months', 'victory_recent', 'year']\n"
     ]
    },
    {
     "name": "stdout",
     "output_type": "stream",
     "text": [
      "[29]\tvalidation_set's binary_logloss: 0.0520436\n",
      "[30]\tvalidation_set's binary_logloss: 0.0519854\n",
      "[31]\tvalidation_set's binary_logloss: 0.0519243"
     ]
    },
    {
     "name": "stderr",
     "output_type": "stream",
     "text": [
      "Found `num_iterations` in params. Will use it instead of argument\n"
     ]
    },
    {
     "name": "stdout",
     "output_type": "stream",
     "text": [
      "\n"
     ]
    },
    {
     "name": "stderr",
     "output_type": "stream",
     "text": [
      "categorical_feature in Dataset is overridden.\n",
      "New categorical_feature is ['age', 'anticipation', 'change_recent', 'country', 'defeat_recent', 'delayed', 'direct_recent', 'elected', 'election_now', 'election_recent', 'exec_ant', 'exec_recent', 'government', 'indirect_recent', 'irreg_lead_ant', 'lead_recent', 'leg_ant', 'leg_recent', 'male', 'militarycareer', 'month', 'nochange_recent', 'prev_conflict', 'pt_attempt', 'pt_suc', 'ref_ant', 'ref_recent', 'tenure_months', 'victory_recent', 'year']\n"
     ]
    },
    {
     "name": "stdout",
     "output_type": "stream",
     "text": [
      "[32]\tvalidation_set's binary_logloss: 0.0518317\n",
      "[33]\tvalidation_set's binary_logloss: 0.0518146\n",
      "[34]\tvalidation_set's binary_logloss: 0.0517899\n",
      "[35]\tvalidation_set's binary_logloss: 0.0518248\n",
      "[36]\tvalidation_set's binary_logloss: 0.0518015\n",
      "[37]\tvalidation_set's binary_logloss: 0.0518422\n",
      "[38]\tvalidation_set's binary_logloss: 0.0518538\n",
      "Early stopping, best iteration is:\n",
      "[34]\tvalidation_set's binary_logloss: 0.0517899\n"
     ]
    },
    {
     "name": "stderr",
     "output_type": "stream",
     "text": [
      "Found `num_iterations` in params. Will use it instead of argument\n",
      "categorical_feature in Dataset is overridden.\n",
      "New categorical_feature is ['age', 'anticipation', 'change_recent', 'country', 'defeat_recent', 'delayed', 'direct_recent', 'elected', 'election_now', 'election_recent', 'exec_ant', 'exec_recent', 'government', 'indirect_recent', 'irreg_lead_ant', 'lead_recent', 'leg_ant', 'leg_recent', 'male', 'militarycareer', 'month', 'nochange_recent', 'prev_conflict', 'pt_attempt', 'pt_suc', 'ref_ant', 'ref_recent', 'tenure_months', 'victory_recent', 'year']\n"
     ]
    },
    {
     "name": "stdout",
     "output_type": "stream",
     "text": [
      "[1]\tvalidation_set's binary_logloss: 0.0656583\n",
      "Training until validation scores don't improve for 4 rounds\n",
      "[2]\tvalidation_set's binary_logloss: 0.0653061\n",
      "[3]\tvalidation_set's binary_logloss: 0.064851\n",
      "[4]\tvalidation_set's binary_logloss: 0.0642243\n",
      "[5]\tvalidation_set's binary_logloss: 0.0639978\n",
      "[6]\tvalidation_set's binary_logloss: 0.0640563\n",
      "[7]\tvalidation_set's binary_logloss: 0.0638892\n",
      "[8]\tvalidation_set's binary_logloss: 0.063803\n",
      "[9]\tvalidation_set's binary_logloss: 0.0638734\n",
      "[1]\tvalidation_set's binary_logloss: 0.0646032[10]\tvalidation_set's binary_logloss: 0.0636855\n",
      "\n",
      "Training until validation scores don't improve for 4 rounds\n",
      "[11]\tvalidation_set's binary_logloss: 0.0636898[2]\tvalidation_set's binary_logloss: 0.0645845\n",
      "\n"
     ]
    },
    {
     "name": "stderr",
     "output_type": "stream",
     "text": [
      "Found `num_iterations` in params. Will use it instead of argument\n",
      "categorical_feature in Dataset is overridden.\n",
      "New categorical_feature is ['age', 'anticipation', 'change_recent', 'country', 'defeat_recent', 'delayed', 'direct_recent', 'elected', 'election_now', 'election_recent', 'exec_ant', 'exec_recent', 'government', 'indirect_recent', 'irreg_lead_ant', 'lead_recent', 'leg_ant', 'leg_recent', 'male', 'militarycareer', 'month', 'nochange_recent', 'prev_conflict', 'pt_attempt', 'pt_suc', 'ref_ant', 'ref_recent', 'tenure_months', 'victory_recent', 'year']\n"
     ]
    },
    {
     "name": "stdout",
     "output_type": "stream",
     "text": [
      "[12]\tvalidation_set's binary_logloss: 0.0637472[3]\tvalidation_set's binary_logloss: 0.0639713\n",
      "\n",
      "[13]\tvalidation_set's binary_logloss: 0.0636752\n",
      "[4]\tvalidation_set's binary_logloss: 0.0637251[1]\tvalidation_set's binary_logloss: 0.0655738[14]\tvalidation_set's binary_logloss: 0.0637705\n",
      "\n",
      "\n",
      "[1]\tvalidation_set's binary_logloss: 0.0752583[1]\tvalidation_set's binary_logloss: 0.0705388Training until validation scores don't improve for 4 rounds\n",
      "\n",
      "Training until validation scores don't improve for 4 rounds\n",
      "Training until validation scores don't improve for 4 rounds\n",
      "\n",
      "[5]\tvalidation_set's binary_logloss: 0.0635388[15]\tvalidation_set's binary_logloss: 0.0638438\n",
      "\n",
      "[2]\tvalidation_set's binary_logloss: 0.0693444[2]\tvalidation_set's binary_logloss: 0.0723748[2]\tvalidation_set's binary_logloss: 0.0646774[6]\tvalidation_set's binary_logloss: 0.0634764[16]\tvalidation_set's binary_logloss: 0.0636437\n",
      "\n",
      "\n",
      "\n",
      "\n",
      "[17]\tvalidation_set's binary_logloss: 0.0637771[3]\tvalidation_set's binary_logloss: 0.0684712[3]\tvalidation_set's binary_logloss: 0.0710395[7]\tvalidation_set's binary_logloss: 0.063487[3]\tvalidation_set's binary_logloss: 0.0644323\n",
      "\n",
      "\n",
      "\n",
      "\n",
      "[4]\tvalidation_set's binary_logloss: 0.0640765[4]\tvalidation_set's binary_logloss: 0.0701226[4]\tvalidation_set's binary_logloss: 0.0676472\n",
      "[8]\tvalidation_set's binary_logloss: 0.0634743[18]\tvalidation_set's binary_logloss: 0.0638327\n",
      "\n",
      "\n",
      "\n",
      "[5]\tvalidation_set's binary_logloss: 0.063791[5]\tvalidation_set's binary_logloss: 0.0692295[9]\tvalidation_set's binary_logloss: 0.0634825[5]\tvalidation_set's binary_logloss: 0.0672552[19]\tvalidation_set's binary_logloss: 0.0638512\n",
      "\n",
      "\n",
      "\n",
      "\n",
      "[1]\tvalidation_set's binary_logloss: 0.0647565\n",
      "Training until validation scores don't improve for 4 rounds\n",
      "[20]\tvalidation_set's binary_logloss: 0.0637367[6]\tvalidation_set's binary_logloss: 0.0686289[10]\tvalidation_set's binary_logloss: 0.0636451[6]\tvalidation_set's binary_logloss: 0.0637363[2]\tvalidation_set's binary_logloss: 0.0642111[6]\tvalidation_set's binary_logloss: 0.0669847\n",
      "\n",
      "\n",
      "\n",
      "\n",
      "\n",
      "Early stopping, best iteration is:\n",
      "[16]\tvalidation_set's binary_logloss: 0.0636437\n",
      "[3]\tvalidation_set's binary_logloss: 0.0636332[7]\tvalidation_set's binary_logloss: 0.066721[7]\tvalidation_set's binary_logloss: 0.0682872[7]\tvalidation_set's binary_logloss: 0.0634678[11]\tvalidation_set's binary_logloss: 0.0637244\n",
      "\n",
      "\n",
      "\n",
      "\n",
      "[8]\tvalidation_set's binary_logloss: 0.0662391\n",
      "[4]\tvalidation_set's binary_logloss: 0.0633898\n",
      "[8]\tvalidation_set's binary_logloss: 0.0633585[12]\tvalidation_set's binary_logloss: 0.0637172\n",
      "[8]\tvalidation_set's binary_logloss: 0.0676893\n",
      "\n",
      "Early stopping, best iteration is:\n",
      "[8]\tvalidation_set's binary_logloss: 0.0634743\n",
      "[5]\tvalidation_set's binary_logloss: 0.0633282\n",
      "[9]\tvalidation_set's binary_logloss: 0.0660776\n",
      "[9]\tvalidation_set's binary_logloss: 0.0635121\n",
      "[9]\tvalidation_set's binary_logloss: 0.0672173[10]\tvalidation_set's binary_logloss: 0.0658006[6]\tvalidation_set's binary_logloss: 0.0630614\n",
      "\n",
      "\n",
      "[11]\tvalidation_set's binary_logloss: 0.0657038[10]\tvalidation_set's binary_logloss: 0.06371[10]\tvalidation_set's binary_logloss: 0.0669953[1]\tvalidation_set's binary_logloss: 0.0660784[7]\tvalidation_set's binary_logloss: 0.0630217\n",
      "\n",
      "\n",
      "\n",
      "\n",
      "Training until validation scores don't improve for 4 rounds\n",
      "[8]\tvalidation_set's binary_logloss: 0.0630244[2]\tvalidation_set's binary_logloss: 0.0655987[11]\tvalidation_set's binary_logloss: 0.0636423[12]\tvalidation_set's binary_logloss: 0.0657901[11]\tvalidation_set's binary_logloss: 0.0669231\n",
      "\n",
      "\n",
      "\n",
      "\n",
      "[9]\tvalidation_set's binary_logloss: 0.0629911[3]\tvalidation_set's binary_logloss: 0.0650608\n",
      "[13]\tvalidation_set's binary_logloss: 0.0656634\n",
      "[12]\tvalidation_set's binary_logloss: 0.0667438\n",
      "[12]\tvalidation_set's binary_logloss: 0.0636768\n",
      "\n",
      "Early stopping, best iteration is:\n",
      "[8]\tvalidation_set's binary_logloss: 0.0633585\n",
      "[4]\tvalidation_set's binary_logloss: 0.0646878[10]\tvalidation_set's binary_logloss: 0.0628603[14]\tvalidation_set's binary_logloss: 0.0658083[13]\tvalidation_set's binary_logloss: 0.0665766\n",
      "\n",
      "\n",
      "\n",
      "[1]\tvalidation_set's binary_logloss: 0.0685543"
     ]
    },
    {
     "name": "stderr",
     "output_type": "stream",
     "text": [
      "Found `num_iterations` in params. Will use it instead of argument\n",
      "categorical_feature in Dataset is overridden.\n",
      "New categorical_feature is ['age', 'anticipation', 'change_recent', 'country', 'defeat_recent', 'delayed', 'direct_recent', 'elected', 'election_now', 'election_recent', 'exec_ant', 'exec_recent', 'government', 'indirect_recent', 'irreg_lead_ant', 'lead_recent', 'leg_ant', 'leg_recent', 'male', 'militarycareer', 'month', 'nochange_recent', 'prev_conflict', 'pt_attempt', 'pt_suc', 'ref_ant', 'ref_recent', 'tenure_months', 'victory_recent', 'year']\n"
     ]
    },
    {
     "name": "stdout",
     "output_type": "stream",
     "text": [
      "\n",
      "Training until validation scores don't improve for 4 rounds\n",
      "[5]\tvalidation_set's binary_logloss: 0.064491\n",
      "[11]\tvalidation_set's binary_logloss: 0.0629077[15]\tvalidation_set's binary_logloss: 0.0658959[14]\tvalidation_set's binary_logloss: 0.0664906[2]\tvalidation_set's binary_logloss: 0.0684288\n",
      "\n",
      "\n",
      "\n",
      "[6]\tvalidation_set's binary_logloss: 0.0644168\n",
      "[12]\tvalidation_set's binary_logloss: 0.0631379[16]\tvalidation_set's binary_logloss: 0.0657725[3]\tvalidation_set's binary_logloss: 0.0679264[15]\tvalidation_set's binary_logloss: 0.066407[7]\tvalidation_set's binary_logloss: 0.0642591\n",
      "\n",
      "\n",
      "\n",
      "\n",
      "[8]\tvalidation_set's binary_logloss: 0.0643063\n",
      "[4]\tvalidation_set's binary_logloss: 0.0678532[13]\tvalidation_set's binary_logloss: 0.0635902[16]\tvalidation_set's binary_logloss: 0.0662311\n",
      "\n",
      "[17]\tvalidation_set's binary_logloss: 0.0657168\n",
      "\n",
      "Early stopping, best iteration is:\n",
      "[13]\tvalidation_set's binary_logloss: 0.0656634\n",
      "[17]\tvalidation_set's binary_logloss: 0.066172[9]\tvalidation_set's binary_logloss: 0.0642741[14]\tvalidation_set's binary_logloss: 0.0637388[5]\tvalidation_set's binary_logloss: 0.0675516\n",
      "\n",
      "\n",
      "\n",
      "Early stopping, best iteration is:\n",
      "[10]\tvalidation_set's binary_logloss: 0.0628603"
     ]
    },
    {
     "name": "stderr",
     "output_type": "stream",
     "text": [
      "Found `num_iterations` in params. Will use it instead of argument\n"
     ]
    },
    {
     "name": "stdout",
     "output_type": "stream",
     "text": [
      "\n"
     ]
    },
    {
     "name": "stderr",
     "output_type": "stream",
     "text": [
      "categorical_feature in Dataset is overridden.\n",
      "New categorical_feature is ['age', 'anticipation', 'change_recent', 'country', 'defeat_recent', 'delayed', 'direct_recent', 'elected', 'election_now', 'election_recent', 'exec_ant', 'exec_recent', 'government', 'indirect_recent', 'irreg_lead_ant', 'lead_recent', 'leg_ant', 'leg_recent', 'male', 'militarycareer', 'month', 'nochange_recent', 'prev_conflict', 'pt_attempt', 'pt_suc', 'ref_ant', 'ref_recent', 'tenure_months', 'victory_recent', 'year']\n"
     ]
    },
    {
     "name": "stdout",
     "output_type": "stream",
     "text": [
      "[6]\tvalidation_set's binary_logloss: 0.0678074[10]\tvalidation_set's binary_logloss: 0.0640814[18]\tvalidation_set's binary_logloss: 0.0660092\n",
      "\n",
      "\n",
      "[11]\tvalidation_set's binary_logloss: 0.0640671[7]\tvalidation_set's binary_logloss: 0.0675151\n",
      "[19]\tvalidation_set's binary_logloss: 0.0658201\n",
      "\n",
      "[12]\tvalidation_set's binary_logloss: 0.0640781\n",
      "[20]\tvalidation_set's binary_logloss: 0.0658281[8]\tvalidation_set's binary_logloss: 0.0672136\n",
      "\n",
      "[13]\tvalidation_set's binary_logloss: 0.0641746\n",
      "[9]\tvalidation_set's binary_logloss: 0.0673106[21]\tvalidation_set's binary_logloss: 0.065798[14]\tvalidation_set's binary_logloss: 0.0642966\n",
      "\n",
      "\n",
      "[10]\tvalidation_set's binary_logloss: 0.0674071[15]\tvalidation_set's binary_logloss: 0.0643642[22]\tvalidation_set's binary_logloss: 0.0657857\n",
      "\n",
      "\n",
      "Early stopping, best iteration is:\n",
      "[11]\tvalidation_set's binary_logloss: 0.0640671[11]\tvalidation_set's binary_logloss: 0.0675787\n",
      "\n",
      "[23]\tvalidation_set's binary_logloss: 0.065851\n",
      "[12]\tvalidation_set's binary_logloss: 0.0675817\n",
      "Early stopping, best iteration is:\n",
      "[8]\tvalidation_set's binary_logloss: 0.0672136[24]\tvalidation_set's binary_logloss: 0.0657332\n",
      "\n",
      "[25]\tvalidation_set's binary_logloss: 0.0656731\n",
      "[26]\tvalidation_set's binary_logloss: 0.0656376\n",
      "[27]\tvalidation_set's binary_logloss: 0.0656164"
     ]
    },
    {
     "name": "stderr",
     "output_type": "stream",
     "text": [
      "Found `num_iterations` in params. Will use it instead of argument\n"
     ]
    },
    {
     "name": "stdout",
     "output_type": "stream",
     "text": [
      "\n"
     ]
    },
    {
     "name": "stderr",
     "output_type": "stream",
     "text": [
      "categorical_feature in Dataset is overridden.\n",
      "New categorical_feature is ['age', 'anticipation', 'change_recent', 'country', 'defeat_recent', 'delayed', 'direct_recent', 'elected', 'election_now', 'election_recent', 'exec_ant', 'exec_recent', 'government', 'indirect_recent', 'irreg_lead_ant', 'lead_recent', 'leg_ant', 'leg_recent', 'male', 'militarycareer', 'month', 'nochange_recent', 'prev_conflict', 'pt_attempt', 'pt_suc', 'ref_ant', 'ref_recent', 'tenure_months', 'victory_recent', 'year']\n"
     ]
    },
    {
     "name": "stdout",
     "output_type": "stream",
     "text": [
      "[28]\tvalidation_set's binary_logloss: 0.0655843\n",
      "[29]\tvalidation_set's binary_logloss: 0.0655829\n",
      "[30]\tvalidation_set's binary_logloss: 0.0655762\n",
      "[1]\tvalidation_set's binary_logloss: 0.0656424[31]\tvalidation_set's binary_logloss: 0.0655579\n",
      "\n",
      "Training until validation scores don't improve for 4 rounds[32]\tvalidation_set's binary_logloss: 0.0655942\n",
      "\n",
      "[33]\tvalidation_set's binary_logloss: 0.0657657[2]\tvalidation_set's binary_logloss: 0.0651637\n",
      "\n",
      "[3]\tvalidation_set's binary_logloss: 0.0646382[34]\tvalidation_set's binary_logloss: 0.0657988\n",
      "\n",
      "[4]\tvalidation_set's binary_logloss: 0.0639975[35]\tvalidation_set's binary_logloss: 0.0657837\n",
      "\n",
      "[5]\tvalidation_set's binary_logloss: 0.0638322Early stopping, best iteration is:\n",
      "[31]\tvalidation_set's binary_logloss: 0.0655579\n",
      "\n",
      "[6]\tvalidation_set's binary_logloss: 0.0639809\n"
     ]
    },
    {
     "name": "stderr",
     "output_type": "stream",
     "text": [
      "Found `num_iterations` in params. Will use it instead of argument\n",
      "categorical_feature in Dataset is overridden.\n",
      "New categorical_feature is ['age', 'anticipation', 'change_recent', 'country', 'defeat_recent', 'delayed', 'direct_recent', 'elected', 'election_now', 'election_recent', 'exec_ant', 'exec_recent', 'government', 'indirect_recent', 'irreg_lead_ant', 'lead_recent', 'leg_ant', 'leg_recent', 'male', 'militarycareer', 'month', 'nochange_recent', 'prev_conflict', 'pt_attempt', 'pt_suc', 'ref_ant', 'ref_recent', 'tenure_months', 'victory_recent', 'year']\n"
     ]
    },
    {
     "name": "stdout",
     "output_type": "stream",
     "text": [
      "[7]\tvalidation_set's binary_logloss: 0.0640299\n",
      "[8]\tvalidation_set's binary_logloss: 0.0641113\n",
      "[1]\tvalidation_set's binary_logloss: 0.0689636[9]\tvalidation_set's binary_logloss: 0.0641474\n",
      "\n",
      "Early stopping, best iteration is:\n",
      "[5]\tvalidation_set's binary_logloss: 0.0638322Training until validation scores don't improve for 4 rounds\n",
      "\n",
      "[2]\tvalidation_set's binary_logloss: 0.0684702\n"
     ]
    },
    {
     "name": "stderr",
     "output_type": "stream",
     "text": [
      "Found `num_iterations` in params. Will use it instead of argument\n",
      "categorical_feature in Dataset is overridden.\n",
      "New categorical_feature is ['age', 'anticipation', 'change_recent', 'country', 'defeat_recent', 'delayed', 'direct_recent', 'elected', 'election_now', 'election_recent', 'exec_ant', 'exec_recent', 'government', 'indirect_recent', 'irreg_lead_ant', 'lead_recent', 'leg_ant', 'leg_recent', 'male', 'militarycareer', 'month', 'nochange_recent', 'prev_conflict', 'pt_attempt', 'pt_suc', 'ref_ant', 'ref_recent', 'tenure_months', 'victory_recent', 'year']\n"
     ]
    },
    {
     "name": "stdout",
     "output_type": "stream",
     "text": [
      "[3]\tvalidation_set's binary_logloss: 0.0677634\n",
      "[4]\tvalidation_set's binary_logloss: 0.0676739\n",
      "[5]\tvalidation_set's binary_logloss: 0.0672144\n",
      "[6]\tvalidation_set's binary_logloss: 0.0672722\n",
      "[7]\tvalidation_set's binary_logloss: 0.0668057\n",
      "[8]\tvalidation_set's binary_logloss: 0.0668576\n",
      "[9]\tvalidation_set's binary_logloss: 0.0665958\n"
     ]
    },
    {
     "name": "stderr",
     "output_type": "stream",
     "text": [
      "Found `num_iterations` in params. Will use it instead of argument\n",
      "categorical_feature in Dataset is overridden.\n",
      "New categorical_feature is ['age', 'anticipation', 'change_recent', 'country', 'defeat_recent', 'delayed', 'direct_recent', 'elected', 'election_now', 'election_recent', 'exec_ant', 'exec_recent', 'government', 'indirect_recent', 'irreg_lead_ant', 'lead_recent', 'leg_ant', 'leg_recent', 'male', 'militarycareer', 'month', 'nochange_recent', 'prev_conflict', 'pt_attempt', 'pt_suc', 'ref_ant', 'ref_recent', 'tenure_months', 'victory_recent', 'year']\n"
     ]
    },
    {
     "name": "stdout",
     "output_type": "stream",
     "text": [
      "[10]\tvalidation_set's binary_logloss: 0.0662875\n",
      "[11]\tvalidation_set's binary_logloss: 0.0662752\n",
      "[12]\tvalidation_set's binary_logloss: 0.066239[1]\tvalidation_set's binary_logloss: 0.0627246\n",
      "\n",
      "Training until validation scores don't improve for 4 rounds[13]\tvalidation_set's binary_logloss: 0.0659552\n",
      "\n",
      "[2]\tvalidation_set's binary_logloss: 0.0624108[14]\tvalidation_set's binary_logloss: 0.0660409\n",
      "\n",
      "[3]\tvalidation_set's binary_logloss: 0.0620139[15]\tvalidation_set's binary_logloss: 0.0658388\n",
      "\n",
      "[16]\tvalidation_set's binary_logloss: 0.065906\n",
      "[4]\tvalidation_set's binary_logloss: 0.0616532\n",
      "[17]\tvalidation_set's binary_logloss: 0.0658345\n",
      "[5]\tvalidation_set's binary_logloss: 0.0614236\n",
      "[18]\tvalidation_set's binary_logloss: 0.0658345\n",
      "[6]\tvalidation_set's binary_logloss: 0.0614386[19]\tvalidation_set's binary_logloss: 0.0657455\n",
      "\n",
      "[7]\tvalidation_set's binary_logloss: 0.0613004[20]\tvalidation_set's binary_logloss: 0.0658861\n",
      "\n",
      "[1]\tvalidation_set's binary_logloss: 0.0626085\n",
      "Training until validation scores don't improve for 4 rounds\n",
      "[21]\tvalidation_set's binary_logloss: 0.0659933[8]\tvalidation_set's binary_logloss: 0.0612851[2]\tvalidation_set's binary_logloss: 0.0625185\n",
      "\n",
      "\n",
      "[22]\tvalidation_set's binary_logloss: 0.0662428[9]\tvalidation_set's binary_logloss: 0.0613049[3]\tvalidation_set's binary_logloss: 0.0624651\n",
      "\n",
      "\n",
      "[4]\tvalidation_set's binary_logloss: 0.0622095[23]\tvalidation_set's binary_logloss: 0.0661642[10]\tvalidation_set's binary_logloss: 0.0612793\n",
      "[1]\tvalidation_set's binary_logloss: 0.0694708\n",
      "\n",
      "\n",
      "Early stopping, best iteration is:\n",
      "[19]\tvalidation_set's binary_logloss: 0.0657455[11]\tvalidation_set's binary_logloss: 0.0613166[5]\tvalidation_set's binary_logloss: 0.0623973Training until validation scores don't improve for 4 rounds\n",
      "\n",
      "\n",
      "\n",
      "[6]\tvalidation_set's binary_logloss: 0.0622587[12]\tvalidation_set's binary_logloss: 0.0614176[2]\tvalidation_set's binary_logloss: 0.0693317\n",
      "\n",
      "\n",
      "[3]\tvalidation_set's binary_logloss: 0.0689424[13]\tvalidation_set's binary_logloss: 0.0616746[7]\tvalidation_set's binary_logloss: 0.0623737\n",
      "\n",
      "\n",
      "[4]\tvalidation_set's binary_logloss: 0.068497[8]\tvalidation_set's binary_logloss: 0.0622828[14]\tvalidation_set's binary_logloss: 0.0617758\n",
      "\n",
      "\n",
      "Early stopping, best iteration is:\n",
      "[10]\tvalidation_set's binary_logloss: 0.0612793Early stopping, best iteration is:\n",
      "[4]\tvalidation_set's binary_logloss: 0.0622095\n",
      "\n",
      "[5]\tvalidation_set's binary_logloss: 0.0683216\n",
      "[6]\tvalidation_set's binary_logloss: 0.0679125\n",
      "[7]\tvalidation_set's binary_logloss: 0.067859\n",
      "[1]\tvalidation_set's binary_logloss: 0.064714[1]\tvalidation_set's binary_logloss: 0.0699245\n",
      "\n",
      "Training until validation scores don't improve for 4 roundsTraining until validation scores don't improve for 4 rounds\n",
      "\n",
      "[8]\tvalidation_set's binary_logloss: 0.0676405[2]\tvalidation_set's binary_logloss: 0.0696354[2]\tvalidation_set's binary_logloss: 0.0641167\n",
      "\n",
      "\n",
      "[3]\tvalidation_set's binary_logloss: 0.0695347[9]\tvalidation_set's binary_logloss: 0.0673047[3]\tvalidation_set's binary_logloss: 0.0638935\n",
      "\n",
      "\n",
      "[4]\tvalidation_set's binary_logloss: 0.0635685[4]\tvalidation_set's binary_logloss: 0.0695706[10]\tvalidation_set's binary_logloss: 0.0670293\n",
      "\n",
      "\n",
      "[5]\tvalidation_set's binary_logloss: 0.0694764[5]\tvalidation_set's binary_logloss: 0.0632108[11]\tvalidation_set's binary_logloss: 0.0670673\n",
      "\n",
      "\n",
      "[6]\tvalidation_set's binary_logloss: 0.0631488[6]\tvalidation_set's binary_logloss: 0.0695988[12]\tvalidation_set's binary_logloss: 0.0670372\n",
      "\n",
      "\n",
      "[7]\tvalidation_set's binary_logloss: 0.0691172[13]\tvalidation_set's binary_logloss: 0.0669137[7]\tvalidation_set's binary_logloss: 0.0632402\n",
      "\n",
      "\n",
      "[14]\tvalidation_set's binary_logloss: 0.0670165[8]\tvalidation_set's binary_logloss: 0.0689239[8]\tvalidation_set's binary_logloss: 0.0632305\n",
      "\n",
      "\n",
      "[1]\tvalidation_set's binary_logloss: 0.0665752[9]\tvalidation_set's binary_logloss: 0.0631823\n",
      "\n",
      "[9]\tvalidation_set's binary_logloss: 0.06912\n",
      "Training until validation scores don't improve for 4 rounds\n",
      "[2]\tvalidation_set's binary_logloss: 0.0663631[10]\tvalidation_set's binary_logloss: 0.0629365[15]\tvalidation_set's binary_logloss: 0.0669655\n",
      "\n",
      "[10]\tvalidation_set's binary_logloss: 0.0691572\n",
      "\n",
      "[11]\tvalidation_set's binary_logloss: 0.0629089[3]\tvalidation_set's binary_logloss: 0.0662444\n",
      "[16]\tvalidation_set's binary_logloss: 0.0668607[11]\tvalidation_set's binary_logloss: 0.0687578\n",
      "\n",
      "\n"
     ]
    },
    {
     "name": "stderr",
     "output_type": "stream",
     "text": [
      "Found `num_iterations` in params. Will use it instead of argument\n",
      "categorical_feature in Dataset is overridden.\n",
      "New categorical_feature is ['age', 'anticipation', 'change_recent', 'country', 'defeat_recent', 'delayed', 'direct_recent', 'elected', 'election_now', 'election_recent', 'exec_ant', 'exec_recent', 'government', 'indirect_recent', 'irreg_lead_ant', 'lead_recent', 'leg_ant', 'leg_recent', 'male', 'militarycareer', 'month', 'nochange_recent', 'prev_conflict', 'pt_attempt', 'pt_suc', 'ref_ant', 'ref_recent', 'tenure_months', 'victory_recent', 'year']\n"
     ]
    },
    {
     "name": "stdout",
     "output_type": "stream",
     "text": [
      "[12]\tvalidation_set's binary_logloss: 0.0629296\n",
      "[4]\tvalidation_set's binary_logloss: 0.0659088\n",
      "[17]\tvalidation_set's binary_logloss: 0.0669186[12]\tvalidation_set's binary_logloss: 0.068687\n",
      "\n",
      "[13]\tvalidation_set's binary_logloss: 0.0631117\n",
      "[5]\tvalidation_set's binary_logloss: 0.0656215\n",
      "[13]\tvalidation_set's binary_logloss: 0.0688168[18]\tvalidation_set's binary_logloss: 0.066874[14]\tvalidation_set's binary_logloss: 0.0629675\n",
      "\n",
      "\n",
      "[1]\tvalidation_set's binary_logloss: 0.0775552[6]\tvalidation_set's binary_logloss: 0.0657762\n",
      "\n",
      "Training until validation scores don't improve for 4 rounds\n",
      "[15]\tvalidation_set's binary_logloss: 0.063104[7]\tvalidation_set's binary_logloss: 0.0653674\n",
      "[2]\tvalidation_set's binary_logloss: 0.0725552[19]\tvalidation_set's binary_logloss: 0.0668269[14]\tvalidation_set's binary_logloss: 0.0685818\n",
      "\n",
      "Early stopping, best iteration is:\n",
      "[11]\tvalidation_set's binary_logloss: 0.0629089\n",
      "\n",
      "\n",
      "[3]\tvalidation_set's binary_logloss: 0.0709803[8]\tvalidation_set's binary_logloss: 0.0654273[20]\tvalidation_set's binary_logloss: 0.0667695[15]\tvalidation_set's binary_logloss: 0.068687\n",
      "\n",
      "\n",
      "\n",
      "[9]\tvalidation_set's binary_logloss: 0.0653813[21]\tvalidation_set's binary_logloss: 0.0668731[4]\tvalidation_set's binary_logloss: 0.0698728[16]\tvalidation_set's binary_logloss: 0.068804\n",
      "\n",
      "\n",
      "\n",
      "[10]\tvalidation_set's binary_logloss: 0.0654106[22]\tvalidation_set's binary_logloss: 0.0669688[5]\tvalidation_set's binary_logloss: 0.0689787\n",
      "[17]\tvalidation_set's binary_logloss: 0.0688359\n",
      "\n",
      "\n",
      "[23]\tvalidation_set's binary_logloss: 0.0669717[18]\tvalidation_set's binary_logloss: 0.0689836[11]\tvalidation_set's binary_logloss: 0.0652358[6]\tvalidation_set's binary_logloss: 0.0681415\n",
      "\n",
      "\n",
      "\n",
      "Early stopping, best iteration is:\n",
      "[14]\tvalidation_set's binary_logloss: 0.0685818\n",
      "[12]\tvalidation_set's binary_logloss: 0.0651833[7]\tvalidation_set's binary_logloss: 0.0673679[24]\tvalidation_set's binary_logloss: 0.0670752\n",
      "\n",
      "\n",
      "Early stopping, best iteration is:\n",
      "[20]\tvalidation_set's binary_logloss: 0.0667695\n",
      "[13]\tvalidation_set's binary_logloss: 0.0653053[8]\tvalidation_set's binary_logloss: 0.066521\n",
      "\n",
      "[9]\tvalidation_set's binary_logloss: 0.0660975[14]\tvalidation_set's binary_logloss: 0.0651367\n",
      "\n",
      "[10]\tvalidation_set's binary_logloss: 0.0659453[15]\tvalidation_set's binary_logloss: 0.0652277\n",
      "\n",
      "[16]\tvalidation_set's binary_logloss: 0.0653094[11]\tvalidation_set's binary_logloss: 0.065633\n",
      "\n",
      "[17]\tvalidation_set's binary_logloss: 0.0653037[12]\tvalidation_set's binary_logloss: 0.0653072\n",
      "\n",
      "[13]\tvalidation_set's binary_logloss: 0.0647529[18]\tvalidation_set's binary_logloss: 0.0654507\n",
      "\n",
      "Early stopping, best iteration is:\n",
      "[14]\tvalidation_set's binary_logloss: 0.0651367\n",
      "[14]\tvalidation_set's binary_logloss: 0.0645085[1]\tvalidation_set's binary_logloss: 0.0636675\n",
      "\n",
      "Training until validation scores don't improve for 4 rounds\n",
      "[15]\tvalidation_set's binary_logloss: 0.0642266[2]\tvalidation_set's binary_logloss: 0.0630964\n",
      "\n",
      "[16]\tvalidation_set's binary_logloss: 0.063883[3]\tvalidation_set's binary_logloss: 0.0628347\n",
      "\n",
      "[4]\tvalidation_set's binary_logloss: 0.0626334\n",
      "[5]\tvalidation_set's binary_logloss: 0.0626183[17]\tvalidation_set's binary_logloss: 0.0637235[1]\tvalidation_set's binary_logloss: 0.0646903\n",
      "\n",
      "\n",
      "Training until validation scores don't improve for 4 rounds\n",
      "[6]\tvalidation_set's binary_logloss: 0.0624895[2]\tvalidation_set's binary_logloss: 0.0641257[18]\tvalidation_set's binary_logloss: 0.0635969\n",
      "\n",
      "\n"
     ]
    },
    {
     "name": "stderr",
     "output_type": "stream",
     "text": [
      "Found `num_iterations` in params. Will use it instead of argument\n",
      "categorical_feature in Dataset is overridden.\n",
      "New categorical_feature is ['age', 'anticipation', 'change_recent', 'country', 'defeat_recent', 'delayed', 'direct_recent', 'elected', 'election_now', 'election_recent', 'exec_ant', 'exec_recent', 'government', 'indirect_recent', 'irreg_lead_ant', 'lead_recent', 'leg_ant', 'leg_recent', 'male', 'militarycareer', 'month', 'nochange_recent', 'prev_conflict', 'pt_attempt', 'pt_suc', 'ref_ant', 'ref_recent', 'tenure_months', 'victory_recent', 'year']\n"
     ]
    },
    {
     "name": "stdout",
     "output_type": "stream",
     "text": [
      "[7]\tvalidation_set's binary_logloss: 0.062572[3]\tvalidation_set's binary_logloss: 0.0636548[1]\tvalidation_set's binary_logloss: 0.0653665\n",
      "\n",
      "\n",
      "[19]\tvalidation_set's binary_logloss: 0.0634742Training until validation scores don't improve for 4 rounds\n",
      "[8]\tvalidation_set's binary_logloss: 0.062732\n",
      "\n",
      "[4]\tvalidation_set's binary_logloss: 0.0635252[9]\tvalidation_set's binary_logloss: 0.0628515[20]\tvalidation_set's binary_logloss: 0.0634484[2]\tvalidation_set's binary_logloss: 0.0649865\n",
      "\n",
      "\n",
      "\n",
      "[3]\tvalidation_set's binary_logloss: 0.0644207[5]\tvalidation_set's binary_logloss: 0.0632431[21]\tvalidation_set's binary_logloss: 0.0633141[10]\tvalidation_set's binary_logloss: 0.0630166\n",
      "\n",
      "\n",
      "\n",
      "Early stopping, best iteration is:\n",
      "[6]\tvalidation_set's binary_logloss: 0.0624895\n",
      "[4]\tvalidation_set's binary_logloss: 0.0640874[6]\tvalidation_set's binary_logloss: 0.063411[22]\tvalidation_set's binary_logloss: 0.0630896\n",
      "\n",
      "\n",
      "[5]\tvalidation_set's binary_logloss: 0.0638265[7]\tvalidation_set's binary_logloss: 0.0634107[23]\tvalidation_set's binary_logloss: 0.0629367\n",
      "\n",
      "\n",
      "[8]\tvalidation_set's binary_logloss: 0.0638987[6]\tvalidation_set's binary_logloss: 0.0638901[24]\tvalidation_set's binary_logloss: 0.0629393\n",
      "\n",
      "\n",
      "[9]\tvalidation_set's binary_logloss: 0.0638121[7]\tvalidation_set's binary_logloss: 0.0636318\n",
      "[25]\tvalidation_set's binary_logloss: 0.0628292\n",
      "Early stopping, best iteration is:\n",
      "[5]\tvalidation_set's binary_logloss: 0.0632431\n",
      "\n"
     ]
    },
    {
     "name": "stderr",
     "output_type": "stream",
     "text": [
      "Found `num_iterations` in params. Will use it instead of argument\n",
      "categorical_feature in Dataset is overridden.\n",
      "New categorical_feature is ['age', 'anticipation', 'change_recent', 'country', 'defeat_recent', 'delayed', 'direct_recent', 'elected', 'election_now', 'election_recent', 'exec_ant', 'exec_recent', 'government', 'indirect_recent', 'irreg_lead_ant', 'lead_recent', 'leg_ant', 'leg_recent', 'male', 'militarycareer', 'month', 'nochange_recent', 'prev_conflict', 'pt_attempt', 'pt_suc', 'ref_ant', 'ref_recent', 'tenure_months', 'victory_recent', 'year']\n"
     ]
    },
    {
     "name": "stdout",
     "output_type": "stream",
     "text": [
      "[26]\tvalidation_set's binary_logloss: 0.0626955[8]\tvalidation_set's binary_logloss: 0.0637235\n",
      "\n",
      "[27]\tvalidation_set's binary_logloss: 0.0625931[9]\tvalidation_set's binary_logloss: 0.0638662\n",
      "\n",
      "[28]\tvalidation_set's binary_logloss: 0.0624695\n",
      "[10]\tvalidation_set's binary_logloss: 0.0639151\n",
      "[29]\tvalidation_set's binary_logloss: 0.0624466[11]\tvalidation_set's binary_logloss: 0.0640306\n",
      "\n",
      "Early stopping, best iteration is:\n",
      "[7]\tvalidation_set's binary_logloss: 0.0636318\n",
      "[30]\tvalidation_set's binary_logloss: 0.0624387\n",
      "[31]\tvalidation_set's binary_logloss: 0.0624377\n",
      "[32]\tvalidation_set's binary_logloss: 0.062459\n",
      "[33]\tvalidation_set's binary_logloss: 0.0624414\n",
      "[34]\tvalidation_set's binary_logloss: 0.0625505\n"
     ]
    },
    {
     "name": "stderr",
     "output_type": "stream",
     "text": [
      "Found `num_iterations` in params. Will use it instead of argument\n",
      "categorical_feature in Dataset is overridden.\n",
      "New categorical_feature is ['age', 'anticipation', 'change_recent', 'country', 'defeat_recent', 'delayed', 'direct_recent', 'elected', 'election_now', 'election_recent', 'exec_ant', 'exec_recent', 'government', 'indirect_recent', 'irreg_lead_ant', 'lead_recent', 'leg_ant', 'leg_recent', 'male', 'militarycareer', 'month', 'nochange_recent', 'prev_conflict', 'pt_attempt', 'pt_suc', 'ref_ant', 'ref_recent', 'tenure_months', 'victory_recent', 'year']\n"
     ]
    },
    {
     "name": "stdout",
     "output_type": "stream",
     "text": [
      "[35]\tvalidation_set's binary_logloss: 0.0625522\n",
      "Early stopping, best iteration is:\n",
      "[31]\tvalidation_set's binary_logloss: 0.0624377\n",
      "[1]\tvalidation_set's binary_logloss: 0.0650748\n",
      "Training until validation scores don't improve for 4 rounds\n",
      "[2]\tvalidation_set's binary_logloss: 0.0645201\n",
      "[3]\tvalidation_set's binary_logloss: 0.0644441\n",
      "[4]\tvalidation_set's binary_logloss: 0.0642014\n",
      "[5]\tvalidation_set's binary_logloss: 0.0641898\n",
      "[6]\tvalidation_set's binary_logloss: 0.0640868\n"
     ]
    },
    {
     "name": "stderr",
     "output_type": "stream",
     "text": [
      "Found `num_iterations` in params. Will use it instead of argument\n",
      "categorical_feature in Dataset is overridden.\n",
      "New categorical_feature is ['age', 'anticipation', 'change_recent', 'country', 'defeat_recent', 'delayed', 'direct_recent', 'elected', 'election_now', 'election_recent', 'exec_ant', 'exec_recent', 'government', 'indirect_recent', 'irreg_lead_ant', 'lead_recent', 'leg_ant', 'leg_recent', 'male', 'militarycareer', 'month', 'nochange_recent', 'prev_conflict', 'pt_attempt', 'pt_suc', 'ref_ant', 'ref_recent', 'tenure_months', 'victory_recent', 'year']\n"
     ]
    },
    {
     "name": "stdout",
     "output_type": "stream",
     "text": [
      "[7]\tvalidation_set's binary_logloss: 0.0639292\n",
      "[8]\tvalidation_set's binary_logloss: 0.0640105\n",
      "[9]\tvalidation_set's binary_logloss: 0.0640963\n",
      "[10]\tvalidation_set's binary_logloss: 0.0639629\n",
      "[11]\tvalidation_set's binary_logloss: 0.0639413\n",
      "Early stopping, best iteration is:\n",
      "[7]\tvalidation_set's binary_logloss: 0.0639292\n",
      "[1]\tvalidation_set's binary_logloss: 0.0726028[1]\tvalidation_set's binary_logloss: 0.0679752\n",
      "\n",
      "Training until validation scores don't improve for 4 roundsTraining until validation scores don't improve for 4 rounds\n",
      "\n",
      "[2]\tvalidation_set's binary_logloss: 0.0707853[2]\tvalidation_set's binary_logloss: 0.0676806\n",
      "\n",
      "[3]\tvalidation_set's binary_logloss: 0.0673609\n",
      "[3]\tvalidation_set's binary_logloss: 0.0699883\n",
      "[4]\tvalidation_set's binary_logloss: 0.0669555\n",
      "[4]\tvalidation_set's binary_logloss: 0.0692417[5]\tvalidation_set's binary_logloss: 0.0666383\n",
      "\n",
      "[6]\tvalidation_set's binary_logloss: 0.0664538[5]\tvalidation_set's binary_logloss: 0.0686643\n",
      "\n",
      "[7]\tvalidation_set's binary_logloss: 0.0660645[6]\tvalidation_set's binary_logloss: 0.0684832\n",
      "\n",
      "[8]\tvalidation_set's binary_logloss: 0.0658389[7]\tvalidation_set's binary_logloss: 0.0681232\n",
      "[1]\tvalidation_set's binary_logloss: 0.0629071\n",
      "\n",
      "Training until validation scores don't improve for 4 rounds\n",
      "[9]\tvalidation_set's binary_logloss: 0.0658452[8]\tvalidation_set's binary_logloss: 0.0678351[2]\tvalidation_set's binary_logloss: 0.0625557\n",
      "\n",
      "\n",
      "[3]\tvalidation_set's binary_logloss: 0.0620061[9]\tvalidation_set's binary_logloss: 0.0674586[10]\tvalidation_set's binary_logloss: 0.0656023\n",
      "\n",
      "\n",
      "[4]\tvalidation_set's binary_logloss: 0.0619188\n",
      "[11]\tvalidation_set's binary_logloss: 0.0656965[10]\tvalidation_set's binary_logloss: 0.0674727\n",
      "\n",
      "[5]\tvalidation_set's binary_logloss: 0.0618255\n",
      "[12]\tvalidation_set's binary_logloss: 0.065474[11]\tvalidation_set's binary_logloss: 0.06729\n",
      "\n",
      "[6]\tvalidation_set's binary_logloss: 0.061601[12]\tvalidation_set's binary_logloss: 0.0671228[13]\tvalidation_set's binary_logloss: 0.0655603\n",
      "\n",
      "\n",
      "[7]\tvalidation_set's binary_logloss: 0.0616385[13]\tvalidation_set's binary_logloss: 0.0668868[14]\tvalidation_set's binary_logloss: 0.0655859\n",
      "\n",
      "\n",
      "[8]\tvalidation_set's binary_logloss: 0.0615761\n",
      "[14]\tvalidation_set's binary_logloss: 0.0667887[15]\tvalidation_set's binary_logloss: 0.0656896\n",
      "\n",
      "[9]\tvalidation_set's binary_logloss: 0.0616285[15]\tvalidation_set's binary_logloss: 0.0667891[16]\tvalidation_set's binary_logloss: 0.0654085\n",
      "\n",
      "\n",
      "[10]\tvalidation_set's binary_logloss: 0.0617626\n",
      "[17]\tvalidation_set's binary_logloss: 0.0656201[16]\tvalidation_set's binary_logloss: 0.0667622\n",
      "[11]\tvalidation_set's binary_logloss: 0.0620267\n",
      "\n",
      "[18]\tvalidation_set's binary_logloss: 0.0655197[12]\tvalidation_set's binary_logloss: 0.0622602[17]\tvalidation_set's binary_logloss: 0.0667246[1]\tvalidation_set's binary_logloss: 0.0680594\n",
      "\n",
      "\n",
      "\n",
      "Training until validation scores don't improve for 4 roundsEarly stopping, best iteration is:\n",
      "[8]\tvalidation_set's binary_logloss: 0.0615761\n",
      "\n",
      "[1]\tvalidation_set's binary_logloss: 0.0721376[19]\tvalidation_set's binary_logloss: 0.0657265\n",
      "[2]\tvalidation_set's binary_logloss: 0.0677194\n",
      "[18]\tvalidation_set's binary_logloss: 0.0665514\n",
      "Training until validation scores don't improve for 4 rounds\n",
      "\n",
      "[3]\tvalidation_set's binary_logloss: 0.0674343[19]\tvalidation_set's binary_logloss: 0.0665014[2]\tvalidation_set's binary_logloss: 0.0706733[20]\tvalidation_set's binary_logloss: 0.0658339\n",
      "\n",
      "\n",
      "\n",
      "Early stopping, best iteration is:\n",
      "[16]\tvalidation_set's binary_logloss: 0.0654085\n",
      "[20]\tvalidation_set's binary_logloss: 0.0664362[4]\tvalidation_set's binary_logloss: 0.0670532[3]\tvalidation_set's binary_logloss: 0.0698426\n",
      "\n",
      "\n",
      "[1]\tvalidation_set's binary_logloss: 0.0641378\n",
      "Training until validation scores don't improve for 4 rounds\n",
      "[5]\tvalidation_set's binary_logloss: 0.0665466[4]\tvalidation_set's binary_logloss: 0.0692757[21]\tvalidation_set's binary_logloss: 0.0663175\n",
      "\n",
      "\n",
      "[2]\tvalidation_set's binary_logloss: 0.0637255\n",
      "[1]\tvalidation_set's binary_logloss: 0.0632047\n",
      "[3]\tvalidation_set's binary_logloss: 0.0630601Training until validation scores don't improve for 4 rounds\n",
      "\n",
      "[5]\tvalidation_set's binary_logloss: 0.0688284\n",
      "[6]\tvalidation_set's binary_logloss: 0.0665171\n",
      "[22]\tvalidation_set's binary_logloss: 0.0663077\n",
      "[2]\tvalidation_set's binary_logloss: 0.0630739\n",
      "[4]\tvalidation_set's binary_logloss: 0.0630299\n",
      "[6]\tvalidation_set's binary_logloss: 0.0683258\n",
      "[7]\tvalidation_set's binary_logloss: 0.0664849\n",
      "[23]\tvalidation_set's binary_logloss: 0.0663532\n",
      "[3]\tvalidation_set's binary_logloss: 0.0630978\n",
      "[5]\tvalidation_set's binary_logloss: 0.0627365\n",
      "[7]\tvalidation_set's binary_logloss: 0.0680537\n",
      "[8]\tvalidation_set's binary_logloss: 0.0662242\n",
      "[24]\tvalidation_set's binary_logloss: 0.0663429\n",
      "[4]\tvalidation_set's binary_logloss: 0.0629002\n",
      "[6]\tvalidation_set's binary_logloss: 0.0626405\n",
      "[8]\tvalidation_set's binary_logloss: 0.0680241\n",
      "[9]\tvalidation_set's binary_logloss: 0.0659854\n",
      "[25]\tvalidation_set's binary_logloss: 0.0661922\n",
      "[5]\tvalidation_set's binary_logloss: 0.0627237\n",
      "[7]\tvalidation_set's binary_logloss: 0.0625843\n",
      "[9]\tvalidation_set's binary_logloss: 0.0678855\n",
      "[10]\tvalidation_set's binary_logloss: 0.0660485\n",
      "[26]\tvalidation_set's binary_logloss: 0.0662218\n",
      "[6]\tvalidation_set's binary_logloss: 0.0625096[8]\tvalidation_set's binary_logloss: 0.0627036\n",
      "\n",
      "[10]\tvalidation_set's binary_logloss: 0.0675521\n",
      "[11]\tvalidation_set's binary_logloss: 0.0660347\n",
      "[7]\tvalidation_set's binary_logloss: 0.0625572\n",
      "[27]\tvalidation_set's binary_logloss: 0.066132\n",
      "[9]\tvalidation_set's binary_logloss: 0.0626865\n",
      "[11]\tvalidation_set's binary_logloss: 0.0674278\n",
      "[8]\tvalidation_set's binary_logloss: 0.0626836\n",
      "[12]\tvalidation_set's binary_logloss: 0.0661782\n",
      "[10]\tvalidation_set's binary_logloss: 0.0629766\n",
      "[28]\tvalidation_set's binary_logloss: 0.0660199\n",
      "[9]\tvalidation_set's binary_logloss: 0.0626199\n",
      "[11]\tvalidation_set's binary_logloss: 0.0630055\n",
      "Early stopping, best iteration is:\n",
      "[7]\tvalidation_set's binary_logloss: 0.0625843\n",
      "[13]\tvalidation_set's binary_logloss: 0.0662059\n",
      "Early stopping, best iteration is:\n",
      "[9]\tvalidation_set's binary_logloss: 0.0659854\n",
      "[12]\tvalidation_set's binary_logloss: 0.0673226[29]\tvalidation_set's binary_logloss: 0.0659321\n",
      "\n",
      "[10]\tvalidation_set's binary_logloss: 0.0628224\n",
      "Early stopping, best iteration is:\n",
      "[6]\tvalidation_set's binary_logloss: 0.0625096\n",
      "[30]\tvalidation_set's binary_logloss: 0.0659828\n",
      "[13]\tvalidation_set's binary_logloss: 0.0671856\n",
      "[14]\tvalidation_set's binary_logloss: 0.067019\n",
      "[31]\tvalidation_set's binary_logloss: 0.0659759\n",
      "[15]\tvalidation_set's binary_logloss: 0.0669189\n",
      "[32]\tvalidation_set's binary_logloss: 0.0659376\n",
      "[16]\tvalidation_set's binary_logloss: 0.0669318\n",
      "[33]\tvalidation_set's binary_logloss: 0.0659366\n",
      "Early stopping, best iteration is:\n",
      "[29]\tvalidation_set's binary_logloss: 0.0659321\n",
      "[17]\tvalidation_set's binary_logloss: 0.0669337\n",
      "[18]\tvalidation_set's binary_logloss: 0.0669054\n",
      "[19]\tvalidation_set's binary_logloss: 0.0667749\n",
      "[20]\tvalidation_set's binary_logloss: 0.0668738\n",
      "[21]\tvalidation_set's binary_logloss: 0.0670127\n",
      "[22]\tvalidation_set's binary_logloss: 0.0670949\n",
      "[23]\tvalidation_set's binary_logloss: 0.0670475\n",
      "Early stopping, best iteration is:\n",
      "[19]\tvalidation_set's binary_logloss: 0.0667749\n"
     ]
    }
   ],
   "source": [
    "TEST_INTERVALS = 36\n",
    "data_processor = PanelDataProcessor(config={\"TEST_INTERVALS\": TEST_INTERVALS}, data=data)\n",
    "data_processor.build_processed_data()\n",
    "\n",
    "modeler = LGBSurvivalModeler(data=data_processor.data)\n",
    "modeler.build_model(TEST_INTERVALS)"
   ]
  },
  {
   "cell_type": "markdown",
   "metadata": {},
   "source": [
    "We want to evaluate our model on the set of leaders in July 2017, 36 months prior to the most recent month in our dataset."
   ]
  },
  {
   "cell_type": "code",
   "execution_count": 10,
   "metadata": {},
   "outputs": [
    {
     "data": {
      "text/html": [
       "<div>\n",
       "<style scoped>\n",
       "    .dataframe tbody tr th:only-of-type {\n",
       "        vertical-align: middle;\n",
       "    }\n",
       "\n",
       "    .dataframe tbody tr th {\n",
       "        vertical-align: top;\n",
       "    }\n",
       "\n",
       "    .dataframe thead th {\n",
       "        text-align: right;\n",
       "    }\n",
       "</style>\n",
       "<table border=\"1\" class=\"dataframe\">\n",
       "  <thead>\n",
       "    <tr style=\"text-align: right;\">\n",
       "      <th></th>\n",
       "      <th>AUROC</th>\n",
       "      <th>Predicted Share</th>\n",
       "      <th>Actual Share</th>\n",
       "      <th>True Positives</th>\n",
       "      <th>False Negatives</th>\n",
       "      <th>False Positives</th>\n",
       "      <th>True Negatives</th>\n",
       "      <th>Other Metrics:</th>\n",
       "      <th>C-Index</th>\n",
       "    </tr>\n",
       "    <tr>\n",
       "      <th>Lead Length</th>\n",
       "      <th></th>\n",
       "      <th></th>\n",
       "      <th></th>\n",
       "      <th></th>\n",
       "      <th></th>\n",
       "      <th></th>\n",
       "      <th></th>\n",
       "      <th></th>\n",
       "      <th></th>\n",
       "    </tr>\n",
       "  </thead>\n",
       "  <tbody>\n",
       "    <tr>\n",
       "      <th>1</th>\n",
       "      <td>0.848014</td>\n",
       "      <td>0.991015</td>\n",
       "      <td>0.984694</td>\n",
       "      <td>193</td>\n",
       "      <td>0</td>\n",
       "      <td>3</td>\n",
       "      <td>0</td>\n",
       "      <td></td>\n",
       "      <td>0.7039644012944983</td>\n",
       "    </tr>\n",
       "    <tr>\n",
       "      <th>2</th>\n",
       "      <td>NaN</td>\n",
       "      <td>0.982337</td>\n",
       "      <td>1.000000</td>\n",
       "      <td>193</td>\n",
       "      <td>0</td>\n",
       "      <td>0</td>\n",
       "      <td>0</td>\n",
       "      <td></td>\n",
       "      <td></td>\n",
       "    </tr>\n",
       "    <tr>\n",
       "      <th>3</th>\n",
       "      <td>0.536649</td>\n",
       "      <td>0.971161</td>\n",
       "      <td>0.989637</td>\n",
       "      <td>191</td>\n",
       "      <td>0</td>\n",
       "      <td>2</td>\n",
       "      <td>0</td>\n",
       "      <td></td>\n",
       "      <td></td>\n",
       "    </tr>\n",
       "    <tr>\n",
       "      <th>4</th>\n",
       "      <td>0.978836</td>\n",
       "      <td>0.952692</td>\n",
       "      <td>0.989529</td>\n",
       "      <td>188</td>\n",
       "      <td>1</td>\n",
       "      <td>1</td>\n",
       "      <td>1</td>\n",
       "      <td></td>\n",
       "      <td></td>\n",
       "    </tr>\n",
       "    <tr>\n",
       "      <th>5</th>\n",
       "      <td>0.716304</td>\n",
       "      <td>0.945227</td>\n",
       "      <td>0.973545</td>\n",
       "      <td>183</td>\n",
       "      <td>1</td>\n",
       "      <td>5</td>\n",
       "      <td>0</td>\n",
       "      <td></td>\n",
       "      <td></td>\n",
       "    </tr>\n",
       "    <tr>\n",
       "      <th>6</th>\n",
       "      <td>0.950549</td>\n",
       "      <td>0.931157</td>\n",
       "      <td>0.989130</td>\n",
       "      <td>181</td>\n",
       "      <td>1</td>\n",
       "      <td>1</td>\n",
       "      <td>1</td>\n",
       "      <td></td>\n",
       "      <td></td>\n",
       "    </tr>\n",
       "    <tr>\n",
       "      <th>7</th>\n",
       "      <td>0.988950</td>\n",
       "      <td>0.920197</td>\n",
       "      <td>0.994505</td>\n",
       "      <td>179</td>\n",
       "      <td>2</td>\n",
       "      <td>1</td>\n",
       "      <td>0</td>\n",
       "      <td></td>\n",
       "      <td></td>\n",
       "    </tr>\n",
       "    <tr>\n",
       "      <th>8</th>\n",
       "      <td>0.871508</td>\n",
       "      <td>0.905779</td>\n",
       "      <td>0.988950</td>\n",
       "      <td>176</td>\n",
       "      <td>3</td>\n",
       "      <td>1</td>\n",
       "      <td>1</td>\n",
       "      <td></td>\n",
       "      <td></td>\n",
       "    </tr>\n",
       "    <tr>\n",
       "      <th>9</th>\n",
       "      <td>0.694286</td>\n",
       "      <td>0.892268</td>\n",
       "      <td>0.977654</td>\n",
       "      <td>172</td>\n",
       "      <td>3</td>\n",
       "      <td>3</td>\n",
       "      <td>1</td>\n",
       "      <td></td>\n",
       "      <td></td>\n",
       "    </tr>\n",
       "    <tr>\n",
       "      <th>10</th>\n",
       "      <td>0.415205</td>\n",
       "      <td>0.882149</td>\n",
       "      <td>0.977143</td>\n",
       "      <td>168</td>\n",
       "      <td>3</td>\n",
       "      <td>4</td>\n",
       "      <td>0</td>\n",
       "      <td></td>\n",
       "      <td></td>\n",
       "    </tr>\n",
       "    <tr>\n",
       "      <th>11</th>\n",
       "      <td>0.630952</td>\n",
       "      <td>0.867106</td>\n",
       "      <td>0.982456</td>\n",
       "      <td>164</td>\n",
       "      <td>4</td>\n",
       "      <td>3</td>\n",
       "      <td>0</td>\n",
       "      <td></td>\n",
       "      <td></td>\n",
       "    </tr>\n",
       "    <tr>\n",
       "      <th>12</th>\n",
       "      <td>0.692771</td>\n",
       "      <td>0.843704</td>\n",
       "      <td>0.988095</td>\n",
       "      <td>161</td>\n",
       "      <td>5</td>\n",
       "      <td>1</td>\n",
       "      <td>1</td>\n",
       "      <td></td>\n",
       "      <td></td>\n",
       "    </tr>\n",
       "    <tr>\n",
       "      <th>13</th>\n",
       "      <td>NaN</td>\n",
       "      <td>0.831742</td>\n",
       "      <td>1.000000</td>\n",
       "      <td>159</td>\n",
       "      <td>7</td>\n",
       "      <td>0</td>\n",
       "      <td>0</td>\n",
       "      <td></td>\n",
       "      <td></td>\n",
       "    </tr>\n",
       "    <tr>\n",
       "      <th>14</th>\n",
       "      <td>0.828704</td>\n",
       "      <td>0.819001</td>\n",
       "      <td>0.975904</td>\n",
       "      <td>156</td>\n",
       "      <td>6</td>\n",
       "      <td>2</td>\n",
       "      <td>2</td>\n",
       "      <td></td>\n",
       "      <td></td>\n",
       "    </tr>\n",
       "    <tr>\n",
       "      <th>15</th>\n",
       "      <td>0.900000</td>\n",
       "      <td>0.809224</td>\n",
       "      <td>0.987654</td>\n",
       "      <td>153</td>\n",
       "      <td>7</td>\n",
       "      <td>2</td>\n",
       "      <td>0</td>\n",
       "      <td></td>\n",
       "      <td></td>\n",
       "    </tr>\n",
       "    <tr>\n",
       "      <th>16</th>\n",
       "      <td>0.817610</td>\n",
       "      <td>0.799407</td>\n",
       "      <td>0.993750</td>\n",
       "      <td>150</td>\n",
       "      <td>9</td>\n",
       "      <td>1</td>\n",
       "      <td>0</td>\n",
       "      <td></td>\n",
       "      <td></td>\n",
       "    </tr>\n",
       "    <tr>\n",
       "      <th>17</th>\n",
       "      <td>0.722930</td>\n",
       "      <td>0.786024</td>\n",
       "      <td>0.987421</td>\n",
       "      <td>148</td>\n",
       "      <td>9</td>\n",
       "      <td>2</td>\n",
       "      <td>0</td>\n",
       "      <td></td>\n",
       "      <td></td>\n",
       "    </tr>\n",
       "    <tr>\n",
       "      <th>18</th>\n",
       "      <td>0.865385</td>\n",
       "      <td>0.775219</td>\n",
       "      <td>0.993631</td>\n",
       "      <td>146</td>\n",
       "      <td>10</td>\n",
       "      <td>1</td>\n",
       "      <td>0</td>\n",
       "      <td></td>\n",
       "      <td></td>\n",
       "    </tr>\n",
       "    <tr>\n",
       "      <th>19</th>\n",
       "      <td>0.651416</td>\n",
       "      <td>0.764842</td>\n",
       "      <td>0.980769</td>\n",
       "      <td>145</td>\n",
       "      <td>8</td>\n",
       "      <td>1</td>\n",
       "      <td>2</td>\n",
       "      <td></td>\n",
       "      <td></td>\n",
       "    </tr>\n",
       "    <tr>\n",
       "      <th>20</th>\n",
       "      <td>0.559211</td>\n",
       "      <td>0.760084</td>\n",
       "      <td>0.993464</td>\n",
       "      <td>143</td>\n",
       "      <td>9</td>\n",
       "      <td>1</td>\n",
       "      <td>0</td>\n",
       "      <td></td>\n",
       "      <td></td>\n",
       "    </tr>\n",
       "    <tr>\n",
       "      <th>21</th>\n",
       "      <td>0.046358</td>\n",
       "      <td>0.749280</td>\n",
       "      <td>0.993421</td>\n",
       "      <td>141</td>\n",
       "      <td>10</td>\n",
       "      <td>1</td>\n",
       "      <td>0</td>\n",
       "      <td></td>\n",
       "      <td></td>\n",
       "    </tr>\n",
       "    <tr>\n",
       "      <th>22</th>\n",
       "      <td>0.439597</td>\n",
       "      <td>0.736195</td>\n",
       "      <td>0.986755</td>\n",
       "      <td>136</td>\n",
       "      <td>13</td>\n",
       "      <td>2</td>\n",
       "      <td>0</td>\n",
       "      <td></td>\n",
       "      <td></td>\n",
       "    </tr>\n",
       "    <tr>\n",
       "      <th>23</th>\n",
       "      <td>0.712069</td>\n",
       "      <td>0.717556</td>\n",
       "      <td>0.973154</td>\n",
       "      <td>129</td>\n",
       "      <td>16</td>\n",
       "      <td>4</td>\n",
       "      <td>0</td>\n",
       "      <td></td>\n",
       "      <td></td>\n",
       "    </tr>\n",
       "    <tr>\n",
       "      <th>24</th>\n",
       "      <td>0.828014</td>\n",
       "      <td>0.705814</td>\n",
       "      <td>0.972414</td>\n",
       "      <td>124</td>\n",
       "      <td>17</td>\n",
       "      <td>1</td>\n",
       "      <td>3</td>\n",
       "      <td></td>\n",
       "      <td></td>\n",
       "    </tr>\n",
       "    <tr>\n",
       "      <th>25</th>\n",
       "      <td>0.795588</td>\n",
       "      <td>0.696706</td>\n",
       "      <td>0.964539</td>\n",
       "      <td>117</td>\n",
       "      <td>19</td>\n",
       "      <td>3</td>\n",
       "      <td>2</td>\n",
       "      <td></td>\n",
       "      <td></td>\n",
       "    </tr>\n",
       "    <tr>\n",
       "      <th>26</th>\n",
       "      <td>0.671642</td>\n",
       "      <td>0.691920</td>\n",
       "      <td>0.985294</td>\n",
       "      <td>114</td>\n",
       "      <td>20</td>\n",
       "      <td>2</td>\n",
       "      <td>0</td>\n",
       "      <td></td>\n",
       "      <td></td>\n",
       "    </tr>\n",
       "    <tr>\n",
       "      <th>27</th>\n",
       "      <td>0.742424</td>\n",
       "      <td>0.682224</td>\n",
       "      <td>0.985075</td>\n",
       "      <td>113</td>\n",
       "      <td>19</td>\n",
       "      <td>1</td>\n",
       "      <td>1</td>\n",
       "      <td></td>\n",
       "      <td></td>\n",
       "    </tr>\n",
       "    <tr>\n",
       "      <th>28</th>\n",
       "      <td>0.969466</td>\n",
       "      <td>0.676321</td>\n",
       "      <td>0.992424</td>\n",
       "      <td>111</td>\n",
       "      <td>20</td>\n",
       "      <td>0</td>\n",
       "      <td>1</td>\n",
       "      <td></td>\n",
       "      <td></td>\n",
       "    </tr>\n",
       "    <tr>\n",
       "      <th>29</th>\n",
       "      <td>0.786822</td>\n",
       "      <td>0.669084</td>\n",
       "      <td>0.984733</td>\n",
       "      <td>107</td>\n",
       "      <td>22</td>\n",
       "      <td>2</td>\n",
       "      <td>0</td>\n",
       "      <td></td>\n",
       "      <td></td>\n",
       "    </tr>\n",
       "    <tr>\n",
       "      <th>30</th>\n",
       "      <td>0.767717</td>\n",
       "      <td>0.663264</td>\n",
       "      <td>0.984496</td>\n",
       "      <td>106</td>\n",
       "      <td>21</td>\n",
       "      <td>1</td>\n",
       "      <td>1</td>\n",
       "      <td></td>\n",
       "      <td></td>\n",
       "    </tr>\n",
       "    <tr>\n",
       "      <th>31</th>\n",
       "      <td>0.565041</td>\n",
       "      <td>0.651901</td>\n",
       "      <td>0.968504</td>\n",
       "      <td>101</td>\n",
       "      <td>22</td>\n",
       "      <td>4</td>\n",
       "      <td>0</td>\n",
       "      <td></td>\n",
       "      <td></td>\n",
       "    </tr>\n",
       "    <tr>\n",
       "      <th>32</th>\n",
       "      <td>0.983607</td>\n",
       "      <td>0.640569</td>\n",
       "      <td>0.991870</td>\n",
       "      <td>99</td>\n",
       "      <td>23</td>\n",
       "      <td>0</td>\n",
       "      <td>1</td>\n",
       "      <td></td>\n",
       "      <td></td>\n",
       "    </tr>\n",
       "    <tr>\n",
       "      <th>33</th>\n",
       "      <td>0.975207</td>\n",
       "      <td>0.631276</td>\n",
       "      <td>0.991803</td>\n",
       "      <td>98</td>\n",
       "      <td>23</td>\n",
       "      <td>0</td>\n",
       "      <td>1</td>\n",
       "      <td></td>\n",
       "      <td></td>\n",
       "    </tr>\n",
       "    <tr>\n",
       "      <th>34</th>\n",
       "      <td>0.925000</td>\n",
       "      <td>0.626957</td>\n",
       "      <td>0.991736</td>\n",
       "      <td>97</td>\n",
       "      <td>23</td>\n",
       "      <td>0</td>\n",
       "      <td>1</td>\n",
       "      <td></td>\n",
       "      <td></td>\n",
       "    </tr>\n",
       "    <tr>\n",
       "      <th>35</th>\n",
       "      <td>0.579832</td>\n",
       "      <td>0.620765</td>\n",
       "      <td>0.991667</td>\n",
       "      <td>96</td>\n",
       "      <td>23</td>\n",
       "      <td>1</td>\n",
       "      <td>0</td>\n",
       "      <td></td>\n",
       "      <td></td>\n",
       "    </tr>\n",
       "    <tr>\n",
       "      <th>36</th>\n",
       "      <td>0.712644</td>\n",
       "      <td>0.612963</td>\n",
       "      <td>0.974790</td>\n",
       "      <td>92</td>\n",
       "      <td>24</td>\n",
       "      <td>2</td>\n",
       "      <td>1</td>\n",
       "      <td></td>\n",
       "      <td></td>\n",
       "    </tr>\n",
       "  </tbody>\n",
       "</table>\n",
       "</div>"
      ],
      "text/plain": [
       "                AUROC  Predicted Share  Actual Share  True Positives  \\\n",
       "Lead Length                                                            \n",
       "1            0.848014         0.991015      0.984694             193   \n",
       "2                 NaN         0.982337      1.000000             193   \n",
       "3            0.536649         0.971161      0.989637             191   \n",
       "4            0.978836         0.952692      0.989529             188   \n",
       "5            0.716304         0.945227      0.973545             183   \n",
       "6            0.950549         0.931157      0.989130             181   \n",
       "7            0.988950         0.920197      0.994505             179   \n",
       "8            0.871508         0.905779      0.988950             176   \n",
       "9            0.694286         0.892268      0.977654             172   \n",
       "10           0.415205         0.882149      0.977143             168   \n",
       "11           0.630952         0.867106      0.982456             164   \n",
       "12           0.692771         0.843704      0.988095             161   \n",
       "13                NaN         0.831742      1.000000             159   \n",
       "14           0.828704         0.819001      0.975904             156   \n",
       "15           0.900000         0.809224      0.987654             153   \n",
       "16           0.817610         0.799407      0.993750             150   \n",
       "17           0.722930         0.786024      0.987421             148   \n",
       "18           0.865385         0.775219      0.993631             146   \n",
       "19           0.651416         0.764842      0.980769             145   \n",
       "20           0.559211         0.760084      0.993464             143   \n",
       "21           0.046358         0.749280      0.993421             141   \n",
       "22           0.439597         0.736195      0.986755             136   \n",
       "23           0.712069         0.717556      0.973154             129   \n",
       "24           0.828014         0.705814      0.972414             124   \n",
       "25           0.795588         0.696706      0.964539             117   \n",
       "26           0.671642         0.691920      0.985294             114   \n",
       "27           0.742424         0.682224      0.985075             113   \n",
       "28           0.969466         0.676321      0.992424             111   \n",
       "29           0.786822         0.669084      0.984733             107   \n",
       "30           0.767717         0.663264      0.984496             106   \n",
       "31           0.565041         0.651901      0.968504             101   \n",
       "32           0.983607         0.640569      0.991870              99   \n",
       "33           0.975207         0.631276      0.991803              98   \n",
       "34           0.925000         0.626957      0.991736              97   \n",
       "35           0.579832         0.620765      0.991667              96   \n",
       "36           0.712644         0.612963      0.974790              92   \n",
       "\n",
       "             False Negatives  False Positives  True Negatives Other Metrics:  \\\n",
       "Lead Length                                                                    \n",
       "1                          0                3               0                  \n",
       "2                          0                0               0                  \n",
       "3                          0                2               0                  \n",
       "4                          1                1               1                  \n",
       "5                          1                5               0                  \n",
       "6                          1                1               1                  \n",
       "7                          2                1               0                  \n",
       "8                          3                1               1                  \n",
       "9                          3                3               1                  \n",
       "10                         3                4               0                  \n",
       "11                         4                3               0                  \n",
       "12                         5                1               1                  \n",
       "13                         7                0               0                  \n",
       "14                         6                2               2                  \n",
       "15                         7                2               0                  \n",
       "16                         9                1               0                  \n",
       "17                         9                2               0                  \n",
       "18                        10                1               0                  \n",
       "19                         8                1               2                  \n",
       "20                         9                1               0                  \n",
       "21                        10                1               0                  \n",
       "22                        13                2               0                  \n",
       "23                        16                4               0                  \n",
       "24                        17                1               3                  \n",
       "25                        19                3               2                  \n",
       "26                        20                2               0                  \n",
       "27                        19                1               1                  \n",
       "28                        20                0               1                  \n",
       "29                        22                2               0                  \n",
       "30                        21                1               1                  \n",
       "31                        22                4               0                  \n",
       "32                        23                0               1                  \n",
       "33                        23                0               1                  \n",
       "34                        23                0               1                  \n",
       "35                        23                1               0                  \n",
       "36                        24                2               1                  \n",
       "\n",
       "                        C-Index  \n",
       "Lead Length                      \n",
       "1            0.7039644012944983  \n",
       "2                                \n",
       "3                                \n",
       "4                                \n",
       "5                                \n",
       "6                                \n",
       "7                                \n",
       "8                                \n",
       "9                                \n",
       "10                               \n",
       "11                               \n",
       "12                               \n",
       "13                               \n",
       "14                               \n",
       "15                               \n",
       "16                               \n",
       "17                               \n",
       "18                               \n",
       "19                               \n",
       "20                               \n",
       "21                               \n",
       "22                               \n",
       "23                               \n",
       "24                               \n",
       "25                               \n",
       "26                               \n",
       "27                               \n",
       "28                               \n",
       "29                               \n",
       "30                               \n",
       "31                               \n",
       "32                               \n",
       "33                               \n",
       "34                               \n",
       "35                               \n",
       "36                               "
      ]
     },
     "execution_count": 10,
     "metadata": {},
     "output_type": "execute_result"
    }
   ],
   "source": [
    "evaluation_subset = data_processor.data[\"_period\"] == (data_processor.data[\"_period\"].max() - TEST_INTERVALS)\n",
    "metrics = modeler.evaluate(evaluation_subset)\n",
    "metrics"
   ]
  },
  {
   "cell_type": "markdown",
   "metadata": {},
   "source": [
    "The model we trained used default values for hyperparameters such as the maximum number of leaves per tree and the minimum number of observations in each leaf. There are likely other hyperparameter values that would yield better performance for each future period. Searching for those values and returning the best candidate set for each future period (according to performance on a validation set) is as simple as `modeler.hyperoptimize()`. The number of sets to consider, `n_trials`, defaults to 64, but we'll specify a value of 4 to accelerate this example."
   ]
  },
  {
   "cell_type": "code",
   "execution_count": 11,
   "metadata": {
    "scrolled": true
   },
   "outputs": [
    {
     "name": "stderr",
     "output_type": "stream",
     "text": [
      "[I 2020-08-27 17:19:37,117] Trial 0 finished with value: 0.06042667685953438 and parameters: {'num_iterations': 94, 'learning_rate': 0.4032261012568846, 'num_leaves': 121, 'max_depth': 19, 'min_data_in_leaf': 369, 'min_sum_hessian_in_leaf': 0.1364906231563803, 'bagging_freq': 0, 'bagging_fraction': 0.7271848812213663, 'feature_fraction': 0.6779042758880096, 'lambda_l1': 55.32233457830071, 'lambda_l2': 42.84656691186624, 'min_gain_to_split': 0.07127895884983065, 'min_data_per_group': 431, 'max_cat_threshold': 70, 'cat_l2': 41.37300385050969, 'cat_smooth': 1229.1342054498475, 'max_cat_to_onehot': 16, 'max_bin': 326, 'min_data_in_bin': 37}. Best is trial 0 with value: 0.06042667685953438.\n",
      "[I 2020-08-27 17:19:37,763] Trial 1 finished with value: 0.060577645587346615 and parameters: {'num_iterations': 67, 'learning_rate': 0.03746294609752311, 'num_leaves': 158, 'max_depth': 12, 'min_data_in_leaf': 32, 'min_sum_hessian_in_leaf': 0.14511985173887948, 'bagging_freq': 0, 'bagging_fraction': 0.675761436394881, 'feature_fraction': 0.6330760786411519, 'lambda_l1': 29.782572825444007, 'lambda_l2': 5.1211225902930835, 'min_gain_to_split': 0.18030446870444447, 'min_data_per_group': 346, 'max_cat_threshold': 268, 'cat_l2': 62.50914642127281, 'cat_smooth': 379.560142094743, 'max_cat_to_onehot': 10, 'max_bin': 702, 'min_data_in_bin': 33}. Best is trial 0 with value: 0.06042667685953438.\n",
      "[I 2020-08-27 17:19:39,095] Trial 2 finished with value: 0.05700311785212657 and parameters: {'num_iterations': 91, 'learning_rate': 0.08081207670528569, 'num_leaves': 45, 'max_depth': 30, 'min_data_in_leaf': 52, 'min_sum_hessian_in_leaf': 0.14564408551350866, 'bagging_freq': 1, 'bagging_fraction': 0.7421054227078454, 'feature_fraction': 0.9553626362706973, 'lambda_l1': 33.48323382484937, 'lambda_l2': 25.91037545717554, 'min_gain_to_split': 0.039619274608901967, 'min_data_per_group': 284, 'max_cat_threshold': 377, 'cat_l2': 11.820566283956346, 'cat_smooth': 119.75451760945361, 'max_cat_to_onehot': 11, 'max_bin': 150, 'min_data_in_bin': 10}. Best is trial 2 with value: 0.05700311785212657.\n",
      "[I 2020-08-27 17:19:39,629] Trial 3 finished with value: 0.057434679057400996 and parameters: {'num_iterations': 98, 'learning_rate': 0.48221228650561615, 'num_leaves': 222, 'max_depth': 14, 'min_data_in_leaf': 343, 'min_sum_hessian_in_leaf': 0.16336286068921954, 'bagging_freq': 0, 'bagging_fraction': 0.9794991100182464, 'feature_fraction': 0.63728942034678, 'lambda_l1': 38.02920861460169, 'lambda_l2': 39.83162229799324, 'min_gain_to_split': 0.056989793815496015, 'min_data_per_group': 227, 'max_cat_threshold': 485, 'cat_l2': 45.413369095139196, 'cat_smooth': 87.08565525956897, 'max_cat_to_onehot': 27, 'max_bin': 632, 'min_data_in_bin': 34}. Best is trial 2 with value: 0.05700311785212657.\n",
      "[I 2020-08-27 17:19:42,809] Trial 0 finished with value: 0.0662933541721733 and parameters: {'num_iterations': 94, 'learning_rate': 0.4032261012568846, 'num_leaves': 121, 'max_depth': 19, 'min_data_in_leaf': 369, 'min_sum_hessian_in_leaf': 0.1364906231563803, 'bagging_freq': 0, 'bagging_fraction': 0.7271848812213663, 'feature_fraction': 0.6779042758880096, 'lambda_l1': 55.32233457830071, 'lambda_l2': 42.84656691186624, 'min_gain_to_split': 0.07127895884983065, 'min_data_per_group': 431, 'max_cat_threshold': 70, 'cat_l2': 41.37300385050969, 'cat_smooth': 1229.1342054498475, 'max_cat_to_onehot': 16, 'max_bin': 326, 'min_data_in_bin': 37}. Best is trial 0 with value: 0.0662933541721733.\n",
      "[I 2020-08-27 17:19:43,441] Trial 1 finished with value: 0.06661110795845027 and parameters: {'num_iterations': 67, 'learning_rate': 0.03746294609752311, 'num_leaves': 158, 'max_depth': 12, 'min_data_in_leaf': 32, 'min_sum_hessian_in_leaf': 0.14511985173887948, 'bagging_freq': 0, 'bagging_fraction': 0.675761436394881, 'feature_fraction': 0.6330760786411519, 'lambda_l1': 29.782572825444007, 'lambda_l2': 5.1211225902930835, 'min_gain_to_split': 0.18030446870444447, 'min_data_per_group': 346, 'max_cat_threshold': 268, 'cat_l2': 62.50914642127281, 'cat_smooth': 379.560142094743, 'max_cat_to_onehot': 10, 'max_bin': 702, 'min_data_in_bin': 33}. Best is trial 0 with value: 0.0662933541721733.\n",
      "[I 2020-08-27 17:19:44,821] Trial 2 finished with value: 0.06393959812422124 and parameters: {'num_iterations': 91, 'learning_rate': 0.08081207670528569, 'num_leaves': 45, 'max_depth': 30, 'min_data_in_leaf': 52, 'min_sum_hessian_in_leaf': 0.14564408551350866, 'bagging_freq': 1, 'bagging_fraction': 0.7421054227078454, 'feature_fraction': 0.9553626362706973, 'lambda_l1': 33.48323382484937, 'lambda_l2': 25.91037545717554, 'min_gain_to_split': 0.039619274608901967, 'min_data_per_group': 284, 'max_cat_threshold': 377, 'cat_l2': 11.820566283956346, 'cat_smooth': 119.75451760945361, 'max_cat_to_onehot': 11, 'max_bin': 150, 'min_data_in_bin': 10}. Best is trial 2 with value: 0.06393959812422124.\n",
      "[I 2020-08-27 17:19:45,325] Trial 3 finished with value: 0.06403136683272567 and parameters: {'num_iterations': 98, 'learning_rate': 0.48221228650561615, 'num_leaves': 222, 'max_depth': 14, 'min_data_in_leaf': 343, 'min_sum_hessian_in_leaf': 0.16336286068921954, 'bagging_freq': 0, 'bagging_fraction': 0.9794991100182464, 'feature_fraction': 0.63728942034678, 'lambda_l1': 38.02920861460169, 'lambda_l2': 39.83162229799324, 'min_gain_to_split': 0.056989793815496015, 'min_data_per_group': 227, 'max_cat_threshold': 485, 'cat_l2': 45.413369095139196, 'cat_smooth': 87.08565525956897, 'max_cat_to_onehot': 27, 'max_bin': 632, 'min_data_in_bin': 34}. Best is trial 2 with value: 0.06393959812422124.\n",
      "[I 2020-08-27 17:19:48,449] Trial 0 finished with value: 0.06966762472597911 and parameters: {'num_iterations': 94, 'learning_rate': 0.4032261012568846, 'num_leaves': 121, 'max_depth': 19, 'min_data_in_leaf': 369, 'min_sum_hessian_in_leaf': 0.1364906231563803, 'bagging_freq': 0, 'bagging_fraction': 0.7271848812213663, 'feature_fraction': 0.6779042758880096, 'lambda_l1': 55.32233457830071, 'lambda_l2': 42.84656691186624, 'min_gain_to_split': 0.07127895884983065, 'min_data_per_group': 431, 'max_cat_threshold': 70, 'cat_l2': 41.37300385050969, 'cat_smooth': 1229.1342054498475, 'max_cat_to_onehot': 16, 'max_bin': 326, 'min_data_in_bin': 37}. Best is trial 0 with value: 0.06966762472597911.\n",
      "[I 2020-08-27 17:19:49,075] Trial 1 finished with value: 0.07129788859699684 and parameters: {'num_iterations': 67, 'learning_rate': 0.03746294609752311, 'num_leaves': 158, 'max_depth': 12, 'min_data_in_leaf': 32, 'min_sum_hessian_in_leaf': 0.14511985173887948, 'bagging_freq': 0, 'bagging_fraction': 0.675761436394881, 'feature_fraction': 0.6330760786411519, 'lambda_l1': 29.782572825444007, 'lambda_l2': 5.1211225902930835, 'min_gain_to_split': 0.18030446870444447, 'min_data_per_group': 346, 'max_cat_threshold': 268, 'cat_l2': 62.50914642127281, 'cat_smooth': 379.560142094743, 'max_cat_to_onehot': 10, 'max_bin': 702, 'min_data_in_bin': 33}. Best is trial 0 with value: 0.06966762472597911.\n",
      "[I 2020-08-27 17:19:50,547] Trial 2 finished with value: 0.06772008335757793 and parameters: {'num_iterations': 91, 'learning_rate': 0.08081207670528569, 'num_leaves': 45, 'max_depth': 30, 'min_data_in_leaf': 52, 'min_sum_hessian_in_leaf': 0.14564408551350866, 'bagging_freq': 1, 'bagging_fraction': 0.7421054227078454, 'feature_fraction': 0.9553626362706973, 'lambda_l1': 33.48323382484937, 'lambda_l2': 25.91037545717554, 'min_gain_to_split': 0.039619274608901967, 'min_data_per_group': 284, 'max_cat_threshold': 377, 'cat_l2': 11.820566283956346, 'cat_smooth': 119.75451760945361, 'max_cat_to_onehot': 11, 'max_bin': 150, 'min_data_in_bin': 10}. Best is trial 2 with value: 0.06772008335757793.\n",
      "[I 2020-08-27 17:19:51,052] Trial 3 finished with value: 0.06872869244735971 and parameters: {'num_iterations': 98, 'learning_rate': 0.48221228650561615, 'num_leaves': 222, 'max_depth': 14, 'min_data_in_leaf': 343, 'min_sum_hessian_in_leaf': 0.16336286068921954, 'bagging_freq': 0, 'bagging_fraction': 0.9794991100182464, 'feature_fraction': 0.63728942034678, 'lambda_l1': 38.02920861460169, 'lambda_l2': 39.83162229799324, 'min_gain_to_split': 0.056989793815496015, 'min_data_per_group': 227, 'max_cat_threshold': 485, 'cat_l2': 45.413369095139196, 'cat_smooth': 87.08565525956897, 'max_cat_to_onehot': 27, 'max_bin': 632, 'min_data_in_bin': 34}. Best is trial 2 with value: 0.06772008335757793.\n",
      "[I 2020-08-27 17:19:54,206] Trial 0 finished with value: 0.07204349745032258 and parameters: {'num_iterations': 94, 'learning_rate': 0.4032261012568846, 'num_leaves': 121, 'max_depth': 19, 'min_data_in_leaf': 369, 'min_sum_hessian_in_leaf': 0.1364906231563803, 'bagging_freq': 0, 'bagging_fraction': 0.7271848812213663, 'feature_fraction': 0.6779042758880096, 'lambda_l1': 55.32233457830071, 'lambda_l2': 42.84656691186624, 'min_gain_to_split': 0.07127895884983065, 'min_data_per_group': 431, 'max_cat_threshold': 70, 'cat_l2': 41.37300385050969, 'cat_smooth': 1229.1342054498475, 'max_cat_to_onehot': 16, 'max_bin': 326, 'min_data_in_bin': 37}. Best is trial 0 with value: 0.07204349745032258.\n",
      "[I 2020-08-27 17:19:55,009] Trial 1 finished with value: 0.0708178195116998 and parameters: {'num_iterations': 67, 'learning_rate': 0.03746294609752311, 'num_leaves': 158, 'max_depth': 12, 'min_data_in_leaf': 32, 'min_sum_hessian_in_leaf': 0.14511985173887948, 'bagging_freq': 0, 'bagging_fraction': 0.675761436394881, 'feature_fraction': 0.6330760786411519, 'lambda_l1': 29.782572825444007, 'lambda_l2': 5.1211225902930835, 'min_gain_to_split': 0.18030446870444447, 'min_data_per_group': 346, 'max_cat_threshold': 268, 'cat_l2': 62.50914642127281, 'cat_smooth': 379.560142094743, 'max_cat_to_onehot': 10, 'max_bin': 702, 'min_data_in_bin': 33}. Best is trial 1 with value: 0.0708178195116998.\n",
      "[I 2020-08-27 17:19:56,411] Trial 2 finished with value: 0.06957007050480976 and parameters: {'num_iterations': 91, 'learning_rate': 0.08081207670528569, 'num_leaves': 45, 'max_depth': 30, 'min_data_in_leaf': 52, 'min_sum_hessian_in_leaf': 0.14564408551350866, 'bagging_freq': 1, 'bagging_fraction': 0.7421054227078454, 'feature_fraction': 0.9553626362706973, 'lambda_l1': 33.48323382484937, 'lambda_l2': 25.91037545717554, 'min_gain_to_split': 0.039619274608901967, 'min_data_per_group': 284, 'max_cat_threshold': 377, 'cat_l2': 11.820566283956346, 'cat_smooth': 119.75451760945361, 'max_cat_to_onehot': 11, 'max_bin': 150, 'min_data_in_bin': 10}. Best is trial 2 with value: 0.06957007050480976.\n",
      "[I 2020-08-27 17:19:57,055] Trial 3 finished with value: 0.06836401815797499 and parameters: {'num_iterations': 98, 'learning_rate': 0.48221228650561615, 'num_leaves': 222, 'max_depth': 14, 'min_data_in_leaf': 343, 'min_sum_hessian_in_leaf': 0.16336286068921954, 'bagging_freq': 0, 'bagging_fraction': 0.9794991100182464, 'feature_fraction': 0.63728942034678, 'lambda_l1': 38.02920861460169, 'lambda_l2': 39.83162229799324, 'min_gain_to_split': 0.056989793815496015, 'min_data_per_group': 227, 'max_cat_threshold': 485, 'cat_l2': 45.413369095139196, 'cat_smooth': 87.08565525956897, 'max_cat_to_onehot': 27, 'max_bin': 632, 'min_data_in_bin': 34}. Best is trial 3 with value: 0.06836401815797499.\n",
      "[I 2020-08-27 17:20:00,800] Trial 0 finished with value: 0.07085660242000136 and parameters: {'num_iterations': 94, 'learning_rate': 0.4032261012568846, 'num_leaves': 121, 'max_depth': 19, 'min_data_in_leaf': 369, 'min_sum_hessian_in_leaf': 0.1364906231563803, 'bagging_freq': 0, 'bagging_fraction': 0.7271848812213663, 'feature_fraction': 0.6779042758880096, 'lambda_l1': 55.32233457830071, 'lambda_l2': 42.84656691186624, 'min_gain_to_split': 0.07127895884983065, 'min_data_per_group': 431, 'max_cat_threshold': 70, 'cat_l2': 41.37300385050969, 'cat_smooth': 1229.1342054498475, 'max_cat_to_onehot': 16, 'max_bin': 326, 'min_data_in_bin': 37}. Best is trial 0 with value: 0.07085660242000136.\n",
      "[I 2020-08-27 17:20:01,704] Trial 1 finished with value: 0.06963393889187214 and parameters: {'num_iterations': 67, 'learning_rate': 0.03746294609752311, 'num_leaves': 158, 'max_depth': 12, 'min_data_in_leaf': 32, 'min_sum_hessian_in_leaf': 0.14511985173887948, 'bagging_freq': 0, 'bagging_fraction': 0.675761436394881, 'feature_fraction': 0.6330760786411519, 'lambda_l1': 29.782572825444007, 'lambda_l2': 5.1211225902930835, 'min_gain_to_split': 0.18030446870444447, 'min_data_per_group': 346, 'max_cat_threshold': 268, 'cat_l2': 62.50914642127281, 'cat_smooth': 379.560142094743, 'max_cat_to_onehot': 10, 'max_bin': 702, 'min_data_in_bin': 33}. Best is trial 1 with value: 0.06963393889187214.\n",
      "[I 2020-08-27 17:20:04,518] Trial 2 finished with value: 0.06857533919815822 and parameters: {'num_iterations': 91, 'learning_rate': 0.08081207670528569, 'num_leaves': 45, 'max_depth': 30, 'min_data_in_leaf': 52, 'min_sum_hessian_in_leaf': 0.14564408551350866, 'bagging_freq': 1, 'bagging_fraction': 0.7421054227078454, 'feature_fraction': 0.9553626362706973, 'lambda_l1': 33.48323382484937, 'lambda_l2': 25.91037545717554, 'min_gain_to_split': 0.039619274608901967, 'min_data_per_group': 284, 'max_cat_threshold': 377, 'cat_l2': 11.820566283956346, 'cat_smooth': 119.75451760945361, 'max_cat_to_onehot': 11, 'max_bin': 150, 'min_data_in_bin': 10}. Best is trial 2 with value: 0.06857533919815822.\n",
      "[I 2020-08-27 17:20:05,258] Trial 3 finished with value: 0.06827824989805178 and parameters: {'num_iterations': 98, 'learning_rate': 0.48221228650561615, 'num_leaves': 222, 'max_depth': 14, 'min_data_in_leaf': 343, 'min_sum_hessian_in_leaf': 0.16336286068921954, 'bagging_freq': 0, 'bagging_fraction': 0.9794991100182464, 'feature_fraction': 0.63728942034678, 'lambda_l1': 38.02920861460169, 'lambda_l2': 39.83162229799324, 'min_gain_to_split': 0.056989793815496015, 'min_data_per_group': 227, 'max_cat_threshold': 485, 'cat_l2': 45.413369095139196, 'cat_smooth': 87.08565525956897, 'max_cat_to_onehot': 27, 'max_bin': 632, 'min_data_in_bin': 34}. Best is trial 3 with value: 0.06827824989805178.\n",
      "[I 2020-08-27 17:20:09,290] Trial 0 finished with value: 0.06971871048400309 and parameters: {'num_iterations': 94, 'learning_rate': 0.4032261012568846, 'num_leaves': 121, 'max_depth': 19, 'min_data_in_leaf': 369, 'min_sum_hessian_in_leaf': 0.1364906231563803, 'bagging_freq': 0, 'bagging_fraction': 0.7271848812213663, 'feature_fraction': 0.6779042758880096, 'lambda_l1': 55.32233457830071, 'lambda_l2': 42.84656691186624, 'min_gain_to_split': 0.07127895884983065, 'min_data_per_group': 431, 'max_cat_threshold': 70, 'cat_l2': 41.37300385050969, 'cat_smooth': 1229.1342054498475, 'max_cat_to_onehot': 16, 'max_bin': 326, 'min_data_in_bin': 37}. Best is trial 0 with value: 0.06971871048400309.\n",
      "[I 2020-08-27 17:20:10,120] Trial 1 finished with value: 0.06920831598208017 and parameters: {'num_iterations': 67, 'learning_rate': 0.03746294609752311, 'num_leaves': 158, 'max_depth': 12, 'min_data_in_leaf': 32, 'min_sum_hessian_in_leaf': 0.14511985173887948, 'bagging_freq': 0, 'bagging_fraction': 0.675761436394881, 'feature_fraction': 0.6330760786411519, 'lambda_l1': 29.782572825444007, 'lambda_l2': 5.1211225902930835, 'min_gain_to_split': 0.18030446870444447, 'min_data_per_group': 346, 'max_cat_threshold': 268, 'cat_l2': 62.50914642127281, 'cat_smooth': 379.560142094743, 'max_cat_to_onehot': 10, 'max_bin': 702, 'min_data_in_bin': 33}. Best is trial 1 with value: 0.06920831598208017.\n",
      "[I 2020-08-27 17:20:11,707] Trial 2 finished with value: 0.06814743910057289 and parameters: {'num_iterations': 91, 'learning_rate': 0.08081207670528569, 'num_leaves': 45, 'max_depth': 30, 'min_data_in_leaf': 52, 'min_sum_hessian_in_leaf': 0.14564408551350866, 'bagging_freq': 1, 'bagging_fraction': 0.7421054227078454, 'feature_fraction': 0.9553626362706973, 'lambda_l1': 33.48323382484937, 'lambda_l2': 25.91037545717554, 'min_gain_to_split': 0.039619274608901967, 'min_data_per_group': 284, 'max_cat_threshold': 377, 'cat_l2': 11.820566283956346, 'cat_smooth': 119.75451760945361, 'max_cat_to_onehot': 11, 'max_bin': 150, 'min_data_in_bin': 10}. Best is trial 2 with value: 0.06814743910057289.\n",
      "[I 2020-08-27 17:20:12,306] Trial 3 finished with value: 0.06638728957508479 and parameters: {'num_iterations': 98, 'learning_rate': 0.48221228650561615, 'num_leaves': 222, 'max_depth': 14, 'min_data_in_leaf': 343, 'min_sum_hessian_in_leaf': 0.16336286068921954, 'bagging_freq': 0, 'bagging_fraction': 0.9794991100182464, 'feature_fraction': 0.63728942034678, 'lambda_l1': 38.02920861460169, 'lambda_l2': 39.83162229799324, 'min_gain_to_split': 0.056989793815496015, 'min_data_per_group': 227, 'max_cat_threshold': 485, 'cat_l2': 45.413369095139196, 'cat_smooth': 87.08565525956897, 'max_cat_to_onehot': 27, 'max_bin': 632, 'min_data_in_bin': 34}. Best is trial 3 with value: 0.06638728957508479.\n",
      "[I 2020-08-27 17:20:16,067] Trial 0 finished with value: 0.06893688009222149 and parameters: {'num_iterations': 94, 'learning_rate': 0.4032261012568846, 'num_leaves': 121, 'max_depth': 19, 'min_data_in_leaf': 369, 'min_sum_hessian_in_leaf': 0.1364906231563803, 'bagging_freq': 0, 'bagging_fraction': 0.7271848812213663, 'feature_fraction': 0.6779042758880096, 'lambda_l1': 55.32233457830071, 'lambda_l2': 42.84656691186624, 'min_gain_to_split': 0.07127895884983065, 'min_data_per_group': 431, 'max_cat_threshold': 70, 'cat_l2': 41.37300385050969, 'cat_smooth': 1229.1342054498475, 'max_cat_to_onehot': 16, 'max_bin': 326, 'min_data_in_bin': 37}. Best is trial 0 with value: 0.06893688009222149.\n",
      "[I 2020-08-27 17:20:16,770] Trial 1 finished with value: 0.06836650615816085 and parameters: {'num_iterations': 67, 'learning_rate': 0.03746294609752311, 'num_leaves': 158, 'max_depth': 12, 'min_data_in_leaf': 32, 'min_sum_hessian_in_leaf': 0.14511985173887948, 'bagging_freq': 0, 'bagging_fraction': 0.675761436394881, 'feature_fraction': 0.6330760786411519, 'lambda_l1': 29.782572825444007, 'lambda_l2': 5.1211225902930835, 'min_gain_to_split': 0.18030446870444447, 'min_data_per_group': 346, 'max_cat_threshold': 268, 'cat_l2': 62.50914642127281, 'cat_smooth': 379.560142094743, 'max_cat_to_onehot': 10, 'max_bin': 702, 'min_data_in_bin': 33}. Best is trial 1 with value: 0.06836650615816085.\n",
      "[I 2020-08-27 17:20:18,121] Trial 2 finished with value: 0.06758933757833765 and parameters: {'num_iterations': 91, 'learning_rate': 0.08081207670528569, 'num_leaves': 45, 'max_depth': 30, 'min_data_in_leaf': 52, 'min_sum_hessian_in_leaf': 0.14564408551350866, 'bagging_freq': 1, 'bagging_fraction': 0.7421054227078454, 'feature_fraction': 0.9553626362706973, 'lambda_l1': 33.48323382484937, 'lambda_l2': 25.91037545717554, 'min_gain_to_split': 0.039619274608901967, 'min_data_per_group': 284, 'max_cat_threshold': 377, 'cat_l2': 11.820566283956346, 'cat_smooth': 119.75451760945361, 'max_cat_to_onehot': 11, 'max_bin': 150, 'min_data_in_bin': 10}. Best is trial 2 with value: 0.06758933757833765.\n",
      "[I 2020-08-27 17:20:18,608] Trial 3 finished with value: 0.0659840967165325 and parameters: {'num_iterations': 98, 'learning_rate': 0.48221228650561615, 'num_leaves': 222, 'max_depth': 14, 'min_data_in_leaf': 343, 'min_sum_hessian_in_leaf': 0.16336286068921954, 'bagging_freq': 0, 'bagging_fraction': 0.9794991100182464, 'feature_fraction': 0.63728942034678, 'lambda_l1': 38.02920861460169, 'lambda_l2': 39.83162229799324, 'min_gain_to_split': 0.056989793815496015, 'min_data_per_group': 227, 'max_cat_threshold': 485, 'cat_l2': 45.413369095139196, 'cat_smooth': 87.08565525956897, 'max_cat_to_onehot': 27, 'max_bin': 632, 'min_data_in_bin': 34}. Best is trial 3 with value: 0.0659840967165325.\n",
      "[I 2020-08-27 17:20:21,838] Trial 0 finished with value: 0.07038540977490561 and parameters: {'num_iterations': 94, 'learning_rate': 0.4032261012568846, 'num_leaves': 121, 'max_depth': 19, 'min_data_in_leaf': 369, 'min_sum_hessian_in_leaf': 0.1364906231563803, 'bagging_freq': 0, 'bagging_fraction': 0.7271848812213663, 'feature_fraction': 0.6779042758880096, 'lambda_l1': 55.32233457830071, 'lambda_l2': 42.84656691186624, 'min_gain_to_split': 0.07127895884983065, 'min_data_per_group': 431, 'max_cat_threshold': 70, 'cat_l2': 41.37300385050969, 'cat_smooth': 1229.1342054498475, 'max_cat_to_onehot': 16, 'max_bin': 326, 'min_data_in_bin': 37}. Best is trial 0 with value: 0.07038540977490561.\n",
      "[I 2020-08-27 17:20:22,510] Trial 1 finished with value: 0.06961273482472338 and parameters: {'num_iterations': 67, 'learning_rate': 0.03746294609752311, 'num_leaves': 158, 'max_depth': 12, 'min_data_in_leaf': 32, 'min_sum_hessian_in_leaf': 0.14511985173887948, 'bagging_freq': 0, 'bagging_fraction': 0.675761436394881, 'feature_fraction': 0.6330760786411519, 'lambda_l1': 29.782572825444007, 'lambda_l2': 5.1211225902930835, 'min_gain_to_split': 0.18030446870444447, 'min_data_per_group': 346, 'max_cat_threshold': 268, 'cat_l2': 62.50914642127281, 'cat_smooth': 379.560142094743, 'max_cat_to_onehot': 10, 'max_bin': 702, 'min_data_in_bin': 33}. Best is trial 1 with value: 0.06961273482472338.\n",
      "[I 2020-08-27 17:20:23,954] Trial 2 finished with value: 0.06898299947970914 and parameters: {'num_iterations': 91, 'learning_rate': 0.08081207670528569, 'num_leaves': 45, 'max_depth': 30, 'min_data_in_leaf': 52, 'min_sum_hessian_in_leaf': 0.14564408551350866, 'bagging_freq': 1, 'bagging_fraction': 0.7421054227078454, 'feature_fraction': 0.9553626362706973, 'lambda_l1': 33.48323382484937, 'lambda_l2': 25.91037545717554, 'min_gain_to_split': 0.039619274608901967, 'min_data_per_group': 284, 'max_cat_threshold': 377, 'cat_l2': 11.820566283956346, 'cat_smooth': 119.75451760945361, 'max_cat_to_onehot': 11, 'max_bin': 150, 'min_data_in_bin': 10}. Best is trial 2 with value: 0.06898299947970914.\n",
      "[I 2020-08-27 17:20:24,508] Trial 3 finished with value: 0.06708310927532665 and parameters: {'num_iterations': 98, 'learning_rate': 0.48221228650561615, 'num_leaves': 222, 'max_depth': 14, 'min_data_in_leaf': 343, 'min_sum_hessian_in_leaf': 0.16336286068921954, 'bagging_freq': 0, 'bagging_fraction': 0.9794991100182464, 'feature_fraction': 0.63728942034678, 'lambda_l1': 38.02920861460169, 'lambda_l2': 39.83162229799324, 'min_gain_to_split': 0.056989793815496015, 'min_data_per_group': 227, 'max_cat_threshold': 485, 'cat_l2': 45.413369095139196, 'cat_smooth': 87.08565525956897, 'max_cat_to_onehot': 27, 'max_bin': 632, 'min_data_in_bin': 34}. Best is trial 3 with value: 0.06708310927532665.\n",
      "[I 2020-08-27 17:20:27,812] Trial 0 finished with value: 0.07271234035437805 and parameters: {'num_iterations': 94, 'learning_rate': 0.4032261012568846, 'num_leaves': 121, 'max_depth': 19, 'min_data_in_leaf': 369, 'min_sum_hessian_in_leaf': 0.1364906231563803, 'bagging_freq': 0, 'bagging_fraction': 0.7271848812213663, 'feature_fraction': 0.6779042758880096, 'lambda_l1': 55.32233457830071, 'lambda_l2': 42.84656691186624, 'min_gain_to_split': 0.07127895884983065, 'min_data_per_group': 431, 'max_cat_threshold': 70, 'cat_l2': 41.37300385050969, 'cat_smooth': 1229.1342054498475, 'max_cat_to_onehot': 16, 'max_bin': 326, 'min_data_in_bin': 37}. Best is trial 0 with value: 0.07271234035437805.\n",
      "[I 2020-08-27 17:20:28,516] Trial 1 finished with value: 0.07146326913862176 and parameters: {'num_iterations': 67, 'learning_rate': 0.03746294609752311, 'num_leaves': 158, 'max_depth': 12, 'min_data_in_leaf': 32, 'min_sum_hessian_in_leaf': 0.14511985173887948, 'bagging_freq': 0, 'bagging_fraction': 0.675761436394881, 'feature_fraction': 0.6330760786411519, 'lambda_l1': 29.782572825444007, 'lambda_l2': 5.1211225902930835, 'min_gain_to_split': 0.18030446870444447, 'min_data_per_group': 346, 'max_cat_threshold': 268, 'cat_l2': 62.50914642127281, 'cat_smooth': 379.560142094743, 'max_cat_to_onehot': 10, 'max_bin': 702, 'min_data_in_bin': 33}. Best is trial 1 with value: 0.07146326913862176.\n",
      "[I 2020-08-27 17:20:29,910] Trial 2 finished with value: 0.07115615487746939 and parameters: {'num_iterations': 91, 'learning_rate': 0.08081207670528569, 'num_leaves': 45, 'max_depth': 30, 'min_data_in_leaf': 52, 'min_sum_hessian_in_leaf': 0.14564408551350866, 'bagging_freq': 1, 'bagging_fraction': 0.7421054227078454, 'feature_fraction': 0.9553626362706973, 'lambda_l1': 33.48323382484937, 'lambda_l2': 25.91037545717554, 'min_gain_to_split': 0.039619274608901967, 'min_data_per_group': 284, 'max_cat_threshold': 377, 'cat_l2': 11.820566283956346, 'cat_smooth': 119.75451760945361, 'max_cat_to_onehot': 11, 'max_bin': 150, 'min_data_in_bin': 10}. Best is trial 2 with value: 0.07115615487746939.\n",
      "[I 2020-08-27 17:20:30,461] Trial 3 finished with value: 0.07087352540129742 and parameters: {'num_iterations': 98, 'learning_rate': 0.48221228650561615, 'num_leaves': 222, 'max_depth': 14, 'min_data_in_leaf': 343, 'min_sum_hessian_in_leaf': 0.16336286068921954, 'bagging_freq': 0, 'bagging_fraction': 0.9794991100182464, 'feature_fraction': 0.63728942034678, 'lambda_l1': 38.02920861460169, 'lambda_l2': 39.83162229799324, 'min_gain_to_split': 0.056989793815496015, 'min_data_per_group': 227, 'max_cat_threshold': 485, 'cat_l2': 45.413369095139196, 'cat_smooth': 87.08565525956897, 'max_cat_to_onehot': 27, 'max_bin': 632, 'min_data_in_bin': 34}. Best is trial 3 with value: 0.07087352540129742.\n",
      "[I 2020-08-27 17:20:33,524] Trial 0 finished with value: 0.07283932972751893 and parameters: {'num_iterations': 94, 'learning_rate': 0.4032261012568846, 'num_leaves': 121, 'max_depth': 19, 'min_data_in_leaf': 369, 'min_sum_hessian_in_leaf': 0.1364906231563803, 'bagging_freq': 0, 'bagging_fraction': 0.7271848812213663, 'feature_fraction': 0.6779042758880096, 'lambda_l1': 55.32233457830071, 'lambda_l2': 42.84656691186624, 'min_gain_to_split': 0.07127895884983065, 'min_data_per_group': 431, 'max_cat_threshold': 70, 'cat_l2': 41.37300385050969, 'cat_smooth': 1229.1342054498475, 'max_cat_to_onehot': 16, 'max_bin': 326, 'min_data_in_bin': 37}. Best is trial 0 with value: 0.07283932972751893.\n",
      "[I 2020-08-27 17:20:34,162] Trial 1 finished with value: 0.0705494628711622 and parameters: {'num_iterations': 67, 'learning_rate': 0.03746294609752311, 'num_leaves': 158, 'max_depth': 12, 'min_data_in_leaf': 32, 'min_sum_hessian_in_leaf': 0.14511985173887948, 'bagging_freq': 0, 'bagging_fraction': 0.675761436394881, 'feature_fraction': 0.6330760786411519, 'lambda_l1': 29.782572825444007, 'lambda_l2': 5.1211225902930835, 'min_gain_to_split': 0.18030446870444447, 'min_data_per_group': 346, 'max_cat_threshold': 268, 'cat_l2': 62.50914642127281, 'cat_smooth': 379.560142094743, 'max_cat_to_onehot': 10, 'max_bin': 702, 'min_data_in_bin': 33}. Best is trial 1 with value: 0.0705494628711622.\n",
      "[I 2020-08-27 17:20:35,489] Trial 2 finished with value: 0.0705987805993301 and parameters: {'num_iterations': 91, 'learning_rate': 0.08081207670528569, 'num_leaves': 45, 'max_depth': 30, 'min_data_in_leaf': 52, 'min_sum_hessian_in_leaf': 0.14564408551350866, 'bagging_freq': 1, 'bagging_fraction': 0.7421054227078454, 'feature_fraction': 0.9553626362706973, 'lambda_l1': 33.48323382484937, 'lambda_l2': 25.91037545717554, 'min_gain_to_split': 0.039619274608901967, 'min_data_per_group': 284, 'max_cat_threshold': 377, 'cat_l2': 11.820566283956346, 'cat_smooth': 119.75451760945361, 'max_cat_to_onehot': 11, 'max_bin': 150, 'min_data_in_bin': 10}. Best is trial 1 with value: 0.0705494628711622.\n",
      "[I 2020-08-27 17:20:35,843] Trial 3 finished with value: 0.0696079296610207 and parameters: {'num_iterations': 98, 'learning_rate': 0.48221228650561615, 'num_leaves': 222, 'max_depth': 14, 'min_data_in_leaf': 343, 'min_sum_hessian_in_leaf': 0.16336286068921954, 'bagging_freq': 0, 'bagging_fraction': 0.9794991100182464, 'feature_fraction': 0.63728942034678, 'lambda_l1': 38.02920861460169, 'lambda_l2': 39.83162229799324, 'min_gain_to_split': 0.056989793815496015, 'min_data_per_group': 227, 'max_cat_threshold': 485, 'cat_l2': 45.413369095139196, 'cat_smooth': 87.08565525956897, 'max_cat_to_onehot': 27, 'max_bin': 632, 'min_data_in_bin': 34}. Best is trial 3 with value: 0.0696079296610207.\n",
      "[I 2020-08-27 17:20:38,670] Trial 0 finished with value: 0.07237796920773289 and parameters: {'num_iterations': 94, 'learning_rate': 0.4032261012568846, 'num_leaves': 121, 'max_depth': 19, 'min_data_in_leaf': 369, 'min_sum_hessian_in_leaf': 0.1364906231563803, 'bagging_freq': 0, 'bagging_fraction': 0.7271848812213663, 'feature_fraction': 0.6779042758880096, 'lambda_l1': 55.32233457830071, 'lambda_l2': 42.84656691186624, 'min_gain_to_split': 0.07127895884983065, 'min_data_per_group': 431, 'max_cat_threshold': 70, 'cat_l2': 41.37300385050969, 'cat_smooth': 1229.1342054498475, 'max_cat_to_onehot': 16, 'max_bin': 326, 'min_data_in_bin': 37}. Best is trial 0 with value: 0.07237796920773289.\n",
      "[I 2020-08-27 17:20:39,171] Trial 1 finished with value: 0.07051386623891791 and parameters: {'num_iterations': 67, 'learning_rate': 0.03746294609752311, 'num_leaves': 158, 'max_depth': 12, 'min_data_in_leaf': 32, 'min_sum_hessian_in_leaf': 0.14511985173887948, 'bagging_freq': 0, 'bagging_fraction': 0.675761436394881, 'feature_fraction': 0.6330760786411519, 'lambda_l1': 29.782572825444007, 'lambda_l2': 5.1211225902930835, 'min_gain_to_split': 0.18030446870444447, 'min_data_per_group': 346, 'max_cat_threshold': 268, 'cat_l2': 62.50914642127281, 'cat_smooth': 379.560142094743, 'max_cat_to_onehot': 10, 'max_bin': 702, 'min_data_in_bin': 33}. Best is trial 1 with value: 0.07051386623891791.\n",
      "[I 2020-08-27 17:20:40,237] Trial 2 finished with value: 0.07091218654499325 and parameters: {'num_iterations': 91, 'learning_rate': 0.08081207670528569, 'num_leaves': 45, 'max_depth': 30, 'min_data_in_leaf': 52, 'min_sum_hessian_in_leaf': 0.14564408551350866, 'bagging_freq': 1, 'bagging_fraction': 0.7421054227078454, 'feature_fraction': 0.9553626362706973, 'lambda_l1': 33.48323382484937, 'lambda_l2': 25.91037545717554, 'min_gain_to_split': 0.039619274608901967, 'min_data_per_group': 284, 'max_cat_threshold': 377, 'cat_l2': 11.820566283956346, 'cat_smooth': 119.75451760945361, 'max_cat_to_onehot': 11, 'max_bin': 150, 'min_data_in_bin': 10}. Best is trial 1 with value: 0.07051386623891791.\n",
      "[I 2020-08-27 17:20:40,656] Trial 3 finished with value: 0.0688809794785305 and parameters: {'num_iterations': 98, 'learning_rate': 0.48221228650561615, 'num_leaves': 222, 'max_depth': 14, 'min_data_in_leaf': 343, 'min_sum_hessian_in_leaf': 0.16336286068921954, 'bagging_freq': 0, 'bagging_fraction': 0.9794991100182464, 'feature_fraction': 0.63728942034678, 'lambda_l1': 38.02920861460169, 'lambda_l2': 39.83162229799324, 'min_gain_to_split': 0.056989793815496015, 'min_data_per_group': 227, 'max_cat_threshold': 485, 'cat_l2': 45.413369095139196, 'cat_smooth': 87.08565525956897, 'max_cat_to_onehot': 27, 'max_bin': 632, 'min_data_in_bin': 34}. Best is trial 3 with value: 0.0688809794785305.\n",
      "[I 2020-08-27 17:20:43,442] Trial 0 finished with value: 0.07261417177710096 and parameters: {'num_iterations': 94, 'learning_rate': 0.4032261012568846, 'num_leaves': 121, 'max_depth': 19, 'min_data_in_leaf': 369, 'min_sum_hessian_in_leaf': 0.1364906231563803, 'bagging_freq': 0, 'bagging_fraction': 0.7271848812213663, 'feature_fraction': 0.6779042758880096, 'lambda_l1': 55.32233457830071, 'lambda_l2': 42.84656691186624, 'min_gain_to_split': 0.07127895884983065, 'min_data_per_group': 431, 'max_cat_threshold': 70, 'cat_l2': 41.37300385050969, 'cat_smooth': 1229.1342054498475, 'max_cat_to_onehot': 16, 'max_bin': 326, 'min_data_in_bin': 37}. Best is trial 0 with value: 0.07261417177710096.\n",
      "[I 2020-08-27 17:20:43,858] Trial 1 finished with value: 0.07193293348629248 and parameters: {'num_iterations': 67, 'learning_rate': 0.03746294609752311, 'num_leaves': 158, 'max_depth': 12, 'min_data_in_leaf': 32, 'min_sum_hessian_in_leaf': 0.14511985173887948, 'bagging_freq': 0, 'bagging_fraction': 0.675761436394881, 'feature_fraction': 0.6330760786411519, 'lambda_l1': 29.782572825444007, 'lambda_l2': 5.1211225902930835, 'min_gain_to_split': 0.18030446870444447, 'min_data_per_group': 346, 'max_cat_threshold': 268, 'cat_l2': 62.50914642127281, 'cat_smooth': 379.560142094743, 'max_cat_to_onehot': 10, 'max_bin': 702, 'min_data_in_bin': 33}. Best is trial 1 with value: 0.07193293348629248.\n",
      "[I 2020-08-27 17:20:44,818] Trial 2 finished with value: 0.07029207785343314 and parameters: {'num_iterations': 91, 'learning_rate': 0.08081207670528569, 'num_leaves': 45, 'max_depth': 30, 'min_data_in_leaf': 52, 'min_sum_hessian_in_leaf': 0.14564408551350866, 'bagging_freq': 1, 'bagging_fraction': 0.7421054227078454, 'feature_fraction': 0.9553626362706973, 'lambda_l1': 33.48323382484937, 'lambda_l2': 25.91037545717554, 'min_gain_to_split': 0.039619274608901967, 'min_data_per_group': 284, 'max_cat_threshold': 377, 'cat_l2': 11.820566283956346, 'cat_smooth': 119.75451760945361, 'max_cat_to_onehot': 11, 'max_bin': 150, 'min_data_in_bin': 10}. Best is trial 2 with value: 0.07029207785343314.\n",
      "[I 2020-08-27 17:20:45,257] Trial 3 finished with value: 0.06977612203601671 and parameters: {'num_iterations': 98, 'learning_rate': 0.48221228650561615, 'num_leaves': 222, 'max_depth': 14, 'min_data_in_leaf': 343, 'min_sum_hessian_in_leaf': 0.16336286068921954, 'bagging_freq': 0, 'bagging_fraction': 0.9794991100182464, 'feature_fraction': 0.63728942034678, 'lambda_l1': 38.02920861460169, 'lambda_l2': 39.83162229799324, 'min_gain_to_split': 0.056989793815496015, 'min_data_per_group': 227, 'max_cat_threshold': 485, 'cat_l2': 45.413369095139196, 'cat_smooth': 87.08565525956897, 'max_cat_to_onehot': 27, 'max_bin': 632, 'min_data_in_bin': 34}. Best is trial 3 with value: 0.06977612203601671.\n",
      "[I 2020-08-27 17:20:47,729] Trial 0 finished with value: 0.07116394035507932 and parameters: {'num_iterations': 94, 'learning_rate': 0.4032261012568846, 'num_leaves': 121, 'max_depth': 19, 'min_data_in_leaf': 369, 'min_sum_hessian_in_leaf': 0.1364906231563803, 'bagging_freq': 0, 'bagging_fraction': 0.7271848812213663, 'feature_fraction': 0.6779042758880096, 'lambda_l1': 55.32233457830071, 'lambda_l2': 42.84656691186624, 'min_gain_to_split': 0.07127895884983065, 'min_data_per_group': 431, 'max_cat_threshold': 70, 'cat_l2': 41.37300385050969, 'cat_smooth': 1229.1342054498475, 'max_cat_to_onehot': 16, 'max_bin': 326, 'min_data_in_bin': 37}. Best is trial 0 with value: 0.07116394035507932.\n",
      "[I 2020-08-27 17:20:48,139] Trial 1 finished with value: 0.07090244001450177 and parameters: {'num_iterations': 67, 'learning_rate': 0.03746294609752311, 'num_leaves': 158, 'max_depth': 12, 'min_data_in_leaf': 32, 'min_sum_hessian_in_leaf': 0.14511985173887948, 'bagging_freq': 0, 'bagging_fraction': 0.675761436394881, 'feature_fraction': 0.6330760786411519, 'lambda_l1': 29.782572825444007, 'lambda_l2': 5.1211225902930835, 'min_gain_to_split': 0.18030446870444447, 'min_data_per_group': 346, 'max_cat_threshold': 268, 'cat_l2': 62.50914642127281, 'cat_smooth': 379.560142094743, 'max_cat_to_onehot': 10, 'max_bin': 702, 'min_data_in_bin': 33}. Best is trial 1 with value: 0.07090244001450177.\n",
      "[I 2020-08-27 17:20:49,066] Trial 2 finished with value: 0.0695022047331818 and parameters: {'num_iterations': 91, 'learning_rate': 0.08081207670528569, 'num_leaves': 45, 'max_depth': 30, 'min_data_in_leaf': 52, 'min_sum_hessian_in_leaf': 0.14564408551350866, 'bagging_freq': 1, 'bagging_fraction': 0.7421054227078454, 'feature_fraction': 0.9553626362706973, 'lambda_l1': 33.48323382484937, 'lambda_l2': 25.91037545717554, 'min_gain_to_split': 0.039619274608901967, 'min_data_per_group': 284, 'max_cat_threshold': 377, 'cat_l2': 11.820566283956346, 'cat_smooth': 119.75451760945361, 'max_cat_to_onehot': 11, 'max_bin': 150, 'min_data_in_bin': 10}. Best is trial 2 with value: 0.0695022047331818.\n",
      "[I 2020-08-27 17:20:49,375] Trial 3 finished with value: 0.06904054734110421 and parameters: {'num_iterations': 98, 'learning_rate': 0.48221228650561615, 'num_leaves': 222, 'max_depth': 14, 'min_data_in_leaf': 343, 'min_sum_hessian_in_leaf': 0.16336286068921954, 'bagging_freq': 0, 'bagging_fraction': 0.9794991100182464, 'feature_fraction': 0.63728942034678, 'lambda_l1': 38.02920861460169, 'lambda_l2': 39.83162229799324, 'min_gain_to_split': 0.056989793815496015, 'min_data_per_group': 227, 'max_cat_threshold': 485, 'cat_l2': 45.413369095139196, 'cat_smooth': 87.08565525956897, 'max_cat_to_onehot': 27, 'max_bin': 632, 'min_data_in_bin': 34}. Best is trial 3 with value: 0.06904054734110421.\n",
      "[I 2020-08-27 17:20:51,841] Trial 0 finished with value: 0.06983192769443329 and parameters: {'num_iterations': 94, 'learning_rate': 0.4032261012568846, 'num_leaves': 121, 'max_depth': 19, 'min_data_in_leaf': 369, 'min_sum_hessian_in_leaf': 0.1364906231563803, 'bagging_freq': 0, 'bagging_fraction': 0.7271848812213663, 'feature_fraction': 0.6779042758880096, 'lambda_l1': 55.32233457830071, 'lambda_l2': 42.84656691186624, 'min_gain_to_split': 0.07127895884983065, 'min_data_per_group': 431, 'max_cat_threshold': 70, 'cat_l2': 41.37300385050969, 'cat_smooth': 1229.1342054498475, 'max_cat_to_onehot': 16, 'max_bin': 326, 'min_data_in_bin': 37}. Best is trial 0 with value: 0.06983192769443329.\n",
      "[I 2020-08-27 17:20:52,192] Trial 1 finished with value: 0.07005002372950724 and parameters: {'num_iterations': 67, 'learning_rate': 0.03746294609752311, 'num_leaves': 158, 'max_depth': 12, 'min_data_in_leaf': 32, 'min_sum_hessian_in_leaf': 0.14511985173887948, 'bagging_freq': 0, 'bagging_fraction': 0.675761436394881, 'feature_fraction': 0.6330760786411519, 'lambda_l1': 29.782572825444007, 'lambda_l2': 5.1211225902930835, 'min_gain_to_split': 0.18030446870444447, 'min_data_per_group': 346, 'max_cat_threshold': 268, 'cat_l2': 62.50914642127281, 'cat_smooth': 379.560142094743, 'max_cat_to_onehot': 10, 'max_bin': 702, 'min_data_in_bin': 33}. Best is trial 0 with value: 0.06983192769443329.\n",
      "[I 2020-08-27 17:20:52,987] Trial 2 finished with value: 0.06896362926421234 and parameters: {'num_iterations': 91, 'learning_rate': 0.08081207670528569, 'num_leaves': 45, 'max_depth': 30, 'min_data_in_leaf': 52, 'min_sum_hessian_in_leaf': 0.14564408551350866, 'bagging_freq': 1, 'bagging_fraction': 0.7421054227078454, 'feature_fraction': 0.9553626362706973, 'lambda_l1': 33.48323382484937, 'lambda_l2': 25.91037545717554, 'min_gain_to_split': 0.039619274608901967, 'min_data_per_group': 284, 'max_cat_threshold': 377, 'cat_l2': 11.820566283956346, 'cat_smooth': 119.75451760945361, 'max_cat_to_onehot': 11, 'max_bin': 150, 'min_data_in_bin': 10}. Best is trial 2 with value: 0.06896362926421234.\n",
      "[I 2020-08-27 17:20:53,289] Trial 3 finished with value: 0.06843879671826102 and parameters: {'num_iterations': 98, 'learning_rate': 0.48221228650561615, 'num_leaves': 222, 'max_depth': 14, 'min_data_in_leaf': 343, 'min_sum_hessian_in_leaf': 0.16336286068921954, 'bagging_freq': 0, 'bagging_fraction': 0.9794991100182464, 'feature_fraction': 0.63728942034678, 'lambda_l1': 38.02920861460169, 'lambda_l2': 39.83162229799324, 'min_gain_to_split': 0.056989793815496015, 'min_data_per_group': 227, 'max_cat_threshold': 485, 'cat_l2': 45.413369095139196, 'cat_smooth': 87.08565525956897, 'max_cat_to_onehot': 27, 'max_bin': 632, 'min_data_in_bin': 34}. Best is trial 3 with value: 0.06843879671826102.\n",
      "[I 2020-08-27 17:20:55,682] Trial 0 finished with value: 0.069528989030134 and parameters: {'num_iterations': 94, 'learning_rate': 0.4032261012568846, 'num_leaves': 121, 'max_depth': 19, 'min_data_in_leaf': 369, 'min_sum_hessian_in_leaf': 0.1364906231563803, 'bagging_freq': 0, 'bagging_fraction': 0.7271848812213663, 'feature_fraction': 0.6779042758880096, 'lambda_l1': 55.32233457830071, 'lambda_l2': 42.84656691186624, 'min_gain_to_split': 0.07127895884983065, 'min_data_per_group': 431, 'max_cat_threshold': 70, 'cat_l2': 41.37300385050969, 'cat_smooth': 1229.1342054498475, 'max_cat_to_onehot': 16, 'max_bin': 326, 'min_data_in_bin': 37}. Best is trial 0 with value: 0.069528989030134.\n",
      "[I 2020-08-27 17:20:56,040] Trial 1 finished with value: 0.07012850186868397 and parameters: {'num_iterations': 67, 'learning_rate': 0.03746294609752311, 'num_leaves': 158, 'max_depth': 12, 'min_data_in_leaf': 32, 'min_sum_hessian_in_leaf': 0.14511985173887948, 'bagging_freq': 0, 'bagging_fraction': 0.675761436394881, 'feature_fraction': 0.6330760786411519, 'lambda_l1': 29.782572825444007, 'lambda_l2': 5.1211225902930835, 'min_gain_to_split': 0.18030446870444447, 'min_data_per_group': 346, 'max_cat_threshold': 268, 'cat_l2': 62.50914642127281, 'cat_smooth': 379.560142094743, 'max_cat_to_onehot': 10, 'max_bin': 702, 'min_data_in_bin': 33}. Best is trial 0 with value: 0.069528989030134.\n",
      "[I 2020-08-27 17:20:57,003] Trial 2 finished with value: 0.0689780027911073 and parameters: {'num_iterations': 91, 'learning_rate': 0.08081207670528569, 'num_leaves': 45, 'max_depth': 30, 'min_data_in_leaf': 52, 'min_sum_hessian_in_leaf': 0.14564408551350866, 'bagging_freq': 1, 'bagging_fraction': 0.7421054227078454, 'feature_fraction': 0.9553626362706973, 'lambda_l1': 33.48323382484937, 'lambda_l2': 25.91037545717554, 'min_gain_to_split': 0.039619274608901967, 'min_data_per_group': 284, 'max_cat_threshold': 377, 'cat_l2': 11.820566283956346, 'cat_smooth': 119.75451760945361, 'max_cat_to_onehot': 11, 'max_bin': 150, 'min_data_in_bin': 10}. Best is trial 2 with value: 0.0689780027911073.\n",
      "[I 2020-08-27 17:20:57,380] Trial 3 finished with value: 0.06794008111373022 and parameters: {'num_iterations': 98, 'learning_rate': 0.48221228650561615, 'num_leaves': 222, 'max_depth': 14, 'min_data_in_leaf': 343, 'min_sum_hessian_in_leaf': 0.16336286068921954, 'bagging_freq': 0, 'bagging_fraction': 0.9794991100182464, 'feature_fraction': 0.63728942034678, 'lambda_l1': 38.02920861460169, 'lambda_l2': 39.83162229799324, 'min_gain_to_split': 0.056989793815496015, 'min_data_per_group': 227, 'max_cat_threshold': 485, 'cat_l2': 45.413369095139196, 'cat_smooth': 87.08565525956897, 'max_cat_to_onehot': 27, 'max_bin': 632, 'min_data_in_bin': 34}. Best is trial 3 with value: 0.06794008111373022.\n",
      "[I 2020-08-27 17:21:00,123] Trial 0 finished with value: 0.0698779977782249 and parameters: {'num_iterations': 94, 'learning_rate': 0.4032261012568846, 'num_leaves': 121, 'max_depth': 19, 'min_data_in_leaf': 369, 'min_sum_hessian_in_leaf': 0.1364906231563803, 'bagging_freq': 0, 'bagging_fraction': 0.7271848812213663, 'feature_fraction': 0.6779042758880096, 'lambda_l1': 55.32233457830071, 'lambda_l2': 42.84656691186624, 'min_gain_to_split': 0.07127895884983065, 'min_data_per_group': 431, 'max_cat_threshold': 70, 'cat_l2': 41.37300385050969, 'cat_smooth': 1229.1342054498475, 'max_cat_to_onehot': 16, 'max_bin': 326, 'min_data_in_bin': 37}. Best is trial 0 with value: 0.0698779977782249.\n",
      "[I 2020-08-27 17:21:00,534] Trial 1 finished with value: 0.06953345237631918 and parameters: {'num_iterations': 67, 'learning_rate': 0.03746294609752311, 'num_leaves': 158, 'max_depth': 12, 'min_data_in_leaf': 32, 'min_sum_hessian_in_leaf': 0.14511985173887948, 'bagging_freq': 0, 'bagging_fraction': 0.675761436394881, 'feature_fraction': 0.6330760786411519, 'lambda_l1': 29.782572825444007, 'lambda_l2': 5.1211225902930835, 'min_gain_to_split': 0.18030446870444447, 'min_data_per_group': 346, 'max_cat_threshold': 268, 'cat_l2': 62.50914642127281, 'cat_smooth': 379.560142094743, 'max_cat_to_onehot': 10, 'max_bin': 702, 'min_data_in_bin': 33}. Best is trial 1 with value: 0.06953345237631918.\n",
      "[I 2020-08-27 17:21:01,325] Trial 2 finished with value: 0.06904856805138795 and parameters: {'num_iterations': 91, 'learning_rate': 0.08081207670528569, 'num_leaves': 45, 'max_depth': 30, 'min_data_in_leaf': 52, 'min_sum_hessian_in_leaf': 0.14564408551350866, 'bagging_freq': 1, 'bagging_fraction': 0.7421054227078454, 'feature_fraction': 0.9553626362706973, 'lambda_l1': 33.48323382484937, 'lambda_l2': 25.91037545717554, 'min_gain_to_split': 0.039619274608901967, 'min_data_per_group': 284, 'max_cat_threshold': 377, 'cat_l2': 11.820566283956346, 'cat_smooth': 119.75451760945361, 'max_cat_to_onehot': 11, 'max_bin': 150, 'min_data_in_bin': 10}. Best is trial 2 with value: 0.06904856805138795.\n",
      "[I 2020-08-27 17:21:01,598] Trial 3 finished with value: 0.06796467779080126 and parameters: {'num_iterations': 98, 'learning_rate': 0.48221228650561615, 'num_leaves': 222, 'max_depth': 14, 'min_data_in_leaf': 343, 'min_sum_hessian_in_leaf': 0.16336286068921954, 'bagging_freq': 0, 'bagging_fraction': 0.9794991100182464, 'feature_fraction': 0.63728942034678, 'lambda_l1': 38.02920861460169, 'lambda_l2': 39.83162229799324, 'min_gain_to_split': 0.056989793815496015, 'min_data_per_group': 227, 'max_cat_threshold': 485, 'cat_l2': 45.413369095139196, 'cat_smooth': 87.08565525956897, 'max_cat_to_onehot': 27, 'max_bin': 632, 'min_data_in_bin': 34}. Best is trial 3 with value: 0.06796467779080126.\n",
      "[I 2020-08-27 17:21:04,075] Trial 0 finished with value: 0.06937490803581228 and parameters: {'num_iterations': 94, 'learning_rate': 0.4032261012568846, 'num_leaves': 121, 'max_depth': 19, 'min_data_in_leaf': 369, 'min_sum_hessian_in_leaf': 0.1364906231563803, 'bagging_freq': 0, 'bagging_fraction': 0.7271848812213663, 'feature_fraction': 0.6779042758880096, 'lambda_l1': 55.32233457830071, 'lambda_l2': 42.84656691186624, 'min_gain_to_split': 0.07127895884983065, 'min_data_per_group': 431, 'max_cat_threshold': 70, 'cat_l2': 41.37300385050969, 'cat_smooth': 1229.1342054498475, 'max_cat_to_onehot': 16, 'max_bin': 326, 'min_data_in_bin': 37}. Best is trial 0 with value: 0.06937490803581228.\n",
      "[I 2020-08-27 17:21:04,421] Trial 1 finished with value: 0.0687773915993792 and parameters: {'num_iterations': 67, 'learning_rate': 0.03746294609752311, 'num_leaves': 158, 'max_depth': 12, 'min_data_in_leaf': 32, 'min_sum_hessian_in_leaf': 0.14511985173887948, 'bagging_freq': 0, 'bagging_fraction': 0.675761436394881, 'feature_fraction': 0.6330760786411519, 'lambda_l1': 29.782572825444007, 'lambda_l2': 5.1211225902930835, 'min_gain_to_split': 0.18030446870444447, 'min_data_per_group': 346, 'max_cat_threshold': 268, 'cat_l2': 62.50914642127281, 'cat_smooth': 379.560142094743, 'max_cat_to_onehot': 10, 'max_bin': 702, 'min_data_in_bin': 33}. Best is trial 1 with value: 0.0687773915993792.\n",
      "[I 2020-08-27 17:21:05,248] Trial 2 finished with value: 0.0683894254289682 and parameters: {'num_iterations': 91, 'learning_rate': 0.08081207670528569, 'num_leaves': 45, 'max_depth': 30, 'min_data_in_leaf': 52, 'min_sum_hessian_in_leaf': 0.14564408551350866, 'bagging_freq': 1, 'bagging_fraction': 0.7421054227078454, 'feature_fraction': 0.9553626362706973, 'lambda_l1': 33.48323382484937, 'lambda_l2': 25.91037545717554, 'min_gain_to_split': 0.039619274608901967, 'min_data_per_group': 284, 'max_cat_threshold': 377, 'cat_l2': 11.820566283956346, 'cat_smooth': 119.75451760945361, 'max_cat_to_onehot': 11, 'max_bin': 150, 'min_data_in_bin': 10}. Best is trial 2 with value: 0.0683894254289682.\n",
      "[I 2020-08-27 17:21:05,532] Trial 3 finished with value: 0.06737007913031384 and parameters: {'num_iterations': 98, 'learning_rate': 0.48221228650561615, 'num_leaves': 222, 'max_depth': 14, 'min_data_in_leaf': 343, 'min_sum_hessian_in_leaf': 0.16336286068921954, 'bagging_freq': 0, 'bagging_fraction': 0.9794991100182464, 'feature_fraction': 0.63728942034678, 'lambda_l1': 38.02920861460169, 'lambda_l2': 39.83162229799324, 'min_gain_to_split': 0.056989793815496015, 'min_data_per_group': 227, 'max_cat_threshold': 485, 'cat_l2': 45.413369095139196, 'cat_smooth': 87.08565525956897, 'max_cat_to_onehot': 27, 'max_bin': 632, 'min_data_in_bin': 34}. Best is trial 3 with value: 0.06737007913031384.\n",
      "[I 2020-08-27 17:21:07,871] Trial 0 finished with value: 0.06946994691731487 and parameters: {'num_iterations': 94, 'learning_rate': 0.4032261012568846, 'num_leaves': 121, 'max_depth': 19, 'min_data_in_leaf': 369, 'min_sum_hessian_in_leaf': 0.1364906231563803, 'bagging_freq': 0, 'bagging_fraction': 0.7271848812213663, 'feature_fraction': 0.6779042758880096, 'lambda_l1': 55.32233457830071, 'lambda_l2': 42.84656691186624, 'min_gain_to_split': 0.07127895884983065, 'min_data_per_group': 431, 'max_cat_threshold': 70, 'cat_l2': 41.37300385050969, 'cat_smooth': 1229.1342054498475, 'max_cat_to_onehot': 16, 'max_bin': 326, 'min_data_in_bin': 37}. Best is trial 0 with value: 0.06946994691731487.\n",
      "[I 2020-08-27 17:21:08,210] Trial 1 finished with value: 0.06913457900677714 and parameters: {'num_iterations': 67, 'learning_rate': 0.03746294609752311, 'num_leaves': 158, 'max_depth': 12, 'min_data_in_leaf': 32, 'min_sum_hessian_in_leaf': 0.14511985173887948, 'bagging_freq': 0, 'bagging_fraction': 0.675761436394881, 'feature_fraction': 0.6330760786411519, 'lambda_l1': 29.782572825444007, 'lambda_l2': 5.1211225902930835, 'min_gain_to_split': 0.18030446870444447, 'min_data_per_group': 346, 'max_cat_threshold': 268, 'cat_l2': 62.50914642127281, 'cat_smooth': 379.560142094743, 'max_cat_to_onehot': 10, 'max_bin': 702, 'min_data_in_bin': 33}. Best is trial 1 with value: 0.06913457900677714.\n",
      "[I 2020-08-27 17:21:08,973] Trial 2 finished with value: 0.06788261467970386 and parameters: {'num_iterations': 91, 'learning_rate': 0.08081207670528569, 'num_leaves': 45, 'max_depth': 30, 'min_data_in_leaf': 52, 'min_sum_hessian_in_leaf': 0.14564408551350866, 'bagging_freq': 1, 'bagging_fraction': 0.7421054227078454, 'feature_fraction': 0.9553626362706973, 'lambda_l1': 33.48323382484937, 'lambda_l2': 25.91037545717554, 'min_gain_to_split': 0.039619274608901967, 'min_data_per_group': 284, 'max_cat_threshold': 377, 'cat_l2': 11.820566283956346, 'cat_smooth': 119.75451760945361, 'max_cat_to_onehot': 11, 'max_bin': 150, 'min_data_in_bin': 10}. Best is trial 2 with value: 0.06788261467970386.\n",
      "[I 2020-08-27 17:21:09,266] Trial 3 finished with value: 0.06807471603478087 and parameters: {'num_iterations': 98, 'learning_rate': 0.48221228650561615, 'num_leaves': 222, 'max_depth': 14, 'min_data_in_leaf': 343, 'min_sum_hessian_in_leaf': 0.16336286068921954, 'bagging_freq': 0, 'bagging_fraction': 0.9794991100182464, 'feature_fraction': 0.63728942034678, 'lambda_l1': 38.02920861460169, 'lambda_l2': 39.83162229799324, 'min_gain_to_split': 0.056989793815496015, 'min_data_per_group': 227, 'max_cat_threshold': 485, 'cat_l2': 45.413369095139196, 'cat_smooth': 87.08565525956897, 'max_cat_to_onehot': 27, 'max_bin': 632, 'min_data_in_bin': 34}. Best is trial 2 with value: 0.06788261467970386.\n",
      "[I 2020-08-27 17:21:11,534] Trial 0 finished with value: 0.07006446617614905 and parameters: {'num_iterations': 94, 'learning_rate': 0.4032261012568846, 'num_leaves': 121, 'max_depth': 19, 'min_data_in_leaf': 369, 'min_sum_hessian_in_leaf': 0.1364906231563803, 'bagging_freq': 0, 'bagging_fraction': 0.7271848812213663, 'feature_fraction': 0.6779042758880096, 'lambda_l1': 55.32233457830071, 'lambda_l2': 42.84656691186624, 'min_gain_to_split': 0.07127895884983065, 'min_data_per_group': 431, 'max_cat_threshold': 70, 'cat_l2': 41.37300385050969, 'cat_smooth': 1229.1342054498475, 'max_cat_to_onehot': 16, 'max_bin': 326, 'min_data_in_bin': 37}. Best is trial 0 with value: 0.07006446617614905.\n",
      "[I 2020-08-27 17:21:11,812] Trial 1 finished with value: 0.06959121148863107 and parameters: {'num_iterations': 67, 'learning_rate': 0.03746294609752311, 'num_leaves': 158, 'max_depth': 12, 'min_data_in_leaf': 32, 'min_sum_hessian_in_leaf': 0.14511985173887948, 'bagging_freq': 0, 'bagging_fraction': 0.675761436394881, 'feature_fraction': 0.6330760786411519, 'lambda_l1': 29.782572825444007, 'lambda_l2': 5.1211225902930835, 'min_gain_to_split': 0.18030446870444447, 'min_data_per_group': 346, 'max_cat_threshold': 268, 'cat_l2': 62.50914642127281, 'cat_smooth': 379.560142094743, 'max_cat_to_onehot': 10, 'max_bin': 702, 'min_data_in_bin': 33}. Best is trial 1 with value: 0.06959121148863107.\n",
      "[I 2020-08-27 17:21:12,596] Trial 2 finished with value: 0.06905093821108876 and parameters: {'num_iterations': 91, 'learning_rate': 0.08081207670528569, 'num_leaves': 45, 'max_depth': 30, 'min_data_in_leaf': 52, 'min_sum_hessian_in_leaf': 0.14564408551350866, 'bagging_freq': 1, 'bagging_fraction': 0.7421054227078454, 'feature_fraction': 0.9553626362706973, 'lambda_l1': 33.48323382484937, 'lambda_l2': 25.91037545717554, 'min_gain_to_split': 0.039619274608901967, 'min_data_per_group': 284, 'max_cat_threshold': 377, 'cat_l2': 11.820566283956346, 'cat_smooth': 119.75451760945361, 'max_cat_to_onehot': 11, 'max_bin': 150, 'min_data_in_bin': 10}. Best is trial 2 with value: 0.06905093821108876.\n",
      "[I 2020-08-27 17:21:12,831] Trial 3 finished with value: 0.06901852344003381 and parameters: {'num_iterations': 98, 'learning_rate': 0.48221228650561615, 'num_leaves': 222, 'max_depth': 14, 'min_data_in_leaf': 343, 'min_sum_hessian_in_leaf': 0.16336286068921954, 'bagging_freq': 0, 'bagging_fraction': 0.9794991100182464, 'feature_fraction': 0.63728942034678, 'lambda_l1': 38.02920861460169, 'lambda_l2': 39.83162229799324, 'min_gain_to_split': 0.056989793815496015, 'min_data_per_group': 227, 'max_cat_threshold': 485, 'cat_l2': 45.413369095139196, 'cat_smooth': 87.08565525956897, 'max_cat_to_onehot': 27, 'max_bin': 632, 'min_data_in_bin': 34}. Best is trial 3 with value: 0.06901852344003381.\n",
      "[I 2020-08-27 17:21:15,118] Trial 0 finished with value: 0.06951469059587453 and parameters: {'num_iterations': 94, 'learning_rate': 0.4032261012568846, 'num_leaves': 121, 'max_depth': 19, 'min_data_in_leaf': 369, 'min_sum_hessian_in_leaf': 0.1364906231563803, 'bagging_freq': 0, 'bagging_fraction': 0.7271848812213663, 'feature_fraction': 0.6779042758880096, 'lambda_l1': 55.32233457830071, 'lambda_l2': 42.84656691186624, 'min_gain_to_split': 0.07127895884983065, 'min_data_per_group': 431, 'max_cat_threshold': 70, 'cat_l2': 41.37300385050969, 'cat_smooth': 1229.1342054498475, 'max_cat_to_onehot': 16, 'max_bin': 326, 'min_data_in_bin': 37}. Best is trial 0 with value: 0.06951469059587453.\n",
      "[I 2020-08-27 17:21:15,391] Trial 1 finished with value: 0.06843509798471616 and parameters: {'num_iterations': 67, 'learning_rate': 0.03746294609752311, 'num_leaves': 158, 'max_depth': 12, 'min_data_in_leaf': 32, 'min_sum_hessian_in_leaf': 0.14511985173887948, 'bagging_freq': 0, 'bagging_fraction': 0.675761436394881, 'feature_fraction': 0.6330760786411519, 'lambda_l1': 29.782572825444007, 'lambda_l2': 5.1211225902930835, 'min_gain_to_split': 0.18030446870444447, 'min_data_per_group': 346, 'max_cat_threshold': 268, 'cat_l2': 62.50914642127281, 'cat_smooth': 379.560142094743, 'max_cat_to_onehot': 10, 'max_bin': 702, 'min_data_in_bin': 33}. Best is trial 1 with value: 0.06843509798471616.\n",
      "[I 2020-08-27 17:21:16,105] Trial 2 finished with value: 0.06988160348337945 and parameters: {'num_iterations': 91, 'learning_rate': 0.08081207670528569, 'num_leaves': 45, 'max_depth': 30, 'min_data_in_leaf': 52, 'min_sum_hessian_in_leaf': 0.14564408551350866, 'bagging_freq': 1, 'bagging_fraction': 0.7421054227078454, 'feature_fraction': 0.9553626362706973, 'lambda_l1': 33.48323382484937, 'lambda_l2': 25.91037545717554, 'min_gain_to_split': 0.039619274608901967, 'min_data_per_group': 284, 'max_cat_threshold': 377, 'cat_l2': 11.820566283956346, 'cat_smooth': 119.75451760945361, 'max_cat_to_onehot': 11, 'max_bin': 150, 'min_data_in_bin': 10}. Best is trial 1 with value: 0.06843509798471616.\n",
      "[I 2020-08-27 17:21:16,349] Trial 3 finished with value: 0.06839831504243936 and parameters: {'num_iterations': 98, 'learning_rate': 0.48221228650561615, 'num_leaves': 222, 'max_depth': 14, 'min_data_in_leaf': 343, 'min_sum_hessian_in_leaf': 0.16336286068921954, 'bagging_freq': 0, 'bagging_fraction': 0.9794991100182464, 'feature_fraction': 0.63728942034678, 'lambda_l1': 38.02920861460169, 'lambda_l2': 39.83162229799324, 'min_gain_to_split': 0.056989793815496015, 'min_data_per_group': 227, 'max_cat_threshold': 485, 'cat_l2': 45.413369095139196, 'cat_smooth': 87.08565525956897, 'max_cat_to_onehot': 27, 'max_bin': 632, 'min_data_in_bin': 34}. Best is trial 3 with value: 0.06839831504243936.\n",
      "[I 2020-08-27 17:21:18,535] Trial 0 finished with value: 0.06977122400588164 and parameters: {'num_iterations': 94, 'learning_rate': 0.4032261012568846, 'num_leaves': 121, 'max_depth': 19, 'min_data_in_leaf': 369, 'min_sum_hessian_in_leaf': 0.1364906231563803, 'bagging_freq': 0, 'bagging_fraction': 0.7271848812213663, 'feature_fraction': 0.6779042758880096, 'lambda_l1': 55.32233457830071, 'lambda_l2': 42.84656691186624, 'min_gain_to_split': 0.07127895884983065, 'min_data_per_group': 431, 'max_cat_threshold': 70, 'cat_l2': 41.37300385050969, 'cat_smooth': 1229.1342054498475, 'max_cat_to_onehot': 16, 'max_bin': 326, 'min_data_in_bin': 37}. Best is trial 0 with value: 0.06977122400588164.\n",
      "[I 2020-08-27 17:21:18,780] Trial 1 finished with value: 0.06850215686533735 and parameters: {'num_iterations': 67, 'learning_rate': 0.03746294609752311, 'num_leaves': 158, 'max_depth': 12, 'min_data_in_leaf': 32, 'min_sum_hessian_in_leaf': 0.14511985173887948, 'bagging_freq': 0, 'bagging_fraction': 0.675761436394881, 'feature_fraction': 0.6330760786411519, 'lambda_l1': 29.782572825444007, 'lambda_l2': 5.1211225902930835, 'min_gain_to_split': 0.18030446870444447, 'min_data_per_group': 346, 'max_cat_threshold': 268, 'cat_l2': 62.50914642127281, 'cat_smooth': 379.560142094743, 'max_cat_to_onehot': 10, 'max_bin': 702, 'min_data_in_bin': 33}. Best is trial 1 with value: 0.06850215686533735.\n",
      "[I 2020-08-27 17:21:19,499] Trial 2 finished with value: 0.0691310857891011 and parameters: {'num_iterations': 91, 'learning_rate': 0.08081207670528569, 'num_leaves': 45, 'max_depth': 30, 'min_data_in_leaf': 52, 'min_sum_hessian_in_leaf': 0.14564408551350866, 'bagging_freq': 1, 'bagging_fraction': 0.7421054227078454, 'feature_fraction': 0.9553626362706973, 'lambda_l1': 33.48323382484937, 'lambda_l2': 25.91037545717554, 'min_gain_to_split': 0.039619274608901967, 'min_data_per_group': 284, 'max_cat_threshold': 377, 'cat_l2': 11.820566283956346, 'cat_smooth': 119.75451760945361, 'max_cat_to_onehot': 11, 'max_bin': 150, 'min_data_in_bin': 10}. Best is trial 1 with value: 0.06850215686533735.\n",
      "[I 2020-08-27 17:21:19,761] Trial 3 finished with value: 0.06835936556422073 and parameters: {'num_iterations': 98, 'learning_rate': 0.48221228650561615, 'num_leaves': 222, 'max_depth': 14, 'min_data_in_leaf': 343, 'min_sum_hessian_in_leaf': 0.16336286068921954, 'bagging_freq': 0, 'bagging_fraction': 0.9794991100182464, 'feature_fraction': 0.63728942034678, 'lambda_l1': 38.02920861460169, 'lambda_l2': 39.83162229799324, 'min_gain_to_split': 0.056989793815496015, 'min_data_per_group': 227, 'max_cat_threshold': 485, 'cat_l2': 45.413369095139196, 'cat_smooth': 87.08565525956897, 'max_cat_to_onehot': 27, 'max_bin': 632, 'min_data_in_bin': 34}. Best is trial 3 with value: 0.06835936556422073.\n",
      "[I 2020-08-27 17:21:21,941] Trial 0 finished with value: 0.06988179390475309 and parameters: {'num_iterations': 94, 'learning_rate': 0.4032261012568846, 'num_leaves': 121, 'max_depth': 19, 'min_data_in_leaf': 369, 'min_sum_hessian_in_leaf': 0.1364906231563803, 'bagging_freq': 0, 'bagging_fraction': 0.7271848812213663, 'feature_fraction': 0.6779042758880096, 'lambda_l1': 55.32233457830071, 'lambda_l2': 42.84656691186624, 'min_gain_to_split': 0.07127895884983065, 'min_data_per_group': 431, 'max_cat_threshold': 70, 'cat_l2': 41.37300385050969, 'cat_smooth': 1229.1342054498475, 'max_cat_to_onehot': 16, 'max_bin': 326, 'min_data_in_bin': 37}. Best is trial 0 with value: 0.06988179390475309.\n",
      "[I 2020-08-27 17:21:22,204] Trial 1 finished with value: 0.06827678871797246 and parameters: {'num_iterations': 67, 'learning_rate': 0.03746294609752311, 'num_leaves': 158, 'max_depth': 12, 'min_data_in_leaf': 32, 'min_sum_hessian_in_leaf': 0.14511985173887948, 'bagging_freq': 0, 'bagging_fraction': 0.675761436394881, 'feature_fraction': 0.6330760786411519, 'lambda_l1': 29.782572825444007, 'lambda_l2': 5.1211225902930835, 'min_gain_to_split': 0.18030446870444447, 'min_data_per_group': 346, 'max_cat_threshold': 268, 'cat_l2': 62.50914642127281, 'cat_smooth': 379.560142094743, 'max_cat_to_onehot': 10, 'max_bin': 702, 'min_data_in_bin': 33}. Best is trial 1 with value: 0.06827678871797246.\n",
      "[I 2020-08-27 17:21:22,976] Trial 2 finished with value: 0.06938135578198595 and parameters: {'num_iterations': 91, 'learning_rate': 0.08081207670528569, 'num_leaves': 45, 'max_depth': 30, 'min_data_in_leaf': 52, 'min_sum_hessian_in_leaf': 0.14564408551350866, 'bagging_freq': 1, 'bagging_fraction': 0.7421054227078454, 'feature_fraction': 0.9553626362706973, 'lambda_l1': 33.48323382484937, 'lambda_l2': 25.91037545717554, 'min_gain_to_split': 0.039619274608901967, 'min_data_per_group': 284, 'max_cat_threshold': 377, 'cat_l2': 11.820566283956346, 'cat_smooth': 119.75451760945361, 'max_cat_to_onehot': 11, 'max_bin': 150, 'min_data_in_bin': 10}. Best is trial 1 with value: 0.06827678871797246.\n",
      "[I 2020-08-27 17:21:23,254] Trial 3 finished with value: 0.06823067939085749 and parameters: {'num_iterations': 98, 'learning_rate': 0.48221228650561615, 'num_leaves': 222, 'max_depth': 14, 'min_data_in_leaf': 343, 'min_sum_hessian_in_leaf': 0.16336286068921954, 'bagging_freq': 0, 'bagging_fraction': 0.9794991100182464, 'feature_fraction': 0.63728942034678, 'lambda_l1': 38.02920861460169, 'lambda_l2': 39.83162229799324, 'min_gain_to_split': 0.056989793815496015, 'min_data_per_group': 227, 'max_cat_threshold': 485, 'cat_l2': 45.413369095139196, 'cat_smooth': 87.08565525956897, 'max_cat_to_onehot': 27, 'max_bin': 632, 'min_data_in_bin': 34}. Best is trial 3 with value: 0.06823067939085749.\n",
      "[I 2020-08-27 17:21:25,508] Trial 0 finished with value: 0.07007994584626695 and parameters: {'num_iterations': 94, 'learning_rate': 0.4032261012568846, 'num_leaves': 121, 'max_depth': 19, 'min_data_in_leaf': 369, 'min_sum_hessian_in_leaf': 0.1364906231563803, 'bagging_freq': 0, 'bagging_fraction': 0.7271848812213663, 'feature_fraction': 0.6779042758880096, 'lambda_l1': 55.32233457830071, 'lambda_l2': 42.84656691186624, 'min_gain_to_split': 0.07127895884983065, 'min_data_per_group': 431, 'max_cat_threshold': 70, 'cat_l2': 41.37300385050969, 'cat_smooth': 1229.1342054498475, 'max_cat_to_onehot': 16, 'max_bin': 326, 'min_data_in_bin': 37}. Best is trial 0 with value: 0.07007994584626695.\n",
      "[I 2020-08-27 17:21:25,760] Trial 1 finished with value: 0.0677011109245336 and parameters: {'num_iterations': 67, 'learning_rate': 0.03746294609752311, 'num_leaves': 158, 'max_depth': 12, 'min_data_in_leaf': 32, 'min_sum_hessian_in_leaf': 0.14511985173887948, 'bagging_freq': 0, 'bagging_fraction': 0.675761436394881, 'feature_fraction': 0.6330760786411519, 'lambda_l1': 29.782572825444007, 'lambda_l2': 5.1211225902930835, 'min_gain_to_split': 0.18030446870444447, 'min_data_per_group': 346, 'max_cat_threshold': 268, 'cat_l2': 62.50914642127281, 'cat_smooth': 379.560142094743, 'max_cat_to_onehot': 10, 'max_bin': 702, 'min_data_in_bin': 33}. Best is trial 1 with value: 0.0677011109245336.\n",
      "[I 2020-08-27 17:21:26,485] Trial 2 finished with value: 0.06860525840279987 and parameters: {'num_iterations': 91, 'learning_rate': 0.08081207670528569, 'num_leaves': 45, 'max_depth': 30, 'min_data_in_leaf': 52, 'min_sum_hessian_in_leaf': 0.14564408551350866, 'bagging_freq': 1, 'bagging_fraction': 0.7421054227078454, 'feature_fraction': 0.9553626362706973, 'lambda_l1': 33.48323382484937, 'lambda_l2': 25.91037545717554, 'min_gain_to_split': 0.039619274608901967, 'min_data_per_group': 284, 'max_cat_threshold': 377, 'cat_l2': 11.820566283956346, 'cat_smooth': 119.75451760945361, 'max_cat_to_onehot': 11, 'max_bin': 150, 'min_data_in_bin': 10}. Best is trial 1 with value: 0.0677011109245336.\n",
      "[I 2020-08-27 17:21:26,705] Trial 3 finished with value: 0.0681482809122792 and parameters: {'num_iterations': 98, 'learning_rate': 0.48221228650561615, 'num_leaves': 222, 'max_depth': 14, 'min_data_in_leaf': 343, 'min_sum_hessian_in_leaf': 0.16336286068921954, 'bagging_freq': 0, 'bagging_fraction': 0.9794991100182464, 'feature_fraction': 0.63728942034678, 'lambda_l1': 38.02920861460169, 'lambda_l2': 39.83162229799324, 'min_gain_to_split': 0.056989793815496015, 'min_data_per_group': 227, 'max_cat_threshold': 485, 'cat_l2': 45.413369095139196, 'cat_smooth': 87.08565525956897, 'max_cat_to_onehot': 27, 'max_bin': 632, 'min_data_in_bin': 34}. Best is trial 1 with value: 0.0677011109245336.\n",
      "[I 2020-08-27 17:21:28,813] Trial 0 finished with value: 0.07035398759540684 and parameters: {'num_iterations': 94, 'learning_rate': 0.4032261012568846, 'num_leaves': 121, 'max_depth': 19, 'min_data_in_leaf': 369, 'min_sum_hessian_in_leaf': 0.1364906231563803, 'bagging_freq': 0, 'bagging_fraction': 0.7271848812213663, 'feature_fraction': 0.6779042758880096, 'lambda_l1': 55.32233457830071, 'lambda_l2': 42.84656691186624, 'min_gain_to_split': 0.07127895884983065, 'min_data_per_group': 431, 'max_cat_threshold': 70, 'cat_l2': 41.37300385050969, 'cat_smooth': 1229.1342054498475, 'max_cat_to_onehot': 16, 'max_bin': 326, 'min_data_in_bin': 37}. Best is trial 0 with value: 0.07035398759540684.\n",
      "[I 2020-08-27 17:21:29,029] Trial 1 finished with value: 0.06775942883753765 and parameters: {'num_iterations': 67, 'learning_rate': 0.03746294609752311, 'num_leaves': 158, 'max_depth': 12, 'min_data_in_leaf': 32, 'min_sum_hessian_in_leaf': 0.14511985173887948, 'bagging_freq': 0, 'bagging_fraction': 0.675761436394881, 'feature_fraction': 0.6330760786411519, 'lambda_l1': 29.782572825444007, 'lambda_l2': 5.1211225902930835, 'min_gain_to_split': 0.18030446870444447, 'min_data_per_group': 346, 'max_cat_threshold': 268, 'cat_l2': 62.50914642127281, 'cat_smooth': 379.560142094743, 'max_cat_to_onehot': 10, 'max_bin': 702, 'min_data_in_bin': 33}. Best is trial 1 with value: 0.06775942883753765.\n",
      "[I 2020-08-27 17:21:29,700] Trial 2 finished with value: 0.06936043103802436 and parameters: {'num_iterations': 91, 'learning_rate': 0.08081207670528569, 'num_leaves': 45, 'max_depth': 30, 'min_data_in_leaf': 52, 'min_sum_hessian_in_leaf': 0.14564408551350866, 'bagging_freq': 1, 'bagging_fraction': 0.7421054227078454, 'feature_fraction': 0.9553626362706973, 'lambda_l1': 33.48323382484937, 'lambda_l2': 25.91037545717554, 'min_gain_to_split': 0.039619274608901967, 'min_data_per_group': 284, 'max_cat_threshold': 377, 'cat_l2': 11.820566283956346, 'cat_smooth': 119.75451760945361, 'max_cat_to_onehot': 11, 'max_bin': 150, 'min_data_in_bin': 10}. Best is trial 1 with value: 0.06775942883753765.\n",
      "[I 2020-08-27 17:21:29,903] Trial 3 finished with value: 0.06951899814892616 and parameters: {'num_iterations': 98, 'learning_rate': 0.48221228650561615, 'num_leaves': 222, 'max_depth': 14, 'min_data_in_leaf': 343, 'min_sum_hessian_in_leaf': 0.16336286068921954, 'bagging_freq': 0, 'bagging_fraction': 0.9794991100182464, 'feature_fraction': 0.63728942034678, 'lambda_l1': 38.02920861460169, 'lambda_l2': 39.83162229799324, 'min_gain_to_split': 0.056989793815496015, 'min_data_per_group': 227, 'max_cat_threshold': 485, 'cat_l2': 45.413369095139196, 'cat_smooth': 87.08565525956897, 'max_cat_to_onehot': 27, 'max_bin': 632, 'min_data_in_bin': 34}. Best is trial 1 with value: 0.06775942883753765.\n",
      "[I 2020-08-27 17:21:32,020] Trial 0 finished with value: 0.0710643359524592 and parameters: {'num_iterations': 94, 'learning_rate': 0.4032261012568846, 'num_leaves': 121, 'max_depth': 19, 'min_data_in_leaf': 369, 'min_sum_hessian_in_leaf': 0.1364906231563803, 'bagging_freq': 0, 'bagging_fraction': 0.7271848812213663, 'feature_fraction': 0.6779042758880096, 'lambda_l1': 55.32233457830071, 'lambda_l2': 42.84656691186624, 'min_gain_to_split': 0.07127895884983065, 'min_data_per_group': 431, 'max_cat_threshold': 70, 'cat_l2': 41.37300385050969, 'cat_smooth': 1229.1342054498475, 'max_cat_to_onehot': 16, 'max_bin': 326, 'min_data_in_bin': 37}. Best is trial 0 with value: 0.0710643359524592.\n",
      "[I 2020-08-27 17:21:32,264] Trial 1 finished with value: 0.0685148642156886 and parameters: {'num_iterations': 67, 'learning_rate': 0.03746294609752311, 'num_leaves': 158, 'max_depth': 12, 'min_data_in_leaf': 32, 'min_sum_hessian_in_leaf': 0.14511985173887948, 'bagging_freq': 0, 'bagging_fraction': 0.675761436394881, 'feature_fraction': 0.6330760786411519, 'lambda_l1': 29.782572825444007, 'lambda_l2': 5.1211225902930835, 'min_gain_to_split': 0.18030446870444447, 'min_data_per_group': 346, 'max_cat_threshold': 268, 'cat_l2': 62.50914642127281, 'cat_smooth': 379.560142094743, 'max_cat_to_onehot': 10, 'max_bin': 702, 'min_data_in_bin': 33}. Best is trial 1 with value: 0.0685148642156886.\n",
      "[I 2020-08-27 17:21:32,916] Trial 2 finished with value: 0.07028744972481776 and parameters: {'num_iterations': 91, 'learning_rate': 0.08081207670528569, 'num_leaves': 45, 'max_depth': 30, 'min_data_in_leaf': 52, 'min_sum_hessian_in_leaf': 0.14564408551350866, 'bagging_freq': 1, 'bagging_fraction': 0.7421054227078454, 'feature_fraction': 0.9553626362706973, 'lambda_l1': 33.48323382484937, 'lambda_l2': 25.91037545717554, 'min_gain_to_split': 0.039619274608901967, 'min_data_per_group': 284, 'max_cat_threshold': 377, 'cat_l2': 11.820566283956346, 'cat_smooth': 119.75451760945361, 'max_cat_to_onehot': 11, 'max_bin': 150, 'min_data_in_bin': 10}. Best is trial 1 with value: 0.0685148642156886.\n",
      "[I 2020-08-27 17:21:33,118] Trial 3 finished with value: 0.0693314983727843 and parameters: {'num_iterations': 98, 'learning_rate': 0.48221228650561615, 'num_leaves': 222, 'max_depth': 14, 'min_data_in_leaf': 343, 'min_sum_hessian_in_leaf': 0.16336286068921954, 'bagging_freq': 0, 'bagging_fraction': 0.9794991100182464, 'feature_fraction': 0.63728942034678, 'lambda_l1': 38.02920861460169, 'lambda_l2': 39.83162229799324, 'min_gain_to_split': 0.056989793815496015, 'min_data_per_group': 227, 'max_cat_threshold': 485, 'cat_l2': 45.413369095139196, 'cat_smooth': 87.08565525956897, 'max_cat_to_onehot': 27, 'max_bin': 632, 'min_data_in_bin': 34}. Best is trial 1 with value: 0.0685148642156886.\n",
      "[I 2020-08-27 17:21:35,184] Trial 0 finished with value: 0.07035050189402237 and parameters: {'num_iterations': 94, 'learning_rate': 0.4032261012568846, 'num_leaves': 121, 'max_depth': 19, 'min_data_in_leaf': 369, 'min_sum_hessian_in_leaf': 0.1364906231563803, 'bagging_freq': 0, 'bagging_fraction': 0.7271848812213663, 'feature_fraction': 0.6779042758880096, 'lambda_l1': 55.32233457830071, 'lambda_l2': 42.84656691186624, 'min_gain_to_split': 0.07127895884983065, 'min_data_per_group': 431, 'max_cat_threshold': 70, 'cat_l2': 41.37300385050969, 'cat_smooth': 1229.1342054498475, 'max_cat_to_onehot': 16, 'max_bin': 326, 'min_data_in_bin': 37}. Best is trial 0 with value: 0.07035050189402237.\n",
      "[I 2020-08-27 17:21:35,420] Trial 1 finished with value: 0.06808197803303154 and parameters: {'num_iterations': 67, 'learning_rate': 0.03746294609752311, 'num_leaves': 158, 'max_depth': 12, 'min_data_in_leaf': 32, 'min_sum_hessian_in_leaf': 0.14511985173887948, 'bagging_freq': 0, 'bagging_fraction': 0.675761436394881, 'feature_fraction': 0.6330760786411519, 'lambda_l1': 29.782572825444007, 'lambda_l2': 5.1211225902930835, 'min_gain_to_split': 0.18030446870444447, 'min_data_per_group': 346, 'max_cat_threshold': 268, 'cat_l2': 62.50914642127281, 'cat_smooth': 379.560142094743, 'max_cat_to_onehot': 10, 'max_bin': 702, 'min_data_in_bin': 33}. Best is trial 1 with value: 0.06808197803303154.\n",
      "[I 2020-08-27 17:21:36,029] Trial 2 finished with value: 0.06919215603943675 and parameters: {'num_iterations': 91, 'learning_rate': 0.08081207670528569, 'num_leaves': 45, 'max_depth': 30, 'min_data_in_leaf': 52, 'min_sum_hessian_in_leaf': 0.14564408551350866, 'bagging_freq': 1, 'bagging_fraction': 0.7421054227078454, 'feature_fraction': 0.9553626362706973, 'lambda_l1': 33.48323382484937, 'lambda_l2': 25.91037545717554, 'min_gain_to_split': 0.039619274608901967, 'min_data_per_group': 284, 'max_cat_threshold': 377, 'cat_l2': 11.820566283956346, 'cat_smooth': 119.75451760945361, 'max_cat_to_onehot': 11, 'max_bin': 150, 'min_data_in_bin': 10}. Best is trial 1 with value: 0.06808197803303154.\n",
      "[I 2020-08-27 17:21:36,246] Trial 3 finished with value: 0.06934960261184334 and parameters: {'num_iterations': 98, 'learning_rate': 0.48221228650561615, 'num_leaves': 222, 'max_depth': 14, 'min_data_in_leaf': 343, 'min_sum_hessian_in_leaf': 0.16336286068921954, 'bagging_freq': 0, 'bagging_fraction': 0.9794991100182464, 'feature_fraction': 0.63728942034678, 'lambda_l1': 38.02920861460169, 'lambda_l2': 39.83162229799324, 'min_gain_to_split': 0.056989793815496015, 'min_data_per_group': 227, 'max_cat_threshold': 485, 'cat_l2': 45.413369095139196, 'cat_smooth': 87.08565525956897, 'max_cat_to_onehot': 27, 'max_bin': 632, 'min_data_in_bin': 34}. Best is trial 1 with value: 0.06808197803303154.\n",
      "[I 2020-08-27 17:21:38,304] Trial 0 finished with value: 0.06970529042894284 and parameters: {'num_iterations': 94, 'learning_rate': 0.4032261012568846, 'num_leaves': 121, 'max_depth': 19, 'min_data_in_leaf': 369, 'min_sum_hessian_in_leaf': 0.1364906231563803, 'bagging_freq': 0, 'bagging_fraction': 0.7271848812213663, 'feature_fraction': 0.6779042758880096, 'lambda_l1': 55.32233457830071, 'lambda_l2': 42.84656691186624, 'min_gain_to_split': 0.07127895884983065, 'min_data_per_group': 431, 'max_cat_threshold': 70, 'cat_l2': 41.37300385050969, 'cat_smooth': 1229.1342054498475, 'max_cat_to_onehot': 16, 'max_bin': 326, 'min_data_in_bin': 37}. Best is trial 0 with value: 0.06970529042894284.\n",
      "[I 2020-08-27 17:21:38,529] Trial 1 finished with value: 0.06742627334997443 and parameters: {'num_iterations': 67, 'learning_rate': 0.03746294609752311, 'num_leaves': 158, 'max_depth': 12, 'min_data_in_leaf': 32, 'min_sum_hessian_in_leaf': 0.14511985173887948, 'bagging_freq': 0, 'bagging_fraction': 0.675761436394881, 'feature_fraction': 0.6330760786411519, 'lambda_l1': 29.782572825444007, 'lambda_l2': 5.1211225902930835, 'min_gain_to_split': 0.18030446870444447, 'min_data_per_group': 346, 'max_cat_threshold': 268, 'cat_l2': 62.50914642127281, 'cat_smooth': 379.560142094743, 'max_cat_to_onehot': 10, 'max_bin': 702, 'min_data_in_bin': 33}. Best is trial 1 with value: 0.06742627334997443.\n",
      "[I 2020-08-27 17:21:39,148] Trial 2 finished with value: 0.06955340217276432 and parameters: {'num_iterations': 91, 'learning_rate': 0.08081207670528569, 'num_leaves': 45, 'max_depth': 30, 'min_data_in_leaf': 52, 'min_sum_hessian_in_leaf': 0.14564408551350866, 'bagging_freq': 1, 'bagging_fraction': 0.7421054227078454, 'feature_fraction': 0.9553626362706973, 'lambda_l1': 33.48323382484937, 'lambda_l2': 25.91037545717554, 'min_gain_to_split': 0.039619274608901967, 'min_data_per_group': 284, 'max_cat_threshold': 377, 'cat_l2': 11.820566283956346, 'cat_smooth': 119.75451760945361, 'max_cat_to_onehot': 11, 'max_bin': 150, 'min_data_in_bin': 10}. Best is trial 1 with value: 0.06742627334997443.\n",
      "[I 2020-08-27 17:21:39,347] Trial 3 finished with value: 0.06893637711005876 and parameters: {'num_iterations': 98, 'learning_rate': 0.48221228650561615, 'num_leaves': 222, 'max_depth': 14, 'min_data_in_leaf': 343, 'min_sum_hessian_in_leaf': 0.16336286068921954, 'bagging_freq': 0, 'bagging_fraction': 0.9794991100182464, 'feature_fraction': 0.63728942034678, 'lambda_l1': 38.02920861460169, 'lambda_l2': 39.83162229799324, 'min_gain_to_split': 0.056989793815496015, 'min_data_per_group': 227, 'max_cat_threshold': 485, 'cat_l2': 45.413369095139196, 'cat_smooth': 87.08565525956897, 'max_cat_to_onehot': 27, 'max_bin': 632, 'min_data_in_bin': 34}. Best is trial 1 with value: 0.06742627334997443.\n",
      "[I 2020-08-27 17:21:41,476] Trial 0 finished with value: 0.07009834187785463 and parameters: {'num_iterations': 94, 'learning_rate': 0.4032261012568846, 'num_leaves': 121, 'max_depth': 19, 'min_data_in_leaf': 369, 'min_sum_hessian_in_leaf': 0.1364906231563803, 'bagging_freq': 0, 'bagging_fraction': 0.7271848812213663, 'feature_fraction': 0.6779042758880096, 'lambda_l1': 55.32233457830071, 'lambda_l2': 42.84656691186624, 'min_gain_to_split': 0.07127895884983065, 'min_data_per_group': 431, 'max_cat_threshold': 70, 'cat_l2': 41.37300385050969, 'cat_smooth': 1229.1342054498475, 'max_cat_to_onehot': 16, 'max_bin': 326, 'min_data_in_bin': 37}. Best is trial 0 with value: 0.07009834187785463.\n",
      "[I 2020-08-27 17:21:41,678] Trial 1 finished with value: 0.06780340152976318 and parameters: {'num_iterations': 67, 'learning_rate': 0.03746294609752311, 'num_leaves': 158, 'max_depth': 12, 'min_data_in_leaf': 32, 'min_sum_hessian_in_leaf': 0.14511985173887948, 'bagging_freq': 0, 'bagging_fraction': 0.675761436394881, 'feature_fraction': 0.6330760786411519, 'lambda_l1': 29.782572825444007, 'lambda_l2': 5.1211225902930835, 'min_gain_to_split': 0.18030446870444447, 'min_data_per_group': 346, 'max_cat_threshold': 268, 'cat_l2': 62.50914642127281, 'cat_smooth': 379.560142094743, 'max_cat_to_onehot': 10, 'max_bin': 702, 'min_data_in_bin': 33}. Best is trial 1 with value: 0.06780340152976318.\n",
      "[I 2020-08-27 17:21:42,266] Trial 2 finished with value: 0.06945411565519072 and parameters: {'num_iterations': 91, 'learning_rate': 0.08081207670528569, 'num_leaves': 45, 'max_depth': 30, 'min_data_in_leaf': 52, 'min_sum_hessian_in_leaf': 0.14564408551350866, 'bagging_freq': 1, 'bagging_fraction': 0.7421054227078454, 'feature_fraction': 0.9553626362706973, 'lambda_l1': 33.48323382484937, 'lambda_l2': 25.91037545717554, 'min_gain_to_split': 0.039619274608901967, 'min_data_per_group': 284, 'max_cat_threshold': 377, 'cat_l2': 11.820566283956346, 'cat_smooth': 119.75451760945361, 'max_cat_to_onehot': 11, 'max_bin': 150, 'min_data_in_bin': 10}. Best is trial 1 with value: 0.06780340152976318.\n",
      "[I 2020-08-27 17:21:42,479] Trial 3 finished with value: 0.06962108013620254 and parameters: {'num_iterations': 98, 'learning_rate': 0.48221228650561615, 'num_leaves': 222, 'max_depth': 14, 'min_data_in_leaf': 343, 'min_sum_hessian_in_leaf': 0.16336286068921954, 'bagging_freq': 0, 'bagging_fraction': 0.9794991100182464, 'feature_fraction': 0.63728942034678, 'lambda_l1': 38.02920861460169, 'lambda_l2': 39.83162229799324, 'min_gain_to_split': 0.056989793815496015, 'min_data_per_group': 227, 'max_cat_threshold': 485, 'cat_l2': 45.413369095139196, 'cat_smooth': 87.08565525956897, 'max_cat_to_onehot': 27, 'max_bin': 632, 'min_data_in_bin': 34}. Best is trial 1 with value: 0.06780340152976318.\n",
      "[I 2020-08-27 17:21:44,459] Trial 0 finished with value: 0.06993543680129524 and parameters: {'num_iterations': 94, 'learning_rate': 0.4032261012568846, 'num_leaves': 121, 'max_depth': 19, 'min_data_in_leaf': 369, 'min_sum_hessian_in_leaf': 0.1364906231563803, 'bagging_freq': 0, 'bagging_fraction': 0.7271848812213663, 'feature_fraction': 0.6779042758880096, 'lambda_l1': 55.32233457830071, 'lambda_l2': 42.84656691186624, 'min_gain_to_split': 0.07127895884983065, 'min_data_per_group': 431, 'max_cat_threshold': 70, 'cat_l2': 41.37300385050969, 'cat_smooth': 1229.1342054498475, 'max_cat_to_onehot': 16, 'max_bin': 326, 'min_data_in_bin': 37}. Best is trial 0 with value: 0.06993543680129524.\n",
      "[I 2020-08-27 17:21:44,691] Trial 1 finished with value: 0.0675529061956326 and parameters: {'num_iterations': 67, 'learning_rate': 0.03746294609752311, 'num_leaves': 158, 'max_depth': 12, 'min_data_in_leaf': 32, 'min_sum_hessian_in_leaf': 0.14511985173887948, 'bagging_freq': 0, 'bagging_fraction': 0.675761436394881, 'feature_fraction': 0.6330760786411519, 'lambda_l1': 29.782572825444007, 'lambda_l2': 5.1211225902930835, 'min_gain_to_split': 0.18030446870444447, 'min_data_per_group': 346, 'max_cat_threshold': 268, 'cat_l2': 62.50914642127281, 'cat_smooth': 379.560142094743, 'max_cat_to_onehot': 10, 'max_bin': 702, 'min_data_in_bin': 33}. Best is trial 1 with value: 0.0675529061956326.\n",
      "[I 2020-08-27 17:21:45,256] Trial 2 finished with value: 0.06862826353988101 and parameters: {'num_iterations': 91, 'learning_rate': 0.08081207670528569, 'num_leaves': 45, 'max_depth': 30, 'min_data_in_leaf': 52, 'min_sum_hessian_in_leaf': 0.14564408551350866, 'bagging_freq': 1, 'bagging_fraction': 0.7421054227078454, 'feature_fraction': 0.9553626362706973, 'lambda_l1': 33.48323382484937, 'lambda_l2': 25.91037545717554, 'min_gain_to_split': 0.039619274608901967, 'min_data_per_group': 284, 'max_cat_threshold': 377, 'cat_l2': 11.820566283956346, 'cat_smooth': 119.75451760945361, 'max_cat_to_onehot': 11, 'max_bin': 150, 'min_data_in_bin': 10}. Best is trial 1 with value: 0.0675529061956326.\n",
      "[I 2020-08-27 17:21:45,435] Trial 3 finished with value: 0.06791926949208653 and parameters: {'num_iterations': 98, 'learning_rate': 0.48221228650561615, 'num_leaves': 222, 'max_depth': 14, 'min_data_in_leaf': 343, 'min_sum_hessian_in_leaf': 0.16336286068921954, 'bagging_freq': 0, 'bagging_fraction': 0.9794991100182464, 'feature_fraction': 0.63728942034678, 'lambda_l1': 38.02920861460169, 'lambda_l2': 39.83162229799324, 'min_gain_to_split': 0.056989793815496015, 'min_data_per_group': 227, 'max_cat_threshold': 485, 'cat_l2': 45.413369095139196, 'cat_smooth': 87.08565525956897, 'max_cat_to_onehot': 27, 'max_bin': 632, 'min_data_in_bin': 34}. Best is trial 1 with value: 0.0675529061956326.\n",
      "[I 2020-08-27 17:21:47,482] Trial 0 finished with value: 0.06932527182380815 and parameters: {'num_iterations': 94, 'learning_rate': 0.4032261012568846, 'num_leaves': 121, 'max_depth': 19, 'min_data_in_leaf': 369, 'min_sum_hessian_in_leaf': 0.1364906231563803, 'bagging_freq': 0, 'bagging_fraction': 0.7271848812213663, 'feature_fraction': 0.6779042758880096, 'lambda_l1': 55.32233457830071, 'lambda_l2': 42.84656691186624, 'min_gain_to_split': 0.07127895884983065, 'min_data_per_group': 431, 'max_cat_threshold': 70, 'cat_l2': 41.37300385050969, 'cat_smooth': 1229.1342054498475, 'max_cat_to_onehot': 16, 'max_bin': 326, 'min_data_in_bin': 37}. Best is trial 0 with value: 0.06932527182380815.\n",
      "[I 2020-08-27 17:21:47,694] Trial 1 finished with value: 0.0674081943657259 and parameters: {'num_iterations': 67, 'learning_rate': 0.03746294609752311, 'num_leaves': 158, 'max_depth': 12, 'min_data_in_leaf': 32, 'min_sum_hessian_in_leaf': 0.14511985173887948, 'bagging_freq': 0, 'bagging_fraction': 0.675761436394881, 'feature_fraction': 0.6330760786411519, 'lambda_l1': 29.782572825444007, 'lambda_l2': 5.1211225902930835, 'min_gain_to_split': 0.18030446870444447, 'min_data_per_group': 346, 'max_cat_threshold': 268, 'cat_l2': 62.50914642127281, 'cat_smooth': 379.560142094743, 'max_cat_to_onehot': 10, 'max_bin': 702, 'min_data_in_bin': 33}. Best is trial 1 with value: 0.0674081943657259.\n",
      "[I 2020-08-27 17:21:48,217] Trial 2 finished with value: 0.06900714773074017 and parameters: {'num_iterations': 91, 'learning_rate': 0.08081207670528569, 'num_leaves': 45, 'max_depth': 30, 'min_data_in_leaf': 52, 'min_sum_hessian_in_leaf': 0.14564408551350866, 'bagging_freq': 1, 'bagging_fraction': 0.7421054227078454, 'feature_fraction': 0.9553626362706973, 'lambda_l1': 33.48323382484937, 'lambda_l2': 25.91037545717554, 'min_gain_to_split': 0.039619274608901967, 'min_data_per_group': 284, 'max_cat_threshold': 377, 'cat_l2': 11.820566283956346, 'cat_smooth': 119.75451760945361, 'max_cat_to_onehot': 11, 'max_bin': 150, 'min_data_in_bin': 10}. Best is trial 1 with value: 0.0674081943657259.\n",
      "[I 2020-08-27 17:21:48,400] Trial 3 finished with value: 0.06784367076896372 and parameters: {'num_iterations': 98, 'learning_rate': 0.48221228650561615, 'num_leaves': 222, 'max_depth': 14, 'min_data_in_leaf': 343, 'min_sum_hessian_in_leaf': 0.16336286068921954, 'bagging_freq': 0, 'bagging_fraction': 0.9794991100182464, 'feature_fraction': 0.63728942034678, 'lambda_l1': 38.02920861460169, 'lambda_l2': 39.83162229799324, 'min_gain_to_split': 0.056989793815496015, 'min_data_per_group': 227, 'max_cat_threshold': 485, 'cat_l2': 45.413369095139196, 'cat_smooth': 87.08565525956897, 'max_cat_to_onehot': 27, 'max_bin': 632, 'min_data_in_bin': 34}. Best is trial 1 with value: 0.0674081943657259.\n",
      "[I 2020-08-27 17:21:50,317] Trial 0 finished with value: 0.06959689417262631 and parameters: {'num_iterations': 94, 'learning_rate': 0.4032261012568846, 'num_leaves': 121, 'max_depth': 19, 'min_data_in_leaf': 369, 'min_sum_hessian_in_leaf': 0.1364906231563803, 'bagging_freq': 0, 'bagging_fraction': 0.7271848812213663, 'feature_fraction': 0.6779042758880096, 'lambda_l1': 55.32233457830071, 'lambda_l2': 42.84656691186624, 'min_gain_to_split': 0.07127895884983065, 'min_data_per_group': 431, 'max_cat_threshold': 70, 'cat_l2': 41.37300385050969, 'cat_smooth': 1229.1342054498475, 'max_cat_to_onehot': 16, 'max_bin': 326, 'min_data_in_bin': 37}. Best is trial 0 with value: 0.06959689417262631.\n",
      "[I 2020-08-27 17:21:50,538] Trial 1 finished with value: 0.06768211638677812 and parameters: {'num_iterations': 67, 'learning_rate': 0.03746294609752311, 'num_leaves': 158, 'max_depth': 12, 'min_data_in_leaf': 32, 'min_sum_hessian_in_leaf': 0.14511985173887948, 'bagging_freq': 0, 'bagging_fraction': 0.675761436394881, 'feature_fraction': 0.6330760786411519, 'lambda_l1': 29.782572825444007, 'lambda_l2': 5.1211225902930835, 'min_gain_to_split': 0.18030446870444447, 'min_data_per_group': 346, 'max_cat_threshold': 268, 'cat_l2': 62.50914642127281, 'cat_smooth': 379.560142094743, 'max_cat_to_onehot': 10, 'max_bin': 702, 'min_data_in_bin': 33}. Best is trial 1 with value: 0.06768211638677812.\n",
      "[I 2020-08-27 17:21:51,105] Trial 2 finished with value: 0.0684071010059252 and parameters: {'num_iterations': 91, 'learning_rate': 0.08081207670528569, 'num_leaves': 45, 'max_depth': 30, 'min_data_in_leaf': 52, 'min_sum_hessian_in_leaf': 0.14564408551350866, 'bagging_freq': 1, 'bagging_fraction': 0.7421054227078454, 'feature_fraction': 0.9553626362706973, 'lambda_l1': 33.48323382484937, 'lambda_l2': 25.91037545717554, 'min_gain_to_split': 0.039619274608901967, 'min_data_per_group': 284, 'max_cat_threshold': 377, 'cat_l2': 11.820566283956346, 'cat_smooth': 119.75451760945361, 'max_cat_to_onehot': 11, 'max_bin': 150, 'min_data_in_bin': 10}. Best is trial 1 with value: 0.06768211638677812.\n",
      "[I 2020-08-27 17:21:51,283] Trial 3 finished with value: 0.06755884289651641 and parameters: {'num_iterations': 98, 'learning_rate': 0.48221228650561615, 'num_leaves': 222, 'max_depth': 14, 'min_data_in_leaf': 343, 'min_sum_hessian_in_leaf': 0.16336286068921954, 'bagging_freq': 0, 'bagging_fraction': 0.9794991100182464, 'feature_fraction': 0.63728942034678, 'lambda_l1': 38.02920861460169, 'lambda_l2': 39.83162229799324, 'min_gain_to_split': 0.056989793815496015, 'min_data_per_group': 227, 'max_cat_threshold': 485, 'cat_l2': 45.413369095139196, 'cat_smooth': 87.08565525956897, 'max_cat_to_onehot': 27, 'max_bin': 632, 'min_data_in_bin': 34}. Best is trial 3 with value: 0.06755884289651641.\n",
      "[I 2020-08-27 17:21:53,120] Trial 0 finished with value: 0.0698854847161386 and parameters: {'num_iterations': 94, 'learning_rate': 0.4032261012568846, 'num_leaves': 121, 'max_depth': 19, 'min_data_in_leaf': 369, 'min_sum_hessian_in_leaf': 0.1364906231563803, 'bagging_freq': 0, 'bagging_fraction': 0.7271848812213663, 'feature_fraction': 0.6779042758880096, 'lambda_l1': 55.32233457830071, 'lambda_l2': 42.84656691186624, 'min_gain_to_split': 0.07127895884983065, 'min_data_per_group': 431, 'max_cat_threshold': 70, 'cat_l2': 41.37300385050969, 'cat_smooth': 1229.1342054498475, 'max_cat_to_onehot': 16, 'max_bin': 326, 'min_data_in_bin': 37}. Best is trial 0 with value: 0.0698854847161386.\n",
      "[I 2020-08-27 17:21:53,339] Trial 1 finished with value: 0.0681704116255321 and parameters: {'num_iterations': 67, 'learning_rate': 0.03746294609752311, 'num_leaves': 158, 'max_depth': 12, 'min_data_in_leaf': 32, 'min_sum_hessian_in_leaf': 0.14511985173887948, 'bagging_freq': 0, 'bagging_fraction': 0.675761436394881, 'feature_fraction': 0.6330760786411519, 'lambda_l1': 29.782572825444007, 'lambda_l2': 5.1211225902930835, 'min_gain_to_split': 0.18030446870444447, 'min_data_per_group': 346, 'max_cat_threshold': 268, 'cat_l2': 62.50914642127281, 'cat_smooth': 379.560142094743, 'max_cat_to_onehot': 10, 'max_bin': 702, 'min_data_in_bin': 33}. Best is trial 1 with value: 0.0681704116255321.\n",
      "[I 2020-08-27 17:21:53,916] Trial 2 finished with value: 0.06856136580766707 and parameters: {'num_iterations': 91, 'learning_rate': 0.08081207670528569, 'num_leaves': 45, 'max_depth': 30, 'min_data_in_leaf': 52, 'min_sum_hessian_in_leaf': 0.14564408551350866, 'bagging_freq': 1, 'bagging_fraction': 0.7421054227078454, 'feature_fraction': 0.9553626362706973, 'lambda_l1': 33.48323382484937, 'lambda_l2': 25.91037545717554, 'min_gain_to_split': 0.039619274608901967, 'min_data_per_group': 284, 'max_cat_threshold': 377, 'cat_l2': 11.820566283956346, 'cat_smooth': 119.75451760945361, 'max_cat_to_onehot': 11, 'max_bin': 150, 'min_data_in_bin': 10}. Best is trial 1 with value: 0.0681704116255321.\n",
      "[I 2020-08-27 17:21:54,094] Trial 3 finished with value: 0.06776719917418497 and parameters: {'num_iterations': 98, 'learning_rate': 0.48221228650561615, 'num_leaves': 222, 'max_depth': 14, 'min_data_in_leaf': 343, 'min_sum_hessian_in_leaf': 0.16336286068921954, 'bagging_freq': 0, 'bagging_fraction': 0.9794991100182464, 'feature_fraction': 0.63728942034678, 'lambda_l1': 38.02920861460169, 'lambda_l2': 39.83162229799324, 'min_gain_to_split': 0.056989793815496015, 'min_data_per_group': 227, 'max_cat_threshold': 485, 'cat_l2': 45.413369095139196, 'cat_smooth': 87.08565525956897, 'max_cat_to_onehot': 27, 'max_bin': 632, 'min_data_in_bin': 34}. Best is trial 3 with value: 0.06776719917418497.\n",
      "[I 2020-08-27 17:21:55,950] Trial 0 finished with value: 0.07050314669599667 and parameters: {'num_iterations': 94, 'learning_rate': 0.4032261012568846, 'num_leaves': 121, 'max_depth': 19, 'min_data_in_leaf': 369, 'min_sum_hessian_in_leaf': 0.1364906231563803, 'bagging_freq': 0, 'bagging_fraction': 0.7271848812213663, 'feature_fraction': 0.6779042758880096, 'lambda_l1': 55.32233457830071, 'lambda_l2': 42.84656691186624, 'min_gain_to_split': 0.07127895884983065, 'min_data_per_group': 431, 'max_cat_threshold': 70, 'cat_l2': 41.37300385050969, 'cat_smooth': 1229.1342054498475, 'max_cat_to_onehot': 16, 'max_bin': 326, 'min_data_in_bin': 37}. Best is trial 0 with value: 0.07050314669599667.\n",
      "[I 2020-08-27 17:21:56,147] Trial 1 finished with value: 0.06861686847638293 and parameters: {'num_iterations': 67, 'learning_rate': 0.03746294609752311, 'num_leaves': 158, 'max_depth': 12, 'min_data_in_leaf': 32, 'min_sum_hessian_in_leaf': 0.14511985173887948, 'bagging_freq': 0, 'bagging_fraction': 0.675761436394881, 'feature_fraction': 0.6330760786411519, 'lambda_l1': 29.782572825444007, 'lambda_l2': 5.1211225902930835, 'min_gain_to_split': 0.18030446870444447, 'min_data_per_group': 346, 'max_cat_threshold': 268, 'cat_l2': 62.50914642127281, 'cat_smooth': 379.560142094743, 'max_cat_to_onehot': 10, 'max_bin': 702, 'min_data_in_bin': 33}. Best is trial 1 with value: 0.06861686847638293.\n",
      "[I 2020-08-27 17:21:56,692] Trial 2 finished with value: 0.06879745629874011 and parameters: {'num_iterations': 91, 'learning_rate': 0.08081207670528569, 'num_leaves': 45, 'max_depth': 30, 'min_data_in_leaf': 52, 'min_sum_hessian_in_leaf': 0.14564408551350866, 'bagging_freq': 1, 'bagging_fraction': 0.7421054227078454, 'feature_fraction': 0.9553626362706973, 'lambda_l1': 33.48323382484937, 'lambda_l2': 25.91037545717554, 'min_gain_to_split': 0.039619274608901967, 'min_data_per_group': 284, 'max_cat_threshold': 377, 'cat_l2': 11.820566283956346, 'cat_smooth': 119.75451760945361, 'max_cat_to_onehot': 11, 'max_bin': 150, 'min_data_in_bin': 10}. Best is trial 1 with value: 0.06861686847638293.\n",
      "[I 2020-08-27 17:21:56,874] Trial 3 finished with value: 0.06841837777651051 and parameters: {'num_iterations': 98, 'learning_rate': 0.48221228650561615, 'num_leaves': 222, 'max_depth': 14, 'min_data_in_leaf': 343, 'min_sum_hessian_in_leaf': 0.16336286068921954, 'bagging_freq': 0, 'bagging_fraction': 0.9794991100182464, 'feature_fraction': 0.63728942034678, 'lambda_l1': 38.02920861460169, 'lambda_l2': 39.83162229799324, 'min_gain_to_split': 0.056989793815496015, 'min_data_per_group': 227, 'max_cat_threshold': 485, 'cat_l2': 45.413369095139196, 'cat_smooth': 87.08565525956897, 'max_cat_to_onehot': 27, 'max_bin': 632, 'min_data_in_bin': 34}. Best is trial 3 with value: 0.06841837777651051.\n",
      "[I 2020-08-27 17:21:58,747] Trial 0 finished with value: 0.07009303720722841 and parameters: {'num_iterations': 94, 'learning_rate': 0.4032261012568846, 'num_leaves': 121, 'max_depth': 19, 'min_data_in_leaf': 369, 'min_sum_hessian_in_leaf': 0.1364906231563803, 'bagging_freq': 0, 'bagging_fraction': 0.7271848812213663, 'feature_fraction': 0.6779042758880096, 'lambda_l1': 55.32233457830071, 'lambda_l2': 42.84656691186624, 'min_gain_to_split': 0.07127895884983065, 'min_data_per_group': 431, 'max_cat_threshold': 70, 'cat_l2': 41.37300385050969, 'cat_smooth': 1229.1342054498475, 'max_cat_to_onehot': 16, 'max_bin': 326, 'min_data_in_bin': 37}. Best is trial 0 with value: 0.07009303720722841.\n",
      "[I 2020-08-27 17:21:58,951] Trial 1 finished with value: 0.06806412468379708 and parameters: {'num_iterations': 67, 'learning_rate': 0.03746294609752311, 'num_leaves': 158, 'max_depth': 12, 'min_data_in_leaf': 32, 'min_sum_hessian_in_leaf': 0.14511985173887948, 'bagging_freq': 0, 'bagging_fraction': 0.675761436394881, 'feature_fraction': 0.6330760786411519, 'lambda_l1': 29.782572825444007, 'lambda_l2': 5.1211225902930835, 'min_gain_to_split': 0.18030446870444447, 'min_data_per_group': 346, 'max_cat_threshold': 268, 'cat_l2': 62.50914642127281, 'cat_smooth': 379.560142094743, 'max_cat_to_onehot': 10, 'max_bin': 702, 'min_data_in_bin': 33}. Best is trial 1 with value: 0.06806412468379708.\n",
      "[I 2020-08-27 17:21:59,497] Trial 2 finished with value: 0.06881685800691172 and parameters: {'num_iterations': 91, 'learning_rate': 0.08081207670528569, 'num_leaves': 45, 'max_depth': 30, 'min_data_in_leaf': 52, 'min_sum_hessian_in_leaf': 0.14564408551350866, 'bagging_freq': 1, 'bagging_fraction': 0.7421054227078454, 'feature_fraction': 0.9553626362706973, 'lambda_l1': 33.48323382484937, 'lambda_l2': 25.91037545717554, 'min_gain_to_split': 0.039619274608901967, 'min_data_per_group': 284, 'max_cat_threshold': 377, 'cat_l2': 11.820566283956346, 'cat_smooth': 119.75451760945361, 'max_cat_to_onehot': 11, 'max_bin': 150, 'min_data_in_bin': 10}. Best is trial 1 with value: 0.06806412468379708.\n",
      "[I 2020-08-27 17:21:59,709] Trial 3 finished with value: 0.06819231917893556 and parameters: {'num_iterations': 98, 'learning_rate': 0.48221228650561615, 'num_leaves': 222, 'max_depth': 14, 'min_data_in_leaf': 343, 'min_sum_hessian_in_leaf': 0.16336286068921954, 'bagging_freq': 0, 'bagging_fraction': 0.9794991100182464, 'feature_fraction': 0.63728942034678, 'lambda_l1': 38.02920861460169, 'lambda_l2': 39.83162229799324, 'min_gain_to_split': 0.056989793815496015, 'min_data_per_group': 227, 'max_cat_threshold': 485, 'cat_l2': 45.413369095139196, 'cat_smooth': 87.08565525956897, 'max_cat_to_onehot': 27, 'max_bin': 632, 'min_data_in_bin': 34}. Best is trial 1 with value: 0.06806412468379708.\n",
      "[I 2020-08-27 17:22:01,607] Trial 0 finished with value: 0.07000415054221826 and parameters: {'num_iterations': 94, 'learning_rate': 0.4032261012568846, 'num_leaves': 121, 'max_depth': 19, 'min_data_in_leaf': 369, 'min_sum_hessian_in_leaf': 0.1364906231563803, 'bagging_freq': 0, 'bagging_fraction': 0.7271848812213663, 'feature_fraction': 0.6779042758880096, 'lambda_l1': 55.32233457830071, 'lambda_l2': 42.84656691186624, 'min_gain_to_split': 0.07127895884983065, 'min_data_per_group': 431, 'max_cat_threshold': 70, 'cat_l2': 41.37300385050969, 'cat_smooth': 1229.1342054498475, 'max_cat_to_onehot': 16, 'max_bin': 326, 'min_data_in_bin': 37}. Best is trial 0 with value: 0.07000415054221826.\n",
      "[I 2020-08-27 17:22:01,795] Trial 1 finished with value: 0.06778088861004615 and parameters: {'num_iterations': 67, 'learning_rate': 0.03746294609752311, 'num_leaves': 158, 'max_depth': 12, 'min_data_in_leaf': 32, 'min_sum_hessian_in_leaf': 0.14511985173887948, 'bagging_freq': 0, 'bagging_fraction': 0.675761436394881, 'feature_fraction': 0.6330760786411519, 'lambda_l1': 29.782572825444007, 'lambda_l2': 5.1211225902930835, 'min_gain_to_split': 0.18030446870444447, 'min_data_per_group': 346, 'max_cat_threshold': 268, 'cat_l2': 62.50914642127281, 'cat_smooth': 379.560142094743, 'max_cat_to_onehot': 10, 'max_bin': 702, 'min_data_in_bin': 33}. Best is trial 1 with value: 0.06778088861004615.\n",
      "[I 2020-08-27 17:22:02,319] Trial 2 finished with value: 0.07070041965006554 and parameters: {'num_iterations': 91, 'learning_rate': 0.08081207670528569, 'num_leaves': 45, 'max_depth': 30, 'min_data_in_leaf': 52, 'min_sum_hessian_in_leaf': 0.14564408551350866, 'bagging_freq': 1, 'bagging_fraction': 0.7421054227078454, 'feature_fraction': 0.9553626362706973, 'lambda_l1': 33.48323382484937, 'lambda_l2': 25.91037545717554, 'min_gain_to_split': 0.039619274608901967, 'min_data_per_group': 284, 'max_cat_threshold': 377, 'cat_l2': 11.820566283956346, 'cat_smooth': 119.75451760945361, 'max_cat_to_onehot': 11, 'max_bin': 150, 'min_data_in_bin': 10}. Best is trial 1 with value: 0.06778088861004615.\n",
      "[I 2020-08-27 17:22:02,486] Trial 3 finished with value: 0.06887304769364821 and parameters: {'num_iterations': 98, 'learning_rate': 0.48221228650561615, 'num_leaves': 222, 'max_depth': 14, 'min_data_in_leaf': 343, 'min_sum_hessian_in_leaf': 0.16336286068921954, 'bagging_freq': 0, 'bagging_fraction': 0.9794991100182464, 'feature_fraction': 0.63728942034678, 'lambda_l1': 38.02920861460169, 'lambda_l2': 39.83162229799324, 'min_gain_to_split': 0.056989793815496015, 'min_data_per_group': 227, 'max_cat_threshold': 485, 'cat_l2': 45.413369095139196, 'cat_smooth': 87.08565525956897, 'max_cat_to_onehot': 27, 'max_bin': 632, 'min_data_in_bin': 34}. Best is trial 1 with value: 0.06778088861004615.\n",
      "[I 2020-08-27 17:22:04,369] Trial 0 finished with value: 0.07039135467476829 and parameters: {'num_iterations': 94, 'learning_rate': 0.4032261012568846, 'num_leaves': 121, 'max_depth': 19, 'min_data_in_leaf': 369, 'min_sum_hessian_in_leaf': 0.1364906231563803, 'bagging_freq': 0, 'bagging_fraction': 0.7271848812213663, 'feature_fraction': 0.6779042758880096, 'lambda_l1': 55.32233457830071, 'lambda_l2': 42.84656691186624, 'min_gain_to_split': 0.07127895884983065, 'min_data_per_group': 431, 'max_cat_threshold': 70, 'cat_l2': 41.37300385050969, 'cat_smooth': 1229.1342054498475, 'max_cat_to_onehot': 16, 'max_bin': 326, 'min_data_in_bin': 37}. Best is trial 0 with value: 0.07039135467476829.\n",
      "[I 2020-08-27 17:22:04,567] Trial 1 finished with value: 0.06951285871445348 and parameters: {'num_iterations': 67, 'learning_rate': 0.03746294609752311, 'num_leaves': 158, 'max_depth': 12, 'min_data_in_leaf': 32, 'min_sum_hessian_in_leaf': 0.14511985173887948, 'bagging_freq': 0, 'bagging_fraction': 0.675761436394881, 'feature_fraction': 0.6330760786411519, 'lambda_l1': 29.782572825444007, 'lambda_l2': 5.1211225902930835, 'min_gain_to_split': 0.18030446870444447, 'min_data_per_group': 346, 'max_cat_threshold': 268, 'cat_l2': 62.50914642127281, 'cat_smooth': 379.560142094743, 'max_cat_to_onehot': 10, 'max_bin': 702, 'min_data_in_bin': 33}. Best is trial 1 with value: 0.06951285871445348.\n",
      "[I 2020-08-27 17:22:05,040] Trial 2 finished with value: 0.07023298239157859 and parameters: {'num_iterations': 91, 'learning_rate': 0.08081207670528569, 'num_leaves': 45, 'max_depth': 30, 'min_data_in_leaf': 52, 'min_sum_hessian_in_leaf': 0.14564408551350866, 'bagging_freq': 1, 'bagging_fraction': 0.7421054227078454, 'feature_fraction': 0.9553626362706973, 'lambda_l1': 33.48323382484937, 'lambda_l2': 25.91037545717554, 'min_gain_to_split': 0.039619274608901967, 'min_data_per_group': 284, 'max_cat_threshold': 377, 'cat_l2': 11.820566283956346, 'cat_smooth': 119.75451760945361, 'max_cat_to_onehot': 11, 'max_bin': 150, 'min_data_in_bin': 10}. Best is trial 1 with value: 0.06951285871445348.\n",
      "[I 2020-08-27 17:22:05,207] Trial 3 finished with value: 0.06949028832750641 and parameters: {'num_iterations': 98, 'learning_rate': 0.48221228650561615, 'num_leaves': 222, 'max_depth': 14, 'min_data_in_leaf': 343, 'min_sum_hessian_in_leaf': 0.16336286068921954, 'bagging_freq': 0, 'bagging_fraction': 0.9794991100182464, 'feature_fraction': 0.63728942034678, 'lambda_l1': 38.02920861460169, 'lambda_l2': 39.83162229799324, 'min_gain_to_split': 0.056989793815496015, 'min_data_per_group': 227, 'max_cat_threshold': 485, 'cat_l2': 45.413369095139196, 'cat_smooth': 87.08565525956897, 'max_cat_to_onehot': 27, 'max_bin': 632, 'min_data_in_bin': 34}. Best is trial 3 with value: 0.06949028832750641.\n"
     ]
    }
   ],
   "source": [
    "N_TRIALS = 4\n",
    "params = modeler.hyperoptimize(n_trials=N_TRIALS)"
   ]
  },
  {
   "cell_type": "markdown",
   "metadata": {},
   "source": [
    "Using our new hyperparameter sets is as simple as passing them to build_model."
   ]
  },
  {
   "cell_type": "code",
   "execution_count": 13,
   "metadata": {
    "scrolled": true
   },
   "outputs": [
    {
     "name": "stderr",
     "output_type": "stream",
     "text": [
      "Found `num_iterations` in params. Will use it instead of argument\n",
      "categorical_feature in Dataset is overridden.\n",
      "New categorical_feature is ['age', 'anticipation', 'change_recent', 'country', 'defeat_recent', 'delayed', 'direct_recent', 'elected', 'election_now', 'election_recent', 'exec_ant', 'exec_recent', 'government', 'indirect_recent', 'irreg_lead_ant', 'lead_recent', 'leg_ant', 'leg_recent', 'male', 'militarycareer', 'month', 'nochange_recent', 'prev_conflict', 'pt_attempt', 'pt_suc', 'ref_ant', 'ref_recent', 'tenure_months', 'victory_recent', 'year']\n",
      "Found `num_iterations` in params. Will use it instead of argument\n",
      "categorical_feature in Dataset is overridden.\n",
      "New categorical_feature is ['age', 'anticipation', 'change_recent', 'country', 'defeat_recent', 'delayed', 'direct_recent', 'elected', 'election_now', 'election_recent', 'exec_ant', 'exec_recent', 'government', 'indirect_recent', 'irreg_lead_ant', 'lead_recent', 'leg_ant', 'leg_recent', 'male', 'militarycareer', 'month', 'nochange_recent', 'prev_conflict', 'pt_attempt', 'pt_suc', 'ref_ant', 'ref_recent', 'tenure_months', 'victory_recent', 'year']\n",
      "Found `num_iterations` in params. Will use it instead of argument\n",
      "categorical_feature in Dataset is overridden.\n",
      "New categorical_feature is ['age', 'anticipation', 'change_recent', 'country', 'defeat_recent', 'delayed', 'direct_recent', 'elected', 'election_now', 'election_recent', 'exec_ant', 'exec_recent', 'government', 'indirect_recent', 'irreg_lead_ant', 'lead_recent', 'leg_ant', 'leg_recent', 'male', 'militarycareer', 'month', 'nochange_recent', 'prev_conflict', 'pt_attempt', 'pt_suc', 'ref_ant', 'ref_recent', 'tenure_months', 'victory_recent', 'year']\n",
      "Found `num_iterations` in params. Will use it instead of argument\n",
      "categorical_feature in Dataset is overridden.\n",
      "New categorical_feature is ['age', 'anticipation', 'change_recent', 'country', 'defeat_recent', 'delayed', 'direct_recent', 'elected', 'election_now', 'election_recent', 'exec_ant', 'exec_recent', 'government', 'indirect_recent', 'irreg_lead_ant', 'lead_recent', 'leg_ant', 'leg_recent', 'male', 'militarycareer', 'month', 'nochange_recent', 'prev_conflict', 'pt_attempt', 'pt_suc', 'ref_ant', 'ref_recent', 'tenure_months', 'victory_recent', 'year']\n",
      "Found `num_iterations` in params. Will use it instead of argument\n",
      "categorical_feature in Dataset is overridden.\n",
      "New categorical_feature is ['age', 'anticipation', 'change_recent', 'country', 'defeat_recent', 'delayed', 'direct_recent', 'elected', 'election_now', 'election_recent', 'exec_ant', 'exec_recent', 'government', 'indirect_recent', 'irreg_lead_ant', 'lead_recent', 'leg_ant', 'leg_recent', 'male', 'militarycareer', 'month', 'nochange_recent', 'prev_conflict', 'pt_attempt', 'pt_suc', 'ref_ant', 'ref_recent', 'tenure_months', 'victory_recent', 'year']\n",
      "Found `num_iterations` in params. Will use it instead of argument\n",
      "categorical_feature in Dataset is overridden.\n",
      "New categorical_feature is ['age', 'anticipation', 'change_recent', 'country', 'defeat_recent', 'delayed', 'direct_recent', 'elected', 'election_now', 'election_recent', 'exec_ant', 'exec_recent', 'government', 'indirect_recent', 'irreg_lead_ant', 'lead_recent', 'leg_ant', 'leg_recent', 'male', 'militarycareer', 'month', 'nochange_recent', 'prev_conflict', 'pt_attempt', 'pt_suc', 'ref_ant', 'ref_recent', 'tenure_months', 'victory_recent', 'year']\n",
      "Found `num_iterations` in params. Will use it instead of argument\n",
      "categorical_feature in Dataset is overridden.\n",
      "New categorical_feature is ['age', 'anticipation', 'change_recent', 'country', 'defeat_recent', 'delayed', 'direct_recent', 'elected', 'election_now', 'election_recent', 'exec_ant', 'exec_recent', 'government', 'indirect_recent', 'irreg_lead_ant', 'lead_recent', 'leg_ant', 'leg_recent', 'male', 'militarycareer', 'month', 'nochange_recent', 'prev_conflict', 'pt_attempt', 'pt_suc', 'ref_ant', 'ref_recent', 'tenure_months', 'victory_recent', 'year']\n",
      "Found `num_iterations` in params. Will use it instead of argument\n",
      "categorical_feature in Dataset is overridden.\n",
      "New categorical_feature is ['age', 'anticipation', 'change_recent', 'country', 'defeat_recent', 'delayed', 'direct_recent', 'elected', 'election_now', 'election_recent', 'exec_ant', 'exec_recent', 'government', 'indirect_recent', 'irreg_lead_ant', 'lead_recent', 'leg_ant', 'leg_recent', 'male', 'militarycareer', 'month', 'nochange_recent', 'prev_conflict', 'pt_attempt', 'pt_suc', 'ref_ant', 'ref_recent', 'tenure_months', 'victory_recent', 'year']\n",
      "Found `num_iterations` in params. Will use it instead of argument\n",
      "categorical_feature in Dataset is overridden.\n",
      "New categorical_feature is ['age', 'anticipation', 'change_recent', 'country', 'defeat_recent', 'delayed', 'direct_recent', 'elected', 'election_now', 'election_recent', 'exec_ant', 'exec_recent', 'government', 'indirect_recent', 'irreg_lead_ant', 'lead_recent', 'leg_ant', 'leg_recent', 'male', 'militarycareer', 'month', 'nochange_recent', 'prev_conflict', 'pt_attempt', 'pt_suc', 'ref_ant', 'ref_recent', 'tenure_months', 'victory_recent', 'year']\n",
      "Found `num_iterations` in params. Will use it instead of argument\n",
      "categorical_feature in Dataset is overridden.\n",
      "New categorical_feature is ['age', 'anticipation', 'change_recent', 'country', 'defeat_recent', 'delayed', 'direct_recent', 'elected', 'election_now', 'election_recent', 'exec_ant', 'exec_recent', 'government', 'indirect_recent', 'irreg_lead_ant', 'lead_recent', 'leg_ant', 'leg_recent', 'male', 'militarycareer', 'month', 'nochange_recent', 'prev_conflict', 'pt_attempt', 'pt_suc', 'ref_ant', 'ref_recent', 'tenure_months', 'victory_recent', 'year']\n",
      "Found `num_iterations` in params. Will use it instead of argument\n",
      "categorical_feature in Dataset is overridden.\n",
      "New categorical_feature is ['age', 'anticipation', 'change_recent', 'country', 'defeat_recent', 'delayed', 'direct_recent', 'elected', 'election_now', 'election_recent', 'exec_ant', 'exec_recent', 'government', 'indirect_recent', 'irreg_lead_ant', 'lead_recent', 'leg_ant', 'leg_recent', 'male', 'militarycareer', 'month', 'nochange_recent', 'prev_conflict', 'pt_attempt', 'pt_suc', 'ref_ant', 'ref_recent', 'tenure_months', 'victory_recent', 'year']\n",
      "Found `num_iterations` in params. Will use it instead of argument\n",
      "categorical_feature in Dataset is overridden.\n",
      "New categorical_feature is ['age', 'anticipation', 'change_recent', 'country', 'defeat_recent', 'delayed', 'direct_recent', 'elected', 'election_now', 'election_recent', 'exec_ant', 'exec_recent', 'government', 'indirect_recent', 'irreg_lead_ant', 'lead_recent', 'leg_ant', 'leg_recent', 'male', 'militarycareer', 'month', 'nochange_recent', 'prev_conflict', 'pt_attempt', 'pt_suc', 'ref_ant', 'ref_recent', 'tenure_months', 'victory_recent', 'year']\n",
      "Found `num_iterations` in params. Will use it instead of argument\n",
      "categorical_feature in Dataset is overridden.\n",
      "New categorical_feature is ['age', 'anticipation', 'change_recent', 'country', 'defeat_recent', 'delayed', 'direct_recent', 'elected', 'election_now', 'election_recent', 'exec_ant', 'exec_recent', 'government', 'indirect_recent', 'irreg_lead_ant', 'lead_recent', 'leg_ant', 'leg_recent', 'male', 'militarycareer', 'month', 'nochange_recent', 'prev_conflict', 'pt_attempt', 'pt_suc', 'ref_ant', 'ref_recent', 'tenure_months', 'victory_recent', 'year']\n",
      "Found `num_iterations` in params. Will use it instead of argument\n",
      "categorical_feature in Dataset is overridden.\n",
      "New categorical_feature is ['age', 'anticipation', 'change_recent', 'country', 'defeat_recent', 'delayed', 'direct_recent', 'elected', 'election_now', 'election_recent', 'exec_ant', 'exec_recent', 'government', 'indirect_recent', 'irreg_lead_ant', 'lead_recent', 'leg_ant', 'leg_recent', 'male', 'militarycareer', 'month', 'nochange_recent', 'prev_conflict', 'pt_attempt', 'pt_suc', 'ref_ant', 'ref_recent', 'tenure_months', 'victory_recent', 'year']\n",
      "Found `num_iterations` in params. Will use it instead of argument\n",
      "categorical_feature in Dataset is overridden.\n",
      "New categorical_feature is ['age', 'anticipation', 'change_recent', 'country', 'defeat_recent', 'delayed', 'direct_recent', 'elected', 'election_now', 'election_recent', 'exec_ant', 'exec_recent', 'government', 'indirect_recent', 'irreg_lead_ant', 'lead_recent', 'leg_ant', 'leg_recent', 'male', 'militarycareer', 'month', 'nochange_recent', 'prev_conflict', 'pt_attempt', 'pt_suc', 'ref_ant', 'ref_recent', 'tenure_months', 'victory_recent', 'year']\n",
      "Found `num_iterations` in params. Will use it instead of argument\n",
      "categorical_feature in Dataset is overridden.\n",
      "New categorical_feature is ['age', 'anticipation', 'change_recent', 'country', 'defeat_recent', 'delayed', 'direct_recent', 'elected', 'election_now', 'election_recent', 'exec_ant', 'exec_recent', 'government', 'indirect_recent', 'irreg_lead_ant', 'lead_recent', 'leg_ant', 'leg_recent', 'male', 'militarycareer', 'month', 'nochange_recent', 'prev_conflict', 'pt_attempt', 'pt_suc', 'ref_ant', 'ref_recent', 'tenure_months', 'victory_recent', 'year']\n",
      "Found `num_iterations` in params. Will use it instead of argument\n",
      "categorical_feature in Dataset is overridden.\n",
      "New categorical_feature is ['age', 'anticipation', 'change_recent', 'country', 'defeat_recent', 'delayed', 'direct_recent', 'elected', 'election_now', 'election_recent', 'exec_ant', 'exec_recent', 'government', 'indirect_recent', 'irreg_lead_ant', 'lead_recent', 'leg_ant', 'leg_recent', 'male', 'militarycareer', 'month', 'nochange_recent', 'prev_conflict', 'pt_attempt', 'pt_suc', 'ref_ant', 'ref_recent', 'tenure_months', 'victory_recent', 'year']\n",
      "Found `num_iterations` in params. Will use it instead of argument\n",
      "categorical_feature in Dataset is overridden.\n",
      "New categorical_feature is ['age', 'anticipation', 'change_recent', 'country', 'defeat_recent', 'delayed', 'direct_recent', 'elected', 'election_now', 'election_recent', 'exec_ant', 'exec_recent', 'government', 'indirect_recent', 'irreg_lead_ant', 'lead_recent', 'leg_ant', 'leg_recent', 'male', 'militarycareer', 'month', 'nochange_recent', 'prev_conflict', 'pt_attempt', 'pt_suc', 'ref_ant', 'ref_recent', 'tenure_months', 'victory_recent', 'year']\n",
      "Found `num_iterations` in params. Will use it instead of argument\n",
      "categorical_feature in Dataset is overridden.\n",
      "New categorical_feature is ['age', 'anticipation', 'change_recent', 'country', 'defeat_recent', 'delayed', 'direct_recent', 'elected', 'election_now', 'election_recent', 'exec_ant', 'exec_recent', 'government', 'indirect_recent', 'irreg_lead_ant', 'lead_recent', 'leg_ant', 'leg_recent', 'male', 'militarycareer', 'month', 'nochange_recent', 'prev_conflict', 'pt_attempt', 'pt_suc', 'ref_ant', 'ref_recent', 'tenure_months', 'victory_recent', 'year']\n",
      "Found `num_iterations` in params. Will use it instead of argument\n",
      "categorical_feature in Dataset is overridden.\n",
      "New categorical_feature is ['age', 'anticipation', 'change_recent', 'country', 'defeat_recent', 'delayed', 'direct_recent', 'elected', 'election_now', 'election_recent', 'exec_ant', 'exec_recent', 'government', 'indirect_recent', 'irreg_lead_ant', 'lead_recent', 'leg_ant', 'leg_recent', 'male', 'militarycareer', 'month', 'nochange_recent', 'prev_conflict', 'pt_attempt', 'pt_suc', 'ref_ant', 'ref_recent', 'tenure_months', 'victory_recent', 'year']\n",
      "Found `num_iterations` in params. Will use it instead of argument\n",
      "categorical_feature in Dataset is overridden.\n",
      "New categorical_feature is ['age', 'anticipation', 'change_recent', 'country', 'defeat_recent', 'delayed', 'direct_recent', 'elected', 'election_now', 'election_recent', 'exec_ant', 'exec_recent', 'government', 'indirect_recent', 'irreg_lead_ant', 'lead_recent', 'leg_ant', 'leg_recent', 'male', 'militarycareer', 'month', 'nochange_recent', 'prev_conflict', 'pt_attempt', 'pt_suc', 'ref_ant', 'ref_recent', 'tenure_months', 'victory_recent', 'year']\n",
      "Found `num_iterations` in params. Will use it instead of argument\n",
      "categorical_feature in Dataset is overridden.\n",
      "New categorical_feature is ['age', 'anticipation', 'change_recent', 'country', 'defeat_recent', 'delayed', 'direct_recent', 'elected', 'election_now', 'election_recent', 'exec_ant', 'exec_recent', 'government', 'indirect_recent', 'irreg_lead_ant', 'lead_recent', 'leg_ant', 'leg_recent', 'male', 'militarycareer', 'month', 'nochange_recent', 'prev_conflict', 'pt_attempt', 'pt_suc', 'ref_ant', 'ref_recent', 'tenure_months', 'victory_recent', 'year']\n",
      "Found `num_iterations` in params. Will use it instead of argument\n",
      "categorical_feature in Dataset is overridden.\n",
      "New categorical_feature is ['age', 'anticipation', 'change_recent', 'country', 'defeat_recent', 'delayed', 'direct_recent', 'elected', 'election_now', 'election_recent', 'exec_ant', 'exec_recent', 'government', 'indirect_recent', 'irreg_lead_ant', 'lead_recent', 'leg_ant', 'leg_recent', 'male', 'militarycareer', 'month', 'nochange_recent', 'prev_conflict', 'pt_attempt', 'pt_suc', 'ref_ant', 'ref_recent', 'tenure_months', 'victory_recent', 'year']\n",
      "Found `num_iterations` in params. Will use it instead of argument\n",
      "categorical_feature in Dataset is overridden.\n",
      "New categorical_feature is ['age', 'anticipation', 'change_recent', 'country', 'defeat_recent', 'delayed', 'direct_recent', 'elected', 'election_now', 'election_recent', 'exec_ant', 'exec_recent', 'government', 'indirect_recent', 'irreg_lead_ant', 'lead_recent', 'leg_ant', 'leg_recent', 'male', 'militarycareer', 'month', 'nochange_recent', 'prev_conflict', 'pt_attempt', 'pt_suc', 'ref_ant', 'ref_recent', 'tenure_months', 'victory_recent', 'year']\n",
      "Found `num_iterations` in params. Will use it instead of argument\n",
      "categorical_feature in Dataset is overridden.\n",
      "New categorical_feature is ['age', 'anticipation', 'change_recent', 'country', 'defeat_recent', 'delayed', 'direct_recent', 'elected', 'election_now', 'election_recent', 'exec_ant', 'exec_recent', 'government', 'indirect_recent', 'irreg_lead_ant', 'lead_recent', 'leg_ant', 'leg_recent', 'male', 'militarycareer', 'month', 'nochange_recent', 'prev_conflict', 'pt_attempt', 'pt_suc', 'ref_ant', 'ref_recent', 'tenure_months', 'victory_recent', 'year']\n"
     ]
    }
   ],
   "source": [
    "modeler.build_model(TEST_INTERVALS, params)"
   ]
  },
  {
   "cell_type": "markdown",
   "metadata": {},
   "source": [
    "We can now evaluate our new model and directly compare it to our default model. The best hyperparameters on a validation set don't always outperform the default parameters on the test set, but in this case they do."
   ]
  },
  {
   "cell_type": "code",
   "execution_count": 14,
   "metadata": {},
   "outputs": [
    {
     "data": {
      "text/html": [
       "<div>\n",
       "<style scoped>\n",
       "    .dataframe tbody tr th:only-of-type {\n",
       "        vertical-align: middle;\n",
       "    }\n",
       "\n",
       "    .dataframe tbody tr th {\n",
       "        vertical-align: top;\n",
       "    }\n",
       "\n",
       "    .dataframe thead th {\n",
       "        text-align: right;\n",
       "    }\n",
       "</style>\n",
       "<table border=\"1\" class=\"dataframe\">\n",
       "  <thead>\n",
       "    <tr style=\"text-align: right;\">\n",
       "      <th></th>\n",
       "      <th>AUROC</th>\n",
       "      <th>Predicted Share</th>\n",
       "      <th>Actual Share</th>\n",
       "      <th>True Positives</th>\n",
       "      <th>False Negatives</th>\n",
       "      <th>False Positives</th>\n",
       "      <th>True Negatives</th>\n",
       "      <th>Other Metrics:</th>\n",
       "      <th>C-Index</th>\n",
       "    </tr>\n",
       "    <tr>\n",
       "      <th>Lead Length</th>\n",
       "      <th></th>\n",
       "      <th></th>\n",
       "      <th></th>\n",
       "      <th></th>\n",
       "      <th></th>\n",
       "      <th></th>\n",
       "      <th></th>\n",
       "      <th></th>\n",
       "      <th></th>\n",
       "    </tr>\n",
       "  </thead>\n",
       "  <tbody>\n",
       "    <tr>\n",
       "      <th>1</th>\n",
       "      <td>0.911917</td>\n",
       "      <td>0.984838</td>\n",
       "      <td>0.984694</td>\n",
       "      <td>192</td>\n",
       "      <td>1</td>\n",
       "      <td>3</td>\n",
       "      <td>0</td>\n",
       "      <td></td>\n",
       "      <td>0.7291262135922331</td>\n",
       "    </tr>\n",
       "    <tr>\n",
       "      <th>2</th>\n",
       "      <td>NaN</td>\n",
       "      <td>0.974906</td>\n",
       "      <td>1.000000</td>\n",
       "      <td>192</td>\n",
       "      <td>1</td>\n",
       "      <td>0</td>\n",
       "      <td>0</td>\n",
       "      <td></td>\n",
       "      <td></td>\n",
       "    </tr>\n",
       "    <tr>\n",
       "      <th>3</th>\n",
       "      <td>0.554974</td>\n",
       "      <td>0.964083</td>\n",
       "      <td>0.989637</td>\n",
       "      <td>191</td>\n",
       "      <td>0</td>\n",
       "      <td>1</td>\n",
       "      <td>1</td>\n",
       "      <td></td>\n",
       "      <td></td>\n",
       "    </tr>\n",
       "    <tr>\n",
       "      <th>4</th>\n",
       "      <td>0.994709</td>\n",
       "      <td>0.945375</td>\n",
       "      <td>0.989529</td>\n",
       "      <td>189</td>\n",
       "      <td>0</td>\n",
       "      <td>1</td>\n",
       "      <td>1</td>\n",
       "      <td></td>\n",
       "      <td></td>\n",
       "    </tr>\n",
       "    <tr>\n",
       "      <th>5</th>\n",
       "      <td>0.721739</td>\n",
       "      <td>0.932101</td>\n",
       "      <td>0.973545</td>\n",
       "      <td>183</td>\n",
       "      <td>1</td>\n",
       "      <td>5</td>\n",
       "      <td>0</td>\n",
       "      <td></td>\n",
       "      <td></td>\n",
       "    </tr>\n",
       "    <tr>\n",
       "      <th>6</th>\n",
       "      <td>0.975275</td>\n",
       "      <td>0.914116</td>\n",
       "      <td>0.989130</td>\n",
       "      <td>181</td>\n",
       "      <td>1</td>\n",
       "      <td>1</td>\n",
       "      <td>1</td>\n",
       "      <td></td>\n",
       "      <td></td>\n",
       "    </tr>\n",
       "    <tr>\n",
       "      <th>7</th>\n",
       "      <td>0.977901</td>\n",
       "      <td>0.905794</td>\n",
       "      <td>0.994505</td>\n",
       "      <td>178</td>\n",
       "      <td>3</td>\n",
       "      <td>1</td>\n",
       "      <td>0</td>\n",
       "      <td></td>\n",
       "      <td></td>\n",
       "    </tr>\n",
       "    <tr>\n",
       "      <th>8</th>\n",
       "      <td>0.824022</td>\n",
       "      <td>0.894197</td>\n",
       "      <td>0.988950</td>\n",
       "      <td>174</td>\n",
       "      <td>5</td>\n",
       "      <td>1</td>\n",
       "      <td>1</td>\n",
       "      <td></td>\n",
       "      <td></td>\n",
       "    </tr>\n",
       "    <tr>\n",
       "      <th>9</th>\n",
       "      <td>0.812857</td>\n",
       "      <td>0.881855</td>\n",
       "      <td>0.977654</td>\n",
       "      <td>171</td>\n",
       "      <td>4</td>\n",
       "      <td>2</td>\n",
       "      <td>2</td>\n",
       "      <td></td>\n",
       "      <td></td>\n",
       "    </tr>\n",
       "    <tr>\n",
       "      <th>10</th>\n",
       "      <td>0.524854</td>\n",
       "      <td>0.879104</td>\n",
       "      <td>0.977143</td>\n",
       "      <td>167</td>\n",
       "      <td>4</td>\n",
       "      <td>4</td>\n",
       "      <td>0</td>\n",
       "      <td></td>\n",
       "      <td></td>\n",
       "    </tr>\n",
       "    <tr>\n",
       "      <th>11</th>\n",
       "      <td>0.742063</td>\n",
       "      <td>0.860386</td>\n",
       "      <td>0.982456</td>\n",
       "      <td>164</td>\n",
       "      <td>4</td>\n",
       "      <td>2</td>\n",
       "      <td>1</td>\n",
       "      <td></td>\n",
       "      <td></td>\n",
       "    </tr>\n",
       "    <tr>\n",
       "      <th>12</th>\n",
       "      <td>0.798193</td>\n",
       "      <td>0.849022</td>\n",
       "      <td>0.988095</td>\n",
       "      <td>162</td>\n",
       "      <td>4</td>\n",
       "      <td>2</td>\n",
       "      <td>0</td>\n",
       "      <td></td>\n",
       "      <td></td>\n",
       "    </tr>\n",
       "    <tr>\n",
       "      <th>13</th>\n",
       "      <td>NaN</td>\n",
       "      <td>0.836648</td>\n",
       "      <td>1.000000</td>\n",
       "      <td>160</td>\n",
       "      <td>6</td>\n",
       "      <td>0</td>\n",
       "      <td>0</td>\n",
       "      <td></td>\n",
       "      <td></td>\n",
       "    </tr>\n",
       "    <tr>\n",
       "      <th>14</th>\n",
       "      <td>0.935185</td>\n",
       "      <td>0.821331</td>\n",
       "      <td>0.975904</td>\n",
       "      <td>157</td>\n",
       "      <td>5</td>\n",
       "      <td>2</td>\n",
       "      <td>2</td>\n",
       "      <td></td>\n",
       "      <td></td>\n",
       "    </tr>\n",
       "    <tr>\n",
       "      <th>15</th>\n",
       "      <td>0.746875</td>\n",
       "      <td>0.816334</td>\n",
       "      <td>0.987654</td>\n",
       "      <td>154</td>\n",
       "      <td>6</td>\n",
       "      <td>1</td>\n",
       "      <td>1</td>\n",
       "      <td></td>\n",
       "      <td></td>\n",
       "    </tr>\n",
       "    <tr>\n",
       "      <th>16</th>\n",
       "      <td>0.886792</td>\n",
       "      <td>0.806782</td>\n",
       "      <td>0.993750</td>\n",
       "      <td>150</td>\n",
       "      <td>9</td>\n",
       "      <td>1</td>\n",
       "      <td>0</td>\n",
       "      <td></td>\n",
       "      <td></td>\n",
       "    </tr>\n",
       "    <tr>\n",
       "      <th>17</th>\n",
       "      <td>0.729299</td>\n",
       "      <td>0.795900</td>\n",
       "      <td>0.987421</td>\n",
       "      <td>148</td>\n",
       "      <td>9</td>\n",
       "      <td>2</td>\n",
       "      <td>0</td>\n",
       "      <td></td>\n",
       "      <td></td>\n",
       "    </tr>\n",
       "    <tr>\n",
       "      <th>18</th>\n",
       "      <td>0.769231</td>\n",
       "      <td>0.785612</td>\n",
       "      <td>0.993631</td>\n",
       "      <td>147</td>\n",
       "      <td>9</td>\n",
       "      <td>1</td>\n",
       "      <td>0</td>\n",
       "      <td></td>\n",
       "      <td></td>\n",
       "    </tr>\n",
       "    <tr>\n",
       "      <th>19</th>\n",
       "      <td>0.675381</td>\n",
       "      <td>0.770264</td>\n",
       "      <td>0.980769</td>\n",
       "      <td>140</td>\n",
       "      <td>13</td>\n",
       "      <td>1</td>\n",
       "      <td>2</td>\n",
       "      <td></td>\n",
       "      <td></td>\n",
       "    </tr>\n",
       "    <tr>\n",
       "      <th>20</th>\n",
       "      <td>0.486842</td>\n",
       "      <td>0.765156</td>\n",
       "      <td>0.993464</td>\n",
       "      <td>137</td>\n",
       "      <td>15</td>\n",
       "      <td>1</td>\n",
       "      <td>0</td>\n",
       "      <td></td>\n",
       "      <td></td>\n",
       "    </tr>\n",
       "    <tr>\n",
       "      <th>21</th>\n",
       "      <td>0.079470</td>\n",
       "      <td>0.752690</td>\n",
       "      <td>0.993421</td>\n",
       "      <td>135</td>\n",
       "      <td>16</td>\n",
       "      <td>1</td>\n",
       "      <td>0</td>\n",
       "      <td></td>\n",
       "      <td></td>\n",
       "    </tr>\n",
       "    <tr>\n",
       "      <th>22</th>\n",
       "      <td>0.479866</td>\n",
       "      <td>0.741158</td>\n",
       "      <td>0.986755</td>\n",
       "      <td>132</td>\n",
       "      <td>17</td>\n",
       "      <td>2</td>\n",
       "      <td>0</td>\n",
       "      <td></td>\n",
       "      <td></td>\n",
       "    </tr>\n",
       "    <tr>\n",
       "      <th>23</th>\n",
       "      <td>0.703448</td>\n",
       "      <td>0.728048</td>\n",
       "      <td>0.973154</td>\n",
       "      <td>126</td>\n",
       "      <td>19</td>\n",
       "      <td>4</td>\n",
       "      <td>0</td>\n",
       "      <td></td>\n",
       "      <td></td>\n",
       "    </tr>\n",
       "    <tr>\n",
       "      <th>24</th>\n",
       "      <td>0.859929</td>\n",
       "      <td>0.717591</td>\n",
       "      <td>0.972414</td>\n",
       "      <td>122</td>\n",
       "      <td>19</td>\n",
       "      <td>2</td>\n",
       "      <td>2</td>\n",
       "      <td></td>\n",
       "      <td></td>\n",
       "    </tr>\n",
       "    <tr>\n",
       "      <th>25</th>\n",
       "      <td>0.695588</td>\n",
       "      <td>0.713871</td>\n",
       "      <td>0.964539</td>\n",
       "      <td>117</td>\n",
       "      <td>19</td>\n",
       "      <td>3</td>\n",
       "      <td>2</td>\n",
       "      <td></td>\n",
       "      <td></td>\n",
       "    </tr>\n",
       "    <tr>\n",
       "      <th>26</th>\n",
       "      <td>0.585821</td>\n",
       "      <td>0.707660</td>\n",
       "      <td>0.985294</td>\n",
       "      <td>114</td>\n",
       "      <td>20</td>\n",
       "      <td>1</td>\n",
       "      <td>1</td>\n",
       "      <td></td>\n",
       "      <td></td>\n",
       "    </tr>\n",
       "    <tr>\n",
       "      <th>27</th>\n",
       "      <td>0.753788</td>\n",
       "      <td>0.699863</td>\n",
       "      <td>0.985075</td>\n",
       "      <td>113</td>\n",
       "      <td>19</td>\n",
       "      <td>1</td>\n",
       "      <td>1</td>\n",
       "      <td></td>\n",
       "      <td></td>\n",
       "    </tr>\n",
       "    <tr>\n",
       "      <th>28</th>\n",
       "      <td>0.954198</td>\n",
       "      <td>0.693778</td>\n",
       "      <td>0.992424</td>\n",
       "      <td>112</td>\n",
       "      <td>19</td>\n",
       "      <td>0</td>\n",
       "      <td>1</td>\n",
       "      <td></td>\n",
       "      <td></td>\n",
       "    </tr>\n",
       "    <tr>\n",
       "      <th>29</th>\n",
       "      <td>0.732558</td>\n",
       "      <td>0.687942</td>\n",
       "      <td>0.984733</td>\n",
       "      <td>110</td>\n",
       "      <td>19</td>\n",
       "      <td>2</td>\n",
       "      <td>0</td>\n",
       "      <td></td>\n",
       "      <td></td>\n",
       "    </tr>\n",
       "    <tr>\n",
       "      <th>30</th>\n",
       "      <td>0.842520</td>\n",
       "      <td>0.678882</td>\n",
       "      <td>0.984496</td>\n",
       "      <td>108</td>\n",
       "      <td>19</td>\n",
       "      <td>1</td>\n",
       "      <td>1</td>\n",
       "      <td></td>\n",
       "      <td></td>\n",
       "    </tr>\n",
       "    <tr>\n",
       "      <th>31</th>\n",
       "      <td>0.654472</td>\n",
       "      <td>0.670071</td>\n",
       "      <td>0.968504</td>\n",
       "      <td>102</td>\n",
       "      <td>21</td>\n",
       "      <td>2</td>\n",
       "      <td>2</td>\n",
       "      <td></td>\n",
       "      <td></td>\n",
       "    </tr>\n",
       "    <tr>\n",
       "      <th>32</th>\n",
       "      <td>0.885246</td>\n",
       "      <td>0.663752</td>\n",
       "      <td>0.991870</td>\n",
       "      <td>99</td>\n",
       "      <td>23</td>\n",
       "      <td>0</td>\n",
       "      <td>1</td>\n",
       "      <td></td>\n",
       "      <td></td>\n",
       "    </tr>\n",
       "    <tr>\n",
       "      <th>33</th>\n",
       "      <td>0.966942</td>\n",
       "      <td>0.654696</td>\n",
       "      <td>0.991803</td>\n",
       "      <td>98</td>\n",
       "      <td>23</td>\n",
       "      <td>0</td>\n",
       "      <td>1</td>\n",
       "      <td></td>\n",
       "      <td></td>\n",
       "    </tr>\n",
       "    <tr>\n",
       "      <th>34</th>\n",
       "      <td>0.916667</td>\n",
       "      <td>0.648958</td>\n",
       "      <td>0.991736</td>\n",
       "      <td>97</td>\n",
       "      <td>23</td>\n",
       "      <td>0</td>\n",
       "      <td>1</td>\n",
       "      <td></td>\n",
       "      <td></td>\n",
       "    </tr>\n",
       "    <tr>\n",
       "      <th>35</th>\n",
       "      <td>0.739496</td>\n",
       "      <td>0.641642</td>\n",
       "      <td>0.991667</td>\n",
       "      <td>95</td>\n",
       "      <td>24</td>\n",
       "      <td>1</td>\n",
       "      <td>0</td>\n",
       "      <td></td>\n",
       "      <td></td>\n",
       "    </tr>\n",
       "    <tr>\n",
       "      <th>36</th>\n",
       "      <td>0.706897</td>\n",
       "      <td>0.630917</td>\n",
       "      <td>0.974790</td>\n",
       "      <td>93</td>\n",
       "      <td>23</td>\n",
       "      <td>2</td>\n",
       "      <td>1</td>\n",
       "      <td></td>\n",
       "      <td></td>\n",
       "    </tr>\n",
       "  </tbody>\n",
       "</table>\n",
       "</div>"
      ],
      "text/plain": [
       "                AUROC  Predicted Share  Actual Share  True Positives  \\\n",
       "Lead Length                                                            \n",
       "1            0.911917         0.984838      0.984694             192   \n",
       "2                 NaN         0.974906      1.000000             192   \n",
       "3            0.554974         0.964083      0.989637             191   \n",
       "4            0.994709         0.945375      0.989529             189   \n",
       "5            0.721739         0.932101      0.973545             183   \n",
       "6            0.975275         0.914116      0.989130             181   \n",
       "7            0.977901         0.905794      0.994505             178   \n",
       "8            0.824022         0.894197      0.988950             174   \n",
       "9            0.812857         0.881855      0.977654             171   \n",
       "10           0.524854         0.879104      0.977143             167   \n",
       "11           0.742063         0.860386      0.982456             164   \n",
       "12           0.798193         0.849022      0.988095             162   \n",
       "13                NaN         0.836648      1.000000             160   \n",
       "14           0.935185         0.821331      0.975904             157   \n",
       "15           0.746875         0.816334      0.987654             154   \n",
       "16           0.886792         0.806782      0.993750             150   \n",
       "17           0.729299         0.795900      0.987421             148   \n",
       "18           0.769231         0.785612      0.993631             147   \n",
       "19           0.675381         0.770264      0.980769             140   \n",
       "20           0.486842         0.765156      0.993464             137   \n",
       "21           0.079470         0.752690      0.993421             135   \n",
       "22           0.479866         0.741158      0.986755             132   \n",
       "23           0.703448         0.728048      0.973154             126   \n",
       "24           0.859929         0.717591      0.972414             122   \n",
       "25           0.695588         0.713871      0.964539             117   \n",
       "26           0.585821         0.707660      0.985294             114   \n",
       "27           0.753788         0.699863      0.985075             113   \n",
       "28           0.954198         0.693778      0.992424             112   \n",
       "29           0.732558         0.687942      0.984733             110   \n",
       "30           0.842520         0.678882      0.984496             108   \n",
       "31           0.654472         0.670071      0.968504             102   \n",
       "32           0.885246         0.663752      0.991870              99   \n",
       "33           0.966942         0.654696      0.991803              98   \n",
       "34           0.916667         0.648958      0.991736              97   \n",
       "35           0.739496         0.641642      0.991667              95   \n",
       "36           0.706897         0.630917      0.974790              93   \n",
       "\n",
       "             False Negatives  False Positives  True Negatives Other Metrics:  \\\n",
       "Lead Length                                                                    \n",
       "1                          1                3               0                  \n",
       "2                          1                0               0                  \n",
       "3                          0                1               1                  \n",
       "4                          0                1               1                  \n",
       "5                          1                5               0                  \n",
       "6                          1                1               1                  \n",
       "7                          3                1               0                  \n",
       "8                          5                1               1                  \n",
       "9                          4                2               2                  \n",
       "10                         4                4               0                  \n",
       "11                         4                2               1                  \n",
       "12                         4                2               0                  \n",
       "13                         6                0               0                  \n",
       "14                         5                2               2                  \n",
       "15                         6                1               1                  \n",
       "16                         9                1               0                  \n",
       "17                         9                2               0                  \n",
       "18                         9                1               0                  \n",
       "19                        13                1               2                  \n",
       "20                        15                1               0                  \n",
       "21                        16                1               0                  \n",
       "22                        17                2               0                  \n",
       "23                        19                4               0                  \n",
       "24                        19                2               2                  \n",
       "25                        19                3               2                  \n",
       "26                        20                1               1                  \n",
       "27                        19                1               1                  \n",
       "28                        19                0               1                  \n",
       "29                        19                2               0                  \n",
       "30                        19                1               1                  \n",
       "31                        21                2               2                  \n",
       "32                        23                0               1                  \n",
       "33                        23                0               1                  \n",
       "34                        23                0               1                  \n",
       "35                        24                1               0                  \n",
       "36                        23                2               1                  \n",
       "\n",
       "                        C-Index  \n",
       "Lead Length                      \n",
       "1            0.7291262135922331  \n",
       "2                                \n",
       "3                                \n",
       "4                                \n",
       "5                                \n",
       "6                                \n",
       "7                                \n",
       "8                                \n",
       "9                                \n",
       "10                               \n",
       "11                               \n",
       "12                               \n",
       "13                               \n",
       "14                               \n",
       "15                               \n",
       "16                               \n",
       "17                               \n",
       "18                               \n",
       "19                               \n",
       "20                               \n",
       "21                               \n",
       "22                               \n",
       "23                               \n",
       "24                               \n",
       "25                               \n",
       "26                               \n",
       "27                               \n",
       "28                               \n",
       "29                               \n",
       "30                               \n",
       "31                               \n",
       "32                               \n",
       "33                               \n",
       "34                               \n",
       "35                               \n",
       "36                               "
      ]
     },
     "execution_count": 14,
     "metadata": {},
     "output_type": "execute_result"
    }
   ],
   "source": [
    "hyperoptimized_metrics = modeler.evaluate(evaluation_subset)\n",
    "hyperoptimized_metrics"
   ]
  },
  {
   "cell_type": "code",
   "execution_count": null,
   "metadata": {},
   "outputs": [],
   "source": []
  }
 ],
 "metadata": {
  "kernelspec": {
   "display_name": "Python 3",
   "language": "python",
   "name": "python3"
  },
  "language_info": {
   "codemirror_mode": {
    "name": "ipython",
    "version": 3
   },
   "file_extension": ".py",
   "mimetype": "text/x-python",
   "name": "python",
   "nbconvert_exporter": "python",
   "pygments_lexer": "ipython3",
   "version": "3.8.5"
  }
 },
 "nbformat": 4,
 "nbformat_minor": 4
}
